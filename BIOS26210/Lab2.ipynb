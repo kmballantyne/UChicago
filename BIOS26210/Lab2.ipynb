{
 "cells": [
  {
   "cell_type": "markdown",
   "metadata": {},
   "source": [
    "# Lab 2: graphical analysis of difference equations\n",
    "\n",
    "## Name:\n",
    "\n",
    "### Lab section: "
   ]
  },
  {
   "cell_type": "code",
   "execution_count": 1,
   "metadata": {},
   "outputs": [],
   "source": [
    "#Necessary imports\n",
    "import numpy as np #package for work with arrays and matrices\n",
    "import matplotlib.pyplot as plt #package with plotting capabilities"
   ]
  },
  {
   "cell_type": "markdown",
   "metadata": {},
   "source": [
    "## Introduction\n",
    "\n",
    "In this lab assignment we will use graphical methods to analyze discrete-time dynamic models and predict the behavior of their solutions. in particular population models with linear growth rates. In this assignment you will implement iterative solutions of these models and plot these solutions over time. There is also an exploratory part of the assignment, in which you will investigate the effect of stochasticity on population growth, found in lab2_code_examples.ipnyb\n",
    "\n",
    "You will need the following python coding skills,  which are illustrated in the lab2_code_examples.ipynb\n",
    " \n",
    " - Defining a function \n",
    " - Plotting the updating functions of a discrete-time dynamic model\n",
    " - Producing a cobweb plot of solutions based on the plot of the updating function"
   ]
  },
  {
   "cell_type": "markdown",
   "metadata": {},
   "source": [
    "## Part 1: linear population model\n",
    "\n",
    "Let us take the linear model with a constant term:\n",
    "\n",
    "$$ N(t+1)=rN(t)+a $$\n",
    "\n",
    "**1.1**\n",
    "\n",
    "1. Define a python function values with three inputs: N, r, and a that returns the value of the updating function above\n",
    "\n",
    "2. For parameter values $r=0.9$ and $a=10$, plot the updating function along with the identity line over a wide enough range to include all fixed point(s)\n",
    "\n",
    "3. Based on the plot, identify the fixed point(s) and determine their stability."
   ]
  },
  {
   "cell_type": "code",
   "execution_count": null,
   "metadata": {},
   "outputs": [],
   "source": []
  },
  {
   "cell_type": "markdown",
   "metadata": {},
   "source": [
    "(answers here)"
   ]
  },
  {
   "cell_type": "markdown",
   "metadata": {},
   "source": [
    "**1.2** Using the function you created, make one cobweb plot of the model for each fixed point to illustrate its stability. For example, if there is a stable fixed point at 30, show a plot of a solution starting substantially above or below it (e.g. 70) and converging to it."
   ]
  },
  {
   "cell_type": "code",
   "execution_count": null,
   "metadata": {},
   "outputs": [],
   "source": []
  },
  {
   "cell_type": "markdown",
   "metadata": {},
   "source": [
    "**1.3** Compute numeric solutions of the same model starting with the same initial value(s) you used in the cobweb plot(s), plot them over time, and describe how the behavior depends on initial value."
   ]
  },
  {
   "cell_type": "code",
   "execution_count": null,
   "metadata": {},
   "outputs": [],
   "source": []
  },
  {
   "cell_type": "markdown",
   "metadata": {},
   "source": [
    "(answers here)"
   ]
  },
  {
   "cell_type": "markdown",
   "metadata": {},
   "source": [
    "## Part 2: natural selection in a haploid population\n",
    "\n",
    "The following model describes the *frequency* $P$ of an allele $A$ in a haploid population, with parameter $V_A$ representing the *relative fitness* of $A$ compared to another allele $a$:\n",
    "\n",
    "$$ P(t+1) = \\frac{V_A P(t)}{V_A P(t) + (1 - P(t))}$$\n",
    "\n",
    "1. Define a Python function with two inputs (P and V) that returns the value of the updating function above\n",
    "\n",
    "2. For the given parameter values, plot the updating function along with the identity line over the biologically relevant range of variable P (allele frequency)\n",
    "\n",
    "3. Based on the plots, identify the fixed point(s) and determine their stability for each parameter value.\n",
    "\n",
    "4. Make a cobweb plot for a solution starting at a value between 0 and 1."
   ]
  },
  {
   "cell_type": "markdown",
   "metadata": {},
   "source": [
    "**2.1**  Use $V=0.5$ and perform the analysis outlined above. Comment on how the cobweb plot illustrates the stability of the fixed points."
   ]
  },
  {
   "cell_type": "code",
   "execution_count": null,
   "metadata": {},
   "outputs": [],
   "source": []
  },
  {
   "cell_type": "markdown",
   "metadata": {},
   "source": [
    "(answers here)"
   ]
  },
  {
   "cell_type": "markdown",
   "metadata": {},
   "source": [
    "**2.2**  Use $V=2$ and perform the analysis outlined above. Comment on how the cobweb plot illustrates the stability of the fixed points."
   ]
  },
  {
   "cell_type": "code",
   "execution_count": null,
   "metadata": {},
   "outputs": [],
   "source": []
  },
  {
   "cell_type": "markdown",
   "metadata": {},
   "source": [
    "(answers here)"
   ]
  },
  {
   "cell_type": "markdown",
   "metadata": {},
   "source": [
    "**2.3** Compute numeric solutions of the model (using the code template from lab 1) for $V=0.5$ and $V=2$, starting with the same initial value(s) you used in the cobweb plot(s), plot them over time, and describe how the behavior depends on initial value. Explain how the parameter $V$ controls the stability of the fixed point(s) and provide a brief biological explanation."
   ]
  },
  {
   "cell_type": "code",
   "execution_count": null,
   "metadata": {},
   "outputs": [],
   "source": []
  },
  {
   "cell_type": "markdown",
   "metadata": {},
   "source": [
    "(answers here)"
   ]
  },
  {
   "cell_type": "markdown",
   "metadata": {},
   "source": [
    "## Part 3: logistic population model\n"
   ]
  },
  {
   "cell_type": "markdown",
   "metadata": {},
   "source": [
    "Consider the logistic population model of the form\n",
    "\n",
    "$$ N(t+1) = N(t) (r - sN(t)) $$\n",
    "\n",
    "where $r$ is the *instrinsic growth rate* and $s$ is the *population dependence* parameter. Define a Python function for this model and use it for the tasks below.\n"
   ]
  },
  {
   "cell_type": "markdown",
   "metadata": {},
   "source": [
    "**3.1** Set $r=1.5$; explore a range of positive values of $s$ along a reasonable range. For each value of $s$ make graphs of the updating function that include both fixed points with cobweb plots to illustrate the dynamics of the solution that starts between the two fixed points. In your report pick a few (2-4) values of $s$ to illustrate your exploration and produce the above-mentioned plots; describe how changing the parameter $s$ impacts the qualitative behavior of solutions of the model (do they converge to a fixed poin, diverge to infinity, bounce around, etc.)"
   ]
  },
  {
   "cell_type": "code",
   "execution_count": null,
   "metadata": {},
   "outputs": [],
   "source": []
  },
  {
   "cell_type": "markdown",
   "metadata": {},
   "source": [
    "(answers here)"
   ]
  },
  {
   "cell_type": "markdown",
   "metadata": {},
   "source": [
    "**3.2** Set $s= 0.05$; vary $r$ along a range of positive values (e.g. between 0 and 5). For each value of $r$ make a graph of the updating function that includes both fixed points with cobweb plots to illustrate the dynamics of the solution that starts between the two fixed points. In your report pick a few (2-4) values of $r$ to illustrate your exploration and produce the above-mentioned plots; describe how changing the parameter $r$ impacts the qualitative behavior of solutions of the model (do they converge to a fixed poin, diverge to infinity, bounce around, etc."
   ]
  },
  {
   "cell_type": "code",
   "execution_count": null,
   "metadata": {},
   "outputs": [],
   "source": []
  },
  {
   "cell_type": "markdown",
   "metadata": {},
   "source": [
    "(answers here)"
   ]
  },
  {
   "cell_type": "markdown",
   "metadata": {},
   "source": [
    "**3.3** Pick a combination of parameter values $r$ and $s$ that you found in your exploration above that produces chaotic behavior. Use these values to demonstrate the phenomenon of sensitive dependence on initial conditions by computing two numeric solutions starting from almost identical (e.g. different by 1e-5) initial conditions and plot them together over a long enough time frame to show their divergence."
   ]
  },
  {
   "cell_type": "code",
   "execution_count": null,
   "metadata": {},
   "outputs": [],
   "source": []
  },
  {
   "cell_type": "markdown",
   "metadata": {},
   "source": [
    "(answers here)"
   ]
  }
 ],
 "metadata": {
  "kernelspec": {
   "display_name": "Python 3",
   "language": "python",
   "name": "python3"
  },
  "language_info": {
   "codemirror_mode": {
    "name": "ipython",
    "version": 3
   },
   "file_extension": ".py",
   "mimetype": "text/x-python",
   "name": "python",
   "nbconvert_exporter": "python",
   "pygments_lexer": "ipython3",
   "version": "3.8.8"
  }
 },
 "nbformat": 4,
 "nbformat_minor": 4
}
