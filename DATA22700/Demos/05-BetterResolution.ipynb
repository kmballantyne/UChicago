{
 "cells": [
  {
   "cell_type": "markdown",
   "metadata": {},
   "source": [
    "Warning: sometimes our graphs look bad because the resolution of the \n",
    "graph is poor.  This has a technical fix.  \n",
    "Here are some pointers to getting graphics out of MATPLOTLIB that look good when imported into other programs."
   ]
  },
  {
   "cell_type": "code",
   "execution_count": null,
   "metadata": {},
   "outputs": [],
   "source": [
    "import pandas as pd\n",
    "import matplotlib.pyplot as plt\n",
    "import numpy as np\n",
    "# imports data from Nat1988.txt which is about 810 Mb\n",
    "# and KEY1988.txt which is an ad-hoc table of columns and labels\n",
    "# https://ftp.cdc.gov/pub/Health_Statistics/NCHS/Datasets/DVS/natality/Nat1988.zip \n"
   ]
  },
  {
   "cell_type": "code",
   "execution_count": null,
   "metadata": {},
   "outputs": [],
   "source": [
    "def parse_natality(natalitydata, datadictionary):\n",
    "    '''Take in pandas dataframe natalitydata and list-of-lists datadictionary\n",
    "    (for example [[43, 44, \"MATERNALAGE\"]] ) and return a pandas dataframe (same \n",
    "    number of rows) with labeled columns  '''\n",
    "    df = pd.DataFrame()\n",
    "    for start, stop, column_name in datadictionary:\n",
    "        # Get the first column (start)\n",
    "        df[column_name] = natalitydata[0].str.get(start-1)\n",
    "        # Get the remaining columns\n",
    "        for i in range(1, stop-start + 1):\n",
    "            df[column_name]=  df[column_name].str.cat(natalitydata[0].str.get(start-1+i))\n",
    "    return df\n",
    "    for start, stop, column_name in datadictionary:\n",
    "        pd[column_name] = pd.to_numeric(pd[column_name])"
   ]
  },
  {
   "cell_type": "code",
   "execution_count": null,
   "metadata": {},
   "outputs": [],
   "source": [
    "# Load in a file of three columns into a list of lists, the first two elements of which are integers.\n",
    "# This is our table of column positions and column names\n",
    "key1988 = []\n",
    "for line in open(\"/Users/wltrimbl/git/VIZ/visualization-curriculum/KEY1988.txt\"):\n",
    "    fields = line.strip().split()\n",
    "    key1988.append([int(fields[0]), int(fields[1]), fields[2]])\n",
    "key1988\n"
   ]
  },
  {
   "cell_type": "code",
   "execution_count": null,
   "metadata": {},
   "outputs": [],
   "source": [
    "# Read the large (215 x 3.9million cells) data file into a pandas frame \n",
    "n1988 = pd.read_csv(\"~/Downloads/birth/NATL1988.txt\", header=None)"
   ]
  },
  {
   "cell_type": "code",
   "execution_count": null,
   "metadata": {},
   "outputs": [],
   "source": [
    "df = parse_natality(n1988, key1988)\n",
    "df.head()"
   ]
  },
  {
   "cell_type": "code",
   "execution_count": null,
   "metadata": {},
   "outputs": [],
   "source": [
    "# looks like I need to groupby both ONEMINUTEAPGAR and FIVEMINUTEAPGAR\n",
    "apgarapgarhist = df.groupby([\"ONEMINUTEAPGAR\", \"FIVEMINUTEAPGAR\"]).FIVEMINUTEAPGAR.count()\n"
   ]
  },
  {
   "cell_type": "code",
   "execution_count": null,
   "metadata": {},
   "outputs": [],
   "source": [
    "apgarapgar= np.reshape(np.array(apgarapgarhist), (12,12))\n",
    "# chop off unknown apgar scores\n",
    "apgarapgar = apgarapgar[0:11,0:11]"
   ]
  },
  {
   "cell_type": "code",
   "execution_count": null,
   "metadata": {},
   "outputs": [],
   "source": [
    "apgarapgar  # now it's just a numpy arary, so I don't have pandas \n",
    "# conveniences like .head()"
   ]
  },
  {
   "cell_type": "code",
   "execution_count": null,
   "metadata": {},
   "outputs": [],
   "source": [
    "# Exaggerated-color scale version\n",
    "#  https://matplotlib.org/stable/api/_as_gen/matplotlib.pyplot.savefig.html\n",
    "#  plt.savefig() claims to support PNG, EPS, PDF, and SVG, and does support JPG\n",
    "#  It stands to reason they have different optional arguments (resolution, quality, metadata)\n",
    "from matplotlib.colors import LogNorm\n",
    "\n",
    "plt.imshow((apgarapgar/apgarapgar.sum()), norm=LogNorm())\n",
    "plt.ylabel(\"One minute Apgar score\"), plt.xlabel(\"Five minute Apgar score\"); plt.colorbar()\n"
   ]
  },
  {
   "cell_type": "code",
   "execution_count": null,
   "metadata": {},
   "outputs": [],
   "source": [
    "# first, bigger axis labels\n",
    "plt.imshow((apgarapgar/apgarapgar.sum()), norm=LogNorm())\n",
    "plt.ylabel(\"One minute Apgar score\", fontsize=14)\n",
    "plt.xlabel(\"Five minute Apgar score\", fontsize=14) \n",
    "plt.colorbar()"
   ]
  },
  {
   "cell_type": "code",
   "execution_count": null,
   "metadata": {},
   "outputs": [],
   "source": [
    "# Next, bigger axis tick marks\n",
    "# first, bigger axis labels\n",
    "plt.imshow((apgarapgar/apgarapgar.sum()), norm=LogNorm())\n",
    "plt.ylabel(\"One minute Apgar score\", fontsize=14)\n",
    "plt.xlabel(\"Five minute Apgar score\", fontsize=14) \n",
    "plt.xticks(fontsize=13); plt.yticks(fontsize=13)\n",
    "plt.colorbar()\n"
   ]
  },
  {
   "cell_type": "code",
   "execution_count": null,
   "metadata": {},
   "outputs": [],
   "source": [
    "# Next, bigger color bar tick labels\n",
    "plt.imshow((apgarapgar/apgarapgar.sum()), norm=LogNorm())\n",
    "plt.ylabel(\"One minute Apgar score\", fontsize=14)\n",
    "plt.xlabel(\"Five minute Apgar score\", fontsize=14) \n",
    "plt.xticks(fontsize=13); plt.yticks(fontsize=13)\n",
    "cb = plt.colorbar()\n",
    "cb.ax.tick_params(labelsize=13) "
   ]
  },
  {
   "cell_type": "code",
   "execution_count": null,
   "metadata": {},
   "outputs": [],
   "source": [
    "plt.imshow((apgarapgar/apgarapgar.sum()), norm=LogNorm())\n",
    "plt.ylabel(\"One minute Apgar score\", fontsize=14)\n",
    "plt.xlabel(\"Five minute Apgar score\", fontsize=14) \n",
    "plt.xticks(fontsize=13); plt.yticks(fontsize=13)\n",
    "cb = plt.colorbar()\n",
    "cb.ax.tick_params(labelsize=13) \n",
    "plt.savefig(\"APGAR.png\")"
   ]
  },
  {
   "cell_type": "code",
   "execution_count": null,
   "metadata": {},
   "outputs": [],
   "source": [
    "# savefig results in a below-presentation-standard graphic:\n",
    "!exiftool APGAR.png\n",
    "#  432 x 288 pixels!! No wonder it looks crummy.  "
   ]
  },
  {
   "cell_type": "code",
   "execution_count": null,
   "metadata": {},
   "outputs": [],
   "source": [
    "# Let us marginalize over output formats...\n",
    "plt.imshow((apgarapgar/apgarapgar.sum()), norm=LogNorm())\n",
    "plt.ylabel(\"One minute Apgar score\", fontsize=14)\n",
    "plt.xlabel(\"Five minute Apgar score\", fontsize=14) \n",
    "plt.xticks(fontsize=13); plt.yticks(fontsize=13)\n",
    "cb = plt.colorbar()\n",
    "cb.ax.tick_params(labelsize=13) \n",
    "plt.savefig(\"APGAR.jpg\")\n",
    "plt.savefig(\"APGAR.pdf\")\n",
    "plt.savefig(\"APGAR.svg\")\n",
    "plt.savefig(\"APGAR.png\")\n",
    "plt.savefig(\"APGAR.eps\")"
   ]
  },
  {
   "cell_type": "code",
   "execution_count": null,
   "metadata": {},
   "outputs": [],
   "source": [
    "!ls -lh APGAR.???\n",
    "# So some are bigger than others.  \n",
    "# Here JPG and PNG are bitmap formats,\n",
    "# EPS and PDF are container formats that *can* contain \n",
    "# vector graphics if they are created properly, and \n",
    "# SVG is a vector format that isn't widely supported.\n",
    "\n",
    "# Why create so many files?  To check which ones I can use\n",
    "# downstream."
   ]
  },
  {
   "cell_type": "code",
   "execution_count": null,
   "metadata": {},
   "outputs": [],
   "source": [
    "# For my presentation software, I can import EPS and SVG.\n",
    "# If I was completely stuck with the bitmap formats, \n",
    "# I could improve the quality by increasing the resolution:"
   ]
  },
  {
   "cell_type": "code",
   "execution_count": null,
   "metadata": {},
   "outputs": [],
   "source": [
    "plt.imshow((apgarapgar/apgarapgar.sum()), norm=LogNorm())\n",
    "plt.ylabel(\"One minute Apgar score\", fontsize=14)\n",
    "plt.xlabel(\"Five minute Apgar score\", fontsize=14) \n",
    "plt.xticks(fontsize=13); plt.yticks(fontsize=13)\n",
    "cb = plt.colorbar()\n",
    "cb.ax.tick_params(labelsize=13) \n",
    "plt.savefig(\"APGAR300.png\", dpi=300)\n"
   ]
  },
  {
   "cell_type": "code",
   "execution_count": null,
   "metadata": {},
   "outputs": [],
   "source": [
    "!exiftool APGAR300.png # and now it's 1800x1200 and 62kB\n",
    "# It looks good enough for anywhere I am going to put it,\n",
    "# but it is not infinitely zoomable like EPS or SVG."
   ]
  },
  {
   "cell_type": "code",
   "execution_count": null,
   "metadata": {},
   "outputs": [],
   "source": []
  }
 ],
 "metadata": {
  "kernelspec": {
   "display_name": "Python 3 (ipykernel)",
   "language": "python",
   "name": "python3"
  },
  "language_info": {
   "codemirror_mode": {
    "name": "ipython",
    "version": 3
   },
   "file_extension": ".py",
   "mimetype": "text/x-python",
   "name": "python",
   "nbconvert_exporter": "python",
   "pygments_lexer": "ipython3",
   "version": "3.9.12"
  }
 },
 "nbformat": 4,
 "nbformat_minor": 4
}
