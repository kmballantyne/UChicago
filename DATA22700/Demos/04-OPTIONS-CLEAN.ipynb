{
 "cells": [
  {
   "cell_type": "markdown",
   "metadata": {},
   "source": [
    "![Control panel at Three Mile Island generating station](controlroomTMI.jpg \"The Control Panel\")"
   ]
  },
  {
   "cell_type": "markdown",
   "metadata": {},
   "source": [
    "## Basic plotting: bar charts and histograms with altair, matplotlib, and plotnine"
   ]
  },
  {
   "cell_type": "markdown",
   "metadata": {},
   "source": [
    "ipython has \"magic\" commands, %pwd, %cd, which are intended to make life easier for humans, like showing our directory and letting us change directory."
   ]
  },
  {
   "cell_type": "code",
   "execution_count": null,
   "metadata": {},
   "outputs": [],
   "source": [
    "# Let us first handle the preliminary imports\n",
    "import pandas as pd\n",
    "import altair as alt\n",
    "import plotnine as p9"
   ]
  },
  {
   "cell_type": "markdown",
   "metadata": {},
   "source": [
    "Note: you can import all of the functions\n",
    "defined in a module with \n",
    "    from pandas import *\n",
    "This means less typing (good for interactive programming)\n",
    "but also obscures which code comes from which library."
   ]
  },
  {
   "cell_type": "code",
   "execution_count": null,
   "metadata": {},
   "outputs": [],
   "source": [
    "rainfall = pd.read_csv(\"cities.csv\",delimiter=\"\\t\")"
   ]
  },
  {
   "cell_type": "code",
   "execution_count": null,
   "metadata": {},
   "outputs": [],
   "source": [
    "head(rainfall)"
   ]
  },
  {
   "cell_type": "markdown",
   "metadata": {},
   "source": [
    "Sorry about that, .head() is a method that belongs to pandas data frames.. I have to call df.head()"
   ]
  },
  {
   "cell_type": "code",
   "execution_count": null,
   "metadata": {},
   "outputs": [],
   "source": [
    "rainfall.head()"
   ]
  },
  {
   "cell_type": "code",
   "execution_count": null,
   "metadata": {},
   "outputs": [],
   "source": [
    "# Let's just quick check what data types this has:\n",
    "print(rainfall[\"Days\"].dtype)\n",
    "print(rainfall[\"City, State\"].dtype)\n",
    "print(rainfall[\"Inches\"].dtype)\n",
    "print(rainfall[\"Milimeters\"].dtype)"
   ]
  },
  {
   "cell_type": "code",
   "execution_count": null,
   "metadata": {},
   "outputs": [],
   "source": [
    "rainfall.dtypes"
   ]
  },
  {
   "cell_type": "code",
   "execution_count": null,
   "metadata": {},
   "outputs": [],
   "source": [
    "# I can add a new column that is easier to type:\n",
    "rainfall[\"City\"] = rainfall[\"City, State\"]\n"
   ]
  },
  {
   "cell_type": "code",
   "execution_count": null,
   "metadata": {},
   "outputs": [],
   "source": [
    "# basic, altair-defaults bar chart:\n",
    "alt.Chart(rainfall).mark_bar().encode(alt.X(\"City\"), alt.Y(\"Milimeters\"))"
   ]
  },
  {
   "cell_type": "code",
   "execution_count": null,
   "metadata": {},
   "outputs": [],
   "source": [
    "# basic, altair-defaults bar chart:\n",
    "alt.Chart(rainfall).mark_bar().encode(alt.X(\"City:N\"), alt.Y(\"Milimeters:Q\"))"
   ]
  },
  {
   "cell_type": "code",
   "execution_count": null,
   "metadata": {},
   "outputs": [],
   "source": [
    "# basic, altair-defaults dot chart:\n",
    "alt.Chart(rainfall).mark_point().encode(alt.X(\"City:N\"), alt.Y(\"Milimeters:Q\"))"
   ]
  },
  {
   "cell_type": "code",
   "execution_count": null,
   "metadata": {},
   "outputs": [],
   "source": [
    "# basic, altair-defaults line chart:\n",
    "alt.Chart(rainfall).mark_line().encode(alt.X(\"City:N\"), alt.Y(\"Milimeters:Q\"))"
   ]
  },
  {
   "cell_type": "code",
   "execution_count": null,
   "metadata": {},
   "outputs": [],
   "source": [
    "# We can put the city names in y, where they are easier to read:\n",
    "alt.Chart(rainfall).mark_bar().encode(\n",
    "    alt.Y(\"City:N\"), \n",
    "    alt.X(\"Milimeters:Q\"))"
   ]
  },
  {
   "cell_type": "code",
   "execution_count": null,
   "metadata": {},
   "outputs": [],
   "source": [
    "# And we can instruct altair to sort by rainfall in \"Milimeters\" column:\n",
    "alt.Chart(rainfall).mark_bar().encode(\n",
    "    alt.Y(\"City:N\", sort=alt.Sort(field=\"Milimeters\")), \n",
    "    alt.X(\"Milimeters:Q\", sort=\"ascending\"))"
   ]
  },
  {
   "cell_type": "code",
   "execution_count": null,
   "metadata": {
    "tags": []
   },
   "outputs": [],
   "source": [
    "# Can I sort my data?  \n",
    "alt.Chart(rainfall.sort_values(\"Milimeters\")).mark_bar().encode(\n",
    "    alt.Y(\"City:N\"), \n",
    "    alt.X(\"Milimeters:Q\", sort=\"ascending\"))"
   ]
  },
  {
   "cell_type": "code",
   "execution_count": null,
   "metadata": {},
   "outputs": [],
   "source": []
  },
  {
   "cell_type": "markdown",
   "metadata": {},
   "source": [
    "Note, the syntax here (the precise magical incantation to cause the sorting) is *not* at all obvious.  We have to look this up in the altair documentation: \n",
    "https://altair-viz.github.io/user_guide/generated/channels/altair.X.html\n",
    "\n",
    "We can reverse the order by making the \"sort\" argument to alt.Y a more complex alt.Sort object:"
   ]
  },
  {
   "cell_type": "code",
   "execution_count": null,
   "metadata": {},
   "outputs": [],
   "source": []
  },
  {
   "cell_type": "code",
   "execution_count": null,
   "metadata": {},
   "outputs": [],
   "source": [
    "alt.Chart(rainfall).mark_bar().encode(alt.Y(\"City:N\", sort=alt.Sort(field=\"Milimeters\", order=\"descending\")), alt.X(\"Milimeters:Q\"))"
   ]
  },
  {
   "cell_type": "markdown",
   "metadata": {},
   "source": [
    "That was altair's default.   Now what do we remember about the matplotlib API...\n",
    "we can generate plots three ways:\n",
    "* data.plot()\n",
    "* plt.plot(data)\n",
    "* *    fig,ax = plt.subplot()  \n",
    "* *  ax.plot(data)"
   ]
  },
  {
   "cell_type": "code",
   "execution_count": null,
   "metadata": {},
   "outputs": [],
   "source": [
    "import matplotlib.pyplot as plt\n"
   ]
  },
  {
   "cell_type": "code",
   "execution_count": null,
   "metadata": {},
   "outputs": [],
   "source": [
    "plt.bar(rainfall[\"City\"], rainfall[\"Milimeters\"])"
   ]
  },
  {
   "cell_type": "code",
   "execution_count": null,
   "metadata": {},
   "outputs": [],
   "source": [
    "# This is not acceptable.  Perhaps the documentation will help?\n",
    "plt.bar?"
   ]
  },
  {
   "cell_type": "code",
   "execution_count": null,
   "metadata": {},
   "outputs": [],
   "source": [
    "# This doesn't help.  But a quick search reveals the solution:\n",
    "plt.bar(rainfall[\"City\"], rainfall[\"Milimeters\"])\n",
    "plt.xticks(rotation=90)\n",
    "1\n",
    "# I was able to use this only because xticks() is exposed in the plt interface."
   ]
  },
  {
   "cell_type": "code",
   "execution_count": null,
   "metadata": {},
   "outputs": [],
   "source": [
    "plt.bar(rainfall[\"City\"], rainfall[\"Milimeters\"])\n",
    "plt.xticks(rotation=90)\n",
    "plt.ylabel(\"Annual rainfall, mm\")\n",
    "plt.title(\"The rain falls on the plains, just less of it\")\n",
    "1"
   ]
  },
  {
   "cell_type": "code",
   "execution_count": null,
   "metadata": {},
   "outputs": [],
   "source": [
    "print(len(rainfall))\n",
    "rainfall.head()"
   ]
  },
  {
   "cell_type": "code",
   "execution_count": null,
   "metadata": {},
   "outputs": [],
   "source": [
    "rainfallsorted =rainfall.sort_values(by = \"Milimeters\")\n",
    "rainfallsorted"
   ]
  },
  {
   "cell_type": "code",
   "execution_count": null,
   "metadata": {},
   "outputs": [],
   "source": [
    "plt.bar(rainfallsorted[\"City\"], rainfallsorted[\"Milimeters\"])\n",
    "plt.xticks(rotation=90)\n",
    "plt.ylabel(\"Annual rainfall, mm\")\n",
    "plt.title(\"The rain falls on the plains, just less of it [MATPLOTLIB]\")\n",
    "1"
   ]
  },
  {
   "cell_type": "code",
   "execution_count": null,
   "metadata": {},
   "outputs": [],
   "source": [
    "# I can do the same horizontally:\n",
    "# plt.barh(y_axis,x_axis)\n",
    "plt.barh(rainfallsorted[\"City\"], rainfallsorted[\"Milimeters\"])\n",
    "plt.xticks(rotation=90)\n",
    "plt.ylabel(\"Annual rainfall, mm\")\n",
    "plt.title(\"The rain falls on the plains, just less of it [MATPLOTLIB]\")\n",
    "1"
   ]
  },
  {
   "cell_type": "code",
   "execution_count": null,
   "metadata": {},
   "outputs": [],
   "source": [
    "import plotnine as p9"
   ]
  },
  {
   "cell_type": "code",
   "execution_count": null,
   "metadata": {},
   "outputs": [],
   "source": [
    "#  p9.ggplot(data=surveys_complete, mapping=p9.aes(x='factor(year)')) + p9.geom_bar()    \n",
    "\n",
    "p9.ggplot(data=rainfall, mapping=p9.aes(x=\"City\", y=\"Milimeters\")) + p9.geom_bar(stat=\"identity\")"
   ]
  },
  {
   "cell_type": "code",
   "execution_count": null,
   "metadata": {},
   "outputs": [],
   "source": [
    "p9.ggplot(data=rainfall, mapping=p9.aes(x=\"City\", y=\"Milimeters\")) + p9.geom_bar(stat=\"identity\")+  p9.coord_flip()"
   ]
  },
  {
   "cell_type": "code",
   "execution_count": null,
   "metadata": {},
   "outputs": [],
   "source": [
    "p9.ggplot(data=rainfallsorted, mapping=p9.aes(x=\"City\", y=\"Milimeters\")) + p9.geom_bar(stat=\"identity\") + p9.theme(axis_text_x = p9.element_text(angle = 90))"
   ]
  },
  {
   "cell_type": "code",
   "execution_count": null,
   "metadata": {},
   "outputs": [],
   "source": [
    "import seaborn as sns"
   ]
  },
  {
   "cell_type": "code",
   "execution_count": null,
   "metadata": {},
   "outputs": [],
   "source": [
    "ax = sns.barplot(x=\"Milimeters\", y=\"City\", data=rainfall)"
   ]
  },
  {
   "cell_type": "code",
   "execution_count": null,
   "metadata": {},
   "outputs": [],
   "source": [
    "Oh, my.  Well.  Surely there is a knob somewhere that changes the color scheme?"
   ]
  },
  {
   "cell_type": "code",
   "execution_count": null,
   "metadata": {},
   "outputs": [],
   "source": [
    "ax = sns.barplot(x=\"Milimeters\", y=\"City\", data=rainfallsorted)"
   ]
  },
  {
   "cell_type": "code",
   "execution_count": null,
   "metadata": {},
   "outputs": [],
   "source": [
    "sns.set_theme(style=\"whitegrid\")\n",
    "ax = sns.barplot(x=\"Milimeters\", y=\"City\", data=rainfallsorted)"
   ]
  },
  {
   "cell_type": "code",
   "execution_count": null,
   "metadata": {},
   "outputs": [],
   "source": [
    "sns.set_style(\"dark\")\n",
    "ax = sns.barplot(x=\"Milimeters\", y=\"City\", data=rainfallsorted)"
   ]
  },
  {
   "cell_type": "code",
   "execution_count": null,
   "metadata": {},
   "outputs": [],
   "source": [
    "sns.set_style(\"darkgrid\")\n",
    "ax = sns.barplot(x=\"Milimeters\", y=\"City\", data=rainfallsorted)"
   ]
  },
  {
   "cell_type": "code",
   "execution_count": null,
   "metadata": {},
   "outputs": [],
   "source": [
    "Ok, set_style is not going to get me out of pastel rainbow decorative bar colors."
   ]
  },
  {
   "cell_type": "code",
   "execution_count": null,
   "metadata": {},
   "outputs": [],
   "source": [
    "sns.color_palette(\"rocket\")\n",
    "ax = sns.barplot(x=\"Milimeters\", y=\"City\", data=rainfallsorted)"
   ]
  },
  {
   "cell_type": "code",
   "execution_count": null,
   "metadata": {},
   "outputs": [],
   "source": [
    "# That didn't do it either.\n",
    "ax = sns.barplot(x=\"Milimeters\", y=\"City\", data=rainfallsorted, palette=\"rocket\")\n"
   ]
  },
  {
   "cell_type": "code",
   "execution_count": null,
   "metadata": {},
   "outputs": [],
   "source": [
    "ax = sns.barplot(x=\"Milimeters\", y=\"City\", data=rainfallsorted, palette=\"ch:start=.2,rot=-.3\")\n"
   ]
  },
  {
   "cell_type": "markdown",
   "metadata": {},
   "source": [
    "![City of Chicago](city-of-chicago.jpg \"Chicago logo\")"
   ]
  },
  {
   "cell_type": "code",
   "execution_count": null,
   "metadata": {},
   "outputs": [],
   "source": [
    "salary=pd.read_csv(\"Current_Employee_Names__Salaries__and_Position_Titles.csv\")"
   ]
  },
  {
   "cell_type": "code",
   "execution_count": null,
   "metadata": {},
   "outputs": [],
   "source": [
    "salary.head()"
   ]
  },
  {
   "cell_type": "code",
   "execution_count": null,
   "metadata": {},
   "outputs": [],
   "source": [
    "len(salary)"
   ]
  },
  {
   "cell_type": "code",
   "execution_count": null,
   "metadata": {},
   "outputs": [],
   "source": [
    "salary.dtypes"
   ]
  },
  {
   "cell_type": "code",
   "execution_count": null,
   "metadata": {},
   "outputs": [],
   "source": [
    "salary[\"Salary or Hourly\"]"
   ]
  },
  {
   "cell_type": "code",
   "execution_count": null,
   "metadata": {},
   "outputs": [],
   "source": [
    "salary[\"Salary or Hourly\"] == \"Salary\""
   ]
  },
  {
   "cell_type": "code",
   "execution_count": null,
   "metadata": {},
   "outputs": [],
   "source": []
  },
  {
   "cell_type": "code",
   "execution_count": null,
   "metadata": {},
   "outputs": [],
   "source": [
    "salary[salary[\"Salary or Hourly\"] == \"Salary\"]\n"
   ]
  },
  {
   "cell_type": "code",
   "execution_count": null,
   "metadata": {},
   "outputs": [],
   "source": [
    "salaried = salary[salary[\"Salary or Hourly\"] == \"Salary\"]\n",
    "hourly = salary[salary[\"Salary or Hourly\"] == \"Hourly\"]"
   ]
  },
  {
   "cell_type": "code",
   "execution_count": null,
   "metadata": {},
   "outputs": [],
   "source": [
    "print(len(salaried))\n",
    "print(len(hourly))"
   ]
  },
  {
   "cell_type": "code",
   "execution_count": null,
   "metadata": {},
   "outputs": [],
   "source": [
    "len(salary)"
   ]
  },
  {
   "cell_type": "code",
   "execution_count": null,
   "metadata": {},
   "outputs": [],
   "source": [
    "plt.hist(salaried[\"Annual Salary\"])"
   ]
  },
  {
   "cell_type": "code",
   "execution_count": null,
   "metadata": {},
   "outputs": [],
   "source": [
    "salary[\"Annual Salary fix\"] = pd.to_numeric(salary[\"Annual Salary\"].str.replace(\",\", \"\"))"
   ]
  },
  {
   "cell_type": "code",
   "execution_count": null,
   "metadata": {},
   "outputs": [],
   "source": [
    "pd.to_numeric(salary[\"Annual Salary\"].str.replace(\",\", \"\"))"
   ]
  },
  {
   "cell_type": "code",
   "execution_count": null,
   "metadata": {},
   "outputs": [],
   "source": [
    "salary[\"Annual Salary fix\"].dtype"
   ]
  },
  {
   "cell_type": "code",
   "execution_count": null,
   "metadata": {},
   "outputs": [],
   "source": [
    "plt.hist(salary[\"Annual Salary fix\"])"
   ]
  },
  {
   "cell_type": "code",
   "execution_count": null,
   "metadata": {},
   "outputs": [],
   "source": [
    "plt.hist(salary[\"Annual Salary fix\"], bins=30)"
   ]
  },
  {
   "cell_type": "code",
   "execution_count": null,
   "metadata": {},
   "outputs": [],
   "source": [
    "plt.hist(salary[\"Annual Salary fix\"], bins=30)\n",
    "plt.xlabel(\"Annual salary, $\")"
   ]
  },
  {
   "cell_type": "code",
   "execution_count": null,
   "metadata": {},
   "outputs": [],
   "source": [
    "a = pd.to_numeric(salary[\"Hourly Rate\"].str.replace(\",\", \"\"))\n",
    "a.head()"
   ]
  },
  {
   "cell_type": "code",
   "execution_count": null,
   "metadata": {},
   "outputs": [],
   "source": [
    "import altair as alt\n",
    "alt.Chart(salary[0:5000]).mark_bar().encode(alt.X(\"Annual Salary fix:Q\", bin=True), y=\"count()\")"
   ]
  },
  {
   "cell_type": "code",
   "execution_count": null,
   "metadata": {},
   "outputs": [],
   "source": [
    "salary[0:1000]"
   ]
  },
  {
   "cell_type": "code",
   "execution_count": null,
   "metadata": {},
   "outputs": [],
   "source": [
    "salaried = salary[salary[\"Salary or Hourly\"] == \"Salary\"]\n",
    "hourly = salary[salary[\"Salary or Hourly\"] == \"Hourly\"]"
   ]
  },
  {
   "cell_type": "code",
   "execution_count": null,
   "metadata": {},
   "outputs": [],
   "source": [
    "alt.Chart(salaried[0:10]).mark_bar().encode(alt.X(\"Annual Salary:Q\", bin=True), alt.Y(\"count()\"))"
   ]
  },
  {
   "cell_type": "code",
   "execution_count": null,
   "metadata": {},
   "outputs": [],
   "source": [
    "# And if I want more resolution, I replace bin=True with  bin=alt.Bin(maxbins=N)"
   ]
  },
  {
   "cell_type": "code",
   "execution_count": null,
   "metadata": {},
   "outputs": [],
   "source": [
    "salaried[\"Annual Salary fix\"]"
   ]
  },
  {
   "cell_type": "code",
   "execution_count": null,
   "metadata": {},
   "outputs": [],
   "source": [
    "salary[\"Department\"].value_counts()"
   ]
  },
  {
   "cell_type": "code",
   "execution_count": null,
   "metadata": {},
   "outputs": [],
   "source": [
    "import altair as alt\n",
    "alt.Chart(salary[0:1000]).mark_bar().encode(alt.X(\"Annual Salary fix:Q\", bin=True), y=\"count()\", color=\"Department\")"
   ]
  },
  {
   "cell_type": "code",
   "execution_count": null,
   "metadata": {},
   "outputs": [],
   "source": [
    "topdepts = salary[\"Department\"].value_counts()[0:9]"
   ]
  },
  {
   "cell_type": "code",
   "execution_count": null,
   "metadata": {},
   "outputs": [],
   "source": [
    "topdepts"
   ]
  },
  {
   "cell_type": "code",
   "execution_count": null,
   "metadata": {},
   "outputs": [],
   "source": []
  },
  {
   "cell_type": "code",
   "execution_count": null,
   "metadata": {},
   "outputs": [],
   "source": [
    "alt.Chart(salary[0:1000]).mark_bar().encode(alt.X(\"Annual Salary fix:Q\", bin=alt.Bin(maxbins=30)), y=\"count()\", color=\"Department\")"
   ]
  },
  {
   "cell_type": "code",
   "execution_count": null,
   "metadata": {},
   "outputs": [],
   "source": [
    "topdepts = salary[\"Department\"].value_counts()[0:9]"
   ]
  },
  {
   "cell_type": "code",
   "execution_count": null,
   "metadata": {},
   "outputs": [],
   "source": [
    "topdepts\n"
   ]
  },
  {
   "cell_type": "code",
   "execution_count": null,
   "metadata": {},
   "outputs": [],
   "source": [
    "topdepts.index"
   ]
  },
  {
   "cell_type": "code",
   "execution_count": null,
   "metadata": {},
   "outputs": [],
   "source": [
    "deptwhitelist = set (topdepts.index)"
   ]
  },
  {
   "cell_type": "code",
   "execution_count": null,
   "metadata": {},
   "outputs": [],
   "source": [
    "\"PUBLIC LIBRARY\" in deptwhitelist\n"
   ]
  },
  {
   "cell_type": "code",
   "execution_count": null,
   "metadata": {},
   "outputs": [],
   "source": [
    "\"HOGWARTS\" in deptwhitelist"
   ]
  },
  {
   "cell_type": "code",
   "execution_count": null,
   "metadata": {},
   "outputs": [],
   "source": [
    "\"BOARD OF ETHICS\" in deptwhitelist"
   ]
  },
  {
   "cell_type": "code",
   "execution_count": null,
   "metadata": {},
   "outputs": [],
   "source": [
    "salary[\"Department_clean\"] = salary[\"Department\"]"
   ]
  },
  {
   "cell_type": "code",
   "execution_count": null,
   "metadata": {},
   "outputs": [],
   "source": [
    "for i in salary.index:\n",
    "    if i < 10:\n",
    "        print(salary.Department_clean[i])\n",
    "    if salary.Department_clean[i] not in deptwhitelist:\n",
    "        salary.Department_clean[i] = \"OTHER\"\n"
   ]
  },
  {
   "cell_type": "code",
   "execution_count": null,
   "metadata": {},
   "outputs": [],
   "source": [
    "salary.Department.value_counts()"
   ]
  },
  {
   "cell_type": "code",
   "execution_count": null,
   "metadata": {},
   "outputs": [],
   "source": [
    "salary.Department_clean.value_counts()"
   ]
  },
  {
   "cell_type": "code",
   "execution_count": null,
   "metadata": {},
   "outputs": [],
   "source": [
    "alt.Chart(salary[0:5000]).mark_bar().encode(alt.X(\"Annual Salary fix:Q\", bin=alt.Bin(maxbins=30)), y=\"count()\", color=\"Department_clean\")"
   ]
  },
  {
   "cell_type": "code",
   "execution_count": null,
   "metadata": {},
   "outputs": [],
   "source": []
  }
 ],
 "metadata": {
  "kernelspec": {
   "display_name": "Python 3 (ipykernel)",
   "language": "python",
   "name": "python3"
  },
  "language_info": {
   "codemirror_mode": {
    "name": "ipython",
    "version": 3
   },
   "file_extension": ".py",
   "mimetype": "text/x-python",
   "name": "python",
   "nbconvert_exporter": "python",
   "pygments_lexer": "ipython3",
   "version": "3.9.12"
  }
 },
 "nbformat": 4,
 "nbformat_minor": 4
}
