{
 "cells": [
  {
   "cell_type": "code",
   "execution_count": 7,
   "metadata": {},
   "outputs": [],
   "source": [
    "import pandas as pd\n",
    "import numpy as np\n",
    "import matplotlib.pyplot as plt\n",
    "import time\n",
    "n1988 = pd.read_csv(\"~/Downloads/birth/NATL1988.txt\")\n"
   ]
  },
  {
   "cell_type": "code",
   "execution_count": null,
   "metadata": {},
   "outputs": [],
   "source": [
    "# https://www.cdc.gov/nchs/data_access/vitalstatsonline.htm \n",
    "# This notebook uses Nat1988.txt which is about 810 Mb.\n",
    "# https://ftp.cdc.gov/pub/Health_Statistics/NCHS/Datasets/DVS/natality/Nat1988.zip \n",
    "\n",
    "# From the documentation of the detail natality file for 1990 data:\n",
    "# NCHS has adopted a new policy on release of vital statistics unit record\n",
    "# data files.  This new policy was implemented for the 1989 vital event\n",
    "# files to prevent the inadvertent disclosure of individuals and institutions.\n",
    "# As a result, the files for 1989 and later years do not contain the\n",
    "# acutal day or the birth or the dates of birth of the mother or father.\n",
    "# The geographic detail is also restricted..."
   ]
  },
  {
   "cell_type": "code",
   "execution_count": 9,
   "metadata": {},
   "outputs": [],
   "source": [
    "n1988 = pd.read_csv(\"~/Downloads/birth/NATL1988.txt\", header=None)"
   ]
  },
  {
   "cell_type": "code",
   "execution_count": 10,
   "metadata": {},
   "outputs": [
    {
     "data": {
      "text/plain": [
       "Int64Index([0], dtype='int64')"
      ]
     },
     "execution_count": 10,
     "metadata": {},
     "output_type": "execute_result"
    }
   ],
   "source": [
    "n1988.columns"
   ]
  },
  {
   "cell_type": "markdown",
   "metadata": {},
   "source": [
    "Now I have a single column, creatively named \"0\""
   ]
  },
  {
   "cell_type": "code",
   "execution_count": 139,
   "metadata": {},
   "outputs": [
    {
     "data": {
      "text/plain": [
       "0          8010      110100299991771630100263211111231012...\n",
       "1          8010      110100699990002630100663219223160304...\n",
       "2          8010      110100699990002630100663212223241113...\n",
       "3          8010      110100699990002630100663119223241113...\n",
       "4          8010      110100699990002630100663219223261314...\n",
       "                                 ...                        \n",
       "3913788    8520      115101199990002835101183111111190607...\n",
       "3913789    8520      115101199990002835101183119111200709...\n",
       "3913790    8520      115101199990002835101183219111241113...\n",
       "3913791    8520      115101599990002835101583111111291614...\n",
       "3913792    8520      115102099990002835102083231111271414...\n",
       "Name: 0, Length: 3913793, dtype: object"
      ]
     },
     "execution_count": 139,
     "metadata": {},
     "output_type": "execute_result"
    }
   ],
   "source": [
    "n1988[0]"
   ]
  },
  {
   "cell_type": "markdown",
   "metadata": {},
   "source": [
    "And you can see I have an index running from 0 to 3,913,792"
   ]
  },
  {
   "cell_type": "markdown",
   "metadata": {},
   "source": [
    "This is a row.. How long is it?"
   ]
  },
  {
   "cell_type": "markdown",
   "metadata": {},
   "source": [
    "It looks like I can access columns with square brackets and a column number."
   ]
  },
  {
   "cell_type": "code",
   "execution_count": null,
   "metadata": {},
   "outputs": [],
   "source": [
    "dir(pf.MATERNALAGE.value_counts())"
   ]
  },
  {
   "cell_type": "code",
   "execution_count": null,
   "metadata": {},
   "outputs": [],
   "source": [
    "# So the first data parser I wrote is here. \n",
    "# It's slow, and I don't want to edit it every time\n",
    "# a new column comes to my attention.\n",
    "\n",
    "# Loop over the data, get columns 84-87 (month and date of birth)\n",
    "# put it into a list, and finally put the list into a dataframe.\n",
    "p = []\n",
    "q = []\n",
    "for i in n1988.index:\n",
    "    p.append(n1988[0][i][(84-1):(85-1+1)]) # MONTH\n",
    "    q.append(n1988[0][i][(86-1):(87-1+1)]) # DAY\n",
    "birthdate = pd.DataFrame({\"MONTH\": p, \"DAY\":q})"
   ]
  },
  {
   "cell_type": "markdown",
   "metadata": {},
   "source": [
    "Looking at the description...\n",
    "\n",
    "![Data description](FIELDS.jpg \"Exceprt from data description showing Date and month fields\")\n",
    "\n",
    "To get the data into our computing environment, we have three tasks:\n",
    "1. extract columns (with the right field width)\n",
    "2. associate columns with human-readable names \n",
    "3. decode symbols \n",
    "\n",
    "If we can put the layout of the database **into data, instead of code**, we can expand the scope of our investigation by modifying data, *not code*.  This will work well for us."
   ]
  },
  {
   "cell_type": "code",
   "execution_count": null,
   "metadata": {},
   "outputs": [],
   "source": [
    "# let's start with trying to use data to specify the layout,\n",
    "# write a parser that generates a dataframe with column names,\n",
    "# and we can expand to more columns (and decode the symbols) later.\n"
   ]
  },
  {
   "cell_type": "code",
   "execution_count": null,
   "metadata": {},
   "outputs": [],
   "source": []
  },
  {
   "cell_type": "code",
   "execution_count": 13,
   "metadata": {},
   "outputs": [],
   "source": [
    "# Let us start with something like these fields (which do not require decoding)\n",
    "# This is a (pure python) list of lists\n",
    "#  [ [startcolumn, stopcolumn, fieldname] ] \n",
    "dict1988 =[\n",
    "    [84, 85, \"MONTHOFBIRTH\"],\n",
    "    [86, 87, \"DAYOFMONTH\"],\n",
    "]\n",
    "# Since this is our data structure for our use, we can use any data type that works;\n",
    "# there is no requirement that we use pandas or numpy here.\n"
   ]
  },
  {
   "cell_type": "markdown",
   "metadata": {
    "jupyter": {
     "outputs_hidden": true
    }
   },
   "source": [
    "# Now, to organize my thoughts, I'm going to write a function prototype with a docstring that tells me what I need and what I promise to deliver."
   ]
  },
  {
   "cell_type": "code",
   "execution_count": null,
   "metadata": {},
   "outputs": [],
   "source": [
    "def parse_natality(natalitydata, datadictionary):\n",
    "    '''Take in pandas dataframe natalitydata and list-of-lists \n",
    "    datadictionary  (for example [[43, 44, \"MATERNALAGE\"]] ) \n",
    "    and return a pandas dataframe (same number of rows) with \n",
    "    labeled columns  '''"
   ]
  },
  {
   "cell_type": "code",
   "execution_count": null,
   "metadata": {},
   "outputs": [],
   "source": [
    "#  Where to start?  For loop over data dictionary first, or for loop over data?\n",
    "#  Hint: which one is more expensive? This is the one we will want to do once.\n",
    "# "
   ]
  },
  {
   "cell_type": "code",
   "execution_count": 183,
   "metadata": {},
   "outputs": [
    {
     "name": "stdout",
     "output_type": "stream",
     "text": [
      "<class 'pandas.core.series.Series'>\n"
     ]
    },
    {
     "data": {
      "text/plain": [
       "0          8010      110100299991771630100263211111231012...\n",
       "1          8010      110100699990002630100663219223160304...\n",
       "2          8010      110100699990002630100663212223241113...\n",
       "3          8010      110100699990002630100663119223241113...\n",
       "4          8010      110100699990002630100663219223261314...\n",
       "                                 ...                        \n",
       "3913788    8520      115101199990002835101183111111190607...\n",
       "3913789    8520      115101199990002835101183119111200709...\n",
       "3913790    8520      115101199990002835101183219111241113...\n",
       "3913791    8520      115101599990002835101583111111291614...\n",
       "3913792    8520      115102099990002835102083231111271414...\n",
       "Name: 0, Length: 3913793, dtype: object"
      ]
     },
     "execution_count": 183,
     "metadata": {},
     "output_type": "execute_result"
    }
   ],
   "source": [
    "print(type(n1988[0]))\n",
    "n1988[0]"
   ]
  },
  {
   "cell_type": "code",
   "execution_count": null,
   "metadata": {},
   "outputs": [],
   "source": [
    "# So I can access the cth column and ith row with df[0].loc[i][c]"
   ]
  },
  {
   "cell_type": "code",
   "execution_count": 189,
   "metadata": {},
   "outputs": [],
   "source": [
    "# First I'm going to make certain I have the data I think I do\n",
    "def parse_natality(natalitydata, datadictionary):\n",
    "    '''Take in pandas dataframe natalitydata and list-of-lists datadictionary\n",
    "    (for example [[43, 44, \"MATERNALAGE\"]] ) and return a pandas dataframe (same \n",
    "    number of rows) with labeled columns'''\n",
    "    for index in natalitydata.index:\n",
    "        for start, stop, column_name in datadictionary:\n",
    "            if index < 3:\n",
    "                print(index, start,stop, column_name)"
   ]
  },
  {
   "cell_type": "code",
   "execution_count": 190,
   "metadata": {},
   "outputs": [
    {
     "name": "stdout",
     "output_type": "stream",
     "text": [
      "0 84 85 MONTHOFBIRTH\n",
      "0 86 87 DAYOFMONTH\n",
      "1 84 85 MONTHOFBIRTH\n",
      "1 86 87 DAYOFMONTH\n",
      "2 84 85 MONTHOFBIRTH\n",
      "2 86 87 DAYOFMONTH\n"
     ]
    }
   ],
   "source": [
    "parse_natality(n1988, dict1988)"
   ]
  },
  {
   "cell_type": "code",
   "execution_count": 191,
   "metadata": {},
   "outputs": [],
   "source": [
    "# Above, we had hard-coded lists p and q that took all our intermediate data.  \n",
    "# If we are going to automate column-extraction, we need a more flexible data structure.\n",
    "# Dictionary of lists.\n",
    "# So let's make a dictionary of empty lists first.\n",
    "def parse_natality(natalitydata, datadictionary):\n",
    "    '''Take in pandas dataframe natalitydata and list-of-lists datadictionary\n",
    "    (for example [[43, 44, \"MATERNALAGE\"]] ) and return a pandas dataframe (same \n",
    "    number of rows) with labeled columns  '''\n",
    "    intermediate_data={}\n",
    "    # First, populate intermediate_data with empty lists for each column_name\n",
    "    for start, stop, column_name in datadictionary:\n",
    "        intermediate_data[column_name] = []\n",
    "    # Now loop through the data    \n",
    "    for index in natalitydata.index:\n",
    "        for start, stop, column_name in datadictionary:\n",
    "            if index < 3:\n",
    "                print(index, start,stop, column_name)\n",
    "    return intermediate_data"
   ]
  },
  {
   "cell_type": "code",
   "execution_count": 192,
   "metadata": {},
   "outputs": [
    {
     "name": "stdout",
     "output_type": "stream",
     "text": [
      "0 84 85 MONTHOFBIRTH\n",
      "0 86 87 DAYOFMONTH\n",
      "1 84 85 MONTHOFBIRTH\n",
      "1 86 87 DAYOFMONTH\n",
      "2 84 85 MONTHOFBIRTH\n",
      "2 86 87 DAYOFMONTH\n"
     ]
    },
    {
     "data": {
      "text/plain": [
       "{'MONTHOFBIRTH': [], 'DAYOFMONTH': []}"
      ]
     },
     "execution_count": 192,
     "metadata": {},
     "output_type": "execute_result"
    }
   ],
   "source": [
    "parse_natality(n1988, dict1988)"
   ]
  },
  {
   "cell_type": "code",
   "execution_count": 193,
   "metadata": {},
   "outputs": [],
   "source": [
    "def parse_natality(natalitydata, datadictionary):\n",
    "    '''Take in pandas dataframe natalitydata and list-of-lists datadictionary\n",
    "    (for example [[43, 44, \"MATERNALAGE\"]] ) and return a pandas dataframe (same \n",
    "    number of rows) with labeled columns  '''\n",
    "    intermediate_data={}\n",
    "    # First, populate intermediate_data with empty lists for each column_name\n",
    "    for start, stop, column_name in datadictionary:\n",
    "        intermediate_data[column_name] = []\n",
    "    for idx in natalitydata.index:\n",
    "        for start, stop, column_name in datadictionary:\n",
    "            if idx < 3:\n",
    "                datafield = natalitydata[0].loc[idx][start:(stop+1)]\n",
    "                print(idx, start,stop, column_name, datafield)\n",
    "    return intermediate_data"
   ]
  },
  {
   "cell_type": "code",
   "execution_count": 194,
   "metadata": {},
   "outputs": [
    {
     "name": "stdout",
     "output_type": "stream",
     "text": [
      "0 84 85 MONTHOFBIRTH 10\n",
      "0 86 87 DAYOFMONTH 80\n",
      "1 84 85 MONTHOFBIRTH 10\n",
      "1 86 87 DAYOFMONTH 10\n",
      "2 84 85 MONTHOFBIRTH 10\n",
      "2 86 87 DAYOFMONTH 70\n"
     ]
    },
    {
     "data": {
      "text/plain": [
       "{'MONTHOFBIRTH': [], 'DAYOFMONTH': []}"
      ]
     },
     "execution_count": 194,
     "metadata": {},
     "output_type": "execute_result"
    }
   ],
   "source": [
    "parse_natality(n1988, dict1988)"
   ]
  },
  {
   "cell_type": "code",
   "execution_count": 195,
   "metadata": {},
   "outputs": [],
   "source": [
    "# Well, that's not right.  Day of month 80?  Birth order 0?  Off-by-one again\n",
    "def parse_natality(natalitydata, datadictionary):\n",
    "    '''Take in pandas dataframe natalitydata and list-of-lists datadictionary\n",
    "    (for example [[43, 44, \"MATERNALAGE\"]] ) and return a pandas dataframe (same \n",
    "    number of rows) with labeled columns  '''\n",
    "    intermediate_data={}\n",
    "    for start, stop, column_name in datadictionary:\n",
    "        intermediate_data[column_name] = []\n",
    "    for idx in natalitydata.index:\n",
    "        for start, stop, column_name in datadictionary:\n",
    "            if idx < 3:\n",
    "                datafield = natalitydata.loc[idx][0][start-1:(stop-1+1)]\n",
    "                print(idx, start,stop, column_name, datafield)\n",
    "    return intermediate_data"
   ]
  },
  {
   "cell_type": "code",
   "execution_count": 196,
   "metadata": {},
   "outputs": [
    {
     "name": "stdout",
     "output_type": "stream",
     "text": [
      "0 84 85 MONTHOFBIRTH 01\n",
      "0 86 87 DAYOFMONTH 08\n",
      "1 84 85 MONTHOFBIRTH 01\n",
      "1 86 87 DAYOFMONTH 01\n",
      "2 84 85 MONTHOFBIRTH 01\n",
      "2 86 87 DAYOFMONTH 07\n"
     ]
    },
    {
     "data": {
      "text/plain": [
       "{'MONTHOFBIRTH': [], 'DAYOFMONTH': []}"
      ]
     },
     "execution_count": 196,
     "metadata": {},
     "output_type": "execute_result"
    }
   ],
   "source": [
    "parse_natality(n1988, dict1988)"
   ]
  },
  {
   "cell_type": "code",
   "execution_count": 11,
   "metadata": {},
   "outputs": [],
   "source": [
    "# These values look sane now, so let us put the data in lists.\n",
    "def parse_natality(natalitydata, datadictionary):\n",
    "    '''Take in pandas dataframe natalitydata and list-of-lists datadictionary\n",
    "    (for example [[43, 44, \"MATERNALAGE\"]] ) and return a pandas dataframe (same \n",
    "    number of rows) with labeled columns  '''\n",
    "    intermediate_data={}\n",
    "    for start, stop, column_name in datadictionary:\n",
    "        intermediate_data[column_name] = []\n",
    "    for idx in natalitydata.index:\n",
    "        for start, stop, column_name in datadictionary:\n",
    "            datafield = natalitydata.loc[idx][0][start-1:(stop-1+1)]\n",
    "            intermediate_data[column_name].append(datafield)\n",
    "   #         if idx < 3:\n",
    "   #              print(idx, start,stop, column_name, natalitydata.loc[idx][0][start-1:(stop-1+1)])\n",
    "    return intermediate_data"
   ]
  },
  {
   "cell_type": "code",
   "execution_count": 14,
   "metadata": {},
   "outputs": [
    {
     "ename": "KeyboardInterrupt",
     "evalue": "",
     "output_type": "error",
     "traceback": [
      "\u001b[0;31m---------------------------------------------------------------------------\u001b[0m",
      "\u001b[0;31mKeyboardInterrupt\u001b[0m                         Traceback (most recent call last)",
      "Input \u001b[0;32mIn [14]\u001b[0m, in \u001b[0;36m<cell line: 1>\u001b[0;34m()\u001b[0m\n\u001b[0;32m----> 1\u001b[0m \u001b[43mparse_natality\u001b[49m\u001b[43m(\u001b[49m\u001b[43mn1988\u001b[49m\u001b[43m,\u001b[49m\u001b[43m \u001b[49m\u001b[43mdict1988\u001b[49m\u001b[43m)\u001b[49m\n",
      "Input \u001b[0;32mIn [11]\u001b[0m, in \u001b[0;36mparse_natality\u001b[0;34m(natalitydata, datadictionary)\u001b[0m\n\u001b[1;32m      9\u001b[0m  \u001b[38;5;28;01mfor\u001b[39;00m idx \u001b[38;5;129;01min\u001b[39;00m natalitydata\u001b[38;5;241m.\u001b[39mindex:\n\u001b[1;32m     10\u001b[0m      \u001b[38;5;28;01mfor\u001b[39;00m start, stop, column_name \u001b[38;5;129;01min\u001b[39;00m datadictionary:\n\u001b[0;32m---> 11\u001b[0m          datafield \u001b[38;5;241m=\u001b[39m \u001b[43mnatalitydata\u001b[49m\u001b[38;5;241;43m.\u001b[39;49m\u001b[43mloc\u001b[49m\u001b[43m[\u001b[49m\u001b[43midx\u001b[49m\u001b[43m]\u001b[49m[\u001b[38;5;241m0\u001b[39m][start\u001b[38;5;241m-\u001b[39m\u001b[38;5;241m1\u001b[39m:(stop\u001b[38;5;241m-\u001b[39m\u001b[38;5;241m1\u001b[39m\u001b[38;5;241m+\u001b[39m\u001b[38;5;241m1\u001b[39m)]\n\u001b[1;32m     12\u001b[0m          intermediate_data[column_name]\u001b[38;5;241m.\u001b[39mappend(datafield)\n\u001b[1;32m     13\u001b[0m \u001b[38;5;66;03m#         if idx < 3:\u001b[39;00m\n\u001b[1;32m     14\u001b[0m \u001b[38;5;66;03m#              print(idx, start,stop, column_name, natalitydata.loc[idx][0][start-1:(stop-1+1)])\u001b[39;00m\n",
      "File \u001b[0;32m/Users/Shared/anaconda3/lib/python3.9/site-packages/pandas/core/indexing.py:955\u001b[0m, in \u001b[0;36m_LocationIndexer.__getitem__\u001b[0;34m(self, key)\u001b[0m\n\u001b[1;32m    954\u001b[0m \u001b[38;5;28;01mdef\u001b[39;00m \u001b[38;5;21m__getitem__\u001b[39m(\u001b[38;5;28mself\u001b[39m, key):\n\u001b[0;32m--> 955\u001b[0m     \u001b[43mcheck_deprecated_indexers\u001b[49m\u001b[43m(\u001b[49m\u001b[43mkey\u001b[49m\u001b[43m)\u001b[49m\n\u001b[1;32m    956\u001b[0m     \u001b[38;5;28;01mif\u001b[39;00m \u001b[38;5;28mtype\u001b[39m(key) \u001b[38;5;129;01mis\u001b[39;00m \u001b[38;5;28mtuple\u001b[39m:\n\u001b[1;32m    957\u001b[0m         key \u001b[38;5;241m=\u001b[39m \u001b[38;5;28mtuple\u001b[39m(\u001b[38;5;28mlist\u001b[39m(x) \u001b[38;5;28;01mif\u001b[39;00m is_iterator(x) \u001b[38;5;28;01melse\u001b[39;00m x \u001b[38;5;28;01mfor\u001b[39;00m x \u001b[38;5;129;01min\u001b[39;00m key)\n",
      "File \u001b[0;32m/Users/Shared/anaconda3/lib/python3.9/site-packages/pandas/core/indexing.py:2485\u001b[0m, in \u001b[0;36mcheck_deprecated_indexers\u001b[0;34m(key)\u001b[0m\n\u001b[1;32m   2481\u001b[0m \u001b[38;5;28;01mdef\u001b[39;00m \u001b[38;5;21mcheck_deprecated_indexers\u001b[39m(key) \u001b[38;5;241m-\u001b[39m\u001b[38;5;241m>\u001b[39m \u001b[38;5;28;01mNone\u001b[39;00m:\n\u001b[1;32m   2482\u001b[0m     \u001b[38;5;124;03m\"\"\"Checks if the key is a deprecated indexer.\"\"\"\u001b[39;00m\n\u001b[1;32m   2483\u001b[0m     \u001b[38;5;28;01mif\u001b[39;00m (\n\u001b[1;32m   2484\u001b[0m         \u001b[38;5;28misinstance\u001b[39m(key, \u001b[38;5;28mset\u001b[39m)\n\u001b[0;32m-> 2485\u001b[0m         \u001b[38;5;129;01mor\u001b[39;00m \u001b[38;5;28;43misinstance\u001b[39;49m(key, \u001b[38;5;28mtuple\u001b[39m)\n\u001b[1;32m   2486\u001b[0m         \u001b[38;5;129;01mand\u001b[39;00m \u001b[38;5;28many\u001b[39m(\u001b[38;5;28misinstance\u001b[39m(x, \u001b[38;5;28mset\u001b[39m) \u001b[38;5;28;01mfor\u001b[39;00m x \u001b[38;5;129;01min\u001b[39;00m key)\n\u001b[1;32m   2487\u001b[0m     ):\n\u001b[1;32m   2488\u001b[0m         warnings\u001b[38;5;241m.\u001b[39mwarn(\n\u001b[1;32m   2489\u001b[0m             \u001b[38;5;124m\"\u001b[39m\u001b[38;5;124mPassing a set as an indexer is deprecated and will raise in \u001b[39m\u001b[38;5;124m\"\u001b[39m\n\u001b[1;32m   2490\u001b[0m             \u001b[38;5;124m\"\u001b[39m\u001b[38;5;124ma future version. Use a list instead.\u001b[39m\u001b[38;5;124m\"\u001b[39m,\n\u001b[1;32m   2491\u001b[0m             \u001b[38;5;167;01mFutureWarning\u001b[39;00m,\n\u001b[1;32m   2492\u001b[0m             stacklevel\u001b[38;5;241m=\u001b[39mfind_stack_level(),\n\u001b[1;32m   2493\u001b[0m         )\n\u001b[1;32m   2494\u001b[0m     \u001b[38;5;28;01mif\u001b[39;00m (\n\u001b[1;32m   2495\u001b[0m         \u001b[38;5;28misinstance\u001b[39m(key, \u001b[38;5;28mdict\u001b[39m)\n\u001b[1;32m   2496\u001b[0m         \u001b[38;5;129;01mor\u001b[39;00m \u001b[38;5;28misinstance\u001b[39m(key, \u001b[38;5;28mtuple\u001b[39m)\n\u001b[1;32m   2497\u001b[0m         \u001b[38;5;129;01mand\u001b[39;00m \u001b[38;5;28many\u001b[39m(\u001b[38;5;28misinstance\u001b[39m(x, \u001b[38;5;28mdict\u001b[39m) \u001b[38;5;28;01mfor\u001b[39;00m x \u001b[38;5;129;01min\u001b[39;00m key)\n\u001b[1;32m   2498\u001b[0m     ):\n",
      "\u001b[0;31mKeyboardInterrupt\u001b[0m: "
     ]
    }
   ],
   "source": [
    "parse_natality(n1988, dict1988)"
   ]
  },
  {
   "cell_type": "code",
   "execution_count": 15,
   "metadata": {},
   "outputs": [
    {
     "ename": "KeyboardInterrupt",
     "evalue": "",
     "output_type": "error",
     "traceback": [
      "\u001b[0;31m---------------------------------------------------------------------------\u001b[0m",
      "\u001b[0;31mKeyboardInterrupt\u001b[0m                         Traceback (most recent call last)",
      "Input \u001b[0;32mIn [15]\u001b[0m, in \u001b[0;36m<cell line: 3>\u001b[0;34m()\u001b[0m\n\u001b[1;32m      1\u001b[0m \u001b[38;5;66;03m# Takes a while this time.  And it returns a hash of lists.  I'd prefer pandas data frames..\u001b[39;00m\n\u001b[1;32m      2\u001b[0m starttime \u001b[38;5;241m=\u001b[39m time\u001b[38;5;241m.\u001b[39mtime()\n\u001b[0;32m----> 3\u001b[0m \u001b[43mparse_natality\u001b[49m\u001b[43m(\u001b[49m\u001b[43mn1988\u001b[49m\u001b[43m,\u001b[49m\u001b[43m \u001b[49m\u001b[43mdict1988\u001b[49m\u001b[43m)\u001b[49m\n\u001b[1;32m      4\u001b[0m stoptime \u001b[38;5;241m=\u001b[39m time\u001b[38;5;241m.\u001b[39mtime()\n\u001b[1;32m      5\u001b[0m \u001b[38;5;28mprint\u001b[39m(stoptime\u001b[38;5;241m-\u001b[39mstarttime)\n",
      "Input \u001b[0;32mIn [11]\u001b[0m, in \u001b[0;36mparse_natality\u001b[0;34m(natalitydata, datadictionary)\u001b[0m\n\u001b[1;32m      9\u001b[0m  \u001b[38;5;28;01mfor\u001b[39;00m idx \u001b[38;5;129;01min\u001b[39;00m natalitydata\u001b[38;5;241m.\u001b[39mindex:\n\u001b[1;32m     10\u001b[0m      \u001b[38;5;28;01mfor\u001b[39;00m start, stop, column_name \u001b[38;5;129;01min\u001b[39;00m datadictionary:\n\u001b[0;32m---> 11\u001b[0m          datafield \u001b[38;5;241m=\u001b[39m \u001b[43mnatalitydata\u001b[49m\u001b[38;5;241;43m.\u001b[39;49m\u001b[43mloc\u001b[49m\u001b[43m[\u001b[49m\u001b[43midx\u001b[49m\u001b[43m]\u001b[49m[\u001b[38;5;241m0\u001b[39m][start\u001b[38;5;241m-\u001b[39m\u001b[38;5;241m1\u001b[39m:(stop\u001b[38;5;241m-\u001b[39m\u001b[38;5;241m1\u001b[39m\u001b[38;5;241m+\u001b[39m\u001b[38;5;241m1\u001b[39m)]\n\u001b[1;32m     12\u001b[0m          intermediate_data[column_name]\u001b[38;5;241m.\u001b[39mappend(datafield)\n\u001b[1;32m     13\u001b[0m \u001b[38;5;66;03m#         if idx < 3:\u001b[39;00m\n\u001b[1;32m     14\u001b[0m \u001b[38;5;66;03m#              print(idx, start,stop, column_name, natalitydata.loc[idx][0][start-1:(stop-1+1)])\u001b[39;00m\n",
      "File \u001b[0;32m/Users/Shared/anaconda3/lib/python3.9/site-packages/pandas/core/indexing.py:967\u001b[0m, in \u001b[0;36m_LocationIndexer.__getitem__\u001b[0;34m(self, key)\u001b[0m\n\u001b[1;32m    964\u001b[0m axis \u001b[38;5;241m=\u001b[39m \u001b[38;5;28mself\u001b[39m\u001b[38;5;241m.\u001b[39maxis \u001b[38;5;129;01mor\u001b[39;00m \u001b[38;5;241m0\u001b[39m\n\u001b[1;32m    966\u001b[0m maybe_callable \u001b[38;5;241m=\u001b[39m com\u001b[38;5;241m.\u001b[39mapply_if_callable(key, \u001b[38;5;28mself\u001b[39m\u001b[38;5;241m.\u001b[39mobj)\n\u001b[0;32m--> 967\u001b[0m \u001b[38;5;28;01mreturn\u001b[39;00m \u001b[38;5;28;43mself\u001b[39;49m\u001b[38;5;241;43m.\u001b[39;49m\u001b[43m_getitem_axis\u001b[49m\u001b[43m(\u001b[49m\u001b[43mmaybe_callable\u001b[49m\u001b[43m,\u001b[49m\u001b[43m \u001b[49m\u001b[43maxis\u001b[49m\u001b[38;5;241;43m=\u001b[39;49m\u001b[43maxis\u001b[49m\u001b[43m)\u001b[49m\n",
      "File \u001b[0;32m/Users/Shared/anaconda3/lib/python3.9/site-packages/pandas/core/indexing.py:1202\u001b[0m, in \u001b[0;36m_LocIndexer._getitem_axis\u001b[0;34m(self, key, axis)\u001b[0m\n\u001b[1;32m   1200\u001b[0m \u001b[38;5;66;03m# fall thru to straight lookup\u001b[39;00m\n\u001b[1;32m   1201\u001b[0m \u001b[38;5;28mself\u001b[39m\u001b[38;5;241m.\u001b[39m_validate_key(key, axis)\n\u001b[0;32m-> 1202\u001b[0m \u001b[38;5;28;01mreturn\u001b[39;00m \u001b[38;5;28;43mself\u001b[39;49m\u001b[38;5;241;43m.\u001b[39;49m\u001b[43m_get_label\u001b[49m\u001b[43m(\u001b[49m\u001b[43mkey\u001b[49m\u001b[43m,\u001b[49m\u001b[43m \u001b[49m\u001b[43maxis\u001b[49m\u001b[38;5;241;43m=\u001b[39;49m\u001b[43maxis\u001b[49m\u001b[43m)\u001b[49m\n",
      "File \u001b[0;32m/Users/Shared/anaconda3/lib/python3.9/site-packages/pandas/core/indexing.py:1153\u001b[0m, in \u001b[0;36m_LocIndexer._get_label\u001b[0;34m(self, label, axis)\u001b[0m\n\u001b[1;32m   1151\u001b[0m \u001b[38;5;28;01mdef\u001b[39;00m \u001b[38;5;21m_get_label\u001b[39m(\u001b[38;5;28mself\u001b[39m, label, axis: \u001b[38;5;28mint\u001b[39m):\n\u001b[1;32m   1152\u001b[0m     \u001b[38;5;66;03m# GH#5667 this will fail if the label is not present in the axis.\u001b[39;00m\n\u001b[0;32m-> 1153\u001b[0m     \u001b[38;5;28;01mreturn\u001b[39;00m \u001b[38;5;28;43mself\u001b[39;49m\u001b[38;5;241;43m.\u001b[39;49m\u001b[43mobj\u001b[49m\u001b[38;5;241;43m.\u001b[39;49m\u001b[43mxs\u001b[49m\u001b[43m(\u001b[49m\u001b[43mlabel\u001b[49m\u001b[43m,\u001b[49m\u001b[43m \u001b[49m\u001b[43maxis\u001b[49m\u001b[38;5;241;43m=\u001b[39;49m\u001b[43maxis\u001b[49m\u001b[43m)\u001b[49m\n",
      "File \u001b[0;32m/Users/Shared/anaconda3/lib/python3.9/site-packages/pandas/core/generic.py:3886\u001b[0m, in \u001b[0;36mNDFrame.xs\u001b[0;34m(self, key, axis, level, drop_level)\u001b[0m\n\u001b[1;32m   3882\u001b[0m         \u001b[38;5;28;01mreturn\u001b[39;00m \u001b[38;5;28mself\u001b[39m\u001b[38;5;241m.\u001b[39m_values[loc]\n\u001b[1;32m   3884\u001b[0m     new_values \u001b[38;5;241m=\u001b[39m \u001b[38;5;28mself\u001b[39m\u001b[38;5;241m.\u001b[39m_mgr\u001b[38;5;241m.\u001b[39mfast_xs(loc)\n\u001b[0;32m-> 3886\u001b[0m     result \u001b[38;5;241m=\u001b[39m \u001b[38;5;28;43mself\u001b[39;49m\u001b[38;5;241;43m.\u001b[39;49m\u001b[43m_constructor_sliced\u001b[49m\u001b[43m(\u001b[49m\n\u001b[1;32m   3887\u001b[0m \u001b[43m        \u001b[49m\u001b[43mnew_values\u001b[49m\u001b[43m,\u001b[49m\n\u001b[1;32m   3888\u001b[0m \u001b[43m        \u001b[49m\u001b[43mindex\u001b[49m\u001b[38;5;241;43m=\u001b[39;49m\u001b[38;5;28;43mself\u001b[39;49m\u001b[38;5;241;43m.\u001b[39;49m\u001b[43mcolumns\u001b[49m\u001b[43m,\u001b[49m\n\u001b[1;32m   3889\u001b[0m \u001b[43m        \u001b[49m\u001b[43mname\u001b[49m\u001b[38;5;241;43m=\u001b[39;49m\u001b[38;5;28;43mself\u001b[39;49m\u001b[38;5;241;43m.\u001b[39;49m\u001b[43mindex\u001b[49m\u001b[43m[\u001b[49m\u001b[43mloc\u001b[49m\u001b[43m]\u001b[49m\u001b[43m,\u001b[49m\n\u001b[1;32m   3890\u001b[0m \u001b[43m        \u001b[49m\u001b[43mdtype\u001b[49m\u001b[38;5;241;43m=\u001b[39;49m\u001b[43mnew_values\u001b[49m\u001b[38;5;241;43m.\u001b[39;49m\u001b[43mdtype\u001b[49m\u001b[43m,\u001b[49m\n\u001b[1;32m   3891\u001b[0m \u001b[43m    \u001b[49m\u001b[43m)\u001b[49m\n\u001b[1;32m   3892\u001b[0m \u001b[38;5;28;01melif\u001b[39;00m is_scalar(loc):\n\u001b[1;32m   3893\u001b[0m     result \u001b[38;5;241m=\u001b[39m \u001b[38;5;28mself\u001b[39m\u001b[38;5;241m.\u001b[39miloc[:, \u001b[38;5;28mslice\u001b[39m(loc, loc \u001b[38;5;241m+\u001b[39m \u001b[38;5;241m1\u001b[39m)]\n",
      "File \u001b[0;32m/Users/Shared/anaconda3/lib/python3.9/site-packages/pandas/core/series.py:453\u001b[0m, in \u001b[0;36mSeries.__init__\u001b[0;34m(self, data, index, dtype, name, copy, fastpath)\u001b[0m\n\u001b[1;32m    450\u001b[0m \u001b[38;5;28;01melse\u001b[39;00m:\n\u001b[1;32m    451\u001b[0m     data \u001b[38;5;241m=\u001b[39m sanitize_array(data, index, dtype, copy)\n\u001b[0;32m--> 453\u001b[0m     manager \u001b[38;5;241m=\u001b[39m \u001b[43mget_option\u001b[49m\u001b[43m(\u001b[49m\u001b[38;5;124;43m\"\u001b[39;49m\u001b[38;5;124;43mmode.data_manager\u001b[39;49m\u001b[38;5;124;43m\"\u001b[39;49m\u001b[43m)\u001b[49m\n\u001b[1;32m    454\u001b[0m     \u001b[38;5;28;01mif\u001b[39;00m manager \u001b[38;5;241m==\u001b[39m \u001b[38;5;124m\"\u001b[39m\u001b[38;5;124mblock\u001b[39m\u001b[38;5;124m\"\u001b[39m:\n\u001b[1;32m    455\u001b[0m         data \u001b[38;5;241m=\u001b[39m SingleBlockManager\u001b[38;5;241m.\u001b[39mfrom_array(data, index)\n",
      "File \u001b[0;32m/Users/Shared/anaconda3/lib/python3.9/site-packages/pandas/_config/config.py:256\u001b[0m, in \u001b[0;36mCallableDynamicDoc.__call__\u001b[0;34m(self, *args, **kwds)\u001b[0m\n\u001b[1;32m    255\u001b[0m \u001b[38;5;28;01mdef\u001b[39;00m \u001b[38;5;21m__call__\u001b[39m(\u001b[38;5;28mself\u001b[39m, \u001b[38;5;241m*\u001b[39margs, \u001b[38;5;241m*\u001b[39m\u001b[38;5;241m*\u001b[39mkwds):\n\u001b[0;32m--> 256\u001b[0m     \u001b[38;5;28;01mreturn\u001b[39;00m \u001b[38;5;28;43mself\u001b[39;49m\u001b[38;5;241;43m.\u001b[39;49m\u001b[38;5;18;43m__func__\u001b[39;49m\u001b[43m(\u001b[49m\u001b[38;5;241;43m*\u001b[39;49m\u001b[43margs\u001b[49m\u001b[43m,\u001b[49m\u001b[43m \u001b[49m\u001b[38;5;241;43m*\u001b[39;49m\u001b[38;5;241;43m*\u001b[39;49m\u001b[43mkwds\u001b[49m\u001b[43m)\u001b[49m\n",
      "File \u001b[0;32m/Users/Shared/anaconda3/lib/python3.9/site-packages/pandas/_config/config.py:128\u001b[0m, in \u001b[0;36m_get_option\u001b[0;34m(pat, silent)\u001b[0m\n\u001b[1;32m    127\u001b[0m \u001b[38;5;28;01mdef\u001b[39;00m \u001b[38;5;21m_get_option\u001b[39m(pat: \u001b[38;5;28mstr\u001b[39m, silent: \u001b[38;5;28mbool\u001b[39m \u001b[38;5;241m=\u001b[39m \u001b[38;5;28;01mFalse\u001b[39;00m):\n\u001b[0;32m--> 128\u001b[0m     key \u001b[38;5;241m=\u001b[39m \u001b[43m_get_single_key\u001b[49m\u001b[43m(\u001b[49m\u001b[43mpat\u001b[49m\u001b[43m,\u001b[49m\u001b[43m \u001b[49m\u001b[43msilent\u001b[49m\u001b[43m)\u001b[49m\n\u001b[1;32m    130\u001b[0m     \u001b[38;5;66;03m# walk the nested dict\u001b[39;00m\n\u001b[1;32m    131\u001b[0m     root, k \u001b[38;5;241m=\u001b[39m _get_root(key)\n",
      "File \u001b[0;32m/Users/Shared/anaconda3/lib/python3.9/site-packages/pandas/_config/config.py:117\u001b[0m, in \u001b[0;36m_get_single_key\u001b[0;34m(pat, silent)\u001b[0m\n\u001b[1;32m    115\u001b[0m \u001b[38;5;28;01mif\u001b[39;00m \u001b[38;5;28mlen\u001b[39m(keys) \u001b[38;5;241m>\u001b[39m \u001b[38;5;241m1\u001b[39m:\n\u001b[1;32m    116\u001b[0m     \u001b[38;5;28;01mraise\u001b[39;00m OptionError(\u001b[38;5;124m\"\u001b[39m\u001b[38;5;124mPattern matched multiple keys\u001b[39m\u001b[38;5;124m\"\u001b[39m)\n\u001b[0;32m--> 117\u001b[0m key \u001b[38;5;241m=\u001b[39m \u001b[43mkeys\u001b[49m\u001b[43m[\u001b[49m\u001b[38;5;241;43m0\u001b[39;49m\u001b[43m]\u001b[49m\n\u001b[1;32m    119\u001b[0m \u001b[38;5;28;01mif\u001b[39;00m \u001b[38;5;129;01mnot\u001b[39;00m silent:\n\u001b[1;32m    120\u001b[0m     _warn_if_deprecated(key)\n",
      "\u001b[0;31mKeyboardInterrupt\u001b[0m: "
     ]
    }
   ],
   "source": [
    "# Takes a while this time.  And it returns a hash of lists.  I'd prefer pandas data frames..\n",
    "starttime = time.time()\n",
    "parse_natality(n1988, dict1988)\n",
    "stoptime = time.time()\n",
    "print(stoptime-starttime)   # Agh.   12 minutes "
   ]
  },
  {
   "cell_type": "code",
   "execution_count": 16,
   "metadata": {},
   "outputs": [
    {
     "data": {
      "text/html": [
       "<div>\n",
       "<style scoped>\n",
       "    .dataframe tbody tr th:only-of-type {\n",
       "        vertical-align: middle;\n",
       "    }\n",
       "\n",
       "    .dataframe tbody tr th {\n",
       "        vertical-align: top;\n",
       "    }\n",
       "\n",
       "    .dataframe thead th {\n",
       "        text-align: right;\n",
       "    }\n",
       "</style>\n",
       "<table border=\"1\" class=\"dataframe\">\n",
       "  <thead>\n",
       "    <tr style=\"text-align: right;\">\n",
       "      <th></th>\n",
       "      <th>0</th>\n",
       "    </tr>\n",
       "  </thead>\n",
       "  <tbody>\n",
       "    <tr>\n",
       "      <th>0</th>\n",
       "      <td>8010      110100299991771630100263211111231012...</td>\n",
       "    </tr>\n",
       "    <tr>\n",
       "      <th>100</th>\n",
       "      <td>8010      110102399990002630102363211111210810...</td>\n",
       "    </tr>\n",
       "    <tr>\n",
       "      <th>200</th>\n",
       "      <td>8440      234302899990002620104263211111321915...</td>\n",
       "    </tr>\n",
       "    <tr>\n",
       "      <th>300</th>\n",
       "      <td>8010      110105799990661630105763219111231012...</td>\n",
       "    </tr>\n",
       "    <tr>\n",
       "      <th>400</th>\n",
       "      <td>8010      110101499990002630101463212223241113...</td>\n",
       "    </tr>\n",
       "  </tbody>\n",
       "</table>\n",
       "</div>"
      ],
      "text/plain": [
       "                                                     0\n",
       "0    8010      110100299991771630100263211111231012...\n",
       "100  8010      110102399990002630102363211111210810...\n",
       "200  8440      234302899990002620104263211111321915...\n",
       "300  8010      110105799990661630105763219111231012...\n",
       "400  8010      110101499990002630101463212223241113..."
      ]
     },
     "execution_count": 16,
     "metadata": {},
     "output_type": "execute_result"
    }
   ],
   "source": [
    "# My code doesn't even give me a dataframe yet and it's taking forever.  \n",
    "# Faster feedback will take me to my goal faster.. so create a dataframe \n",
    "# that only has 1% of the data: \n",
    "n1988sample = n1988[::100] # Not for production work\n",
    "len(n1988sample)\n",
    "n1988sample.head()"
   ]
  },
  {
   "cell_type": "code",
   "execution_count": 17,
   "metadata": {},
   "outputs": [],
   "source": [
    "# transfer data from intermediate_data hash to pandas dataframe at the end\n",
    "def parse_natality(natalitydata, datadictionary):\n",
    "    '''Take in pandas dataframe natalitydata and list-of-lists datadictionary\n",
    "    (for example [[43, 44, \"MATERNALAGE\"]] ) and return a pandas dataframe (same \n",
    "    number of rows) with labeled columns  '''\n",
    "    intermediate_data={}\n",
    "    for start, stop, column_name in datadictionary:\n",
    "        intermediate_data[column_name] = []\n",
    "    for idx in natalitydata.index:\n",
    "        for start, stop, column_name in datadictionary:\n",
    "            intermediate_data[column_name].append(natalitydata.loc[idx][0][start-1:(stop-1+1)])\n",
    "   #         if idx < 3:\n",
    "   #              print(idx, start,stop, column_name, natalitydata.loc[idx][0][start-1:(stop-1+1)])\n",
    "    df = pd.DataFrame()\n",
    "    for start, stop, column_name in datadictionary:\n",
    "        print(column_name)\n",
    "        df[column_name] = pd.Series(intermediate_data[column_name])\n",
    "    return df"
   ]
  },
  {
   "cell_type": "code",
   "execution_count": 18,
   "metadata": {},
   "outputs": [
    {
     "name": "stdout",
     "output_type": "stream",
     "text": [
      "MONTHOFBIRTH\n",
      "DAYOFMONTH\n",
      "7.164099216461182\n"
     ]
    }
   ],
   "source": [
    "starttime=time.time()\n",
    "df = parse_natality(n1988sample, dict1988)\n",
    "stoptime=time.time()\n",
    "print(stoptime-starttime)"
   ]
  },
  {
   "cell_type": "code",
   "execution_count": 19,
   "metadata": {},
   "outputs": [
    {
     "data": {
      "text/html": [
       "<div>\n",
       "<style scoped>\n",
       "    .dataframe tbody tr th:only-of-type {\n",
       "        vertical-align: middle;\n",
       "    }\n",
       "\n",
       "    .dataframe tbody tr th {\n",
       "        vertical-align: top;\n",
       "    }\n",
       "\n",
       "    .dataframe thead th {\n",
       "        text-align: right;\n",
       "    }\n",
       "</style>\n",
       "<table border=\"1\" class=\"dataframe\">\n",
       "  <thead>\n",
       "    <tr style=\"text-align: right;\">\n",
       "      <th></th>\n",
       "      <th>MONTHOFBIRTH</th>\n",
       "      <th>DAYOFMONTH</th>\n",
       "    </tr>\n",
       "  </thead>\n",
       "  <tbody>\n",
       "    <tr>\n",
       "      <th>0</th>\n",
       "      <td>01</td>\n",
       "      <td>08</td>\n",
       "    </tr>\n",
       "    <tr>\n",
       "      <th>1</th>\n",
       "      <td>01</td>\n",
       "      <td>07</td>\n",
       "    </tr>\n",
       "    <tr>\n",
       "      <th>2</th>\n",
       "      <td>01</td>\n",
       "      <td>04</td>\n",
       "    </tr>\n",
       "    <tr>\n",
       "      <th>3</th>\n",
       "      <td>01</td>\n",
       "      <td>02</td>\n",
       "    </tr>\n",
       "    <tr>\n",
       "      <th>4</th>\n",
       "      <td>01</td>\n",
       "      <td>03</td>\n",
       "    </tr>\n",
       "    <tr>\n",
       "      <th>...</th>\n",
       "      <td>...</td>\n",
       "      <td>...</td>\n",
       "    </tr>\n",
       "    <tr>\n",
       "      <th>39133</th>\n",
       "      <td>12</td>\n",
       "      <td>08</td>\n",
       "    </tr>\n",
       "    <tr>\n",
       "      <th>39134</th>\n",
       "      <td>12</td>\n",
       "      <td>06</td>\n",
       "    </tr>\n",
       "    <tr>\n",
       "      <th>39135</th>\n",
       "      <td>12</td>\n",
       "      <td>31</td>\n",
       "    </tr>\n",
       "    <tr>\n",
       "      <th>39136</th>\n",
       "      <td>11</td>\n",
       "      <td>01</td>\n",
       "    </tr>\n",
       "    <tr>\n",
       "      <th>39137</th>\n",
       "      <td>06</td>\n",
       "      <td>07</td>\n",
       "    </tr>\n",
       "  </tbody>\n",
       "</table>\n",
       "<p>39138 rows × 2 columns</p>\n",
       "</div>"
      ],
      "text/plain": [
       "      MONTHOFBIRTH DAYOFMONTH\n",
       "0               01         08\n",
       "1               01         07\n",
       "2               01         04\n",
       "3               01         02\n",
       "4               01         03\n",
       "...            ...        ...\n",
       "39133           12         08\n",
       "39134           12         06\n",
       "39135           12         31\n",
       "39136           11         01\n",
       "39137           06         07\n",
       "\n",
       "[39138 rows x 2 columns]"
      ]
     },
     "execution_count": 19,
     "metadata": {},
     "output_type": "execute_result"
    }
   ],
   "source": [
    "# 7 seconds for 1/100 of the dataset\n",
    "df"
   ]
  },
  {
   "cell_type": "code",
   "execution_count": null,
   "metadata": {},
   "outputs": [],
   "source": [
    "#  This puts my data in a reasonably good place, but now I worry about efficiency.\n",
    "#  This didn't take long, but it was 1% of the whole dataset.\n",
    "#  I only have to run this when I want to get new columns, but still, I want to \n",
    "#  lower my personal cost of accessing information.\n",
    "\n",
    "# Why am I looping through all 4M records?  Because I am accessing \n",
    "# the columns by .loc[i][colnumber].  Can pandas help me?\n",
    "# https://pandas.pydata.org/pandas-docs/version/1.3/user_guide/text.html \n",
    "\n",
    "# pd.str.get() will extract a single column *as a pandas dataframe*,\n",
    "# so I can get all the rows with a single operation. "
   ]
  },
  {
   "cell_type": "code",
   "execution_count": 204,
   "metadata": {},
   "outputs": [
    {
     "data": {
      "text/plain": [
       "0          1\n",
       "100        1\n",
       "200        1\n",
       "300        1\n",
       "400        1\n",
       "          ..\n",
       "3913300    1\n",
       "3913400    1\n",
       "3913500    1\n",
       "3913600    1\n",
       "3913700    1\n",
       "Name: 0, Length: 39138, dtype: object"
      ]
     },
     "execution_count": 204,
     "metadata": {},
     "output_type": "execute_result"
    }
   ],
   "source": [
    "# different approach:  .str.get() \n",
    "n1988sample[0].str.get(80)"
   ]
  },
  {
   "cell_type": "code",
   "execution_count": 20,
   "metadata": {},
   "outputs": [],
   "source": [
    "# Different approach\n",
    "def parse_natality(natalitydata, datadictionary):\n",
    "    '''Take in pandas dataframe natalitydata and list-of-lists datadictionary\n",
    "    (for example [[43, 44, \"MATERNALAGE\"]] ) and return a pandas dataframe (same \n",
    "    number of rows) with labeled columns  '''\n",
    "    df = pd.DataFrame()\n",
    "    for start, stop, column_name in datadictionary:\n",
    "        df[column_name] = natalitydata[0].str.get(start-1)\n",
    "    return df\n"
   ]
  },
  {
   "cell_type": "code",
   "execution_count": 21,
   "metadata": {},
   "outputs": [
    {
     "name": "stdout",
     "output_type": "stream",
     "text": [
      "0.17567682266235352\n"
     ]
    }
   ],
   "source": [
    "starttime=time.time()\n",
    "df = parse_natality(n1988sample, dict1988) \n",
    "stoptime=time.time()\n",
    "print(stoptime-starttime)"
   ]
  },
  {
   "cell_type": "code",
   "execution_count": 22,
   "metadata": {},
   "outputs": [
    {
     "data": {
      "text/html": [
       "<div>\n",
       "<style scoped>\n",
       "    .dataframe tbody tr th:only-of-type {\n",
       "        vertical-align: middle;\n",
       "    }\n",
       "\n",
       "    .dataframe tbody tr th {\n",
       "        vertical-align: top;\n",
       "    }\n",
       "\n",
       "    .dataframe thead th {\n",
       "        text-align: right;\n",
       "    }\n",
       "</style>\n",
       "<table border=\"1\" class=\"dataframe\">\n",
       "  <thead>\n",
       "    <tr style=\"text-align: right;\">\n",
       "      <th></th>\n",
       "      <th>MONTHOFBIRTH</th>\n",
       "      <th>DAYOFMONTH</th>\n",
       "    </tr>\n",
       "  </thead>\n",
       "  <tbody>\n",
       "    <tr>\n",
       "      <th>0</th>\n",
       "      <td>0</td>\n",
       "      <td>0</td>\n",
       "    </tr>\n",
       "    <tr>\n",
       "      <th>100</th>\n",
       "      <td>0</td>\n",
       "      <td>0</td>\n",
       "    </tr>\n",
       "    <tr>\n",
       "      <th>200</th>\n",
       "      <td>0</td>\n",
       "      <td>0</td>\n",
       "    </tr>\n",
       "    <tr>\n",
       "      <th>300</th>\n",
       "      <td>0</td>\n",
       "      <td>0</td>\n",
       "    </tr>\n",
       "    <tr>\n",
       "      <th>400</th>\n",
       "      <td>0</td>\n",
       "      <td>0</td>\n",
       "    </tr>\n",
       "    <tr>\n",
       "      <th>...</th>\n",
       "      <td>...</td>\n",
       "      <td>...</td>\n",
       "    </tr>\n",
       "    <tr>\n",
       "      <th>3913300</th>\n",
       "      <td>1</td>\n",
       "      <td>0</td>\n",
       "    </tr>\n",
       "    <tr>\n",
       "      <th>3913400</th>\n",
       "      <td>1</td>\n",
       "      <td>0</td>\n",
       "    </tr>\n",
       "    <tr>\n",
       "      <th>3913500</th>\n",
       "      <td>1</td>\n",
       "      <td>3</td>\n",
       "    </tr>\n",
       "    <tr>\n",
       "      <th>3913600</th>\n",
       "      <td>1</td>\n",
       "      <td>0</td>\n",
       "    </tr>\n",
       "    <tr>\n",
       "      <th>3913700</th>\n",
       "      <td>0</td>\n",
       "      <td>0</td>\n",
       "    </tr>\n",
       "  </tbody>\n",
       "</table>\n",
       "<p>39138 rows × 2 columns</p>\n",
       "</div>"
      ],
      "text/plain": [
       "        MONTHOFBIRTH DAYOFMONTH\n",
       "0                  0          0\n",
       "100                0          0\n",
       "200                0          0\n",
       "300                0          0\n",
       "400                0          0\n",
       "...              ...        ...\n",
       "3913300            1          0\n",
       "3913400            1          0\n",
       "3913500            1          3\n",
       "3913600            1          0\n",
       "3913700            0          0\n",
       "\n",
       "[39138 rows x 2 columns]"
      ]
     },
     "execution_count": 22,
     "metadata": {},
     "output_type": "execute_result"
    }
   ],
   "source": [
    "df"
   ]
  },
  {
   "cell_type": "code",
   "execution_count": 25,
   "metadata": {},
   "outputs": [],
   "source": [
    "# almost there, but pd.str.get()  only gets one column at a time, and \n",
    "# MONTHOFBIRTH and DAYOFMONTH are two-column fields, that's why I'm \n",
    "# seeing month = 0"
   ]
  },
  {
   "cell_type": "code",
   "execution_count": 26,
   "metadata": {},
   "outputs": [],
   "source": [
    "def parse_natality(natalitydata, datadictionary):\n",
    "    '''Take in pandas dataframe natalitydata and list-of-lists datadictionary\n",
    "    (for example [[43, 44, \"MATERNALAGE\"]] ) and return a pandas dataframe (same \n",
    "    number of rows) with labeled columns  '''\n",
    "    df = pd.DataFrame()\n",
    "    for start, stop, column_name in datadictionary:\n",
    "        # Get the first column (start)\n",
    "        df[column_name] = natalitydata[0].str.get(start-1)\n",
    "        # Get the remaining columns\n",
    "        for i in range(1, stop-start + 1):\n",
    "            df[column_name]=  df[column_name].str.cat(natalitydata[0].str.get(start-1+i))\n",
    "    return df"
   ]
  },
  {
   "cell_type": "code",
   "execution_count": 27,
   "metadata": {},
   "outputs": [
    {
     "name": "stdout",
     "output_type": "stream",
     "text": [
      "0.2817819118499756\n"
     ]
    },
    {
     "data": {
      "text/html": [
       "<div>\n",
       "<style scoped>\n",
       "    .dataframe tbody tr th:only-of-type {\n",
       "        vertical-align: middle;\n",
       "    }\n",
       "\n",
       "    .dataframe tbody tr th {\n",
       "        vertical-align: top;\n",
       "    }\n",
       "\n",
       "    .dataframe thead th {\n",
       "        text-align: right;\n",
       "    }\n",
       "</style>\n",
       "<table border=\"1\" class=\"dataframe\">\n",
       "  <thead>\n",
       "    <tr style=\"text-align: right;\">\n",
       "      <th></th>\n",
       "      <th>MONTHOFBIRTH</th>\n",
       "      <th>DAYOFMONTH</th>\n",
       "    </tr>\n",
       "  </thead>\n",
       "  <tbody>\n",
       "    <tr>\n",
       "      <th>0</th>\n",
       "      <td>01</td>\n",
       "      <td>08</td>\n",
       "    </tr>\n",
       "    <tr>\n",
       "      <th>100</th>\n",
       "      <td>01</td>\n",
       "      <td>07</td>\n",
       "    </tr>\n",
       "    <tr>\n",
       "      <th>200</th>\n",
       "      <td>01</td>\n",
       "      <td>04</td>\n",
       "    </tr>\n",
       "    <tr>\n",
       "      <th>300</th>\n",
       "      <td>01</td>\n",
       "      <td>02</td>\n",
       "    </tr>\n",
       "    <tr>\n",
       "      <th>400</th>\n",
       "      <td>01</td>\n",
       "      <td>03</td>\n",
       "    </tr>\n",
       "  </tbody>\n",
       "</table>\n",
       "</div>"
      ],
      "text/plain": [
       "    MONTHOFBIRTH DAYOFMONTH\n",
       "0             01         08\n",
       "100           01         07\n",
       "200           01         04\n",
       "300           01         02\n",
       "400           01         03"
      ]
     },
     "execution_count": 27,
     "metadata": {},
     "output_type": "execute_result"
    }
   ],
   "source": [
    "starttime=time.time()\n",
    "df = parse_natality(n1988sample, dict1988) \n",
    "stoptime=time.time()\n",
    "print(stoptime-starttime)\n",
    "df.head()"
   ]
  },
  {
   "cell_type": "code",
   "execution_count": 28,
   "metadata": {},
   "outputs": [
    {
     "name": "stdout",
     "output_type": "stream",
     "text": [
      "12.581115961074829\n"
     ]
    },
    {
     "data": {
      "text/html": [
       "<div>\n",
       "<style scoped>\n",
       "    .dataframe tbody tr th:only-of-type {\n",
       "        vertical-align: middle;\n",
       "    }\n",
       "\n",
       "    .dataframe tbody tr th {\n",
       "        vertical-align: top;\n",
       "    }\n",
       "\n",
       "    .dataframe thead th {\n",
       "        text-align: right;\n",
       "    }\n",
       "</style>\n",
       "<table border=\"1\" class=\"dataframe\">\n",
       "  <thead>\n",
       "    <tr style=\"text-align: right;\">\n",
       "      <th></th>\n",
       "      <th>MONTHOFBIRTH</th>\n",
       "      <th>DAYOFMONTH</th>\n",
       "    </tr>\n",
       "  </thead>\n",
       "  <tbody>\n",
       "    <tr>\n",
       "      <th>0</th>\n",
       "      <td>01</td>\n",
       "      <td>08</td>\n",
       "    </tr>\n",
       "    <tr>\n",
       "      <th>1</th>\n",
       "      <td>01</td>\n",
       "      <td>01</td>\n",
       "    </tr>\n",
       "    <tr>\n",
       "      <th>2</th>\n",
       "      <td>01</td>\n",
       "      <td>07</td>\n",
       "    </tr>\n",
       "    <tr>\n",
       "      <th>3</th>\n",
       "      <td>01</td>\n",
       "      <td>06</td>\n",
       "    </tr>\n",
       "    <tr>\n",
       "      <th>4</th>\n",
       "      <td>01</td>\n",
       "      <td>01</td>\n",
       "    </tr>\n",
       "  </tbody>\n",
       "</table>\n",
       "</div>"
      ],
      "text/plain": [
       "  MONTHOFBIRTH DAYOFMONTH\n",
       "0           01         08\n",
       "1           01         01\n",
       "2           01         07\n",
       "3           01         06\n",
       "4           01         01"
      ]
     },
     "execution_count": 28,
     "metadata": {},
     "output_type": "execute_result"
    }
   ],
   "source": [
    "# Looks reasonable.  We can expand to the entire dataset and\n",
    "# make sure it completes in a reaosonable time:\n",
    "starttime=time.time()\n",
    "df = parse_natality(n1988, dict1988) \n",
    "stoptime=time.time()\n",
    "print(stoptime-starttime)\n",
    "df.head()"
   ]
  },
  {
   "cell_type": "code",
   "execution_count": 29,
   "metadata": {},
   "outputs": [
    {
     "data": {
      "text/plain": [
       "pandas.core.series.Series"
      ]
     },
     "execution_count": 29,
     "metadata": {},
     "output_type": "execute_result"
    }
   ],
   "source": [
    "type(df.MONTHOFBIRTH)"
   ]
  },
  {
   "cell_type": "code",
   "execution_count": 30,
   "metadata": {},
   "outputs": [
    {
     "data": {
      "text/plain": [
       "str"
      ]
     },
     "execution_count": 30,
     "metadata": {},
     "output_type": "execute_result"
    }
   ],
   "source": [
    "# That doesn't answer my question\n",
    "type(df.MONTHOFBIRTH[0])\n",
    "# One more picky little request.. numeric data types?\n"
   ]
  },
  {
   "cell_type": "code",
   "execution_count": 31,
   "metadata": {},
   "outputs": [],
   "source": [
    "def parse_natality(natalitydata, datadictionary):\n",
    "    '''Take in pandas dataframe natalitydata and list-of-lists datadictionary\n",
    "    (for example [[43, 44, \"MATERNALAGE\"]] ) and return a pandas dataframe (same \n",
    "    number of rows) with labeled columns  '''\n",
    "    df = pd.DataFrame()\n",
    "    for start, stop, column_name in datadictionary:\n",
    "        # Get the first column (start)\n",
    "        df[column_name] = natalitydata[0].str.get(start-1)\n",
    "        # Get the remaining columns\n",
    "        for i in range(1, stop-start + 1):\n",
    "            df[column_name]=  df[column_name].str.cat(natalitydata[0].str.get(start-1+i))\n",
    "    return df\n",
    "    for start, stop, column_name in datadictionary:\n",
    "        pd[column_name] = pd.to_numeric(pd[column_name])"
   ]
  },
  {
   "cell_type": "code",
   "execution_count": 32,
   "metadata": {},
   "outputs": [
    {
     "data": {
      "text/html": [
       "<div>\n",
       "<style scoped>\n",
       "    .dataframe tbody tr th:only-of-type {\n",
       "        vertical-align: middle;\n",
       "    }\n",
       "\n",
       "    .dataframe tbody tr th {\n",
       "        vertical-align: top;\n",
       "    }\n",
       "\n",
       "    .dataframe thead th {\n",
       "        text-align: right;\n",
       "    }\n",
       "</style>\n",
       "<table border=\"1\" class=\"dataframe\">\n",
       "  <thead>\n",
       "    <tr style=\"text-align: right;\">\n",
       "      <th></th>\n",
       "      <th>MONTHOFBIRTH</th>\n",
       "      <th>DAYOFMONTH</th>\n",
       "    </tr>\n",
       "  </thead>\n",
       "  <tbody>\n",
       "    <tr>\n",
       "      <th>0</th>\n",
       "      <td>01</td>\n",
       "      <td>08</td>\n",
       "    </tr>\n",
       "    <tr>\n",
       "      <th>1</th>\n",
       "      <td>01</td>\n",
       "      <td>01</td>\n",
       "    </tr>\n",
       "    <tr>\n",
       "      <th>2</th>\n",
       "      <td>01</td>\n",
       "      <td>07</td>\n",
       "    </tr>\n",
       "    <tr>\n",
       "      <th>3</th>\n",
       "      <td>01</td>\n",
       "      <td>06</td>\n",
       "    </tr>\n",
       "    <tr>\n",
       "      <th>4</th>\n",
       "      <td>01</td>\n",
       "      <td>01</td>\n",
       "    </tr>\n",
       "  </tbody>\n",
       "</table>\n",
       "</div>"
      ],
      "text/plain": [
       "  MONTHOFBIRTH DAYOFMONTH\n",
       "0           01         08\n",
       "1           01         01\n",
       "2           01         07\n",
       "3           01         06\n",
       "4           01         01"
      ]
     },
     "execution_count": 32,
     "metadata": {},
     "output_type": "execute_result"
    }
   ],
   "source": [
    "df = parse_natality(n1988, dict1988) \n",
    "type(df.MONTHOFBIRTH[0])\n",
    "df.head()"
   ]
  },
  {
   "cell_type": "code",
   "execution_count": 33,
   "metadata": {},
   "outputs": [],
   "source": [
    "# I am now satisfied that it is working.\n",
    "dict1988 =[\n",
    "    [84, 85, \"MONTHOFBIRTH\"],\n",
    "    [86, 87, \"DAYOFMONTH\"],\n",
    "    [60, 60, \"BIRTHODRDER\"],\n",
    "    [41, 42, \"MATERNALAGE\"],\n",
    "    [28, 29, \"STATE\"], \n",
    "    [69, 70, \"PATERNALAGE\"],\n",
    "]"
   ]
  },
  {
   "cell_type": "code",
   "execution_count": 34,
   "metadata": {},
   "outputs": [
    {
     "name": "stdout",
     "output_type": "stream",
     "text": [
      "35.64549803733826\n"
     ]
    }
   ],
   "source": [
    "start = time.time()\n",
    "df = parse_natality(n1988, dict1988) \n",
    "print(time.time() - start)"
   ]
  },
  {
   "cell_type": "code",
   "execution_count": 35,
   "metadata": {},
   "outputs": [
    {
     "data": {
      "text/html": [
       "<div>\n",
       "<style scoped>\n",
       "    .dataframe tbody tr th:only-of-type {\n",
       "        vertical-align: middle;\n",
       "    }\n",
       "\n",
       "    .dataframe tbody tr th {\n",
       "        vertical-align: top;\n",
       "    }\n",
       "\n",
       "    .dataframe thead th {\n",
       "        text-align: right;\n",
       "    }\n",
       "</style>\n",
       "<table border=\"1\" class=\"dataframe\">\n",
       "  <thead>\n",
       "    <tr style=\"text-align: right;\">\n",
       "      <th></th>\n",
       "      <th>MONTHOFBIRTH</th>\n",
       "      <th>DAYOFMONTH</th>\n",
       "      <th>BIRTHODRDER</th>\n",
       "      <th>MATERNALAGE</th>\n",
       "      <th>STATE</th>\n",
       "      <th>PATERNALAGE</th>\n",
       "    </tr>\n",
       "  </thead>\n",
       "  <tbody>\n",
       "    <tr>\n",
       "      <th>0</th>\n",
       "      <td>01</td>\n",
       "      <td>08</td>\n",
       "      <td>2</td>\n",
       "      <td>23</td>\n",
       "      <td>01</td>\n",
       "      <td>22</td>\n",
       "    </tr>\n",
       "    <tr>\n",
       "      <th>1</th>\n",
       "      <td>01</td>\n",
       "      <td>01</td>\n",
       "      <td>1</td>\n",
       "      <td>16</td>\n",
       "      <td>01</td>\n",
       "      <td>99</td>\n",
       "    </tr>\n",
       "    <tr>\n",
       "      <th>2</th>\n",
       "      <td>01</td>\n",
       "      <td>07</td>\n",
       "      <td>3</td>\n",
       "      <td>24</td>\n",
       "      <td>01</td>\n",
       "      <td>26</td>\n",
       "    </tr>\n",
       "    <tr>\n",
       "      <th>3</th>\n",
       "      <td>01</td>\n",
       "      <td>06</td>\n",
       "      <td>1</td>\n",
       "      <td>24</td>\n",
       "      <td>01</td>\n",
       "      <td>99</td>\n",
       "    </tr>\n",
       "    <tr>\n",
       "      <th>4</th>\n",
       "      <td>01</td>\n",
       "      <td>01</td>\n",
       "      <td>4</td>\n",
       "      <td>26</td>\n",
       "      <td>01</td>\n",
       "      <td>99</td>\n",
       "    </tr>\n",
       "    <tr>\n",
       "      <th>...</th>\n",
       "      <td>...</td>\n",
       "      <td>...</td>\n",
       "      <td>...</td>\n",
       "      <td>...</td>\n",
       "      <td>...</td>\n",
       "      <td>...</td>\n",
       "    </tr>\n",
       "    <tr>\n",
       "      <th>3913788</th>\n",
       "      <td>06</td>\n",
       "      <td>28</td>\n",
       "      <td>2</td>\n",
       "      <td>19</td>\n",
       "      <td>51</td>\n",
       "      <td>20</td>\n",
       "    </tr>\n",
       "    <tr>\n",
       "      <th>3913789</th>\n",
       "      <td>07</td>\n",
       "      <td>11</td>\n",
       "      <td>1</td>\n",
       "      <td>20</td>\n",
       "      <td>51</td>\n",
       "      <td>99</td>\n",
       "    </tr>\n",
       "    <tr>\n",
       "      <th>3913790</th>\n",
       "      <td>12</td>\n",
       "      <td>18</td>\n",
       "      <td>4</td>\n",
       "      <td>24</td>\n",
       "      <td>51</td>\n",
       "      <td>99</td>\n",
       "    </tr>\n",
       "    <tr>\n",
       "      <th>3913791</th>\n",
       "      <td>12</td>\n",
       "      <td>20</td>\n",
       "      <td>6</td>\n",
       "      <td>29</td>\n",
       "      <td>51</td>\n",
       "      <td>30</td>\n",
       "    </tr>\n",
       "    <tr>\n",
       "      <th>3913792</th>\n",
       "      <td>08</td>\n",
       "      <td>23</td>\n",
       "      <td>2</td>\n",
       "      <td>27</td>\n",
       "      <td>51</td>\n",
       "      <td>26</td>\n",
       "    </tr>\n",
       "  </tbody>\n",
       "</table>\n",
       "<p>3913793 rows × 6 columns</p>\n",
       "</div>"
      ],
      "text/plain": [
       "        MONTHOFBIRTH DAYOFMONTH BIRTHODRDER MATERNALAGE STATE PATERNALAGE\n",
       "0                 01         08           2          23    01          22\n",
       "1                 01         01           1          16    01          99\n",
       "2                 01         07           3          24    01          26\n",
       "3                 01         06           1          24    01          99\n",
       "4                 01         01           4          26    01          99\n",
       "...              ...        ...         ...         ...   ...         ...\n",
       "3913788           06         28           2          19    51          20\n",
       "3913789           07         11           1          20    51          99\n",
       "3913790           12         18           4          24    51          99\n",
       "3913791           12         20           6          29    51          30\n",
       "3913792           08         23           2          27    51          26\n",
       "\n",
       "[3913793 rows x 6 columns]"
      ]
     },
     "execution_count": 35,
     "metadata": {},
     "output_type": "execute_result"
    }
   ],
   "source": [
    "df"
   ]
  },
  {
   "cell_type": "code",
   "execution_count": 36,
   "metadata": {},
   "outputs": [],
   "source": [
    "age = df.MATERNALAGE.value_counts()"
   ]
  },
  {
   "cell_type": "code",
   "execution_count": 37,
   "metadata": {},
   "outputs": [
    {
     "data": {
      "text/plain": [
       "10        15\n",
       "11        36\n",
       "12       223\n",
       "13      1804\n",
       "14      8511\n",
       "15     25611\n",
       "16     55186\n",
       "17     95932\n",
       "18    133487\n",
       "19    168485\n",
       "20    185349\n",
       "21    199385\n",
       "22    212940\n",
       "23    228896\n",
       "24    241980\n",
       "25    251485\n",
       "26    255604\n",
       "27    256243\n",
       "28    245423\n",
       "29    232004\n",
       "30    212852\n",
       "31    185984\n",
       "32    160421\n",
       "33    134290\n",
       "34    110971\n",
       "35     88625\n",
       "36     68112\n",
       "37     50907\n",
       "38     36545\n",
       "39     25657\n",
       "40     17491\n",
       "41     11305\n",
       "42      5845\n",
       "43      3121\n",
       "44      1639\n",
       "45       772\n",
       "46       390\n",
       "47       137\n",
       "48        88\n",
       "49        42\n",
       "Name: MATERNALAGE, dtype: int64"
      ]
     },
     "execution_count": 37,
     "metadata": {},
     "output_type": "execute_result"
    }
   ],
   "source": [
    "df.MATERNALAGE.value_counts().sort_index()"
   ]
  },
  {
   "cell_type": "code",
   "execution_count": null,
   "metadata": {},
   "outputs": [],
   "source": []
  },
  {
   "cell_type": "code",
   "execution_count": null,
   "metadata": {},
   "outputs": [],
   "source": []
  },
  {
   "cell_type": "code",
   "execution_count": null,
   "metadata": {},
   "outputs": [],
   "source": []
  },
  {
   "cell_type": "code",
   "execution_count": null,
   "metadata": {},
   "outputs": [],
   "source": []
  },
  {
   "cell_type": "code",
   "execution_count": 38,
   "metadata": {},
   "outputs": [],
   "source": [
    "age = df.MATERNALAGE.value_counts()"
   ]
  },
  {
   "cell_type": "code",
   "execution_count": 39,
   "metadata": {},
   "outputs": [
    {
     "data": {
      "text/plain": [
       "10        15\n",
       "11        36\n",
       "12       223\n",
       "13      1804\n",
       "14      8511\n",
       "15     25611\n",
       "16     55186\n",
       "17     95932\n",
       "18    133487\n",
       "19    168485\n",
       "20    185349\n",
       "21    199385\n",
       "22    212940\n",
       "23    228896\n",
       "24    241980\n",
       "25    251485\n",
       "26    255604\n",
       "27    256243\n",
       "28    245423\n",
       "29    232004\n",
       "30    212852\n",
       "31    185984\n",
       "32    160421\n",
       "33    134290\n",
       "34    110971\n",
       "35     88625\n",
       "36     68112\n",
       "37     50907\n",
       "38     36545\n",
       "39     25657\n",
       "40     17491\n",
       "41     11305\n",
       "42      5845\n",
       "43      3121\n",
       "44      1639\n",
       "45       772\n",
       "46       390\n",
       "47       137\n",
       "48        88\n",
       "49        42\n",
       "Name: MATERNALAGE, dtype: int64"
      ]
     },
     "execution_count": 39,
     "metadata": {},
     "output_type": "execute_result"
    }
   ],
   "source": [
    "df.MATERNALAGE.value_counts().sort_index()"
   ]
  },
  {
   "cell_type": "code",
   "execution_count": 40,
   "metadata": {},
   "outputs": [
    {
     "data": {
      "text/plain": [
       "<BarContainer object of 40 artists>"
      ]
     },
     "execution_count": 40,
     "metadata": {},
     "output_type": "execute_result"
    },
    {
     "data": {
      "image/png": "[encoded data removed]",
      "text/plain": [
       "<Figure size 432x288 with 1 Axes>"
      ]
     },
     "metadata": {
      "needs_background": "light"
     },
     "output_type": "display_data"
    }
   ],
   "source": [
    "plt.bar(x=df.MATERNALAGE.value_counts().sort_index().index, height=df.MATERNALAGE.value_counts().sort_index().values)"
   ]
  },
  {
   "cell_type": "code",
   "execution_count": 41,
   "metadata": {},
   "outputs": [
    {
     "data": {
      "text/plain": [
       "<BarContainer object of 40 artists>"
      ]
     },
     "execution_count": 41,
     "metadata": {},
     "output_type": "execute_result"
    },
    {
     "data": {
      "image/png": "[encoded data removed]",
      "text/plain": [
       "<Figure size 1080x576 with 1 Axes>"
      ]
     },
     "metadata": {
      "needs_background": "light"
     },
     "output_type": "display_data"
    }
   ],
   "source": [
    "plt.figure(figsize=(15,8))\n",
    "plt.bar(x=df.MATERNALAGE.value_counts().sort_index().index, height=df.MATERNALAGE.value_counts().sort_index().values)\n"
   ]
  },
  {
   "cell_type": "code",
   "execution_count": 42,
   "metadata": {},
   "outputs": [
    {
     "data": {
      "text/plain": [
       "(array([[3.30000e+02, 1.52000e+02, 1.80000e+01, 4.00000e+00, 1.00000e+00,\n",
       "         0.00000e+00, 0.00000e+00, 0.00000e+00, 0.00000e+00, 1.57300e+03],\n",
       "        [3.00350e+04, 5.94940e+04, 2.66400e+03, 3.02000e+02, 4.90000e+01,\n",
       "         1.20000e+01, 3.00000e+00, 2.00000e+00, 0.00000e+00, 9.26790e+04],\n",
       "        [2.37280e+04, 4.04708e+05, 4.97680e+04, 4.98400e+03, 7.33000e+02,\n",
       "         1.60000e+02, 4.70000e+01, 1.10000e+01, 0.00000e+00, 2.02567e+05],\n",
       "        [1.71000e+03, 5.29612e+05, 2.42126e+05, 2.18470e+04, 2.77900e+03,\n",
       "         5.56000e+02, 1.00000e+02, 1.80000e+01, 3.00000e+00, 1.36550e+05],\n",
       "        [3.33000e+02, 2.35694e+05, 6.07801e+05, 5.78670e+04, 6.03700e+03,\n",
       "         9.74000e+02, 1.55000e+02, 1.90000e+01, 2.00000e+00, 8.03920e+04],\n",
       "        [1.11000e+02, 4.21460e+04, 4.92953e+05, 1.03438e+05, 9.32400e+03,\n",
       "         1.37100e+03, 1.97000e+02, 2.30000e+01, 6.00000e+00, 4.39780e+04],\n",
       "        [4.00000e+01, 1.04440e+04, 1.55220e+05, 1.20602e+05, 1.05510e+04,\n",
       "         1.51600e+03, 2.69000e+02, 3.50000e+01, 4.00000e+00, 1.99340e+04],\n",
       "        [2.80000e+01, 2.19400e+03, 2.00390e+04, 5.26500e+04, 7.85000e+03,\n",
       "         1.13500e+03, 1.82000e+02, 2.00000e+01, 2.00000e+00, 6.89800e+03],\n",
       "        [0.00000e+00, 2.16000e+02, 1.53600e+03, 5.51800e+03, 2.64200e+03,\n",
       "         3.73000e+02, 5.80000e+01, 8.00000e+00, 2.00000e+00, 1.02400e+03],\n",
       "        [0.00000e+00, 1.10000e+01, 5.90000e+01, 1.32000e+02, 3.27000e+02,\n",
       "         5.00000e+01, 1.00000e+01, 2.00000e+00, 0.00000e+00, 6.60000e+01]]),\n",
       " array([10. , 13.9, 17.8, 21.7, 25.6, 29.5, 33.4, 37.3, 41.2, 45.1, 49. ]),\n",
       " array([10. , 18.9, 27.8, 36.7, 45.6, 54.5, 63.4, 72.3, 81.2, 90.1, 99. ]),\n",
       " <matplotlib.collections.QuadMesh at 0x7fc62d481b80>)"
      ]
     },
     "execution_count": 42,
     "metadata": {},
     "output_type": "execute_result"
    },
    {
     "data": {
      "image/png": "[encoded data removed]",
      "text/plain": [
       "<Figure size 432x288 with 1 Axes>"
      ]
     },
     "metadata": {
      "needs_background": "light"
     },
     "output_type": "display_data"
    }
   ],
   "source": [
    "plt.hist2d(pd.to_numeric(df[\"MATERNALAGE\"]), pd.to_numeric(df[\"PATERNALAGE\"]))"
   ]
  },
  {
   "cell_type": "code",
   "execution_count": 43,
   "metadata": {},
   "outputs": [
    {
     "data": {
      "text/plain": [
       "(array([[0.00000e+00, 1.00000e+00, 1.00000e+00, 4.00000e+00, 5.00000e+00,\n",
       "         0.00000e+00, 2.00000e+00, 3.00000e+00, 1.00000e+00, 2.00000e+00,\n",
       "         0.00000e+00, 0.00000e+00, 0.00000e+00, 0.00000e+00, 0.00000e+00,\n",
       "         0.00000e+00, 0.00000e+00, 0.00000e+00, 0.00000e+00, 0.00000e+00,\n",
       "         0.00000e+00, 0.00000e+00, 0.00000e+00, 0.00000e+00, 0.00000e+00,\n",
       "         0.00000e+00, 0.00000e+00, 0.00000e+00, 0.00000e+00, 3.20000e+01],\n",
       "        [1.00000e+00, 1.50000e+01, 1.60000e+01, 1.10000e+01, 2.00000e+00,\n",
       "         3.00000e+00, 0.00000e+00, 0.00000e+00, 0.00000e+00, 0.00000e+00,\n",
       "         0.00000e+00, 0.00000e+00, 0.00000e+00, 0.00000e+00, 0.00000e+00,\n",
       "         0.00000e+00, 0.00000e+00, 0.00000e+00, 0.00000e+00, 0.00000e+00,\n",
       "         0.00000e+00, 0.00000e+00, 0.00000e+00, 0.00000e+00, 0.00000e+00,\n",
       "         0.00000e+00, 0.00000e+00, 0.00000e+00, 0.00000e+00, 1.75000e+02],\n",
       "        [0.00000e+00, 6.80000e+01, 2.28000e+02, 8.90000e+01, 3.00000e+01,\n",
       "         8.00000e+00, 6.00000e+00, 3.00000e+00, 3.00000e+00, 1.00000e+00,\n",
       "         1.00000e+00, 0.00000e+00, 0.00000e+00, 1.00000e+00, 0.00000e+00,\n",
       "         0.00000e+00, 0.00000e+00, 0.00000e+00, 0.00000e+00, 0.00000e+00,\n",
       "         0.00000e+00, 0.00000e+00, 0.00000e+00, 0.00000e+00, 0.00000e+00,\n",
       "         0.00000e+00, 0.00000e+00, 0.00000e+00, 0.00000e+00, 1.36600e+03],\n",
       "        [1.00000e+00, 7.05000e+02, 6.12500e+03, 4.21200e+03, 1.34600e+03,\n",
       "         4.43000e+02, 1.42000e+02, 5.30000e+01, 1.80000e+01, 1.90000e+01,\n",
       "         6.00000e+00, 1.00000e+00, 6.00000e+00, 0.00000e+00, 1.00000e+00,\n",
       "         0.00000e+00, 0.00000e+00, 0.00000e+00, 0.00000e+00, 0.00000e+00,\n",
       "         0.00000e+00, 0.00000e+00, 0.00000e+00, 2.00000e+00, 0.00000e+00,\n",
       "         0.00000e+00, 0.00000e+00, 0.00000e+00, 0.00000e+00, 2.10420e+04],\n",
       "        [4.00000e+00, 3.31000e+02, 9.63200e+03, 1.08810e+04, 3.83700e+03,\n",
       "         1.22500e+03, 4.11000e+02, 1.64000e+02, 8.00000e+01, 2.90000e+01,\n",
       "         2.40000e+01, 1.10000e+01, 6.00000e+00, 9.00000e+00, 0.00000e+00,\n",
       "         2.00000e+00, 1.00000e+00, 1.00000e+00, 1.00000e+00, 1.00000e+00,\n",
       "         0.00000e+00, 0.00000e+00, 0.00000e+00, 0.00000e+00, 0.00000e+00,\n",
       "         0.00000e+00, 0.00000e+00, 0.00000e+00, 0.00000e+00, 2.85360e+04],\n",
       "        [4.00000e+00, 2.00000e+02, 1.30330e+04, 2.42590e+04, 9.97600e+03,\n",
       "         3.31500e+03, 1.16200e+03, 4.58000e+02, 1.76000e+02, 1.30000e+02,\n",
       "         5.50000e+01, 2.70000e+01, 1.30000e+01, 8.00000e+00, 6.00000e+00,\n",
       "         2.00000e+00, 4.00000e+00, 2.00000e+00, 1.00000e+00, 0.00000e+00,\n",
       "         0.00000e+00, 0.00000e+00, 0.00000e+00, 0.00000e+00, 0.00000e+00,\n",
       "         0.00000e+00, 0.00000e+00, 0.00000e+00, 0.00000e+00, 4.31010e+04],\n",
       "        [1.00000e+01, 1.60000e+02, 1.89360e+04, 8.27140e+04, 5.71660e+04,\n",
       "         2.18120e+04, 8.31700e+03, 3.27200e+03, 1.46300e+03, 7.05000e+02,\n",
       "         4.26000e+02, 2.11000e+02, 1.05000e+02, 6.70000e+01, 3.90000e+01,\n",
       "         2.20000e+01, 1.30000e+01, 9.00000e+00, 9.00000e+00, 5.00000e+00,\n",
       "         5.00000e+00, 3.00000e+00, 1.00000e+00, 3.00000e+00, 0.00000e+00,\n",
       "         0.00000e+00, 0.00000e+00, 0.00000e+00, 0.00000e+00, 1.06499e+05],\n",
       "        [8.00000e+00, 1.20000e+01, 3.11600e+03, 4.07520e+04, 5.15350e+04,\n",
       "         2.31250e+04, 9.16800e+03, 3.69500e+03, 1.64900e+03, 7.78000e+02,\n",
       "         4.47000e+02, 2.16000e+02, 1.21000e+02, 5.90000e+01, 3.40000e+01,\n",
       "         2.30000e+01, 1.70000e+01, 7.00000e+00, 8.00000e+00, 3.00000e+00,\n",
       "         3.00000e+00, 1.00000e+00, 1.00000e+00, 0.00000e+00, 0.00000e+00,\n",
       "         0.00000e+00, 0.00000e+00, 0.00000e+00, 0.00000e+00, 5.05710e+04],\n",
       "        [1.10000e+01, 1.50000e+01, 1.46000e+03, 2.85920e+04, 6.44120e+04,\n",
       "         3.46000e+04, 1.39940e+04, 5.73700e+03, 2.47300e+03, 1.22100e+03,\n",
       "         6.55000e+02, 3.25000e+02, 1.66000e+02, 9.20000e+01, 5.00000e+01,\n",
       "         3.70000e+01, 2.10000e+01, 1.10000e+01, 5.00000e+00, 8.00000e+00,\n",
       "         1.00000e+00, 1.00000e+00, 0.00000e+00, 1.00000e+00, 0.00000e+00,\n",
       "         0.00000e+00, 0.00000e+00, 0.00000e+00, 0.00000e+00, 4.54970e+04],\n",
       "        [1.10000e+01, 1.00000e+00, 7.59000e+02, 1.57580e+04, 6.86110e+04,\n",
       "         4.98090e+04, 2.09250e+04, 8.66700e+03, 3.77800e+03, 1.88300e+03,\n",
       "         9.97000e+02, 4.60000e+02, 2.26000e+02, 1.10000e+02, 7.60000e+01,\n",
       "         5.20000e+01, 3.60000e+01, 2.00000e+01, 7.00000e+00, 5.00000e+00,\n",
       "         2.00000e+00, 1.00000e+00, 0.00000e+00, 1.00000e+00, 1.00000e+00,\n",
       "         0.00000e+00, 0.00000e+00, 0.00000e+00, 0.00000e+00, 4.07440e+04],\n",
       "        [1.60000e+01, 5.00000e+00, 7.07000e+02, 1.36980e+04, 1.07505e+05,\n",
       "         1.52012e+05, 7.32460e+04, 3.03770e+04, 1.30310e+04, 6.10200e+03,\n",
       "         2.98600e+03, 1.44500e+03, 7.59000e+02, 3.86000e+02, 2.42000e+02,\n",
       "         1.43000e+02, 8.40000e+01, 4.80000e+01, 3.50000e+01, 1.50000e+01,\n",
       "         2.00000e+00, 7.00000e+00, 3.00000e+00, 1.00000e+00, 0.00000e+00,\n",
       "         0.00000e+00, 0.00000e+00, 0.00000e+00, 0.00000e+00, 6.80210e+04],\n",
       "        [1.20000e+01, 2.00000e+00, 1.97000e+02, 3.37800e+03, 2.63850e+04,\n",
       "         9.24560e+04, 5.79280e+04, 2.38410e+04, 1.03330e+04, 4.60100e+03,\n",
       "         2.31800e+03, 1.05500e+03, 5.44000e+02, 2.84000e+02, 1.52000e+02,\n",
       "         9.10000e+01, 5.00000e+01, 3.20000e+01, 2.60000e+01, 4.00000e+00,\n",
       "         4.00000e+00, 3.00000e+00, 1.00000e+00, 1.00000e+00, 1.00000e+00,\n",
       "         0.00000e+00, 1.00000e+00, 0.00000e+00, 0.00000e+00, 2.77850e+04],\n",
       "        [7.00000e+00, 2.00000e+00, 1.06000e+02, 2.30300e+03, 1.54150e+04,\n",
       "         8.13970e+04, 7.52490e+04, 3.17550e+04, 1.34500e+04, 5.99700e+03,\n",
       "         2.93800e+03, 1.24500e+03, 6.70000e+02, 3.38000e+02, 1.88000e+02,\n",
       "         9.10000e+01, 6.80000e+01, 3.10000e+01, 2.10000e+01, 1.10000e+01,\n",
       "         5.00000e+00, 3.00000e+00, 1.00000e+00, 0.00000e+00, 0.00000e+00,\n",
       "         1.00000e+00, 0.00000e+00, 0.00000e+00, 0.00000e+00, 2.43120e+04],\n",
       "        [1.00000e+01, 2.00000e+00, 1.53000e+02, 2.79600e+03, 1.72800e+04,\n",
       "         9.12820e+04, 1.84953e+05, 9.42550e+04, 3.84130e+04, 1.74690e+04,\n",
       "         8.09500e+03, 3.36900e+03, 1.66600e+03, 8.42000e+02, 4.67000e+02,\n",
       "         2.81000e+02, 1.38000e+02, 1.02000e+02, 4.70000e+01, 2.50000e+01,\n",
       "         1.10000e+01, 6.00000e+00, 3.00000e+00, 0.00000e+00, 0.00000e+00,\n",
       "         1.00000e+00, 0.00000e+00, 0.00000e+00, 0.00000e+00, 4.00000e+04],\n",
       "        [7.00000e+00, 2.00000e+00, 4.40000e+01, 8.41000e+02, 4.70200e+03,\n",
       "         1.96780e+04, 8.07970e+04, 6.27820e+04, 2.61470e+04, 1.13460e+04,\n",
       "         5.18800e+03, 2.22000e+03, 1.03600e+03, 5.26000e+02, 3.04000e+02,\n",
       "         1.26000e+02, 9.00000e+01, 4.70000e+01, 1.90000e+01, 1.40000e+01,\n",
       "         2.00000e+00, 3.00000e+00, 2.00000e+00, 1.00000e+00, 0.00000e+00,\n",
       "         0.00000e+00, 0.00000e+00, 0.00000e+00, 0.00000e+00, 1.60800e+04],\n",
       "        [7.00000e+00, 1.00000e+00, 2.90000e+01, 5.97000e+02, 3.37100e+03,\n",
       "         1.28190e+04, 5.46370e+04, 7.13610e+04, 3.14480e+04, 1.34200e+04,\n",
       "         6.03800e+03, 2.57600e+03, 1.16200e+03, 6.13000e+02, 2.99000e+02,\n",
       "         1.72000e+02, 9.40000e+01, 4.80000e+01, 2.70000e+01, 1.60000e+01,\n",
       "         4.00000e+00, 3.00000e+00, 0.00000e+00, 0.00000e+00, 2.00000e+00,\n",
       "         1.00000e+00, 0.00000e+00, 0.00000e+00, 0.00000e+00, 1.41070e+04],\n",
       "        [1.50000e+01, 1.00000e+00, 4.00000e+01, 7.54000e+02, 4.19500e+03,\n",
       "         1.46800e+04, 4.71850e+04, 1.24703e+05, 7.56050e+04, 3.18900e+04,\n",
       "         1.43150e+04, 5.80200e+03, 2.68400e+03, 1.30200e+03, 7.49000e+02,\n",
       "         3.71000e+02, 1.94000e+02, 1.22000e+02, 6.40000e+01, 2.90000e+01,\n",
       "         9.00000e+00, 8.00000e+00, 6.00000e+00, 0.00000e+00, 2.00000e+00,\n",
       "         1.00000e+00, 0.00000e+00, 0.00000e+00, 0.00000e+00, 2.16790e+04],\n",
       "        [1.00000e+00, 1.00000e+00, 1.60000e+01, 2.20000e+02, 1.33000e+03,\n",
       "         4.18000e+03, 1.13760e+04, 3.53530e+04, 4.12850e+04, 1.82540e+04,\n",
       "         7.82800e+03, 3.31500e+03, 1.42900e+03, 7.15000e+02, 3.71000e+02,\n",
       "         1.94000e+02, 1.08000e+02, 6.80000e+01, 3.20000e+01, 1.10000e+01,\n",
       "         5.00000e+00, 4.00000e+00, 1.00000e+00, 1.00000e+00, 0.00000e+00,\n",
       "         0.00000e+00, 0.00000e+00, 0.00000e+00, 0.00000e+00, 8.19200e+03],\n",
       "        [1.00000e+00, 0.00000e+00, 1.20000e+01, 1.77000e+02, 9.19000e+02,\n",
       "         2.96100e+03, 7.89500e+03, 1.93170e+04, 3.87570e+04, 1.95600e+04,\n",
       "         8.31000e+03, 3.44500e+03, 1.50600e+03, 7.37000e+02, 3.65000e+02,\n",
       "         1.63000e+02, 1.05000e+02, 7.00000e+01, 4.50000e+01, 1.20000e+01,\n",
       "         1.40000e+01, 3.00000e+00, 5.00000e+00, 1.00000e+00, 1.00000e+00,\n",
       "         0.00000e+00, 0.00000e+00, 0.00000e+00, 0.00000e+00, 6.59000e+03],\n",
       "        [0.00000e+00, 1.00000e+00, 1.40000e+01, 1.21000e+02, 6.42000e+02,\n",
       "         2.13300e+03, 5.29200e+03, 1.12290e+04, 2.88350e+04, 1.95570e+04,\n",
       "         8.63300e+03, 3.50000e+03, 1.59200e+03, 7.51000e+02, 3.71000e+02,\n",
       "         1.85000e+02, 1.30000e+02, 6.50000e+01, 4.20000e+01, 2.10000e+01,\n",
       "         5.00000e+00, 9.00000e+00, 2.00000e+00, 1.00000e+00, 0.00000e+00,\n",
       "         0.00000e+00, 1.00000e+00, 0.00000e+00, 0.00000e+00, 5.49300e+03],\n",
       "        [1.00000e+00, 1.00000e+00, 1.00000e+01, 1.71000e+02, 7.67000e+02,\n",
       "         2.55300e+03, 5.73500e+03, 1.16310e+04, 2.65290e+04, 3.42980e+04,\n",
       "         1.68250e+04, 6.47400e+03, 3.04500e+03, 1.43000e+03, 7.54000e+02,\n",
       "         4.45000e+02, 2.43000e+02, 1.10000e+02, 8.00000e+01, 3.00000e+01,\n",
       "         2.00000e+01, 7.00000e+00, 4.00000e+00, 3.00000e+00, 1.00000e+00,\n",
       "         1.00000e+00, 0.00000e+00, 0.00000e+00, 0.00000e+00, 7.85100e+03],\n",
       "        [3.00000e+00, 1.00000e+00, 1.20000e+01, 4.90000e+01, 2.28000e+02,\n",
       "         6.84000e+02, 1.60300e+03, 2.68800e+03, 4.99000e+03, 1.04740e+04,\n",
       "         7.40400e+03, 2.97600e+03, 1.36300e+03, 6.37000e+02, 3.43000e+02,\n",
       "         1.76000e+02, 1.01000e+02, 6.50000e+01, 3.20000e+01, 9.00000e+00,\n",
       "         4.00000e+00, 6.00000e+00, 1.00000e+00, 0.00000e+00, 0.00000e+00,\n",
       "         0.00000e+00, 0.00000e+00, 0.00000e+00, 0.00000e+00, 2.69600e+03],\n",
       "        [3.00000e+00, 0.00000e+00, 3.00000e+00, 2.70000e+01, 1.69000e+02,\n",
       "         4.05000e+02, 9.85000e+02, 1.69800e+03, 2.89600e+03, 6.00600e+03,\n",
       "         6.37600e+03, 2.71700e+03, 1.20400e+03, 5.67000e+02, 3.28000e+02,\n",
       "         1.73000e+02, 1.02000e+02, 3.60000e+01, 3.60000e+01, 1.80000e+01,\n",
       "         5.00000e+00, 0.00000e+00, 4.00000e+00, 2.00000e+00, 0.00000e+00,\n",
       "         0.00000e+00, 1.00000e+00, 0.00000e+00, 0.00000e+00, 1.89600e+03],\n",
       "        [1.00000e+00, 0.00000e+00, 5.00000e+00, 4.20000e+01, 1.76000e+02,\n",
       "         4.14000e+02, 9.36000e+02, 1.60000e+03, 2.64300e+03, 4.37700e+03,\n",
       "         7.81300e+03, 4.50700e+03, 1.99200e+03, 9.31000e+02, 4.85000e+02,\n",
       "         2.40000e+02, 1.63000e+02, 7.90000e+01, 5.10000e+01, 2.20000e+01,\n",
       "         5.00000e+00, 1.00000e+00, 2.00000e+00, 4.00000e+00, 1.00000e+00,\n",
       "         0.00000e+00, 0.00000e+00, 0.00000e+00, 0.00000e+00, 2.30600e+03],\n",
       "        [0.00000e+00, 0.00000e+00, 0.00000e+00, 8.00000e+00, 3.20000e+01,\n",
       "         7.50000e+01, 1.62000e+02, 2.61000e+02, 4.34000e+02, 6.04000e+02,\n",
       "         1.23300e+03, 1.27700e+03, 6.23000e+02, 2.74000e+02, 1.74000e+02,\n",
       "         8.30000e+01, 3.90000e+01, 2.80000e+01, 1.20000e+01, 7.00000e+00,\n",
       "         2.00000e+00, 1.00000e+00, 0.00000e+00, 0.00000e+00, 1.00000e+00,\n",
       "         0.00000e+00, 0.00000e+00, 0.00000e+00, 0.00000e+00, 5.15000e+02],\n",
       "        [0.00000e+00, 0.00000e+00, 0.00000e+00, 2.00000e+00, 1.70000e+01,\n",
       "         3.80000e+01, 8.70000e+01, 1.25000e+02, 1.75000e+02, 2.76000e+02,\n",
       "         4.40000e+02, 7.58000e+02, 4.62000e+02, 1.99000e+02, 1.30000e+02,\n",
       "         5.10000e+01, 3.20000e+01, 2.00000e+01, 1.50000e+01, 4.00000e+00,\n",
       "         2.00000e+00, 2.00000e+00, 1.00000e+00, 0.00000e+00, 0.00000e+00,\n",
       "         0.00000e+00, 0.00000e+00, 0.00000e+00, 0.00000e+00, 2.85000e+02],\n",
       "        [0.00000e+00, 0.00000e+00, 0.00000e+00, 5.00000e+00, 9.00000e+00,\n",
       "         3.00000e+01, 5.80000e+01, 8.80000e+01, 1.46000e+02, 1.63000e+02,\n",
       "         2.26000e+02, 5.41000e+02, 4.32000e+02, 2.25000e+02, 1.23000e+02,\n",
       "         5.90000e+01, 3.40000e+01, 2.70000e+01, 1.10000e+01, 4.00000e+00,\n",
       "         1.00000e+00, 3.00000e+00, 1.00000e+00, 0.00000e+00, 1.00000e+00,\n",
       "         0.00000e+00, 0.00000e+00, 0.00000e+00, 0.00000e+00, 2.24000e+02],\n",
       "        [0.00000e+00, 0.00000e+00, 0.00000e+00, 0.00000e+00, 2.00000e+00,\n",
       "         4.00000e+00, 1.00000e+01, 9.00000e+00, 1.90000e+01, 1.80000e+01,\n",
       "         2.90000e+01, 4.00000e+01, 1.02000e+02, 6.20000e+01, 3.10000e+01,\n",
       "         8.00000e+00, 8.00000e+00, 2.00000e+00, 2.00000e+00, 1.00000e+00,\n",
       "         0.00000e+00, 0.00000e+00, 0.00000e+00, 0.00000e+00, 0.00000e+00,\n",
       "         0.00000e+00, 0.00000e+00, 0.00000e+00, 0.00000e+00, 4.30000e+01],\n",
       "        [0.00000e+00, 0.00000e+00, 0.00000e+00, 0.00000e+00, 0.00000e+00,\n",
       "         2.00000e+00, 3.00000e+00, 2.00000e+00, 7.00000e+00, 3.00000e+00,\n",
       "         1.00000e+01, 1.00000e+01, 3.80000e+01, 2.50000e+01, 7.00000e+00,\n",
       "         1.20000e+01, 3.00000e+00, 1.00000e+00, 2.00000e+00, 0.00000e+00,\n",
       "         0.00000e+00, 1.00000e+00, 1.00000e+00, 0.00000e+00, 0.00000e+00,\n",
       "         0.00000e+00, 0.00000e+00, 0.00000e+00, 0.00000e+00, 1.00000e+01],\n",
       "        [0.00000e+00, 0.00000e+00, 0.00000e+00, 1.00000e+00, 1.00000e+00,\n",
       "         1.00000e+00, 2.00000e+00, 3.00000e+00, 4.00000e+00, 5.00000e+00,\n",
       "         6.00000e+00, 1.10000e+01, 1.30000e+01, 3.10000e+01, 1.80000e+01,\n",
       "         8.00000e+00, 4.00000e+00, 4.00000e+00, 0.00000e+00, 4.00000e+00,\n",
       "         1.00000e+00, 0.00000e+00, 0.00000e+00, 0.00000e+00, 0.00000e+00,\n",
       "         0.00000e+00, 0.00000e+00, 0.00000e+00, 0.00000e+00, 1.30000e+01]]),\n",
       " array([10. , 11.3, 12.6, 13.9, 15.2, 16.5, 17.8, 19.1, 20.4, 21.7, 23. ,\n",
       "        24.3, 25.6, 26.9, 28.2, 29.5, 30.8, 32.1, 33.4, 34.7, 36. , 37.3,\n",
       "        38.6, 39.9, 41.2, 42.5, 43.8, 45.1, 46.4, 47.7, 49. ]),\n",
       " array([10.        , 12.96666667, 15.93333333, 18.9       , 21.86666667,\n",
       "        24.83333333, 27.8       , 30.76666667, 33.73333333, 36.7       ,\n",
       "        39.66666667, 42.63333333, 45.6       , 48.56666667, 51.53333333,\n",
       "        54.5       , 57.46666667, 60.43333333, 63.4       , 66.36666667,\n",
       "        69.33333333, 72.3       , 75.26666667, 78.23333333, 81.2       ,\n",
       "        84.16666667, 87.13333333, 90.1       , 93.06666667, 96.03333333,\n",
       "        99.        ]),\n",
       " <matplotlib.collections.QuadMesh at 0x7fc62e4beca0>)"
      ]
     },
     "execution_count": 43,
     "metadata": {},
     "output_type": "execute_result"
    },
    {
     "data": {
      "image/png": "[encoded data removed]",
      "text/plain": [
       "<Figure size 432x288 with 1 Axes>"
      ]
     },
     "metadata": {
      "needs_background": "light"
     },
     "output_type": "display_data"
    }
   ],
   "source": [
    "# More bins?\n",
    "plt.hist2d(pd.to_numeric(df[\"MATERNALAGE\"]), pd.to_numeric(df[\"PATERNALAGE\"]), bins=30)"
   ]
  },
  {
   "cell_type": "code",
   "execution_count": null,
   "metadata": {},
   "outputs": [],
   "source": [
    "And here we have an example of the hisogrammer's migrane.  \n",
    "The field boundaries for both MATERNALAGE and PATERNALAGE\n",
    "sometimes encompass different numbers of data points on the\n",
    "underlying distribution over nonnegative integers.\n",
    "\n",
    "We can always fix this by explicitly defining the bins to \n",
    "always include integer numbers of numbers.  "
   ]
  },
  {
   "cell_type": "code",
   "execution_count": null,
   "metadata": {},
   "outputs": [],
   "source": []
  },
  {
   "cell_type": "code",
   "execution_count": 44,
   "metadata": {},
   "outputs": [],
   "source": [
    "bins1 = np.arange(10,50) +.5\n",
    "bins2 = np.arange(10,100)+.5"
   ]
  },
  {
   "cell_type": "code",
   "execution_count": 45,
   "metadata": {},
   "outputs": [
    {
     "data": {
      "text/plain": [
       "Text(0, 0.5, 'Paternal age')"
      ]
     },
     "execution_count": 45,
     "metadata": {},
     "output_type": "execute_result"
    },
    {
     "data": {
      "image/png": "[encoded data removed]",
      "text/plain": [
       "<Figure size 432x288 with 1 Axes>"
      ]
     },
     "metadata": {
      "needs_background": "light"
     },
     "output_type": "display_data"
    }
   ],
   "source": [
    "plt.hist2d(pd.to_numeric(df[\"MATERNALAGE\"]), pd.to_numeric(df[\"PATERNALAGE\"]), bins=(bins1, bins2))\n",
    "plt.xlabel(\"Maternal age\"); plt.ylabel(\"Paternal age\")"
   ]
  },
  {
   "cell_type": "markdown",
   "metadata": {},
   "source": [
    "Now we see something peculiar; the catch-all category \n",
    "PATERNALAGE=99 is a symbol for missing values.  \n",
    "And just glancing at the heatmap shows the marginal\n",
    "distribution of MATERNALAGE given PATERNALAGE=99 is \n",
    "peaked around 18."
   ]
  },
  {
   "cell_type": "code",
   "execution_count": 46,
   "metadata": {},
   "outputs": [
    {
     "data": {
      "image/png": "[encoded data removed]",
      "text/plain": [
       "<Figure size 432x288 with 1 Axes>"
      ]
     },
     "metadata": {
      "needs_background": "light"
     },
     "output_type": "display_data"
    }
   ],
   "source": [
    "paternalage = df.PATERNALAGE.value_counts().sort_index()\n",
    "plt.bar(paternalage.index, paternalage.values)\n",
    "maternalage = df.MATERNALAGE.value_counts().sort_index()"
   ]
  },
  {
   "cell_type": "code",
   "execution_count": 47,
   "metadata": {},
   "outputs": [
    {
     "data": {
      "text/plain": [
       "<BarContainer object of 40 artists>"
      ]
     },
     "execution_count": 47,
     "metadata": {},
     "output_type": "execute_result"
    },
    {
     "data": {
      "image/png": "[encoded data removed]",
      "text/plain": [
       "<Figure size 432x288 with 1 Axes>"
      ]
     },
     "metadata": {
      "needs_background": "light"
     },
     "output_type": "display_data"
    }
   ],
   "source": [
    "paternalage = df.PATERNALAGE.value_counts().sort_index()[:-1]\n",
    "\n",
    "plt.subplot(211)\n",
    "plt.bar(paternalage.index, paternalage.values, alpha=0.5)\n",
    "plt.subplot(211)\n",
    "plt.bar(maternalage.index, maternalage.values, alpha=0.5)\n",
    "\n"
   ]
  },
  {
   "cell_type": "code",
   "execution_count": 48,
   "metadata": {},
   "outputs": [
    {
     "data": {
      "text/plain": [
       "<BarContainer object of 40 artists>"
      ]
     },
     "execution_count": 48,
     "metadata": {},
     "output_type": "execute_result"
    },
    {
     "data": {
      "image/png": "[encoded data removed]",
      "text/plain": [
       "<Figure size 432x288 with 2 Axes>"
      ]
     },
     "metadata": {
      "needs_background": "light"
     },
     "output_type": "display_data"
    }
   ],
   "source": [
    "\n",
    "plt.subplot(211)\n",
    "plt.bar(pd.to_numeric(paternalage.index), paternalage.values, alpha=0.5)\n",
    "plt.subplot(212)\n",
    "plt.bar(pd.to_numeric(maternalage.index), maternalage.values, alpha=0.5)\n"
   ]
  },
  {
   "cell_type": "code",
   "execution_count": 49,
   "metadata": {},
   "outputs": [
    {
     "data": {
      "text/plain": [
       "<matplotlib.legend.Legend at 0x7fc5c7e89df0>"
      ]
     },
     "execution_count": 49,
     "metadata": {},
     "output_type": "execute_result"
    },
    {
     "data": {
      "image/png": "[encoded data removed]",
      "text/plain": [
       "<Figure size 1080x576 with 1 Axes>"
      ]
     },
     "metadata": {
      "needs_background": "light"
     },
     "output_type": "display_data"
    }
   ],
   "source": [
    "plt.figure(figsize=(15,8))\n",
    "plt.bar(pd.to_numeric(paternalage.index), paternalage.values, alpha=0.5, label=\"paternal age (where stated)\")\n",
    "plt.bar(pd.to_numeric(maternalage.index), maternalage.values, alpha=0.5, label=\"maternal age\")\n",
    "plt.legend()"
   ]
  },
  {
   "cell_type": "code",
   "execution_count": 50,
   "metadata": {},
   "outputs": [],
   "source": [
    "df[\"MATERNALAGE\"]=pd.to_numeric(df.MATERNALAGE)"
   ]
  },
  {
   "cell_type": "code",
   "execution_count": 51,
   "metadata": {},
   "outputs": [],
   "source": [
    "# Since I have a list of individual rows.. and I want something like a histogram.. I look\n",
    "# into the pandas doucmentation for methods that aggregate dataframes:\n",
    "# https://pandas.pydata.org/pandas-docs/stable/user_guide/groupby.html\n",
    "#\n",
    "gb = df.groupby([\"MATERNALAGE\", \"STATE\"])"
   ]
  },
  {
   "cell_type": "code",
   "execution_count": 52,
   "metadata": {},
   "outputs": [
    {
     "data": {
      "text/plain": [
       "MATERNALAGE  STATE\n",
       "10           05       10.0\n",
       "             09       10.0\n",
       "             10       10.0\n",
       "             15       10.0\n",
       "             18       10.0\n",
       "                      ... \n",
       "49           24       49.0\n",
       "             33       49.0\n",
       "             39       49.0\n",
       "             44       49.0\n",
       "             50       49.0\n",
       "Name: MATERNALAGE, Length: 1854, dtype: float64"
      ]
     },
     "execution_count": 52,
     "metadata": {},
     "output_type": "execute_result"
    }
   ],
   "source": [
    "gb.MATERNALAGE.median()"
   ]
  },
  {
   "cell_type": "code",
   "execution_count": 53,
   "metadata": {},
   "outputs": [],
   "source": [
    "# That doesn't look very usable..\n",
    "gb = df.groupby([\"STATE\", \"MATERNALAGE\"])"
   ]
  },
  {
   "cell_type": "code",
   "execution_count": 54,
   "metadata": {},
   "outputs": [
    {
     "data": {
      "text/plain": [
       "STATE  MATERNALAGE\n",
       "01     12                8\n",
       "       13               61\n",
       "       14              221\n",
       "       15              613\n",
       "       16             1319\n",
       "                      ... \n",
       "51     43                4\n",
       "       44                4\n",
       "       45                2\n",
       "       46                2\n",
       "       47                1\n",
       "Name: MATERNALAGE, Length: 1854, dtype: int64"
      ]
     },
     "execution_count": 54,
     "metadata": {},
     "output_type": "execute_result"
    }
   ],
   "source": [
    "gb.MATERNALAGE.count()"
   ]
  },
  {
   "cell_type": "code",
   "execution_count": 55,
   "metadata": {},
   "outputs": [
    {
     "data": {
      "text/plain": [
       "STATE  MATERNALAGE\n",
       "01     12                8\n",
       "       13               61\n",
       "       14              221\n",
       "       15              613\n",
       "       16             1319\n",
       "                      ... \n",
       "51     43                4\n",
       "       44                4\n",
       "       45                2\n",
       "       46                2\n",
       "       47                1\n",
       "Name: STATE, Length: 1854, dtype: int64"
      ]
     },
     "execution_count": 55,
     "metadata": {},
     "output_type": "execute_result"
    }
   ],
   "source": [
    "# Well, at least that's the 2d histogram that I can interpret..\n",
    "gb.STATE.count()"
   ]
  },
  {
   "cell_type": "code",
   "execution_count": 56,
   "metadata": {},
   "outputs": [
    {
     "data": {
      "text/plain": [
       "STATE\n",
       "01    25.0\n",
       "02    26.0\n",
       "03    26.0\n",
       "04    24.0\n",
       "05    27.0\n",
       "06    27.0\n",
       "07    28.0\n",
       "08    26.0\n",
       "09    28.0\n",
       "10    26.0\n",
       "11    25.0\n",
       "12    27.0\n",
       "13    26.0\n",
       "14    26.0\n",
       "15    25.0\n",
       "16    26.0\n",
       "17    26.0\n",
       "18    25.0\n",
       "19    25.0\n",
       "20    26.0\n",
       "21    26.0\n",
       "22    28.0\n",
       "23    26.0\n",
       "24    27.0\n",
       "25    24.0\n",
       "26    26.0\n",
       "27    26.0\n",
       "28    26.0\n",
       "29    26.0\n",
       "30    27.0\n",
       "31    28.0\n",
       "32    25.0\n",
       "33    27.0\n",
       "34    25.0\n",
       "35    26.0\n",
       "36    26.0\n",
       "37    25.0\n",
       "38    26.0\n",
       "39    27.0\n",
       "40    27.0\n",
       "41    25.0\n",
       "42    26.0\n",
       "43    25.0\n",
       "44    25.0\n",
       "45    26.0\n",
       "46    27.0\n",
       "47    26.0\n",
       "48    26.0\n",
       "49    24.0\n",
       "50    27.0\n",
       "51    26.0\n",
       "Name: MATERNALAGE, dtype: float64"
      ]
     },
     "execution_count": 56,
     "metadata": {},
     "output_type": "execute_result"
    }
   ],
   "source": [
    "df.groupby(\"STATE\")[\"MATERNALAGE\"].median()"
   ]
  },
  {
   "cell_type": "code",
   "execution_count": null,
   "metadata": {},
   "outputs": [],
   "source": [
    "# That's it.  group by state, apply median() operator to MATERNALAGE field\n",
    "# If only we could decode the states, we would see which states have on average older mothers."
   ]
  },
  {
   "cell_type": "markdown",
   "metadata": {},
   "source": [
    "* Fail early and often\n",
    "* Invest in faster feedback\n",
    "** Hack at, test code with subsets of the data\n",
    "* Specify what you want before you do it\n",
    "* Get it right first, make it fast later\n",
    "* Usually better to use pandas/numpy than do it yourself"
   ]
  },
  {
   "cell_type": "code",
   "execution_count": null,
   "metadata": {},
   "outputs": [],
   "source": [
    "# Cleaning up the numbers which are symbols is a little messier, but is possible:"
   ]
  },
  {
   "cell_type": "code",
   "execution_count": 59,
   "metadata": {},
   "outputs": [
    {
     "data": {
      "text/plain": [
       "{'01': 'AL',\n",
       " '02': 'AK',\n",
       " '03': 'AZ',\n",
       " '04': 'AR',\n",
       " '05': 'CA',\n",
       " '06': 'CO',\n",
       " '07': 'CT',\n",
       " '08': 'DE',\n",
       " '09': 'DC',\n",
       " '10': 'FL',\n",
       " '11': 'GA',\n",
       " '12': 'HI',\n",
       " '13': 'ID',\n",
       " '14': 'IL',\n",
       " '15': 'IN',\n",
       " '16': 'IA',\n",
       " '17': 'KS',\n",
       " '18': 'KY',\n",
       " '19': 'LA',\n",
       " '20': 'ME',\n",
       " '21': 'MD',\n",
       " '22': 'MA',\n",
       " '23': 'MI',\n",
       " '24': 'MN',\n",
       " '25': 'MS',\n",
       " '26': 'MO',\n",
       " '27': 'MT',\n",
       " '28': 'NE',\n",
       " '29': 'NV',\n",
       " '30': 'NH',\n",
       " '31': 'NJ',\n",
       " '32': 'NM',\n",
       " '33': 'NY',\n",
       " '34': 'NC',\n",
       " '35': 'ND',\n",
       " '36': 'OH',\n",
       " '37': 'OK',\n",
       " '38': 'OR',\n",
       " '39': 'PA',\n",
       " '40': 'RI',\n",
       " '41': 'SC',\n",
       " '42': 'SD',\n",
       " '43': 'TN',\n",
       " '44': 'TX',\n",
       " '45': 'UT',\n",
       " '46': 'VT',\n",
       " '47': 'VA',\n",
       " '48': 'WA',\n",
       " '49': 'WV',\n",
       " '50': 'WI',\n",
       " '51': 'WY',\n",
       " '52': 'PR',\n",
       " '53': 'VI',\n",
       " '54': 'GU',\n",
       " '55': 'CA',\n",
       " '56': 'CU',\n",
       " '57': 'MX',\n",
       " '59': 'XX'}"
      ]
     },
     "execution_count": 59,
     "metadata": {},
     "output_type": "execute_result"
    }
   ],
   "source": [
    "h = {}\n",
    "for line in open(\"STATE2829decoder.csv\"):\n",
    "    fields = line.strip().split()\n",
    "    h[fields[0]] = fields[1]\n",
    "h"
   ]
  },
  {
   "cell_type": "code",
   "execution_count": 62,
   "metadata": {},
   "outputs": [],
   "source": [
    "df[\"STATEA\"] = df.STATE.apply(lambda x: h[x])"
   ]
  },
  {
   "cell_type": "code",
   "execution_count": 68,
   "metadata": {},
   "outputs": [
    {
     "data": {
      "text/plain": [
       "STATEA\n",
       "MS    24.0\n",
       "AR    24.0\n",
       "WV    24.0\n",
       "NC    25.0\n",
       "TX    25.0\n",
       "TN    25.0\n",
       "SC    25.0\n",
       "GA    25.0\n",
       "LA    25.0\n",
       "OK    25.0\n",
       "AL    25.0\n",
       "KY    25.0\n",
       "IN    25.0\n",
       "NM    25.0\n",
       "WA    26.0\n",
       "ND    26.0\n",
       "NE    26.0\n",
       "OH    26.0\n",
       "MT    26.0\n",
       "SD    26.0\n",
       "UT    26.0\n",
       "VA    26.0\n",
       "NV    26.0\n",
       "OR    26.0\n",
       "AK    26.0\n",
       "WY    26.0\n",
       "MI    26.0\n",
       "ME    26.0\n",
       "MD    26.0\n",
       "AZ    26.0\n",
       "KS    26.0\n",
       "IL    26.0\n",
       "ID    26.0\n",
       "IA    26.0\n",
       "MO    26.0\n",
       "DE    26.0\n",
       "FL    26.0\n",
       "WI    27.0\n",
       "VT    27.0\n",
       "CA    27.0\n",
       "CO    27.0\n",
       "MN    27.0\n",
       "PA    27.0\n",
       "NY    27.0\n",
       "NH    27.0\n",
       "RI    27.0\n",
       "HI    27.0\n",
       "DC    28.0\n",
       "CT    28.0\n",
       "NJ    28.0\n",
       "MA    28.0\n",
       "Name: MATERNALAGE, dtype: float64"
      ]
     },
     "execution_count": 68,
     "metadata": {},
     "output_type": "execute_result"
    }
   ],
   "source": [
    "df.groupby([ \"STATEA\"]).MATERNALAGE.median().sort_values()"
   ]
  },
  {
   "cell_type": "code",
   "execution_count": 69,
   "metadata": {},
   "outputs": [],
   "source": [
    "# Funny.  All of these are integers.  "
   ]
  },
  {
   "cell_type": "code",
   "execution_count": null,
   "metadata": {},
   "outputs": [],
   "source": []
  }
 ],
 "metadata": {
  "kernelspec": {
   "display_name": "Python 3 (ipykernel)",
   "language": "python",
   "name": "python3"
  },
  "language_info": {
   "codemirror_mode": {
    "name": "ipython",
    "version": 3
   },
   "file_extension": ".py",
   "mimetype": "text/x-python",
   "name": "python",
   "nbconvert_exporter": "python",
   "pygments_lexer": "ipython3",
   "version": "3.9.12"
  }
 },
 "nbformat": 4,
 "nbformat_minor": 4
}
