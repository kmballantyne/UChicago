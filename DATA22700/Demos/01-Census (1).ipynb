{
 "cells": [
  {
   "cell_type": "code",
   "execution_count": null,
   "metadata": {},
   "outputs": [],
   "source": [
    "import numpy as np \n",
    "import matplotlib.pyplot as plt\n",
    "x = np.arange(0,1000000,10000)"
   ]
  },
  {
   "cell_type": "code",
   "execution_count": 1,
   "metadata": {},
   "outputs": [],
   "source": [
    "import pandas as pd\n",
    "d = pd.read_csv(\"census1900-2000.csv\")"
   ]
  },
  {
   "cell_type": "code",
   "execution_count": null,
   "metadata": {},
   "outputs": [],
   "source": [
    "d.dtypes\n"
   ]
  },
  {
   "cell_type": "code",
   "execution_count": null,
   "metadata": {},
   "outputs": [],
   "source": [
    "d"
   ]
  },
  {
   "cell_type": "code",
   "execution_count": null,
   "metadata": {},
   "outputs": [],
   "source": [
    "c1900 = d[d[\"Year\"] == 1900]\n",
    "c1900f = c1900[c1900[\"Sex\" ] == 2]\n",
    "c1900m = c1900[c1900[\"Sex\" ] == 1]\n",
    "\n",
    "c2000 = d[d[\"Year\"] == 2000]\n",
    "c2000f = c2000[c2000[\"Sex\" ] == 2]\n",
    "c2000m = c2000[c2000[\"Sex\" ] == 1]\n"
   ]
  },
  {
   "cell_type": "code",
   "execution_count": null,
   "metadata": {},
   "outputs": [],
   "source": [
    "print(c2000f.sum())\n",
    "print(c2000m.sum())\n",
    "print(c1900f.sum())\n",
    "print(c1900m.sum())"
   ]
  },
  {
   "cell_type": "code",
   "execution_count": null,
   "metadata": {},
   "outputs": [],
   "source": [
    "plt.bar(c2000m[\"Age\"], c2000m[\"People\"])\n"
   ]
  },
  {
   "cell_type": "code",
   "execution_count": null,
   "metadata": {},
   "outputs": [],
   "source": [
    "fig, ax = plt.subplots()\n",
    "plt.bar(c2000m[\"Age\"], c2000m[\"People\"], width=3)\n",
    "ax.ticklabel_format(useMathText=True)"
   ]
  },
  {
   "cell_type": "code",
   "execution_count": null,
   "metadata": {},
   "outputs": [],
   "source": [
    "c1900m"
   ]
  },
  {
   "cell_type": "code",
   "execution_count": null,
   "metadata": {},
   "outputs": [],
   "source": [
    "fig, ax = plt.subplots()\n",
    "plt.bar(c2000m[\"Age\"], c2000m[\"People\"]/1000000, width=3)\n",
    "plt.ylabel(\"Millions\")\n",
    "ax.ticklabel_format(useMathText=True)\n"
   ]
  },
  {
   "cell_type": "code",
   "execution_count": null,
   "metadata": {},
   "outputs": [],
   "source": [
    "fig, ax = plt.subplots()\n",
    "plt.bar(c2000m[\"Age\"], c2000m[\"People\"]/1000000, width=3, label=np.arange(0,19))\n",
    "plt.ylabel(\"Millions\")\n",
    "ax.ticklabel_format(useMathText=True)\n"
   ]
  },
  {
   "cell_type": "code",
   "execution_count": null,
   "metadata": {},
   "outputs": [],
   "source": [
    "c2000m[\"Age\"]"
   ]
  },
  {
   "cell_type": "code",
   "execution_count": null,
   "metadata": {},
   "outputs": [],
   "source": [
    "cohortlabels = [\"{:d}\".format(i) for i in range(0,5) ]"
   ]
  },
  {
   "cell_type": "code",
   "execution_count": null,
   "metadata": {},
   "outputs": [],
   "source": [
    "cohortlabels = []\n",
    "for i in range(0,19):\n",
    "    cohortlabels.append(\"{:d}-{:d}\".format(i*5, i*5+4))\n",
    "cohortlabels"
   ]
  },
  {
   "cell_type": "code",
   "execution_count": null,
   "metadata": {},
   "outputs": [],
   "source": [
    "len(cohortlabels)"
   ]
  },
  {
   "cell_type": "code",
   "execution_count": null,
   "metadata": {},
   "outputs": [],
   "source": []
  },
  {
   "cell_type": "code",
   "execution_count": null,
   "metadata": {},
   "outputs": [],
   "source": [
    "cohortlabels = [\"{:d}-{:d}\".format(i*5, i*5+4) for i in range(0,19) ]"
   ]
  },
  {
   "cell_type": "code",
   "execution_count": null,
   "metadata": {},
   "outputs": [],
   "source": [
    "cohortlabels\n"
   ]
  },
  {
   "cell_type": "code",
   "execution_count": null,
   "metadata": {},
   "outputs": [],
   "source": [
    "cohortlabels=cohortlabels[0:19]\n",
    "cohortlabels[-1]=\"90+\"\n",
    "cohortlabels"
   ]
  },
  {
   "cell_type": "code",
   "execution_count": null,
   "metadata": {},
   "outputs": [],
   "source": [
    "fig, ax = plt.subplots()\n",
    "plt.bar(cohortlabels, c2000m[\"People\"]/1000000, width=0.8, label=np.arange(0,19))\n",
    "plt.ylabel(\"Millions\")\n"
   ]
  },
  {
   "cell_type": "code",
   "execution_count": null,
   "metadata": {},
   "outputs": [],
   "source": [
    "cohortlabels"
   ]
  },
  {
   "cell_type": "code",
   "execution_count": null,
   "metadata": {},
   "outputs": [],
   "source": [
    "len(cohortlabels)"
   ]
  },
  {
   "cell_type": "code",
   "execution_count": null,
   "metadata": {},
   "outputs": [],
   "source": [
    "cohortlabelsodd=list(cohortlabels)\n",
    "for i in range(1,19,2):\n",
    "    cohortlabelsodd[i]=\"\"\n"
   ]
  },
  {
   "cell_type": "code",
   "execution_count": null,
   "metadata": {},
   "outputs": [],
   "source": [
    "cohortlabelsodd"
   ]
  },
  {
   "cell_type": "code",
   "execution_count": null,
   "metadata": {},
   "outputs": [],
   "source": [
    "fig, ax = plt.subplots()\n",
    "plt.bar(x=cohortlabelsodd, height=c2000m[\"People\"]/1000000, width=0.8)\n",
    "plt.ylabel(\"Millions\")"
   ]
  },
  {
   "cell_type": "code",
   "execution_count": null,
   "metadata": {},
   "outputs": [],
   "source": [
    "fig, ax = plt.subplots()\n",
    "plt.bar(x=np.arange(0,19), height=c2000m[\"People\"]/1000000, width=0.8, tick_label=cohortlabelsodd)\n",
    "plt.ylabel(\"Millions\")\n"
   ]
  },
  {
   "cell_type": "code",
   "execution_count": null,
   "metadata": {},
   "outputs": [],
   "source": [
    "fig, ax = plt.subplots()\n",
    "plt.bar(x=np.arange(0,19), height=c2000m[\"People\"]/1000000, width=0.8, tick_label=cohortlabelsodd)\n",
    "# according to https://www.delftstack.com/howto/matplotlib/how-to-set-the-figure-title-and-axes-labels-font-size-in-matplotlib/ \n",
    "# I can pass fontsize as a parameter to plt.ylabel:\n",
    "plt.ylabel(\"Millions\", fontsize=20)\n"
   ]
  },
  {
   "cell_type": "code",
   "execution_count": null,
   "metadata": {},
   "outputs": [],
   "source": [
    "# That puts the y label in a BIG FONT but now all the axis labels look disproportionately small.\n",
    "# plt.xticks(fontsize=12) and plt.yticks(fontsize=12)"
   ]
  },
  {
   "cell_type": "code",
   "execution_count": null,
   "metadata": {},
   "outputs": [],
   "source": [
    "fig, ax = plt.subplots()\n",
    "plt.bar(x=np.arange(0,19), height=c2000m[\"People\"]/1000000, width=0.8, tick_label=cohortlabelsodd)\n",
    "# according to https://www.delftstack.com/howto/matplotlib/how-to-set-the-figure-title-and-axes-labels-font-size-in-matplotlib/ \n",
    "# I can pass fontsize as a parameter to plt.ylabel:\n",
    "plt.ylabel(\"Millions\", fontsize=20)\n",
    "plt.xticks(fontsize=12)\n",
    "plt.yticks(fontsize=12)\n",
    "1"
   ]
  },
  {
   "cell_type": "code",
   "execution_count": null,
   "metadata": {},
   "outputs": [],
   "source": [
    "# The only way I'm going to win this one is by making the plot larger.\n",
    "# At any font sizes larger than the default 10 the labels run into each other unacceptably."
   ]
  },
  {
   "cell_type": "code",
   "execution_count": null,
   "metadata": {},
   "outputs": [],
   "source": [
    "fig, ax = plt.subplots(figsize = (10,5))\n",
    "\n",
    "\n",
    "plt.bar(x=np.arange(0,19), height=c2000m[\"People\"]/1000000, width=0.8, tick_label=cohortlabelsodd)\n",
    "# according to https://www.delftstack.com/howto/matplotlib/how-to-set-the-figure-title-and-axes-labels-font-size-in-matplotlib/ \n",
    "# I can pass fontsize as a parameter to plt.ylabel:\n",
    "plt.title(\"2000 U.S. census, males\", fontsize=20)\n",
    "\n",
    "plt.ylabel(\"Millions\", fontsize=20)\n",
    "plt.xlabel(\"Age in 2000\", fontsize=20)\n",
    "\n",
    "plt.xticks(fontsize=12)\n",
    "plt.yticks(fontsize=12)\n",
    "1"
   ]
  },
  {
   "cell_type": "code",
   "execution_count": null,
   "metadata": {},
   "outputs": [],
   "source": [
    "# and the visualization is finally free of correctible, serious implementation flaws."
   ]
  },
  {
   "cell_type": "code",
   "execution_count": null,
   "metadata": {},
   "outputs": [],
   "source": [
    "# how much did population grow?\n",
    "c2000f[\"People\"].sum()+c2000m[\"People\"].sum()"
   ]
  },
  {
   "cell_type": "code",
   "execution_count": null,
   "metadata": {},
   "outputs": [],
   "source": [
    "# how many in 1900?\n",
    "c1900f[\"People\"].sum()+c1900m[\"People\"].sum()"
   ]
  },
  {
   "cell_type": "code",
   "execution_count": null,
   "metadata": {},
   "outputs": [],
   "source": []
  },
  {
   "cell_type": "code",
   "execution_count": null,
   "metadata": {},
   "outputs": [],
   "source": []
  }
 ],
 "metadata": {
  "kernelspec": {
   "display_name": "Python 3 (ipykernel)",
   "language": "python",
   "name": "python3"
  },
  "language_info": {
   "codemirror_mode": {
    "name": "ipython",
    "version": 3
   },
   "file_extension": ".py",
   "mimetype": "text/x-python",
   "name": "python",
   "nbconvert_exporter": "python",
   "pygments_lexer": "ipython3",
   "version": "3.9.12"
  }
 },
 "nbformat": 4,
 "nbformat_minor": 4
}
