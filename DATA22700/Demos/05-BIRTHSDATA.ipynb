{
 "cells": [
  {
   "cell_type": "code",
   "execution_count": null,
   "metadata": {},
   "outputs": [],
   "source": [
    "import pandas as pd\n",
    "import numpy as np\n",
    "import matplotlib.pyplot as plt\n",
    "n1988 = pd.read_csv(\"~/Downloads/birth/NATL1988.txt\")"
   ]
  },
  {
   "cell_type": "code",
   "execution_count": null,
   "metadata": {},
   "outputs": [],
   "source": [
    "# From the documentation of the detail natality file for 1990 data:\n",
    "# NCHS has adopted a new policy on release of vital statistics unit record\n",
    "# data files.  This new policy was implemented for the 1989 vital event\n",
    "# files to prevent the inadvertent disclosure of individuals and institutions.\n",
    "# As a result, the files for 1989 and later years do not contain the\n",
    "# acutal day or the birth or the dates of birth of the mother or father.\n",
    "# The geographic detail is also restricted...\n",
    "\n",
    "# These datasets are currently distributed by the CDC Vital Satistics Online Portal\n",
    "# https://www.cdc.gov/nchs/data_access/vitalstatsonline.htm\n",
    "\n",
    "# and the NATL1988.zip dataset is \n",
    "# https://ftp.cdc.gov/pub/Health_Statistics/NCHS/Datasets/DVS/natality/Nat1988.zip\n",
    "# with the data dictionary https://ftp.cdc.gov/pub/Health_Statistics/NCHS/Dataset_Documentation/DVS/natality/Nat1988doc.pdf\n"
   ]
  },
  {
   "cell_type": "code",
   "execution_count": null,
   "metadata": {
    "tags": []
   },
   "outputs": [],
   "source": [
    "n1988.head()"
   ]
  },
  {
   "cell_type": "markdown",
   "metadata": {},
   "source": [
    "Pandas thought the first row was a header definition row (which isn't going to work with fixed-with fields like we have here).  I do not want to lose the first row, or call it by its true name, so turn off header parsing:"
   ]
  },
  {
   "cell_type": "code",
   "execution_count": null,
   "metadata": {},
   "outputs": [],
   "source": [
    "n1988 = pd.read_csv(\"~/Downloads/birth/NATL1988.txt\", header=None)"
   ]
  },
  {
   "cell_type": "code",
   "execution_count": 6,
   "metadata": {},
   "outputs": [
    {
     "data": {
      "text/plain": [
       "Int64Index([0], dtype='int64')"
      ]
     },
     "execution_count": 6,
     "metadata": {},
     "output_type": "execute_result"
    }
   ],
   "source": [
    "n1988.columns"
   ]
  },
  {
   "cell_type": "markdown",
   "metadata": {},
   "source": [
    "Now I have a single column, creatively named \"0\""
   ]
  },
  {
   "cell_type": "code",
   "execution_count": null,
   "metadata": {},
   "outputs": [],
   "source": [
    "n1988[0]"
   ]
  },
  {
   "cell_type": "markdown",
   "metadata": {},
   "source": [
    "And you can see I have an index running from 0 to 3,913,792"
   ]
  },
  {
   "cell_type": "code",
   "execution_count": null,
   "metadata": {},
   "outputs": [],
   "source": [
    "n1988[0][0]"
   ]
  },
  {
   "cell_type": "markdown",
   "metadata": {},
   "source": [
    "Accessing the rows with square brackets works, but I should probably use .loc"
   ]
  },
  {
   "cell_type": "code",
   "execution_count": null,
   "metadata": {},
   "outputs": [],
   "source": [
    "n1988[0].loc[1000]"
   ]
  },
  {
   "cell_type": "markdown",
   "metadata": {},
   "source": [
    "This is a row.. How long is it?"
   ]
  },
  {
   "cell_type": "code",
   "execution_count": null,
   "metadata": {},
   "outputs": [],
   "source": [
    "len(n1988[0].loc[0])"
   ]
  },
  {
   "cell_type": "code",
   "execution_count": null,
   "metadata": {},
   "outputs": [],
   "source": [
    "# This looks like a row.. can I get columns?"
   ]
  },
  {
   "cell_type": "code",
   "execution_count": null,
   "metadata": {},
   "outputs": [],
   "source": [
    "n1988[0].loc[0][105]"
   ]
  },
  {
   "cell_type": "markdown",
   "metadata": {},
   "source": [
    "It looks like I can access columns with square brackets and a column number."
   ]
  },
  {
   "cell_type": "code",
   "execution_count": null,
   "metadata": {},
   "outputs": [],
   "source": [
    "# Loop over the data, get the 60th column \"birth order\" and put it in a dataframe.\n",
    "# I'll create an empty list, fill it with strings, and then \n",
    "# convert the list of strings into a dataframe.\n",
    "\n",
    "p = []\n",
    "for i in n1988.index:\n",
    "    p.append(n1988[0].loc[i][60])\n",
    "pf = pd.DataFrame(p)\n",
    "pf.head()"
   ]
  },
  {
   "cell_type": "markdown",
   "metadata": {},
   "source": [
    "Note the data formats.. I created a empty list, filled it with strings, and then converted a list of strings into a dataframe."
   ]
  },
  {
   "cell_type": "code",
   "execution_count": null,
   "metadata": {},
   "outputs": [],
   "source": [
    "pf.head()"
   ]
  },
  {
   "cell_type": "code",
   "execution_count": null,
   "metadata": {},
   "outputs": [],
   "source": [
    "pf.value_counts()"
   ]
  },
  {
   "cell_type": "code",
   "execution_count": null,
   "metadata": {},
   "outputs": [],
   "source": [
    "# This does not look right.  \n",
    "# This does not look like column 60, birth order, but\n",
    "# Column 61, the tens place of \"detail live birth order\"\n",
    "#  OK.  This is the python-starts-at-zero property."
   ]
  },
  {
   "cell_type": "code",
   "execution_count": null,
   "metadata": {},
   "outputs": [],
   "source": [
    "# Loop over the data, get column 60 (total birth order recode 9) and \n",
    "# 41-42  (age of mother single years recode 36)  and put it in a dataframe.\n",
    "p = []\n",
    "q = []\n",
    "for i in n1988.index:\n",
    "    p.append(n1988[0][i][60-1])\n",
    "    q.append(n1988[0][i][(41-1):(42-1+1)])\n",
    "\n",
    "pf = pd.DataFrame({\"BIRTHORDER\": p, \"MATERNALAGE\":q})"
   ]
  },
  {
   "cell_type": "code",
   "execution_count": null,
   "metadata": {},
   "outputs": [],
   "source": [
    "pf.head()"
   ]
  },
  {
   "cell_type": "code",
   "execution_count": null,
   "metadata": {},
   "outputs": [],
   "source": [
    "pf[\"BIRTHORDER\"].value_counts()"
   ]
  },
  {
   "cell_type": "code",
   "execution_count": null,
   "metadata": {},
   "outputs": [],
   "source": [
    "pf.MATERNALAGE.value_counts()"
   ]
  },
  {
   "cell_type": "code",
   "execution_count": null,
   "metadata": {},
   "outputs": [],
   "source": [
    "dir(pf.MATERNALAGE.value_counts())"
   ]
  },
  {
   "cell_type": "code",
   "execution_count": null,
   "metadata": {},
   "outputs": [],
   "source": [
    "pf.MATERNALAGE.value_counts().values"
   ]
  },
  {
   "cell_type": "code",
   "execution_count": null,
   "metadata": {},
   "outputs": [],
   "source": [
    "plt.bar(pf[\"BIRTHORDER\"].value_counts().index, pf[\"BIRTHORDER\"].value_counts().values)"
   ]
  },
  {
   "cell_type": "code",
   "execution_count": null,
   "metadata": {},
   "outputs": [],
   "source": [
    "plt.xlabel(\"Birth order\")"
   ]
  },
  {
   "cell_type": "code",
   "execution_count": null,
   "metadata": {},
   "outputs": [],
   "source": [
    "p = []\n",
    "q = []\n",
    "for i in n1988.index:\n",
    "    p.append(n1988[0][i][60-1])\n",
    "    q.append(n1988[0][i][(41-1):(42-1+1)])\n",
    "\n",
    "pf = pd.DataFrame({\"BIRTHORDER\": p, \"MATERNALAGE\":q})"
   ]
  },
  {
   "cell_type": "code",
   "execution_count": null,
   "metadata": {},
   "outputs": [],
   "source": [
    "# Loop over the data, get columns 84-87 (month and date of birth)\n",
    "# and put it in a dataframe.\n",
    "p = []\n",
    "q = []\n",
    "for i in n1988.index:\n",
    "    p.append(n1988[0][i][(84-1):(85-1+1)]) # MONTH\n",
    "    q.append(n1988[0][i][(86-1):(87-1+1)]) # DAY\n",
    "birthdate = pd.DataFrame({\"MONTH\": p, \"DAY\":q})"
   ]
  },
  {
   "cell_type": "code",
   "execution_count": null,
   "metadata": {},
   "outputs": [],
   "source": [
    "birthdate.MONTH.value_counts()"
   ]
  },
  {
   "cell_type": "code",
   "execution_count": null,
   "metadata": {},
   "outputs": [],
   "source": [
    "months = birthdate.MONTH.value_counts().sort_values()\n",
    "months"
   ]
  },
  {
   "cell_type": "code",
   "execution_count": null,
   "metadata": {},
   "outputs": [],
   "source": [
    "months = birthdate.MONTH.value_counts().sort_values(\"index\")\n",
    "months"
   ]
  },
  {
   "cell_type": "code",
   "execution_count": null,
   "metadata": {},
   "outputs": [],
   "source": [
    "months = birthdate.MONTH.value_counts().sort_index()\n",
    "months"
   ]
  },
  {
   "cell_type": "code",
   "execution_count": null,
   "metadata": {},
   "outputs": [],
   "source": [
    "plt.bar(months.index, months.values)"
   ]
  },
  {
   "cell_type": "code",
   "execution_count": null,
   "metadata": {},
   "outputs": [],
   "source": [
    "days = birthdate.DAY.value_counts().sort_index()\n",
    "days"
   ]
  },
  {
   "cell_type": "code",
   "execution_count": null,
   "metadata": {},
   "outputs": [],
   "source": [
    "plt.bar(days.index, days)"
   ]
  },
  {
   "cell_type": "code",
   "execution_count": null,
   "metadata": {},
   "outputs": [],
   "source": [
    "plt.figure(figsize=(15,10))\n",
    "plt.bar(days.index, days)"
   ]
  },
  {
   "cell_type": "code",
   "execution_count": null,
   "metadata": {},
   "outputs": [],
   "source": [
    "pd.to_datetime(\"1988-01-01\")"
   ]
  },
  {
   "cell_type": "code",
   "execution_count": null,
   "metadata": {},
   "outputs": [],
   "source": [
    "birthdate.head()"
   ]
  },
  {
   "cell_type": "markdown",
   "metadata": {},
   "source": [
    "I'm pretty sure I'm going to need to change these into a time format to make good use of them.  Let us construct an ISO-8601-compliant string like 1988-01-02 and add it as a new column."
   ]
  },
  {
   "cell_type": "code",
   "execution_count": null,
   "metadata": {},
   "outputs": [],
   "source": [
    "birthdate[\"ISO8601\"] = pd.to_datetime(\"1988\" + birthdate[\"MONTH\"]+ birthdate[\"DAY\"])"
   ]
  },
  {
   "cell_type": "code",
   "execution_count": null,
   "metadata": {},
   "outputs": [],
   "source": [
    "# ParserError: day is out of range for month: 19881099\n",
    "\n",
    "# Believe it or not, this is good news.  October 99th is not being coded as a date.\n",
    "# https://pandas.pydata.org/docs/reference/api/pandas.to_datetime.html\n",
    "# we have options errors=\"ignore\" which will set the date to the input or\n",
    "# errors=\"coerce\" which will set the date to Not a Time.\n",
    "birthdate[\"DATE\"] = pd.to_datetime(\"1988\" + birthdate[\"MONTH\"]+ birthdate[\"DAY\"], errors=\"coerce\")"
   ]
  },
  {
   "cell_type": "code",
   "execution_count": null,
   "metadata": {},
   "outputs": [],
   "source": [
    "# It completes this time.  Look at the output \n",
    "birthdate.head()"
   ]
  },
  {
   "cell_type": "code",
   "execution_count": null,
   "metadata": {},
   "outputs": [],
   "source": [
    "# This is the example code from a python module for making calendars:\n",
    "# https://github.com/tomkwok/calplot\n",
    "import calplot\n",
    "import numpy as np; np.random.seed(sum(map(ord, 'calplot')))\n",
    "import pandas as pd\n",
    "all_days = pd.date_range('1/1/2019', periods=730, freq='D')\n",
    "days = np.random.choice(all_days, 500)\n",
    "events = pd.Series(np.random.randn(len(days)), index=days)\n",
    "calplot.calplot(events)\n"
   ]
  },
  {
   "cell_type": "code",
   "execution_count": null,
   "metadata": {},
   "outputs": [],
   "source": [
    "all_days = pd.date_range('1/1/1988', periods=365, freq='D')\n",
    "days = np.random.choice(all_days, 500)\n",
    "events = pd.Series(np.random.randn(len(days)), index=days)\n",
    "calplot.calplot(events)\n",
    "events.head()"
   ]
  },
  {
   "cell_type": "code",
   "execution_count": null,
   "metadata": {},
   "outputs": [],
   "source": [
    "datehist = birthdate[\"DATE\"].value_counts()\n",
    "datehist.head()"
   ]
  },
  {
   "cell_type": "code",
   "execution_count": null,
   "metadata": {},
   "outputs": [],
   "source": [
    "# This looks promising.  Let us try making a calendar plot.\n",
    "calplot.calplot(datehist)\n"
   ]
  },
  {
   "cell_type": "code",
   "execution_count": null,
   "metadata": {},
   "outputs": [],
   "source": [
    "plt.bar(datehist)"
   ]
  },
  {
   "cell_type": "code",
   "execution_count": null,
   "metadata": {},
   "outputs": [],
   "source": [
    "plt.bar(range(len(datehist)), datehist)"
   ]
  },
  {
   "cell_type": "code",
   "execution_count": null,
   "metadata": {},
   "outputs": [],
   "source": [
    "#  Aaaargghh.  When I created the histogram, it sorted by value, which is bad.\n",
    "#  Why do we have a bimodal distribution here?"
   ]
  },
  {
   "cell_type": "code",
   "execution_count": null,
   "metadata": {},
   "outputs": [],
   "source": [
    "plt.bar(range(len(datehist)), datehist.sort_index())"
   ]
  },
  {
   "cell_type": "code",
   "execution_count": null,
   "metadata": {},
   "outputs": [],
   "source": [
    "# Make this wider, more pleasant to look at\n",
    "plt.figure(figsize=(16,8))\n",
    "plt.bar(range(1,len(datehist)+1), datehist.sort_index(), width=1)\n",
    "plt.xlabel (\"Day in 1988\")"
   ]
  },
  {
   "cell_type": "code",
   "execution_count": null,
   "metadata": {},
   "outputs": [],
   "source": [
    "# This is not presentation-ready, but this gives us some pretty good insight into\n",
    "# three drivers of birth timing, weekends, holidays, and a seasonal modulation."
   ]
  },
  {
   "cell_type": "code",
   "execution_count": null,
   "metadata": {},
   "outputs": [],
   "source": [
    "# Let us look back at our data parser, though.  \n",
    "# It's slow, and I don't want to edit it every time\n",
    "# a new column comes to my attention.\n",
    "\n",
    "# Loop over the data, get columns 84-87 (month and date of birth)\n",
    "# and put it in a dataframe.\n",
    "p = []\n",
    "q = []\n",
    "for i in n1988.index:\n",
    "    p.append(n1988[0][i][(84-1):(85-1+1)]) # MONTH\n",
    "    q.append(n1988[0][i][(86-1):(87-1+1)]) # DAY\n",
    "birthdate = pd.DataFrame({\"MONTH\": p, \"DAY\":q})"
   ]
  },
  {
   "cell_type": "markdown",
   "metadata": {},
   "source": [
    "Looking at the description...\n",
    "\n",
    "![Data description](FIELDS.jpg \"Exceprt from data description showing Date and month fields\")\n",
    "\n",
    "To get the data into our computing environment, we have three tasks:\n",
    "1. extract columns (with the right field width)\n",
    "2. associate columns with human-readable names \n",
    "3. decode symbols \n",
    "\n",
    "If we can put the layout of the database *into data, instead of code*, we can expand the scope of our investigation by modifying data, *not code*.  This will work well for us."
   ]
  },
  {
   "cell_type": "code",
   "execution_count": null,
   "metadata": {},
   "outputs": [],
   "source": [
    "# let's start with trying to use data to specify the layout,\n",
    "# write a partser that generates a dataframe with column names,\n",
    "# and we can expand to more columns (and decode the symbols) later.\n"
   ]
  },
  {
   "cell_type": "code",
   "execution_count": null,
   "metadata": {},
   "outputs": [],
   "source": []
  },
  {
   "cell_type": "code",
   "execution_count": null,
   "metadata": {},
   "outputs": [],
   "source": [
    "# Let us start with something like these fields (which do not require decoding)\n",
    "# This is a (pure python) list of lists\n",
    "#  [ [startcolumn, stopcolumn, fieldname] ] \n",
    "dict1988 =[\n",
    "    [84, 85, \"MONTHOFBIRTH\"],\n",
    "    [86, 87, \"DAYOFMONTH\"],\n",
    "]\n",
    "# Since this is our data structure for our use, we can use any data type that works;\n",
    "# there is no requirement that we use pandas or numpy here.\n"
   ]
  },
  {
   "cell_type": "markdown",
   "metadata": {
    "jupyter": {
     "outputs_hidden": true
    }
   },
   "source": [
    "# Now, to organize my thoughts, I'm going to write a function prototype with a docstring that tells me what I need and what I promise to deliver."
   ]
  },
  {
   "cell_type": "code",
   "execution_count": null,
   "metadata": {},
   "outputs": [],
   "source": [
    "def parse_natality(natalitydata, datadictionary):\n",
    "    '''Take in pandas dataframe natalitydata and list-of-lists \n",
    "    datadictionary  (for example [[43, 44, \"MATERNALAGE\"]] ) \n",
    "    and return a pandas dataframe (same number of rows) with \n",
    "    labeled columns  '''"
   ]
  },
  {
   "cell_type": "code",
   "execution_count": null,
   "metadata": {},
   "outputs": [],
   "source": [
    "#  Where to start?  For loop over data dictionary first, or for loop over data?\n",
    "#  Hint: which one is more expensive? This is the one we will want to do once.\n",
    "# "
   ]
  },
  {
   "cell_type": "code",
   "execution_count": null,
   "metadata": {},
   "outputs": [],
   "source": [
    "print(type(n1988[0]))\n",
    "n1988[0]"
   ]
  },
  {
   "cell_type": "code",
   "execution_count": null,
   "metadata": {},
   "outputs": [],
   "source": [
    "print(type(n1988[0].loc[42]))\n",
    "n1988[0].loc[42]"
   ]
  },
  {
   "cell_type": "code",
   "execution_count": null,
   "metadata": {},
   "outputs": [],
   "source": [
    "print(type(n1988[0].loc[42][83:84+1]))\n",
    "n1988[0].loc[42][83:84+1]"
   ]
  },
  {
   "cell_type": "code",
   "execution_count": null,
   "metadata": {},
   "outputs": [],
   "source": [
    "# So I can access the cth column and ith row with df[0].loc[i][c]"
   ]
  },
  {
   "cell_type": "code",
   "execution_count": null,
   "metadata": {},
   "outputs": [],
   "source": [
    "# First I'm going to make certain I have the data I think I do\n",
    "def parse_natality(natalitydata, datadictionary):\n",
    "    '''Take in pandas dataframe natalitydata and list-of-lists datadictionary\n",
    "    (for example [[43, 44, \"MATERNALAGE\"]] ) and return a pandas dataframe (same \n",
    "    number of rows) with labeled columns  '''\n",
    "    for index in natalitydata.index:\n",
    "        for start, stop, column_name in datadictionary:\n",
    "            if index < 3:\n",
    "                print(index, start,stop, column_name)"
   ]
  },
  {
   "cell_type": "code",
   "execution_count": null,
   "metadata": {},
   "outputs": [],
   "source": [
    "parse_natality(n1988, dict1988)"
   ]
  },
  {
   "cell_type": "code",
   "execution_count": null,
   "metadata": {},
   "outputs": [],
   "source": [
    "# Above, we had hard-coded lists p and q that took all our intermediate data.  \n",
    "# If we are going to automate column-extraction, we need a more flexible data structure.\n",
    "# Dictionary of lists.\n",
    "# So let's make a dictionary of empty lists first.\n",
    "def parse_natality(natalitydata, datadictionary):\n",
    "    '''Take in pandas dataframe natalitydata and list-of-lists datadictionary\n",
    "    (for example [[43, 44, \"MATERNALAGE\"]] ) and return a pandas dataframe (same \n",
    "    number of rows) with labeled columns  '''\n",
    "    intermediate_data={}\n",
    "    # First, populate intermediate_data with empty lists for each column_name\n",
    "    for start, stop, column_name in datadictionary:\n",
    "        intermediate_data[column_name] = []\n",
    "    # Now loop through the data    \n",
    "    for index in natalitydata.index:\n",
    "        for start, stop, column_name in datadictionary:\n",
    "            if index < 3:\n",
    "                print(index, start,stop, column_name)\n",
    "    return intermediate_data"
   ]
  },
  {
   "cell_type": "code",
   "execution_count": null,
   "metadata": {},
   "outputs": [],
   "source": [
    "parse_natality(n1988, dict1988)"
   ]
  },
  {
   "cell_type": "code",
   "execution_count": null,
   "metadata": {},
   "outputs": [],
   "source": [
    "def parse_natality(natalitydata, datadictionary):\n",
    "    '''Take in pandas dataframe natalitydata and list-of-lists datadictionary\n",
    "    (for example [[43, 44, \"MATERNALAGE\"]] ) and return a pandas dataframe (same \n",
    "    number of rows) with labeled columns  '''\n",
    "    intermediate_data={}\n",
    "    # First, populate intermediate_data with empty lists for each column_name\n",
    "    for start, stop, column_name in datadictionary:\n",
    "        intermediate_data[column_name] = []\n",
    "    for idx in natalitydata.index:\n",
    "        for start, stop, column_name in datadictionary:\n",
    "            if idx < 3:\n",
    "                datafield = natalitydata.loc[idx][0][start:(stop+1)]\n",
    "                print(idx, start,stop, column_name, datafield)\n",
    "    return intermediate_data"
   ]
  },
  {
   "cell_type": "code",
   "execution_count": null,
   "metadata": {},
   "outputs": [],
   "source": [
    "parse_natality(n1988, dict1988)"
   ]
  },
  {
   "cell_type": "code",
   "execution_count": null,
   "metadata": {},
   "outputs": [],
   "source": [
    "# Well, that's not right.  Day of month 80?  Birth order 0?  Off-by-one again\n",
    "def parse_natality(natalitydata, datadictionary):\n",
    "    '''Take in pandas dataframe natalitydata and list-of-lists datadictionary\n",
    "    (for example [[43, 44, \"MATERNALAGE\"]] ) and return a pandas dataframe (same \n",
    "    number of rows) with labeled columns  '''\n",
    "    intermediate_data={}\n",
    "    for start, stop, column_name in datadictionary:\n",
    "        intermediate_data[column_name] = []\n",
    "    for idx in natalitydata.index:\n",
    "        for start, stop, column_name in datadictionary:\n",
    "            if idx < 3:\n",
    "                datafield = natalitydata.loc[idx][0][start-1:(stop-1+1)]\n",
    "                print(idx, start,stop, column_name, datafield)\n",
    "    return intermediate_data"
   ]
  },
  {
   "cell_type": "code",
   "execution_count": null,
   "metadata": {},
   "outputs": [],
   "source": [
    "parse_natality(n1988, dict1988)"
   ]
  },
  {
   "cell_type": "code",
   "execution_count": null,
   "metadata": {},
   "outputs": [],
   "source": [
    "# These values look sane now, so let us put the data in lists.\n",
    "def parse_natality(natalitydata, datadictionary):\n",
    "    '''Take in pandas dataframe natalitydata and list-of-lists datadictionary\n",
    "    (for example [[43, 44, \"MATERNALAGE\"]] ) and return a pandas dataframe (same \n",
    "    number of rows) with labeled columns  '''\n",
    "    intermediate_data={}\n",
    "    for start, stop, column_name in datadictionary:\n",
    "        intermediate_data[column_name] = []\n",
    "    for idx in natalitydata.index:\n",
    "        for start, stop, column_name in datadictionary:\n",
    "            datafield = natalitydata.loc[idx][0][start-1:(stop-1+1)]\n",
    "            intermediate_data[column_name].append(datafield)\n",
    "   #         if idx < 3:\n",
    "   #              print(idx, start,stop, column_name, natalitydata.loc[idx][0][start-1:(stop-1+1)])\n",
    "    return intermediate_data"
   ]
  },
  {
   "cell_type": "code",
   "execution_count": null,
   "metadata": {},
   "outputs": [],
   "source": [
    "parse_natality(n1988, dict1988)"
   ]
  },
  {
   "cell_type": "code",
   "execution_count": null,
   "metadata": {},
   "outputs": [],
   "source": [
    "# Takes a while this time.  And it returns a hash of lists.  I'd prefer pandas data frames..\n",
    "import time\n",
    "starttime = time.time()\n",
    "parse_natality(n1988, dict1988)\n",
    "stoptime = time.time()\n",
    "print(stoptime-starttime)   # Agh.   12 minutes "
   ]
  },
  {
   "cell_type": "code",
   "execution_count": null,
   "metadata": {},
   "outputs": [],
   "source": [
    "# My code doesn't even give me a dataframe yet and it's taking forever.  \n",
    "# Faster feedback will take me to my goal faster.. so create a dataframe \n",
    "# that only has 1% of the data: \n",
    "n1988sample = n1988[::100]\n",
    "len(n1988sample)"
   ]
  },
  {
   "cell_type": "code",
   "execution_count": null,
   "metadata": {},
   "outputs": [],
   "source": [
    "# transfer data from intermediate_data hash to pandas dataframe at the end\n",
    "def parse_natality(natalitydata, datadictionary):\n",
    "    '''Take in pandas dataframe natalitydata and list-of-lists datadictionary\n",
    "    (for example [[43, 44, \"MATERNALAGE\"]] ) and return a pandas dataframe (same \n",
    "    number of rows) with labeled columns  '''\n",
    "    intermediate_data={}\n",
    "    for start, stop, column_name in datadictionary:\n",
    "        intermediate_data[column_name] = []\n",
    "    for idx in natalitydata.index:\n",
    "        for start, stop, column_name in datadictionary:\n",
    "            intermediate_data[column_name].append(natalitydata.loc[idx][0][start-1:(stop-1+1)])\n",
    "   #         if idx < 3:\n",
    "   #              print(idx, start,stop, column_name, natalitydata.loc[idx][0][start-1:(stop-1+1)])\n",
    "    df = pd.DataFrame()\n",
    "    for start, stop, column_name in datadictionary:\n",
    "        print(column_name)\n",
    "        df[column_name] = pd.Series(intermediate_data[column_name])\n",
    "    return df"
   ]
  },
  {
   "cell_type": "code",
   "execution_count": null,
   "metadata": {},
   "outputs": [],
   "source": [
    "starttime=time.time()\n",
    "df = parse_natality(n1988sample, dict1988)\n",
    "stoptime=time.time()\n",
    "print(stoptime-starttime)"
   ]
  },
  {
   "cell_type": "code",
   "execution_count": null,
   "metadata": {},
   "outputs": [],
   "source": [
    "df"
   ]
  },
  {
   "cell_type": "code",
   "execution_count": null,
   "metadata": {},
   "outputs": [],
   "source": [
    "#  This puts my data in a reasonably good place, but now I worry about efficiency.\n",
    "#  This didn't take long, but it was 1% of the whole dataset.\n",
    "#  I only have to run this when I want to get new columns, but still, I want to \n",
    "#  lower my personal cost of accessing information.\n",
    "\n",
    "# Why am I looping through all 4M records?  Because I am accessing \n",
    "# the columns by .loc[i][colnumber].  Can pandas help me?\n",
    "# https://pandas.pydata.org/pandas-docs/version/1.3/user_guide/text.html \n",
    "\n",
    "# pd.str.get() will extract a single column *as a pandas dataframe*,\n",
    "# so I can get all the rows with a single operation. "
   ]
  },
  {
   "cell_type": "code",
   "execution_count": null,
   "metadata": {},
   "outputs": [],
   "source": [
    "n1988sample[0].str.get(80)"
   ]
  },
  {
   "cell_type": "code",
   "execution_count": null,
   "metadata": {},
   "outputs": [],
   "source": [
    "def parse_natality(natalitydata, datadictionary):\n",
    "    '''Take in pandas dataframe natalitydata and list-of-lists datadictionary\n",
    "    (for example [[43, 44, \"MATERNALAGE\"]] ) and return a pandas dataframe (same \n",
    "    number of rows) with labeled columns  '''\n",
    "    df = pd.DataFrame()\n",
    "    for start, stop, column_name in datadictionary:\n",
    "        df[column_name] = natalitydata[0].str.get(start-1)\n",
    "    return df\n"
   ]
  },
  {
   "cell_type": "code",
   "execution_count": null,
   "metadata": {},
   "outputs": [],
   "source": [
    "starttime=time.time()\n",
    "df = parse_natality(n1988sample, dict1988) \n",
    "stoptime=time.time()\n",
    "print(stoptime-starttime)"
   ]
  },
  {
   "cell_type": "code",
   "execution_count": null,
   "metadata": {},
   "outputs": [],
   "source": [
    "df"
   ]
  },
  {
   "cell_type": "code",
   "execution_count": null,
   "metadata": {},
   "outputs": [],
   "source": [
    "# almost there, but pd.str.get()  only gets one column at a time.\n"
   ]
  },
  {
   "cell_type": "code",
   "execution_count": null,
   "metadata": {},
   "outputs": [],
   "source": [
    "def parse_natality(natalitydata, datadictionary):\n",
    "    '''Take in pandas dataframe natalitydata and list-of-lists datadictionary\n",
    "    (for example [[43, 44, \"MATERNALAGE\"]] ) and return a pandas dataframe (same \n",
    "    number of rows) with labeled columns  '''\n",
    "    df = pd.DataFrame()\n",
    "    for start, stop, column_name in datadictionary:\n",
    "        # Get the first column (start)\n",
    "        df[column_name] = natalitydata[0].str.get(start-1)\n",
    "        # Get the remaining columns\n",
    "        for i in range(1, stop-start + 1):\n",
    "            df[column_name]=  df[column_name].str.cat(natalitydata[0].str.get(start-1+i))\n",
    "    return df"
   ]
  },
  {
   "cell_type": "code",
   "execution_count": null,
   "metadata": {},
   "outputs": [],
   "source": [
    "starttime=time.time()\n",
    "df = parse_natality(n1988sample, dict1988) \n",
    "stoptime=time.time()\n",
    "print(stoptime-starttime)\n",
    "df.head()"
   ]
  },
  {
   "cell_type": "code",
   "execution_count": null,
   "metadata": {},
   "outputs": [],
   "source": [
    "# Looks reasonable.  We can expand to the entire dataset and\n",
    "# make sure it completes in a reaosonable time:\n",
    "starttime=time.time()\n",
    "df = parse_natality(n1988, dict1988) \n",
    "stoptime=time.time()\n",
    "print(stoptime-starttime)\n",
    "df.head()"
   ]
  },
  {
   "cell_type": "code",
   "execution_count": null,
   "metadata": {},
   "outputs": [],
   "source": [
    "type(df.MONTHOFBIRTH)"
   ]
  },
  {
   "cell_type": "code",
   "execution_count": null,
   "metadata": {},
   "outputs": [],
   "source": [
    "# That doesn't answer my question\n",
    "type(df.MONTHOFBIRTH[0])\n",
    "# One more picky little request.. numeric data types?\n"
   ]
  },
  {
   "cell_type": "code",
   "execution_count": null,
   "metadata": {},
   "outputs": [],
   "source": [
    "def parse_natality(natalitydata, datadictionary):\n",
    "    '''Take in pandas dataframe natalitydata and list-of-lists datadictionary\n",
    "    (for example [[43, 44, \"MATERNALAGE\"]] ) and return a pandas dataframe (same \n",
    "    number of rows) with labeled columns  '''\n",
    "    df = pd.DataFrame()\n",
    "    for start, stop, column_name in datadictionary:\n",
    "        # Get the first column (start)\n",
    "        df[column_name] = natalitydata[0].str.get(start-1)\n",
    "        # Get the remaining columns\n",
    "        for i in range(1, stop-start + 1):\n",
    "            df[column_name]=  df[column_name].str.cat(natalitydata[0].str.get(start-1+i))\n",
    "    return df\n",
    "    for start, stop, column_name in datadictionary:\n",
    "        pd[column_name] = pd.to_numeric(pd[column_name])"
   ]
  },
  {
   "cell_type": "code",
   "execution_count": null,
   "metadata": {},
   "outputs": [],
   "source": [
    "df = parse_natality(n1988, dict1988) \n",
    "type(df.MONTHOFBIRTH[0])\n",
    "df.head()"
   ]
  },
  {
   "cell_type": "code",
   "execution_count": null,
   "metadata": {},
   "outputs": [],
   "source": [
    "# I am now satisfied that it is working.\n",
    "dict1988 =[\n",
    "    [84, 85, \"MONTHOFBIRTH\"],\n",
    "    [86, 87, \"DAYOFMONTH\"],\n",
    "    [60, 60, \"BIRTHODRDER\"],\n",
    "    [41, 42, \"MATERNALAGE\"],\n",
    "    [28, 29, \"STATE\"], \n",
    "    [69, 70, \"PATERNALAGE\"],\n",
    "]"
   ]
  },
  {
   "cell_type": "code",
   "execution_count": null,
   "metadata": {},
   "outputs": [],
   "source": [
    "df = parse_natality(n1988, dict1988) \n"
   ]
  },
  {
   "cell_type": "code",
   "execution_count": null,
   "metadata": {},
   "outputs": [],
   "source": [
    "age = df.MATERNALAGE.value_counts()"
   ]
  },
  {
   "cell_type": "code",
   "execution_count": null,
   "metadata": {},
   "outputs": [],
   "source": [
    "df.MATERNALAGE.value_counts().sort_index()"
   ]
  },
  {
   "cell_type": "code",
   "execution_count": null,
   "metadata": {},
   "outputs": [],
   "source": []
  },
  {
   "cell_type": "code",
   "execution_count": null,
   "metadata": {},
   "outputs": [],
   "source": []
  },
  {
   "cell_type": "code",
   "execution_count": null,
   "metadata": {},
   "outputs": [],
   "source": []
  },
  {
   "cell_type": "code",
   "execution_count": null,
   "metadata": {},
   "outputs": [],
   "source": []
  },
  {
   "cell_type": "code",
   "execution_count": null,
   "metadata": {},
   "outputs": [],
   "source": [
    "age = df.MATERNALAGE.value_counts()"
   ]
  },
  {
   "cell_type": "code",
   "execution_count": null,
   "metadata": {},
   "outputs": [],
   "source": [
    "df.MATERNALAGE.value_counts().sort_index()"
   ]
  },
  {
   "cell_type": "code",
   "execution_count": null,
   "metadata": {},
   "outputs": [],
   "source": [
    "plt.bar(x=df.MATERNALAGE.value_counts().sort_index().index, height=df.MATERNALAGE.value_counts().sort_index().values)"
   ]
  },
  {
   "cell_type": "code",
   "execution_count": null,
   "metadata": {},
   "outputs": [],
   "source": [
    "plt.figure(figsize=(15,8))\n",
    "plt.bar(x=df.MATERNALAGE.value_counts().sort_index().index, height=df.MATERNALAGE.value_counts().sort_index().values)\n"
   ]
  },
  {
   "cell_type": "code",
   "execution_count": null,
   "metadata": {},
   "outputs": [],
   "source": [
    "plt.hist2d(pd.to_numeric(df[\"MATERNALAGE\"]), pd.to_numeric(df[\"PATERNALAGE\"]))"
   ]
  },
  {
   "cell_type": "code",
   "execution_count": null,
   "metadata": {},
   "outputs": [],
   "source": [
    "# More bins?\n",
    "plt.hist2d(pd.to_numeric(df[\"MATERNALAGE\"]), pd.to_numeric(df[\"PATERNALAGE\"]), bins=30)"
   ]
  },
  {
   "cell_type": "code",
   "execution_count": null,
   "metadata": {},
   "outputs": [],
   "source": [
    "And here we have an example of the hisogrammer's migrane.  \n",
    "The field boundaries for both MATERNALAGE and PATERNALAGE\n",
    "sometimes encompass different numbers of data points on the\n",
    "underlying distribution over nonnegative integers.\n",
    "\n",
    "We can always fix this by explicitly defining the bins to \n",
    "always include integer numbers of numbers.  "
   ]
  },
  {
   "cell_type": "code",
   "execution_count": null,
   "metadata": {},
   "outputs": [],
   "source": []
  },
  {
   "cell_type": "code",
   "execution_count": null,
   "metadata": {},
   "outputs": [],
   "source": [
    "bins1 = np.arange(10,50) +.5\n",
    "bins2 = np.arange(10,100)+.5"
   ]
  },
  {
   "cell_type": "code",
   "execution_count": null,
   "metadata": {},
   "outputs": [],
   "source": [
    "plt.hist2d(pd.to_numeric(df[\"MATERNALAGE\"]), pd.to_numeric(df[\"PATERNALAGE\"]), bins=(bins1, bins2))\n",
    "plt.xlabel(\"Maternal age\"); plt.ylabel(\"Paternal age\")"
   ]
  },
  {
   "cell_type": "code",
   "execution_count": null,
   "metadata": {},
   "outputs": [],
   "source": [
    "Now we see something peculiar; the catch-all category \n",
    "PATERNALAGE=99 is a symbol for missing values.  \n",
    "And just glancing at the heatmap shows the marginal\n",
    "distribution of MATERNALAGE given PATERNALAGE=99 is \n",
    "peaked around 18."
   ]
  },
  {
   "cell_type": "code",
   "execution_count": null,
   "metadata": {},
   "outputs": [],
   "source": [
    "paternalage = df.PATERNALAGE.value_counts().sort_index()\n",
    "plt.bar(paternalage.index, paternalage.values)\n",
    "maternalage = df.MATERNALAGE.value_counts().sort_index()"
   ]
  },
  {
   "cell_type": "code",
   "execution_count": null,
   "metadata": {},
   "outputs": [],
   "source": [
    "paternalage = df.PATERNALAGE.value_counts().sort_index()[:-1]\n",
    "\n",
    "plt.subplot(211)\n",
    "plt.bar(paternalage.index, paternalage.values, alpha=0.5)\n",
    "plt.subplot(211)\n",
    "plt.bar(maternalage.index, maternalage.values, alpha=0.5)\n",
    "\n"
   ]
  },
  {
   "cell_type": "code",
   "execution_count": null,
   "metadata": {},
   "outputs": [],
   "source": [
    "\n",
    "plt.subplot(211)\n",
    "plt.bar(pd.to_numeric(paternalage.index), paternalage.values, alpha=0.5)\n",
    "plt.subplot(212)\n",
    "plt.bar(pd.to_numeric(maternalage.index), maternalage.values, alpha=0.5)\n"
   ]
  },
  {
   "cell_type": "code",
   "execution_count": null,
   "metadata": {},
   "outputs": [],
   "source": [
    "plt.figure(figsize=(15,8))\n",
    "plt.bar(pd.to_numeric(paternalage.index), paternalage.values, alpha=0.5, label=\"paternal age (where stated)\")\n",
    "plt.bar(pd.to_numeric(maternalage.index), maternalage.values, alpha=0.5, label=\"maternal age\")\n",
    "plt.legend()"
   ]
  },
  {
   "cell_type": "code",
   "execution_count": null,
   "metadata": {},
   "outputs": [],
   "source": [
    "df[\"MATERNALAGE\"]=pd.to_numeric(df.MATERNALAGE)"
   ]
  },
  {
   "cell_type": "code",
   "execution_count": null,
   "metadata": {},
   "outputs": [],
   "source": [
    "# Since I have a list of individual rows.. and I want something like a histogram.. I look\n",
    "# into the pandas doucmentation for methods that aggregate dataframes:\n",
    "# https://pandas.pydata.org/pandas-docs/stable/user_guide/groupby.html\n",
    "#\n",
    "gb = df.groupby([\"MATERNALAGE\", \"STATE\"])"
   ]
  },
  {
   "cell_type": "code",
   "execution_count": null,
   "metadata": {},
   "outputs": [],
   "source": [
    "gb.MATERNALAGE.median()"
   ]
  },
  {
   "cell_type": "code",
   "execution_count": null,
   "metadata": {},
   "outputs": [],
   "source": [
    "gb = df.groupby([\"STATE\", \"MATERNALAGE\"])"
   ]
  },
  {
   "cell_type": "code",
   "execution_count": null,
   "metadata": {},
   "outputs": [],
   "source": [
    "gb.MATERNALAGE.count()"
   ]
  },
  {
   "cell_type": "code",
   "execution_count": null,
   "metadata": {},
   "outputs": [],
   "source": [
    "gb.STATE.count()"
   ]
  },
  {
   "cell_type": "code",
   "execution_count": null,
   "metadata": {},
   "outputs": [],
   "source": [
    "df.groupby(\"STATE\")[\"MATERNALAGE\"].median()"
   ]
  },
  {
   "cell_type": "code",
   "execution_count": null,
   "metadata": {},
   "outputs": [],
   "source": [
    "#If only we could decode the states, we would see which states have on average older mothers."
   ]
  },
  {
   "cell_type": "markdown",
   "metadata": {},
   "source": [
    "* Fail early and often\n",
    "* Invest in faster feedback\n",
    "** Hack at code with data subset\n",
    "* Specify what you want before you do it\n",
    "* Get it right first, make it fast later\n",
    "* Usually better to use p"
   ]
  },
  {
   "cell_type": "code",
   "execution_count": null,
   "metadata": {},
   "outputs": [],
   "source": [
    "# Cleaning up the numbers which are symbols is a little messier.  It is left as an exercise for the student.\n",
    "\n"
   ]
  },
  {
   "cell_type": "code",
   "execution_count": null,
   "metadata": {},
   "outputs": [],
   "source": [
    "h = {}\n",
    "for line in open(\"/Users/wltrimbl/Downloads/birth/STATE2829decoder.csv\"):\n",
    "    fields = line.strip().split()\n",
    "    h[fields[0]] = fields[1]\n",
    "h"
   ]
  },
  {
   "cell_type": "code",
   "execution_count": null,
   "metadata": {},
   "outputs": [],
   "source": [
    "df[\"STATEA\"] = pd.Series ( \"\", index=df.index)\n",
    "for i in df.index:\n",
    "    df[\"STATEA\"].loc[i] =  h [ df.loc[i].STATE] \n",
    "    if i % 100 == 0:\n",
    "        print(i,  h [ df.loc[i].STATE] )"
   ]
  }
 ],
 "metadata": {
  "kernelspec": {
   "display_name": "Python 3 (ipykernel)",
   "language": "python",
   "name": "python3"
  },
  "language_info": {
   "codemirror_mode": {
    "name": "ipython",
    "version": 3
   },
   "file_extension": ".py",
   "mimetype": "text/x-python",
   "name": "python",
   "nbconvert_exporter": "python",
   "pygments_lexer": "ipython3",
   "version": "3.9.12"
  }
 },
 "nbformat": 4,
 "nbformat_minor": 4
}
