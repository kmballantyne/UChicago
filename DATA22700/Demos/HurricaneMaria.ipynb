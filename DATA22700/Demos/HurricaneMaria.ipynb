{
 "cells": [
  {
   "cell_type": "raw",
   "id": "4a6b1b8a-6df8-46bb-a2a0-4e571b178b4f",
   "metadata": {},
   "source": []
  },
  {
   "cell_type": "code",
   "execution_count": null,
   "id": "294db784-e9d4-43f1-a439-ee03a7ddec3e",
   "metadata": {},
   "outputs": [],
   "source": [
    "import numpy as np \n",
    "import pandas as pd\n",
    "import matplotlib.pyplot as plt"
   ]
  },
  {
   "cell_type": "code",
   "execution_count": null,
   "id": "732be7b2-cb1b-492d-a460-e323fcb42ab4",
   "metadata": {},
   "outputs": [],
   "source": [
    "storms = pd.read_csv(\"https://vincentarelbundock.github.io/Rdatasets/csv/dplyr/storms.csv\")\n"
   ]
  },
  {
   "cell_type": "code",
   "execution_count": null,
   "id": "85dfefc9-6192-4317-802d-e5ad44d399a8",
   "metadata": {},
   "outputs": [],
   "source": [
    "storms.head()"
   ]
  },
  {
   "cell_type": "code",
   "execution_count": null,
   "id": "cd6aa3ec-7442-4d40-b226-faee2960f04c",
   "metadata": {},
   "outputs": [],
   "source": [
    "storms.groupby([\"name\", \"year\"]).name.count().groupby(\"name\").count().sort_values()"
   ]
  },
  {
   "cell_type": "code",
   "execution_count": null,
   "id": "bbccb7b4-748f-41ad-b0e6-14b6e6294c8c",
   "metadata": {},
   "outputs": [],
   "source": [
    "storms[storms.category == 5][storms.hurricane_force_diameter > 10] "
   ]
  },
  {
   "cell_type": "code",
   "execution_count": null,
   "id": "54c2afb2-cfc1-4976-893e-d742be6a0785",
   "metadata": {},
   "outputs": [],
   "source": [
    "maria = storms.query(\"name == 'Maria'\").query(\"year==2017\")\n",
    "maria.hurricane_force_diameter = maria.hurricane_force_diameter.astype(\"float\")"
   ]
  },
  {
   "cell_type": "code",
   "execution_count": null,
   "id": "7aca7cb9-a425-41c7-9bf6-85291a408829",
   "metadata": {},
   "outputs": [],
   "source": [
    "scale = 360 / 3960 / 2 / np.pi \n",
    "plt.scatter(maria.long, maria.lat)\n",
    "plt.plot(maria.long, maria.lat)\n"
   ]
  },
  {
   "cell_type": "code",
   "execution_count": null,
   "id": "e2f222fa-3238-414a-a23c-15ddc28a5b0d",
   "metadata": {},
   "outputs": [],
   "source": [
    "# Documentation for plt.scatter says that s has units of AREA\n",
    "# but.. multiplying everything by scale**2 does not generate \n",
    "# areas of the right scale. "
   ]
  },
  {
   "cell_type": "code",
   "execution_count": null,
   "id": "5dde12c3-e133-4351-97a7-c803ac2feb7e",
   "metadata": {},
   "outputs": [],
   "source": [
    "maria.head()"
   ]
  },
  {
   "cell_type": "code",
   "execution_count": null,
   "id": "a30834f2-abc0-486d-aa0e-51d78c6eaff3",
   "metadata": {},
   "outputs": [],
   "source": [
    "maria0 = maria.query(\"hour==0\")"
   ]
  },
  {
   "cell_type": "code",
   "execution_count": null,
   "id": "c74c125b-04be-4120-86ae-2a56544d20ae",
   "metadata": {},
   "outputs": [],
   "source": [
    "scale = 360 / 3960 / 2 / np.pi *7.5\n",
    "\n",
    "plt.scatter(maria.long, maria.lat)\n",
    "plt.plot(maria.long, maria.lat)\n",
    "plt.title(\"Hurricane Maria, September 2017\")\n",
    "plt.xlabel(\"longitude\")\n",
    "plt.ylabel(\"latitude\")\n",
    "plt.xlim([-85, -45])\n",
    "plt.ylim([10,45])\n",
    "plt.grid()\n",
    "for i in maria0.index:\n",
    "    plt.text(maria0.long.loc[i], maria0.lat.loc[i], maria0.day.loc[i])"
   ]
  },
  {
   "cell_type": "code",
   "execution_count": null,
   "id": "da3a9d85-d7f5-4732-b92e-4e8d96c954c5",
   "metadata": {},
   "outputs": [],
   "source": []
  },
  {
   "cell_type": "code",
   "execution_count": null,
   "id": "30831802-0665-450b-80d0-ea9dffbcac78",
   "metadata": {},
   "outputs": [],
   "source": [
    "maria.head()"
   ]
  },
  {
   "cell_type": "code",
   "execution_count": null,
   "id": "87a3b357-96e0-4ac2-b456-f388cce9aadc",
   "metadata": {},
   "outputs": [],
   "source": []
  },
  {
   "cell_type": "code",
   "execution_count": null,
   "id": "ceea4be4-b19d-46e6-ae09-7ffc6af378cb",
   "metadata": {},
   "outputs": [],
   "source": [
    "scale = 360 / 3960/2/np.pi\n",
    "scale, 1/scale  # degrees per mile"
   ]
  },
  {
   "cell_type": "code",
   "execution_count": null,
   "id": "c0144cd0-82a1-48bd-9732-f155a8fae1b4",
   "metadata": {},
   "outputs": [],
   "source": [
    "# TS wind diameter 380 miles... diameter \n",
    "380/69.11   # storm is this many degrees latitude across"
   ]
  },
  {
   "cell_type": "code",
   "execution_count": null,
   "id": "64250a57-c8f9-4d90-b626-e394800a8a50",
   "metadata": {},
   "outputs": [],
   "source": []
  },
  {
   "cell_type": "code",
   "execution_count": null,
   "id": "2af15fed-7270-49c8-a47c-b1cac8e4a1de",
   "metadata": {},
   "outputs": [],
   "source": [
    "np.where(maria.status == \"tropical storm\")"
   ]
  },
  {
   "cell_type": "code",
   "execution_count": null,
   "id": "717aec36-b11f-41b7-8db7-72752d93f89c",
   "metadata": {},
   "outputs": [],
   "source": [
    "markers = [\"s\" ] * len(maria)\n",
    "for i in np.where(maria.status == \"tropical storm\")[0] : markers[ i ] = \"^\"\n",
    "for i in np.where(maria.status == \"tropical depression\")[0]  = \"s\"\n",
    "for i in np.where(maria.status == \"hurricane\")[0] ) : markers[i] = \"x\"\n",
    "\n",
    "for i in range(20,40): markers[i] = \"^\" \n",
    "plt.plot(maria.long, maria.lat)\n",
    "plt.title(\"Hurricane Maria, 2017\")\n",
    "plt.xlabel(\"longitude\")\n",
    "plt.ylabel(\"latitude\")\n",
    "\n",
    "for  j,i in enumerate(maria.index):\n",
    "    print(j,i)\n",
    "    plt.scatter(maria.long.loc[i], maria.lat.loc[i], s=maria.hurricane_force_diameter.loc[i]**2*scale**2,\n",
    "        marker = markers[j]    )\n",
    "    "
   ]
  },
  {
   "cell_type": "code",
   "execution_count": null,
   "id": "849d0b97-3090-4fb7-a13f-372d6e21f9e3",
   "metadata": {},
   "outputs": [],
   "source": [
    "import geopandas as gpd\n"
   ]
  },
  {
   "cell_type": "code",
   "execution_count": null,
   "id": "62e4e130-fc58-4100-b151-e2cb5aa0a219",
   "metadata": {},
   "outputs": [],
   "source": [
    "for r in maria.columns:\n",
    "    print(r)"
   ]
  },
  {
   "cell_type": "code",
   "execution_count": null,
   "id": "0b840e52-25af-468e-b24f-6cb473878984",
   "metadata": {},
   "outputs": [],
   "source": []
  }
 ],
 "metadata": {
  "kernelspec": {
   "display_name": "Python 3 (ipykernel)",
   "language": "python",
   "name": "python3"
  },
  "language_info": {
   "codemirror_mode": {
    "name": "ipython",
    "version": 3
   },
   "file_extension": ".py",
   "mimetype": "text/x-python",
   "name": "python",
   "nbconvert_exporter": "python",
   "pygments_lexer": "ipython3",
   "version": "3.9.12"
  }
 },
 "nbformat": 4,
 "nbformat_minor": 5
}
