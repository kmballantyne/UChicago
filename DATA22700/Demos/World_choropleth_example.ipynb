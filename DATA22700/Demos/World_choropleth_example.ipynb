{
  "nbformat": 4,
  "nbformat_minor": 0,
  "metadata": {
    "colab": {
      "provenance": [],
      "collapsed_sections": []
    },
    "kernelspec": {
      "name": "python3",
      "display_name": "Python 3"
    },
    "language_info": {
      "name": "python"
    }
  },
  "cells": [
    {
      "cell_type": "code",
      "execution_count": 1,
      "metadata": {
        "colab": {
          "base_uri": "https://localhost:8080/",
          "height": 336
        },
        "id": "H9vnXyU9UxWC",
        "outputId": "1af77a91-e5cd-4367-cbb8-055d5609d603"
      },
      "outputs": [
        {
          "output_type": "error",
          "ename": "ModuleNotFoundError",
          "evalue": "ignored",
          "traceback": [
            "\u001b[0;31m---------------------------------------------------------------------------\u001b[0m",
            "\u001b[0;31mModuleNotFoundError\u001b[0m                       Traceback (most recent call last)",
            "\u001b[0;32m<ipython-input-1-0b822d2db983>\u001b[0m in \u001b[0;36m<module>\u001b[0;34m\u001b[0m\n\u001b[0;32m----> 1\u001b[0;31m \u001b[0;32mimport\u001b[0m \u001b[0mgeopandas\u001b[0m\u001b[0;34m\u001b[0m\u001b[0;34m\u001b[0m\u001b[0m\n\u001b[0m\u001b[1;32m      2\u001b[0m \u001b[0;32mimport\u001b[0m \u001b[0mmatplotlib\u001b[0m\u001b[0;34m.\u001b[0m\u001b[0mpyplot\u001b[0m \u001b[0;32mas\u001b[0m \u001b[0mplt\u001b[0m\u001b[0;34m\u001b[0m\u001b[0;34m\u001b[0m\u001b[0m\n",
            "\u001b[0;31mModuleNotFoundError\u001b[0m: No module named 'geopandas'",
            "",
            "\u001b[0;31m---------------------------------------------------------------------------\u001b[0;32m\nNOTE: If your import is failing due to a missing package, you can\nmanually install dependencies using either !pip or !apt.\n\nTo view examples of installing some common dependencies, click the\n\"Open Examples\" button below.\n\u001b[0;31m---------------------------------------------------------------------------\u001b[0m\n"
          ],
          "errorDetails": {
            "actions": [
              {
                "action": "open_url",
                "actionText": "Open Examples",
                "url": "/notebooks/snippets/importing_libraries.ipynb"
              }
            ]
          }
        }
      ],
      "source": [
        "## This notebook aims to reproduce some of the graphs on Our World in Data's \n",
        "## report on mental health in 2021\n",
        "# https://ourworldindata.org/mental-health\n",
        "\n",
        "import geopandas\n",
        "import matplotlib.pyplot as plt\n"
      ]
    },
    {
      "cell_type": "code",
      "source": [
        "# This is collab, I have to install geopandas each time\n",
        "%pip install geopandas"
      ],
      "metadata": {
        "colab": {
          "base_uri": "https://localhost:8080/"
        },
        "id": "IEsurH0GU6it",
        "outputId": "3c8e9b8a-e34f-419e-b4ae-251b5ee57b6a"
      },
      "execution_count": 2,
      "outputs": [
        {
          "output_type": "stream",
          "name": "stdout",
          "text": [
            "Looking in indexes: https://pypi.org/simple, https://us-python.pkg.dev/colab-wheels/public/simple/\n",
            "Collecting geopandas\n",
            "  Downloading geopandas-0.10.2-py2.py3-none-any.whl (1.0 MB)\n",
            "\u001b[K     |████████████████████████████████| 1.0 MB 6.4 MB/s \n",
            "\u001b[?25hCollecting fiona>=1.8\n",
            "  Downloading Fiona-1.8.22-cp37-cp37m-manylinux2014_x86_64.whl (16.7 MB)\n",
            "\u001b[K     |████████████████████████████████| 16.7 MB 41.5 MB/s \n",
            "\u001b[?25hRequirement already satisfied: shapely>=1.6 in /usr/local/lib/python3.7/dist-packages (from geopandas) (1.8.5.post1)\n",
            "Collecting pyproj>=2.2.0\n",
            "  Downloading pyproj-3.2.1-cp37-cp37m-manylinux2010_x86_64.whl (6.3 MB)\n",
            "\u001b[K     |████████████████████████████████| 6.3 MB 31.6 MB/s \n",
            "\u001b[?25hRequirement already satisfied: pandas>=0.25.0 in /usr/local/lib/python3.7/dist-packages (from geopandas) (1.3.5)\n",
            "Requirement already satisfied: click>=4.0 in /usr/local/lib/python3.7/dist-packages (from fiona>=1.8->geopandas) (7.1.2)\n",
            "Collecting click-plugins>=1.0\n",
            "  Downloading click_plugins-1.1.1-py2.py3-none-any.whl (7.5 kB)\n",
            "Requirement already satisfied: certifi in /usr/local/lib/python3.7/dist-packages (from fiona>=1.8->geopandas) (2022.9.24)\n",
            "Requirement already satisfied: attrs>=17 in /usr/local/lib/python3.7/dist-packages (from fiona>=1.8->geopandas) (22.1.0)\n",
            "Collecting munch\n",
            "  Downloading munch-2.5.0-py2.py3-none-any.whl (10 kB)\n",
            "Requirement already satisfied: setuptools in /usr/local/lib/python3.7/dist-packages (from fiona>=1.8->geopandas) (57.4.0)\n",
            "Collecting cligj>=0.5\n",
            "  Downloading cligj-0.7.2-py3-none-any.whl (7.1 kB)\n",
            "Requirement already satisfied: six>=1.7 in /usr/local/lib/python3.7/dist-packages (from fiona>=1.8->geopandas) (1.15.0)\n",
            "Requirement already satisfied: pytz>=2017.3 in /usr/local/lib/python3.7/dist-packages (from pandas>=0.25.0->geopandas) (2022.6)\n",
            "Requirement already satisfied: numpy>=1.17.3 in /usr/local/lib/python3.7/dist-packages (from pandas>=0.25.0->geopandas) (1.21.6)\n",
            "Requirement already satisfied: python-dateutil>=2.7.3 in /usr/local/lib/python3.7/dist-packages (from pandas>=0.25.0->geopandas) (2.8.2)\n",
            "Installing collected packages: munch, cligj, click-plugins, pyproj, fiona, geopandas\n",
            "Successfully installed click-plugins-1.1.1 cligj-0.7.2 fiona-1.8.22 geopandas-0.10.2 munch-2.5.0 pyproj-3.2.1\n"
          ]
        }
      ]
    },
    {
      "cell_type": "code",
      "source": [
        "import geopandas\n",
        "import matplotlib.pyplot as plt\n",
        "import pandas as pd"
      ],
      "metadata": {
        "id": "plHYNs7lVefp"
      },
      "execution_count": 4,
      "outputs": []
    },
    {
      "cell_type": "code",
      "source": [
        "# https://ourworldindata.org/mental-health\n",
        "# Our World in data, year=2021\n",
        "# Saloni Dattani and Hannah Ritchie and Max Roser\n",
        "# Mental Health \n",
        "mentalh = pd.read_csv(\"https://ourworldindata.org/8562ce1f-d264-4c63-b374-5b624060a55e\")"
      ],
      "metadata": {
        "colab": {
          "base_uri": "https://localhost:8080/",
          "height": 323
        },
        "id": "Kk94kCzAU846",
        "outputId": "f283d5a7-4c72-4d10-9c0b-b8ead6adabed"
      },
      "execution_count": 5,
      "outputs": [
        {
          "output_type": "error",
          "ename": "HTTPError",
          "evalue": "ignored",
          "traceback": [
            "\u001b[0;31m---------------------------------------------------------------------------\u001b[0m",
            "\u001b[0;31mHTTPError\u001b[0m                                 Traceback (most recent call last)",
            "\u001b[0;32m<ipython-input-5-649d657a0fde>\u001b[0m in \u001b[0;36m<module>\u001b[0;34m\u001b[0m\n\u001b[0;32m----> 1\u001b[0;31m \u001b[0mmentalh\u001b[0m \u001b[0;34m=\u001b[0m \u001b[0mpd\u001b[0m\u001b[0;34m.\u001b[0m\u001b[0mread_csv\u001b[0m\u001b[0;34m(\u001b[0m\u001b[0;34m\"https://ourworldindata.org/8562ce1f-d264-4c63-b374-5b624060a55e\"\u001b[0m\u001b[0;34m)\u001b[0m\u001b[0;34m\u001b[0m\u001b[0;34m\u001b[0m\u001b[0m\n\u001b[0m",
            "\u001b[0;32m/usr/local/lib/python3.7/dist-packages/pandas/util/_decorators.py\u001b[0m in \u001b[0;36mwrapper\u001b[0;34m(*args, **kwargs)\u001b[0m\n\u001b[1;32m    309\u001b[0m                     \u001b[0mstacklevel\u001b[0m\u001b[0;34m=\u001b[0m\u001b[0mstacklevel\u001b[0m\u001b[0;34m,\u001b[0m\u001b[0;34m\u001b[0m\u001b[0;34m\u001b[0m\u001b[0m\n\u001b[1;32m    310\u001b[0m                 )\n\u001b[0;32m--> 311\u001b[0;31m             \u001b[0;32mreturn\u001b[0m \u001b[0mfunc\u001b[0m\u001b[0;34m(\u001b[0m\u001b[0;34m*\u001b[0m\u001b[0margs\u001b[0m\u001b[0;34m,\u001b[0m \u001b[0;34m**\u001b[0m\u001b[0mkwargs\u001b[0m\u001b[0;34m)\u001b[0m\u001b[0;34m\u001b[0m\u001b[0;34m\u001b[0m\u001b[0m\n\u001b[0m\u001b[1;32m    312\u001b[0m \u001b[0;34m\u001b[0m\u001b[0m\n\u001b[1;32m    313\u001b[0m         \u001b[0;32mreturn\u001b[0m \u001b[0mwrapper\u001b[0m\u001b[0;34m\u001b[0m\u001b[0;34m\u001b[0m\u001b[0m\n",
            "\u001b[0;32m/usr/local/lib/python3.7/dist-packages/pandas/io/parsers/readers.py\u001b[0m in \u001b[0;36mread_csv\u001b[0;34m(filepath_or_buffer, sep, delimiter, header, names, index_col, usecols, squeeze, prefix, mangle_dupe_cols, dtype, engine, converters, true_values, false_values, skipinitialspace, skiprows, skipfooter, nrows, na_values, keep_default_na, na_filter, verbose, skip_blank_lines, parse_dates, infer_datetime_format, keep_date_col, date_parser, dayfirst, cache_dates, iterator, chunksize, compression, thousands, decimal, lineterminator, quotechar, quoting, doublequote, escapechar, comment, encoding, encoding_errors, dialect, error_bad_lines, warn_bad_lines, on_bad_lines, delim_whitespace, low_memory, memory_map, float_precision, storage_options)\u001b[0m\n\u001b[1;32m    584\u001b[0m     \u001b[0mkwds\u001b[0m\u001b[0;34m.\u001b[0m\u001b[0mupdate\u001b[0m\u001b[0;34m(\u001b[0m\u001b[0mkwds_defaults\u001b[0m\u001b[0;34m)\u001b[0m\u001b[0;34m\u001b[0m\u001b[0;34m\u001b[0m\u001b[0m\n\u001b[1;32m    585\u001b[0m \u001b[0;34m\u001b[0m\u001b[0m\n\u001b[0;32m--> 586\u001b[0;31m     \u001b[0;32mreturn\u001b[0m \u001b[0m_read\u001b[0m\u001b[0;34m(\u001b[0m\u001b[0mfilepath_or_buffer\u001b[0m\u001b[0;34m,\u001b[0m \u001b[0mkwds\u001b[0m\u001b[0;34m)\u001b[0m\u001b[0;34m\u001b[0m\u001b[0;34m\u001b[0m\u001b[0m\n\u001b[0m\u001b[1;32m    587\u001b[0m \u001b[0;34m\u001b[0m\u001b[0m\n\u001b[1;32m    588\u001b[0m \u001b[0;34m\u001b[0m\u001b[0m\n",
            "\u001b[0;32m/usr/local/lib/python3.7/dist-packages/pandas/io/parsers/readers.py\u001b[0m in \u001b[0;36m_read\u001b[0;34m(filepath_or_buffer, kwds)\u001b[0m\n\u001b[1;32m    480\u001b[0m \u001b[0;34m\u001b[0m\u001b[0m\n\u001b[1;32m    481\u001b[0m     \u001b[0;31m# Create the parser.\u001b[0m\u001b[0;34m\u001b[0m\u001b[0;34m\u001b[0m\u001b[0;34m\u001b[0m\u001b[0m\n\u001b[0;32m--> 482\u001b[0;31m     \u001b[0mparser\u001b[0m \u001b[0;34m=\u001b[0m \u001b[0mTextFileReader\u001b[0m\u001b[0;34m(\u001b[0m\u001b[0mfilepath_or_buffer\u001b[0m\u001b[0;34m,\u001b[0m \u001b[0;34m**\u001b[0m\u001b[0mkwds\u001b[0m\u001b[0;34m)\u001b[0m\u001b[0;34m\u001b[0m\u001b[0;34m\u001b[0m\u001b[0m\n\u001b[0m\u001b[1;32m    483\u001b[0m \u001b[0;34m\u001b[0m\u001b[0m\n\u001b[1;32m    484\u001b[0m     \u001b[0;32mif\u001b[0m \u001b[0mchunksize\u001b[0m \u001b[0;32mor\u001b[0m \u001b[0miterator\u001b[0m\u001b[0;34m:\u001b[0m\u001b[0;34m\u001b[0m\u001b[0;34m\u001b[0m\u001b[0m\n",
            "\u001b[0;32m/usr/local/lib/python3.7/dist-packages/pandas/io/parsers/readers.py\u001b[0m in \u001b[0;36m__init__\u001b[0;34m(self, f, engine, **kwds)\u001b[0m\n\u001b[1;32m    809\u001b[0m             \u001b[0mself\u001b[0m\u001b[0;34m.\u001b[0m\u001b[0moptions\u001b[0m\u001b[0;34m[\u001b[0m\u001b[0;34m\"has_index_names\"\u001b[0m\u001b[0;34m]\u001b[0m \u001b[0;34m=\u001b[0m \u001b[0mkwds\u001b[0m\u001b[0;34m[\u001b[0m\u001b[0;34m\"has_index_names\"\u001b[0m\u001b[0;34m]\u001b[0m\u001b[0;34m\u001b[0m\u001b[0;34m\u001b[0m\u001b[0m\n\u001b[1;32m    810\u001b[0m \u001b[0;34m\u001b[0m\u001b[0m\n\u001b[0;32m--> 811\u001b[0;31m         \u001b[0mself\u001b[0m\u001b[0;34m.\u001b[0m\u001b[0m_engine\u001b[0m \u001b[0;34m=\u001b[0m \u001b[0mself\u001b[0m\u001b[0;34m.\u001b[0m\u001b[0m_make_engine\u001b[0m\u001b[0;34m(\u001b[0m\u001b[0mself\u001b[0m\u001b[0;34m.\u001b[0m\u001b[0mengine\u001b[0m\u001b[0;34m)\u001b[0m\u001b[0;34m\u001b[0m\u001b[0;34m\u001b[0m\u001b[0m\n\u001b[0m\u001b[1;32m    812\u001b[0m \u001b[0;34m\u001b[0m\u001b[0m\n\u001b[1;32m    813\u001b[0m     \u001b[0;32mdef\u001b[0m \u001b[0mclose\u001b[0m\u001b[0;34m(\u001b[0m\u001b[0mself\u001b[0m\u001b[0;34m)\u001b[0m\u001b[0;34m:\u001b[0m\u001b[0;34m\u001b[0m\u001b[0;34m\u001b[0m\u001b[0m\n",
            "\u001b[0;32m/usr/local/lib/python3.7/dist-packages/pandas/io/parsers/readers.py\u001b[0m in \u001b[0;36m_make_engine\u001b[0;34m(self, engine)\u001b[0m\n\u001b[1;32m   1038\u001b[0m             )\n\u001b[1;32m   1039\u001b[0m         \u001b[0;31m# error: Too many arguments for \"ParserBase\"\u001b[0m\u001b[0;34m\u001b[0m\u001b[0;34m\u001b[0m\u001b[0;34m\u001b[0m\u001b[0m\n\u001b[0;32m-> 1040\u001b[0;31m         \u001b[0;32mreturn\u001b[0m \u001b[0mmapping\u001b[0m\u001b[0;34m[\u001b[0m\u001b[0mengine\u001b[0m\u001b[0;34m]\u001b[0m\u001b[0;34m(\u001b[0m\u001b[0mself\u001b[0m\u001b[0;34m.\u001b[0m\u001b[0mf\u001b[0m\u001b[0;34m,\u001b[0m \u001b[0;34m**\u001b[0m\u001b[0mself\u001b[0m\u001b[0;34m.\u001b[0m\u001b[0moptions\u001b[0m\u001b[0;34m)\u001b[0m  \u001b[0;31m# type: ignore[call-arg]\u001b[0m\u001b[0;34m\u001b[0m\u001b[0;34m\u001b[0m\u001b[0m\n\u001b[0m\u001b[1;32m   1041\u001b[0m \u001b[0;34m\u001b[0m\u001b[0m\n\u001b[1;32m   1042\u001b[0m     \u001b[0;32mdef\u001b[0m \u001b[0m_failover_to_python\u001b[0m\u001b[0;34m(\u001b[0m\u001b[0mself\u001b[0m\u001b[0;34m)\u001b[0m\u001b[0;34m:\u001b[0m\u001b[0;34m\u001b[0m\u001b[0;34m\u001b[0m\u001b[0m\n",
            "\u001b[0;32m/usr/local/lib/python3.7/dist-packages/pandas/io/parsers/c_parser_wrapper.py\u001b[0m in \u001b[0;36m__init__\u001b[0;34m(self, src, **kwds)\u001b[0m\n\u001b[1;32m     49\u001b[0m \u001b[0;34m\u001b[0m\u001b[0m\n\u001b[1;32m     50\u001b[0m         \u001b[0;31m# open handles\u001b[0m\u001b[0;34m\u001b[0m\u001b[0;34m\u001b[0m\u001b[0;34m\u001b[0m\u001b[0m\n\u001b[0;32m---> 51\u001b[0;31m         \u001b[0mself\u001b[0m\u001b[0;34m.\u001b[0m\u001b[0m_open_handles\u001b[0m\u001b[0;34m(\u001b[0m\u001b[0msrc\u001b[0m\u001b[0;34m,\u001b[0m \u001b[0mkwds\u001b[0m\u001b[0;34m)\u001b[0m\u001b[0;34m\u001b[0m\u001b[0;34m\u001b[0m\u001b[0m\n\u001b[0m\u001b[1;32m     52\u001b[0m         \u001b[0;32massert\u001b[0m \u001b[0mself\u001b[0m\u001b[0;34m.\u001b[0m\u001b[0mhandles\u001b[0m \u001b[0;32mis\u001b[0m \u001b[0;32mnot\u001b[0m \u001b[0;32mNone\u001b[0m\u001b[0;34m\u001b[0m\u001b[0;34m\u001b[0m\u001b[0m\n\u001b[1;32m     53\u001b[0m \u001b[0;34m\u001b[0m\u001b[0m\n",
            "\u001b[0;32m/usr/local/lib/python3.7/dist-packages/pandas/io/parsers/base_parser.py\u001b[0m in \u001b[0;36m_open_handles\u001b[0;34m(self, src, kwds)\u001b[0m\n\u001b[1;32m    227\u001b[0m             \u001b[0mmemory_map\u001b[0m\u001b[0;34m=\u001b[0m\u001b[0mkwds\u001b[0m\u001b[0;34m.\u001b[0m\u001b[0mget\u001b[0m\u001b[0;34m(\u001b[0m\u001b[0;34m\"memory_map\"\u001b[0m\u001b[0;34m,\u001b[0m \u001b[0;32mFalse\u001b[0m\u001b[0;34m)\u001b[0m\u001b[0;34m,\u001b[0m\u001b[0;34m\u001b[0m\u001b[0;34m\u001b[0m\u001b[0m\n\u001b[1;32m    228\u001b[0m             \u001b[0mstorage_options\u001b[0m\u001b[0;34m=\u001b[0m\u001b[0mkwds\u001b[0m\u001b[0;34m.\u001b[0m\u001b[0mget\u001b[0m\u001b[0;34m(\u001b[0m\u001b[0;34m\"storage_options\"\u001b[0m\u001b[0;34m,\u001b[0m \u001b[0;32mNone\u001b[0m\u001b[0;34m)\u001b[0m\u001b[0;34m,\u001b[0m\u001b[0;34m\u001b[0m\u001b[0;34m\u001b[0m\u001b[0m\n\u001b[0;32m--> 229\u001b[0;31m             \u001b[0merrors\u001b[0m\u001b[0;34m=\u001b[0m\u001b[0mkwds\u001b[0m\u001b[0;34m.\u001b[0m\u001b[0mget\u001b[0m\u001b[0;34m(\u001b[0m\u001b[0;34m\"encoding_errors\"\u001b[0m\u001b[0;34m,\u001b[0m \u001b[0;34m\"strict\"\u001b[0m\u001b[0;34m)\u001b[0m\u001b[0;34m,\u001b[0m\u001b[0;34m\u001b[0m\u001b[0;34m\u001b[0m\u001b[0m\n\u001b[0m\u001b[1;32m    230\u001b[0m         )\n\u001b[1;32m    231\u001b[0m \u001b[0;34m\u001b[0m\u001b[0m\n",
            "\u001b[0;32m/usr/local/lib/python3.7/dist-packages/pandas/io/common.py\u001b[0m in \u001b[0;36mget_handle\u001b[0;34m(path_or_buf, mode, encoding, compression, memory_map, is_text, errors, storage_options)\u001b[0m\n\u001b[1;32m    612\u001b[0m         \u001b[0mcompression\u001b[0m\u001b[0;34m=\u001b[0m\u001b[0mcompression\u001b[0m\u001b[0;34m,\u001b[0m\u001b[0;34m\u001b[0m\u001b[0;34m\u001b[0m\u001b[0m\n\u001b[1;32m    613\u001b[0m         \u001b[0mmode\u001b[0m\u001b[0;34m=\u001b[0m\u001b[0mmode\u001b[0m\u001b[0;34m,\u001b[0m\u001b[0;34m\u001b[0m\u001b[0;34m\u001b[0m\u001b[0m\n\u001b[0;32m--> 614\u001b[0;31m         \u001b[0mstorage_options\u001b[0m\u001b[0;34m=\u001b[0m\u001b[0mstorage_options\u001b[0m\u001b[0;34m,\u001b[0m\u001b[0;34m\u001b[0m\u001b[0;34m\u001b[0m\u001b[0m\n\u001b[0m\u001b[1;32m    615\u001b[0m     )\n\u001b[1;32m    616\u001b[0m \u001b[0;34m\u001b[0m\u001b[0m\n",
            "\u001b[0;32m/usr/local/lib/python3.7/dist-packages/pandas/io/common.py\u001b[0m in \u001b[0;36m_get_filepath_or_buffer\u001b[0;34m(filepath_or_buffer, encoding, compression, mode, storage_options)\u001b[0m\n\u001b[1;32m    310\u001b[0m         \u001b[0;31m# assuming storage_options is to be interpreted as headers\u001b[0m\u001b[0;34m\u001b[0m\u001b[0;34m\u001b[0m\u001b[0;34m\u001b[0m\u001b[0m\n\u001b[1;32m    311\u001b[0m         \u001b[0mreq_info\u001b[0m \u001b[0;34m=\u001b[0m \u001b[0murllib\u001b[0m\u001b[0;34m.\u001b[0m\u001b[0mrequest\u001b[0m\u001b[0;34m.\u001b[0m\u001b[0mRequest\u001b[0m\u001b[0;34m(\u001b[0m\u001b[0mfilepath_or_buffer\u001b[0m\u001b[0;34m,\u001b[0m \u001b[0mheaders\u001b[0m\u001b[0;34m=\u001b[0m\u001b[0mstorage_options\u001b[0m\u001b[0;34m)\u001b[0m\u001b[0;34m\u001b[0m\u001b[0;34m\u001b[0m\u001b[0m\n\u001b[0;32m--> 312\u001b[0;31m         \u001b[0;32mwith\u001b[0m \u001b[0murlopen\u001b[0m\u001b[0;34m(\u001b[0m\u001b[0mreq_info\u001b[0m\u001b[0;34m)\u001b[0m \u001b[0;32mas\u001b[0m \u001b[0mreq\u001b[0m\u001b[0;34m:\u001b[0m\u001b[0;34m\u001b[0m\u001b[0;34m\u001b[0m\u001b[0m\n\u001b[0m\u001b[1;32m    313\u001b[0m             \u001b[0mcontent_encoding\u001b[0m \u001b[0;34m=\u001b[0m \u001b[0mreq\u001b[0m\u001b[0;34m.\u001b[0m\u001b[0mheaders\u001b[0m\u001b[0;34m.\u001b[0m\u001b[0mget\u001b[0m\u001b[0;34m(\u001b[0m\u001b[0;34m\"Content-Encoding\"\u001b[0m\u001b[0;34m,\u001b[0m \u001b[0;32mNone\u001b[0m\u001b[0;34m)\u001b[0m\u001b[0;34m\u001b[0m\u001b[0;34m\u001b[0m\u001b[0m\n\u001b[1;32m    314\u001b[0m             \u001b[0;32mif\u001b[0m \u001b[0mcontent_encoding\u001b[0m \u001b[0;34m==\u001b[0m \u001b[0;34m\"gzip\"\u001b[0m\u001b[0;34m:\u001b[0m\u001b[0;34m\u001b[0m\u001b[0;34m\u001b[0m\u001b[0m\n",
            "\u001b[0;32m/usr/local/lib/python3.7/dist-packages/pandas/io/common.py\u001b[0m in \u001b[0;36murlopen\u001b[0;34m(*args, **kwargs)\u001b[0m\n\u001b[1;32m    210\u001b[0m     \u001b[0;32mimport\u001b[0m \u001b[0murllib\u001b[0m\u001b[0;34m.\u001b[0m\u001b[0mrequest\u001b[0m\u001b[0;34m\u001b[0m\u001b[0;34m\u001b[0m\u001b[0m\n\u001b[1;32m    211\u001b[0m \u001b[0;34m\u001b[0m\u001b[0m\n\u001b[0;32m--> 212\u001b[0;31m     \u001b[0;32mreturn\u001b[0m \u001b[0murllib\u001b[0m\u001b[0;34m.\u001b[0m\u001b[0mrequest\u001b[0m\u001b[0;34m.\u001b[0m\u001b[0murlopen\u001b[0m\u001b[0;34m(\u001b[0m\u001b[0;34m*\u001b[0m\u001b[0margs\u001b[0m\u001b[0;34m,\u001b[0m \u001b[0;34m**\u001b[0m\u001b[0mkwargs\u001b[0m\u001b[0;34m)\u001b[0m\u001b[0;34m\u001b[0m\u001b[0;34m\u001b[0m\u001b[0m\n\u001b[0m\u001b[1;32m    213\u001b[0m \u001b[0;34m\u001b[0m\u001b[0m\n\u001b[1;32m    214\u001b[0m \u001b[0;34m\u001b[0m\u001b[0m\n",
            "\u001b[0;32m/usr/lib/python3.7/urllib/request.py\u001b[0m in \u001b[0;36murlopen\u001b[0;34m(url, data, timeout, cafile, capath, cadefault, context)\u001b[0m\n\u001b[1;32m    220\u001b[0m     \u001b[0;32melse\u001b[0m\u001b[0;34m:\u001b[0m\u001b[0;34m\u001b[0m\u001b[0;34m\u001b[0m\u001b[0m\n\u001b[1;32m    221\u001b[0m         \u001b[0mopener\u001b[0m \u001b[0;34m=\u001b[0m \u001b[0m_opener\u001b[0m\u001b[0;34m\u001b[0m\u001b[0;34m\u001b[0m\u001b[0m\n\u001b[0;32m--> 222\u001b[0;31m     \u001b[0;32mreturn\u001b[0m \u001b[0mopener\u001b[0m\u001b[0;34m.\u001b[0m\u001b[0mopen\u001b[0m\u001b[0;34m(\u001b[0m\u001b[0murl\u001b[0m\u001b[0;34m,\u001b[0m \u001b[0mdata\u001b[0m\u001b[0;34m,\u001b[0m \u001b[0mtimeout\u001b[0m\u001b[0;34m)\u001b[0m\u001b[0;34m\u001b[0m\u001b[0;34m\u001b[0m\u001b[0m\n\u001b[0m\u001b[1;32m    223\u001b[0m \u001b[0;34m\u001b[0m\u001b[0m\n\u001b[1;32m    224\u001b[0m \u001b[0;32mdef\u001b[0m \u001b[0minstall_opener\u001b[0m\u001b[0;34m(\u001b[0m\u001b[0mopener\u001b[0m\u001b[0;34m)\u001b[0m\u001b[0;34m:\u001b[0m\u001b[0;34m\u001b[0m\u001b[0;34m\u001b[0m\u001b[0m\n",
            "\u001b[0;32m/usr/lib/python3.7/urllib/request.py\u001b[0m in \u001b[0;36mopen\u001b[0;34m(self, fullurl, data, timeout)\u001b[0m\n\u001b[1;32m    529\u001b[0m         \u001b[0;32mfor\u001b[0m \u001b[0mprocessor\u001b[0m \u001b[0;32min\u001b[0m \u001b[0mself\u001b[0m\u001b[0;34m.\u001b[0m\u001b[0mprocess_response\u001b[0m\u001b[0;34m.\u001b[0m\u001b[0mget\u001b[0m\u001b[0;34m(\u001b[0m\u001b[0mprotocol\u001b[0m\u001b[0;34m,\u001b[0m \u001b[0;34m[\u001b[0m\u001b[0;34m]\u001b[0m\u001b[0;34m)\u001b[0m\u001b[0;34m:\u001b[0m\u001b[0;34m\u001b[0m\u001b[0;34m\u001b[0m\u001b[0m\n\u001b[1;32m    530\u001b[0m             \u001b[0mmeth\u001b[0m \u001b[0;34m=\u001b[0m \u001b[0mgetattr\u001b[0m\u001b[0;34m(\u001b[0m\u001b[0mprocessor\u001b[0m\u001b[0;34m,\u001b[0m \u001b[0mmeth_name\u001b[0m\u001b[0;34m)\u001b[0m\u001b[0;34m\u001b[0m\u001b[0;34m\u001b[0m\u001b[0m\n\u001b[0;32m--> 531\u001b[0;31m             \u001b[0mresponse\u001b[0m \u001b[0;34m=\u001b[0m \u001b[0mmeth\u001b[0m\u001b[0;34m(\u001b[0m\u001b[0mreq\u001b[0m\u001b[0;34m,\u001b[0m \u001b[0mresponse\u001b[0m\u001b[0;34m)\u001b[0m\u001b[0;34m\u001b[0m\u001b[0;34m\u001b[0m\u001b[0m\n\u001b[0m\u001b[1;32m    532\u001b[0m \u001b[0;34m\u001b[0m\u001b[0m\n\u001b[1;32m    533\u001b[0m         \u001b[0;32mreturn\u001b[0m \u001b[0mresponse\u001b[0m\u001b[0;34m\u001b[0m\u001b[0;34m\u001b[0m\u001b[0m\n",
            "\u001b[0;32m/usr/lib/python3.7/urllib/request.py\u001b[0m in \u001b[0;36mhttp_response\u001b[0;34m(self, request, response)\u001b[0m\n\u001b[1;32m    639\u001b[0m         \u001b[0;32mif\u001b[0m \u001b[0;32mnot\u001b[0m \u001b[0;34m(\u001b[0m\u001b[0;36m200\u001b[0m \u001b[0;34m<=\u001b[0m \u001b[0mcode\u001b[0m \u001b[0;34m<\u001b[0m \u001b[0;36m300\u001b[0m\u001b[0;34m)\u001b[0m\u001b[0;34m:\u001b[0m\u001b[0;34m\u001b[0m\u001b[0;34m\u001b[0m\u001b[0m\n\u001b[1;32m    640\u001b[0m             response = self.parent.error(\n\u001b[0;32m--> 641\u001b[0;31m                 'http', request, response, code, msg, hdrs)\n\u001b[0m\u001b[1;32m    642\u001b[0m \u001b[0;34m\u001b[0m\u001b[0m\n\u001b[1;32m    643\u001b[0m         \u001b[0;32mreturn\u001b[0m \u001b[0mresponse\u001b[0m\u001b[0;34m\u001b[0m\u001b[0;34m\u001b[0m\u001b[0m\n",
            "\u001b[0;32m/usr/lib/python3.7/urllib/request.py\u001b[0m in \u001b[0;36merror\u001b[0;34m(self, proto, *args)\u001b[0m\n\u001b[1;32m    567\u001b[0m         \u001b[0;32mif\u001b[0m \u001b[0mhttp_err\u001b[0m\u001b[0;34m:\u001b[0m\u001b[0;34m\u001b[0m\u001b[0;34m\u001b[0m\u001b[0m\n\u001b[1;32m    568\u001b[0m             \u001b[0margs\u001b[0m \u001b[0;34m=\u001b[0m \u001b[0;34m(\u001b[0m\u001b[0mdict\u001b[0m\u001b[0;34m,\u001b[0m \u001b[0;34m'default'\u001b[0m\u001b[0;34m,\u001b[0m \u001b[0;34m'http_error_default'\u001b[0m\u001b[0;34m)\u001b[0m \u001b[0;34m+\u001b[0m \u001b[0morig_args\u001b[0m\u001b[0;34m\u001b[0m\u001b[0;34m\u001b[0m\u001b[0m\n\u001b[0;32m--> 569\u001b[0;31m             \u001b[0;32mreturn\u001b[0m \u001b[0mself\u001b[0m\u001b[0;34m.\u001b[0m\u001b[0m_call_chain\u001b[0m\u001b[0;34m(\u001b[0m\u001b[0;34m*\u001b[0m\u001b[0margs\u001b[0m\u001b[0;34m)\u001b[0m\u001b[0;34m\u001b[0m\u001b[0;34m\u001b[0m\u001b[0m\n\u001b[0m\u001b[1;32m    570\u001b[0m \u001b[0;34m\u001b[0m\u001b[0m\n\u001b[1;32m    571\u001b[0m \u001b[0;31m# XXX probably also want an abstract factory that knows when it makes\u001b[0m\u001b[0;34m\u001b[0m\u001b[0;34m\u001b[0m\u001b[0;34m\u001b[0m\u001b[0m\n",
            "\u001b[0;32m/usr/lib/python3.7/urllib/request.py\u001b[0m in \u001b[0;36m_call_chain\u001b[0;34m(self, chain, kind, meth_name, *args)\u001b[0m\n\u001b[1;32m    501\u001b[0m         \u001b[0;32mfor\u001b[0m \u001b[0mhandler\u001b[0m \u001b[0;32min\u001b[0m \u001b[0mhandlers\u001b[0m\u001b[0;34m:\u001b[0m\u001b[0;34m\u001b[0m\u001b[0;34m\u001b[0m\u001b[0m\n\u001b[1;32m    502\u001b[0m             \u001b[0mfunc\u001b[0m \u001b[0;34m=\u001b[0m \u001b[0mgetattr\u001b[0m\u001b[0;34m(\u001b[0m\u001b[0mhandler\u001b[0m\u001b[0;34m,\u001b[0m \u001b[0mmeth_name\u001b[0m\u001b[0;34m)\u001b[0m\u001b[0;34m\u001b[0m\u001b[0;34m\u001b[0m\u001b[0m\n\u001b[0;32m--> 503\u001b[0;31m             \u001b[0mresult\u001b[0m \u001b[0;34m=\u001b[0m \u001b[0mfunc\u001b[0m\u001b[0;34m(\u001b[0m\u001b[0;34m*\u001b[0m\u001b[0margs\u001b[0m\u001b[0;34m)\u001b[0m\u001b[0;34m\u001b[0m\u001b[0;34m\u001b[0m\u001b[0m\n\u001b[0m\u001b[1;32m    504\u001b[0m             \u001b[0;32mif\u001b[0m \u001b[0mresult\u001b[0m \u001b[0;32mis\u001b[0m \u001b[0;32mnot\u001b[0m \u001b[0;32mNone\u001b[0m\u001b[0;34m:\u001b[0m\u001b[0;34m\u001b[0m\u001b[0;34m\u001b[0m\u001b[0m\n\u001b[1;32m    505\u001b[0m                 \u001b[0;32mreturn\u001b[0m \u001b[0mresult\u001b[0m\u001b[0;34m\u001b[0m\u001b[0;34m\u001b[0m\u001b[0m\n",
            "\u001b[0;32m/usr/lib/python3.7/urllib/request.py\u001b[0m in \u001b[0;36mhttp_error_default\u001b[0;34m(self, req, fp, code, msg, hdrs)\u001b[0m\n\u001b[1;32m    647\u001b[0m \u001b[0;32mclass\u001b[0m \u001b[0mHTTPDefaultErrorHandler\u001b[0m\u001b[0;34m(\u001b[0m\u001b[0mBaseHandler\u001b[0m\u001b[0;34m)\u001b[0m\u001b[0;34m:\u001b[0m\u001b[0;34m\u001b[0m\u001b[0;34m\u001b[0m\u001b[0m\n\u001b[1;32m    648\u001b[0m     \u001b[0;32mdef\u001b[0m \u001b[0mhttp_error_default\u001b[0m\u001b[0;34m(\u001b[0m\u001b[0mself\u001b[0m\u001b[0;34m,\u001b[0m \u001b[0mreq\u001b[0m\u001b[0;34m,\u001b[0m \u001b[0mfp\u001b[0m\u001b[0;34m,\u001b[0m \u001b[0mcode\u001b[0m\u001b[0;34m,\u001b[0m \u001b[0mmsg\u001b[0m\u001b[0;34m,\u001b[0m \u001b[0mhdrs\u001b[0m\u001b[0;34m)\u001b[0m\u001b[0;34m:\u001b[0m\u001b[0;34m\u001b[0m\u001b[0;34m\u001b[0m\u001b[0m\n\u001b[0;32m--> 649\u001b[0;31m         \u001b[0;32mraise\u001b[0m \u001b[0mHTTPError\u001b[0m\u001b[0;34m(\u001b[0m\u001b[0mreq\u001b[0m\u001b[0;34m.\u001b[0m\u001b[0mfull_url\u001b[0m\u001b[0;34m,\u001b[0m \u001b[0mcode\u001b[0m\u001b[0;34m,\u001b[0m \u001b[0mmsg\u001b[0m\u001b[0;34m,\u001b[0m \u001b[0mhdrs\u001b[0m\u001b[0;34m,\u001b[0m \u001b[0mfp\u001b[0m\u001b[0;34m)\u001b[0m\u001b[0;34m\u001b[0m\u001b[0;34m\u001b[0m\u001b[0m\n\u001b[0m\u001b[1;32m    650\u001b[0m \u001b[0;34m\u001b[0m\u001b[0m\n\u001b[1;32m    651\u001b[0m \u001b[0;32mclass\u001b[0m \u001b[0mHTTPRedirectHandler\u001b[0m\u001b[0;34m(\u001b[0m\u001b[0mBaseHandler\u001b[0m\u001b[0;34m)\u001b[0m\u001b[0;34m:\u001b[0m\u001b[0;34m\u001b[0m\u001b[0;34m\u001b[0m\u001b[0m\n",
            "\u001b[0;31mHTTPError\u001b[0m: HTTP Error 404: Not Found"
          ]
        }
      ]
    },
    {
      "cell_type": "code",
      "source": [
        "# Arright, the URL they gave me only works once.  Download from local, upload \n",
        "# share-with-mental-and-substance-disorders.csv \n",
        "\n",
        "from google.colab import files\n",
        "files.upload()\n"
      ],
      "metadata": {
        "colab": {
          "base_uri": "https://localhost:8080/",
          "height": 1000
        },
        "id": "F_0QrVzWVaJX",
        "outputId": "9645afee-89a3-4523-ccad-19f900101ad5"
      },
      "execution_count": 6,
      "outputs": [
        {
          "output_type": "display_data",
          "data": {
            "text/plain": [
              "<IPython.core.display.HTML object>"
            ],
            "text/html": [
              "\n",
              "     <input type=\"file\" id=\"files-bfa7caf1-eaf9-4b6a-a6d4-d1e7562825a7\" name=\"files[]\" multiple disabled\n",
              "        style=\"border:none\" />\n",
              "     <output id=\"result-bfa7caf1-eaf9-4b6a-a6d4-d1e7562825a7\">\n",
              "      Upload widget is only available when the cell has been executed in the\n",
              "      current browser session. Please rerun this cell to enable.\n",
              "      </output>\n",
              "      <script>// Copyright 2017 Google LLC\n",
              "//\n",
              "// Licensed under the Apache License, Version 2.0 (the \"License\");\n",
              "// you may not use this file except in compliance with the License.\n",
              "// You may obtain a copy of the License at\n",
              "//\n",
              "//      http://www.apache.org/licenses/LICENSE-2.0\n",
              "//\n",
              "// Unless required by applicable law or agreed to in writing, software\n",
              "// distributed under the License is distributed on an \"AS IS\" BASIS,\n",
              "// WITHOUT WARRANTIES OR CONDITIONS OF ANY KIND, either express or implied.\n",
              "// See the License for the specific language governing permissions and\n",
              "// limitations under the License.\n",
              "\n",
              "/**\n",
              " * @fileoverview Helpers for google.colab Python module.\n",
              " */\n",
              "(function(scope) {\n",
              "function span(text, styleAttributes = {}) {\n",
              "  const element = document.createElement('span');\n",
              "  element.textContent = text;\n",
              "  for (const key of Object.keys(styleAttributes)) {\n",
              "    element.style[key] = styleAttributes[key];\n",
              "  }\n",
              "  return element;\n",
              "}\n",
              "\n",
              "// Max number of bytes which will be uploaded at a time.\n",
              "const MAX_PAYLOAD_SIZE = 100 * 1024;\n",
              "\n",
              "function _uploadFiles(inputId, outputId) {\n",
              "  const steps = uploadFilesStep(inputId, outputId);\n",
              "  const outputElement = document.getElementById(outputId);\n",
              "  // Cache steps on the outputElement to make it available for the next call\n",
              "  // to uploadFilesContinue from Python.\n",
              "  outputElement.steps = steps;\n",
              "\n",
              "  return _uploadFilesContinue(outputId);\n",
              "}\n",
              "\n",
              "// This is roughly an async generator (not supported in the browser yet),\n",
              "// where there are multiple asynchronous steps and the Python side is going\n",
              "// to poll for completion of each step.\n",
              "// This uses a Promise to block the python side on completion of each step,\n",
              "// then passes the result of the previous step as the input to the next step.\n",
              "function _uploadFilesContinue(outputId) {\n",
              "  const outputElement = document.getElementById(outputId);\n",
              "  const steps = outputElement.steps;\n",
              "\n",
              "  const next = steps.next(outputElement.lastPromiseValue);\n",
              "  return Promise.resolve(next.value.promise).then((value) => {\n",
              "    // Cache the last promise value to make it available to the next\n",
              "    // step of the generator.\n",
              "    outputElement.lastPromiseValue = value;\n",
              "    return next.value.response;\n",
              "  });\n",
              "}\n",
              "\n",
              "/**\n",
              " * Generator function which is called between each async step of the upload\n",
              " * process.\n",
              " * @param {string} inputId Element ID of the input file picker element.\n",
              " * @param {string} outputId Element ID of the output display.\n",
              " * @return {!Iterable<!Object>} Iterable of next steps.\n",
              " */\n",
              "function* uploadFilesStep(inputId, outputId) {\n",
              "  const inputElement = document.getElementById(inputId);\n",
              "  inputElement.disabled = false;\n",
              "\n",
              "  const outputElement = document.getElementById(outputId);\n",
              "  outputElement.innerHTML = '';\n",
              "\n",
              "  const pickedPromise = new Promise((resolve) => {\n",
              "    inputElement.addEventListener('change', (e) => {\n",
              "      resolve(e.target.files);\n",
              "    });\n",
              "  });\n",
              "\n",
              "  const cancel = document.createElement('button');\n",
              "  inputElement.parentElement.appendChild(cancel);\n",
              "  cancel.textContent = 'Cancel upload';\n",
              "  const cancelPromise = new Promise((resolve) => {\n",
              "    cancel.onclick = () => {\n",
              "      resolve(null);\n",
              "    };\n",
              "  });\n",
              "\n",
              "  // Wait for the user to pick the files.\n",
              "  const files = yield {\n",
              "    promise: Promise.race([pickedPromise, cancelPromise]),\n",
              "    response: {\n",
              "      action: 'starting',\n",
              "    }\n",
              "  };\n",
              "\n",
              "  cancel.remove();\n",
              "\n",
              "  // Disable the input element since further picks are not allowed.\n",
              "  inputElement.disabled = true;\n",
              "\n",
              "  if (!files) {\n",
              "    return {\n",
              "      response: {\n",
              "        action: 'complete',\n",
              "      }\n",
              "    };\n",
              "  }\n",
              "\n",
              "  for (const file of files) {\n",
              "    const li = document.createElement('li');\n",
              "    li.append(span(file.name, {fontWeight: 'bold'}));\n",
              "    li.append(span(\n",
              "        `(${file.type || 'n/a'}) - ${file.size} bytes, ` +\n",
              "        `last modified: ${\n",
              "            file.lastModifiedDate ? file.lastModifiedDate.toLocaleDateString() :\n",
              "                                    'n/a'} - `));\n",
              "    const percent = span('0% done');\n",
              "    li.appendChild(percent);\n",
              "\n",
              "    outputElement.appendChild(li);\n",
              "\n",
              "    const fileDataPromise = new Promise((resolve) => {\n",
              "      const reader = new FileReader();\n",
              "      reader.onload = (e) => {\n",
              "        resolve(e.target.result);\n",
              "      };\n",
              "      reader.readAsArrayBuffer(file);\n",
              "    });\n",
              "    // Wait for the data to be ready.\n",
              "    let fileData = yield {\n",
              "      promise: fileDataPromise,\n",
              "      response: {\n",
              "        action: 'continue',\n",
              "      }\n",
              "    };\n",
              "\n",
              "    // Use a chunked sending to avoid message size limits. See b/62115660.\n",
              "    let position = 0;\n",
              "    do {\n",
              "      const length = Math.min(fileData.byteLength - position, MAX_PAYLOAD_SIZE);\n",
              "      const chunk = new Uint8Array(fileData, position, length);\n",
              "      position += length;\n",
              "\n",
              "      const base64 = btoa(String.fromCharCode.apply(null, chunk));\n",
              "      yield {\n",
              "        response: {\n",
              "          action: 'append',\n",
              "          file: file.name,\n",
              "          data: base64,\n",
              "        },\n",
              "      };\n",
              "\n",
              "      let percentDone = fileData.byteLength === 0 ?\n",
              "          100 :\n",
              "          Math.round((position / fileData.byteLength) * 100);\n",
              "      percent.textContent = `${percentDone}% done`;\n",
              "\n",
              "    } while (position < fileData.byteLength);\n",
              "  }\n",
              "\n",
              "  // All done.\n",
              "  yield {\n",
              "    response: {\n",
              "      action: 'complete',\n",
              "    }\n",
              "  };\n",
              "}\n",
              "\n",
              "scope.google = scope.google || {};\n",
              "scope.google.colab = scope.google.colab || {};\n",
              "scope.google.colab._files = {\n",
              "  _uploadFiles,\n",
              "  _uploadFilesContinue,\n",
              "};\n",
              "})(self);\n",
              "</script> "
            ]
          },
          "metadata": {}
        },
        {
          "output_type": "stream",
          "name": "stdout",
          "text": [
            "Saving share-with-mental-and-substance-disorders.csv to share-with-mental-and-substance-disorders.csv\n"
          ]
        },
        {
          "output_type": "execute_result",
          "data": {
            "text/plain": [
              "{'share-with-mental-and-substance-disorders.csv': b\"Entity,Code,Year,Prevalence - Mental disorders - Sex: Both - Age: Age-standardized (Percent)\\nAfghanistan,AFG,1990,16.66\\nAfghanistan,AFG,1991,16.77\\nAfghanistan,AFG,1992,16.87\\nAfghanistan,AFG,1993,16.99\\nAfghanistan,AFG,1994,17.11\\nAfghanistan,AFG,1995,17.24\\nAfghanistan,AFG,1996,17.39\\nAfghanistan,AFG,1997,17.57\\nAfghanistan,AFG,1998,17.75\\nAfghanistan,AFG,1999,17.88\\nAfghanistan,AFG,2000,17.94\\nAfghanistan,AFG,2001,17.93\\nAfghanistan,AFG,2002,17.92\\nAfghanistan,AFG,2003,17.89\\nAfghanistan,AFG,2004,17.86\\nAfghanistan,AFG,2005,17.82\\nAfghanistan,AFG,2006,17.77\\nAfghanistan,AFG,2007,17.69\\nAfghanistan,AFG,2008,17.58\\nAfghanistan,AFG,2009,17.48\\nAfghanistan,AFG,2010,17.4\\nAfghanistan,AFG,2011,17.32\\nAfghanistan,AFG,2012,17.26\\nAfghanistan,AFG,2013,17.2\\nAfghanistan,AFG,2014,17.15\\nAfghanistan,AFG,2015,17.13\\nAfghanistan,AFG,2016,17.11\\nAfghanistan,AFG,2017,17.1\\nAfghanistan,AFG,2018,17.1\\nAfghanistan,AFG,2019,17.12\\nAfrican Region (WHO),,1990,12.41\\nAfrican Region (WHO),,1991,12.41\\nAfrican Region (WHO),,1992,12.42\\nAfrican Region (WHO),,1993,12.42\\nAfrican Region (WHO),,1994,12.42\\nAfrican Region (WHO),,1995,12.43\\nAfrican Region (WHO),,1996,12.45\\nAfrican Region (WHO),,1997,12.47\\nAfrican Region (WHO),,1998,12.5\\nAfrican Region (WHO),,1999,12.53\\nAfrican Region (WHO),,2000,12.54\\nAfrican Region (WHO),,2001,12.53\\nAfrican Region (WHO),,2002,12.52\\nAfrican Region (WHO),,2003,12.51\\nAfrican Region (WHO),,2004,12.5\\nAfrican Region (WHO),,2005,12.49\\nAfrican Region (WHO),,2006,12.47\\nAfrican Region (WHO),,2007,12.45\\nAfrican Region (WHO),,2008,12.42\\nAfrican Region (WHO),,2009,12.39\\nAfrican Region (WHO),,2010,12.36\\nAfrican Region (WHO),,2011,12.33\\nAfrican Region (WHO),,2012,12.3\\nAfrican Region (WHO),,2013,12.26\\nAfrican Region (WHO),,2014,12.23\\nAfrican Region (WHO),,2015,12.22\\nAfrican Region (WHO),,2016,12.22\\nAfrican Region (WHO),,2017,12.22\\nAfrican Region (WHO),,2018,12.22\\nAfrican Region (WHO),,2019,12.21\\nAlbania,ALB,1990,11.53\\nAlbania,ALB,1991,11.58\\nAlbania,ALB,1992,11.62\\nAlbania,ALB,1993,11.66\\nAlbania,ALB,1994,11.68\\nAlbania,ALB,1995,11.7\\nAlbania,ALB,1996,11.71\\nAlbania,ALB,1997,11.72\\nAlbania,ALB,1998,11.72\\nAlbania,ALB,1999,11.72\\nAlbania,ALB,2000,11.72\\nAlbania,ALB,2001,11.71\\nAlbania,ALB,2002,11.7\\nAlbania,ALB,2003,11.69\\nAlbania,ALB,2004,11.68\\nAlbania,ALB,2005,11.66\\nAlbania,ALB,2006,11.64\\nAlbania,ALB,2007,11.62\\nAlbania,ALB,2008,11.6\\nAlbania,ALB,2009,11.58\\nAlbania,ALB,2010,11.57\\nAlbania,ALB,2011,11.57\\nAlbania,ALB,2012,11.57\\nAlbania,ALB,2013,11.58\\nAlbania,ALB,2014,11.58\\nAlbania,ALB,2015,11.58\\nAlbania,ALB,2016,11.56\\nAlbania,ALB,2017,11.55\\nAlbania,ALB,2018,11.55\\nAlbania,ALB,2019,11.56\\nAlgeria,DZA,1990,14.95\\nAlgeria,DZA,1991,14.96\\nAlgeria,DZA,1992,14.97\\nAlgeria,DZA,1993,14.98\\nAlgeria,DZA,1994,14.99\\nAlgeria,DZA,1995,14.99\\nAlgeria,DZA,1996,14.98\\nAlgeria,DZA,1997,14.98\\nAlgeria,DZA,1998,14.98\\nAlgeria,DZA,1999,14.97\\nAlgeria,DZA,2000,14.97\\nAlgeria,DZA,2001,14.96\\nAlgeria,DZA,2002,14.93\\nAlgeria,DZA,2003,14.9\\nAlgeria,DZA,2004,14.87\\nAlgeria,DZA,2005,14.84\\nAlgeria,DZA,2006,14.82\\nAlgeria,DZA,2007,14.78\\nAlgeria,DZA,2008,14.75\\nAlgeria,DZA,2009,14.72\\nAlgeria,DZA,2010,14.71\\nAlgeria,DZA,2011,14.7\\nAlgeria,DZA,2012,14.71\\nAlgeria,DZA,2013,14.73\\nAlgeria,DZA,2014,14.74\\nAlgeria,DZA,2015,14.74\\nAlgeria,DZA,2016,14.72\\nAlgeria,DZA,2017,14.71\\nAlgeria,DZA,2018,14.73\\nAlgeria,DZA,2019,14.78\\nAmerican Samoa,ASM,1990,11.12\\nAmerican Samoa,ASM,1991,11.11\\nAmerican Samoa,ASM,1992,11.11\\nAmerican Samoa,ASM,1993,11.11\\nAmerican Samoa,ASM,1994,11.1\\nAmerican Samoa,ASM,1995,11.1\\nAmerican Samoa,ASM,1996,11.11\\nAmerican Samoa,ASM,1997,11.11\\nAmerican Samoa,ASM,1998,11.12\\nAmerican Samoa,ASM,1999,11.12\\nAmerican Samoa,ASM,2000,11.13\\nAmerican Samoa,ASM,2001,11.13\\nAmerican Samoa,ASM,2002,11.13\\nAmerican Samoa,ASM,2003,11.13\\nAmerican Samoa,ASM,2004,11.13\\nAmerican Samoa,ASM,2005,11.12\\nAmerican Samoa,ASM,2006,11.13\\nAmerican Samoa,ASM,2007,11.14\\nAmerican Samoa,ASM,2008,11.15\\nAmerican Samoa,ASM,2009,11.16\\nAmerican Samoa,ASM,2010,11.17\\nAmerican Samoa,ASM,2011,11.18\\nAmerican Samoa,ASM,2012,11.19\\nAmerican Samoa,ASM,2013,11.2\\nAmerican Samoa,ASM,2014,11.21\\nAmerican Samoa,ASM,2015,11.21\\nAmerican Samoa,ASM,2016,11.2\\nAmerican Samoa,ASM,2017,11.19\\nAmerican Samoa,ASM,2018,11.21\\nAmerican Samoa,ASM,2019,11.24\\nAndorra,AND,1990,15.38\\nAndorra,AND,1991,15.38\\nAndorra,AND,1992,15.39\\nAndorra,AND,1993,15.39\\nAndorra,AND,1994,15.4\\nAndorra,AND,1995,15.41\\nAndorra,AND,1996,15.42\\nAndorra,AND,1997,15.42\\nAndorra,AND,1998,15.41\\nAndorra,AND,1999,15.41\\nAndorra,AND,2000,15.41\\nAndorra,AND,2001,15.42\\nAndorra,AND,2002,15.42\\nAndorra,AND,2003,15.42\\nAndorra,AND,2004,15.41\\nAndorra,AND,2005,15.41\\nAndorra,AND,2006,15.41\\nAndorra,AND,2007,15.39\\nAndorra,AND,2008,15.38\\nAndorra,AND,2009,15.36\\nAndorra,AND,2010,15.36\\nAndorra,AND,2011,15.39\\nAndorra,AND,2012,15.41\\nAndorra,AND,2013,15.43\\nAndorra,AND,2014,15.45\\nAndorra,AND,2015,15.45\\nAndorra,AND,2016,15.45\\nAndorra,AND,2017,15.45\\nAndorra,AND,2018,15.46\\nAndorra,AND,2019,15.5\\nAngola,AGO,1990,13.59\\nAngola,AGO,1991,13.61\\nAngola,AGO,1992,13.63\\nAngola,AGO,1993,13.64\\nAngola,AGO,1994,13.66\\nAngola,AGO,1995,13.66\\nAngola,AGO,1996,13.67\\nAngola,AGO,1997,13.66\\nAngola,AGO,1998,13.66\\nAngola,AGO,1999,13.66\\nAngola,AGO,2000,13.65\\nAngola,AGO,2001,13.64\\nAngola,AGO,2002,13.63\\nAngola,AGO,2003,13.6\\nAngola,AGO,2004,13.58\\nAngola,AGO,2005,13.55\\nAngola,AGO,2006,13.53\\nAngola,AGO,2007,13.5\\nAngola,AGO,2008,13.46\\nAngola,AGO,2009,13.42\\nAngola,AGO,2010,13.4\\nAngola,AGO,2011,13.38\\nAngola,AGO,2012,13.37\\nAngola,AGO,2013,13.35\\nAngola,AGO,2014,13.35\\nAngola,AGO,2015,13.35\\nAngola,AGO,2016,13.35\\nAngola,AGO,2017,13.36\\nAngola,AGO,2018,13.35\\nAngola,AGO,2019,13.34\\nAntigua and Barbuda,ATG,1990,14.03\\nAntigua and Barbuda,ATG,1991,13.98\\nAntigua and Barbuda,ATG,1992,13.95\\nAntigua and Barbuda,ATG,1993,13.92\\nAntigua and Barbuda,ATG,1994,13.89\\nAntigua and Barbuda,ATG,1995,13.89\\nAntigua and Barbuda,ATG,1996,13.89\\nAntigua and Barbuda,ATG,1997,13.9\\nAntigua and Barbuda,ATG,1998,13.92\\nAntigua and Barbuda,ATG,1999,13.93\\nAntigua and Barbuda,ATG,2000,13.94\\nAntigua and Barbuda,ATG,2001,13.94\\nAntigua and Barbuda,ATG,2002,13.95\\nAntigua and Barbuda,ATG,2003,13.95\\nAntigua and Barbuda,ATG,2004,13.95\\nAntigua and Barbuda,ATG,2005,13.95\\nAntigua and Barbuda,ATG,2006,13.95\\nAntigua and Barbuda,ATG,2007,13.94\\nAntigua and Barbuda,ATG,2008,13.93\\nAntigua and Barbuda,ATG,2009,13.93\\nAntigua and Barbuda,ATG,2010,13.93\\nAntigua and Barbuda,ATG,2011,13.94\\nAntigua and Barbuda,ATG,2012,13.97\\nAntigua and Barbuda,ATG,2013,14.01\\nAntigua and Barbuda,ATG,2014,14.04\\nAntigua and Barbuda,ATG,2015,14.06\\nAntigua and Barbuda,ATG,2016,14.06\\nAntigua and Barbuda,ATG,2017,14.06\\nAntigua and Barbuda,ATG,2018,14.1\\nAntigua and Barbuda,ATG,2019,14.18\\nArgentina,ARG,1990,13.74\\nArgentina,ARG,1991,13.75\\nArgentina,ARG,1992,13.76\\nArgentina,ARG,1993,13.77\\nArgentina,ARG,1994,13.78\\nArgentina,ARG,1995,13.78\\nArgentina,ARG,1996,13.79\\nArgentina,ARG,1997,13.8\\nArgentina,ARG,1998,13.81\\nArgentina,ARG,1999,13.81\\nArgentina,ARG,2000,13.82\\nArgentina,ARG,2001,13.84\\nArgentina,ARG,2002,13.85\\nArgentina,ARG,2003,13.88\\nArgentina,ARG,2004,13.9\\nArgentina,ARG,2005,13.9\\nArgentina,ARG,2006,13.86\\nArgentina,ARG,2007,13.76\\nArgentina,ARG,2008,13.64\\nArgentina,ARG,2009,13.54\\nArgentina,ARG,2010,13.5\\nArgentina,ARG,2011,13.51\\nArgentina,ARG,2012,13.52\\nArgentina,ARG,2013,13.55\\nArgentina,ARG,2014,13.56\\nArgentina,ARG,2015,13.58\\nArgentina,ARG,2016,13.59\\nArgentina,ARG,2017,13.6\\nArgentina,ARG,2018,13.6\\nArgentina,ARG,2019,13.6\\nArmenia,ARM,1990,11.27\\nArmenia,ARM,1991,11.32\\nArmenia,ARM,1992,11.36\\nArmenia,ARM,1993,11.4\\nArmenia,ARM,1994,11.43\\nArmenia,ARM,1995,11.46\\nArmenia,ARM,1996,11.5\\nArmenia,ARM,1997,11.54\\nArmenia,ARM,1998,11.59\\nArmenia,ARM,1999,11.62\\nArmenia,ARM,2000,11.64\\nArmenia,ARM,2001,11.65\\nArmenia,ARM,2002,11.63\\nArmenia,ARM,2003,11.59\\nArmenia,ARM,2004,11.55\\nArmenia,ARM,2005,11.52\\nArmenia,ARM,2006,11.49\\nArmenia,ARM,2007,11.45\\nArmenia,ARM,2008,11.41\\nArmenia,ARM,2009,11.38\\nArmenia,ARM,2010,11.36\\nArmenia,ARM,2011,11.36\\nArmenia,ARM,2012,11.36\\nArmenia,ARM,2013,11.36\\nArmenia,ARM,2014,11.37\\nArmenia,ARM,2015,11.37\\nArmenia,ARM,2016,11.37\\nArmenia,ARM,2017,11.37\\nArmenia,ARM,2018,11.37\\nArmenia,ARM,2019,11.38\\nAustralia,AUS,1990,18.69\\nAustralia,AUS,1991,18.7\\nAustralia,AUS,1992,18.71\\nAustralia,AUS,1993,18.71\\nAustralia,AUS,1994,18.7\\nAustralia,AUS,1995,18.69\\nAustralia,AUS,1996,18.63\\nAustralia,AUS,1997,18.52\\nAustralia,AUS,1998,18.41\\nAustralia,AUS,1999,18.33\\nAustralia,AUS,2000,18.32\\nAustralia,AUS,2001,18.45\\nAustralia,AUS,2002,18.69\\nAustralia,AUS,2003,18.97\\nAustralia,AUS,2004,19.21\\nAustralia,AUS,2005,19.32\\nAustralia,AUS,2006,19.34\\nAustralia,AUS,2007,19.34\\nAustralia,AUS,2008,19.33\\nAustralia,AUS,2009,19.31\\nAustralia,AUS,2010,19.29\\nAustralia,AUS,2011,19.25\\nAustralia,AUS,2012,19.19\\nAustralia,AUS,2013,19.12\\nAustralia,AUS,2014,19.05\\nAustralia,AUS,2015,19.01\\nAustralia,AUS,2016,18.98\\nAustralia,AUS,2017,18.96\\nAustralia,AUS,2018,19.07\\nAustralia,AUS,2019,19.35\\nAustria,AUT,1990,15.94\\nAustria,AUT,1991,15.96\\nAustria,AUT,1992,15.98\\nAustria,AUT,1993,15.99\\nAustria,AUT,1994,15.98\\nAustria,AUT,1995,15.97\\nAustria,AUT,1996,15.95\\nAustria,AUT,1997,15.9\\nAustria,AUT,1998,15.85\\nAustria,AUT,1999,15.79\\nAustria,AUT,2000,15.76\\nAustria,AUT,2001,15.73\\nAustria,AUT,2002,15.72\\nAustria,AUT,2003,15.7\\nAustria,AUT,2004,15.68\\nAustria,AUT,2005,15.67\\nAustria,AUT,2006,15.66\\nAustria,AUT,2007,15.66\\nAustria,AUT,2008,15.65\\nAustria,AUT,2009,15.66\\nAustria,AUT,2010,15.66\\nAustria,AUT,2011,15.67\\nAustria,AUT,2012,15.69\\nAustria,AUT,2013,15.71\\nAustria,AUT,2014,15.73\\nAustria,AUT,2015,15.74\\nAustria,AUT,2016,15.77\\nAustria,AUT,2017,15.79\\nAustria,AUT,2018,15.8\\nAustria,AUT,2019,15.82\\nAzerbaijan,AZE,1990,10.49\\nAzerbaijan,AZE,1991,10.49\\nAzerbaijan,AZE,1992,10.51\\nAzerbaijan,AZE,1993,10.53\\nAzerbaijan,AZE,1994,10.56\\nAzerbaijan,AZE,1995,10.6\\nAzerbaijan,AZE,1996,10.66\\nAzerbaijan,AZE,1997,10.74\\nAzerbaijan,AZE,1998,10.82\\nAzerbaijan,AZE,1999,10.88\\nAzerbaijan,AZE,2000,10.91\\nAzerbaijan,AZE,2001,10.91\\nAzerbaijan,AZE,2002,10.9\\nAzerbaijan,AZE,2003,10.89\\nAzerbaijan,AZE,2004,10.87\\nAzerbaijan,AZE,2005,10.84\\nAzerbaijan,AZE,2006,10.78\\nAzerbaijan,AZE,2007,10.7\\nAzerbaijan,AZE,2008,10.61\\nAzerbaijan,AZE,2009,10.53\\nAzerbaijan,AZE,2010,10.48\\nAzerbaijan,AZE,2011,10.45\\nAzerbaijan,AZE,2012,10.44\\nAzerbaijan,AZE,2013,10.43\\nAzerbaijan,AZE,2014,10.42\\nAzerbaijan,AZE,2015,10.41\\nAzerbaijan,AZE,2016,10.4\\nAzerbaijan,AZE,2017,10.39\\nAzerbaijan,AZE,2018,10.4\\nAzerbaijan,AZE,2019,10.42\\nBahamas,BHS,1990,14.04\\nBahamas,BHS,1991,14.01\\nBahamas,BHS,1992,13.99\\nBahamas,BHS,1993,13.97\\nBahamas,BHS,1994,13.95\\nBahamas,BHS,1995,13.95\\nBahamas,BHS,1996,13.96\\nBahamas,BHS,1997,13.97\\nBahamas,BHS,1998,13.99\\nBahamas,BHS,1999,14\\nBahamas,BHS,2000,14\\nBahamas,BHS,2001,14\\nBahamas,BHS,2002,14\\nBahamas,BHS,2003,14\\nBahamas,BHS,2004,13.99\\nBahamas,BHS,2005,13.99\\nBahamas,BHS,2006,13.98\\nBahamas,BHS,2007,13.98\\nBahamas,BHS,2008,13.97\\nBahamas,BHS,2009,13.97\\nBahamas,BHS,2010,13.97\\nBahamas,BHS,2011,13.98\\nBahamas,BHS,2012,14.01\\nBahamas,BHS,2013,14.03\\nBahamas,BHS,2014,14.06\\nBahamas,BHS,2015,14.07\\nBahamas,BHS,2016,14.07\\nBahamas,BHS,2017,14.07\\nBahamas,BHS,2018,14.1\\nBahamas,BHS,2019,14.16\\nBahrain,BHR,1990,15.16\\nBahrain,BHR,1991,15.17\\nBahrain,BHR,1992,15.18\\nBahrain,BHR,1993,15.19\\nBahrain,BHR,1994,15.2\\nBahrain,BHR,1995,15.2\\nBahrain,BHR,1996,15.19\\nBahrain,BHR,1997,15.17\\nBahrain,BHR,1998,15.14\\nBahrain,BHR,1999,15.11\\nBahrain,BHR,2000,15.09\\nBahrain,BHR,2001,15.07\\nBahrain,BHR,2002,15.03\\nBahrain,BHR,2003,14.98\\nBahrain,BHR,2004,14.93\\nBahrain,BHR,2005,14.87\\nBahrain,BHR,2006,14.83\\nBahrain,BHR,2007,14.8\\nBahrain,BHR,2008,14.78\\nBahrain,BHR,2009,14.76\\nBahrain,BHR,2010,14.73\\nBahrain,BHR,2011,14.7\\nBahrain,BHR,2012,14.67\\nBahrain,BHR,2013,14.64\\nBahrain,BHR,2014,14.61\\nBahrain,BHR,2015,14.58\\nBahrain,BHR,2016,14.55\\nBahrain,BHR,2017,14.53\\nBahrain,BHR,2018,14.54\\nBahrain,BHR,2019,14.57\\nBangladesh,BGD,1990,13.5\\nBangladesh,BGD,1991,13.4\\nBangladesh,BGD,1992,13.3\\nBangladesh,BGD,1993,13.21\\nBangladesh,BGD,1994,13.13\\nBangladesh,BGD,1995,13.06\\nBangladesh,BGD,1996,12.99\\nBangladesh,BGD,1997,12.92\\nBangladesh,BGD,1998,12.86\\nBangladesh,BGD,1999,12.79\\nBangladesh,BGD,2000,12.73\\nBangladesh,BGD,2001,12.7\\nBangladesh,BGD,2002,12.7\\nBangladesh,BGD,2003,12.72\\nBangladesh,BGD,2004,12.73\\nBangladesh,BGD,2005,12.69\\nBangladesh,BGD,2006,12.59\\nBangladesh,BGD,2007,12.47\\nBangladesh,BGD,2008,12.34\\nBangladesh,BGD,2009,12.22\\nBangladesh,BGD,2010,12.14\\nBangladesh,BGD,2011,12.08\\nBangladesh,BGD,2012,12.03\\nBangladesh,BGD,2013,11.98\\nBangladesh,BGD,2014,11.94\\nBangladesh,BGD,2015,11.9\\nBangladesh,BGD,2016,11.86\\nBangladesh,BGD,2017,11.83\\nBangladesh,BGD,2018,11.81\\nBangladesh,BGD,2019,11.8\\nBarbados,BRB,1990,14.2\\nBarbados,BRB,1991,14.17\\nBarbados,BRB,1992,14.14\\nBarbados,BRB,1993,14.13\\nBarbados,BRB,1994,14.12\\nBarbados,BRB,1995,14.12\\nBarbados,BRB,1996,14.12\\nBarbados,BRB,1997,14.13\\nBarbados,BRB,1998,14.13\\nBarbados,BRB,1999,14.14\\nBarbados,BRB,2000,14.14\\nBarbados,BRB,2001,14.15\\nBarbados,BRB,2002,14.16\\nBarbados,BRB,2003,14.16\\nBarbados,BRB,2004,14.17\\nBarbados,BRB,2005,14.18\\nBarbados,BRB,2006,14.18\\nBarbados,BRB,2007,14.18\\nBarbados,BRB,2008,14.18\\nBarbados,BRB,2009,14.19\\nBarbados,BRB,2010,14.2\\nBarbados,BRB,2011,14.21\\nBarbados,BRB,2012,14.24\\nBarbados,BRB,2013,14.27\\nBarbados,BRB,2014,14.29\\nBarbados,BRB,2015,14.31\\nBarbados,BRB,2016,14.32\\nBarbados,BRB,2017,14.32\\nBarbados,BRB,2018,14.34\\nBarbados,BRB,2019,14.38\\nBelarus,BLR,1990,12.8\\nBelarus,BLR,1991,12.83\\nBelarus,BLR,1992,12.87\\nBelarus,BLR,1993,12.9\\nBelarus,BLR,1994,12.93\\nBelarus,BLR,1995,12.96\\nBelarus,BLR,1996,13\\nBelarus,BLR,1997,13.05\\nBelarus,BLR,1998,13.1\\nBelarus,BLR,1999,13.14\\nBelarus,BLR,2000,13.16\\nBelarus,BLR,2001,13.16\\nBelarus,BLR,2002,13.16\\nBelarus,BLR,2003,13.14\\nBelarus,BLR,2004,13.11\\nBelarus,BLR,2005,13.08\\nBelarus,BLR,2006,13.03\\nBelarus,BLR,2007,12.97\\nBelarus,BLR,2008,12.89\\nBelarus,BLR,2009,12.82\\nBelarus,BLR,2010,12.77\\nBelarus,BLR,2011,12.74\\nBelarus,BLR,2012,12.71\\nBelarus,BLR,2013,12.68\\nBelarus,BLR,2014,12.67\\nBelarus,BLR,2015,12.66\\nBelarus,BLR,2016,12.65\\nBelarus,BLR,2017,12.64\\nBelarus,BLR,2018,12.61\\nBelarus,BLR,2019,12.57\\nBelgium,BEL,1990,14.72\\nBelgium,BEL,1991,14.71\\nBelgium,BEL,1992,14.71\\nBelgium,BEL,1993,14.7\\nBelgium,BEL,1994,14.7\\nBelgium,BEL,1995,14.7\\nBelgium,BEL,1996,14.69\\nBelgium,BEL,1997,14.68\\nBelgium,BEL,1998,14.66\\nBelgium,BEL,1999,14.65\\nBelgium,BEL,2000,14.66\\nBelgium,BEL,2001,14.69\\nBelgium,BEL,2002,14.71\\nBelgium,BEL,2003,14.74\\nBelgium,BEL,2004,14.77\\nBelgium,BEL,2005,14.79\\nBelgium,BEL,2006,14.83\\nBelgium,BEL,2007,14.89\\nBelgium,BEL,2008,14.94\\nBelgium,BEL,2009,14.99\\nBelgium,BEL,2010,15.02\\nBelgium,BEL,2011,15.02\\nBelgium,BEL,2012,15.02\\nBelgium,BEL,2013,15.02\\nBelgium,BEL,2014,15.02\\nBelgium,BEL,2015,15.02\\nBelgium,BEL,2016,15.01\\nBelgium,BEL,2017,15\\nBelgium,BEL,2018,14.99\\nBelgium,BEL,2019,14.96\\nBelize,BLZ,1990,14.18\\nBelize,BLZ,1991,14.16\\nBelize,BLZ,1992,14.14\\nBelize,BLZ,1993,14.13\\nBelize,BLZ,1994,14.12\\nBelize,BLZ,1995,14.12\\nBelize,BLZ,1996,14.13\\nBelize,BLZ,1997,14.14\\nBelize,BLZ,1998,14.16\\nBelize,BLZ,1999,14.17\\nBelize,BLZ,2000,14.18\\nBelize,BLZ,2001,14.19\\nBelize,BLZ,2002,14.18\\nBelize,BLZ,2003,14.19\\nBelize,BLZ,2004,14.18\\nBelize,BLZ,2005,14.18\\nBelize,BLZ,2006,14.19\\nBelize,BLZ,2007,14.19\\nBelize,BLZ,2008,14.19\\nBelize,BLZ,2009,14.2\\nBelize,BLZ,2010,14.2\\nBelize,BLZ,2011,14.21\\nBelize,BLZ,2012,14.23\\nBelize,BLZ,2013,14.25\\nBelize,BLZ,2014,14.27\\nBelize,BLZ,2015,14.28\\nBelize,BLZ,2016,14.29\\nBelize,BLZ,2017,14.29\\nBelize,BLZ,2018,14.31\\nBelize,BLZ,2019,14.33\\nBenin,BEN,1990,11.7\\nBenin,BEN,1991,11.71\\nBenin,BEN,1992,11.71\\nBenin,BEN,1993,11.72\\nBenin,BEN,1994,11.72\\nBenin,BEN,1995,11.73\\nBenin,BEN,1996,11.74\\nBenin,BEN,1997,11.75\\nBenin,BEN,1998,11.76\\nBenin,BEN,1999,11.77\\nBenin,BEN,2000,11.78\\nBenin,BEN,2001,11.79\\nBenin,BEN,2002,11.79\\nBenin,BEN,2003,11.78\\nBenin,BEN,2004,11.78\\nBenin,BEN,2005,11.78\\nBenin,BEN,2006,11.78\\nBenin,BEN,2007,11.79\\nBenin,BEN,2008,11.8\\nBenin,BEN,2009,11.81\\nBenin,BEN,2010,11.81\\nBenin,BEN,2011,11.81\\nBenin,BEN,2012,11.82\\nBenin,BEN,2013,11.82\\nBenin,BEN,2014,11.83\\nBenin,BEN,2015,11.83\\nBenin,BEN,2016,11.83\\nBenin,BEN,2017,11.84\\nBenin,BEN,2018,11.84\\nBenin,BEN,2019,11.85\\nBermuda,BMU,1990,14.67\\nBermuda,BMU,1991,14.65\\nBermuda,BMU,1992,14.64\\nBermuda,BMU,1993,14.62\\nBermuda,BMU,1994,14.61\\nBermuda,BMU,1995,14.6\\nBermuda,BMU,1996,14.6\\nBermuda,BMU,1997,14.59\\nBermuda,BMU,1998,14.58\\nBermuda,BMU,1999,14.57\\nBermuda,BMU,2000,14.57\\nBermuda,BMU,2001,14.56\\nBermuda,BMU,2002,14.54\\nBermuda,BMU,2003,14.53\\nBermuda,BMU,2004,14.51\\nBermuda,BMU,2005,14.49\\nBermuda,BMU,2006,14.48\\nBermuda,BMU,2007,14.46\\nBermuda,BMU,2008,14.45\\nBermuda,BMU,2009,14.44\\nBermuda,BMU,2010,14.44\\nBermuda,BMU,2011,14.45\\nBermuda,BMU,2012,14.46\\nBermuda,BMU,2013,14.48\\nBermuda,BMU,2014,14.49\\nBermuda,BMU,2015,14.5\\nBermuda,BMU,2016,14.49\\nBermuda,BMU,2017,14.49\\nBermuda,BMU,2018,14.5\\nBermuda,BMU,2019,14.52\\nBhutan,BTN,1990,13.02\\nBhutan,BTN,1991,12.96\\nBhutan,BTN,1992,12.91\\nBhutan,BTN,1993,12.86\\nBhutan,BTN,1994,12.81\\nBhutan,BTN,1995,12.76\\nBhutan,BTN,1996,12.71\\nBhutan,BTN,1997,12.68\\nBhutan,BTN,1998,12.64\\nBhutan,BTN,1999,12.6\\nBhutan,BTN,2000,12.56\\nBhutan,BTN,2001,12.52\\nBhutan,BTN,2002,12.47\\nBhutan,BTN,2003,12.42\\nBhutan,BTN,2004,12.37\\nBhutan,BTN,2005,12.33\\nBhutan,BTN,2006,12.28\\nBhutan,BTN,2007,12.24\\nBhutan,BTN,2008,12.2\\nBhutan,BTN,2009,12.17\\nBhutan,BTN,2010,12.14\\nBhutan,BTN,2011,12.12\\nBhutan,BTN,2012,12.11\\nBhutan,BTN,2013,12.11\\nBhutan,BTN,2014,12.11\\nBhutan,BTN,2015,12.09\\nBhutan,BTN,2016,12.07\\nBhutan,BTN,2017,12.04\\nBhutan,BTN,2018,12.04\\nBhutan,BTN,2019,12.07\\nBolivia,BOL,1990,15.27\\nBolivia,BOL,1991,15.27\\nBolivia,BOL,1992,15.27\\nBolivia,BOL,1993,15.26\\nBolivia,BOL,1994,15.26\\nBolivia,BOL,1995,15.26\\nBolivia,BOL,1996,15.25\\nBolivia,BOL,1997,15.24\\nBolivia,BOL,1998,15.23\\nBolivia,BOL,1999,15.22\\nBolivia,BOL,2000,15.21\\nBolivia,BOL,2001,15.2\\nBolivia,BOL,2002,15.19\\nBolivia,BOL,2003,15.17\\nBolivia,BOL,2004,15.16\\nBolivia,BOL,2005,15.15\\nBolivia,BOL,2006,15.13\\nBolivia,BOL,2007,15.12\\nBolivia,BOL,2008,15.11\\nBolivia,BOL,2009,15.1\\nBolivia,BOL,2010,15.1\\nBolivia,BOL,2011,15.1\\nBolivia,BOL,2012,15.1\\nBolivia,BOL,2013,15.11\\nBolivia,BOL,2014,15.11\\nBolivia,BOL,2015,15.11\\nBolivia,BOL,2016,15.11\\nBolivia,BOL,2017,15.1\\nBolivia,BOL,2018,15.08\\nBolivia,BOL,2019,15.06\\nBosnia and Herzegovina,BIH,1990,12.53\\nBosnia and Herzegovina,BIH,1991,12.6\\nBosnia and Herzegovina,BIH,1992,12.64\\nBosnia and Herzegovina,BIH,1993,12.66\\nBosnia and Herzegovina,BIH,1994,12.66\\nBosnia and Herzegovina,BIH,1995,12.67\\nBosnia and Herzegovina,BIH,1996,12.63\\nBosnia and Herzegovina,BIH,1997,12.54\\nBosnia and Herzegovina,BIH,1998,12.43\\nBosnia and Herzegovina,BIH,1999,12.31\\nBosnia and Herzegovina,BIH,2000,12.23\\nBosnia and Herzegovina,BIH,2001,12.17\\nBosnia and Herzegovina,BIH,2002,12.11\\nBosnia and Herzegovina,BIH,2003,12.06\\nBosnia and Herzegovina,BIH,2004,12.01\\nBosnia and Herzegovina,BIH,2005,11.96\\nBosnia and Herzegovina,BIH,2006,11.89\\nBosnia and Herzegovina,BIH,2007,11.82\\nBosnia and Herzegovina,BIH,2008,11.76\\nBosnia and Herzegovina,BIH,2009,11.7\\nBosnia and Herzegovina,BIH,2010,11.66\\nBosnia and Herzegovina,BIH,2011,11.63\\nBosnia and Herzegovina,BIH,2012,11.6\\nBosnia and Herzegovina,BIH,2013,11.57\\nBosnia and Herzegovina,BIH,2014,11.55\\nBosnia and Herzegovina,BIH,2015,11.53\\nBosnia and Herzegovina,BIH,2016,11.51\\nBosnia and Herzegovina,BIH,2017,11.5\\nBosnia and Herzegovina,BIH,2018,11.5\\nBosnia and Herzegovina,BIH,2019,11.51\\nBotswana,BWA,1990,11.51\\nBotswana,BWA,1991,11.53\\nBotswana,BWA,1992,11.55\\nBotswana,BWA,1993,11.58\\nBotswana,BWA,1994,11.6\\nBotswana,BWA,1995,11.63\\nBotswana,BWA,1996,11.66\\nBotswana,BWA,1997,11.7\\nBotswana,BWA,1998,11.75\\nBotswana,BWA,1999,11.78\\nBotswana,BWA,2000,11.8\\nBotswana,BWA,2001,11.82\\nBotswana,BWA,2002,11.83\\nBotswana,BWA,2003,11.84\\nBotswana,BWA,2004,11.84\\nBotswana,BWA,2005,11.84\\nBotswana,BWA,2006,11.84\\nBotswana,BWA,2007,11.83\\nBotswana,BWA,2008,11.82\\nBotswana,BWA,2009,11.8\\nBotswana,BWA,2010,11.8\\nBotswana,BWA,2011,11.8\\nBotswana,BWA,2012,11.81\\nBotswana,BWA,2013,11.83\\nBotswana,BWA,2014,11.85\\nBotswana,BWA,2015,11.85\\nBotswana,BWA,2016,11.87\\nBotswana,BWA,2017,11.88\\nBotswana,BWA,2018,11.88\\nBotswana,BWA,2019,11.87\\nBrazil,BRA,1990,15.49\\nBrazil,BRA,1991,15.49\\nBrazil,BRA,1992,15.51\\nBrazil,BRA,1993,15.54\\nBrazil,BRA,1994,15.57\\nBrazil,BRA,1995,15.59\\nBrazil,BRA,1996,15.75\\nBrazil,BRA,1997,16.09\\nBrazil,BRA,1998,16.51\\nBrazil,BRA,1999,16.93\\nBrazil,BRA,2000,17.23\\nBrazil,BRA,2001,17.47\\nBrazil,BRA,2002,17.74\\nBrazil,BRA,2003,17.99\\nBrazil,BRA,2004,18.17\\nBrazil,BRA,2005,18.25\\nBrazil,BRA,2006,18.2\\nBrazil,BRA,2007,18.07\\nBrazil,BRA,2008,17.9\\nBrazil,BRA,2009,17.75\\nBrazil,BRA,2010,17.66\\nBrazil,BRA,2011,17.54\\nBrazil,BRA,2012,17.31\\nBrazil,BRA,2013,17.04\\nBrazil,BRA,2014,16.82\\nBrazil,BRA,2015,16.72\\nBrazil,BRA,2016,16.71\\nBrazil,BRA,2017,16.7\\nBrazil,BRA,2018,16.71\\nBrazil,BRA,2019,16.72\\nBrunei,BRN,1990,10.23\\nBrunei,BRN,1991,10.22\\nBrunei,BRN,1992,10.21\\nBrunei,BRN,1993,10.21\\nBrunei,BRN,1994,10.21\\nBrunei,BRN,1995,10.21\\nBrunei,BRN,1996,10.21\\nBrunei,BRN,1997,10.21\\nBrunei,BRN,1998,10.22\\nBrunei,BRN,1999,10.22\\nBrunei,BRN,2000,10.23\\nBrunei,BRN,2001,10.24\\nBrunei,BRN,2002,10.25\\nBrunei,BRN,2003,10.26\\nBrunei,BRN,2004,10.26\\nBrunei,BRN,2005,10.27\\nBrunei,BRN,2006,10.27\\nBrunei,BRN,2007,10.26\\nBrunei,BRN,2008,10.25\\nBrunei,BRN,2009,10.24\\nBrunei,BRN,2010,10.24\\nBrunei,BRN,2011,10.25\\nBrunei,BRN,2012,10.27\\nBrunei,BRN,2013,10.29\\nBrunei,BRN,2014,10.31\\nBrunei,BRN,2015,10.32\\nBrunei,BRN,2016,10.32\\nBrunei,BRN,2017,10.32\\nBrunei,BRN,2018,10.33\\nBrunei,BRN,2019,10.36\\nBulgaria,BGR,1990,11.53\\nBulgaria,BGR,1991,11.55\\nBulgaria,BGR,1992,11.56\\nBulgaria,BGR,1993,11.58\\nBulgaria,BGR,1994,11.59\\nBulgaria,BGR,1995,11.59\\nBulgaria,BGR,1996,11.59\\nBulgaria,BGR,1997,11.57\\nBulgaria,BGR,1998,11.55\\nBulgaria,BGR,1999,11.52\\nBulgaria,BGR,2000,11.5\\nBulgaria,BGR,2001,11.48\\nBulgaria,BGR,2002,11.46\\nBulgaria,BGR,2003,11.42\\nBulgaria,BGR,2004,11.39\\nBulgaria,BGR,2005,11.36\\nBulgaria,BGR,2006,11.33\\nBulgaria,BGR,2007,11.31\\nBulgaria,BGR,2008,11.3\\nBulgaria,BGR,2009,11.28\\nBulgaria,BGR,2010,11.26\\nBulgaria,BGR,2011,11.23\\nBulgaria,BGR,2012,11.2\\nBulgaria,BGR,2013,11.18\\nBulgaria,BGR,2014,11.16\\nBulgaria,BGR,2015,11.15\\nBulgaria,BGR,2016,11.14\\nBulgaria,BGR,2017,11.14\\nBulgaria,BGR,2018,11.14\\nBulgaria,BGR,2019,11.14\\nBurkina Faso,BFA,1990,11.78\\nBurkina Faso,BFA,1991,11.72\\nBurkina Faso,BFA,1992,11.68\\nBurkina Faso,BFA,1993,11.64\\nBurkina Faso,BFA,1994,11.61\\nBurkina Faso,BFA,1995,11.59\\nBurkina Faso,BFA,1996,11.58\\nBurkina Faso,BFA,1997,11.57\\nBurkina Faso,BFA,1998,11.57\\nBurkina Faso,BFA,1999,11.57\\nBurkina Faso,BFA,2000,11.56\\nBurkina Faso,BFA,2001,11.56\\nBurkina Faso,BFA,2002,11.58\\nBurkina Faso,BFA,2003,11.6\\nBurkina Faso,BFA,2004,11.62\\nBurkina Faso,BFA,2005,11.62\\nBurkina Faso,BFA,2006,11.63\\nBurkina Faso,BFA,2007,11.65\\nBurkina Faso,BFA,2008,11.67\\nBurkina Faso,BFA,2009,11.68\\nBurkina Faso,BFA,2010,11.69\\nBurkina Faso,BFA,2011,11.71\\nBurkina Faso,BFA,2012,11.76\\nBurkina Faso,BFA,2013,11.81\\nBurkina Faso,BFA,2014,11.85\\nBurkina Faso,BFA,2015,11.87\\nBurkina Faso,BFA,2016,11.87\\nBurkina Faso,BFA,2017,11.86\\nBurkina Faso,BFA,2018,11.79\\nBurkina Faso,BFA,2019,11.66\\nBurundi,BDI,1990,13.5\\nBurundi,BDI,1991,13.5\\nBurundi,BDI,1992,13.5\\nBurundi,BDI,1993,13.49\\nBurundi,BDI,1994,13.48\\nBurundi,BDI,1995,13.48\\nBurundi,BDI,1996,13.48\\nBurundi,BDI,1997,13.47\\nBurundi,BDI,1998,13.46\\nBurundi,BDI,1999,13.44\\nBurundi,BDI,2000,13.42\\nBurundi,BDI,2001,13.4\\nBurundi,BDI,2002,13.37\\nBurundi,BDI,2003,13.33\\nBurundi,BDI,2004,13.3\\nBurundi,BDI,2005,13.26\\nBurundi,BDI,2006,13.22\\nBurundi,BDI,2007,13.17\\nBurundi,BDI,2008,13.13\\nBurundi,BDI,2009,13.09\\nBurundi,BDI,2010,13.07\\nBurundi,BDI,2011,13.05\\nBurundi,BDI,2012,13.04\\nBurundi,BDI,2013,13.04\\nBurundi,BDI,2014,13.04\\nBurundi,BDI,2015,13.05\\nBurundi,BDI,2016,13.06\\nBurundi,BDI,2017,13.07\\nBurundi,BDI,2018,13.08\\nBurundi,BDI,2019,13.09\\nCambodia,KHM,1990,13.48\\nCambodia,KHM,1991,13.48\\nCambodia,KHM,1992,13.47\\nCambodia,KHM,1993,13.46\\nCambodia,KHM,1994,13.45\\nCambodia,KHM,1995,13.44\\nCambodia,KHM,1996,13.42\\nCambodia,KHM,1997,13.41\\nCambodia,KHM,1998,13.39\\nCambodia,KHM,1999,13.36\\nCambodia,KHM,2000,13.33\\nCambodia,KHM,2001,13.29\\nCambodia,KHM,2002,13.24\\nCambodia,KHM,2003,13.19\\nCambodia,KHM,2004,13.12\\nCambodia,KHM,2005,13.05\\nCambodia,KHM,2006,12.98\\nCambodia,KHM,2007,12.9\\nCambodia,KHM,2008,12.83\\nCambodia,KHM,2009,12.76\\nCambodia,KHM,2010,12.7\\nCambodia,KHM,2011,12.65\\nCambodia,KHM,2012,12.6\\nCambodia,KHM,2013,12.56\\nCambodia,KHM,2014,12.52\\nCambodia,KHM,2015,12.49\\nCambodia,KHM,2016,12.45\\nCambodia,KHM,2017,12.42\\nCambodia,KHM,2018,12.39\\nCambodia,KHM,2019,12.36\\nCameroon,CMR,1990,11.54\\nCameroon,CMR,1991,11.56\\nCameroon,CMR,1992,11.58\\nCameroon,CMR,1993,11.61\\nCameroon,CMR,1994,11.63\\nCameroon,CMR,1995,11.65\\nCameroon,CMR,1996,11.67\\nCameroon,CMR,1997,11.7\\nCameroon,CMR,1998,11.73\\nCameroon,CMR,1999,11.76\\nCameroon,CMR,2000,11.77\\nCameroon,CMR,2001,11.78\\nCameroon,CMR,2002,11.79\\nCameroon,CMR,2003,11.79\\nCameroon,CMR,2004,11.8\\nCameroon,CMR,2005,11.8\\nCameroon,CMR,2006,11.81\\nCameroon,CMR,2007,11.84\\nCameroon,CMR,2008,11.86\\nCameroon,CMR,2009,11.89\\nCameroon,CMR,2010,11.9\\nCameroon,CMR,2011,11.9\\nCameroon,CMR,2012,11.9\\nCameroon,CMR,2013,11.9\\nCameroon,CMR,2014,11.89\\nCameroon,CMR,2015,11.89\\nCameroon,CMR,2016,11.89\\nCameroon,CMR,2017,11.89\\nCameroon,CMR,2018,11.89\\nCameroon,CMR,2019,11.89\\nCanada,CAN,1990,14.69\\nCanada,CAN,1991,14.71\\nCanada,CAN,1992,14.73\\nCanada,CAN,1993,14.75\\nCanada,CAN,1994,14.76\\nCanada,CAN,1995,14.77\\nCanada,CAN,1996,14.68\\nCanada,CAN,1997,14.46\\nCanada,CAN,1998,14.19\\nCanada,CAN,1999,13.97\\nCanada,CAN,2000,13.87\\nCanada,CAN,2001,13.85\\nCanada,CAN,2002,13.83\\nCanada,CAN,2003,13.81\\nCanada,CAN,2004,13.78\\nCanada,CAN,2005,13.76\\nCanada,CAN,2006,13.84\\nCanada,CAN,2007,14.07\\nCanada,CAN,2008,14.36\\nCanada,CAN,2009,14.6\\nCanada,CAN,2010,14.72\\nCanada,CAN,2011,14.75\\nCanada,CAN,2012,14.81\\nCanada,CAN,2013,14.87\\nCanada,CAN,2014,14.93\\nCanada,CAN,2015,14.96\\nCanada,CAN,2016,14.95\\nCanada,CAN,2017,14.96\\nCanada,CAN,2018,14.95\\nCanada,CAN,2019,14.95\\nCape Verde,CPV,1990,11.79\\nCape Verde,CPV,1991,11.81\\nCape Verde,CPV,1992,11.83\\nCape Verde,CPV,1993,11.86\\nCape Verde,CPV,1994,11.88\\nCape Verde,CPV,1995,11.91\\nCape Verde,CPV,1996,11.94\\nCape Verde,CPV,1997,11.98\\nCape Verde,CPV,1998,12.03\\nCape Verde,CPV,1999,12.07\\nCape Verde,CPV,2000,12.11\\nCape Verde,CPV,2001,12.14\\nCape Verde,CPV,2002,12.17\\nCape Verde,CPV,2003,12.21\\nCape Verde,CPV,2004,12.23\\nCape Verde,CPV,2005,12.24\\nCape Verde,CPV,2006,12.24\\nCape Verde,CPV,2007,12.22\\nCape Verde,CPV,2008,12.2\\nCape Verde,CPV,2009,12.18\\nCape Verde,CPV,2010,12.17\\nCape Verde,CPV,2011,12.17\\nCape Verde,CPV,2012,12.16\\nCape Verde,CPV,2013,12.17\\nCape Verde,CPV,2014,12.17\\nCape Verde,CPV,2015,12.16\\nCape Verde,CPV,2016,12.16\\nCape Verde,CPV,2017,12.16\\nCape Verde,CPV,2018,12.15\\nCape Verde,CPV,2019,12.13\\nCentral African Republic,CAF,1990,14.21\\nCentral African Republic,CAF,1991,14.23\\nCentral African Republic,CAF,1992,14.25\\nCentral African Republic,CAF,1993,14.26\\nCentral African Republic,CAF,1994,14.27\\nCentral African Republic,CAF,1995,14.28\\nCentral African Republic,CAF,1996,14.29\\nCentral African Republic,CAF,1997,14.31\\nCentral African Republic,CAF,1998,14.32\\nCentral African Republic,CAF,1999,14.34\\nCentral African Republic,CAF,2000,14.35\\nCentral African Republic,CAF,2001,14.35\\nCentral African Republic,CAF,2002,14.36\\nCentral African Republic,CAF,2003,14.37\\nCentral African Republic,CAF,2004,14.37\\nCentral African Republic,CAF,2005,14.37\\nCentral African Republic,CAF,2006,14.36\\nCentral African Republic,CAF,2007,14.35\\nCentral African Republic,CAF,2008,14.34\\nCentral African Republic,CAF,2009,14.33\\nCentral African Republic,CAF,2010,14.34\\nCentral African Republic,CAF,2011,14.36\\nCentral African Republic,CAF,2012,14.4\\nCentral African Republic,CAF,2013,14.45\\nCentral African Republic,CAF,2014,14.5\\nCentral African Republic,CAF,2015,14.54\\nCentral African Republic,CAF,2016,14.58\\nCentral African Republic,CAF,2017,14.61\\nCentral African Republic,CAF,2018,14.64\\nCentral African Republic,CAF,2019,14.65\\nChad,TCD,1990,12.57\\nChad,TCD,1991,12.56\\nChad,TCD,1992,12.55\\nChad,TCD,1993,12.55\\nChad,TCD,1994,12.55\\nChad,TCD,1995,12.56\\nChad,TCD,1996,12.6\\nChad,TCD,1997,12.67\\nChad,TCD,1998,12.76\\nChad,TCD,1999,12.84\\nChad,TCD,2000,12.88\\nChad,TCD,2001,12.89\\nChad,TCD,2002,12.89\\nChad,TCD,2003,12.88\\nChad,TCD,2004,12.88\\nChad,TCD,2005,12.86\\nChad,TCD,2006,12.84\\nChad,TCD,2007,12.82\\nChad,TCD,2008,12.79\\nChad,TCD,2009,12.77\\nChad,TCD,2010,12.75\\nChad,TCD,2011,12.73\\nChad,TCD,2012,12.7\\nChad,TCD,2013,12.66\\nChad,TCD,2014,12.64\\nChad,TCD,2015,12.62\\nChad,TCD,2016,12.62\\nChad,TCD,2017,12.62\\nChad,TCD,2018,12.63\\nChad,TCD,2019,12.65\\nChile,CHL,1990,15.83\\nChile,CHL,1991,15.83\\nChile,CHL,1992,15.83\\nChile,CHL,1993,15.81\\nChile,CHL,1994,15.79\\nChile,CHL,1995,15.76\\nChile,CHL,1996,15.72\\nChile,CHL,1997,15.64\\nChile,CHL,1998,15.56\\nChile,CHL,1999,15.49\\nChile,CHL,2000,15.46\\nChile,CHL,2001,15.47\\nChile,CHL,2002,15.53\\nChile,CHL,2003,15.6\\nChile,CHL,2004,15.66\\nChile,CHL,2005,15.68\\nChile,CHL,2006,15.66\\nChile,CHL,2007,15.6\\nChile,CHL,2008,15.53\\nChile,CHL,2009,15.47\\nChile,CHL,2010,15.45\\nChile,CHL,2011,15.44\\nChile,CHL,2012,15.42\\nChile,CHL,2013,15.39\\nChile,CHL,2014,15.37\\nChile,CHL,2015,15.36\\nChile,CHL,2016,15.35\\nChile,CHL,2017,15.33\\nChile,CHL,2018,15.29\\nChile,CHL,2019,15.2\\nChina,CHN,1990,11.64\\nChina,CHN,1991,11.77\\nChina,CHN,1992,11.89\\nChina,CHN,1993,11.97\\nChina,CHN,1994,12.03\\nChina,CHN,1995,12.05\\nChina,CHN,1996,12.04\\nChina,CHN,1997,12.03\\nChina,CHN,1998,12\\nChina,CHN,1999,11.97\\nChina,CHN,2000,11.93\\nChina,CHN,2001,11.88\\nChina,CHN,2002,11.8\\nChina,CHN,2003,11.72\\nChina,CHN,2004,11.65\\nChina,CHN,2005,11.61\\nChina,CHN,2006,11.58\\nChina,CHN,2007,11.55\\nChina,CHN,2008,11.52\\nChina,CHN,2009,11.5\\nChina,CHN,2010,11.48\\nChina,CHN,2011,11.44\\nChina,CHN,2012,11.39\\nChina,CHN,2013,11.33\\nChina,CHN,2014,11.29\\nChina,CHN,2015,11.28\\nChina,CHN,2016,11.33\\nChina,CHN,2017,11.39\\nChina,CHN,2018,11.37\\nChina,CHN,2019,11.31\\nColombia,COL,1990,11.99\\nColombia,COL,1991,11.99\\nColombia,COL,1992,11.99\\nColombia,COL,1993,12\\nColombia,COL,1994,12.02\\nColombia,COL,1995,12.04\\nColombia,COL,1996,12.12\\nColombia,COL,1997,12.29\\nColombia,COL,1998,12.49\\nColombia,COL,1999,12.67\\nColombia,COL,2000,12.75\\nColombia,COL,2001,12.77\\nColombia,COL,2002,12.8\\nColombia,COL,2003,12.82\\nColombia,COL,2004,12.84\\nColombia,COL,2005,12.84\\nColombia,COL,2006,12.69\\nColombia,COL,2007,12.34\\nColombia,COL,2008,11.92\\nColombia,COL,2009,11.56\\nColombia,COL,2010,11.39\\nColombia,COL,2011,11.37\\nColombia,COL,2012,11.36\\nColombia,COL,2013,11.34\\nColombia,COL,2014,11.33\\nColombia,COL,2015,11.34\\nColombia,COL,2016,11.67\\nColombia,COL,2017,12\\nColombia,COL,2018,12.03\\nColombia,COL,2019,12.05\\nComoros,COM,2018,12.21\\nComoros,COM,2019,12.23\\nCongo,COG,1990,13.3\\nCongo,COG,1991,13.29\\nCongo,COG,1992,13.3\\nCongo,COG,1993,13.3\\nCongo,COG,1994,13.3\\nCongo,COG,1995,13.31\\nCongo,COG,1996,13.32\\nCongo,COG,1997,13.35\\nCongo,COG,1998,13.39\\nCongo,COG,1999,13.42\\nCongo,COG,2000,13.42\\nCongo,COG,2001,13.41\\nCongo,COG,2002,13.38\\nCongo,COG,2003,13.36\\nCongo,COG,2004,13.33\\nCongo,COG,2005,13.31\\nCongo,COG,2006,13.29\\nCongo,COG,2007,13.26\\nCongo,COG,2008,13.23\\nCongo,COG,2009,13.2\\nCongo,COG,2010,13.18\\nCongo,COG,2011,13.15\\nCongo,COG,2012,13.1\\nCongo,COG,2013,13.07\\nCongo,COG,2014,13.04\\nCongo,COG,2015,13.02\\nCongo,COG,2016,13.02\\nCongo,COG,2017,13.02\\nCongo,COG,2018,13.03\\nCongo,COG,2019,13.04\\nCook Islands,COK,1990,11.6\\nCook Islands,COK,1991,11.6\\nCook Islands,COK,1992,11.6\\nCook Islands,COK,1993,11.6\\nCook Islands,COK,1994,11.61\\nCook Islands,COK,1995,11.61\\nCook Islands,COK,1996,11.6\\nCook Islands,COK,1997,11.61\\nCook Islands,COK,1998,11.61\\nCook Islands,COK,1999,11.61\\nCook Islands,COK,2000,11.6\\nCook Islands,COK,2001,11.6\\nCook Islands,COK,2002,11.59\\nCook Islands,COK,2003,11.58\\nCook Islands,COK,2004,11.58\\nCook Islands,COK,2005,11.58\\nCook Islands,COK,2006,11.58\\nCook Islands,COK,2007,11.6\\nCook Islands,COK,2008,11.62\\nCook Islands,COK,2009,11.63\\nCook Islands,COK,2010,11.63\\nCook Islands,COK,2011,11.64\\nCook Islands,COK,2012,11.64\\nCook Islands,COK,2013,11.64\\nCook Islands,COK,2014,11.64\\nCook Islands,COK,2015,11.64\\nCook Islands,COK,2016,11.63\\nCook Islands,COK,2017,11.62\\nCook Islands,COK,2018,11.63\\nCook Islands,COK,2019,11.65\\nCosta Rica,CRI,1990,12.55\\nCosta Rica,CRI,1991,12.55\\nCosta Rica,CRI,1992,12.55\\nCosta Rica,CRI,1993,12.56\\nCosta Rica,CRI,1994,12.56\\nCosta Rica,CRI,1995,12.57\\nCosta Rica,CRI,1996,12.58\\nCosta Rica,CRI,1997,12.6\\nCosta Rica,CRI,1998,12.62\\nCosta Rica,CRI,1999,12.64\\nCosta Rica,CRI,2000,12.66\\nCosta Rica,CRI,2001,12.68\\nCosta Rica,CRI,2002,12.7\\nCosta Rica,CRI,2003,12.73\\nCosta Rica,CRI,2004,12.75\\nCosta Rica,CRI,2005,12.77\\nCosta Rica,CRI,2006,12.79\\nCosta Rica,CRI,2007,12.81\\nCosta Rica,CRI,2008,12.83\\nCosta Rica,CRI,2009,12.85\\nCosta Rica,CRI,2010,12.86\\nCosta Rica,CRI,2011,12.88\\nCosta Rica,CRI,2012,12.91\\nCosta Rica,CRI,2013,12.94\\nCosta Rica,CRI,2014,12.97\\nCosta Rica,CRI,2015,12.98\\nCosta Rica,CRI,2016,13\\nCosta Rica,CRI,2017,13\\nCosta Rica,CRI,2018,13.01\\nCosta Rica,CRI,2019,13.01\\nCote d'Ivoire,CIV,1990,11.01\\nCote d'Ivoire,CIV,1991,11.02\\nCote d'Ivoire,CIV,1992,11.03\\nCote d'Ivoire,CIV,1993,11.04\\nCote d'Ivoire,CIV,1994,11.05\\nCote d'Ivoire,CIV,1995,11.05\\nCote d'Ivoire,CIV,1996,11.06\\nCote d'Ivoire,CIV,1997,11.06\\nCote d'Ivoire,CIV,1998,11.06\\nCote d'Ivoire,CIV,1999,11.06\\nCote d'Ivoire,CIV,2000,11.06\\nCote d'Ivoire,CIV,2001,11.07\\nCote d'Ivoire,CIV,2002,11.07\\nCote d'Ivoire,CIV,2003,11.07\\nCote d'Ivoire,CIV,2004,11.07\\nCote d'Ivoire,CIV,2005,11.07\\nCote d'Ivoire,CIV,2006,11.07\\nCote d'Ivoire,CIV,2007,11.07\\nCote d'Ivoire,CIV,2008,11.07\\nCote d'Ivoire,CIV,2009,11.08\\nCote d'Ivoire,CIV,2010,11.09\\nCote d'Ivoire,CIV,2011,11.1\\nCote d'Ivoire,CIV,2012,11.13\\nCote d'Ivoire,CIV,2013,11.16\\nCote d'Ivoire,CIV,2014,11.18\\nCote d'Ivoire,CIV,2015,11.19\\nCote d'Ivoire,CIV,2016,11.19\\nCote d'Ivoire,CIV,2017,11.18\\nCote d'Ivoire,CIV,2018,11.18\\nCote d'Ivoire,CIV,2019,11.19\\nCroatia,HRV,1990,12.06\\nCroatia,HRV,1991,12.07\\nCroatia,HRV,1992,12.07\\nCroatia,HRV,1993,12.07\\nCroatia,HRV,1994,12.06\\nCroatia,HRV,1995,12.05\\nCroatia,HRV,1996,12.04\\nCroatia,HRV,1997,12.02\\nCroatia,HRV,1998,12\\nCroatia,HRV,1999,11.97\\nCroatia,HRV,2000,11.95\\nCroatia,HRV,2001,11.91\\nCroatia,HRV,2002,11.87\\nCroatia,HRV,2003,11.82\\nCroatia,HRV,2004,11.77\\nCroatia,HRV,2005,11.74\\nCroatia,HRV,2006,11.71\\nCroatia,HRV,2007,11.68\\nCroatia,HRV,2008,11.66\\nCroatia,HRV,2009,11.64\\nCroatia,HRV,2010,11.62\\nCroatia,HRV,2011,11.62\\nCroatia,HRV,2012,11.62\\nCroatia,HRV,2013,11.63\\nCroatia,HRV,2014,11.63\\nCroatia,HRV,2015,11.64\\nCroatia,HRV,2016,11.66\\nCroatia,HRV,2017,11.69\\nCroatia,HRV,2018,11.69\\nCroatia,HRV,2019,11.69\\nCuba,CUB,1990,15.95\\nCuba,CUB,1991,15.94\\nCuba,CUB,1992,15.93\\nCuba,CUB,1993,15.91\\nCuba,CUB,1994,15.89\\nCuba,CUB,1995,15.87\\nCuba,CUB,1996,15.84\\nCuba,CUB,1997,15.81\\nCuba,CUB,1998,15.77\\nCuba,CUB,1999,15.72\\nCuba,CUB,2000,15.67\\nCuba,CUB,2001,15.61\\nCuba,CUB,2002,15.54\\nCuba,CUB,2003,15.47\\nCuba,CUB,2004,15.4\\nCuba,CUB,2005,15.34\\nCuba,CUB,2006,15.28\\nCuba,CUB,2007,15.22\\nCuba,CUB,2008,15.16\\nCuba,CUB,2009,15.11\\nCuba,CUB,2010,15.1\\nCuba,CUB,2011,15.09\\nCuba,CUB,2012,15.1\\nCuba,CUB,2013,15.11\\nCuba,CUB,2014,15.12\\nCuba,CUB,2015,15.11\\nCuba,CUB,2016,15.1\\nCuba,CUB,2017,15.09\\nCuba,CUB,2018,15.11\\nCuba,CUB,2019,15.15\\nCyprus,CYP,1990,15.56\\nCyprus,CYP,1991,15.54\\nCyprus,CYP,1992,15.53\\nCyprus,CYP,1993,15.52\\nCyprus,CYP,1994,15.52\\nCyprus,CYP,1995,15.52\\nCyprus,CYP,1996,15.53\\nCyprus,CYP,1997,15.56\\nCyprus,CYP,1998,15.59\\nCyprus,CYP,1999,15.62\\nCyprus,CYP,2000,15.63\\nCyprus,CYP,2001,15.64\\nCyprus,CYP,2002,15.65\\nCyprus,CYP,2003,15.66\\nCyprus,CYP,2004,15.67\\nCyprus,CYP,2005,15.68\\nCyprus,CYP,2006,15.67\\nCyprus,CYP,2007,15.64\\nCyprus,CYP,2008,15.61\\nCyprus,CYP,2009,15.58\\nCyprus,CYP,2010,15.57\\nCyprus,CYP,2011,15.58\\nCyprus,CYP,2012,15.6\\nCyprus,CYP,2013,15.63\\nCyprus,CYP,2014,15.64\\nCyprus,CYP,2015,15.66\\nCyprus,CYP,2016,15.64\\nCyprus,CYP,2017,15.62\\nCyprus,CYP,2018,15.64\\nCyprus,CYP,2019,15.7\\nCzechia,CZE,1990,11.57\\nCzechia,CZE,1991,11.59\\nCzechia,CZE,1992,11.6\\nCzechia,CZE,1993,11.6\\nCzechia,CZE,1994,11.6\\nCzechia,CZE,1995,11.59\\nCzechia,CZE,1996,11.58\\nCzechia,CZE,1997,11.54\\nCzechia,CZE,1998,11.5\\nCzechia,CZE,1999,11.46\\nCzechia,CZE,2000,11.43\\nCzechia,CZE,2001,11.4\\nCzechia,CZE,2002,11.38\\nCzechia,CZE,2003,11.36\\nCzechia,CZE,2004,11.34\\nCzechia,CZE,2005,11.33\\nCzechia,CZE,2006,11.31\\nCzechia,CZE,2007,11.29\\nCzechia,CZE,2008,11.27\\nCzechia,CZE,2009,11.25\\nCzechia,CZE,2010,11.24\\nCzechia,CZE,2011,11.22\\nCzechia,CZE,2012,11.21\\nCzechia,CZE,2013,11.2\\nCzechia,CZE,2014,11.19\\nCzechia,CZE,2015,11.18\\nCzechia,CZE,2016,11.17\\nCzechia,CZE,2017,11.15\\nCzechia,CZE,2018,11.14\\nCzechia,CZE,2019,11.14\\nDemocratic Republic of Congo,COD,1990,13.43\\nDemocratic Republic of Congo,COD,1991,13.45\\nDemocratic Republic of Congo,COD,1992,13.47\\nDemocratic Republic of Congo,COD,1993,13.5\\nDemocratic Republic of Congo,COD,1994,13.53\\nDemocratic Republic of Congo,COD,1995,13.57\\nDemocratic Republic of Congo,COD,1996,13.62\\nDemocratic Republic of Congo,COD,1997,13.67\\nDemocratic Republic of Congo,COD,1998,13.72\\nDemocratic Republic of Congo,COD,1999,13.77\\nDemocratic Republic of Congo,COD,2000,13.81\\nDemocratic Republic of Congo,COD,2001,13.83\\nDemocratic Republic of Congo,COD,2002,13.86\\nDemocratic Republic of Congo,COD,2003,13.88\\nDemocratic Republic of Congo,COD,2004,13.9\\nDemocratic Republic of Congo,COD,2005,13.9\\nDemocratic Republic of Congo,COD,2006,13.89\\nDemocratic Republic of Congo,COD,2007,13.89\\nDemocratic Republic of Congo,COD,2008,13.87\\nDemocratic Republic of Congo,COD,2009,13.87\\nDemocratic Republic of Congo,COD,2010,13.86\\nDemocratic Republic of Congo,COD,2011,13.85\\nDemocratic Republic of Congo,COD,2012,13.82\\nDemocratic Republic of Congo,COD,2013,13.78\\nDemocratic Republic of Congo,COD,2014,13.74\\nDemocratic Republic of Congo,COD,2015,13.71\\nDemocratic Republic of Congo,COD,2016,13.67\\nDemocratic Republic of Congo,COD,2017,13.64\\nDemocratic Republic of Congo,COD,2018,13.63\\nDemocratic Republic of Congo,COD,2019,13.64\\nDenmark,DNK,1990,14.84\\nDenmark,DNK,1991,14.82\\nDenmark,DNK,1992,14.78\\nDenmark,DNK,1993,14.75\\nDenmark,DNK,1994,14.7\\nDenmark,DNK,1995,14.66\\nDenmark,DNK,1996,14.61\\nDenmark,DNK,1997,14.53\\nDenmark,DNK,1998,14.46\\nDenmark,DNK,1999,14.37\\nDenmark,DNK,2000,14.31\\nDenmark,DNK,2001,14.27\\nDenmark,DNK,2002,14.22\\nDenmark,DNK,2003,14.17\\nDenmark,DNK,2004,14.14\\nDenmark,DNK,2005,14.11\\nDenmark,DNK,2006,14.1\\nDenmark,DNK,2007,14.11\\nDenmark,DNK,2008,14.13\\nDenmark,DNK,2009,14.15\\nDenmark,DNK,2010,14.16\\nDenmark,DNK,2011,14.17\\nDenmark,DNK,2012,14.18\\nDenmark,DNK,2013,14.2\\nDenmark,DNK,2014,14.21\\nDenmark,DNK,2015,14.22\\nDenmark,DNK,2016,14.21\\nDenmark,DNK,2017,14.19\\nDenmark,DNK,2018,14.16\\nDenmark,DNK,2019,14.1\\nDjibouti,DJI,1990,11.83\\nDjibouti,DJI,1991,11.85\\nDjibouti,DJI,1992,11.85\\nDjibouti,DJI,1993,11.86\\nDjibouti,DJI,1994,11.87\\nDjibouti,DJI,1995,11.89\\nDjibouti,DJI,1996,11.9\\nDjibouti,DJI,1997,11.92\\nDjibouti,DJI,1998,11.94\\nDjibouti,DJI,1999,11.96\\nDjibouti,DJI,2000,11.97\\nDjibouti,DJI,2001,11.99\\nDjibouti,DJI,2002,12\\nDjibouti,DJI,2003,12.01\\nDjibouti,DJI,2004,12.03\\nDjibouti,DJI,2005,12.03\\nDjibouti,DJI,2006,12.04\\nDjibouti,DJI,2007,12.03\\nDjibouti,DJI,2008,12.03\\nDjibouti,DJI,2009,12.02\\nDjibouti,DJI,2010,12.01\\nDjibouti,DJI,2011,12.01\\nDjibouti,DJI,2012,12.02\\nDjibouti,DJI,2013,12.02\\nDjibouti,DJI,2014,12.02\\nDjibouti,DJI,2015,12.02\\nDjibouti,DJI,2016,12.03\\nDjibouti,DJI,2017,12.04\\nDjibouti,DJI,2018,12.04\\nDjibouti,DJI,2019,12.04\\nDominica,DMA,1990,14.22\\nDominica,DMA,1991,14.18\\nDominica,DMA,1992,14.15\\nDominica,DMA,1993,14.12\\nDominica,DMA,1994,14.09\\nDominica,DMA,1995,14.08\\nDominica,DMA,1996,14.08\\nDominica,DMA,1997,14.08\\nDominica,DMA,1998,14.08\\nDominica,DMA,1999,14.08\\nDominica,DMA,2000,14.08\\nDominica,DMA,2001,14.08\\nDominica,DMA,2002,14.08\\nDominica,DMA,2003,14.08\\nDominica,DMA,2004,14.07\\nDominica,DMA,2005,14.07\\nDominica,DMA,2006,14.07\\nDominica,DMA,2007,14.06\\nDominica,DMA,2008,14.06\\nDominica,DMA,2009,14.06\\nDominica,DMA,2010,14.06\\nDominica,DMA,2011,14.08\\nDominica,DMA,2012,14.11\\nDominica,DMA,2013,14.14\\nDominica,DMA,2014,14.18\\nDominica,DMA,2015,14.19\\nDominica,DMA,2016,14.19\\nDominica,DMA,2017,14.19\\nDominica,DMA,2018,14.22\\nDominica,DMA,2019,14.28\\nDominican Republic,DOM,1990,14.85\\nDominican Republic,DOM,1991,14.85\\nDominican Republic,DOM,1992,14.86\\nDominican Republic,DOM,1993,14.86\\nDominican Republic,DOM,1994,14.86\\nDominican Republic,DOM,1995,14.87\\nDominican Republic,DOM,1996,14.88\\nDominican Republic,DOM,1997,14.91\\nDominican Republic,DOM,1998,14.95\\nDominican Republic,DOM,1999,14.97\\nDominican Republic,DOM,2000,14.98\\nDominican Republic,DOM,2001,14.99\\nDominican Republic,DOM,2002,15\\nDominican Republic,DOM,2003,15.02\\nDominican Republic,DOM,2004,15.03\\nDominican Republic,DOM,2005,15.04\\nDominican Republic,DOM,2006,15.04\\nDominican Republic,DOM,2007,15.04\\nDominican Republic,DOM,2008,15.05\\nDominican Republic,DOM,2009,15.05\\nDominican Republic,DOM,2010,15.05\\nDominican Republic,DOM,2011,15.04\\nDominican Republic,DOM,2012,15.03\\nDominican Republic,DOM,2013,15.01\\nDominican Republic,DOM,2014,15\\nDominican Republic,DOM,2015,15\\nDominican Republic,DOM,2016,15\\nDominican Republic,DOM,2017,14.99\\nDominican Republic,DOM,2018,15.01\\nDominican Republic,DOM,2019,15.04\\nEast Asia & Pacific (WB),,1990,11.52\\nEast Asia & Pacific (WB),,1991,11.59\\nEast Asia & Pacific (WB),,1992,11.64\\nEast Asia & Pacific (WB),,1993,11.69\\nEast Asia & Pacific (WB),,1994,11.71\\nEast Asia & Pacific (WB),,1995,11.72\\nEast Asia & Pacific (WB),,1996,11.71\\nEast Asia & Pacific (WB),,1997,11.7\\nEast Asia & Pacific (WB),,1998,11.68\\nEast Asia & Pacific (WB),,1999,11.66\\nEast Asia & Pacific (WB),,2000,11.63\\nEast Asia & Pacific (WB),,2001,11.59\\nEast Asia & Pacific (WB),,2002,11.55\\nEast Asia & Pacific (WB),,2003,11.49\\nEast Asia & Pacific (WB),,2004,11.45\\nEast Asia & Pacific (WB),,2005,11.41\\nEast Asia & Pacific (WB),,2006,11.38\\nEast Asia & Pacific (WB),,2007,11.35\\nEast Asia & Pacific (WB),,2008,11.31\\nEast Asia & Pacific (WB),,2009,11.28\\nEast Asia & Pacific (WB),,2010,11.25\\nEast Asia & Pacific (WB),,2011,11.22\\nEast Asia & Pacific (WB),,2012,11.19\\nEast Asia & Pacific (WB),,2013,11.16\\nEast Asia & Pacific (WB),,2014,11.13\\nEast Asia & Pacific (WB),,2015,11.12\\nEast Asia & Pacific (WB),,2016,11.15\\nEast Asia & Pacific (WB),,2017,11.18\\nEast Asia & Pacific (WB),,2018,11.17\\nEast Asia & Pacific (WB),,2019,11.15\\nEastern Mediterranean Region (WHO),,1990,15.06\\nEastern Mediterranean Region (WHO),,1991,15.05\\nEastern Mediterranean Region (WHO),,1992,15.04\\nEastern Mediterranean Region (WHO),,1993,15.03\\nEastern Mediterranean Region (WHO),,1994,15.03\\nEastern Mediterranean Region (WHO),,1995,15.03\\nEastern Mediterranean Region (WHO),,1996,15.02\\nEastern Mediterranean Region (WHO),,1997,15.01\\nEastern Mediterranean Region (WHO),,1998,15\\nEastern Mediterranean Region (WHO),,1999,14.99\\nEastern Mediterranean Region (WHO),,2000,14.97\\nEastern Mediterranean Region (WHO),,2001,14.97\\nEastern Mediterranean Region (WHO),,2002,14.96\\nEastern Mediterranean Region (WHO),,2003,14.95\\nEastern Mediterranean Region (WHO),,2004,14.94\\nEastern Mediterranean Region (WHO),,2005,14.93\\nEastern Mediterranean Region (WHO),,2006,14.93\\nEastern Mediterranean Region (WHO),,2007,14.93\\nEastern Mediterranean Region (WHO),,2008,14.94\\nEastern Mediterranean Region (WHO),,2009,14.95\\nEastern Mediterranean Region (WHO),,2010,14.95\\nEastern Mediterranean Region (WHO),,2011,14.95\\nEastern Mediterranean Region (WHO),,2012,14.97\\nEastern Mediterranean Region (WHO),,2013,14.99\\nEastern Mediterranean Region (WHO),,2014,15\\nEastern Mediterranean Region (WHO),,2015,15\\nEastern Mediterranean Region (WHO),,2016,14.96\\nEastern Mediterranean Region (WHO),,2017,14.93\\nEastern Mediterranean Region (WHO),,2018,14.94\\nEastern Mediterranean Region (WHO),,2019,14.96\\nEcuador,ECU,1990,14.24\\nEcuador,ECU,1991,14.21\\nEcuador,ECU,1992,14.18\\nEcuador,ECU,1993,14.16\\nEcuador,ECU,1994,14.16\\nEcuador,ECU,1995,14.15\\nEcuador,ECU,1996,14.17\\nEcuador,ECU,1997,14.18\\nEcuador,ECU,1998,14.2\\nEcuador,ECU,1999,14.22\\nEcuador,ECU,2000,14.23\\nEcuador,ECU,2001,14.25\\nEcuador,ECU,2002,14.3\\nEcuador,ECU,2003,14.36\\nEcuador,ECU,2004,14.42\\nEcuador,ECU,2005,14.46\\nEcuador,ECU,2006,14.47\\nEcuador,ECU,2007,14.48\\nEcuador,ECU,2008,14.5\\nEcuador,ECU,2009,14.51\\nEcuador,ECU,2010,14.51\\nEcuador,ECU,2011,14.54\\nEcuador,ECU,2012,14.56\\nEcuador,ECU,2013,14.59\\nEcuador,ECU,2014,14.61\\nEcuador,ECU,2015,14.62\\nEcuador,ECU,2016,14.62\\nEcuador,ECU,2017,14.62\\nEcuador,ECU,2018,14.61\\nEcuador,ECU,2019,14.59\\nEgypt,EGY,1990,14.88\\nEgypt,EGY,1991,14.89\\nEgypt,EGY,1992,14.89\\nEgypt,EGY,1993,14.88\\nEgypt,EGY,1994,14.87\\nEgypt,EGY,1995,14.85\\nEgypt,EGY,1996,14.76\\nEgypt,EGY,1997,14.59\\nEgypt,EGY,1998,14.4\\nEgypt,EGY,1999,14.24\\nEgypt,EGY,2000,14.15\\nEgypt,EGY,2001,14.13\\nEgypt,EGY,2002,14.11\\nEgypt,EGY,2003,14.09\\nEgypt,EGY,2004,14.07\\nEgypt,EGY,2005,14.05\\nEgypt,EGY,2006,14.07\\nEgypt,EGY,2007,14.16\\nEgypt,EGY,2008,14.27\\nEgypt,EGY,2009,14.37\\nEgypt,EGY,2010,14.41\\nEgypt,EGY,2011,14.43\\nEgypt,EGY,2012,14.48\\nEgypt,EGY,2013,14.53\\nEgypt,EGY,2014,14.57\\nEgypt,EGY,2015,14.58\\nEgypt,EGY,2016,14.56\\nEgypt,EGY,2017,14.55\\nEgypt,EGY,2018,14.55\\nEgypt,EGY,2019,14.58\\nEl Salvador,SLV,1990,13.24\\nEl Salvador,SLV,1991,13.24\\nEl Salvador,SLV,1992,13.25\\nEl Salvador,SLV,1993,13.24\\nEl Salvador,SLV,1994,13.24\\nEl Salvador,SLV,1995,13.24\\nEl Salvador,SLV,1996,13.23\\nEl Salvador,SLV,1997,13.22\\nEl Salvador,SLV,1998,13.21\\nEl Salvador,SLV,1999,13.2\\nEl Salvador,SLV,2000,13.2\\nEl Salvador,SLV,2001,13.2\\nEl Salvador,SLV,2002,13.2\\nEl Salvador,SLV,2003,13.21\\nEl Salvador,SLV,2004,13.21\\nEl Salvador,SLV,2005,13.21\\nEl Salvador,SLV,2006,13.21\\nEl Salvador,SLV,2007,13.22\\nEl Salvador,SLV,2008,13.22\\nEl Salvador,SLV,2009,13.22\\nEl Salvador,SLV,2010,13.23\\nEl Salvador,SLV,2011,13.23\\nEl Salvador,SLV,2012,13.23\\nEl Salvador,SLV,2013,13.24\\nEl Salvador,SLV,2014,13.25\\nEl Salvador,SLV,2015,13.25\\nEl Salvador,SLV,2016,13.26\\nEl Salvador,SLV,2017,13.26\\nEl Salvador,SLV,2018,13.26\\nEl Salvador,SLV,2019,13.24\\nEngland,,1990,15.11\\nEngland,,1991,15.07\\nEngland,,1992,15.04\\nEngland,,1993,15.02\\nEngland,,1994,14.99\\nEngland,,1995,14.98\\nEngland,,1996,14.97\\nEngland,,1997,14.96\\nEngland,,1998,14.94\\nEngland,,1999,14.92\\nEngland,,2000,14.9\\nEngland,,2001,14.87\\nEngland,,2002,14.81\\nEngland,,2003,14.75\\nEngland,,2004,14.69\\nEngland,,2005,14.66\\nEngland,,2006,14.69\\nEngland,,2007,14.76\\nEngland,,2008,14.86\\nEngland,,2009,14.94\\nEngland,,2010,15\\nEngland,,2011,15.06\\nEngland,,2012,15.16\\nEngland,,2013,15.27\\nEngland,,2014,15.36\\nEngland,,2015,15.4\\nEngland,,2016,15.33\\nEngland,,2017,15.25\\nEngland,,2018,15.24\\nEngland,,2019,15.22\\nEquatorial Guinea,GNQ,1990,13.89\\nEquatorial Guinea,GNQ,1991,13.88\\nEquatorial Guinea,GNQ,1992,13.87\\nEquatorial Guinea,GNQ,1993,13.85\\nEquatorial Guinea,GNQ,1994,13.83\\nEquatorial Guinea,GNQ,1995,13.82\\nEquatorial Guinea,GNQ,1996,13.76\\nEquatorial Guinea,GNQ,1997,13.66\\nEquatorial Guinea,GNQ,1998,13.54\\nEquatorial Guinea,GNQ,1999,13.42\\nEquatorial Guinea,GNQ,2000,13.34\\nEquatorial Guinea,GNQ,2001,13.29\\nEquatorial Guinea,GNQ,2002,13.23\\nEquatorial Guinea,GNQ,2003,13.18\\nEquatorial Guinea,GNQ,2004,13.15\\nEquatorial Guinea,GNQ,2005,13.13\\nEquatorial Guinea,GNQ,2006,13.13\\nEquatorial Guinea,GNQ,2007,13.13\\nEquatorial Guinea,GNQ,2008,13.15\\nEquatorial Guinea,GNQ,2009,13.16\\nEquatorial Guinea,GNQ,2010,13.17\\nEquatorial Guinea,GNQ,2011,13.17\\nEquatorial Guinea,GNQ,2012,13.18\\nEquatorial Guinea,GNQ,2013,13.19\\nEquatorial Guinea,GNQ,2014,13.19\\nEquatorial Guinea,GNQ,2015,13.19\\nEquatorial Guinea,GNQ,2016,13.19\\nEquatorial Guinea,GNQ,2017,13.18\\nEquatorial Guinea,GNQ,2018,13.19\\nEquatorial Guinea,GNQ,2019,13.21\\nEritrea,ERI,1990,13.31\\nEritrea,ERI,1991,13.26\\nEritrea,ERI,1992,13.21\\nEritrea,ERI,1993,13.16\\nEritrea,ERI,1994,13.11\\nEritrea,ERI,1995,13.07\\nEritrea,ERI,1996,13.02\\nEritrea,ERI,1997,12.97\\nEritrea,ERI,1998,12.92\\nEritrea,ERI,1999,12.88\\nEritrea,ERI,2000,12.86\\nEritrea,ERI,2001,12.86\\nEritrea,ERI,2002,12.86\\nEritrea,ERI,2003,12.85\\nEritrea,ERI,2004,12.84\\nEritrea,ERI,2005,12.84\\nEritrea,ERI,2006,12.84\\nEritrea,ERI,2007,12.84\\nEritrea,ERI,2008,12.85\\nEritrea,ERI,2009,12.85\\nEritrea,ERI,2010,12.85\\nEritrea,ERI,2011,12.86\\nEritrea,ERI,2012,12.87\\nEritrea,ERI,2013,12.87\\nEritrea,ERI,2014,12.88\\nEritrea,ERI,2015,12.89\\nEritrea,ERI,2016,12.9\\nEritrea,ERI,2017,12.92\\nEritrea,ERI,2018,12.92\\nEritrea,ERI,2019,12.92\\nEstonia,EST,1990,13.19\\nEstonia,EST,1991,13.19\\nEstonia,EST,1992,13.18\\nEstonia,EST,1993,13.18\\nEstonia,EST,1994,13.18\\nEstonia,EST,1995,13.18\\nEstonia,EST,1996,13.18\\nEstonia,EST,1997,13.19\\nEstonia,EST,1998,13.2\\nEstonia,EST,1999,13.19\\nEstonia,EST,2000,13.17\\nEstonia,EST,2001,13.12\\nEstonia,EST,2002,13.03\\nEstonia,EST,2003,12.93\\nEstonia,EST,2004,12.82\\nEstonia,EST,2005,12.73\\nEstonia,EST,2006,12.65\\nEstonia,EST,2007,12.58\\nEstonia,EST,2008,12.5\\nEstonia,EST,2009,12.44\\nEstonia,EST,2010,12.39\\nEstonia,EST,2011,12.34\\nEstonia,EST,2012,12.3\\nEstonia,EST,2013,12.27\\nEstonia,EST,2014,12.24\\nEstonia,EST,2015,12.22\\nEstonia,EST,2016,12.2\\nEstonia,EST,2017,12.18\\nEstonia,EST,2018,12.18\\nEstonia,EST,2019,12.19\\nEswatini,SWZ,1990,11.49\\nEswatini,SWZ,1991,11.5\\nEswatini,SWZ,1992,11.51\\nEswatini,SWZ,1993,11.52\\nEswatini,SWZ,1994,11.52\\nEswatini,SWZ,1995,11.53\\nEswatini,SWZ,1996,11.55\\nEswatini,SWZ,1997,11.58\\nEswatini,SWZ,1998,11.62\\nEswatini,SWZ,1999,11.66\\nEswatini,SWZ,2000,11.69\\nEswatini,SWZ,2001,11.71\\nEswatini,SWZ,2002,11.74\\nEswatini,SWZ,2003,11.76\\nEswatini,SWZ,2004,11.78\\nEswatini,SWZ,2005,11.8\\nEswatini,SWZ,2006,11.81\\nEswatini,SWZ,2007,11.82\\nEswatini,SWZ,2008,11.83\\nEswatini,SWZ,2009,11.84\\nEswatini,SWZ,2010,11.85\\nEswatini,SWZ,2011,11.86\\nEswatini,SWZ,2012,11.87\\nEswatini,SWZ,2013,11.89\\nEswatini,SWZ,2014,11.91\\nEswatini,SWZ,2015,11.92\\nEswatini,SWZ,2016,11.94\\nEswatini,SWZ,2017,11.96\\nEswatini,SWZ,2018,11.95\\nEswatini,SWZ,2019,11.93\\nEthiopia,ETH,1990,13.42\\nEthiopia,ETH,1991,13.41\\nEthiopia,ETH,1992,13.41\\nEthiopia,ETH,1993,13.41\\nEthiopia,ETH,1994,13.41\\nEthiopia,ETH,1995,13.41\\nEthiopia,ETH,1996,13.42\\nEthiopia,ETH,1997,13.44\\nEthiopia,ETH,1998,13.46\\nEthiopia,ETH,1999,13.47\\nEthiopia,ETH,2000,13.47\\nEthiopia,ETH,2001,13.44\\nEthiopia,ETH,2002,13.38\\nEthiopia,ETH,2003,13.31\\nEthiopia,ETH,2004,13.24\\nEthiopia,ETH,2005,13.19\\nEthiopia,ETH,2006,13.15\\nEthiopia,ETH,2007,13.09\\nEthiopia,ETH,2008,13.01\\nEthiopia,ETH,2009,12.93\\nEthiopia,ETH,2010,12.86\\nEthiopia,ETH,2011,12.79\\nEthiopia,ETH,2012,12.72\\nEthiopia,ETH,2013,12.64\\nEthiopia,ETH,2014,12.58\\nEthiopia,ETH,2015,12.53\\nEthiopia,ETH,2016,12.52\\nEthiopia,ETH,2017,12.51\\nEthiopia,ETH,2018,12.49\\nEthiopia,ETH,2019,12.48\\nEurope & Central Asia (WB),,1990,13.59\\nEurope & Central Asia (WB),,1991,13.59\\nEurope & Central Asia (WB),,1992,13.58\\nEurope & Central Asia (WB),,1993,13.58\\nEurope & Central Asia (WB),,1994,13.58\\nEurope & Central Asia (WB),,1995,13.58\\nEurope & Central Asia (WB),,1996,13.59\\nEurope & Central Asia (WB),,1997,13.6\\nEurope & Central Asia (WB),,1998,13.63\\nEurope & Central Asia (WB),,1999,13.64\\nEurope & Central Asia (WB),,2000,13.65\\nEurope & Central Asia (WB),,2001,13.65\\nEurope & Central Asia (WB),,2002,13.65\\nEurope & Central Asia (WB),,2003,13.64\\nEurope & Central Asia (WB),,2004,13.64\\nEurope & Central Asia (WB),,2005,13.63\\nEurope & Central Asia (WB),,2006,13.64\\nEurope & Central Asia (WB),,2007,13.66\\nEurope & Central Asia (WB),,2008,13.68\\nEurope & Central Asia (WB),,2009,13.69\\nEurope & Central Asia (WB),,2010,13.7\\nEurope & Central Asia (WB),,2011,13.71\\nEurope & Central Asia (WB),,2012,13.72\\nEurope & Central Asia (WB),,2013,13.73\\nEurope & Central Asia (WB),,2014,13.74\\nEurope & Central Asia (WB),,2015,13.74\\nEurope & Central Asia (WB),,2016,13.72\\nEurope & Central Asia (WB),,2017,13.7\\nEurope & Central Asia (WB),,2018,13.68\\nEurope & Central Asia (WB),,2019,13.65\\nEuropean Region (WHO),,1990,13.6\\nEuropean Region (WHO),,1991,13.59\\nEuropean Region (WHO),,1992,13.59\\nEuropean Region (WHO),,1993,13.58\\nEuropean Region (WHO),,1994,13.58\\nEuropean Region (WHO),,1995,13.58\\nEuropean Region (WHO),,1996,13.59\\nEuropean Region (WHO),,1997,13.61\\nEuropean Region (WHO),,1998,13.63\\nEuropean Region (WHO),,1999,13.65\\nEuropean Region (WHO),,2000,13.65\\nEuropean Region (WHO),,2001,13.65\\nEuropean Region (WHO),,2002,13.65\\nEuropean Region (WHO),,2003,13.64\\nEuropean Region (WHO),,2004,13.64\\nEuropean Region (WHO),,2005,13.64\\nEuropean Region (WHO),,2006,13.64\\nEuropean Region (WHO),,2007,13.66\\nEuropean Region (WHO),,2008,13.68\\nEuropean Region (WHO),,2009,13.7\\nEuropean Region (WHO),,2010,13.71\\nEuropean Region (WHO),,2011,13.71\\nEuropean Region (WHO),,2012,13.72\\nEuropean Region (WHO),,2013,13.73\\nEuropean Region (WHO),,2014,13.74\\nEuropean Region (WHO),,2015,13.74\\nEuropean Region (WHO),,2016,13.72\\nEuropean Region (WHO),,2017,13.7\\nEuropean Region (WHO),,2018,13.68\\nEuropean Region (WHO),,2019,13.66\\nFiji,FJI,1990,11.51\\nFiji,FJI,1991,11.51\\nFiji,FJI,1992,11.52\\nFiji,FJI,1993,11.53\\nFiji,FJI,1994,11.53\\nFiji,FJI,1995,11.53\\nFiji,FJI,1996,11.52\\nFiji,FJI,1997,11.5\\nFiji,FJI,1998,11.47\\nFiji,FJI,1999,11.45\\nFiji,FJI,2000,11.44\\nFiji,FJI,2001,11.44\\nFiji,FJI,2002,11.43\\nFiji,FJI,2003,11.43\\nFiji,FJI,2004,11.42\\nFiji,FJI,2005,11.42\\nFiji,FJI,2006,11.43\\nFiji,FJI,2007,11.46\\nFiji,FJI,2008,11.49\\nFiji,FJI,2009,11.52\\nFiji,FJI,2010,11.54\\nFiji,FJI,2011,11.54\\nFiji,FJI,2012,11.54\\nFiji,FJI,2013,11.55\\nFiji,FJI,2014,11.54\\nFiji,FJI,2015,11.54\\nFiji,FJI,2016,11.53\\nFiji,FJI,2017,11.52\\nFiji,FJI,2018,11.53\\nFiji,FJI,2019,11.54\\nFinland,FIN,1990,16.28\\nFinland,FIN,1991,16.01\\nFinland,FIN,1992,15.78\\nFinland,FIN,1993,15.58\\nFinland,FIN,1994,15.44\\nFinland,FIN,1995,15.35\\nFinland,FIN,1996,15.33\\nFinland,FIN,1997,15.32\\nFinland,FIN,1998,15.34\\nFinland,FIN,1999,15.35\\nFinland,FIN,2000,15.34\\nFinland,FIN,2001,15.29\\nFinland,FIN,2002,15.18\\nFinland,FIN,2003,15.05\\nFinland,FIN,2004,14.94\\nFinland,FIN,2005,14.89\\nFinland,FIN,2006,14.93\\nFinland,FIN,2007,15.03\\nFinland,FIN,2008,15.15\\nFinland,FIN,2009,15.25\\nFinland,FIN,2010,15.28\\nFinland,FIN,2011,15.25\\nFinland,FIN,2012,15.17\\nFinland,FIN,2013,15.09\\nFinland,FIN,2014,15.02\\nFinland,FIN,2015,14.98\\nFinland,FIN,2016,14.93\\nFinland,FIN,2017,14.88\\nFinland,FIN,2018,14.9\\nFinland,FIN,2019,14.96\\nFrance,FRA,1990,16.98\\nFrance,FRA,1991,16.91\\nFrance,FRA,1992,16.86\\nFrance,FRA,1993,16.83\\nFrance,FRA,1994,16.82\\nFrance,FRA,1995,16.81\\nFrance,FRA,1996,16.85\\nFrance,FRA,1997,16.95\\nFrance,FRA,1998,17.06\\nFrance,FRA,1999,17.16\\nFrance,FRA,2000,17.22\\nFrance,FRA,2001,17.23\\nFrance,FRA,2002,17.22\\nFrance,FRA,2003,17.19\\nFrance,FRA,2004,17.17\\nFrance,FRA,2005,17.16\\nFrance,FRA,2006,17.11\\nFrance,FRA,2007,17.02\\nFrance,FRA,2008,16.92\\nFrance,FRA,2009,16.83\\nFrance,FRA,2010,16.79\\nFrance,FRA,2011,16.77\\nFrance,FRA,2012,16.73\\nFrance,FRA,2013,16.69\\nFrance,FRA,2014,16.65\\nFrance,FRA,2015,16.64\\nFrance,FRA,2016,16.64\\nFrance,FRA,2017,16.64\\nFrance,FRA,2018,16.64\\nFrance,FRA,2019,16.63\\nG20,,1990,13.02\\nG20,,1991,13.09\\nG20,,1992,13.14\\nG20,,1993,13.19\\nG20,,1994,13.22\\nG20,,1995,13.23\\nG20,,1996,13.24\\nG20,,1997,13.26\\nG20,,1998,13.28\\nG20,,1999,13.29\\nG20,,2000,13.29\\nG20,,2001,13.29\\nG20,,2002,13.28\\nG20,,2003,13.27\\nG20,,2004,13.26\\nG20,,2005,13.25\\nG20,,2006,13.23\\nG20,,2007,13.2\\nG20,,2008,13.16\\nG20,,2009,13.12\\nG20,,2010,13.1\\nG20,,2011,13.08\\nG20,,2012,13.05\\nG20,,2013,13.02\\nG20,,2014,12.99\\nG20,,2015,12.98\\nG20,,2016,13\\nG20,,2017,13.01\\nG20,,2018,13\\nG20,,2019,12.98\\nGabon,GAB,1990,13.13\\nGabon,GAB,1991,13.13\\nGabon,GAB,1992,13.13\\nGabon,GAB,1993,13.13\\nGabon,GAB,1994,13.14\\nGabon,GAB,1995,13.14\\nGabon,GAB,1996,13.15\\nGabon,GAB,1997,13.16\\nGabon,GAB,1998,13.17\\nGabon,GAB,1999,13.18\\nGabon,GAB,2000,13.19\\nGabon,GAB,2001,13.19\\nGabon,GAB,2002,13.2\\nGabon,GAB,2003,13.2\\nGabon,GAB,2004,13.21\\nGabon,GAB,2005,13.2\\nGabon,GAB,2006,13.19\\nGabon,GAB,2007,13.16\\nGabon,GAB,2008,13.12\\nGabon,GAB,2009,13.09\\nGabon,GAB,2010,13.07\\nGabon,GAB,2011,13.07\\nGabon,GAB,2012,13.07\\nGabon,GAB,2013,13.08\\nGabon,GAB,2014,13.08\\nGabon,GAB,2015,13.09\\nGabon,GAB,2016,13.11\\nGabon,GAB,2017,13.13\\nGabon,GAB,2018,13.13\\nGabon,GAB,2019,13.11\\nGambia,GMB,1990,12.82\\nGambia,GMB,1991,12.87\\nGambia,GMB,1992,12.93\\nGambia,GMB,1993,12.97\\nGambia,GMB,1994,13.01\\nGambia,GMB,1995,13.03\\nGambia,GMB,1996,13.05\\nGambia,GMB,1997,13.06\\nGambia,GMB,1998,13.07\\nGambia,GMB,1999,13.09\\nGambia,GMB,2000,13.1\\nGambia,GMB,2001,13.11\\nGambia,GMB,2002,13.12\\nGambia,GMB,2003,13.13\\nGambia,GMB,2004,13.13\\nGambia,GMB,2005,13.12\\nGambia,GMB,2006,13.1\\nGambia,GMB,2007,13.05\\nGambia,GMB,2008,12.99\\nGambia,GMB,2009,12.94\\nGambia,GMB,2010,12.91\\nGambia,GMB,2011,12.92\\nGambia,GMB,2012,12.92\\nGambia,GMB,2013,12.93\\nGambia,GMB,2014,12.94\\nGambia,GMB,2015,12.95\\nGambia,GMB,2016,12.97\\nGambia,GMB,2017,12.98\\nGambia,GMB,2018,13\\nGambia,GMB,2019,13.05\\nGeorgia,GEO,1990,10.96\\nGeorgia,GEO,1991,11\\nGeorgia,GEO,1992,11.05\\nGeorgia,GEO,1993,11.1\\nGeorgia,GEO,1994,11.15\\nGeorgia,GEO,1995,11.2\\nGeorgia,GEO,1996,11.26\\nGeorgia,GEO,1997,11.33\\nGeorgia,GEO,1998,11.39\\nGeorgia,GEO,1999,11.44\\nGeorgia,GEO,2000,11.47\\nGeorgia,GEO,2001,11.46\\nGeorgia,GEO,2002,11.44\\nGeorgia,GEO,2003,11.41\\nGeorgia,GEO,2004,11.38\\nGeorgia,GEO,2005,11.34\\nGeorgia,GEO,2006,11.3\\nGeorgia,GEO,2007,11.24\\nGeorgia,GEO,2008,11.18\\nGeorgia,GEO,2009,11.13\\nGeorgia,GEO,2010,11.09\\nGeorgia,GEO,2011,11.07\\nGeorgia,GEO,2012,11.05\\nGeorgia,GEO,2013,11.04\\nGeorgia,GEO,2014,11.03\\nGeorgia,GEO,2015,11.02\\nGeorgia,GEO,2016,11\\nGeorgia,GEO,2017,10.99\\nGeorgia,GEO,2018,11.01\\nGeorgia,GEO,2019,11.06\\nGermany,DEU,1990,14.4\\nGermany,DEU,1991,14.43\\nGermany,DEU,1992,14.46\\nGermany,DEU,1993,14.49\\nGermany,DEU,1994,14.51\\nGermany,DEU,1995,14.52\\nGermany,DEU,1996,14.53\\nGermany,DEU,1997,14.55\\nGermany,DEU,1998,14.57\\nGermany,DEU,1999,14.59\\nGermany,DEU,2000,14.6\\nGermany,DEU,2001,14.63\\nGermany,DEU,2002,14.7\\nGermany,DEU,2003,14.79\\nGermany,DEU,2004,14.86\\nGermany,DEU,2005,14.9\\nGermany,DEU,2006,14.93\\nGermany,DEU,2007,14.99\\nGermany,DEU,2008,15.08\\nGermany,DEU,2009,15.14\\nGermany,DEU,2010,15.18\\nGermany,DEU,2011,15.18\\nGermany,DEU,2012,15.2\\nGermany,DEU,2013,15.22\\nGermany,DEU,2014,15.22\\nGermany,DEU,2015,15.23\\nGermany,DEU,2016,15.17\\nGermany,DEU,2017,15.1\\nGermany,DEU,2018,15.06\\nGermany,DEU,2019,15\\nGhana,GHA,1990,11.45\\nGhana,GHA,1991,11.45\\nGhana,GHA,1992,11.44\\nGhana,GHA,1993,11.44\\nGhana,GHA,1994,11.44\\nGhana,GHA,1995,11.43\\nGhana,GHA,1996,11.43\\nGhana,GHA,1997,11.43\\nGhana,GHA,1998,11.43\\nGhana,GHA,1999,11.43\\nGhana,GHA,2000,11.43\\nGhana,GHA,2001,11.44\\nGhana,GHA,2002,11.45\\nGhana,GHA,2003,11.46\\nGhana,GHA,2004,11.47\\nGhana,GHA,2005,11.47\\nGhana,GHA,2006,11.47\\nGhana,GHA,2007,11.46\\nGhana,GHA,2008,11.44\\nGhana,GHA,2009,11.42\\nGhana,GHA,2010,11.41\\nGhana,GHA,2011,11.4\\nGhana,GHA,2012,11.4\\nGhana,GHA,2013,11.4\\nGhana,GHA,2014,11.4\\nGhana,GHA,2015,11.4\\nGhana,GHA,2016,11.41\\nGhana,GHA,2017,11.42\\nGhana,GHA,2018,11.41\\nGhana,GHA,2019,11.4\\nGreece,GRC,1990,16.63\\nGreece,GRC,1991,16.62\\nGreece,GRC,1992,16.61\\nGreece,GRC,1993,16.61\\nGreece,GRC,1994,16.62\\nGreece,GRC,1995,16.64\\nGreece,GRC,1996,16.75\\nGreece,GRC,1997,17\\nGreece,GRC,1998,17.3\\nGreece,GRC,1999,17.55\\nGreece,GRC,2000,17.65\\nGreece,GRC,2001,17.61\\nGreece,GRC,2002,17.53\\nGreece,GRC,2003,17.43\\nGreece,GRC,2004,17.35\\nGreece,GRC,2005,17.33\\nGreece,GRC,2006,17.36\\nGreece,GRC,2007,17.38\\nGreece,GRC,2008,17.41\\nGreece,GRC,2009,17.44\\nGreece,GRC,2010,17.47\\nGreece,GRC,2011,17.43\\nGreece,GRC,2012,17.31\\nGreece,GRC,2013,17.16\\nGreece,GRC,2014,17.03\\nGreece,GRC,2015,16.99\\nGreece,GRC,2016,17.03\\nGreece,GRC,2017,17.09\\nGreece,GRC,2018,17.09\\nGreece,GRC,2019,17.05\\nGreenland,GRL,1990,17.73\\nGreenland,GRL,1991,17.79\\nGreenland,GRL,1992,17.83\\nGreenland,GRL,1993,17.87\\nGreenland,GRL,1994,17.89\\nGreenland,GRL,1995,17.9\\nGreenland,GRL,1996,17.9\\nGreenland,GRL,1997,17.88\\nGreenland,GRL,1998,17.86\\nGreenland,GRL,1999,17.84\\nGreenland,GRL,2000,17.82\\nGreenland,GRL,2001,17.8\\nGreenland,GRL,2002,17.78\\nGreenland,GRL,2003,17.77\\nGreenland,GRL,2004,17.75\\nGreenland,GRL,2005,17.73\\nGreenland,GRL,2006,17.73\\nGreenland,GRL,2007,17.74\\nGreenland,GRL,2008,17.75\\nGreenland,GRL,2009,17.75\\nGreenland,GRL,2010,17.74\\nGreenland,GRL,2011,17.73\\nGreenland,GRL,2012,17.71\\nGreenland,GRL,2013,17.7\\nGreenland,GRL,2014,17.69\\nGreenland,GRL,2015,17.69\\nGreenland,GRL,2016,17.72\\nGreenland,GRL,2017,17.75\\nGreenland,GRL,2018,17.69\\nGreenland,GRL,2019,17.54\\nGrenada,GRD,1990,14.31\\nGrenada,GRD,1991,14.29\\nGrenada,GRD,1992,14.26\\nGrenada,GRD,1993,14.25\\nGrenada,GRD,1994,14.24\\nGrenada,GRD,1995,14.23\\nGrenada,GRD,1996,14.23\\nGrenada,GRD,1997,14.23\\nGrenada,GRD,1998,14.24\\nGrenada,GRD,1999,14.25\\nGrenada,GRD,2000,14.25\\nGrenada,GRD,2001,14.25\\nGrenada,GRD,2002,14.25\\nGrenada,GRD,2003,14.25\\nGrenada,GRD,2004,14.25\\nGrenada,GRD,2005,14.25\\nGrenada,GRD,2006,14.25\\nGrenada,GRD,2007,14.24\\nGrenada,GRD,2008,14.24\\nGrenada,GRD,2009,14.24\\nGrenada,GRD,2010,14.25\\nGrenada,GRD,2011,14.26\\nGrenada,GRD,2012,14.28\\nGrenada,GRD,2013,14.31\\nGrenada,GRD,2014,14.33\\nGrenada,GRD,2015,14.34\\nGrenada,GRD,2016,14.34\\nGrenada,GRD,2017,14.34\\nGrenada,GRD,2018,14.35\\nGrenada,GRD,2019,14.37\\nGuam,GUM,1990,11.49\\nGuam,GUM,1991,11.5\\nGuam,GUM,1992,11.5\\nGuam,GUM,1993,11.51\\nGuam,GUM,1994,11.51\\nGuam,GUM,1995,11.51\\nGuam,GUM,1996,11.52\\nGuam,GUM,1997,11.52\\nGuam,GUM,1998,11.52\\nGuam,GUM,1999,11.53\\nGuam,GUM,2000,11.53\\nGuam,GUM,2001,11.52\\nGuam,GUM,2002,11.52\\nGuam,GUM,2003,11.51\\nGuam,GUM,2004,11.51\\nGuam,GUM,2005,11.51\\nGuam,GUM,2006,11.52\\nGuam,GUM,2007,11.53\\nGuam,GUM,2008,11.55\\nGuam,GUM,2009,11.56\\nGuam,GUM,2010,11.57\\nGuam,GUM,2011,11.58\\nGuam,GUM,2012,11.58\\nGuam,GUM,2013,11.58\\nGuam,GUM,2014,11.58\\nGuam,GUM,2015,11.58\\nGuam,GUM,2016,11.58\\nGuam,GUM,2017,11.57\\nGuam,GUM,2018,11.58\\nGuam,GUM,2019,11.59\\nGuatemala,GTM,1990,13\\nGuatemala,GTM,1991,13.03\\nGuatemala,GTM,1992,13.07\\nGuatemala,GTM,1993,13.1\\nGuatemala,GTM,1994,13.14\\nGuatemala,GTM,1995,13.17\\nGuatemala,GTM,1996,13.23\\nGuatemala,GTM,1997,13.3\\nGuatemala,GTM,1998,13.38\\nGuatemala,GTM,1999,13.44\\nGuatemala,GTM,2000,13.48\\nGuatemala,GTM,2001,13.5\\nGuatemala,GTM,2002,13.52\\nGuatemala,GTM,2003,13.54\\nGuatemala,GTM,2004,13.55\\nGuatemala,GTM,2005,13.56\\nGuatemala,GTM,2006,13.55\\nGuatemala,GTM,2007,13.52\\nGuatemala,GTM,2008,13.49\\nGuatemala,GTM,2009,13.45\\nGuatemala,GTM,2010,13.42\\nGuatemala,GTM,2011,13.38\\nGuatemala,GTM,2012,13.32\\nGuatemala,GTM,2013,13.27\\nGuatemala,GTM,2014,13.24\\nGuatemala,GTM,2015,13.23\\nGuatemala,GTM,2016,13.25\\nGuatemala,GTM,2017,13.27\\nGuatemala,GTM,2018,13.26\\nGuatemala,GTM,2019,13.23\\nGuinea,GIN,1990,11.67\\nGuinea,GIN,1991,11.68\\nGuinea,GIN,1992,11.68\\nGuinea,GIN,1993,11.68\\nGuinea,GIN,1994,11.69\\nGuinea,GIN,1995,11.7\\nGuinea,GIN,1996,11.71\\nGuinea,GIN,1997,11.73\\nGuinea,GIN,1998,11.75\\nGuinea,GIN,1999,11.77\\nGuinea,GIN,2000,11.78\\nGuinea,GIN,2001,11.8\\nGuinea,GIN,2002,11.81\\nGuinea,GIN,2003,11.83\\nGuinea,GIN,2004,11.84\\nGuinea,GIN,2005,11.85\\nGuinea,GIN,2006,11.86\\nGuinea,GIN,2007,11.87\\nGuinea,GIN,2008,11.88\\nGuinea,GIN,2009,11.89\\nGuinea,GIN,2010,11.89\\nGuinea,GIN,2011,11.89\\nGuinea,GIN,2012,11.89\\nGuinea,GIN,2013,11.89\\nGuinea,GIN,2014,11.88\\nGuinea,GIN,2015,11.88\\nGuinea,GIN,2016,11.87\\nGuinea,GIN,2017,11.86\\nGuinea,GIN,2018,11.85\\nGuinea,GIN,2019,11.85\\nGuinea-Bissau,GNB,1990,11.52\\nGuinea-Bissau,GNB,1991,11.51\\nGuinea-Bissau,GNB,1992,11.51\\nGuinea-Bissau,GNB,1993,11.51\\nGuinea-Bissau,GNB,1994,11.51\\nGuinea-Bissau,GNB,1995,11.52\\nGuinea-Bissau,GNB,1996,11.53\\nGuinea-Bissau,GNB,1997,11.55\\nGuinea-Bissau,GNB,1998,11.57\\nGuinea-Bissau,GNB,1999,11.58\\nGuinea-Bissau,GNB,2000,11.6\\nGuinea-Bissau,GNB,2001,11.61\\nGuinea-Bissau,GNB,2002,11.64\\nGuinea-Bissau,GNB,2003,11.67\\nGuinea-Bissau,GNB,2004,11.7\\nGuinea-Bissau,GNB,2005,11.72\\nGuinea-Bissau,GNB,2006,11.73\\nGuinea-Bissau,GNB,2007,11.75\\nGuinea-Bissau,GNB,2008,11.76\\nGuinea-Bissau,GNB,2009,11.78\\nGuinea-Bissau,GNB,2010,11.78\\nGuinea-Bissau,GNB,2011,11.78\\nGuinea-Bissau,GNB,2012,11.78\\nGuinea-Bissau,GNB,2013,11.78\\nGuinea-Bissau,GNB,2014,11.78\\nGuinea-Bissau,GNB,2015,11.78\\nGuinea-Bissau,GNB,2016,11.77\\nGuinea-Bissau,GNB,2017,11.77\\nGuinea-Bissau,GNB,2018,11.77\\nGuinea-Bissau,GNB,2019,11.77\\nGuyana,GUY,1990,15.5\\nGuyana,GUY,1991,15.51\\nGuyana,GUY,1992,15.51\\nGuyana,GUY,1993,15.53\\nGuyana,GUY,1994,15.54\\nGuyana,GUY,1995,15.55\\nGuyana,GUY,1996,15.57\\nGuyana,GUY,1997,15.6\\nGuyana,GUY,1998,15.65\\nGuyana,GUY,1999,15.69\\nGuyana,GUY,2000,15.73\\nGuyana,GUY,2001,15.76\\nGuyana,GUY,2002,15.81\\nGuyana,GUY,2003,15.85\\nGuyana,GUY,2004,15.89\\nGuyana,GUY,2005,15.9\\nGuyana,GUY,2006,15.91\\nGuyana,GUY,2007,15.91\\nGuyana,GUY,2008,15.92\\nGuyana,GUY,2009,15.92\\nGuyana,GUY,2010,15.93\\nGuyana,GUY,2011,15.92\\nGuyana,GUY,2012,15.92\\nGuyana,GUY,2013,15.91\\nGuyana,GUY,2014,15.91\\nGuyana,GUY,2015,15.9\\nGuyana,GUY,2016,15.89\\nGuyana,GUY,2017,15.87\\nGuyana,GUY,2018,15.84\\nGuyana,GUY,2019,15.81\\nHaiti,HTI,1990,14.9\\nHaiti,HTI,1991,14.9\\nHaiti,HTI,1992,14.91\\nHaiti,HTI,1993,14.91\\nHaiti,HTI,1994,14.92\\nHaiti,HTI,1995,14.92\\nHaiti,HTI,1996,14.92\\nHaiti,HTI,1997,14.92\\nHaiti,HTI,1998,14.91\\nHaiti,HTI,1999,14.91\\nHaiti,HTI,2000,14.91\\nHaiti,HTI,2001,14.91\\nHaiti,HTI,2002,14.91\\nHaiti,HTI,2003,14.92\\nHaiti,HTI,2004,14.92\\nHaiti,HTI,2005,14.93\\nHaiti,HTI,2006,14.93\\nHaiti,HTI,2007,14.94\\nHaiti,HTI,2008,14.96\\nHaiti,HTI,2009,14.98\\nHaiti,HTI,2010,14.99\\nHaiti,HTI,2011,15.01\\nHaiti,HTI,2012,15.03\\nHaiti,HTI,2013,15.06\\nHaiti,HTI,2014,15.08\\nHaiti,HTI,2015,15.09\\nHaiti,HTI,2016,15.1\\nHaiti,HTI,2017,15.11\\nHaiti,HTI,2018,15.12\\nHaiti,HTI,2019,15.13\\nHonduras,HND,1990,12.33\\nHonduras,HND,1991,12.35\\nHonduras,HND,1992,12.36\\nHonduras,HND,1993,12.38\\nHonduras,HND,1994,12.39\\nHonduras,HND,1995,12.4\\nHonduras,HND,1996,12.41\\nHonduras,HND,1997,12.43\\nHonduras,HND,1998,12.45\\nHonduras,HND,1999,12.47\\nHonduras,HND,2000,12.48\\nHonduras,HND,2001,12.49\\nHonduras,HND,2002,12.51\\nHonduras,HND,2003,12.54\\nHonduras,HND,2004,12.56\\nHonduras,HND,2005,12.57\\nHonduras,HND,2006,12.57\\nHonduras,HND,2007,12.58\\nHonduras,HND,2008,12.6\\nHonduras,HND,2009,12.61\\nHonduras,HND,2010,12.62\\nHonduras,HND,2011,12.63\\nHonduras,HND,2012,12.65\\nHonduras,HND,2013,12.67\\nHonduras,HND,2014,12.69\\nHonduras,HND,2015,12.7\\nHonduras,HND,2016,12.71\\nHonduras,HND,2017,12.72\\nHonduras,HND,2018,12.72\\nHonduras,HND,2019,12.71\\nHungary,HUN,1990,11.83\\nHungary,HUN,1991,11.84\\nHungary,HUN,1992,11.85\\nHungary,HUN,1993,11.84\\nHungary,HUN,1994,11.83\\nHungary,HUN,1995,11.82\\nHungary,HUN,1996,11.79\\nHungary,HUN,1997,11.74\\nHungary,HUN,1998,11.69\\nHungary,HUN,1999,11.64\\nHungary,HUN,2000,11.6\\nHungary,HUN,2001,11.57\\nHungary,HUN,2002,11.54\\nHungary,HUN,2003,11.51\\nHungary,HUN,2004,11.48\\nHungary,HUN,2005,11.46\\nHungary,HUN,2006,11.44\\nHungary,HUN,2007,11.43\\nHungary,HUN,2008,11.42\\nHungary,HUN,2009,11.41\\nHungary,HUN,2010,11.4\\nHungary,HUN,2011,11.39\\nHungary,HUN,2012,11.37\\nHungary,HUN,2013,11.36\\nHungary,HUN,2014,11.35\\nHungary,HUN,2015,11.34\\nHungary,HUN,2016,11.34\\nHungary,HUN,2017,11.34\\nHungary,HUN,2018,11.33\\nHungary,HUN,2019,11.31\\nIceland,ISL,1990,14.73\\nIceland,ISL,1991,14.73\\nIceland,ISL,1992,14.72\\nIceland,ISL,1993,14.72\\nIceland,ISL,1994,14.72\\nIceland,ISL,1995,14.71\\nIceland,ISL,1996,14.7\\nIceland,ISL,1997,14.68\\nIceland,ISL,1998,14.66\\nIceland,ISL,1999,14.64\\nIceland,ISL,2000,14.62\\nIceland,ISL,2001,14.61\\nIceland,ISL,2002,14.6\\nIceland,ISL,2003,14.58\\nIceland,ISL,2004,14.57\\nIceland,ISL,2005,14.56\\nIceland,ISL,2006,14.53\\nIceland,ISL,2007,14.5\\nIceland,ISL,2008,14.47\\nIceland,ISL,2009,14.46\\nIceland,ISL,2010,14.46\\nIceland,ISL,2011,14.48\\nIceland,ISL,2012,14.51\\nIceland,ISL,2013,14.54\\nIceland,ISL,2014,14.57\\nIceland,ISL,2015,14.58\\nIceland,ISL,2016,14.58\\nIceland,ISL,2017,14.57\\nIceland,ISL,2018,14.58\\nIceland,ISL,2019,14.6\\nIndia,IND,1990,14.29\\nIndia,IND,1991,14.39\\nIndia,IND,1992,14.48\\nIndia,IND,1993,14.55\\nIndia,IND,1994,14.58\\nIndia,IND,1995,14.58\\nIndia,IND,1996,14.53\\nIndia,IND,1997,14.44\\nIndia,IND,1998,14.34\\nIndia,IND,1999,14.26\\nIndia,IND,2000,14.22\\nIndia,IND,2001,14.24\\nIndia,IND,2002,14.28\\nIndia,IND,2003,14.33\\nIndia,IND,2004,14.38\\nIndia,IND,2005,14.4\\nIndia,IND,2006,14.35\\nIndia,IND,2007,14.24\\nIndia,IND,2008,14.1\\nIndia,IND,2009,13.98\\nIndia,IND,2010,13.93\\nIndia,IND,2011,13.93\\nIndia,IND,2012,13.94\\nIndia,IND,2013,13.95\\nIndia,IND,2014,13.95\\nIndia,IND,2015,13.94\\nIndia,IND,2016,13.92\\nIndia,IND,2017,13.89\\nIndia,IND,2018,13.84\\nIndia,IND,2019,13.73\\nIndonesia,IDN,1990,11.03\\nIndonesia,IDN,1991,10.99\\nIndonesia,IDN,1992,10.95\\nIndonesia,IDN,1993,10.92\\nIndonesia,IDN,1994,10.89\\nIndonesia,IDN,1995,10.87\\nIndonesia,IDN,1996,10.86\\nIndonesia,IDN,1997,10.85\\nIndonesia,IDN,1998,10.85\\nIndonesia,IDN,1999,10.85\\nIndonesia,IDN,2000,10.85\\nIndonesia,IDN,2001,10.86\\nIndonesia,IDN,2002,10.88\\nIndonesia,IDN,2003,10.91\\nIndonesia,IDN,2004,10.93\\nIndonesia,IDN,2005,10.94\\nIndonesia,IDN,2006,10.92\\nIndonesia,IDN,2007,10.89\\nIndonesia,IDN,2008,10.84\\nIndonesia,IDN,2009,10.8\\nIndonesia,IDN,2010,10.77\\nIndonesia,IDN,2011,10.74\\nIndonesia,IDN,2012,10.73\\nIndonesia,IDN,2013,10.71\\nIndonesia,IDN,2014,10.7\\nIndonesia,IDN,2015,10.69\\nIndonesia,IDN,2016,10.66\\nIndonesia,IDN,2017,10.64\\nIndonesia,IDN,2018,10.65\\nIndonesia,IDN,2019,10.68\\nIran,IRN,1990,19.11\\nIran,IRN,1991,19.03\\nIran,IRN,1992,18.96\\nIran,IRN,1993,18.9\\nIran,IRN,1994,18.85\\nIran,IRN,1995,18.81\\nIran,IRN,1996,18.81\\nIran,IRN,1997,18.85\\nIran,IRN,1998,18.89\\nIran,IRN,1999,18.93\\nIran,IRN,2000,18.94\\nIran,IRN,2001,18.92\\nIran,IRN,2002,18.89\\nIran,IRN,2003,18.86\\nIran,IRN,2004,18.83\\nIran,IRN,2005,18.82\\nIran,IRN,2006,18.85\\nIran,IRN,2007,18.93\\nIran,IRN,2008,19.03\\nIran,IRN,2009,19.11\\nIran,IRN,2010,19.16\\nIran,IRN,2011,19.19\\nIran,IRN,2012,19.24\\nIran,IRN,2013,19.29\\nIran,IRN,2014,19.34\\nIran,IRN,2015,19.35\\nIran,IRN,2016,19.24\\nIran,IRN,2017,19.11\\nIran,IRN,2018,19.03\\nIran,IRN,2019,18.89\\nIraq,IRQ,1990,14.65\\nIraq,IRQ,1991,14.8\\nIraq,IRQ,1992,14.92\\nIraq,IRQ,1993,15.02\\nIraq,IRQ,1994,15.1\\nIraq,IRQ,1995,15.12\\nIraq,IRQ,1996,15.09\\nIraq,IRQ,1997,15\\nIraq,IRQ,1998,14.89\\nIraq,IRQ,1999,14.81\\nIraq,IRQ,2000,14.77\\nIraq,IRQ,2001,14.74\\nIraq,IRQ,2002,14.7\\nIraq,IRQ,2003,14.64\\nIraq,IRQ,2004,14.59\\nIraq,IRQ,2005,14.56\\nIraq,IRQ,2006,14.56\\nIraq,IRQ,2007,14.55\\nIraq,IRQ,2008,14.54\\nIraq,IRQ,2009,14.53\\nIraq,IRQ,2010,14.52\\nIraq,IRQ,2011,14.57\\nIraq,IRQ,2012,14.7\\nIraq,IRQ,2013,14.86\\nIraq,IRQ,2014,14.99\\nIraq,IRQ,2015,15.03\\nIraq,IRQ,2016,14.98\\nIraq,IRQ,2017,14.94\\nIraq,IRQ,2018,14.92\\nIraq,IRQ,2019,14.91\\nIreland,IRL,1990,17.09\\nIreland,IRL,1991,17.12\\nIreland,IRL,1992,17.15\\nIreland,IRL,1993,17.17\\nIreland,IRL,1994,17.18\\nIreland,IRL,1995,17.19\\nIreland,IRL,1996,17.17\\nIreland,IRL,1997,17.11\\nIreland,IRL,1998,17.05\\nIreland,IRL,1999,16.99\\nIreland,IRL,2000,16.96\\nIreland,IRL,2001,16.95\\nIreland,IRL,2002,16.95\\nIreland,IRL,2003,16.95\\nIreland,IRL,2004,16.95\\nIreland,IRL,2005,16.95\\nIreland,IRL,2006,17.04\\nIreland,IRL,2007,17.24\\nIreland,IRL,2008,17.47\\nIreland,IRL,2009,17.66\\nIreland,IRL,2010,17.75\\nIreland,IRL,2011,17.76\\nIreland,IRL,2012,17.74\\nIreland,IRL,2013,17.72\\nIreland,IRL,2014,17.7\\nIreland,IRL,2015,17.7\\nIreland,IRL,2016,17.8\\nIreland,IRL,2017,17.88\\nIreland,IRL,2018,17.8\\nIreland,IRL,2019,17.61\\nIsrael,ISR,1990,14.66\\nIsrael,ISR,1991,14.76\\nIsrael,ISR,1992,14.84\\nIsrael,ISR,1993,14.91\\nIsrael,ISR,1994,14.96\\nIsrael,ISR,1995,14.98\\nIsrael,ISR,1996,14.93\\nIsrael,ISR,1997,14.82\\nIsrael,ISR,1998,14.67\\nIsrael,ISR,1999,14.54\\nIsrael,ISR,2000,14.48\\nIsrael,ISR,2001,14.46\\nIsrael,ISR,2002,14.43\\nIsrael,ISR,2003,14.41\\nIsrael,ISR,2004,14.38\\nIsrael,ISR,2005,14.36\\nIsrael,ISR,2006,14.41\\nIsrael,ISR,2007,14.55\\nIsrael,ISR,2008,14.71\\nIsrael,ISR,2009,14.84\\nIsrael,ISR,2010,14.87\\nIsrael,ISR,2011,14.82\\nIsrael,ISR,2012,14.72\\nIsrael,ISR,2013,14.62\\nIsrael,ISR,2014,14.52\\nIsrael,ISR,2015,14.47\\nIsrael,ISR,2016,14.47\\nIsrael,ISR,2017,14.47\\nIsrael,ISR,2018,14.47\\nIsrael,ISR,2019,14.48\\nItaly,ITA,1990,15.4\\nItaly,ITA,1991,15.29\\nItaly,ITA,1992,15.18\\nItaly,ITA,1993,15.08\\nItaly,ITA,1994,14.99\\nItaly,ITA,1995,14.92\\nItaly,ITA,1996,14.85\\nItaly,ITA,1997,14.79\\nItaly,ITA,1998,14.73\\nItaly,ITA,1999,14.68\\nItaly,ITA,2000,14.66\\nItaly,ITA,2001,14.66\\nItaly,ITA,2002,14.67\\nItaly,ITA,2003,14.68\\nItaly,ITA,2004,14.69\\nItaly,ITA,2005,14.68\\nItaly,ITA,2006,14.68\\nItaly,ITA,2007,14.73\\nItaly,ITA,2008,14.79\\nItaly,ITA,2009,14.86\\nItaly,ITA,2010,14.9\\nItaly,ITA,2011,14.94\\nItaly,ITA,2012,15\\nItaly,ITA,2013,15.05\\nItaly,ITA,2014,15.1\\nItaly,ITA,2015,15.12\\nItaly,ITA,2016,15.07\\nItaly,ITA,2017,15.01\\nItaly,ITA,2018,15.02\\nItaly,ITA,2019,15.03\\nJamaica,JAM,1990,13.78\\nJamaica,JAM,1991,13.74\\nJamaica,JAM,1992,13.71\\nJamaica,JAM,1993,13.69\\nJamaica,JAM,1994,13.67\\nJamaica,JAM,1995,13.66\\nJamaica,JAM,1996,13.67\\nJamaica,JAM,1997,13.68\\nJamaica,JAM,1998,13.69\\nJamaica,JAM,1999,13.7\\nJamaica,JAM,2000,13.7\\nJamaica,JAM,2001,13.71\\nJamaica,JAM,2002,13.72\\nJamaica,JAM,2003,13.73\\nJamaica,JAM,2004,13.74\\nJamaica,JAM,2005,13.74\\nJamaica,JAM,2006,13.75\\nJamaica,JAM,2007,13.75\\nJamaica,JAM,2008,13.75\\nJamaica,JAM,2009,13.76\\nJamaica,JAM,2010,13.77\\nJamaica,JAM,2011,13.8\\nJamaica,JAM,2012,13.83\\nJamaica,JAM,2013,13.88\\nJamaica,JAM,2014,13.91\\nJamaica,JAM,2015,13.93\\nJamaica,JAM,2016,13.93\\nJamaica,JAM,2017,13.92\\nJamaica,JAM,2018,13.95\\nJamaica,JAM,2019,14.02\\nJapan,JPN,1990,10.75\\nJapan,JPN,1991,10.71\\nJapan,JPN,1992,10.69\\nJapan,JPN,1993,10.67\\nJapan,JPN,1994,10.67\\nJapan,JPN,1995,10.67\\nJapan,JPN,1996,10.69\\nJapan,JPN,1997,10.74\\nJapan,JPN,1998,10.79\\nJapan,JPN,1999,10.85\\nJapan,JPN,2000,10.89\\nJapan,JPN,2001,10.92\\nJapan,JPN,2002,10.96\\nJapan,JPN,2003,10.99\\nJapan,JPN,2004,11.02\\nJapan,JPN,2005,11.03\\nJapan,JPN,2006,11.01\\nJapan,JPN,2007,10.95\\nJapan,JPN,2008,10.87\\nJapan,JPN,2009,10.79\\nJapan,JPN,2010,10.75\\nJapan,JPN,2011,10.72\\nJapan,JPN,2012,10.7\\nJapan,JPN,2013,10.67\\nJapan,JPN,2014,10.65\\nJapan,JPN,2015,10.64\\nJapan,JPN,2016,10.63\\nJapan,JPN,2017,10.63\\nJapan,JPN,2018,10.61\\nJapan,JPN,2019,10.58\\nJordan,JOR,1990,15.55\\nJordan,JOR,1991,15.58\\nJordan,JOR,1992,15.62\\nJordan,JOR,1993,15.64\\nJordan,JOR,1994,15.66\\nJordan,JOR,1995,15.67\\nJordan,JOR,1996,15.67\\nJordan,JOR,1997,15.67\\nJordan,JOR,1998,15.66\\nJordan,JOR,1999,15.65\\nJordan,JOR,2000,15.64\\nJordan,JOR,2001,15.62\\nJordan,JOR,2002,15.59\\nJordan,JOR,2003,15.56\\nJordan,JOR,2004,15.51\\nJordan,JOR,2005,15.46\\nJordan,JOR,2006,15.39\\nJordan,JOR,2007,15.3\\nJordan,JOR,2008,15.2\\nJordan,JOR,2009,15.11\\nJordan,JOR,2010,15.06\\nJordan,JOR,2011,15.04\\nJordan,JOR,2012,15.03\\nJordan,JOR,2013,15.02\\nJordan,JOR,2014,15.01\\nJordan,JOR,2015,15\\nJordan,JOR,2016,14.97\\nJordan,JOR,2017,14.94\\nJordan,JOR,2018,14.97\\nJordan,JOR,2019,15.04\\nKazakhstan,KAZ,1990,10.67\\nKazakhstan,KAZ,1991,10.68\\nKazakhstan,KAZ,1992,10.69\\nKazakhstan,KAZ,1993,10.7\\nKazakhstan,KAZ,1994,10.71\\nKazakhstan,KAZ,1995,10.73\\nKazakhstan,KAZ,1996,10.77\\nKazakhstan,KAZ,1997,10.82\\nKazakhstan,KAZ,1998,10.88\\nKazakhstan,KAZ,1999,10.93\\nKazakhstan,KAZ,2000,10.96\\nKazakhstan,KAZ,2001,10.96\\nKazakhstan,KAZ,2002,10.93\\nKazakhstan,KAZ,2003,10.9\\nKazakhstan,KAZ,2004,10.87\\nKazakhstan,KAZ,2005,10.84\\nKazakhstan,KAZ,2006,10.81\\nKazakhstan,KAZ,2007,10.77\\nKazakhstan,KAZ,2008,10.72\\nKazakhstan,KAZ,2009,10.68\\nKazakhstan,KAZ,2010,10.65\\nKazakhstan,KAZ,2011,10.64\\nKazakhstan,KAZ,2012,10.64\\nKazakhstan,KAZ,2013,10.64\\nKazakhstan,KAZ,2014,10.64\\nKazakhstan,KAZ,2015,10.64\\nKazakhstan,KAZ,2016,10.63\\nKazakhstan,KAZ,2017,10.63\\nKazakhstan,KAZ,2018,10.62\\nKazakhstan,KAZ,2019,10.61\\nKenya,KEN,1990,12.5\\nKenya,KEN,1991,12.5\\nKenya,KEN,1992,12.5\\nKenya,KEN,1993,12.5\\nKenya,KEN,1994,12.51\\nKenya,KEN,1995,12.51\\nKenya,KEN,1996,12.54\\nKenya,KEN,1997,12.58\\nKenya,KEN,1998,12.64\\nKenya,KEN,1999,12.68\\nKenya,KEN,2000,12.7\\nKenya,KEN,2001,12.7\\nKenya,KEN,2002,12.7\\nKenya,KEN,2003,12.69\\nKenya,KEN,2004,12.68\\nKenya,KEN,2005,12.67\\nKenya,KEN,2006,12.64\\nKenya,KEN,2007,12.61\\nKenya,KEN,2008,12.58\\nKenya,KEN,2009,12.54\\nKenya,KEN,2010,12.51\\nKenya,KEN,2011,12.48\\nKenya,KEN,2012,12.45\\nKenya,KEN,2013,12.42\\nKenya,KEN,2014,12.39\\nKenya,KEN,2015,12.37\\nKenya,KEN,2016,12.36\\nKenya,KEN,2017,12.35\\nKenya,KEN,2018,12.34\\nKenya,KEN,2019,12.34\\nKiribati,KIR,1990,12.06\\nKiribati,KIR,1991,12.08\\nKiribati,KIR,1992,12.11\\nKiribati,KIR,1993,12.13\\nKiribati,KIR,1994,12.14\\nKiribati,KIR,1995,12.15\\nKiribati,KIR,1996,12.15\\nKiribati,KIR,1997,12.15\\nKiribati,KIR,1998,12.15\\nKiribati,KIR,1999,12.15\\nKiribati,KIR,2000,12.15\\nKiribati,KIR,2001,12.15\\nKiribati,KIR,2002,12.14\\nKiribati,KIR,2003,12.13\\nKiribati,KIR,2004,12.12\\nKiribati,KIR,2005,12.12\\nKiribati,KIR,2006,12.12\\nKiribati,KIR,2007,12.13\\nKiribati,KIR,2008,12.15\\nKiribati,KIR,2009,12.16\\nKiribati,KIR,2010,12.18\\nKiribati,KIR,2011,12.19\\nKiribati,KIR,2012,12.2\\nKiribati,KIR,2013,12.21\\nKiribati,KIR,2014,12.21\\nKiribati,KIR,2015,12.21\\nKiribati,KIR,2016,12.2\\nKiribati,KIR,2017,12.2\\nKiribati,KIR,2018,12.2\\nKiribati,KIR,2019,12.22\\nKuwait,KWT,1990,13.72\\nKuwait,KWT,1991,13.7\\nKuwait,KWT,1992,13.69\\nKuwait,KWT,1993,13.69\\nKuwait,KWT,1994,13.68\\nKuwait,KWT,1995,13.67\\nKuwait,KWT,1996,13.67\\nKuwait,KWT,1997,13.67\\nKuwait,KWT,1998,13.69\\nKuwait,KWT,1999,13.71\\nKuwait,KWT,2000,13.71\\nKuwait,KWT,2001,13.72\\nKuwait,KWT,2002,13.73\\nKuwait,KWT,2003,13.73\\nKuwait,KWT,2004,13.74\\nKuwait,KWT,2005,13.75\\nKuwait,KWT,2006,13.75\\nKuwait,KWT,2007,13.74\\nKuwait,KWT,2008,13.73\\nKuwait,KWT,2009,13.72\\nKuwait,KWT,2010,13.73\\nKuwait,KWT,2011,13.77\\nKuwait,KWT,2012,13.81\\nKuwait,KWT,2013,13.86\\nKuwait,KWT,2014,13.9\\nKuwait,KWT,2015,13.93\\nKuwait,KWT,2016,13.94\\nKuwait,KWT,2017,13.95\\nKuwait,KWT,2018,13.98\\nKuwait,KWT,2019,14.05\\nKyrgyzstan,KGZ,1990,11.27\\nKyrgyzstan,KGZ,1991,11.29\\nKyrgyzstan,KGZ,1992,11.31\\nKyrgyzstan,KGZ,1993,11.34\\nKyrgyzstan,KGZ,1994,11.37\\nKyrgyzstan,KGZ,1995,11.41\\nKyrgyzstan,KGZ,1996,11.46\\nKyrgyzstan,KGZ,1997,11.53\\nKyrgyzstan,KGZ,1998,11.59\\nKyrgyzstan,KGZ,1999,11.64\\nKyrgyzstan,KGZ,2000,11.67\\nKyrgyzstan,KGZ,2001,11.67\\nKyrgyzstan,KGZ,2002,11.67\\nKyrgyzstan,KGZ,2003,11.67\\nKyrgyzstan,KGZ,2004,11.66\\nKyrgyzstan,KGZ,2005,11.65\\nKyrgyzstan,KGZ,2006,11.63\\nKyrgyzstan,KGZ,2007,11.58\\nKyrgyzstan,KGZ,2008,11.53\\nKyrgyzstan,KGZ,2009,11.48\\nKyrgyzstan,KGZ,2010,11.44\\nKyrgyzstan,KGZ,2011,11.42\\nKyrgyzstan,KGZ,2012,11.39\\nKyrgyzstan,KGZ,2013,11.37\\nKyrgyzstan,KGZ,2014,11.35\\nKyrgyzstan,KGZ,2015,11.33\\nKyrgyzstan,KGZ,2016,11.3\\nKyrgyzstan,KGZ,2017,11.28\\nKyrgyzstan,KGZ,2018,11.27\\nKyrgyzstan,KGZ,2019,11.26\\nLaos,LAO,1990,12.93\\nLaos,LAO,1991,12.92\\nLaos,LAO,1992,12.91\\nLaos,LAO,1993,12.89\\nLaos,LAO,1994,12.86\\nLaos,LAO,1995,12.84\\nLaos,LAO,1996,12.8\\nLaos,LAO,1997,12.74\\nLaos,LAO,1998,12.67\\nLaos,LAO,1999,12.6\\nLaos,LAO,2000,12.55\\nLaos,LAO,2001,12.51\\nLaos,LAO,2002,12.47\\nLaos,LAO,2003,12.44\\nLaos,LAO,2004,12.4\\nLaos,LAO,2005,12.36\\nLaos,LAO,2006,12.31\\nLaos,LAO,2007,12.25\\nLaos,LAO,2008,12.2\\nLaos,LAO,2009,12.15\\nLaos,LAO,2010,12.11\\nLaos,LAO,2011,12.08\\nLaos,LAO,2012,12.06\\nLaos,LAO,2013,12.06\\nLaos,LAO,2014,12.06\\nLaos,LAO,2015,12.05\\nLaos,LAO,2016,12.04\\nLaos,LAO,2017,12.03\\nLaos,LAO,2018,12.03\\nLaos,LAO,2019,12.04\\nLatin America & Caribbean (WB),,1990,13.8\\nLatin America & Caribbean (WB),,1991,13.8\\nLatin America & Caribbean (WB),,1992,13.81\\nLatin America & Caribbean (WB),,1993,13.82\\nLatin America & Caribbean (WB),,1994,13.84\\nLatin America & Caribbean (WB),,1995,13.85\\nLatin America & Caribbean (WB),,1996,13.92\\nLatin America & Caribbean (WB),,1997,14.07\\nLatin America & Caribbean (WB),,1998,14.26\\nLatin America & Caribbean (WB),,1999,14.44\\nLatin America & Caribbean (WB),,2000,14.57\\nLatin America & Caribbean (WB),,2001,14.68\\nLatin America & Caribbean (WB),,2002,14.79\\nLatin America & Caribbean (WB),,2003,14.9\\nLatin America & Caribbean (WB),,2004,14.99\\nLatin America & Caribbean (WB),,2005,15.03\\nLatin America & Caribbean (WB),,2006,15\\nLatin America & Caribbean (WB),,2007,14.93\\nLatin America & Caribbean (WB),,2008,14.85\\nLatin America & Caribbean (WB),,2009,14.77\\nLatin America & Caribbean (WB),,2010,14.74\\nLatin America & Caribbean (WB),,2011,14.7\\nLatin America & Caribbean (WB),,2012,14.61\\nLatin America & Caribbean (WB),,2013,14.52\\nLatin America & Caribbean (WB),,2014,14.44\\nLatin America & Caribbean (WB),,2015,14.41\\nLatin America & Caribbean (WB),,2016,14.44\\nLatin America & Caribbean (WB),,2017,14.47\\nLatin America & Caribbean (WB),,2018,14.47\\nLatin America & Caribbean (WB),,2019,14.47\\nLatvia,LVA,1990,13.21\\nLatvia,LVA,1991,13.22\\nLatvia,LVA,1992,13.23\\nLatvia,LVA,1993,13.24\\nLatvia,LVA,1994,13.24\\nLatvia,LVA,1995,13.24\\nLatvia,LVA,1996,13.23\\nLatvia,LVA,1997,13.21\\nLatvia,LVA,1998,13.19\\nLatvia,LVA,1999,13.18\\nLatvia,LVA,2000,13.16\\nLatvia,LVA,2001,13.14\\nLatvia,LVA,2002,13.09\\nLatvia,LVA,2003,13.02\\nLatvia,LVA,2004,12.96\\nLatvia,LVA,2005,12.9\\nLatvia,LVA,2006,12.86\\nLatvia,LVA,2007,12.8\\nLatvia,LVA,2008,12.74\\nLatvia,LVA,2009,12.7\\nLatvia,LVA,2010,12.67\\nLatvia,LVA,2011,12.66\\nLatvia,LVA,2012,12.65\\nLatvia,LVA,2013,12.65\\nLatvia,LVA,2014,12.64\\nLatvia,LVA,2015,12.64\\nLatvia,LVA,2016,12.63\\nLatvia,LVA,2017,12.62\\nLatvia,LVA,2018,12.62\\nLatvia,LVA,2019,12.62\\nLebanon,LBN,1990,16.45\\nLebanon,LBN,1991,16.52\\nLebanon,LBN,1992,16.58\\nLebanon,LBN,1993,16.63\\nLebanon,LBN,1994,16.68\\nLebanon,LBN,1995,16.72\\nLebanon,LBN,1996,16.74\\nLebanon,LBN,1997,16.73\\nLebanon,LBN,1998,16.71\\nLebanon,LBN,1999,16.69\\nLebanon,LBN,2000,16.68\\nLebanon,LBN,2001,16.69\\nLebanon,LBN,2002,16.7\\nLebanon,LBN,2003,16.71\\nLebanon,LBN,2004,16.71\\nLebanon,LBN,2005,16.7\\nLebanon,LBN,2006,16.77\\nLebanon,LBN,2007,16.91\\nLebanon,LBN,2008,17.09\\nLebanon,LBN,2009,17.24\\nLebanon,LBN,2010,17.3\\nLebanon,LBN,2011,17.28\\nLebanon,LBN,2012,17.25\\nLebanon,LBN,2013,17.22\\nLebanon,LBN,2014,17.21\\nLebanon,LBN,2015,17.2\\nLebanon,LBN,2016,17.17\\nLebanon,LBN,2017,17.11\\nLebanon,LBN,2018,16.88\\nLebanon,LBN,2019,16.44\\nLesotho,LSO,1990,13.24\\nLesotho,LSO,1991,13.14\\nLesotho,LSO,1992,13.05\\nLesotho,LSO,1993,12.98\\nLesotho,LSO,1994,12.93\\nLesotho,LSO,1995,12.92\\nLesotho,LSO,1996,12.93\\nLesotho,LSO,1997,12.97\\nLesotho,LSO,1998,13.02\\nLesotho,LSO,1999,13.06\\nLesotho,LSO,2000,13.09\\nLesotho,LSO,2001,13.12\\nLesotho,LSO,2002,13.13\\nLesotho,LSO,2003,13.15\\nLesotho,LSO,2004,13.17\\nLesotho,LSO,2005,13.18\\nLesotho,LSO,2006,13.19\\nLesotho,LSO,2007,13.2\\nLesotho,LSO,2008,13.21\\nLesotho,LSO,2009,13.22\\nLesotho,LSO,2010,13.22\\nLesotho,LSO,2011,13.23\\nLesotho,LSO,2012,13.25\\nLesotho,LSO,2013,13.27\\nLesotho,LSO,2014,13.28\\nLesotho,LSO,2015,13.29\\nLesotho,LSO,2016,13.3\\nLesotho,LSO,2017,13.3\\nLesotho,LSO,2018,13.3\\nLesotho,LSO,2019,13.31\\nLiberia,LBR,1990,12.19\\nLiberia,LBR,1991,12.29\\nLiberia,LBR,1992,12.38\\nLiberia,LBR,1993,12.47\\nLiberia,LBR,1994,12.55\\nLiberia,LBR,1995,12.6\\nLiberia,LBR,1996,12.66\\nLiberia,LBR,1997,12.72\\nLiberia,LBR,1998,12.78\\nLiberia,LBR,1999,12.82\\nLiberia,LBR,2000,12.84\\nLiberia,LBR,2001,12.84\\nLiberia,LBR,2002,12.86\\nLiberia,LBR,2003,12.88\\nLiberia,LBR,2004,12.88\\nLiberia,LBR,2005,12.87\\nLiberia,LBR,2006,12.85\\nLiberia,LBR,2007,12.85\\nLiberia,LBR,2008,12.84\\nLiberia,LBR,2009,12.83\\nLiberia,LBR,2010,12.82\\nLiberia,LBR,2011,12.81\\nLiberia,LBR,2012,12.8\\nLiberia,LBR,2013,12.78\\nLiberia,LBR,2014,12.77\\nLiberia,LBR,2015,12.76\\nLiberia,LBR,2016,12.76\\nLiberia,LBR,2017,12.76\\nLiberia,LBR,2018,12.67\\nLiberia,LBR,2019,12.49\\nLibya,LBY,1990,14.64\\nLibya,LBY,1991,14.65\\nLibya,LBY,1992,14.67\\nLibya,LBY,1993,14.68\\nLibya,LBY,1994,14.7\\nLibya,LBY,1995,14.72\\nLibya,LBY,1996,14.75\\nLibya,LBY,1997,14.78\\nLibya,LBY,1998,14.81\\nLibya,LBY,1999,14.83\\nLibya,LBY,2000,14.85\\nLibya,LBY,2001,14.86\\nLibya,LBY,2002,14.87\\nLibya,LBY,2003,14.88\\nLibya,LBY,2004,14.88\\nLibya,LBY,2005,14.88\\nLibya,LBY,2006,14.88\\nLibya,LBY,2007,14.87\\nLibya,LBY,2008,14.86\\nLibya,LBY,2009,14.85\\nLibya,LBY,2010,14.85\\nLibya,LBY,2011,14.88\\nLibya,LBY,2012,14.94\\nLibya,LBY,2013,15.01\\nLibya,LBY,2014,15.09\\nLibya,LBY,2015,15.16\\nLibya,LBY,2016,15.22\\nLibya,LBY,2017,15.27\\nLibya,LBY,2018,15.33\\nLibya,LBY,2019,15.4\\nLithuania,LTU,1990,13.52\\nLithuania,LTU,1991,13.53\\nLithuania,LTU,1992,13.55\\nLithuania,LTU,1993,13.56\\nLithuania,LTU,1994,13.58\\nLithuania,LTU,1995,13.59\\nLithuania,LTU,1996,13.62\\nLithuania,LTU,1997,13.69\\nLithuania,LTU,1998,13.75\\nLithuania,LTU,1999,13.8\\nLithuania,LTU,2000,13.82\\nLithuania,LTU,2001,13.8\\nLithuania,LTU,2002,13.75\\nLithuania,LTU,2003,13.69\\nLithuania,LTU,2004,13.62\\nLithuania,LTU,2005,13.57\\nLithuania,LTU,2006,13.54\\nLithuania,LTU,2007,13.5\\nLithuania,LTU,2008,13.46\\nLithuania,LTU,2009,13.42\\nLithuania,LTU,2010,13.4\\nLithuania,LTU,2011,13.37\\nLithuania,LTU,2012,13.33\\nLithuania,LTU,2013,13.29\\nLithuania,LTU,2014,13.26\\nLithuania,LTU,2015,13.24\\nLithuania,LTU,2016,13.27\\nLithuania,LTU,2017,13.29\\nLithuania,LTU,2018,13.27\\nLithuania,LTU,2019,13.25\\nLuxembourg,LUX,1990,15.42\\nLuxembourg,LUX,1991,15.41\\nLuxembourg,LUX,1992,15.4\\nLuxembourg,LUX,1993,15.39\\nLuxembourg,LUX,1994,15.38\\nLuxembourg,LUX,1995,15.37\\nLuxembourg,LUX,1996,15.36\\nLuxembourg,LUX,1997,15.35\\nLuxembourg,LUX,1998,15.34\\nLuxembourg,LUX,1999,15.32\\nLuxembourg,LUX,2000,15.3\\nLuxembourg,LUX,2001,15.27\\nLuxembourg,LUX,2002,15.23\\nLuxembourg,LUX,2003,15.2\\nLuxembourg,LUX,2004,15.16\\nLuxembourg,LUX,2005,15.13\\nLuxembourg,LUX,2006,15.1\\nLuxembourg,LUX,2007,15.05\\nLuxembourg,LUX,2008,15\\nLuxembourg,LUX,2009,14.96\\nLuxembourg,LUX,2010,14.94\\nLuxembourg,LUX,2011,14.94\\nLuxembourg,LUX,2012,14.93\\nLuxembourg,LUX,2013,14.93\\nLuxembourg,LUX,2014,14.93\\nLuxembourg,LUX,2015,14.93\\nLuxembourg,LUX,2016,14.91\\nLuxembourg,LUX,2017,14.9\\nLuxembourg,LUX,2018,14.9\\nLuxembourg,LUX,2019,14.91\\nMadagascar,MDG,1990,12.82\\nMadagascar,MDG,1991,12.83\\nMadagascar,MDG,1992,12.83\\nMadagascar,MDG,1993,12.83\\nMadagascar,MDG,1994,12.83\\nMadagascar,MDG,1995,12.83\\nMadagascar,MDG,1996,12.84\\nMadagascar,MDG,1997,12.85\\nMadagascar,MDG,1998,12.86\\nMadagascar,MDG,1999,12.86\\nMadagascar,MDG,2000,12.87\\nMadagascar,MDG,2001,12.87\\nMadagascar,MDG,2002,12.86\\nMadagascar,MDG,2003,12.85\\nMadagascar,MDG,2004,12.84\\nMadagascar,MDG,2005,12.84\\nMadagascar,MDG,2006,12.84\\nMadagascar,MDG,2007,12.85\\nMadagascar,MDG,2008,12.86\\nMadagascar,MDG,2009,12.87\\nMadagascar,MDG,2010,12.88\\nMadagascar,MDG,2011,12.89\\nMadagascar,MDG,2012,12.91\\nMadagascar,MDG,2013,12.93\\nMadagascar,MDG,2014,12.95\\nMadagascar,MDG,2015,12.97\\nMadagascar,MDG,2016,13\\nMadagascar,MDG,2017,13.03\\nMadagascar,MDG,2018,13.04\\nMadagascar,MDG,2019,13.04\\nMalawi,MWI,1990,12.5\\nMalawi,MWI,1991,12.51\\nMalawi,MWI,1992,12.53\\nMalawi,MWI,1993,12.54\\nMalawi,MWI,1994,12.54\\nMalawi,MWI,1995,12.55\\nMalawi,MWI,1996,12.54\\nMalawi,MWI,1997,12.52\\nMalawi,MWI,1998,12.51\\nMalawi,MWI,1999,12.49\\nMalawi,MWI,2000,12.48\\nMalawi,MWI,2001,12.48\\nMalawi,MWI,2002,12.49\\nMalawi,MWI,2003,12.5\\nMalawi,MWI,2004,12.51\\nMalawi,MWI,2005,12.51\\nMalawi,MWI,2006,12.49\\nMalawi,MWI,2007,12.46\\nMalawi,MWI,2008,12.42\\nMalawi,MWI,2009,12.38\\nMalawi,MWI,2010,12.37\\nMalawi,MWI,2011,12.37\\nMalawi,MWI,2012,12.39\\nMalawi,MWI,2013,12.43\\nMalawi,MWI,2014,12.46\\nMalawi,MWI,2015,12.48\\nMalawi,MWI,2016,12.49\\nMalawi,MWI,2017,12.5\\nMalawi,MWI,2018,12.5\\nMalawi,MWI,2019,12.5\\nMalaysia,MYS,1990,11.7\\nMalaysia,MYS,1991,11.68\\nMalaysia,MYS,1992,11.66\\nMalaysia,MYS,1993,11.65\\nMalaysia,MYS,1994,11.63\\nMalaysia,MYS,1995,11.61\\nMalaysia,MYS,1996,11.6\\nMalaysia,MYS,1997,11.59\\nMalaysia,MYS,1998,11.59\\nMalaysia,MYS,1999,11.59\\nMalaysia,MYS,2000,11.6\\nMalaysia,MYS,2001,11.65\\nMalaysia,MYS,2002,11.77\\nMalaysia,MYS,2003,11.91\\nMalaysia,MYS,2004,12.02\\nMalaysia,MYS,2005,12.06\\nMalaysia,MYS,2006,12.05\\nMalaysia,MYS,2007,12.03\\nMalaysia,MYS,2008,12.01\\nMalaysia,MYS,2009,11.99\\nMalaysia,MYS,2010,11.98\\nMalaysia,MYS,2011,12\\nMalaysia,MYS,2012,12.06\\nMalaysia,MYS,2013,12.13\\nMalaysia,MYS,2014,12.19\\nMalaysia,MYS,2015,12.22\\nMalaysia,MYS,2016,12.22\\nMalaysia,MYS,2017,12.21\\nMalaysia,MYS,2018,12.22\\nMalaysia,MYS,2019,12.23\\nMaldives,MDV,1990,12\\nMaldives,MDV,1991,11.99\\nMaldives,MDV,1992,11.97\\nMaldives,MDV,1993,11.95\\nMaldives,MDV,1994,11.93\\nMaldives,MDV,1995,11.91\\nMaldives,MDV,1996,11.87\\nMaldives,MDV,1997,11.82\\nMaldives,MDV,1998,11.76\\nMaldives,MDV,1999,11.71\\nMaldives,MDV,2000,11.66\\nMaldives,MDV,2001,11.63\\nMaldives,MDV,2002,11.61\\nMaldives,MDV,2003,11.6\\nMaldives,MDV,2004,11.58\\nMaldives,MDV,2005,11.55\\nMaldives,MDV,2006,11.5\\nMaldives,MDV,2007,11.44\\nMaldives,MDV,2008,11.39\\nMaldives,MDV,2009,11.33\\nMaldives,MDV,2010,11.29\\nMaldives,MDV,2011,11.25\\nMaldives,MDV,2012,11.22\\nMaldives,MDV,2013,11.2\\nMaldives,MDV,2014,11.18\\nMaldives,MDV,2015,11.16\\nMaldives,MDV,2016,11.13\\nMaldives,MDV,2017,11.11\\nMaldives,MDV,2018,11.09\\nMaldives,MDV,2019,11.07\\nMali,MLI,1990,10.62\\nMali,MLI,1991,10.61\\nMali,MLI,1992,10.6\\nMali,MLI,1993,10.59\\nMali,MLI,1994,10.58\\nMali,MLI,1995,10.57\\nMali,MLI,1996,10.55\\nMali,MLI,1997,10.53\\nMali,MLI,1998,10.5\\nMali,MLI,1999,10.48\\nMali,MLI,2000,10.46\\nMali,MLI,2001,10.43\\nMali,MLI,2002,10.41\\nMali,MLI,2003,10.39\\nMali,MLI,2004,10.38\\nMali,MLI,2005,10.36\\nMali,MLI,2006,10.36\\nMali,MLI,2007,10.37\\nMali,MLI,2008,10.38\\nMali,MLI,2009,10.39\\nMali,MLI,2010,10.4\\nMali,MLI,2011,10.41\\nMali,MLI,2012,10.43\\nMali,MLI,2013,10.46\\nMali,MLI,2014,10.48\\nMali,MLI,2015,10.49\\nMali,MLI,2016,10.51\\nMali,MLI,2017,10.53\\nMali,MLI,2018,10.55\\nMali,MLI,2019,10.57\\nMalta,MLT,1990,15.79\\nMalta,MLT,1991,15.78\\nMalta,MLT,1992,15.76\\nMalta,MLT,1993,15.74\\nMalta,MLT,1994,15.72\\nMalta,MLT,1995,15.71\\nMalta,MLT,1996,15.7\\nMalta,MLT,1997,15.69\\nMalta,MLT,1998,15.68\\nMalta,MLT,1999,15.68\\nMalta,MLT,2000,15.67\\nMalta,MLT,2001,15.67\\nMalta,MLT,2002,15.67\\nMalta,MLT,2003,15.67\\nMalta,MLT,2004,15.67\\nMalta,MLT,2005,15.67\\nMalta,MLT,2006,15.66\\nMalta,MLT,2007,15.64\\nMalta,MLT,2008,15.61\\nMalta,MLT,2009,15.59\\nMalta,MLT,2010,15.59\\nMalta,MLT,2011,15.59\\nMalta,MLT,2012,15.61\\nMalta,MLT,2013,15.64\\nMalta,MLT,2014,15.66\\nMalta,MLT,2015,15.67\\nMalta,MLT,2016,15.64\\nMalta,MLT,2017,15.62\\nMalta,MLT,2018,15.65\\nMalta,MLT,2019,15.72\\nMarshall Islands,MHL,1990,11.86\\nMarshall Islands,MHL,1991,11.86\\nMarshall Islands,MHL,1992,11.86\\nMarshall Islands,MHL,1993,11.86\\nMarshall Islands,MHL,1994,11.86\\nMarshall Islands,MHL,1995,11.86\\nMarshall Islands,MHL,1996,11.86\\nMarshall Islands,MHL,1997,11.87\\nMarshall Islands,MHL,1998,11.88\\nMarshall Islands,MHL,1999,11.89\\nMarshall Islands,MHL,2000,11.9\\nMarshall Islands,MHL,2001,11.89\\nMarshall Islands,MHL,2002,11.89\\nMarshall Islands,MHL,2003,11.88\\nMarshall Islands,MHL,2004,11.87\\nMarshall Islands,MHL,2005,11.86\\nMarshall Islands,MHL,2006,11.86\\nMarshall Islands,MHL,2007,11.85\\nMarshall Islands,MHL,2008,11.85\\nMarshall Islands,MHL,2009,11.86\\nMarshall Islands,MHL,2010,11.85\\nMarshall Islands,MHL,2011,11.86\\nMarshall Islands,MHL,2012,11.86\\nMarshall Islands,MHL,2013,11.85\\nMarshall Islands,MHL,2014,11.85\\nMarshall Islands,MHL,2015,11.85\\nMarshall Islands,MHL,2016,11.84\\nMarshall Islands,MHL,2017,11.83\\nMarshall Islands,MHL,2018,11.84\\nMarshall Islands,MHL,2019,11.86\\nMauritania,MRT,1990,10.7\\nMauritania,MRT,1991,10.7\\nMauritania,MRT,1992,10.69\\nMauritania,MRT,1993,10.68\\nMauritania,MRT,1994,10.67\\nMauritania,MRT,1995,10.66\\nMauritania,MRT,1996,10.65\\nMauritania,MRT,1997,10.63\\nMauritania,MRT,1998,10.61\\nMauritania,MRT,1999,10.59\\nMauritania,MRT,2000,10.57\\nMauritania,MRT,2001,10.56\\nMauritania,MRT,2002,10.55\\nMauritania,MRT,2003,10.54\\nMauritania,MRT,2004,10.53\\nMauritania,MRT,2005,10.52\\nMauritania,MRT,2006,10.51\\nMauritania,MRT,2007,10.49\\nMauritania,MRT,2008,10.47\\nMauritania,MRT,2009,10.46\\nMauritania,MRT,2010,10.45\\nMauritania,MRT,2011,10.45\\nMauritania,MRT,2012,10.48\\nMauritania,MRT,2013,10.5\\nMauritania,MRT,2014,10.53\\nMauritania,MRT,2015,10.54\\nMauritania,MRT,2016,10.55\\nMauritania,MRT,2017,10.56\\nMauritania,MRT,2018,10.57\\nMauritania,MRT,2019,10.58\\nMauritius,MUS,1990,12.52\\nMauritius,MUS,1991,12.5\\nMauritius,MUS,1992,12.47\\nMauritius,MUS,1993,12.45\\nMauritius,MUS,1994,12.44\\nMauritius,MUS,1995,12.42\\nMauritius,MUS,1996,12.43\\nMauritius,MUS,1997,12.47\\nMauritius,MUS,1998,12.52\\nMauritius,MUS,1999,12.56\\nMauritius,MUS,2000,12.57\\nMauritius,MUS,2001,12.55\\nMauritius,MUS,2002,12.53\\nMauritius,MUS,2003,12.51\\nMauritius,MUS,2004,12.49\\nMauritius,MUS,2005,12.45\\nMauritius,MUS,2006,12.42\\nMauritius,MUS,2007,12.37\\nMauritius,MUS,2008,12.33\\nMauritius,MUS,2009,12.29\\nMauritius,MUS,2010,12.25\\nMauritius,MUS,2011,12.19\\nMauritius,MUS,2012,12.12\\nMauritius,MUS,2013,12.03\\nMauritius,MUS,2014,11.96\\nMauritius,MUS,2015,11.92\\nMauritius,MUS,2016,11.89\\nMauritius,MUS,2017,11.86\\nMauritius,MUS,2018,11.85\\nMauritius,MUS,2019,11.86\\nMexico,MEX,1990,10.96\\nMexico,MEX,1991,10.98\\nMexico,MEX,1992,11.01\\nMexico,MEX,1993,11.03\\nMexico,MEX,1994,11.05\\nMexico,MEX,1995,11.07\\nMexico,MEX,1996,11.12\\nMexico,MEX,1997,11.22\\nMexico,MEX,1998,11.34\\nMexico,MEX,1999,11.47\\nMexico,MEX,2000,11.56\\nMexico,MEX,2001,11.65\\nMexico,MEX,2002,11.73\\nMexico,MEX,2003,11.82\\nMexico,MEX,2004,11.89\\nMexico,MEX,2005,11.94\\nMexico,MEX,2006,11.99\\nMexico,MEX,2007,12.07\\nMexico,MEX,2008,12.15\\nMexico,MEX,2009,12.22\\nMexico,MEX,2010,12.26\\nMexico,MEX,2011,12.26\\nMexico,MEX,2012,12.25\\nMexico,MEX,2013,12.22\\nMexico,MEX,2014,12.2\\nMexico,MEX,2015,12.19\\nMexico,MEX,2016,12.22\\nMexico,MEX,2017,12.25\\nMexico,MEX,2018,12.26\\nMexico,MEX,2019,12.26\\nMicronesia (country),FSM,1990,11.84\\nMicronesia (country),FSM,1991,11.84\\nMicronesia (country),FSM,1992,11.84\\nMicronesia (country),FSM,1993,11.85\\nMicronesia (country),FSM,1994,11.85\\nMicronesia (country),FSM,1995,11.86\\nMicronesia (country),FSM,1996,11.87\\nMicronesia (country),FSM,1997,11.87\\nMicronesia (country),FSM,1998,11.88\\nMicronesia (country),FSM,1999,11.88\\nMicronesia (country),FSM,2000,11.89\\nMicronesia (country),FSM,2001,11.88\\nMicronesia (country),FSM,2002,11.87\\nMicronesia (country),FSM,2003,11.86\\nMicronesia (country),FSM,2004,11.85\\nMicronesia (country),FSM,2005,11.85\\nMicronesia (country),FSM,2006,11.85\\nMicronesia (country),FSM,2007,11.86\\nMicronesia (country),FSM,2008,11.87\\nMicronesia (country),FSM,2009,11.87\\nMicronesia (country),FSM,2010,11.88\\nMicronesia (country),FSM,2011,11.89\\nMicronesia (country),FSM,2012,11.91\\nMicronesia (country),FSM,2013,11.92\\nMicronesia (country),FSM,2014,11.93\\nMicronesia (country),FSM,2015,11.93\\nMicronesia (country),FSM,2016,11.92\\nMicronesia (country),FSM,2017,11.91\\nMicronesia (country),FSM,2018,11.91\\nMicronesia (country),FSM,2019,11.93\\nMiddle East & North Africa (WB),,1990,16.02\\nMiddle East & North Africa (WB),,1991,16\\nMiddle East & North Africa (WB),,1992,15.98\\nMiddle East & North Africa (WB),,1993,15.97\\nMiddle East & North Africa (WB),,1994,15.96\\nMiddle East & North Africa (WB),,1995,15.94\\nMiddle East & North Africa (WB),,1996,15.92\\nMiddle East & North Africa (WB),,1997,15.88\\nMiddle East & North Africa (WB),,1998,15.84\\nMiddle East & North Africa (WB),,1999,15.8\\nMiddle East & North Africa (WB),,2000,15.78\\nMiddle East & North Africa (WB),,2001,15.76\\nMiddle East & North Africa (WB),,2002,15.74\\nMiddle East & North Africa (WB),,2003,15.72\\nMiddle East & North Africa (WB),,2004,15.7\\nMiddle East & North Africa (WB),,2005,15.68\\nMiddle East & North Africa (WB),,2006,15.67\\nMiddle East & North Africa (WB),,2007,15.68\\nMiddle East & North Africa (WB),,2008,15.7\\nMiddle East & North Africa (WB),,2009,15.72\\nMiddle East & North Africa (WB),,2010,15.72\\nMiddle East & North Africa (WB),,2011,15.72\\nMiddle East & North Africa (WB),,2012,15.74\\nMiddle East & North Africa (WB),,2013,15.76\\nMiddle East & North Africa (WB),,2014,15.78\\nMiddle East & North Africa (WB),,2015,15.79\\nMiddle East & North Africa (WB),,2016,15.74\\nMiddle East & North Africa (WB),,2017,15.7\\nMiddle East & North Africa (WB),,2018,15.7\\nMiddle East & North Africa (WB),,2019,15.7\\nMoldova,MDA,1990,13.01\\nMoldova,MDA,1991,13.01\\nMoldova,MDA,1992,13.03\\nMoldova,MDA,1993,13.05\\nMoldova,MDA,1994,13.07\\nMoldova,MDA,1995,13.11\\nMoldova,MDA,1996,13.16\\nMoldova,MDA,1997,13.23\\nMoldova,MDA,1998,13.31\\nMoldova,MDA,1999,13.36\\nMoldova,MDA,2000,13.38\\nMoldova,MDA,2001,13.36\\nMoldova,MDA,2002,13.34\\nMoldova,MDA,2003,13.31\\nMoldova,MDA,2004,13.28\\nMoldova,MDA,2005,13.25\\nMoldova,MDA,2006,13.22\\nMoldova,MDA,2007,13.18\\nMoldova,MDA,2008,13.13\\nMoldova,MDA,2009,13.08\\nMoldova,MDA,2010,13.04\\nMoldova,MDA,2011,13.01\\nMoldova,MDA,2012,12.98\\nMoldova,MDA,2013,12.96\\nMoldova,MDA,2014,12.93\\nMoldova,MDA,2015,12.9\\nMoldova,MDA,2016,12.88\\nMoldova,MDA,2017,12.86\\nMoldova,MDA,2018,12.83\\nMoldova,MDA,2019,12.8\\nMonaco,MCO,1990,15.87\\nMonaco,MCO,1991,15.87\\nMonaco,MCO,1992,15.88\\nMonaco,MCO,1993,15.88\\nMonaco,MCO,1994,15.88\\nMonaco,MCO,1995,15.88\\nMonaco,MCO,1996,15.88\\nMonaco,MCO,1997,15.88\\nMonaco,MCO,1998,15.89\\nMonaco,MCO,1999,15.89\\nMonaco,MCO,2000,15.89\\nMonaco,MCO,2001,15.9\\nMonaco,MCO,2002,15.91\\nMonaco,MCO,2003,15.91\\nMonaco,MCO,2004,15.92\\nMonaco,MCO,2005,15.93\\nMonaco,MCO,2006,15.93\\nMonaco,MCO,2007,15.93\\nMonaco,MCO,2008,15.94\\nMonaco,MCO,2009,15.94\\nMonaco,MCO,2010,15.95\\nMonaco,MCO,2011,15.96\\nMonaco,MCO,2012,15.98\\nMonaco,MCO,2013,16\\nMonaco,MCO,2014,16.01\\nMonaco,MCO,2015,16.02\\nMonaco,MCO,2016,16.03\\nMonaco,MCO,2017,16.03\\nMonaco,MCO,2018,16.04\\nMonaco,MCO,2019,16.05\\nMongolia,MNG,1990,11.43\\nMongolia,MNG,1991,11.47\\nMongolia,MNG,1992,11.51\\nMongolia,MNG,1993,11.54\\nMongolia,MNG,1994,11.57\\nMongolia,MNG,1995,11.6\\nMongolia,MNG,1996,11.62\\nMongolia,MNG,1997,11.65\\nMongolia,MNG,1998,11.67\\nMongolia,MNG,1999,11.69\\nMongolia,MNG,2000,11.7\\nMongolia,MNG,2001,11.69\\nMongolia,MNG,2002,11.64\\nMongolia,MNG,2003,11.58\\nMongolia,MNG,2004,11.52\\nMongolia,MNG,2005,11.49\\nMongolia,MNG,2006,11.45\\nMongolia,MNG,2007,11.41\\nMongolia,MNG,2008,11.37\\nMongolia,MNG,2009,11.32\\nMongolia,MNG,2010,11.28\\nMongolia,MNG,2011,11.25\\nMongolia,MNG,2012,11.22\\nMongolia,MNG,2013,11.19\\nMongolia,MNG,2014,11.15\\nMongolia,MNG,2015,11.14\\nMongolia,MNG,2016,11.24\\nMongolia,MNG,2017,11.34\\nMongolia,MNG,2018,11.32\\nMongolia,MNG,2019,11.27\\nMontenegro,MNE,1990,11.59\\nMontenegro,MNE,1991,11.62\\nMontenegro,MNE,1992,11.65\\nMontenegro,MNE,1993,11.68\\nMontenegro,MNE,1994,11.7\\nMontenegro,MNE,1995,11.72\\nMontenegro,MNE,1996,11.74\\nMontenegro,MNE,1997,11.76\\nMontenegro,MNE,1998,11.78\\nMontenegro,MNE,1999,11.79\\nMontenegro,MNE,2000,11.8\\nMontenegro,MNE,2001,11.8\\nMontenegro,MNE,2002,11.8\\nMontenegro,MNE,2003,11.79\\nMontenegro,MNE,2004,11.79\\nMontenegro,MNE,2005,11.78\\nMontenegro,MNE,2006,11.77\\nMontenegro,MNE,2007,11.75\\nMontenegro,MNE,2008,11.74\\nMontenegro,MNE,2009,11.72\\nMontenegro,MNE,2010,11.71\\nMontenegro,MNE,2011,11.7\\nMontenegro,MNE,2012,11.69\\nMontenegro,MNE,2013,11.67\\nMontenegro,MNE,2014,11.66\\nMontenegro,MNE,2015,11.66\\nMontenegro,MNE,2016,11.65\\nMontenegro,MNE,2017,11.65\\nMontenegro,MNE,2018,11.64\\nMontenegro,MNE,2019,11.63\\nMorocco,MAR,1990,16.18\\nMorocco,MAR,1991,16.16\\nMorocco,MAR,1992,16.15\\nMorocco,MAR,1993,16.13\\nMorocco,MAR,1994,16.11\\nMorocco,MAR,1995,16.1\\nMorocco,MAR,1996,16.09\\nMorocco,MAR,1997,16.07\\nMorocco,MAR,1998,16.06\\nMorocco,MAR,1999,16.05\\nMorocco,MAR,2000,16.03\\nMorocco,MAR,2001,16.02\\nMorocco,MAR,2002,16.01\\nMorocco,MAR,2003,16\\nMorocco,MAR,2004,15.99\\nMorocco,MAR,2005,15.97\\nMorocco,MAR,2006,15.95\\nMorocco,MAR,2007,15.94\\nMorocco,MAR,2008,15.92\\nMorocco,MAR,2009,15.9\\nMorocco,MAR,2010,15.87\\nMorocco,MAR,2011,15.85\\nMorocco,MAR,2012,15.84\\nMorocco,MAR,2013,15.82\\nMorocco,MAR,2014,15.8\\nMorocco,MAR,2015,15.78\\nMorocco,MAR,2016,15.76\\nMorocco,MAR,2017,15.74\\nMorocco,MAR,2018,15.73\\nMorocco,MAR,2019,15.75\\nMozambique,MOZ,1990,13.68\\nMozambique,MOZ,1991,13.69\\nMozambique,MOZ,1992,13.7\\nMozambique,MOZ,1993,13.7\\nMozambique,MOZ,1994,13.71\\nMozambique,MOZ,1995,13.71\\nMozambique,MOZ,1996,13.71\\nMozambique,MOZ,1997,13.68\\nMozambique,MOZ,1998,13.65\\nMozambique,MOZ,1999,13.62\\nMozambique,MOZ,2000,13.58\\nMozambique,MOZ,2001,13.56\\nMozambique,MOZ,2002,13.53\\nMozambique,MOZ,2003,13.51\\nMozambique,MOZ,2004,13.49\\nMozambique,MOZ,2005,13.47\\nMozambique,MOZ,2006,13.45\\nMozambique,MOZ,2007,13.43\\nMozambique,MOZ,2008,13.42\\nMozambique,MOZ,2009,13.4\\nMozambique,MOZ,2010,13.39\\nMozambique,MOZ,2011,13.37\\nMozambique,MOZ,2012,13.37\\nMozambique,MOZ,2013,13.36\\nMozambique,MOZ,2014,13.35\\nMozambique,MOZ,2015,13.34\\nMozambique,MOZ,2016,13.33\\nMozambique,MOZ,2017,13.32\\nMozambique,MOZ,2018,13.34\\nMozambique,MOZ,2019,13.37\\nMyanmar,MMR,1990,12.24\\nMyanmar,MMR,1991,12.25\\nMyanmar,MMR,1992,12.25\\nMyanmar,MMR,1993,12.25\\nMyanmar,MMR,1994,12.24\\nMyanmar,MMR,1995,12.23\\nMyanmar,MMR,1996,12.2\\nMyanmar,MMR,1997,12.15\\nMyanmar,MMR,1998,12.08\\nMyanmar,MMR,1999,12.01\\nMyanmar,MMR,2000,11.95\\nMyanmar,MMR,2001,11.89\\nMyanmar,MMR,2002,11.82\\nMyanmar,MMR,2003,11.75\\nMyanmar,MMR,2004,11.68\\nMyanmar,MMR,2005,11.6\\nMyanmar,MMR,2006,11.52\\nMyanmar,MMR,2007,11.43\\nMyanmar,MMR,2008,11.35\\nMyanmar,MMR,2009,11.26\\nMyanmar,MMR,2010,11.19\\nMyanmar,MMR,2011,11.13\\nMyanmar,MMR,2012,11.07\\nMyanmar,MMR,2013,11.03\\nMyanmar,MMR,2014,10.99\\nMyanmar,MMR,2015,10.96\\nMyanmar,MMR,2016,10.92\\nMyanmar,MMR,2017,10.89\\nMyanmar,MMR,2018,10.88\\nMyanmar,MMR,2019,10.89\\nNamibia,NAM,1990,10.93\\nNamibia,NAM,1991,10.96\\nNamibia,NAM,1992,10.99\\nNamibia,NAM,1993,11.01\\nNamibia,NAM,1994,11.03\\nNamibia,NAM,1995,11.04\\nNamibia,NAM,1996,11.05\\nNamibia,NAM,1997,11.05\\nNamibia,NAM,1998,11.05\\nNamibia,NAM,1999,11.04\\nNamibia,NAM,2000,11.04\\nNamibia,NAM,2001,11.04\\nNamibia,NAM,2002,11.04\\nNamibia,NAM,2003,11.03\\nNamibia,NAM,2004,11.03\\nNamibia,NAM,2005,11.03\\nNamibia,NAM,2006,11.01\\nNamibia,NAM,2007,10.99\\nNamibia,NAM,2008,10.97\\nNamibia,NAM,2009,10.95\\nNamibia,NAM,2010,10.95\\nNamibia,NAM,2011,10.96\\nNamibia,NAM,2012,10.99\\nNamibia,NAM,2013,11.03\\nNamibia,NAM,2014,11.06\\nNamibia,NAM,2015,11.08\\nNamibia,NAM,2016,11.09\\nNamibia,NAM,2017,11.1\\nNamibia,NAM,2018,11.1\\nNamibia,NAM,2019,11.09\\nNauru,NRU,1990,11.46\\nNauru,NRU,1991,11.48\\nNauru,NRU,1992,11.51\\nNauru,NRU,1993,11.54\\nNauru,NRU,1994,11.57\\nNauru,NRU,1995,11.59\\nNauru,NRU,1996,11.62\\nNauru,NRU,1997,11.66\\nNauru,NRU,1998,11.69\\nNauru,NRU,1999,11.73\\nNauru,NRU,2000,11.77\\nNauru,NRU,2001,11.8\\nNauru,NRU,2002,11.84\\nNauru,NRU,2003,11.87\\nNauru,NRU,2004,11.9\\nNauru,NRU,2005,11.92\\nNauru,NRU,2006,11.93\\nNauru,NRU,2007,11.95\\nNauru,NRU,2008,11.98\\nNauru,NRU,2009,12\\nNauru,NRU,2010,12.02\\nNauru,NRU,2011,12.01\\nNauru,NRU,2012,11.99\\nNauru,NRU,2013,11.94\\nNauru,NRU,2014,11.9\\nNauru,NRU,2015,11.86\\nNauru,NRU,2016,11.82\\nNauru,NRU,2017,11.79\\nNauru,NRU,2018,11.78\\nNauru,NRU,2019,11.79\\nNepal,NPL,1990,13.96\\nNepal,NPL,1991,13.89\\nNepal,NPL,1992,13.84\\nNepal,NPL,1993,13.8\\nNepal,NPL,1994,13.77\\nNepal,NPL,1995,13.75\\nNepal,NPL,1996,13.77\\nNepal,NPL,1997,13.85\\nNepal,NPL,1998,13.95\\nNepal,NPL,1999,14.04\\nNepal,NPL,2000,14.08\\nNepal,NPL,2001,14.08\\nNepal,NPL,2002,14.09\\nNepal,NPL,2003,14.1\\nNepal,NPL,2004,14.11\\nNepal,NPL,2005,14.11\\nNepal,NPL,2006,14.13\\nNepal,NPL,2007,14.16\\nNepal,NPL,2008,14.19\\nNepal,NPL,2009,14.22\\nNepal,NPL,2010,14.22\\nNepal,NPL,2011,14.18\\nNepal,NPL,2012,14.08\\nNepal,NPL,2013,13.97\\nNepal,NPL,2014,13.87\\nNepal,NPL,2015,13.83\\nNepal,NPL,2016,13.81\\nNepal,NPL,2017,13.81\\nNepal,NPL,2018,13.81\\nNepal,NPL,2019,13.83\\nNetherlands,NLD,1990,16.17\\nNetherlands,NLD,1991,16.31\\nNetherlands,NLD,1992,16.43\\nNetherlands,NLD,1993,16.52\\nNetherlands,NLD,1994,16.59\\nNetherlands,NLD,1995,16.62\\nNetherlands,NLD,1996,16.62\\nNetherlands,NLD,1997,16.61\\nNetherlands,NLD,1998,16.6\\nNetherlands,NLD,1999,16.58\\nNetherlands,NLD,2000,16.57\\nNetherlands,NLD,2001,16.52\\nNetherlands,NLD,2002,16.42\\nNetherlands,NLD,2003,16.29\\nNetherlands,NLD,2004,16.19\\nNetherlands,NLD,2005,16.13\\nNetherlands,NLD,2006,16.12\\nNetherlands,NLD,2007,16.12\\nNetherlands,NLD,2008,16.13\\nNetherlands,NLD,2009,16.15\\nNetherlands,NLD,2010,16.18\\nNetherlands,NLD,2011,16.25\\nNetherlands,NLD,2012,16.38\\nNetherlands,NLD,2013,16.53\\nNetherlands,NLD,2014,16.65\\nNetherlands,NLD,2015,16.7\\nNetherlands,NLD,2016,16.62\\nNetherlands,NLD,2017,16.55\\nNetherlands,NLD,2018,16.56\\nNetherlands,NLD,2019,16.6\\nNew Zealand,NZL,1990,18.05\\nNew Zealand,NZL,1991,18.19\\nNew Zealand,NZL,1992,18.31\\nNew Zealand,NZL,1993,18.41\\nNew Zealand,NZL,1994,18.49\\nNew Zealand,NZL,1995,18.54\\nNew Zealand,NZL,1996,18.57\\nNew Zealand,NZL,1997,18.6\\nNew Zealand,NZL,1998,18.62\\nNew Zealand,NZL,1999,18.65\\nNew Zealand,NZL,2000,18.68\\nNew Zealand,NZL,2001,18.74\\nNew Zealand,NZL,2002,18.81\\nNew Zealand,NZL,2003,18.91\\nNew Zealand,NZL,2004,18.99\\nNew Zealand,NZL,2005,19.04\\nNew Zealand,NZL,2006,19.06\\nNew Zealand,NZL,2007,19.04\\nNew Zealand,NZL,2008,19.01\\nNew Zealand,NZL,2009,18.98\\nNew Zealand,NZL,2010,18.98\\nNew Zealand,NZL,2011,18.99\\nNew Zealand,NZL,2012,19\\nNew Zealand,NZL,2013,19.02\\nNew Zealand,NZL,2014,19.03\\nNew Zealand,NZL,2015,19.04\\nNew Zealand,NZL,2016,19.04\\nNew Zealand,NZL,2017,19.03\\nNew Zealand,NZL,2018,19.03\\nNew Zealand,NZL,2019,19.04\\nNicaragua,NIC,1990,12.84\\nNicaragua,NIC,1991,12.88\\nNicaragua,NIC,1992,12.92\\nNicaragua,NIC,1993,12.96\\nNicaragua,NIC,1994,12.99\\nNicaragua,NIC,1995,13.01\\nNicaragua,NIC,1996,13.03\\nNicaragua,NIC,1997,13.06\\nNicaragua,NIC,1998,13.09\\nNicaragua,NIC,1999,13.12\\nNicaragua,NIC,2000,13.14\\nNicaragua,NIC,2001,13.16\\nNicaragua,NIC,2002,13.18\\nNicaragua,NIC,2003,13.21\\nNicaragua,NIC,2004,13.22\\nNicaragua,NIC,2005,13.23\\nNicaragua,NIC,2006,13.23\\nNicaragua,NIC,2007,13.23\\nNicaragua,NIC,2008,13.22\\nNicaragua,NIC,2009,13.22\\nNicaragua,NIC,2010,13.22\\nNicaragua,NIC,2011,13.23\\nNicaragua,NIC,2012,13.24\\nNicaragua,NIC,2013,13.25\\nNicaragua,NIC,2014,13.25\\nNicaragua,NIC,2015,13.26\\nNicaragua,NIC,2016,13.28\\nNicaragua,NIC,2017,13.29\\nNicaragua,NIC,2018,13.28\\nNicaragua,NIC,2019,13.27\\nNiger,NER,1990,11.2\\nNiger,NER,1991,11.21\\nNiger,NER,1992,11.23\\nNiger,NER,1993,11.24\\nNiger,NER,1994,11.26\\nNiger,NER,1995,11.27\\nNiger,NER,1996,11.28\\nNiger,NER,1997,11.31\\nNiger,NER,1998,11.33\\nNiger,NER,1999,11.36\\nNiger,NER,2000,11.37\\nNiger,NER,2001,11.38\\nNiger,NER,2002,11.4\\nNiger,NER,2003,11.41\\nNiger,NER,2004,11.42\\nNiger,NER,2005,11.43\\nNiger,NER,2006,11.45\\nNiger,NER,2007,11.47\\nNiger,NER,2008,11.48\\nNiger,NER,2009,11.5\\nNiger,NER,2010,11.51\\nNiger,NER,2011,11.52\\nNiger,NER,2012,11.54\\nNiger,NER,2013,11.56\\nNiger,NER,2014,11.58\\nNiger,NER,2015,11.59\\nNiger,NER,2016,11.61\\nNiger,NER,2017,11.62\\nNiger,NER,2018,11.62\\nNiger,NER,2019,11.63\\nNigeria,NGA,1990,11.15\\nNigeria,NGA,1991,11.14\\nNigeria,NGA,1992,11.14\\nNigeria,NGA,1993,11.15\\nNigeria,NGA,1994,11.15\\nNigeria,NGA,1995,11.16\\nNigeria,NGA,1996,11.2\\nNigeria,NGA,1997,11.3\\nNigeria,NGA,1998,11.4\\nNigeria,NGA,1999,11.49\\nNigeria,NGA,2000,11.53\\nNigeria,NGA,2001,11.54\\nNigeria,NGA,2002,11.54\\nNigeria,NGA,2003,11.54\\nNigeria,NGA,2004,11.54\\nNigeria,NGA,2005,11.53\\nNigeria,NGA,2006,11.51\\nNigeria,NGA,2007,11.48\\nNigeria,NGA,2008,11.43\\nNigeria,NGA,2009,11.37\\nNigeria,NGA,2010,11.29\\nNigeria,NGA,2011,11.18\\nNigeria,NGA,2012,11.03\\nNigeria,NGA,2013,10.88\\nNigeria,NGA,2014,10.76\\nNigeria,NGA,2015,10.71\\nNigeria,NGA,2016,10.71\\nNigeria,NGA,2017,10.72\\nNigeria,NGA,2018,10.72\\nNigeria,NGA,2019,10.72\\nNiue,NIU,1990,11.77\\nNiue,NIU,1991,11.79\\nNiue,NIU,1992,11.8\\nNiue,NIU,1993,11.81\\nNiue,NIU,1994,11.82\\nNiue,NIU,1995,11.83\\nNiue,NIU,1996,11.83\\nNiue,NIU,1997,11.83\\nNiue,NIU,1998,11.82\\nNiue,NIU,1999,11.82\\nNiue,NIU,2000,11.82\\nNiue,NIU,2001,11.81\\nNiue,NIU,2002,11.8\\nNiue,NIU,2003,11.79\\nNiue,NIU,2004,11.78\\nNiue,NIU,2005,11.77\\nNiue,NIU,2006,11.76\\nNiue,NIU,2007,11.76\\nNiue,NIU,2008,11.77\\nNiue,NIU,2009,11.78\\nNiue,NIU,2010,11.78\\nNiue,NIU,2011,11.78\\nNiue,NIU,2012,11.77\\nNiue,NIU,2013,11.77\\nNiue,NIU,2014,11.76\\nNiue,NIU,2015,11.76\\nNiue,NIU,2016,11.76\\nNiue,NIU,2017,11.76\\nNiue,NIU,2018,11.77\\nNiue,NIU,2019,11.77\\nNorth America (WB),,1990,15.47\\nNorth America (WB),,1991,15.65\\nNorth America (WB),,1992,15.83\\nNorth America (WB),,1993,16\\nNorth America (WB),,1994,16.16\\nNorth America (WB),,1995,16.28\\nNorth America (WB),,1996,16.48\\nNorth America (WB),,1997,16.81\\nNorth America (WB),,1998,17.17\\nNorth America (WB),,1999,17.46\\nNorth America (WB),,2000,17.59\\nNorth America (WB),,2001,17.57\\nNorth America (WB),,2002,17.48\\nNorth America (WB),,2003,17.36\\nNorth America (WB),,2004,17.24\\nNorth America (WB),,2005,17.15\\nNorth America (WB),,2006,17.12\\nNorth America (WB),,2007,17.12\\nNorth America (WB),,2008,17.13\\nNorth America (WB),,2009,17.13\\nNorth America (WB),,2010,17.09\\nNorth America (WB),,2011,16.97\\nNorth America (WB),,2012,16.79\\nNorth America (WB),,2013,16.58\\nNorth America (WB),,2014,16.41\\nNorth America (WB),,2015,16.33\\nNorth America (WB),,2016,16.33\\nNorth America (WB),,2017,16.34\\nNorth America (WB),,2018,16.47\\nNorth America (WB),,2019,16.74\\nNorth Korea,PRK,1990,11.35\\nNorth Korea,PRK,1991,11.37\\nNorth Korea,PRK,1992,11.4\\nNorth Korea,PRK,1993,11.41\\nNorth Korea,PRK,1994,11.44\\nNorth Korea,PRK,1995,11.46\\nNorth Korea,PRK,1996,11.49\\nNorth Korea,PRK,1997,11.52\\nNorth Korea,PRK,1998,11.56\\nNorth Korea,PRK,1999,11.59\\nNorth Korea,PRK,2000,11.61\\nNorth Korea,PRK,2001,11.62\\nNorth Korea,PRK,2002,11.63\\nNorth Korea,PRK,2003,11.65\\nNorth Korea,PRK,2004,11.67\\nNorth Korea,PRK,2005,11.67\\nNorth Korea,PRK,2006,11.67\\nNorth Korea,PRK,2007,11.66\\nNorth Korea,PRK,2008,11.65\\nNorth Korea,PRK,2009,11.64\\nNorth Korea,PRK,2010,11.64\\nNorth Korea,PRK,2011,11.66\\nNorth Korea,PRK,2012,11.68\\nNorth Korea,PRK,2013,11.71\\nNorth Korea,PRK,2014,11.74\\nNorth Korea,PRK,2015,11.75\\nNorth Korea,PRK,2016,11.75\\nNorth Korea,PRK,2017,11.75\\nNorth Korea,PRK,2018,11.77\\nNorth Korea,PRK,2019,11.81\\nNorth Macedonia,MKD,1990,11.54\\nNorth Macedonia,MKD,1991,11.56\\nNorth Macedonia,MKD,1992,11.58\\nNorth Macedonia,MKD,1993,11.6\\nNorth Macedonia,MKD,1994,11.61\\nNorth Macedonia,MKD,1995,11.62\\nNorth Macedonia,MKD,1996,11.63\\nNorth Macedonia,MKD,1997,11.62\\nNorth Macedonia,MKD,1998,11.62\\nNorth Macedonia,MKD,1999,11.62\\nNorth Macedonia,MKD,2000,11.62\\nNorth Macedonia,MKD,2001,11.61\\nNorth Macedonia,MKD,2002,11.6\\nNorth Macedonia,MKD,2003,11.58\\nNorth Macedonia,MKD,2004,11.56\\nNorth Macedonia,MKD,2005,11.55\\nNorth Macedonia,MKD,2006,11.53\\nNorth Macedonia,MKD,2007,11.5\\nNorth Macedonia,MKD,2008,11.47\\nNorth Macedonia,MKD,2009,11.44\\nNorth Macedonia,MKD,2010,11.42\\nNorth Macedonia,MKD,2011,11.41\\nNorth Macedonia,MKD,2012,11.4\\nNorth Macedonia,MKD,2013,11.38\\nNorth Macedonia,MKD,2014,11.38\\nNorth Macedonia,MKD,2015,11.37\\nNorth Macedonia,MKD,2016,11.36\\nNorth Macedonia,MKD,2017,11.35\\nNorth Macedonia,MKD,2018,11.34\\nNorth Macedonia,MKD,2019,11.34\\nNorthern Ireland,,1990,16.19\\nNorthern Ireland,,1991,16.18\\nNorthern Ireland,,1992,16.18\\nNorthern Ireland,,1993,16.19\\nNorthern Ireland,,1994,16.2\\nNorthern Ireland,,1995,16.21\\nNorthern Ireland,,1996,16.42\\nNorthern Ireland,,1997,16.9\\nNorthern Ireland,,1998,17.47\\nNorthern Ireland,,1999,17.94\\nNorthern Ireland,,2000,18.14\\nNorthern Ireland,,2001,18.16\\nNorthern Ireland,,2002,18.18\\nNorthern Ireland,,2003,18.21\\nNorthern Ireland,,2004,18.23\\nNorthern Ireland,,2005,18.23\\nNorthern Ireland,,2006,18.24\\nNorthern Ireland,,2007,18.25\\nNorthern Ireland,,2008,18.25\\nNorthern Ireland,,2009,18.25\\nNorthern Ireland,,2010,18.25\\nNorthern Ireland,,2011,18.14\\nNorthern Ireland,,2012,17.88\\nNorthern Ireland,,2013,17.56\\nNorthern Ireland,,2014,17.29\\nNorthern Ireland,,2015,17.15\\nNorthern Ireland,,2016,17.04\\nNorthern Ireland,,2017,16.95\\nNorthern Ireland,,2018,16.95\\nNorthern Ireland,,2019,16.97\\nNorthern Mariana Islands,MNP,1990,10.95\\nNorthern Mariana Islands,MNP,1991,10.98\\nNorthern Mariana Islands,MNP,1992,11\\nNorthern Mariana Islands,MNP,1993,11.02\\nNorthern Mariana Islands,MNP,1994,11.03\\nNorthern Mariana Islands,MNP,1995,11.04\\nNorthern Mariana Islands,MNP,1996,11.05\\nNorthern Mariana Islands,MNP,1997,11.06\\nNorthern Mariana Islands,MNP,1998,11.06\\nNorthern Mariana Islands,MNP,1999,11.06\\nNorthern Mariana Islands,MNP,2000,11.07\\nNorthern Mariana Islands,MNP,2001,11.08\\nNorthern Mariana Islands,MNP,2002,11.1\\nNorthern Mariana Islands,MNP,2003,11.1\\nNorthern Mariana Islands,MNP,2004,11.11\\nNorthern Mariana Islands,MNP,2005,11.11\\nNorthern Mariana Islands,MNP,2006,11.12\\nNorthern Mariana Islands,MNP,2007,11.13\\nNorthern Mariana Islands,MNP,2008,11.15\\nNorthern Mariana Islands,MNP,2009,11.16\\nNorthern Mariana Islands,MNP,2010,11.17\\nNorthern Mariana Islands,MNP,2011,11.19\\nNorthern Mariana Islands,MNP,2012,11.2\\nNorthern Mariana Islands,MNP,2013,11.21\\nNorthern Mariana Islands,MNP,2014,11.22\\nNorthern Mariana Islands,MNP,2015,11.23\\nNorthern Mariana Islands,MNP,2016,11.22\\nNorthern Mariana Islands,MNP,2017,11.21\\nNorthern Mariana Islands,MNP,2018,11.22\\nNorthern Mariana Islands,MNP,2019,11.24\\nNorway,NOR,1990,16.1\\nNorway,NOR,1991,16.11\\nNorway,NOR,1992,16.11\\nNorway,NOR,1993,16.11\\nNorway,NOR,1994,16.11\\nNorway,NOR,1995,16.1\\nNorway,NOR,1996,16.06\\nNorway,NOR,1997,15.97\\nNorway,NOR,1998,15.86\\nNorway,NOR,1999,15.76\\nNorway,NOR,2000,15.73\\nNorway,NOR,2001,15.77\\nNorway,NOR,2002,15.86\\nNorway,NOR,2003,15.98\\nNorway,NOR,2004,16.07\\nNorway,NOR,2005,16.11\\nNorway,NOR,2006,16.09\\nNorway,NOR,2007,16.05\\nNorway,NOR,2008,15.98\\nNorway,NOR,2009,15.93\\nNorway,NOR,2010,15.91\\nNorway,NOR,2011,15.91\\nNorway,NOR,2012,15.92\\nNorway,NOR,2013,15.94\\nNorway,NOR,2014,15.95\\nNorway,NOR,2015,15.97\\nNorway,NOR,2016,16.03\\nNorway,NOR,2017,16.08\\nNorway,NOR,2018,16.06\\nNorway,NOR,2019,15.98\\nOECD Countries,,1990,14.16\\nOECD Countries,,1991,14.18\\nOECD Countries,,1992,14.21\\nOECD Countries,,1993,14.24\\nOECD Countries,,1994,14.26\\nOECD Countries,,1995,14.29\\nOECD Countries,,1996,14.34\\nOECD Countries,,1997,14.45\\nOECD Countries,,1998,14.57\\nOECD Countries,,1999,14.68\\nOECD Countries,,2000,14.73\\nOECD Countries,,2001,14.74\\nOECD Countries,,2002,14.74\\nOECD Countries,,2003,14.73\\nOECD Countries,,2004,14.71\\nOECD Countries,,2005,14.7\\nOECD Countries,,2006,14.72\\nOECD Countries,,2007,14.74\\nOECD Countries,,2008,14.78\\nOECD Countries,,2009,14.81\\nOECD Countries,,2010,14.81\\nOECD Countries,,2011,14.79\\nOECD Countries,,2012,14.75\\nOECD Countries,,2013,14.7\\nOECD Countries,,2014,14.66\\nOECD Countries,,2015,14.65\\nOECD Countries,,2016,14.63\\nOECD Countries,,2017,14.63\\nOECD Countries,,2018,14.66\\nOECD Countries,,2019,14.73\\nOman,OMN,1990,13.7\\nOman,OMN,1991,13.68\\nOman,OMN,1992,13.66\\nOman,OMN,1993,13.64\\nOman,OMN,1994,13.64\\nOman,OMN,1995,13.64\\nOman,OMN,1996,13.64\\nOman,OMN,1997,13.64\\nOman,OMN,1998,13.66\\nOman,OMN,1999,13.69\\nOman,OMN,2000,13.72\\nOman,OMN,2001,13.72\\nOman,OMN,2002,13.73\\nOman,OMN,2003,13.75\\nOman,OMN,2004,13.79\\nOman,OMN,2005,13.81\\nOman,OMN,2006,13.79\\nOman,OMN,2007,13.76\\nOman,OMN,2008,13.74\\nOman,OMN,2009,13.73\\nOman,OMN,2010,13.71\\nOman,OMN,2011,13.65\\nOman,OMN,2012,13.61\\nOman,OMN,2013,13.62\\nOman,OMN,2014,13.65\\nOman,OMN,2015,13.66\\nOman,OMN,2016,13.63\\nOman,OMN,2017,13.61\\nOman,OMN,2018,13.66\\nOman,OMN,2019,13.73\\nPakistan,PAK,1990,12.47\\nPakistan,PAK,1991,12.44\\nPakistan,PAK,1992,12.41\\nPakistan,PAK,1993,12.39\\nPakistan,PAK,1994,12.38\\nPakistan,PAK,1995,12.37\\nPakistan,PAK,1996,12.38\\nPakistan,PAK,1997,12.41\\nPakistan,PAK,1998,12.44\\nPakistan,PAK,1999,12.48\\nPakistan,PAK,2000,12.5\\nPakistan,PAK,2001,12.52\\nPakistan,PAK,2002,12.55\\nPakistan,PAK,2003,12.58\\nPakistan,PAK,2004,12.62\\nPakistan,PAK,2005,12.65\\nPakistan,PAK,2006,12.67\\nPakistan,PAK,2007,12.68\\nPakistan,PAK,2008,12.7\\nPakistan,PAK,2009,12.71\\nPakistan,PAK,2010,12.73\\nPakistan,PAK,2011,12.76\\nPakistan,PAK,2012,12.8\\nPakistan,PAK,2013,12.84\\nPakistan,PAK,2014,12.88\\nPakistan,PAK,2015,12.9\\nPakistan,PAK,2016,12.91\\nPakistan,PAK,2017,12.92\\nPakistan,PAK,2018,12.98\\nPakistan,PAK,2019,13.08\\nPalau,PLW,1990,11.64\\nPalau,PLW,1991,11.65\\nPalau,PLW,1992,11.65\\nPalau,PLW,1993,11.65\\nPalau,PLW,1994,11.65\\nPalau,PLW,1995,11.65\\nPalau,PLW,1996,11.64\\nPalau,PLW,1997,11.63\\nPalau,PLW,1998,11.62\\nPalau,PLW,1999,11.61\\nPalau,PLW,2000,11.61\\nPalau,PLW,2001,11.6\\nPalau,PLW,2002,11.6\\nPalau,PLW,2003,11.6\\nPalau,PLW,2004,11.6\\nPalau,PLW,2005,11.61\\nPalau,PLW,2006,11.62\\nPalau,PLW,2007,11.63\\nPalau,PLW,2008,11.65\\nPalau,PLW,2009,11.67\\nPalau,PLW,2010,11.68\\nPalau,PLW,2011,11.69\\nPalau,PLW,2012,11.69\\nPalau,PLW,2013,11.69\\nPalau,PLW,2014,11.68\\nPalau,PLW,2015,11.68\\nPalau,PLW,2016,11.66\\nPalau,PLW,2017,11.64\\nPalau,PLW,2018,11.64\\nPalau,PLW,2019,11.65\\nPalestine,PSE,1990,18.69\\nPalestine,PSE,1991,18.64\\nPalestine,PSE,1992,18.6\\nPalestine,PSE,1993,18.56\\nPalestine,PSE,1994,18.53\\nPalestine,PSE,1995,18.49\\nPalestine,PSE,1996,18.51\\nPalestine,PSE,1997,18.62\\nPalestine,PSE,1998,18.76\\nPalestine,PSE,1999,18.89\\nPalestine,PSE,2000,18.95\\nPalestine,PSE,2001,18.97\\nPalestine,PSE,2002,19\\nPalestine,PSE,2003,19.03\\nPalestine,PSE,2004,19.05\\nPalestine,PSE,2005,19.06\\nPalestine,PSE,2006,19.06\\nPalestine,PSE,2007,19.06\\nPalestine,PSE,2008,19.06\\nPalestine,PSE,2009,19.06\\nPalestine,PSE,2010,19.04\\nPalestine,PSE,2011,18.99\\nPalestine,PSE,2012,18.9\\nPalestine,PSE,2013,18.78\\nPalestine,PSE,2014,18.65\\nPalestine,PSE,2015,18.52\\nPalestine,PSE,2016,18.32\\nPalestine,PSE,2017,18.17\\nPalestine,PSE,2018,18.15\\nPalestine,PSE,2019,18.14\\nPanama,PAN,1990,11.88\\nPanama,PAN,1991,11.88\\nPanama,PAN,1992,11.87\\nPanama,PAN,1993,11.88\\nPanama,PAN,1994,11.88\\nPanama,PAN,1995,11.89\\nPanama,PAN,1996,11.9\\nPanama,PAN,1997,11.92\\nPanama,PAN,1998,11.94\\nPanama,PAN,1999,11.96\\nPanama,PAN,2000,11.97\\nPanama,PAN,2001,11.98\\nPanama,PAN,2002,12\\nPanama,PAN,2003,12.02\\nPanama,PAN,2004,12.03\\nPanama,PAN,2005,12.03\\nPanama,PAN,2006,12.04\\nPanama,PAN,2007,12.04\\nPanama,PAN,2008,12.04\\nPanama,PAN,2009,12.04\\nPanama,PAN,2010,12.05\\nPanama,PAN,2011,12.06\\nPanama,PAN,2012,12.08\\nPanama,PAN,2013,12.11\\nPanama,PAN,2014,12.13\\nPanama,PAN,2015,12.15\\nPanama,PAN,2016,12.16\\nPanama,PAN,2017,12.18\\nPanama,PAN,2018,12.18\\nPanama,PAN,2019,12.18\\nPapua New Guinea,PNG,1990,11.97\\nPapua New Guinea,PNG,1991,11.96\\nPapua New Guinea,PNG,1992,11.95\\nPapua New Guinea,PNG,1993,11.94\\nPapua New Guinea,PNG,1994,11.93\\nPapua New Guinea,PNG,1995,11.93\\nPapua New Guinea,PNG,1996,11.93\\nPapua New Guinea,PNG,1997,11.93\\nPapua New Guinea,PNG,1998,11.93\\nPapua New Guinea,PNG,1999,11.93\\nPapua New Guinea,PNG,2000,11.93\\nPapua New Guinea,PNG,2001,11.93\\nPapua New Guinea,PNG,2002,11.94\\nPapua New Guinea,PNG,2003,11.95\\nPapua New Guinea,PNG,2004,11.96\\nPapua New Guinea,PNG,2005,11.97\\nPapua New Guinea,PNG,2006,11.97\\nPapua New Guinea,PNG,2007,11.97\\nPapua New Guinea,PNG,2008,11.98\\nPapua New Guinea,PNG,2009,11.98\\nPapua New Guinea,PNG,2010,11.99\\nPapua New Guinea,PNG,2011,11.98\\nPapua New Guinea,PNG,2012,11.98\\nPapua New Guinea,PNG,2013,11.98\\nPapua New Guinea,PNG,2014,11.97\\nPapua New Guinea,PNG,2015,11.96\\nPapua New Guinea,PNG,2016,11.94\\nPapua New Guinea,PNG,2017,11.91\\nPapua New Guinea,PNG,2018,11.91\\nPapua New Guinea,PNG,2019,11.91\\nParaguay,PRY,1990,15.36\\nParaguay,PRY,1991,15.38\\nParaguay,PRY,1992,15.4\\nParaguay,PRY,1993,15.42\\nParaguay,PRY,1994,15.44\\nParaguay,PRY,1995,15.45\\nParaguay,PRY,1996,15.45\\nParaguay,PRY,1997,15.45\\nParaguay,PRY,1998,15.44\\nParaguay,PRY,1999,15.43\\nParaguay,PRY,2000,15.43\\nParaguay,PRY,2001,15.44\\nParaguay,PRY,2002,15.46\\nParaguay,PRY,2003,15.49\\nParaguay,PRY,2004,15.5\\nParaguay,PRY,2005,15.52\\nParaguay,PRY,2006,15.53\\nParaguay,PRY,2007,15.54\\nParaguay,PRY,2008,15.56\\nParaguay,PRY,2009,15.57\\nParaguay,PRY,2010,15.59\\nParaguay,PRY,2011,15.62\\nParaguay,PRY,2012,15.67\\nParaguay,PRY,2013,15.73\\nParaguay,PRY,2014,15.78\\nParaguay,PRY,2015,15.82\\nParaguay,PRY,2016,15.83\\nParaguay,PRY,2017,15.84\\nParaguay,PRY,2018,15.84\\nParaguay,PRY,2019,15.84\\nPeru,PER,1990,13.85\\nPeru,PER,1991,13.86\\nPeru,PER,1992,13.86\\nPeru,PER,1993,13.86\\nPeru,PER,1994,13.86\\nPeru,PER,1995,13.86\\nPeru,PER,1996,13.86\\nPeru,PER,1997,13.86\\nPeru,PER,1998,13.85\\nPeru,PER,1999,13.84\\nPeru,PER,2000,13.83\\nPeru,PER,2001,13.83\\nPeru,PER,2002,13.83\\nPeru,PER,2003,13.83\\nPeru,PER,2004,13.83\\nPeru,PER,2005,13.83\\nPeru,PER,2006,13.82\\nPeru,PER,2007,13.79\\nPeru,PER,2008,13.77\\nPeru,PER,2009,13.76\\nPeru,PER,2010,13.76\\nPeru,PER,2011,13.76\\nPeru,PER,2012,13.78\\nPeru,PER,2013,13.8\\nPeru,PER,2014,13.82\\nPeru,PER,2015,13.83\\nPeru,PER,2016,13.83\\nPeru,PER,2017,13.83\\nPeru,PER,2018,13.83\\nPeru,PER,2019,13.82\\nPhilippines,PHL,1990,12.46\\nPhilippines,PHL,1991,12.43\\nPhilippines,PHL,1992,12.4\\nPhilippines,PHL,1993,12.37\\nPhilippines,PHL,1994,12.34\\nPhilippines,PHL,1995,12.31\\nPhilippines,PHL,1996,12.27\\nPhilippines,PHL,1997,12.22\\nPhilippines,PHL,1998,12.17\\nPhilippines,PHL,1999,12.12\\nPhilippines,PHL,2000,12.09\\nPhilippines,PHL,2001,12.08\\nPhilippines,PHL,2002,12.09\\nPhilippines,PHL,2003,12.1\\nPhilippines,PHL,2004,12.12\\nPhilippines,PHL,2005,12.12\\nPhilippines,PHL,2006,12.11\\nPhilippines,PHL,2007,12.09\\nPhilippines,PHL,2008,12.07\\nPhilippines,PHL,2009,12.05\\nPhilippines,PHL,2010,12.03\\nPhilippines,PHL,2011,12.01\\nPhilippines,PHL,2012,12\\nPhilippines,PHL,2013,11.98\\nPhilippines,PHL,2014,11.97\\nPhilippines,PHL,2015,11.96\\nPhilippines,PHL,2016,11.94\\nPhilippines,PHL,2017,11.93\\nPhilippines,PHL,2018,11.93\\nPhilippines,PHL,2019,11.94\\nPoland,POL,1990,10.69\\nPoland,POL,1991,10.71\\nPoland,POL,1992,10.73\\nPoland,POL,1993,10.74\\nPoland,POL,1994,10.75\\nPoland,POL,1995,10.76\\nPoland,POL,1996,10.77\\nPoland,POL,1997,10.77\\nPoland,POL,1998,10.76\\nPoland,POL,1999,10.75\\nPoland,POL,2000,10.74\\nPoland,POL,2001,10.72\\nPoland,POL,2002,10.67\\nPoland,POL,2003,10.61\\nPoland,POL,2004,10.56\\nPoland,POL,2005,10.53\\nPoland,POL,2006,10.53\\nPoland,POL,2007,10.52\\nPoland,POL,2008,10.53\\nPoland,POL,2009,10.53\\nPoland,POL,2010,10.52\\nPoland,POL,2011,10.52\\nPoland,POL,2012,10.51\\nPoland,POL,2013,10.5\\nPoland,POL,2014,10.49\\nPoland,POL,2015,10.48\\nPoland,POL,2016,10.47\\nPoland,POL,2017,10.46\\nPoland,POL,2018,10.5\\nPoland,POL,2019,10.6\\nPortugal,PRT,1990,18.65\\nPortugal,PRT,1991,18.63\\nPortugal,PRT,1992,18.62\\nPortugal,PRT,1993,18.62\\nPortugal,PRT,1994,18.61\\nPortugal,PRT,1995,18.61\\nPortugal,PRT,1996,18.66\\nPortugal,PRT,1997,18.78\\nPortugal,PRT,1998,18.93\\nPortugal,PRT,1999,19.06\\nPortugal,PRT,2000,19.12\\nPortugal,PRT,2001,19.08\\nPortugal,PRT,2002,19\\nPortugal,PRT,2003,18.9\\nPortugal,PRT,2004,18.81\\nPortugal,PRT,2005,18.77\\nPortugal,PRT,2006,18.79\\nPortugal,PRT,2007,18.82\\nPortugal,PRT,2008,18.85\\nPortugal,PRT,2009,18.87\\nPortugal,PRT,2010,18.87\\nPortugal,PRT,2011,18.8\\nPortugal,PRT,2012,18.66\\nPortugal,PRT,2013,18.49\\nPortugal,PRT,2014,18.35\\nPortugal,PRT,2015,18.28\\nPortugal,PRT,2016,18.36\\nPortugal,PRT,2017,18.46\\nPortugal,PRT,2018,18.47\\nPortugal,PRT,2019,18.45\\nPuerto Rico,PRI,1990,14.09\\nPuerto Rico,PRI,1991,14.11\\nPuerto Rico,PRI,1992,14.13\\nPuerto Rico,PRI,1993,14.15\\nPuerto Rico,PRI,1994,14.16\\nPuerto Rico,PRI,1995,14.16\\nPuerto Rico,PRI,1996,14.16\\nPuerto Rico,PRI,1997,14.15\\nPuerto Rico,PRI,1998,14.14\\nPuerto Rico,PRI,1999,14.13\\nPuerto Rico,PRI,2000,14.12\\nPuerto Rico,PRI,2001,14.12\\nPuerto Rico,PRI,2002,14.12\\nPuerto Rico,PRI,2003,14.12\\nPuerto Rico,PRI,2004,14.12\\nPuerto Rico,PRI,2005,14.12\\nPuerto Rico,PRI,2006,14.1\\nPuerto Rico,PRI,2007,14.06\\nPuerto Rico,PRI,2008,14.02\\nPuerto Rico,PRI,2009,13.98\\nPuerto Rico,PRI,2010,13.98\\nPuerto Rico,PRI,2011,14\\nPuerto Rico,PRI,2012,14.04\\nPuerto Rico,PRI,2013,14.1\\nPuerto Rico,PRI,2014,14.15\\nPuerto Rico,PRI,2015,14.17\\nPuerto Rico,PRI,2016,14.18\\nPuerto Rico,PRI,2017,14.18\\nPuerto Rico,PRI,2018,14.2\\nPuerto Rico,PRI,2019,14.24\\nQatar,QAT,1990,13.78\\nQatar,QAT,1991,13.79\\nQatar,QAT,1992,13.81\\nQatar,QAT,1993,13.82\\nQatar,QAT,1994,13.83\\nQatar,QAT,1995,13.84\\nQatar,QAT,1996,13.85\\nQatar,QAT,1997,13.86\\nQatar,QAT,1998,13.87\\nQatar,QAT,1999,13.87\\nQatar,QAT,2000,13.87\\nQatar,QAT,2001,13.86\\nQatar,QAT,2002,13.85\\nQatar,QAT,2003,13.82\\nQatar,QAT,2004,13.78\\nQatar,QAT,2005,13.74\\nQatar,QAT,2006,13.7\\nQatar,QAT,2007,13.63\\nQatar,QAT,2008,13.57\\nQatar,QAT,2009,13.52\\nQatar,QAT,2010,13.49\\nQatar,QAT,2011,13.48\\nQatar,QAT,2012,13.49\\nQatar,QAT,2013,13.5\\nQatar,QAT,2014,13.51\\nQatar,QAT,2015,13.51\\nQatar,QAT,2016,13.5\\nQatar,QAT,2017,13.49\\nQatar,QAT,2018,13.53\\nQatar,QAT,2019,13.63\\nRegion of the Americas (WHO),,1990,14.37\\nRegion of the Americas (WHO),,1991,14.44\\nRegion of the Americas (WHO),,1992,14.51\\nRegion of the Americas (WHO),,1993,14.57\\nRegion of the Americas (WHO),,1994,14.63\\nRegion of the Americas (WHO),,1995,14.68\\nRegion of the Americas (WHO),,1996,14.79\\nRegion of the Americas (WHO),,1997,15\\nRegion of the Americas (WHO),,1998,15.24\\nRegion of the Americas (WHO),,1999,15.45\\nRegion of the Americas (WHO),,2000,15.57\\nRegion of the Americas (WHO),,2001,15.62\\nRegion of the Americas (WHO),,2002,15.65\\nRegion of the Americas (WHO),,2003,15.66\\nRegion of the Americas (WHO),,2004,15.66\\nRegion of the Americas (WHO),,2005,15.65\\nRegion of the Americas (WHO),,2006,15.62\\nRegion of the Americas (WHO),,2007,15.57\\nRegion of the Americas (WHO),,2008,15.52\\nRegion of the Americas (WHO),,2009,15.46\\nRegion of the Americas (WHO),,2010,15.42\\nRegion of the Americas (WHO),,2011,15.35\\nRegion of the Americas (WHO),,2012,15.24\\nRegion of the Americas (WHO),,2013,15.1\\nRegion of the Americas (WHO),,2014,15\\nRegion of the Americas (WHO),,2015,14.95\\nRegion of the Americas (WHO),,2016,14.97\\nRegion of the Americas (WHO),,2017,14.99\\nRegion of the Americas (WHO),,2018,15.04\\nRegion of the Americas (WHO),,2019,15.15\\nRomania,ROU,1990,11.13\\nRomania,ROU,1991,11.15\\nRomania,ROU,1992,11.16\\nRomania,ROU,1993,11.17\\nRomania,ROU,1994,11.18\\nRomania,ROU,1995,11.18\\nRomania,ROU,1996,11.19\\nRomania,ROU,1997,11.21\\nRomania,ROU,1998,11.23\\nRomania,ROU,1999,11.24\\nRomania,ROU,2000,11.25\\nRomania,ROU,2001,11.25\\nRomania,ROU,2002,11.25\\nRomania,ROU,2003,11.24\\nRomania,ROU,2004,11.23\\nRomania,ROU,2005,11.22\\nRomania,ROU,2006,11.2\\nRomania,ROU,2007,11.18\\nRomania,ROU,2008,11.15\\nRomania,ROU,2009,11.13\\nRomania,ROU,2010,11.11\\nRomania,ROU,2011,11.11\\nRomania,ROU,2012,11.13\\nRomania,ROU,2013,11.14\\nRomania,ROU,2014,11.15\\nRomania,ROU,2015,11.15\\nRomania,ROU,2016,11.14\\nRomania,ROU,2017,11.12\\nRomania,ROU,2018,11.11\\nRomania,ROU,2019,11.1\\nRussia,RUS,1990,11.41\\nRussia,RUS,1991,11.44\\nRussia,RUS,1992,11.46\\nRussia,RUS,1993,11.48\\nRussia,RUS,1994,11.51\\nRussia,RUS,1995,11.53\\nRussia,RUS,1996,11.56\\nRussia,RUS,1997,11.6\\nRussia,RUS,1998,11.63\\nRussia,RUS,1999,11.66\\nRussia,RUS,2000,11.67\\nRussia,RUS,2001,11.66\\nRussia,RUS,2002,11.63\\nRussia,RUS,2003,11.59\\nRussia,RUS,2004,11.55\\nRussia,RUS,2005,11.51\\nRussia,RUS,2006,11.48\\nRussia,RUS,2007,11.43\\nRussia,RUS,2008,11.37\\nRussia,RUS,2009,11.33\\nRussia,RUS,2010,11.3\\nRussia,RUS,2011,11.3\\nRussia,RUS,2012,11.32\\nRussia,RUS,2013,11.35\\nRussia,RUS,2014,11.37\\nRussia,RUS,2015,11.38\\nRussia,RUS,2016,11.37\\nRussia,RUS,2017,11.36\\nRussia,RUS,2018,11.35\\nRussia,RUS,2019,11.32\\nRwanda,RWA,1990,13.7\\nRwanda,RWA,1991,13.77\\nRwanda,RWA,1992,13.82\\nRwanda,RWA,1993,13.86\\nRwanda,RWA,1994,13.93\\nRwanda,RWA,1995,13.97\\nRwanda,RWA,1996,13.97\\nRwanda,RWA,1997,13.95\\nRwanda,RWA,1998,13.93\\nRwanda,RWA,1999,13.9\\nRwanda,RWA,2000,13.87\\nRwanda,RWA,2001,13.83\\nRwanda,RWA,2002,13.77\\nRwanda,RWA,2003,13.71\\nRwanda,RWA,2004,13.64\\nRwanda,RWA,2005,13.57\\nRwanda,RWA,2006,13.49\\nRwanda,RWA,2007,13.38\\nRwanda,RWA,2008,13.28\\nRwanda,RWA,2009,13.19\\nRwanda,RWA,2010,13.14\\nRwanda,RWA,2011,13.11\\nRwanda,RWA,2012,13.08\\nRwanda,RWA,2013,13.07\\nRwanda,RWA,2014,13.06\\nRwanda,RWA,2015,13.05\\nRwanda,RWA,2016,13.07\\nRwanda,RWA,2017,13.09\\nRwanda,RWA,2018,13.08\\nRwanda,RWA,2019,13.08\\nSaint Kitts and Nevis,KNA,1990,15.03\\nSaint Kitts and Nevis,KNA,1991,15.01\\nSaint Kitts and Nevis,KNA,1992,15\\nSaint Kitts and Nevis,KNA,1993,14.99\\nSaint Kitts and Nevis,KNA,1994,14.98\\nSaint Kitts and Nevis,KNA,1995,14.97\\nSaint Kitts and Nevis,KNA,1996,14.98\\nSaint Kitts and Nevis,KNA,1997,14.98\\nSaint Kitts and Nevis,KNA,1998,14.99\\nSaint Kitts and Nevis,KNA,1999,15\\nSaint Kitts and Nevis,KNA,2000,15\\nSaint Kitts and Nevis,KNA,2001,15\\nSaint Kitts and Nevis,KNA,2002,15.01\\nSaint Kitts and Nevis,KNA,2003,15\\nSaint Kitts and Nevis,KNA,2004,15.01\\nSaint Kitts and Nevis,KNA,2005,15.01\\nSaint Kitts and Nevis,KNA,2006,15.01\\nSaint Kitts and Nevis,KNA,2007,15.01\\nSaint Kitts and Nevis,KNA,2008,15.01\\nSaint Kitts and Nevis,KNA,2009,15.02\\nSaint Kitts and Nevis,KNA,2010,15.02\\nSaint Kitts and Nevis,KNA,2011,15.03\\nSaint Kitts and Nevis,KNA,2012,15.05\\nSaint Kitts and Nevis,KNA,2013,15.06\\nSaint Kitts and Nevis,KNA,2014,15.08\\nSaint Kitts and Nevis,KNA,2015,15.08\\nSaint Kitts and Nevis,KNA,2016,15.08\\nSaint Kitts and Nevis,KNA,2017,15.07\\nSaint Kitts and Nevis,KNA,2018,15.08\\nSaint Kitts and Nevis,KNA,2019,15.1\\nSaint Lucia,LCA,1990,14.29\\nSaint Lucia,LCA,1991,14.27\\nSaint Lucia,LCA,1992,14.25\\nSaint Lucia,LCA,1993,14.23\\nSaint Lucia,LCA,1994,14.22\\nSaint Lucia,LCA,1995,14.21\\nSaint Lucia,LCA,1996,14.22\\nSaint Lucia,LCA,1997,14.23\\nSaint Lucia,LCA,1998,14.24\\nSaint Lucia,LCA,1999,14.26\\nSaint Lucia,LCA,2000,14.26\\nSaint Lucia,LCA,2001,14.27\\nSaint Lucia,LCA,2002,14.27\\nSaint Lucia,LCA,2003,14.27\\nSaint Lucia,LCA,2004,14.27\\nSaint Lucia,LCA,2005,14.27\\nSaint Lucia,LCA,2006,14.28\\nSaint Lucia,LCA,2007,14.28\\nSaint Lucia,LCA,2008,14.28\\nSaint Lucia,LCA,2009,14.29\\nSaint Lucia,LCA,2010,14.3\\nSaint Lucia,LCA,2011,14.31\\nSaint Lucia,LCA,2012,14.34\\nSaint Lucia,LCA,2013,14.36\\nSaint Lucia,LCA,2014,14.38\\nSaint Lucia,LCA,2015,14.4\\nSaint Lucia,LCA,2016,14.4\\nSaint Lucia,LCA,2017,14.4\\nSaint Lucia,LCA,2018,14.43\\nSaint Lucia,LCA,2019,14.47\\nSaint Vincent and the Grenadines,VCT,1990,14.23\\nSaint Vincent and the Grenadines,VCT,1991,14.18\\nSaint Vincent and the Grenadines,VCT,1992,14.15\\nSaint Vincent and the Grenadines,VCT,1993,14.13\\nSaint Vincent and the Grenadines,VCT,1994,14.11\\nSaint Vincent and the Grenadines,VCT,1995,14.1\\nSaint Vincent and the Grenadines,VCT,1996,14.11\\nSaint Vincent and the Grenadines,VCT,1997,14.14\\nSaint Vincent and the Grenadines,VCT,1998,14.18\\nSaint Vincent and the Grenadines,VCT,1999,14.22\\nSaint Vincent and the Grenadines,VCT,2000,14.24\\nSaint Vincent and the Grenadines,VCT,2001,14.25\\nSaint Vincent and the Grenadines,VCT,2002,14.25\\nSaint Vincent and the Grenadines,VCT,2003,14.26\\nSaint Vincent and the Grenadines,VCT,2004,14.26\\nSaint Vincent and the Grenadines,VCT,2005,14.26\\nSaint Vincent and the Grenadines,VCT,2006,14.26\\nSaint Vincent and the Grenadines,VCT,2007,14.26\\nSaint Vincent and the Grenadines,VCT,2008,14.27\\nSaint Vincent and the Grenadines,VCT,2009,14.27\\nSaint Vincent and the Grenadines,VCT,2010,14.27\\nSaint Vincent and the Grenadines,VCT,2011,14.29\\nSaint Vincent and the Grenadines,VCT,2012,14.31\\nSaint Vincent and the Grenadines,VCT,2013,14.34\\nSaint Vincent and the Grenadines,VCT,2014,14.37\\nSaint Vincent and the Grenadines,VCT,2015,14.38\\nSaint Vincent and the Grenadines,VCT,2016,14.37\\nSaint Vincent and the Grenadines,VCT,2017,14.37\\nSaint Vincent and the Grenadines,VCT,2018,14.39\\nSaint Vincent and the Grenadines,VCT,2019,14.45\\nSamoa,WSM,1990,11.79\\nSamoa,WSM,1991,11.8\\nSamoa,WSM,1992,11.8\\nSamoa,WSM,1993,11.8\\nSamoa,WSM,1994,11.8\\nSamoa,WSM,1995,11.79\\nSamoa,WSM,1996,11.79\\nSamoa,WSM,1997,11.78\\nSamoa,WSM,1998,11.77\\nSamoa,WSM,1999,11.76\\nSamoa,WSM,2000,11.74\\nSamoa,WSM,2001,11.72\\nSamoa,WSM,2002,11.69\\nSamoa,WSM,2003,11.67\\nSamoa,WSM,2004,11.64\\nSamoa,WSM,2005,11.62\\nSamoa,WSM,2006,11.6\\nSamoa,WSM,2007,11.59\\nSamoa,WSM,2008,11.57\\nSamoa,WSM,2009,11.57\\nSamoa,WSM,2010,11.56\\nSamoa,WSM,2011,11.57\\nSamoa,WSM,2012,11.57\\nSamoa,WSM,2013,11.57\\nSamoa,WSM,2014,11.58\\nSamoa,WSM,2015,11.58\\nSamoa,WSM,2016,11.56\\nSamoa,WSM,2017,11.55\\nSamoa,WSM,2018,11.56\\nSamoa,WSM,2019,11.59\\nSan Marino,SMR,1990,15.77\\nSan Marino,SMR,1991,15.78\\nSan Marino,SMR,1992,15.79\\nSan Marino,SMR,1993,15.8\\nSan Marino,SMR,1994,15.8\\nSan Marino,SMR,1995,15.81\\nSan Marino,SMR,1996,15.82\\nSan Marino,SMR,1997,15.83\\nSan Marino,SMR,1998,15.83\\nSan Marino,SMR,1999,15.84\\nSan Marino,SMR,2000,15.85\\nSan Marino,SMR,2001,15.85\\nSan Marino,SMR,2002,15.86\\nSan Marino,SMR,2003,15.87\\nSan Marino,SMR,2004,15.88\\nSan Marino,SMR,2005,15.89\\nSan Marino,SMR,2006,15.89\\nSan Marino,SMR,2007,15.89\\nSan Marino,SMR,2008,15.88\\nSan Marino,SMR,2009,15.88\\nSan Marino,SMR,2010,15.88\\nSan Marino,SMR,2011,15.89\\nSan Marino,SMR,2012,15.9\\nSan Marino,SMR,2013,15.92\\nSan Marino,SMR,2014,15.93\\nSan Marino,SMR,2015,15.93\\nSan Marino,SMR,2016,15.94\\nSan Marino,SMR,2017,15.94\\nSan Marino,SMR,2018,15.94\\nSan Marino,SMR,2019,15.94\\nSao Tome and Principe,STP,1990,10.87\\nSao Tome and Principe,STP,1991,10.86\\nSao Tome and Principe,STP,1992,10.85\\nSao Tome and Principe,STP,1993,10.84\\nSao Tome and Principe,STP,1994,10.84\\nSao Tome and Principe,STP,1995,10.84\\nSao Tome and Principe,STP,1996,10.84\\nSao Tome and Principe,STP,1997,10.83\\nSao Tome and Principe,STP,1998,10.83\\nSao Tome and Principe,STP,1999,10.82\\nSao Tome and Principe,STP,2000,10.82\\nSao Tome and Principe,STP,2001,10.83\\nSao Tome and Principe,STP,2002,10.85\\nSao Tome and Principe,STP,2003,10.87\\nSao Tome and Principe,STP,2004,10.9\\nSao Tome and Principe,STP,2005,10.92\\nSao Tome and Principe,STP,2006,10.92\\nSao Tome and Principe,STP,2007,10.92\\nSao Tome and Principe,STP,2008,10.91\\nSao Tome and Principe,STP,2009,10.91\\nSao Tome and Principe,STP,2010,10.91\\nSao Tome and Principe,STP,2011,10.91\\nSao Tome and Principe,STP,2012,10.91\\nSao Tome and Principe,STP,2013,10.92\\nSao Tome and Principe,STP,2014,10.92\\nSao Tome and Principe,STP,2015,10.93\\nSao Tome and Principe,STP,2016,10.93\\nSao Tome and Principe,STP,2017,10.94\\nSao Tome and Principe,STP,2018,10.96\\nSao Tome and Principe,STP,2019,11\\nSaudi Arabia,SAU,1990,13.32\\nSaudi Arabia,SAU,1991,13.31\\nSaudi Arabia,SAU,1992,13.29\\nSaudi Arabia,SAU,1993,13.29\\nSaudi Arabia,SAU,1994,13.29\\nSaudi Arabia,SAU,1995,13.29\\nSaudi Arabia,SAU,1996,13.3\\nSaudi Arabia,SAU,1997,13.31\\nSaudi Arabia,SAU,1998,13.32\\nSaudi Arabia,SAU,1999,13.33\\nSaudi Arabia,SAU,2000,13.34\\nSaudi Arabia,SAU,2001,13.36\\nSaudi Arabia,SAU,2002,13.38\\nSaudi Arabia,SAU,2003,13.41\\nSaudi Arabia,SAU,2004,13.44\\nSaudi Arabia,SAU,2005,13.45\\nSaudi Arabia,SAU,2006,13.48\\nSaudi Arabia,SAU,2007,13.51\\nSaudi Arabia,SAU,2008,13.54\\nSaudi Arabia,SAU,2009,13.57\\nSaudi Arabia,SAU,2010,13.59\\nSaudi Arabia,SAU,2011,13.61\\nSaudi Arabia,SAU,2012,13.64\\nSaudi Arabia,SAU,2013,13.67\\nSaudi Arabia,SAU,2014,13.69\\nSaudi Arabia,SAU,2015,13.7\\nSaudi Arabia,SAU,2016,13.67\\nSaudi Arabia,SAU,2017,13.63\\nSaudi Arabia,SAU,2018,13.65\\nSaudi Arabia,SAU,2019,13.7\\nScotland,,1990,14.27\\nScotland,,1991,14.17\\nScotland,,1992,14.07\\nScotland,,1993,14\\nScotland,,1994,13.94\\nScotland,,1995,13.91\\nScotland,,1996,13.9\\nScotland,,1997,13.9\\nScotland,,1998,13.89\\nScotland,,1999,13.89\\nScotland,,2000,13.88\\nScotland,,2001,13.87\\nScotland,,2002,13.85\\nScotland,,2003,13.83\\nScotland,,2004,13.81\\nScotland,,2005,13.8\\nScotland,,2006,13.8\\nScotland,,2007,13.82\\nScotland,,2008,13.85\\nScotland,,2009,13.88\\nScotland,,2010,13.9\\nScotland,,2011,13.93\\nScotland,,2012,13.95\\nScotland,,2013,13.98\\nScotland,,2014,13.99\\nScotland,,2015,13.98\\nScotland,,2016,13.93\\nScotland,,2017,13.89\\nScotland,,2018,13.9\\nScotland,,2019,13.94\\nSenegal,SEN,1990,10.91\\nSenegal,SEN,1991,10.91\\nSenegal,SEN,1992,10.91\\nSenegal,SEN,1993,10.91\\nSenegal,SEN,1994,10.91\\nSenegal,SEN,1995,10.91\\nSenegal,SEN,1996,10.91\\nSenegal,SEN,1997,10.91\\nSenegal,SEN,1998,10.91\\nSenegal,SEN,1999,10.9\\nSenegal,SEN,2000,10.9\\nSenegal,SEN,2001,10.9\\nSenegal,SEN,2002,10.9\\nSenegal,SEN,2003,10.91\\nSenegal,SEN,2004,10.91\\nSenegal,SEN,2005,10.9\\nSenegal,SEN,2006,10.9\\nSenegal,SEN,2007,10.89\\nSenegal,SEN,2008,10.87\\nSenegal,SEN,2009,10.86\\nSenegal,SEN,2010,10.86\\nSenegal,SEN,2011,10.86\\nSenegal,SEN,2012,10.88\\nSenegal,SEN,2013,10.91\\nSenegal,SEN,2014,10.93\\nSenegal,SEN,2015,10.94\\nSenegal,SEN,2016,10.95\\nSenegal,SEN,2017,10.95\\nSenegal,SEN,2018,10.97\\nSenegal,SEN,2019,11\\nSerbia,SRB,1990,11.5\\nSerbia,SRB,1991,11.52\\nSerbia,SRB,1992,11.54\\nSerbia,SRB,1993,11.56\\nSerbia,SRB,1994,11.57\\nSerbia,SRB,1995,11.58\\nSerbia,SRB,1996,11.59\\nSerbia,SRB,1997,11.61\\nSerbia,SRB,1998,11.62\\nSerbia,SRB,1999,11.63\\nSerbia,SRB,2000,11.62\\nSerbia,SRB,2001,11.61\\nSerbia,SRB,2002,11.56\\nSerbia,SRB,2003,11.51\\nSerbia,SRB,2004,11.46\\nSerbia,SRB,2005,11.43\\nSerbia,SRB,2006,11.41\\nSerbia,SRB,2007,11.39\\nSerbia,SRB,2008,11.36\\nSerbia,SRB,2009,11.34\\nSerbia,SRB,2010,11.33\\nSerbia,SRB,2011,11.33\\nSerbia,SRB,2012,11.34\\nSerbia,SRB,2013,11.35\\nSerbia,SRB,2014,11.36\\nSerbia,SRB,2015,11.37\\nSerbia,SRB,2016,11.39\\nSerbia,SRB,2017,11.42\\nSerbia,SRB,2018,11.4\\nSerbia,SRB,2019,11.38\\nSeychelles,SYC,1990,11.04\\nSeychelles,SYC,1991,11.03\\nSeychelles,SYC,1992,11.02\\nSeychelles,SYC,1993,11\\nSeychelles,SYC,1994,10.99\\nSeychelles,SYC,1995,10.97\\nSeychelles,SYC,1996,10.96\\nSeychelles,SYC,1997,10.95\\nSeychelles,SYC,1998,10.93\\nSeychelles,SYC,1999,10.93\\nSeychelles,SYC,2000,10.92\\nSeychelles,SYC,2001,10.92\\nSeychelles,SYC,2002,10.92\\nSeychelles,SYC,2003,10.92\\nSeychelles,SYC,2004,10.92\\nSeychelles,SYC,2005,10.91\\nSeychelles,SYC,2006,10.9\\nSeychelles,SYC,2007,10.88\\nSeychelles,SYC,2008,10.86\\nSeychelles,SYC,2009,10.85\\nSeychelles,SYC,2010,10.84\\nSeychelles,SYC,2011,10.84\\nSeychelles,SYC,2012,10.84\\nSeychelles,SYC,2013,10.84\\nSeychelles,SYC,2014,10.85\\nSeychelles,SYC,2015,10.84\\nSeychelles,SYC,2016,10.84\\nSeychelles,SYC,2017,10.84\\nSeychelles,SYC,2018,10.84\\nSeychelles,SYC,2019,10.86\\nSierra Leone,SLE,1990,11.93\\nSierra Leone,SLE,1991,11.93\\nSierra Leone,SLE,1992,11.94\\nSierra Leone,SLE,1993,11.95\\nSierra Leone,SLE,1994,11.96\\nSierra Leone,SLE,1995,11.98\\nSierra Leone,SLE,1996,12.01\\nSierra Leone,SLE,1997,12.08\\nSierra Leone,SLE,1998,12.16\\nSierra Leone,SLE,1999,12.23\\nSierra Leone,SLE,2000,12.28\\nSierra Leone,SLE,2001,12.31\\nSierra Leone,SLE,2002,12.34\\nSierra Leone,SLE,2003,12.37\\nSierra Leone,SLE,2004,12.39\\nSierra Leone,SLE,2005,12.41\\nSierra Leone,SLE,2006,12.41\\nSierra Leone,SLE,2007,12.41\\nSierra Leone,SLE,2008,12.41\\nSierra Leone,SLE,2009,12.4\\nSierra Leone,SLE,2010,12.39\\nSierra Leone,SLE,2011,12.37\\nSierra Leone,SLE,2012,12.35\\nSierra Leone,SLE,2013,12.33\\nSierra Leone,SLE,2014,12.32\\nSierra Leone,SLE,2015,12.31\\nSierra Leone,SLE,2016,12.33\\nSierra Leone,SLE,2017,12.34\\nSierra Leone,SLE,2018,12.34\\nSierra Leone,SLE,2019,12.33\\nSlovakia,SVK,1990,11.52\\nSlovakia,SVK,1991,11.54\\nSlovakia,SVK,1992,11.55\\nSlovakia,SVK,1993,11.56\\nSlovakia,SVK,1994,11.56\\nSlovakia,SVK,1995,11.57\\nSlovakia,SVK,1996,11.57\\nSlovakia,SVK,1997,11.57\\nSlovakia,SVK,1998,11.56\\nSlovakia,SVK,1999,11.55\\nSlovakia,SVK,2000,11.54\\nSlovakia,SVK,2001,11.53\\nSlovakia,SVK,2002,11.51\\nSlovakia,SVK,2003,11.49\\nSlovakia,SVK,2004,11.47\\nSlovakia,SVK,2005,11.46\\nSlovakia,SVK,2006,11.43\\nSlovakia,SVK,2007,11.4\\nSlovakia,SVK,2008,11.37\\nSlovakia,SVK,2009,11.35\\nSlovakia,SVK,2010,11.32\\nSlovakia,SVK,2011,11.31\\nSlovakia,SVK,2012,11.29\\nSlovakia,SVK,2013,11.28\\nSlovakia,SVK,2014,11.26\\nSlovakia,SVK,2015,11.25\\nSlovakia,SVK,2016,11.24\\nSlovakia,SVK,2017,11.22\\nSlovakia,SVK,2018,11.21\\nSlovakia,SVK,2019,11.21\\nSlovenia,SVN,1990,12.23\\nSlovenia,SVN,1991,12.25\\nSlovenia,SVN,1992,12.26\\nSlovenia,SVN,1993,12.27\\nSlovenia,SVN,1994,12.27\\nSlovenia,SVN,1995,12.28\\nSlovenia,SVN,1996,12.27\\nSlovenia,SVN,1997,12.25\\nSlovenia,SVN,1998,12.22\\nSlovenia,SVN,1999,12.19\\nSlovenia,SVN,2000,12.16\\nSlovenia,SVN,2001,12.13\\nSlovenia,SVN,2002,12.09\\nSlovenia,SVN,2003,12.06\\nSlovenia,SVN,2004,12.02\\nSlovenia,SVN,2005,11.98\\nSlovenia,SVN,2006,11.94\\nSlovenia,SVN,2007,11.88\\nSlovenia,SVN,2008,11.83\\nSlovenia,SVN,2009,11.77\\nSlovenia,SVN,2010,11.74\\nSlovenia,SVN,2011,11.72\\nSlovenia,SVN,2012,11.7\\nSlovenia,SVN,2013,11.68\\nSlovenia,SVN,2014,11.67\\nSlovenia,SVN,2015,11.66\\nSlovenia,SVN,2016,11.66\\nSlovenia,SVN,2017,11.66\\nSlovenia,SVN,2018,11.65\\nSlovenia,SVN,2019,11.63\\nSolomon Islands,SLB,1990,12.17\\nSolomon Islands,SLB,1991,12.16\\nSolomon Islands,SLB,1992,12.15\\nSolomon Islands,SLB,1993,12.14\\nSolomon Islands,SLB,1994,12.13\\nSolomon Islands,SLB,1995,12.13\\nSolomon Islands,SLB,1996,12.13\\nSolomon Islands,SLB,1997,12.13\\nSolomon Islands,SLB,1998,12.13\\nSolomon Islands,SLB,1999,12.13\\nSolomon Islands,SLB,2000,12.13\\nSolomon Islands,SLB,2001,12.14\\nSolomon Islands,SLB,2002,12.16\\nSolomon Islands,SLB,2003,12.19\\nSolomon Islands,SLB,2004,12.21\\nSolomon Islands,SLB,2005,12.22\\nSolomon Islands,SLB,2006,12.23\\nSolomon Islands,SLB,2007,12.24\\nSolomon Islands,SLB,2008,12.25\\nSolomon Islands,SLB,2009,12.26\\nSolomon Islands,SLB,2010,12.27\\nSolomon Islands,SLB,2011,12.27\\nSolomon Islands,SLB,2012,12.27\\nSolomon Islands,SLB,2013,12.27\\nSolomon Islands,SLB,2014,12.26\\nSolomon Islands,SLB,2015,12.25\\nSolomon Islands,SLB,2016,12.23\\nSolomon Islands,SLB,2017,12.21\\nSolomon Islands,SLB,2018,12.21\\nSolomon Islands,SLB,2019,12.23\\nSomalia,SOM,1990,13.82\\nSomalia,SOM,1991,13.85\\nSomalia,SOM,1992,13.88\\nSomalia,SOM,1993,13.92\\nSomalia,SOM,1994,13.96\\nSomalia,SOM,1995,14\\nSomalia,SOM,1996,14.06\\nSomalia,SOM,1997,14.12\\nSomalia,SOM,1998,14.19\\nSomalia,SOM,1999,14.25\\nSomalia,SOM,2000,14.28\\nSomalia,SOM,2001,14.31\\nSomalia,SOM,2002,14.33\\nSomalia,SOM,2003,14.35\\nSomalia,SOM,2004,14.37\\nSomalia,SOM,2005,14.38\\nSomalia,SOM,2006,14.38\\nSomalia,SOM,2007,14.37\\nSomalia,SOM,2008,14.36\\nSomalia,SOM,2009,14.35\\nSomalia,SOM,2010,14.35\\nSomalia,SOM,2011,14.35\\nSomalia,SOM,2012,14.35\\nSomalia,SOM,2013,14.34\\nSomalia,SOM,2014,14.34\\nSomalia,SOM,2015,14.33\\nSomalia,SOM,2016,14.33\\nSomalia,SOM,2017,14.33\\nSomalia,SOM,2018,14.34\\nSomalia,SOM,2019,14.36\\nSouth Africa,ZAF,1990,11.81\\nSouth Africa,ZAF,1991,11.77\\nSouth Africa,ZAF,1992,11.74\\nSouth Africa,ZAF,1993,11.71\\nSouth Africa,ZAF,1994,11.69\\nSouth Africa,ZAF,1995,11.68\\nSouth Africa,ZAF,1996,11.69\\nSouth Africa,ZAF,1997,11.7\\nSouth Africa,ZAF,1998,11.72\\nSouth Africa,ZAF,1999,11.74\\nSouth Africa,ZAF,2000,11.75\\nSouth Africa,ZAF,2001,11.74\\nSouth Africa,ZAF,2002,11.73\\nSouth Africa,ZAF,2003,11.72\\nSouth Africa,ZAF,2004,11.71\\nSouth Africa,ZAF,2005,11.71\\nSouth Africa,ZAF,2006,11.72\\nSouth Africa,ZAF,2007,11.74\\nSouth Africa,ZAF,2008,11.75\\nSouth Africa,ZAF,2009,11.77\\nSouth Africa,ZAF,2010,11.79\\nSouth Africa,ZAF,2011,11.82\\nSouth Africa,ZAF,2012,11.85\\nSouth Africa,ZAF,2013,11.89\\nSouth Africa,ZAF,2014,11.92\\nSouth Africa,ZAF,2015,11.95\\nSouth Africa,ZAF,2016,12.01\\nSouth Africa,ZAF,2017,12.07\\nSouth Africa,ZAF,2018,12.05\\nSouth Africa,ZAF,2019,12.01\\nSouth Asia (WB),,1990,14.01\\nSouth Asia (WB),,1991,14.08\\nSouth Asia (WB),,1992,14.14\\nSouth Asia (WB),,1993,14.18\\nSouth Asia (WB),,1994,14.2\\nSouth Asia (WB),,1995,14.19\\nSouth Asia (WB),,1996,14.15\\nSouth Asia (WB),,1997,14.08\\nSouth Asia (WB),,1998,14\\nSouth Asia (WB),,1999,13.94\\nSouth Asia (WB),,2000,13.91\\nSouth Asia (WB),,2001,13.92\\nSouth Asia (WB),,2002,13.96\\nSouth Asia (WB),,2003,14\\nSouth Asia (WB),,2004,14.04\\nSouth Asia (WB),,2005,14.06\\nSouth Asia (WB),,2006,14.02\\nSouth Asia (WB),,2007,13.92\\nSouth Asia (WB),,2008,13.8\\nSouth Asia (WB),,2009,13.7\\nSouth Asia (WB),,2010,13.65\\nSouth Asia (WB),,2011,13.65\\nSouth Asia (WB),,2012,13.65\\nSouth Asia (WB),,2013,13.66\\nSouth Asia (WB),,2014,13.66\\nSouth Asia (WB),,2015,13.65\\nSouth Asia (WB),,2016,13.64\\nSouth Asia (WB),,2017,13.62\\nSouth Asia (WB),,2018,13.58\\nSouth Asia (WB),,2019,13.51\\nSouth Sudan,SSD,1990,12.96\\nSouth Sudan,SSD,1991,12.96\\nSouth Sudan,SSD,1992,12.97\\nSouth Sudan,SSD,1993,12.98\\nSouth Sudan,SSD,1994,12.98\\nSouth Sudan,SSD,1995,12.99\\nSouth Sudan,SSD,1996,13\\nSouth Sudan,SSD,1997,13.01\\nSouth Sudan,SSD,1998,13.02\\nSouth Sudan,SSD,1999,13.03\\nSouth Sudan,SSD,2000,13.04\\nSouth Sudan,SSD,2001,13.04\\nSouth Sudan,SSD,2002,13.05\\nSouth Sudan,SSD,2003,13.06\\nSouth Sudan,SSD,2004,13.06\\nSouth Sudan,SSD,2005,13.07\\nSouth Sudan,SSD,2006,13.07\\nSouth Sudan,SSD,2007,13.07\\nSouth Sudan,SSD,2008,13.08\\nSouth Sudan,SSD,2009,13.09\\nSouth Sudan,SSD,2010,13.1\\nSouth Sudan,SSD,2011,13.11\\nSouth Sudan,SSD,2012,13.14\\nSouth Sudan,SSD,2013,13.18\\nSouth Sudan,SSD,2014,13.21\\nSouth Sudan,SSD,2015,13.24\\nSouth Sudan,SSD,2016,13.28\\nSouth Sudan,SSD,2017,13.3\\nSouth Sudan,SSD,2018,13.31\\nSouth Sudan,SSD,2019,13.31\\nSouth-East Asia Region (WHO),,1990,13.52\\nSouth-East Asia Region (WHO),,1991,13.57\\nSouth-East Asia Region (WHO),,1992,13.62\\nSouth-East Asia Region (WHO),,1993,13.64\\nSouth-East Asia Region (WHO),,1994,13.65\\nSouth-East Asia Region (WHO),,1995,13.64\\nSouth-East Asia Region (WHO),,1996,13.6\\nSouth-East Asia Region (WHO),,1997,13.54\\nSouth-East Asia Region (WHO),,1998,13.47\\nSouth-East Asia Region (WHO),,1999,13.41\\nSouth-East Asia Region (WHO),,2000,13.38\\nSouth-East Asia Region (WHO),,2001,13.39\\nSouth-East Asia Region (WHO),,2002,13.42\\nSouth-East Asia Region (WHO),,2003,13.46\\nSouth-East Asia Region (WHO),,2004,13.5\\nSouth-East Asia Region (WHO),,2005,13.51\\nSouth-East Asia Region (WHO),,2006,13.47\\nSouth-East Asia Region (WHO),,2007,13.38\\nSouth-East Asia Region (WHO),,2008,13.27\\nSouth-East Asia Region (WHO),,2009,13.18\\nSouth-East Asia Region (WHO),,2010,13.13\\nSouth-East Asia Region (WHO),,2011,13.13\\nSouth-East Asia Region (WHO),,2012,13.13\\nSouth-East Asia Region (WHO),,2013,13.13\\nSouth-East Asia Region (WHO),,2014,13.12\\nSouth-East Asia Region (WHO),,2015,13.11\\nSouth-East Asia Region (WHO),,2016,13.1\\nSouth-East Asia Region (WHO),,2017,13.08\\nSouth-East Asia Region (WHO),,2018,13.04\\nSouth-East Asia Region (WHO),,2019,12.97\\nSpain,ESP,1990,17.43\\nSpain,ESP,1991,17.38\\nSpain,ESP,1992,17.33\\nSpain,ESP,1993,17.29\\nSpain,ESP,1994,17.25\\nSpain,ESP,1995,17.21\\nSpain,ESP,1996,17.16\\nSpain,ESP,1997,17.06\\nSpain,ESP,1998,16.95\\nSpain,ESP,1999,16.87\\nSpain,ESP,2000,16.83\\nSpain,ESP,2001,16.86\\nSpain,ESP,2002,16.94\\nSpain,ESP,2003,17.07\\nSpain,ESP,2004,17.2\\nSpain,ESP,2005,17.31\\nSpain,ESP,2006,17.47\\nSpain,ESP,2007,17.72\\nSpain,ESP,2008,18\\nSpain,ESP,2009,18.24\\nSpain,ESP,2010,18.38\\nSpain,ESP,2011,18.45\\nSpain,ESP,2012,18.53\\nSpain,ESP,2013,18.61\\nSpain,ESP,2014,18.67\\nSpain,ESP,2015,18.72\\nSpain,ESP,2016,18.76\\nSpain,ESP,2017,18.8\\nSpain,ESP,2018,18.66\\nSpain,ESP,2019,18.32\\nSri Lanka,LKA,1990,12.27\\nSri Lanka,LKA,1991,12.25\\nSri Lanka,LKA,1992,12.23\\nSri Lanka,LKA,1993,12.21\\nSri Lanka,LKA,1994,12.18\\nSri Lanka,LKA,1995,12.16\\nSri Lanka,LKA,1996,12.11\\nSri Lanka,LKA,1997,12.04\\nSri Lanka,LKA,1998,11.97\\nSri Lanka,LKA,1999,11.9\\nSri Lanka,LKA,2000,11.84\\nSri Lanka,LKA,2001,11.8\\nSri Lanka,LKA,2002,11.77\\nSri Lanka,LKA,2003,11.75\\nSri Lanka,LKA,2004,11.72\\nSri Lanka,LKA,2005,11.69\\nSri Lanka,LKA,2006,11.65\\nSri Lanka,LKA,2007,11.6\\nSri Lanka,LKA,2008,11.55\\nSri Lanka,LKA,2009,11.51\\nSri Lanka,LKA,2010,11.48\\nSri Lanka,LKA,2011,11.47\\nSri Lanka,LKA,2012,11.46\\nSri Lanka,LKA,2013,11.46\\nSri Lanka,LKA,2014,11.46\\nSri Lanka,LKA,2015,11.46\\nSri Lanka,LKA,2016,11.46\\nSri Lanka,LKA,2017,11.46\\nSri Lanka,LKA,2018,11.45\\nSri Lanka,LKA,2019,11.45\\nSub-Saharan Africa (WB),,1990,12.48\\nSub-Saharan Africa (WB),,1991,12.48\\nSub-Saharan Africa (WB),,1992,12.48\\nSub-Saharan Africa (WB),,1993,12.49\\nSub-Saharan Africa (WB),,1994,12.49\\nSub-Saharan Africa (WB),,1995,12.5\\nSub-Saharan Africa (WB),,1996,12.52\\nSub-Saharan Africa (WB),,1997,12.55\\nSub-Saharan Africa (WB),,1998,12.58\\nSub-Saharan Africa (WB),,1999,12.6\\nSub-Saharan Africa (WB),,2000,12.61\\nSub-Saharan Africa (WB),,2001,12.61\\nSub-Saharan Africa (WB),,2002,12.6\\nSub-Saharan Africa (WB),,2003,12.59\\nSub-Saharan Africa (WB),,2004,12.58\\nSub-Saharan Africa (WB),,2005,12.57\\nSub-Saharan Africa (WB),,2006,12.55\\nSub-Saharan Africa (WB),,2007,12.53\\nSub-Saharan Africa (WB),,2008,12.51\\nSub-Saharan Africa (WB),,2009,12.48\\nSub-Saharan Africa (WB),,2010,12.45\\nSub-Saharan Africa (WB),,2011,12.42\\nSub-Saharan Africa (WB),,2012,12.38\\nSub-Saharan Africa (WB),,2013,12.35\\nSub-Saharan Africa (WB),,2014,12.32\\nSub-Saharan Africa (WB),,2015,12.31\\nSub-Saharan Africa (WB),,2016,12.31\\nSub-Saharan Africa (WB),,2017,12.32\\nSub-Saharan Africa (WB),,2018,12.31\\nSub-Saharan Africa (WB),,2019,12.31\\nSudan,SDN,1990,16.77\\nSudan,SDN,1991,16.77\\nSudan,SDN,1992,16.76\\nSudan,SDN,1993,16.76\\nSudan,SDN,1994,16.75\\nSudan,SDN,1995,16.75\\nSudan,SDN,1996,16.74\\nSudan,SDN,1997,16.72\\nSudan,SDN,1998,16.69\\nSudan,SDN,1999,16.66\\nSudan,SDN,2000,16.62\\nSudan,SDN,2001,16.58\\nSudan,SDN,2002,16.52\\nSudan,SDN,2003,16.47\\nSudan,SDN,2004,16.41\\nSudan,SDN,2005,16.36\\nSudan,SDN,2006,16.3\\nSudan,SDN,2007,16.25\\nSudan,SDN,2008,16.2\\nSudan,SDN,2009,16.15\\nSudan,SDN,2010,16.11\\nSudan,SDN,2011,16.08\\nSudan,SDN,2012,16.06\\nSudan,SDN,2013,16.04\\nSudan,SDN,2014,16.02\\nSudan,SDN,2015,16.01\\nSudan,SDN,2016,15.99\\nSudan,SDN,2017,15.98\\nSudan,SDN,2018,15.98\\nSudan,SDN,2019,15.99\\nSuriname,SUR,1990,15.15\\nSuriname,SUR,1991,15.16\\nSuriname,SUR,1992,15.17\\nSuriname,SUR,1993,15.18\\nSuriname,SUR,1994,15.19\\nSuriname,SUR,1995,15.2\\nSuriname,SUR,1996,15.21\\nSuriname,SUR,1997,15.23\\nSuriname,SUR,1998,15.25\\nSuriname,SUR,1999,15.27\\nSuriname,SUR,2000,15.29\\nSuriname,SUR,2001,15.32\\nSuriname,SUR,2002,15.35\\nSuriname,SUR,2003,15.38\\nSuriname,SUR,2004,15.4\\nSuriname,SUR,2005,15.41\\nSuriname,SUR,2006,15.42\\nSuriname,SUR,2007,15.43\\nSuriname,SUR,2008,15.43\\nSuriname,SUR,2009,15.44\\nSuriname,SUR,2010,15.44\\nSuriname,SUR,2011,15.45\\nSuriname,SUR,2012,15.46\\nSuriname,SUR,2013,15.46\\nSuriname,SUR,2014,15.47\\nSuriname,SUR,2015,15.47\\nSuriname,SUR,2016,15.48\\nSuriname,SUR,2017,15.48\\nSuriname,SUR,2018,15.47\\nSuriname,SUR,2019,15.45\\nSweden,SWE,1990,15.3\\nSweden,SWE,1991,15.34\\nSweden,SWE,1992,15.37\\nSweden,SWE,1993,15.4\\nSweden,SWE,1994,15.41\\nSweden,SWE,1995,15.43\\nSweden,SWE,1996,15.43\\nSweden,SWE,1997,15.42\\nSweden,SWE,1998,15.42\\nSweden,SWE,1999,15.42\\nSweden,SWE,2000,15.42\\nSweden,SWE,2001,15.43\\nSweden,SWE,2002,15.44\\nSweden,SWE,2003,15.45\\nSweden,SWE,2004,15.46\\nSweden,SWE,2005,15.46\\nSweden,SWE,2006,15.46\\nSweden,SWE,2007,15.44\\nSweden,SWE,2008,15.41\\nSweden,SWE,2009,15.39\\nSweden,SWE,2010,15.38\\nSweden,SWE,2011,15.37\\nSweden,SWE,2012,15.36\\nSweden,SWE,2013,15.35\\nSweden,SWE,2014,15.33\\nSweden,SWE,2015,15.33\\nSweden,SWE,2016,15.33\\nSweden,SWE,2017,15.32\\nSweden,SWE,2018,15.32\\nSweden,SWE,2019,15.33\\nSwitzerland,CHE,1990,17.38\\nSwitzerland,CHE,1991,17.38\\nSwitzerland,CHE,1992,17.39\\nSwitzerland,CHE,1993,17.38\\nSwitzerland,CHE,1994,17.37\\nSwitzerland,CHE,1995,17.36\\nSwitzerland,CHE,1996,17.34\\nSwitzerland,CHE,1997,17.32\\nSwitzerland,CHE,1998,17.29\\nSwitzerland,CHE,1999,17.25\\nSwitzerland,CHE,2000,17.2\\nSwitzerland,CHE,2001,17.09\\nSwitzerland,CHE,2002,16.89\\nSwitzerland,CHE,2003,16.66\\nSwitzerland,CHE,2004,16.48\\nSwitzerland,CHE,2005,16.4\\nSwitzerland,CHE,2006,16.5\\nSwitzerland,CHE,2007,16.7\\nSwitzerland,CHE,2008,16.94\\nSwitzerland,CHE,2009,17.14\\nSwitzerland,CHE,2010,17.23\\nSwitzerland,CHE,2011,17.22\\nSwitzerland,CHE,2012,17.21\\nSwitzerland,CHE,2013,17.19\\nSwitzerland,CHE,2014,17.18\\nSwitzerland,CHE,2015,17.17\\nSwitzerland,CHE,2016,17.18\\nSwitzerland,CHE,2017,17.18\\nSwitzerland,CHE,2018,17.14\\nSwitzerland,CHE,2019,17.07\\nSyria,SYR,1990,16.06\\nSyria,SYR,1991,16.04\\nSyria,SYR,1992,16.02\\nSyria,SYR,1993,16\\nSyria,SYR,1994,15.98\\nSyria,SYR,1995,15.96\\nSyria,SYR,1996,15.94\\nSyria,SYR,1997,15.93\\nSyria,SYR,1998,15.91\\nSyria,SYR,1999,15.9\\nSyria,SYR,2000,15.89\\nSyria,SYR,2001,15.87\\nSyria,SYR,2002,15.86\\nSyria,SYR,2003,15.84\\nSyria,SYR,2004,15.83\\nSyria,SYR,2005,15.8\\nSyria,SYR,2006,15.77\\nSyria,SYR,2007,15.73\\nSyria,SYR,2008,15.68\\nSyria,SYR,2009,15.66\\nSyria,SYR,2010,15.66\\nSyria,SYR,2011,15.7\\nSyria,SYR,2012,15.77\\nSyria,SYR,2013,15.85\\nSyria,SYR,2014,15.94\\nSyria,SYR,2015,16\\nSyria,SYR,2016,16.04\\nSyria,SYR,2017,16.08\\nSyria,SYR,2018,16.16\\nSyria,SYR,2019,16.28\\nTaiwan,TWN,1990,10.83\\nTaiwan,TWN,1991,10.76\\nTaiwan,TWN,1992,10.7\\nTaiwan,TWN,1993,10.65\\nTaiwan,TWN,1994,10.62\\nTaiwan,TWN,1995,10.6\\nTaiwan,TWN,1996,10.6\\nTaiwan,TWN,1997,10.61\\nTaiwan,TWN,1998,10.63\\nTaiwan,TWN,1999,10.64\\nTaiwan,TWN,2000,10.65\\nTaiwan,TWN,2001,10.64\\nTaiwan,TWN,2002,10.61\\nTaiwan,TWN,2003,10.57\\nTaiwan,TWN,2004,10.54\\nTaiwan,TWN,2005,10.52\\nTaiwan,TWN,2006,10.52\\nTaiwan,TWN,2007,10.51\\nTaiwan,TWN,2008,10.5\\nTaiwan,TWN,2009,10.49\\nTaiwan,TWN,2010,10.49\\nTaiwan,TWN,2011,10.49\\nTaiwan,TWN,2012,10.51\\nTaiwan,TWN,2013,10.52\\nTaiwan,TWN,2014,10.54\\nTaiwan,TWN,2015,10.54\\nTaiwan,TWN,2016,10.51\\nTaiwan,TWN,2017,10.48\\nTaiwan,TWN,2018,10.51\\nTaiwan,TWN,2019,10.6\\nTajikistan,TJK,1990,10.71\\nTajikistan,TJK,1991,10.75\\nTajikistan,TJK,1992,10.79\\nTajikistan,TJK,1993,10.84\\nTajikistan,TJK,1994,10.9\\nTajikistan,TJK,1995,10.96\\nTajikistan,TJK,1996,11.05\\nTajikistan,TJK,1997,11.16\\nTajikistan,TJK,1998,11.27\\nTajikistan,TJK,1999,11.35\\nTajikistan,TJK,2000,11.38\\nTajikistan,TJK,2001,11.38\\nTajikistan,TJK,2002,11.38\\nTajikistan,TJK,2003,11.37\\nTajikistan,TJK,2004,11.37\\nTajikistan,TJK,2005,11.36\\nTajikistan,TJK,2006,11.33\\nTajikistan,TJK,2007,11.29\\nTajikistan,TJK,2008,11.24\\nTajikistan,TJK,2009,11.19\\nTajikistan,TJK,2010,11.15\\nTajikistan,TJK,2011,11.13\\nTajikistan,TJK,2012,11.12\\nTajikistan,TJK,2013,11.11\\nTajikistan,TJK,2014,11.1\\nTajikistan,TJK,2015,11.08\\nTajikistan,TJK,2016,11.06\\nTajikistan,TJK,2017,11.04\\nTajikistan,TJK,2018,11.04\\nTajikistan,TJK,2019,11.04\\nTanzania,TZA,1990,12.73\\nTanzania,TZA,1991,12.75\\nTanzania,TZA,1992,12.76\\nTanzania,TZA,1993,12.76\\nTanzania,TZA,1994,12.77\\nTanzania,TZA,1995,12.77\\nTanzania,TZA,1996,12.76\\nTanzania,TZA,1997,12.76\\nTanzania,TZA,1998,12.75\\nTanzania,TZA,1999,12.74\\nTanzania,TZA,2000,12.73\\nTanzania,TZA,2001,12.71\\nTanzania,TZA,2002,12.67\\nTanzania,TZA,2003,12.64\\nTanzania,TZA,2004,12.61\\nTanzania,TZA,2005,12.59\\nTanzania,TZA,2006,12.57\\nTanzania,TZA,2007,12.56\\nTanzania,TZA,2008,12.55\\nTanzania,TZA,2009,12.55\\nTanzania,TZA,2010,12.55\\nTanzania,TZA,2011,12.55\\nTanzania,TZA,2012,12.55\\nTanzania,TZA,2013,12.55\\nTanzania,TZA,2014,12.55\\nTanzania,TZA,2015,12.55\\nTanzania,TZA,2016,12.56\\nTanzania,TZA,2017,12.57\\nTanzania,TZA,2018,12.58\\nTanzania,TZA,2019,12.58\\nThailand,THA,1990,12.66\\nThailand,THA,1991,12.61\\nThailand,THA,1992,12.56\\nThailand,THA,1993,12.52\\nThailand,THA,1994,12.48\\nThailand,THA,1995,12.45\\nThailand,THA,1996,12.43\\nThailand,THA,1997,12.43\\nThailand,THA,1998,12.43\\nThailand,THA,1999,12.43\\nThailand,THA,2000,12.43\\nThailand,THA,2001,12.43\\nThailand,THA,2002,12.43\\nThailand,THA,2003,12.44\\nThailand,THA,2004,12.44\\nThailand,THA,2005,12.43\\nThailand,THA,2006,12.4\\nThailand,THA,2007,12.37\\nThailand,THA,2008,12.34\\nThailand,THA,2009,12.31\\nThailand,THA,2010,12.27\\nThailand,THA,2011,12.23\\nThailand,THA,2012,12.19\\nThailand,THA,2013,12.14\\nThailand,THA,2014,12.1\\nThailand,THA,2015,12.08\\nThailand,THA,2016,12.07\\nThailand,THA,2017,12.06\\nThailand,THA,2018,12.05\\nThailand,THA,2019,12.04\\nTimor,TLS,1990,12.04\\nTimor,TLS,1991,12\\nTimor,TLS,1992,11.96\\nTimor,TLS,1993,11.92\\nTimor,TLS,1994,11.88\\nTimor,TLS,1995,11.85\\nTimor,TLS,1996,11.8\\nTimor,TLS,1997,11.75\\nTimor,TLS,1998,11.7\\nTimor,TLS,1999,11.65\\nTimor,TLS,2000,11.61\\nTimor,TLS,2001,11.6\\nTimor,TLS,2002,11.6\\nTimor,TLS,2003,11.61\\nTimor,TLS,2004,11.62\\nTimor,TLS,2005,11.6\\nTimor,TLS,2006,11.53\\nTimor,TLS,2007,11.41\\nTimor,TLS,2008,11.29\\nTimor,TLS,2009,11.18\\nTimor,TLS,2010,11.12\\nTimor,TLS,2011,11.11\\nTimor,TLS,2012,11.11\\nTimor,TLS,2013,11.12\\nTimor,TLS,2014,11.14\\nTimor,TLS,2015,11.15\\nTimor,TLS,2016,11.16\\nTimor,TLS,2017,11.18\\nTimor,TLS,2018,11.21\\nTimor,TLS,2019,11.24\\nTogo,TGO,1990,12.02\\nTogo,TGO,1991,12.04\\nTogo,TGO,1992,12.05\\nTogo,TGO,1993,12.07\\nTogo,TGO,1994,12.08\\nTogo,TGO,1995,12.09\\nTogo,TGO,1996,12.1\\nTogo,TGO,1997,12.12\\nTogo,TGO,1998,12.14\\nTogo,TGO,1999,12.16\\nTogo,TGO,2000,12.17\\nTogo,TGO,2001,12.18\\nTogo,TGO,2002,12.2\\nTogo,TGO,2003,12.21\\nTogo,TGO,2004,12.22\\nTogo,TGO,2005,12.23\\nTogo,TGO,2006,12.25\\nTogo,TGO,2007,12.27\\nTogo,TGO,2008,12.3\\nTogo,TGO,2009,12.32\\nTogo,TGO,2010,12.34\\nTogo,TGO,2011,12.34\\nTogo,TGO,2012,12.33\\nTogo,TGO,2013,12.32\\nTogo,TGO,2014,12.31\\nTogo,TGO,2015,12.3\\nTogo,TGO,2016,12.3\\nTogo,TGO,2017,12.31\\nTogo,TGO,2018,12.31\\nTogo,TGO,2019,12.31\\nTokelau,TKL,1990,12.02\\nTokelau,TKL,1991,12.03\\nTokelau,TKL,1992,12.03\\nTokelau,TKL,1993,12.04\\nTokelau,TKL,1994,12.04\\nTokelau,TKL,1995,12.04\\nTokelau,TKL,1996,12.04\\nTokelau,TKL,1997,12.04\\nTokelau,TKL,1998,12.04\\nTokelau,TKL,1999,12.04\\nTokelau,TKL,2000,12.03\\nTokelau,TKL,2001,12.02\\nTokelau,TKL,2002,12\\nTokelau,TKL,2003,11.98\\nTokelau,TKL,2004,11.95\\nTokelau,TKL,2005,11.93\\nTokelau,TKL,2006,11.92\\nTokelau,TKL,2007,11.91\\nTokelau,TKL,2008,11.91\\nTokelau,TKL,2009,11.91\\nTokelau,TKL,2010,11.9\\nTokelau,TKL,2011,11.9\\nTokelau,TKL,2012,11.89\\nTokelau,TKL,2013,11.88\\nTokelau,TKL,2014,11.87\\nTokelau,TKL,2015,11.86\\nTokelau,TKL,2016,11.84\\nTokelau,TKL,2017,11.82\\nTokelau,TKL,2018,11.81\\nTokelau,TKL,2019,11.81\\nTonga,TON,1990,11.51\\nTonga,TON,1991,11.5\\nTonga,TON,1992,11.49\\nTonga,TON,1993,11.48\\nTonga,TON,1994,11.48\\nTonga,TON,1995,11.48\\nTonga,TON,1996,11.48\\nTonga,TON,1997,11.48\\nTonga,TON,1998,11.49\\nTonga,TON,1999,11.49\\nTonga,TON,2000,11.5\\nTonga,TON,2001,11.5\\nTonga,TON,2002,11.49\\nTonga,TON,2003,11.49\\nTonga,TON,2004,11.49\\nTonga,TON,2005,11.49\\nTonga,TON,2006,11.49\\nTonga,TON,2007,11.49\\nTonga,TON,2008,11.5\\nTonga,TON,2009,11.51\\nTonga,TON,2010,11.52\\nTonga,TON,2011,11.53\\nTonga,TON,2012,11.53\\nTonga,TON,2013,11.54\\nTonga,TON,2014,11.54\\nTonga,TON,2015,11.54\\nTonga,TON,2016,11.52\\nTonga,TON,2017,11.51\\nTonga,TON,2018,11.52\\nTonga,TON,2019,11.54\\nTrinidad and Tobago,TTO,1990,14.54\\nTrinidad and Tobago,TTO,1991,14.53\\nTrinidad and Tobago,TTO,1992,14.51\\nTrinidad and Tobago,TTO,1993,14.5\\nTrinidad and Tobago,TTO,1994,14.49\\nTrinidad and Tobago,TTO,1995,14.49\\nTrinidad and Tobago,TTO,1996,14.49\\nTrinidad and Tobago,TTO,1997,14.48\\nTrinidad and Tobago,TTO,1998,14.47\\nTrinidad and Tobago,TTO,1999,14.46\\nTrinidad and Tobago,TTO,2000,14.45\\nTrinidad and Tobago,TTO,2001,14.44\\nTrinidad and Tobago,TTO,2002,14.42\\nTrinidad and Tobago,TTO,2003,14.4\\nTrinidad and Tobago,TTO,2004,14.39\\nTrinidad and Tobago,TTO,2005,14.38\\nTrinidad and Tobago,TTO,2006,14.38\\nTrinidad and Tobago,TTO,2007,14.38\\nTrinidad and Tobago,TTO,2008,14.39\\nTrinidad and Tobago,TTO,2009,14.4\\nTrinidad and Tobago,TTO,2010,14.41\\nTrinidad and Tobago,TTO,2011,14.43\\nTrinidad and Tobago,TTO,2012,14.46\\nTrinidad and Tobago,TTO,2013,14.49\\nTrinidad and Tobago,TTO,2014,14.52\\nTrinidad and Tobago,TTO,2015,14.53\\nTrinidad and Tobago,TTO,2016,14.53\\nTrinidad and Tobago,TTO,2017,14.53\\nTrinidad and Tobago,TTO,2018,14.55\\nTrinidad and Tobago,TTO,2019,14.58\\nTunisia,TUN,1990,16.4\\nTunisia,TUN,1991,16.37\\nTunisia,TUN,1992,16.35\\nTunisia,TUN,1993,16.33\\nTunisia,TUN,1994,16.3\\nTunisia,TUN,1995,16.28\\nTunisia,TUN,1996,16.26\\nTunisia,TUN,1997,16.24\\nTunisia,TUN,1998,16.22\\nTunisia,TUN,1999,16.21\\nTunisia,TUN,2000,16.19\\nTunisia,TUN,2001,16.16\\nTunisia,TUN,2002,16.13\\nTunisia,TUN,2003,16.11\\nTunisia,TUN,2004,16.08\\nTunisia,TUN,2005,16.06\\nTunisia,TUN,2006,16.04\\nTunisia,TUN,2007,16.01\\nTunisia,TUN,2008,15.99\\nTunisia,TUN,2009,15.98\\nTunisia,TUN,2010,15.96\\nTunisia,TUN,2011,15.96\\nTunisia,TUN,2012,15.97\\nTunisia,TUN,2013,15.99\\nTunisia,TUN,2014,16\\nTunisia,TUN,2015,16.01\\nTunisia,TUN,2016,16\\nTunisia,TUN,2017,15.99\\nTunisia,TUN,2018,16.02\\nTunisia,TUN,2019,16.08\\nTurkey,TUR,1990,14.5\\nTurkey,TUR,1991,14.45\\nTurkey,TUR,1992,14.41\\nTurkey,TUR,1993,14.36\\nTurkey,TUR,1994,14.33\\nTurkey,TUR,1995,14.31\\nTurkey,TUR,1996,14.32\\nTurkey,TUR,1997,14.38\\nTurkey,TUR,1998,14.47\\nTurkey,TUR,1999,14.54\\nTurkey,TUR,2000,14.59\\nTurkey,TUR,2001,14.64\\nTurkey,TUR,2002,14.73\\nTurkey,TUR,2003,14.83\\nTurkey,TUR,2004,14.91\\nTurkey,TUR,2005,14.94\\nTurkey,TUR,2006,14.92\\nTurkey,TUR,2007,14.87\\nTurkey,TUR,2008,14.81\\nTurkey,TUR,2009,14.75\\nTurkey,TUR,2010,14.7\\nTurkey,TUR,2011,14.68\\nTurkey,TUR,2012,14.66\\nTurkey,TUR,2013,14.64\\nTurkey,TUR,2014,14.62\\nTurkey,TUR,2015,14.6\\nTurkey,TUR,2016,14.53\\nTurkey,TUR,2017,14.46\\nTurkey,TUR,2018,14.43\\nTurkey,TUR,2019,14.4\\nTurkmenistan,TKM,1990,10.74\\nTurkmenistan,TKM,1991,10.77\\nTurkmenistan,TKM,1992,10.8\\nTurkmenistan,TKM,1993,10.83\\nTurkmenistan,TKM,1994,10.86\\nTurkmenistan,TKM,1995,10.89\\nTurkmenistan,TKM,1996,10.93\\nTurkmenistan,TKM,1997,10.97\\nTurkmenistan,TKM,1998,11.01\\nTurkmenistan,TKM,1999,11.04\\nTurkmenistan,TKM,2000,11.06\\nTurkmenistan,TKM,2001,11.05\\nTurkmenistan,TKM,2002,11.04\\nTurkmenistan,TKM,2003,11.01\\nTurkmenistan,TKM,2004,10.98\\nTurkmenistan,TKM,2005,10.95\\nTurkmenistan,TKM,2006,10.9\\nTurkmenistan,TKM,2007,10.84\\nTurkmenistan,TKM,2008,10.78\\nTurkmenistan,TKM,2009,10.72\\nTurkmenistan,TKM,2010,10.68\\nTurkmenistan,TKM,2011,10.65\\nTurkmenistan,TKM,2012,10.63\\nTurkmenistan,TKM,2013,10.61\\nTurkmenistan,TKM,2014,10.59\\nTurkmenistan,TKM,2015,10.58\\nTurkmenistan,TKM,2016,10.57\\nTurkmenistan,TKM,2017,10.55\\nTurkmenistan,TKM,2018,10.54\\nTurkmenistan,TKM,2019,10.53\\nTuvalu,TUV,1990,12.4\\nTuvalu,TUV,1991,12.37\\nTuvalu,TUV,1992,12.35\\nTuvalu,TUV,1993,12.32\\nTuvalu,TUV,1994,12.3\\nTuvalu,TUV,1995,12.28\\nTuvalu,TUV,1996,12.26\\nTuvalu,TUV,1997,12.25\\nTuvalu,TUV,1998,12.24\\nTuvalu,TUV,1999,12.23\\nTuvalu,TUV,2000,12.21\\nTuvalu,TUV,2001,12.2\\nTuvalu,TUV,2002,12.18\\nTuvalu,TUV,2003,12.16\\nTuvalu,TUV,2004,12.14\\nTuvalu,TUV,2005,12.14\\nTuvalu,TUV,2006,12.14\\nTuvalu,TUV,2007,12.15\\nTuvalu,TUV,2008,12.17\\nTuvalu,TUV,2009,12.18\\nTuvalu,TUV,2010,12.18\\nTuvalu,TUV,2011,12.19\\nTuvalu,TUV,2012,12.19\\nTuvalu,TUV,2013,12.19\\nTuvalu,TUV,2014,12.19\\nTuvalu,TUV,2015,12.18\\nTuvalu,TUV,2016,12.16\\nTuvalu,TUV,2017,12.13\\nTuvalu,TUV,2018,12.13\\nTuvalu,TUV,2019,12.14\\nUganda,UGA,1990,14.93\\nUganda,UGA,1991,15.03\\nUganda,UGA,1992,15.13\\nUganda,UGA,1993,15.21\\nUganda,UGA,1994,15.28\\nUganda,UGA,1995,15.34\\nUganda,UGA,1996,15.4\\nUganda,UGA,1997,15.46\\nUganda,UGA,1998,15.52\\nUganda,UGA,1999,15.56\\nUganda,UGA,2000,15.57\\nUganda,UGA,2001,15.55\\nUganda,UGA,2002,15.53\\nUganda,UGA,2003,15.5\\nUganda,UGA,2004,15.47\\nUganda,UGA,2005,15.43\\nUganda,UGA,2006,15.37\\nUganda,UGA,2007,15.27\\nUganda,UGA,2008,15.16\\nUganda,UGA,2009,15.05\\nUganda,UGA,2010,14.95\\nUganda,UGA,2011,14.87\\nUganda,UGA,2012,14.78\\nUganda,UGA,2013,14.71\\nUganda,UGA,2014,14.66\\nUganda,UGA,2015,14.65\\nUganda,UGA,2016,14.65\\nUganda,UGA,2017,14.64\\nUganda,UGA,2018,14.62\\nUganda,UGA,2019,14.59\\nUkraine,UKR,1990,12.51\\nUkraine,UKR,1991,12.59\\nUkraine,UKR,1992,12.67\\nUkraine,UKR,1993,12.74\\nUkraine,UKR,1994,12.8\\nUkraine,UKR,1995,12.84\\nUkraine,UKR,1996,12.87\\nUkraine,UKR,1997,12.88\\nUkraine,UKR,1998,12.88\\nUkraine,UKR,1999,12.88\\nUkraine,UKR,2000,12.87\\nUkraine,UKR,2001,12.86\\nUkraine,UKR,2002,12.81\\nUkraine,UKR,2003,12.76\\nUkraine,UKR,2004,12.69\\nUkraine,UKR,2005,12.64\\nUkraine,UKR,2006,12.6\\nUkraine,UKR,2007,12.58\\nUkraine,UKR,2008,12.57\\nUkraine,UKR,2009,12.57\\nUkraine,UKR,2010,12.55\\nUkraine,UKR,2011,12.51\\nUkraine,UKR,2012,12.46\\nUkraine,UKR,2013,12.41\\nUkraine,UKR,2014,12.38\\nUkraine,UKR,2015,12.36\\nUkraine,UKR,2016,12.37\\nUkraine,UKR,2017,12.38\\nUkraine,UKR,2018,12.39\\nUkraine,UKR,2019,12.4\\nUnited Arab Emirates,ARE,1990,12.46\\nUnited Arab Emirates,ARE,1991,12.46\\nUnited Arab Emirates,ARE,1992,12.46\\nUnited Arab Emirates,ARE,1993,12.46\\nUnited Arab Emirates,ARE,1994,12.45\\nUnited Arab Emirates,ARE,1995,12.45\\nUnited Arab Emirates,ARE,1996,12.45\\nUnited Arab Emirates,ARE,1997,12.46\\nUnited Arab Emirates,ARE,1998,12.48\\nUnited Arab Emirates,ARE,1999,12.49\\nUnited Arab Emirates,ARE,2000,12.49\\nUnited Arab Emirates,ARE,2001,12.49\\nUnited Arab Emirates,ARE,2002,12.48\\nUnited Arab Emirates,ARE,2003,12.47\\nUnited Arab Emirates,ARE,2004,12.45\\nUnited Arab Emirates,ARE,2005,12.44\\nUnited Arab Emirates,ARE,2006,12.41\\nUnited Arab Emirates,ARE,2007,12.37\\nUnited Arab Emirates,ARE,2008,12.34\\nUnited Arab Emirates,ARE,2009,12.32\\nUnited Arab Emirates,ARE,2010,12.32\\nUnited Arab Emirates,ARE,2011,12.33\\nUnited Arab Emirates,ARE,2012,12.36\\nUnited Arab Emirates,ARE,2013,12.4\\nUnited Arab Emirates,ARE,2014,12.44\\nUnited Arab Emirates,ARE,2015,12.47\\nUnited Arab Emirates,ARE,2016,12.46\\nUnited Arab Emirates,ARE,2017,12.45\\nUnited Arab Emirates,ARE,2018,12.47\\nUnited Arab Emirates,ARE,2019,12.53\\nUnited Kingdom,GBR,1990,15.05\\nUnited Kingdom,GBR,1991,15.01\\nUnited Kingdom,GBR,1992,14.97\\nUnited Kingdom,GBR,1993,14.94\\nUnited Kingdom,GBR,1994,14.92\\nUnited Kingdom,GBR,1995,14.91\\nUnited Kingdom,GBR,1996,14.9\\nUnited Kingdom,GBR,1997,14.9\\nUnited Kingdom,GBR,1998,14.9\\nUnited Kingdom,GBR,1999,14.9\\nUnited Kingdom,GBR,2000,14.89\\nUnited Kingdom,GBR,2001,14.86\\nUnited Kingdom,GBR,2002,14.81\\nUnited Kingdom,GBR,2003,14.75\\nUnited Kingdom,GBR,2004,14.7\\nUnited Kingdom,GBR,2005,14.68\\nUnited Kingdom,GBR,2006,14.7\\nUnited Kingdom,GBR,2007,14.76\\nUnited Kingdom,GBR,2008,14.85\\nUnited Kingdom,GBR,2009,14.92\\nUnited Kingdom,GBR,2010,14.97\\nUnited Kingdom,GBR,2011,15.02\\nUnited Kingdom,GBR,2012,15.1\\nUnited Kingdom,GBR,2013,15.19\\nUnited Kingdom,GBR,2014,15.26\\nUnited Kingdom,GBR,2015,15.29\\nUnited Kingdom,GBR,2016,15.22\\nUnited Kingdom,GBR,2017,15.15\\nUnited Kingdom,GBR,2018,15.14\\nUnited Kingdom,GBR,2019,15.13\\nUnited States,USA,1990,15.56\\nUnited States,USA,1991,15.75\\nUnited States,USA,1992,15.95\\nUnited States,USA,1993,16.14\\nUnited States,USA,1994,16.31\\nUnited States,USA,1995,16.44\\nUnited States,USA,1996,16.68\\nUnited States,USA,1997,17.07\\nUnited States,USA,1998,17.5\\nUnited States,USA,1999,17.84\\nUnited States,USA,2000,18\\nUnited States,USA,2001,17.97\\nUnited States,USA,2002,17.88\\nUnited States,USA,2003,17.74\\nUnited States,USA,2004,17.61\\nUnited States,USA,2005,17.52\\nUnited States,USA,2006,17.47\\nUnited States,USA,2007,17.45\\nUnited States,USA,2008,17.43\\nUnited States,USA,2009,17.41\\nUnited States,USA,2010,17.35\\nUnited States,USA,2011,17.22\\nUnited States,USA,2012,17\\nUnited States,USA,2013,16.77\\nUnited States,USA,2014,16.57\\nUnited States,USA,2015,16.47\\nUnited States,USA,2016,16.47\\nUnited States,USA,2017,16.49\\nUnited States,USA,2018,16.63\\nUnited States,USA,2019,16.93\\nUnited States Virgin Islands,VIR,1990,14.32\\nUnited States Virgin Islands,VIR,1991,14.29\\nUnited States Virgin Islands,VIR,1992,14.27\\nUnited States Virgin Islands,VIR,1993,14.26\\nUnited States Virgin Islands,VIR,1994,14.25\\nUnited States Virgin Islands,VIR,1995,14.25\\nUnited States Virgin Islands,VIR,1996,14.26\\nUnited States Virgin Islands,VIR,1997,14.27\\nUnited States Virgin Islands,VIR,1998,14.29\\nUnited States Virgin Islands,VIR,1999,14.3\\nUnited States Virgin Islands,VIR,2000,14.31\\nUnited States Virgin Islands,VIR,2001,14.33\\nUnited States Virgin Islands,VIR,2002,14.34\\nUnited States Virgin Islands,VIR,2003,14.36\\nUnited States Virgin Islands,VIR,2004,14.37\\nUnited States Virgin Islands,VIR,2005,14.38\\nUnited States Virgin Islands,VIR,2006,14.39\\nUnited States Virgin Islands,VIR,2007,14.4\\nUnited States Virgin Islands,VIR,2008,14.41\\nUnited States Virgin Islands,VIR,2009,14.42\\nUnited States Virgin Islands,VIR,2010,14.43\\nUnited States Virgin Islands,VIR,2011,14.45\\nUnited States Virgin Islands,VIR,2012,14.47\\nUnited States Virgin Islands,VIR,2013,14.5\\nUnited States Virgin Islands,VIR,2014,14.52\\nUnited States Virgin Islands,VIR,2015,14.54\\nUnited States Virgin Islands,VIR,2016,14.53\\nUnited States Virgin Islands,VIR,2017,14.52\\nUnited States Virgin Islands,VIR,2018,14.55\\nUnited States Virgin Islands,VIR,2019,14.6\\nUruguay,URY,1990,13.77\\nUruguay,URY,1991,13.74\\nUruguay,URY,1992,13.72\\nUruguay,URY,1993,13.7\\nUruguay,URY,1994,13.69\\nUruguay,URY,1995,13.69\\nUruguay,URY,1996,13.69\\nUruguay,URY,1997,13.7\\nUruguay,URY,1998,13.71\\nUruguay,URY,1999,13.73\\nUruguay,URY,2000,13.75\\nUruguay,URY,2001,13.79\\nUruguay,URY,2002,13.85\\nUruguay,URY,2003,13.9\\nUruguay,URY,2004,13.95\\nUruguay,URY,2005,13.98\\nUruguay,URY,2006,13.99\\nUruguay,URY,2007,13.99\\nUruguay,URY,2008,13.99\\nUruguay,URY,2009,13.99\\nUruguay,URY,2010,14\\nUruguay,URY,2011,14.02\\nUruguay,URY,2012,14.07\\nUruguay,URY,2013,14.12\\nUruguay,URY,2014,14.18\\nUruguay,URY,2015,14.2\\nUruguay,URY,2016,14.18\\nUruguay,URY,2017,14.17\\nUruguay,URY,2018,14.16\\nUruguay,URY,2019,14.15\\nUzbekistan,UZB,1990,10.87\\nUzbekistan,UZB,1991,10.9\\nUzbekistan,UZB,1992,10.92\\nUzbekistan,UZB,1993,10.94\\nUzbekistan,UZB,1994,10.96\\nUzbekistan,UZB,1995,10.98\\nUzbekistan,UZB,1996,11\\nUzbekistan,UZB,1997,11.02\\nUzbekistan,UZB,1998,11.03\\nUzbekistan,UZB,1999,11.04\\nUzbekistan,UZB,2000,11.05\\nUzbekistan,UZB,2001,11.04\\nUzbekistan,UZB,2002,11.04\\nUzbekistan,UZB,2003,11.02\\nUzbekistan,UZB,2004,11\\nUzbekistan,UZB,2005,10.99\\nUzbekistan,UZB,2006,10.96\\nUzbekistan,UZB,2007,10.92\\nUzbekistan,UZB,2008,10.87\\nUzbekistan,UZB,2009,10.82\\nUzbekistan,UZB,2010,10.79\\nUzbekistan,UZB,2011,10.76\\nUzbekistan,UZB,2012,10.72\\nUzbekistan,UZB,2013,10.69\\nUzbekistan,UZB,2014,10.66\\nUzbekistan,UZB,2015,10.64\\nUzbekistan,UZB,2016,10.61\\nUzbekistan,UZB,2017,10.58\\nUzbekistan,UZB,2018,10.57\\nUzbekistan,UZB,2019,10.56\\nVanuatu,VUT,1990,11.87\\nVanuatu,VUT,1991,11.88\\nVanuatu,VUT,1992,11.89\\nVanuatu,VUT,1993,11.9\\nVanuatu,VUT,1994,11.9\\nVanuatu,VUT,1995,11.9\\nVanuatu,VUT,1996,11.91\\nVanuatu,VUT,1997,11.91\\nVanuatu,VUT,1998,11.9\\nVanuatu,VUT,1999,11.9\\nVanuatu,VUT,2000,11.9\\nVanuatu,VUT,2001,11.9\\nVanuatu,VUT,2002,11.9\\nVanuatu,VUT,2003,11.89\\nVanuatu,VUT,2004,11.89\\nVanuatu,VUT,2005,11.89\\nVanuatu,VUT,2006,11.9\\nVanuatu,VUT,2007,11.9\\nVanuatu,VUT,2008,11.9\\nVanuatu,VUT,2009,11.9\\nVanuatu,VUT,2010,11.91\\nVanuatu,VUT,2011,11.92\\nVanuatu,VUT,2012,11.92\\nVanuatu,VUT,2013,11.93\\nVanuatu,VUT,2014,11.94\\nVanuatu,VUT,2015,11.94\\nVanuatu,VUT,2016,11.94\\nVanuatu,VUT,2017,11.93\\nVanuatu,VUT,2018,11.94\\nVanuatu,VUT,2019,11.97\\nVenezuela,VEN,1990,13.17\\nVenezuela,VEN,1991,13.2\\nVenezuela,VEN,1992,13.22\\nVenezuela,VEN,1993,13.24\\nVenezuela,VEN,1994,13.26\\nVenezuela,VEN,1995,13.27\\nVenezuela,VEN,1996,13.28\\nVenezuela,VEN,1997,13.27\\nVenezuela,VEN,1998,13.26\\nVenezuela,VEN,1999,13.24\\nVenezuela,VEN,2000,13.24\\nVenezuela,VEN,2001,13.24\\nVenezuela,VEN,2002,13.25\\nVenezuela,VEN,2003,13.26\\nVenezuela,VEN,2004,13.27\\nVenezuela,VEN,2005,13.29\\nVenezuela,VEN,2006,13.3\\nVenezuela,VEN,2007,13.33\\nVenezuela,VEN,2008,13.36\\nVenezuela,VEN,2009,13.39\\nVenezuela,VEN,2010,13.41\\nVenezuela,VEN,2011,13.43\\nVenezuela,VEN,2012,13.45\\nVenezuela,VEN,2013,13.48\\nVenezuela,VEN,2014,13.51\\nVenezuela,VEN,2015,13.53\\nVenezuela,VEN,2016,13.55\\nVenezuela,VEN,2017,13.57\\nVenezuela,VEN,2018,13.58\\nVenezuela,VEN,2019,13.59\\nVietnam,VNM,1990,10.39\\nVietnam,VNM,1991,10.35\\nVietnam,VNM,1992,10.31\\nVietnam,VNM,1993,10.27\\nVietnam,VNM,1994,10.23\\nVietnam,VNM,1995,10.19\\nVietnam,VNM,1996,10.14\\nVietnam,VNM,1997,10.11\\nVietnam,VNM,1998,10.07\\nVietnam,VNM,1999,10.03\\nVietnam,VNM,2000,10\\nVietnam,VNM,2001,9.94\\nVietnam,VNM,2002,9.86\\nVietnam,VNM,2003,9.78\\nVietnam,VNM,2004,9.7\\nVietnam,VNM,2005,9.65\\nVietnam,VNM,2006,9.61\\nVietnam,VNM,2007,9.57\\nVietnam,VNM,2008,9.54\\nVietnam,VNM,2009,9.51\\nVietnam,VNM,2010,9.47\\nVietnam,VNM,2011,9.47\\nVietnam,VNM,2012,9.5\\nVietnam,VNM,2013,9.55\\nVietnam,VNM,2014,9.59\\nVietnam,VNM,2015,9.59\\nVietnam,VNM,2016,9.57\\nVietnam,VNM,2017,9.55\\nVietnam,VNM,2018,9.53\\nVietnam,VNM,2019,9.52\\nWales,,1990,14.8\\nWales,,1991,14.76\\nWales,,1992,14.72\\nWales,,1993,14.68\\nWales,,1994,14.65\\nWales,,1995,14.63\\nWales,,1996,14.61\\nWales,,1997,14.58\\nWales,,1998,14.57\\nWales,,1999,14.56\\nWales,,2000,14.54\\nWales,,2001,14.51\\nWales,,2002,14.46\\nWales,,2003,14.41\\nWales,,2004,14.36\\nWales,,2005,14.34\\nWales,,2006,14.34\\nWales,,2007,14.34\\nWales,,2008,14.36\\nWales,,2009,14.36\\nWales,,2010,14.37\\nWales,,2011,14.38\\nWales,,2012,14.39\\nWales,,2013,14.41\\nWales,,2014,14.43\\nWales,,2015,14.44\\nWales,,2016,14.43\\nWales,,2017,14.41\\nWales,,2018,14.42\\nWales,,2019,14.44\\nWestern Pacific Region (WHO),,1990,11.53\\nWestern Pacific Region (WHO),,1991,11.62\\nWestern Pacific Region (WHO),,1992,11.7\\nWestern Pacific Region (WHO),,1993,11.75\\nWestern Pacific Region (WHO),,1994,11.79\\nWestern Pacific Region (WHO),,1995,11.8\\nWestern Pacific Region (WHO),,1996,11.79\\nWestern Pacific Region (WHO),,1997,11.78\\nWestern Pacific Region (WHO),,1998,11.76\\nWestern Pacific Region (WHO),,1999,11.74\\nWestern Pacific Region (WHO),,2000,11.71\\nWestern Pacific Region (WHO),,2001,11.66\\nWestern Pacific Region (WHO),,2002,11.61\\nWestern Pacific Region (WHO),,2003,11.54\\nWestern Pacific Region (WHO),,2004,11.49\\nWestern Pacific Region (WHO),,2005,11.45\\nWestern Pacific Region (WHO),,2006,11.42\\nWestern Pacific Region (WHO),,2007,11.39\\nWestern Pacific Region (WHO),,2008,11.36\\nWestern Pacific Region (WHO),,2009,11.34\\nWestern Pacific Region (WHO),,2010,11.32\\nWestern Pacific Region (WHO),,2011,11.29\\nWestern Pacific Region (WHO),,2012,11.26\\nWestern Pacific Region (WHO),,2013,11.23\\nWestern Pacific Region (WHO),,2014,11.2\\nWestern Pacific Region (WHO),,2015,11.2\\nWestern Pacific Region (WHO),,2016,11.23\\nWestern Pacific Region (WHO),,2017,11.27\\nWestern Pacific Region (WHO),,2018,11.26\\nWestern Pacific Region (WHO),,2019,11.22\\nWorld,OWID_WRL,1990,12.99\\nWorld,OWID_WRL,1991,13.03\\nWorld,OWID_WRL,1992,13.07\\nWorld,OWID_WRL,1993,13.1\\nWorld,OWID_WRL,1994,13.11\\nWorld,OWID_WRL,1995,13.12\\nWorld,OWID_WRL,1996,13.12\\nWorld,OWID_WRL,1997,13.13\\nWorld,OWID_WRL,1998,13.14\\nWorld,OWID_WRL,1999,13.15\\nWorld,OWID_WRL,2000,13.15\\nWorld,OWID_WRL,2001,13.14\\nWorld,OWID_WRL,2002,13.13\\nWorld,OWID_WRL,2003,13.11\\nWorld,OWID_WRL,2004,13.1\\nWorld,OWID_WRL,2005,13.08\\nWorld,OWID_WRL,2006,13.06\\nWorld,OWID_WRL,2007,13.02\\nWorld,OWID_WRL,2008,12.98\\nWorld,OWID_WRL,2009,12.94\\nWorld,OWID_WRL,2010,12.91\\nWorld,OWID_WRL,2011,12.89\\nWorld,OWID_WRL,2012,12.86\\nWorld,OWID_WRL,2013,12.83\\nWorld,OWID_WRL,2014,12.81\\nWorld,OWID_WRL,2015,12.8\\nWorld,OWID_WRL,2016,12.8\\nWorld,OWID_WRL,2017,12.81\\nWorld,OWID_WRL,2018,12.81\\nWorld,OWID_WRL,2019,12.8\\nWorld Bank High Income,,1990,14.36\\nWorld Bank High Income,,1991,14.39\\nWorld Bank High Income,,1992,14.42\\nWorld Bank High Income,,1993,14.46\\nWorld Bank High Income,,1994,14.49\\nWorld Bank High Income,,1995,14.52\\nWorld Bank High Income,,1996,14.58\\nWorld Bank High Income,,1997,14.68\\nWorld Bank High Income,,1998,14.8\\nWorld Bank High Income,,1999,14.89\\nWorld Bank High Income,,2000,14.94\\nWorld Bank High Income,,2001,14.95\\nWorld Bank High Income,,2002,14.93\\nWorld Bank High Income,,2003,14.91\\nWorld Bank High Income,,2004,14.89\\nWorld Bank High Income,,2005,14.87\\nWorld Bank High Income,,2006,14.88\\nWorld Bank High Income,,2007,14.91\\nWorld Bank High Income,,2008,14.94\\nWorld Bank High Income,,2009,14.96\\nWorld Bank High Income,,2010,14.97\\nWorld Bank High Income,,2011,14.95\\nWorld Bank High Income,,2012,14.91\\nWorld Bank High Income,,2013,14.87\\nWorld Bank High Income,,2014,14.83\\nWorld Bank High Income,,2015,14.81\\nWorld Bank High Income,,2016,14.8\\nWorld Bank High Income,,2017,14.79\\nWorld Bank High Income,,2018,14.83\\nWorld Bank High Income,,2019,14.92\\nWorld Bank Low Income,,1990,12.95\\nWorld Bank Low Income,,1991,12.97\\nWorld Bank Low Income,,1992,13\\nWorld Bank Low Income,,1993,13.02\\nWorld Bank Low Income,,1994,13.04\\nWorld Bank Low Income,,1995,13.06\\nWorld Bank Low Income,,1996,13.09\\nWorld Bank Low Income,,1997,13.12\\nWorld Bank Low Income,,1998,13.15\\nWorld Bank Low Income,,1999,13.17\\nWorld Bank Low Income,,2000,13.18\\nWorld Bank Low Income,,2001,13.19\\nWorld Bank Low Income,,2002,13.19\\nWorld Bank Low Income,,2003,13.18\\nWorld Bank Low Income,,2004,13.18\\nWorld Bank Low Income,,2005,13.17\\nWorld Bank Low Income,,2006,13.16\\nWorld Bank Low Income,,2007,13.14\\nWorld Bank Low Income,,2008,13.11\\nWorld Bank Low Income,,2009,13.09\\nWorld Bank Low Income,,2010,13.08\\nWorld Bank Low Income,,2011,13.06\\nWorld Bank Low Income,,2012,13.04\\nWorld Bank Low Income,,2013,13.02\\nWorld Bank Low Income,,2014,13\\nWorld Bank Low Income,,2015,12.99\\nWorld Bank Low Income,,2016,12.99\\nWorld Bank Low Income,,2017,12.99\\nWorld Bank Low Income,,2018,12.99\\nWorld Bank Low Income,,2019,12.99\\nWorld Bank Lower Middle Income,,1990,13.26\\nWorld Bank Lower Middle Income,,1991,13.3\\nWorld Bank Lower Middle Income,,1992,13.33\\nWorld Bank Lower Middle Income,,1993,13.35\\nWorld Bank Lower Middle Income,,1994,13.36\\nWorld Bank Lower Middle Income,,1995,13.35\\nWorld Bank Lower Middle Income,,1996,13.32\\nWorld Bank Lower Middle Income,,1997,13.27\\nWorld Bank Lower Middle Income,,1998,13.22\\nWorld Bank Lower Middle Income,,1999,13.17\\nWorld Bank Lower Middle Income,,2000,13.14\\nWorld Bank Lower Middle Income,,2001,13.15\\nWorld Bank Lower Middle Income,,2002,13.16\\nWorld Bank Lower Middle Income,,2003,13.18\\nWorld Bank Lower Middle Income,,2004,13.2\\nWorld Bank Lower Middle Income,,2005,13.2\\nWorld Bank Lower Middle Income,,2006,13.17\\nWorld Bank Lower Middle Income,,2007,13.1\\nWorld Bank Lower Middle Income,,2008,13.02\\nWorld Bank Lower Middle Income,,2009,12.94\\nWorld Bank Lower Middle Income,,2010,12.9\\nWorld Bank Lower Middle Income,,2011,12.89\\nWorld Bank Lower Middle Income,,2012,12.88\\nWorld Bank Lower Middle Income,,2013,12.87\\nWorld Bank Lower Middle Income,,2014,12.86\\nWorld Bank Lower Middle Income,,2015,12.85\\nWorld Bank Lower Middle Income,,2016,12.84\\nWorld Bank Lower Middle Income,,2017,12.82\\nWorld Bank Lower Middle Income,,2018,12.8\\nWorld Bank Lower Middle Income,,2019,12.77\\nWorld Bank Upper Middle Income,,1990,12.34\\nWorld Bank Upper Middle Income,,1991,12.41\\nWorld Bank Upper Middle Income,,1992,12.48\\nWorld Bank Upper Middle Income,,1993,12.54\\nWorld Bank Upper Middle Income,,1994,12.58\\nWorld Bank Upper Middle Income,,1995,12.6\\nWorld Bank Upper Middle Income,,1996,12.62\\nWorld Bank Upper Middle Income,,1997,12.65\\nWorld Bank Upper Middle Income,,1998,12.68\\nWorld Bank Upper Middle Income,,1999,12.71\\nWorld Bank Upper Middle Income,,2000,12.73\\nWorld Bank Upper Middle Income,,2001,12.72\\nWorld Bank Upper Middle Income,,2002,12.71\\nWorld Bank Upper Middle Income,,2003,12.69\\nWorld Bank Upper Middle Income,,2004,12.67\\nWorld Bank Upper Middle Income,,2005,12.65\\nWorld Bank Upper Middle Income,,2006,12.64\\nWorld Bank Upper Middle Income,,2007,12.61\\nWorld Bank Upper Middle Income,,2008,12.58\\nWorld Bank Upper Middle Income,,2009,12.55\\nWorld Bank Upper Middle Income,,2010,12.54\\nWorld Bank Upper Middle Income,,2011,12.52\\nWorld Bank Upper Middle Income,,2012,12.49\\nWorld Bank Upper Middle Income,,2013,12.46\\nWorld Bank Upper Middle Income,,2014,12.44\\nWorld Bank Upper Middle Income,,2015,12.44\\nWorld Bank Upper Middle Income,,2016,12.48\\nWorld Bank Upper Middle Income,,2017,12.53\\nWorld Bank Upper Middle Income,,2018,12.53\\nWorld Bank Upper Middle Income,,2019,12.5\\nYemen,YEM,1990,16.14\\nYemen,YEM,1991,16.14\\nYemen,YEM,1992,16.13\\nYemen,YEM,1993,16.11\\nYemen,YEM,1994,16.11\\nYemen,YEM,1995,16.09\\nYemen,YEM,1996,16.09\\nYemen,YEM,1997,16.08\\nYemen,YEM,1998,16.07\\nYemen,YEM,1999,16.06\\nYemen,YEM,2000,16.04\\nYemen,YEM,2001,16.02\\nYemen,YEM,2002,16\\nYemen,YEM,2003,15.98\\nYemen,YEM,2004,15.95\\nYemen,YEM,2005,15.92\\nYemen,YEM,2006,15.88\\nYemen,YEM,2007,15.82\\nYemen,YEM,2008,15.77\\nYemen,YEM,2009,15.73\\nYemen,YEM,2010,15.71\\nYemen,YEM,2011,15.72\\nYemen,YEM,2012,15.74\\nYemen,YEM,2013,15.77\\nYemen,YEM,2014,15.8\\nYemen,YEM,2015,15.84\\nYemen,YEM,2016,15.93\\nYemen,YEM,2017,16.07\\nYemen,YEM,2018,16.22\\nYemen,YEM,2019,16.4\\nZambia,ZMB,1990,11.96\\nZambia,ZMB,1991,11.98\\nZambia,ZMB,1992,12.01\\nZambia,ZMB,1993,12.03\\nZambia,ZMB,1994,12.04\\nZambia,ZMB,1995,12.06\\nZambia,ZMB,1996,12.06\\nZambia,ZMB,1997,12.07\\nZambia,ZMB,1998,12.07\\nZambia,ZMB,1999,12.06\\nZambia,ZMB,2000,12.06\\nZambia,ZMB,2001,12.06\\nZambia,ZMB,2002,12.07\\nZambia,ZMB,2003,12.07\\nZambia,ZMB,2004,12.07\\nZambia,ZMB,2005,12.07\\nZambia,ZMB,2006,12.05\\nZambia,ZMB,2007,12.03\\nZambia,ZMB,2008,11.99\\nZambia,ZMB,2009,11.96\\nZambia,ZMB,2010,11.94\\nZambia,ZMB,2011,11.94\\nZambia,ZMB,2012,11.97\\nZambia,ZMB,2013,12.01\\nZambia,ZMB,2014,12.04\\nZambia,ZMB,2015,12.07\\nZambia,ZMB,2016,12.09\\nZambia,ZMB,2017,12.11\\nZambia,ZMB,2018,12.12\\nZambia,ZMB,2019,12.11\\nZimbabwe,ZWE,1990,10.65\\nZimbabwe,ZWE,1991,10.67\\nZimbabwe,ZWE,1992,10.68\\nZimbabwe,ZWE,1993,10.69\\nZimbabwe,ZWE,1994,10.7\\nZimbabwe,ZWE,1995,10.71\\nZimbabwe,ZWE,1996,10.72\\nZimbabwe,ZWE,1997,10.73\\nZimbabwe,ZWE,1998,10.73\\nZimbabwe,ZWE,1999,10.74\\nZimbabwe,ZWE,2000,10.75\\nZimbabwe,ZWE,2001,10.77\\nZimbabwe,ZWE,2002,10.79\\nZimbabwe,ZWE,2003,10.83\\nZimbabwe,ZWE,2004,10.87\\nZimbabwe,ZWE,2005,10.9\\nZimbabwe,ZWE,2006,10.94\\nZimbabwe,ZWE,2007,10.98\\nZimbabwe,ZWE,2008,11.02\\nZimbabwe,ZWE,2009,11.05\\nZimbabwe,ZWE,2010,11.07\\nZimbabwe,ZWE,2011,11.08\\nZimbabwe,ZWE,2012,11.1\\nZimbabwe,ZWE,2013,11.12\\nZimbabwe,ZWE,2014,11.14\\nZimbabwe,ZWE,2015,11.16\\nZimbabwe,ZWE,2016,11.16\\nZimbabwe,ZWE,2017,11.17\\nZimbabwe,ZWE,2018,11.16\\nZimbabwe,ZWE,2019,11.12\"}"
            ]
          },
          "metadata": {},
          "execution_count": 6
        }
      ]
    },
    {
      "cell_type": "code",
      "source": [
        "#can I see it?  Where am i?\n",
        "pwd"
      ],
      "metadata": {
        "colab": {
          "base_uri": "https://localhost:8080/",
          "height": 36
        },
        "id": "SF7-AIS3WCse",
        "outputId": "d5d10275-5f57-4672-a666-5ab1fddf512b"
      },
      "execution_count": 7,
      "outputs": [
        {
          "output_type": "execute_result",
          "data": {
            "text/plain": [
              "'/content'"
            ],
            "application/vnd.google.colaboratory.intrinsic+json": {
              "type": "string"
            }
          },
          "metadata": {},
          "execution_count": 7
        }
      ]
    },
    {
      "cell_type": "code",
      "source": [
        "ls"
      ],
      "metadata": {
        "colab": {
          "base_uri": "https://localhost:8080/"
        },
        "id": "gnGCegv6WLJx",
        "outputId": "af193935-5f00-4633-bb0f-fb52ca4f55be"
      },
      "execution_count": 8,
      "outputs": [
        {
          "output_type": "stream",
          "name": "stdout",
          "text": [
            "\u001b[0m\u001b[01;34msample_data\u001b[0m/  share-with-mental-and-substance-disorders.csv\n"
          ]
        }
      ]
    },
    {
      "cell_type": "code",
      "source": [
        "mentalh = pd.read_csv(\"share-with-mental-and-substance-disorders.csv\")"
      ],
      "metadata": {
        "id": "PjpcvF76WLh2"
      },
      "execution_count": 9,
      "outputs": []
    },
    {
      "cell_type": "code",
      "source": [
        "import geopandas as geo\n"
      ],
      "metadata": {
        "id": "nzHNvcXeWQtS"
      },
      "execution_count": 10,
      "outputs": []
    },
    {
      "cell_type": "code",
      "source": [
        "world = geopandas.read_file(geopandas.datasets.get_path('naturalearth_lowres'))"
      ],
      "metadata": {
        "id": "W2uKpd5oWU4C"
      },
      "execution_count": 11,
      "outputs": []
    },
    {
      "cell_type": "code",
      "source": [
        "world.head()"
      ],
      "metadata": {
        "colab": {
          "base_uri": "https://localhost:8080/",
          "height": 337
        },
        "id": "wT4h2bf-WVP4",
        "outputId": "40a5ff32-b753-4994-8085-abcf114c468a"
      },
      "execution_count": 18,
      "outputs": [
        {
          "output_type": "execute_result",
          "data": {
            "text/plain": [
              "     pop_est      continent                      name iso_a3  gdp_md_est  \\\n",
              "0     920938        Oceania                      Fiji    FJI      8374.0   \n",
              "1   53950935         Africa                  Tanzania    TZA    150600.0   \n",
              "2     603253         Africa                 W. Sahara    ESH       906.5   \n",
              "3   35623680  North America                    Canada    CAN   1674000.0   \n",
              "4  326625791  North America  United States of America    USA  18560000.0   \n",
              "\n",
              "                                            geometry  \n",
              "0  MULTIPOLYGON (((180.00000 -16.06713, 180.00000...  \n",
              "1  POLYGON ((33.90371 -0.95000, 34.07262 -1.05982...  \n",
              "2  POLYGON ((-8.66559 27.65643, -8.66512 27.58948...  \n",
              "3  MULTIPOLYGON (((-122.84000 49.00000, -122.9742...  \n",
              "4  MULTIPOLYGON (((-122.84000 49.00000, -120.0000...  "
            ],
            "text/html": [
              "\n",
              "  <div id=\"df-6ab9ac38-9800-43b4-8381-923079643618\">\n",
              "    <div class=\"colab-df-container\">\n",
              "      <div>\n",
              "<style scoped>\n",
              "    .dataframe tbody tr th:only-of-type {\n",
              "        vertical-align: middle;\n",
              "    }\n",
              "\n",
              "    .dataframe tbody tr th {\n",
              "        vertical-align: top;\n",
              "    }\n",
              "\n",
              "    .dataframe thead th {\n",
              "        text-align: right;\n",
              "    }\n",
              "</style>\n",
              "<table border=\"1\" class=\"dataframe\">\n",
              "  <thead>\n",
              "    <tr style=\"text-align: right;\">\n",
              "      <th></th>\n",
              "      <th>pop_est</th>\n",
              "      <th>continent</th>\n",
              "      <th>name</th>\n",
              "      <th>iso_a3</th>\n",
              "      <th>gdp_md_est</th>\n",
              "      <th>geometry</th>\n",
              "    </tr>\n",
              "  </thead>\n",
              "  <tbody>\n",
              "    <tr>\n",
              "      <th>0</th>\n",
              "      <td>920938</td>\n",
              "      <td>Oceania</td>\n",
              "      <td>Fiji</td>\n",
              "      <td>FJI</td>\n",
              "      <td>8374.0</td>\n",
              "      <td>MULTIPOLYGON (((180.00000 -16.06713, 180.00000...</td>\n",
              "    </tr>\n",
              "    <tr>\n",
              "      <th>1</th>\n",
              "      <td>53950935</td>\n",
              "      <td>Africa</td>\n",
              "      <td>Tanzania</td>\n",
              "      <td>TZA</td>\n",
              "      <td>150600.0</td>\n",
              "      <td>POLYGON ((33.90371 -0.95000, 34.07262 -1.05982...</td>\n",
              "    </tr>\n",
              "    <tr>\n",
              "      <th>2</th>\n",
              "      <td>603253</td>\n",
              "      <td>Africa</td>\n",
              "      <td>W. Sahara</td>\n",
              "      <td>ESH</td>\n",
              "      <td>906.5</td>\n",
              "      <td>POLYGON ((-8.66559 27.65643, -8.66512 27.58948...</td>\n",
              "    </tr>\n",
              "    <tr>\n",
              "      <th>3</th>\n",
              "      <td>35623680</td>\n",
              "      <td>North America</td>\n",
              "      <td>Canada</td>\n",
              "      <td>CAN</td>\n",
              "      <td>1674000.0</td>\n",
              "      <td>MULTIPOLYGON (((-122.84000 49.00000, -122.9742...</td>\n",
              "    </tr>\n",
              "    <tr>\n",
              "      <th>4</th>\n",
              "      <td>326625791</td>\n",
              "      <td>North America</td>\n",
              "      <td>United States of America</td>\n",
              "      <td>USA</td>\n",
              "      <td>18560000.0</td>\n",
              "      <td>MULTIPOLYGON (((-122.84000 49.00000, -120.0000...</td>\n",
              "    </tr>\n",
              "  </tbody>\n",
              "</table>\n",
              "</div>\n",
              "      <button class=\"colab-df-convert\" onclick=\"convertToInteractive('df-6ab9ac38-9800-43b4-8381-923079643618')\"\n",
              "              title=\"Convert this dataframe to an interactive table.\"\n",
              "              style=\"display:none;\">\n",
              "        \n",
              "  <svg xmlns=\"http://www.w3.org/2000/svg\" height=\"24px\"viewBox=\"0 0 24 24\"\n",
              "       width=\"24px\">\n",
              "    <path d=\"M0 0h24v24H0V0z\" fill=\"none\"/>\n",
              "    <path d=\"M18.56 5.44l.94 2.06.94-2.06 2.06-.94-2.06-.94-.94-2.06-.94 2.06-2.06.94zm-11 1L8.5 8.5l.94-2.06 2.06-.94-2.06-.94L8.5 2.5l-.94 2.06-2.06.94zm10 10l.94 2.06.94-2.06 2.06-.94-2.06-.94-.94-2.06-.94 2.06-2.06.94z\"/><path d=\"M17.41 7.96l-1.37-1.37c-.4-.4-.92-.59-1.43-.59-.52 0-1.04.2-1.43.59L10.3 9.45l-7.72 7.72c-.78.78-.78 2.05 0 2.83L4 21.41c.39.39.9.59 1.41.59.51 0 1.02-.2 1.41-.59l7.78-7.78 2.81-2.81c.8-.78.8-2.07 0-2.86zM5.41 20L4 18.59l7.72-7.72 1.47 1.35L5.41 20z\"/>\n",
              "  </svg>\n",
              "      </button>\n",
              "      \n",
              "  <style>\n",
              "    .colab-df-container {\n",
              "      display:flex;\n",
              "      flex-wrap:wrap;\n",
              "      gap: 12px;\n",
              "    }\n",
              "\n",
              "    .colab-df-convert {\n",
              "      background-color: #E8F0FE;\n",
              "      border: none;\n",
              "      border-radius: 50%;\n",
              "      cursor: pointer;\n",
              "      display: none;\n",
              "      fill: #1967D2;\n",
              "      height: 32px;\n",
              "      padding: 0 0 0 0;\n",
              "      width: 32px;\n",
              "    }\n",
              "\n",
              "    .colab-df-convert:hover {\n",
              "      background-color: #E2EBFA;\n",
              "      box-shadow: 0px 1px 2px rgba(60, 64, 67, 0.3), 0px 1px 3px 1px rgba(60, 64, 67, 0.15);\n",
              "      fill: #174EA6;\n",
              "    }\n",
              "\n",
              "    [theme=dark] .colab-df-convert {\n",
              "      background-color: #3B4455;\n",
              "      fill: #D2E3FC;\n",
              "    }\n",
              "\n",
              "    [theme=dark] .colab-df-convert:hover {\n",
              "      background-color: #434B5C;\n",
              "      box-shadow: 0px 1px 3px 1px rgba(0, 0, 0, 0.15);\n",
              "      filter: drop-shadow(0px 1px 2px rgba(0, 0, 0, 0.3));\n",
              "      fill: #FFFFFF;\n",
              "    }\n",
              "  </style>\n",
              "\n",
              "      <script>\n",
              "        const buttonEl =\n",
              "          document.querySelector('#df-6ab9ac38-9800-43b4-8381-923079643618 button.colab-df-convert');\n",
              "        buttonEl.style.display =\n",
              "          google.colab.kernel.accessAllowed ? 'block' : 'none';\n",
              "\n",
              "        async function convertToInteractive(key) {\n",
              "          const element = document.querySelector('#df-6ab9ac38-9800-43b4-8381-923079643618');\n",
              "          const dataTable =\n",
              "            await google.colab.kernel.invokeFunction('convertToInteractive',\n",
              "                                                     [key], {});\n",
              "          if (!dataTable) return;\n",
              "\n",
              "          const docLinkHtml = 'Like what you see? Visit the ' +\n",
              "            '<a target=\"_blank\" href=https://colab.research.google.com/notebooks/data_table.ipynb>data table notebook</a>'\n",
              "            + ' to learn more about interactive tables.';\n",
              "          element.innerHTML = '';\n",
              "          dataTable['output_type'] = 'display_data';\n",
              "          await google.colab.output.renderOutput(dataTable, element);\n",
              "          const docLink = document.createElement('div');\n",
              "          docLink.innerHTML = docLinkHtml;\n",
              "          element.appendChild(docLink);\n",
              "        }\n",
              "      </script>\n",
              "    </div>\n",
              "  </div>\n",
              "  "
            ]
          },
          "metadata": {},
          "execution_count": 18
        }
      ]
    },
    {
      "cell_type": "code",
      "source": [
        "# This is the sample figure from https://geopandas.org/en/stable/docs/user_guide/mapping.html \n",
        "fig, ax = plt.subplots(1, 1)\n",
        "world.plot(column='pop_est', ax=ax, legend=True)\n"
      ],
      "metadata": {
        "colab": {
          "base_uri": "https://localhost:8080/",
          "height": 277
        },
        "id": "GUwww0g_WWdL",
        "outputId": "72df890e-d3f0-47f9-fe2f-e77b3118f212"
      },
      "execution_count": 15,
      "outputs": [
        {
          "output_type": "execute_result",
          "data": {
            "text/plain": [
              "<matplotlib.axes._subplots.AxesSubplot at 0x7fea4030f110>"
            ]
          },
          "metadata": {},
          "execution_count": 15
        },
        {
          "output_type": "display_data",
          "data": {
            "text/plain": [
              "<Figure size 432x288 with 2 Axes>"
            ],
            "image/png": "[encoded data removed]"
          },
          "metadata": {
            "needs_background": "light"
          }
        }
      ]
    },
    {
      "cell_type": "code",
      "source": [
        "mentalh"
      ],
      "metadata": {
        "colab": {
          "base_uri": "https://localhost:8080/",
          "height": 485
        },
        "id": "reFLyjc3Wme5",
        "outputId": "829b6666-f32e-4fbb-9f4f-815b64bd8907"
      },
      "execution_count": 16,
      "outputs": [
        {
          "output_type": "execute_result",
          "data": {
            "text/plain": [
              "           Entity Code  Year  \\\n",
              "0     Afghanistan  AFG  1990   \n",
              "1     Afghanistan  AFG  1991   \n",
              "2     Afghanistan  AFG  1992   \n",
              "3     Afghanistan  AFG  1993   \n",
              "4     Afghanistan  AFG  1994   \n",
              "...           ...  ...   ...   \n",
              "6747     Zimbabwe  ZWE  2015   \n",
              "6748     Zimbabwe  ZWE  2016   \n",
              "6749     Zimbabwe  ZWE  2017   \n",
              "6750     Zimbabwe  ZWE  2018   \n",
              "6751     Zimbabwe  ZWE  2019   \n",
              "\n",
              "      Prevalence - Mental disorders - Sex: Both - Age: Age-standardized (Percent)  \n",
              "0                                                 16.66                            \n",
              "1                                                 16.77                            \n",
              "2                                                 16.87                            \n",
              "3                                                 16.99                            \n",
              "4                                                 17.11                            \n",
              "...                                                 ...                            \n",
              "6747                                              11.16                            \n",
              "6748                                              11.16                            \n",
              "6749                                              11.17                            \n",
              "6750                                              11.16                            \n",
              "6751                                              11.12                            \n",
              "\n",
              "[6752 rows x 4 columns]"
            ],
            "text/html": [
              "\n",
              "  <div id=\"df-e222041b-12b3-4af2-bd41-bc03aac46be9\">\n",
              "    <div class=\"colab-df-container\">\n",
              "      <div>\n",
              "<style scoped>\n",
              "    .dataframe tbody tr th:only-of-type {\n",
              "        vertical-align: middle;\n",
              "    }\n",
              "\n",
              "    .dataframe tbody tr th {\n",
              "        vertical-align: top;\n",
              "    }\n",
              "\n",
              "    .dataframe thead th {\n",
              "        text-align: right;\n",
              "    }\n",
              "</style>\n",
              "<table border=\"1\" class=\"dataframe\">\n",
              "  <thead>\n",
              "    <tr style=\"text-align: right;\">\n",
              "      <th></th>\n",
              "      <th>Entity</th>\n",
              "      <th>Code</th>\n",
              "      <th>Year</th>\n",
              "      <th>Prevalence - Mental disorders - Sex: Both - Age: Age-standardized (Percent)</th>\n",
              "    </tr>\n",
              "  </thead>\n",
              "  <tbody>\n",
              "    <tr>\n",
              "      <th>0</th>\n",
              "      <td>Afghanistan</td>\n",
              "      <td>AFG</td>\n",
              "      <td>1990</td>\n",
              "      <td>16.66</td>\n",
              "    </tr>\n",
              "    <tr>\n",
              "      <th>1</th>\n",
              "      <td>Afghanistan</td>\n",
              "      <td>AFG</td>\n",
              "      <td>1991</td>\n",
              "      <td>16.77</td>\n",
              "    </tr>\n",
              "    <tr>\n",
              "      <th>2</th>\n",
              "      <td>Afghanistan</td>\n",
              "      <td>AFG</td>\n",
              "      <td>1992</td>\n",
              "      <td>16.87</td>\n",
              "    </tr>\n",
              "    <tr>\n",
              "      <th>3</th>\n",
              "      <td>Afghanistan</td>\n",
              "      <td>AFG</td>\n",
              "      <td>1993</td>\n",
              "      <td>16.99</td>\n",
              "    </tr>\n",
              "    <tr>\n",
              "      <th>4</th>\n",
              "      <td>Afghanistan</td>\n",
              "      <td>AFG</td>\n",
              "      <td>1994</td>\n",
              "      <td>17.11</td>\n",
              "    </tr>\n",
              "    <tr>\n",
              "      <th>...</th>\n",
              "      <td>...</td>\n",
              "      <td>...</td>\n",
              "      <td>...</td>\n",
              "      <td>...</td>\n",
              "    </tr>\n",
              "    <tr>\n",
              "      <th>6747</th>\n",
              "      <td>Zimbabwe</td>\n",
              "      <td>ZWE</td>\n",
              "      <td>2015</td>\n",
              "      <td>11.16</td>\n",
              "    </tr>\n",
              "    <tr>\n",
              "      <th>6748</th>\n",
              "      <td>Zimbabwe</td>\n",
              "      <td>ZWE</td>\n",
              "      <td>2016</td>\n",
              "      <td>11.16</td>\n",
              "    </tr>\n",
              "    <tr>\n",
              "      <th>6749</th>\n",
              "      <td>Zimbabwe</td>\n",
              "      <td>ZWE</td>\n",
              "      <td>2017</td>\n",
              "      <td>11.17</td>\n",
              "    </tr>\n",
              "    <tr>\n",
              "      <th>6750</th>\n",
              "      <td>Zimbabwe</td>\n",
              "      <td>ZWE</td>\n",
              "      <td>2018</td>\n",
              "      <td>11.16</td>\n",
              "    </tr>\n",
              "    <tr>\n",
              "      <th>6751</th>\n",
              "      <td>Zimbabwe</td>\n",
              "      <td>ZWE</td>\n",
              "      <td>2019</td>\n",
              "      <td>11.12</td>\n",
              "    </tr>\n",
              "  </tbody>\n",
              "</table>\n",
              "<p>6752 rows × 4 columns</p>\n",
              "</div>\n",
              "      <button class=\"colab-df-convert\" onclick=\"convertToInteractive('df-e222041b-12b3-4af2-bd41-bc03aac46be9')\"\n",
              "              title=\"Convert this dataframe to an interactive table.\"\n",
              "              style=\"display:none;\">\n",
              "        \n",
              "  <svg xmlns=\"http://www.w3.org/2000/svg\" height=\"24px\"viewBox=\"0 0 24 24\"\n",
              "       width=\"24px\">\n",
              "    <path d=\"M0 0h24v24H0V0z\" fill=\"none\"/>\n",
              "    <path d=\"M18.56 5.44l.94 2.06.94-2.06 2.06-.94-2.06-.94-.94-2.06-.94 2.06-2.06.94zm-11 1L8.5 8.5l.94-2.06 2.06-.94-2.06-.94L8.5 2.5l-.94 2.06-2.06.94zm10 10l.94 2.06.94-2.06 2.06-.94-2.06-.94-.94-2.06-.94 2.06-2.06.94z\"/><path d=\"M17.41 7.96l-1.37-1.37c-.4-.4-.92-.59-1.43-.59-.52 0-1.04.2-1.43.59L10.3 9.45l-7.72 7.72c-.78.78-.78 2.05 0 2.83L4 21.41c.39.39.9.59 1.41.59.51 0 1.02-.2 1.41-.59l7.78-7.78 2.81-2.81c.8-.78.8-2.07 0-2.86zM5.41 20L4 18.59l7.72-7.72 1.47 1.35L5.41 20z\"/>\n",
              "  </svg>\n",
              "      </button>\n",
              "      \n",
              "  <style>\n",
              "    .colab-df-container {\n",
              "      display:flex;\n",
              "      flex-wrap:wrap;\n",
              "      gap: 12px;\n",
              "    }\n",
              "\n",
              "    .colab-df-convert {\n",
              "      background-color: #E8F0FE;\n",
              "      border: none;\n",
              "      border-radius: 50%;\n",
              "      cursor: pointer;\n",
              "      display: none;\n",
              "      fill: #1967D2;\n",
              "      height: 32px;\n",
              "      padding: 0 0 0 0;\n",
              "      width: 32px;\n",
              "    }\n",
              "\n",
              "    .colab-df-convert:hover {\n",
              "      background-color: #E2EBFA;\n",
              "      box-shadow: 0px 1px 2px rgba(60, 64, 67, 0.3), 0px 1px 3px 1px rgba(60, 64, 67, 0.15);\n",
              "      fill: #174EA6;\n",
              "    }\n",
              "\n",
              "    [theme=dark] .colab-df-convert {\n",
              "      background-color: #3B4455;\n",
              "      fill: #D2E3FC;\n",
              "    }\n",
              "\n",
              "    [theme=dark] .colab-df-convert:hover {\n",
              "      background-color: #434B5C;\n",
              "      box-shadow: 0px 1px 3px 1px rgba(0, 0, 0, 0.15);\n",
              "      filter: drop-shadow(0px 1px 2px rgba(0, 0, 0, 0.3));\n",
              "      fill: #FFFFFF;\n",
              "    }\n",
              "  </style>\n",
              "\n",
              "      <script>\n",
              "        const buttonEl =\n",
              "          document.querySelector('#df-e222041b-12b3-4af2-bd41-bc03aac46be9 button.colab-df-convert');\n",
              "        buttonEl.style.display =\n",
              "          google.colab.kernel.accessAllowed ? 'block' : 'none';\n",
              "\n",
              "        async function convertToInteractive(key) {\n",
              "          const element = document.querySelector('#df-e222041b-12b3-4af2-bd41-bc03aac46be9');\n",
              "          const dataTable =\n",
              "            await google.colab.kernel.invokeFunction('convertToInteractive',\n",
              "                                                     [key], {});\n",
              "          if (!dataTable) return;\n",
              "\n",
              "          const docLinkHtml = 'Like what you see? Visit the ' +\n",
              "            '<a target=\"_blank\" href=https://colab.research.google.com/notebooks/data_table.ipynb>data table notebook</a>'\n",
              "            + ' to learn more about interactive tables.';\n",
              "          element.innerHTML = '';\n",
              "          dataTable['output_type'] = 'display_data';\n",
              "          await google.colab.output.renderOutput(dataTable, element);\n",
              "          const docLink = document.createElement('div');\n",
              "          docLink.innerHTML = docLinkHtml;\n",
              "          element.appendChild(docLink);\n",
              "        }\n",
              "      </script>\n",
              "    </div>\n",
              "  </div>\n",
              "  "
            ]
          },
          "metadata": {},
          "execution_count": 16
        }
      ]
    },
    {
      "cell_type": "code",
      "source": [
        "mentalh[\"pct\"] = mentalh[\"Prevalence - Mental disorders - Sex: Both - Age: Age-standardized (Percent)\"]"
      ],
      "metadata": {
        "id": "R3Rn2wUtW0at"
      },
      "execution_count": 17,
      "outputs": []
    },
    {
      "cell_type": "code",
      "source": [
        "merged = world.merge(mentalh.query(\"Year == 2019\"), left_on = \"name\", right_on=\"Entity\" )"
      ],
      "metadata": {
        "id": "ZK_aTRSyW-zN"
      },
      "execution_count": 21,
      "outputs": []
    },
    {
      "cell_type": "code",
      "source": [
        "len(merged), len(world), len(mentalh.query(\"Year==2019\"))\n",
        "merged.head()"
      ],
      "metadata": {
        "colab": {
          "base_uri": "https://localhost:8080/",
          "height": 687
        },
        "id": "0987DLHsXaog",
        "outputId": "e1c4f4e0-5cea-41df-d39a-a6230ae0ded5"
      },
      "execution_count": 24,
      "outputs": [
        {
          "output_type": "execute_result",
          "data": {
            "text/plain": [
              "    pop_est      continent        name iso_a3  gdp_md_est  \\\n",
              "0    920938        Oceania        Fiji    FJI      8374.0   \n",
              "1  53950935         Africa    Tanzania    TZA    150600.0   \n",
              "2  35623680  North America      Canada    CAN   1674000.0   \n",
              "3  18556698           Asia  Kazakhstan    KAZ    460700.0   \n",
              "4  29748859           Asia  Uzbekistan    UZB    202300.0   \n",
              "\n",
              "                                            geometry      Entity Code  Year  \\\n",
              "0  MULTIPOLYGON (((180.00000 -16.06713, 180.00000...        Fiji  FJI  2019   \n",
              "1  POLYGON ((33.90371 -0.95000, 34.07262 -1.05982...    Tanzania  TZA  2019   \n",
              "2  MULTIPOLYGON (((-122.84000 49.00000, -122.9742...      Canada  CAN  2019   \n",
              "3  POLYGON ((87.35997 49.21498, 86.59878 48.54918...  Kazakhstan  KAZ  2019   \n",
              "4  POLYGON ((55.96819 41.30864, 55.92892 44.99586...  Uzbekistan  UZB  2019   \n",
              "\n",
              "   Prevalence - Mental disorders - Sex: Both - Age: Age-standardized (Percent)  \\\n",
              "0                                              11.54                             \n",
              "1                                              12.58                             \n",
              "2                                              14.95                             \n",
              "3                                              10.61                             \n",
              "4                                              10.56                             \n",
              "\n",
              "     pct  \n",
              "0  11.54  \n",
              "1  12.58  \n",
              "2  14.95  \n",
              "3  10.61  \n",
              "4  10.56  "
            ],
            "text/html": [
              "\n",
              "  <div id=\"df-5f4c343f-d89e-4789-b151-74ec3a4be087\">\n",
              "    <div class=\"colab-df-container\">\n",
              "      <div>\n",
              "<style scoped>\n",
              "    .dataframe tbody tr th:only-of-type {\n",
              "        vertical-align: middle;\n",
              "    }\n",
              "\n",
              "    .dataframe tbody tr th {\n",
              "        vertical-align: top;\n",
              "    }\n",
              "\n",
              "    .dataframe thead th {\n",
              "        text-align: right;\n",
              "    }\n",
              "</style>\n",
              "<table border=\"1\" class=\"dataframe\">\n",
              "  <thead>\n",
              "    <tr style=\"text-align: right;\">\n",
              "      <th></th>\n",
              "      <th>pop_est</th>\n",
              "      <th>continent</th>\n",
              "      <th>name</th>\n",
              "      <th>iso_a3</th>\n",
              "      <th>gdp_md_est</th>\n",
              "      <th>geometry</th>\n",
              "      <th>Entity</th>\n",
              "      <th>Code</th>\n",
              "      <th>Year</th>\n",
              "      <th>Prevalence - Mental disorders - Sex: Both - Age: Age-standardized (Percent)</th>\n",
              "      <th>pct</th>\n",
              "    </tr>\n",
              "  </thead>\n",
              "  <tbody>\n",
              "    <tr>\n",
              "      <th>0</th>\n",
              "      <td>920938</td>\n",
              "      <td>Oceania</td>\n",
              "      <td>Fiji</td>\n",
              "      <td>FJI</td>\n",
              "      <td>8374.0</td>\n",
              "      <td>MULTIPOLYGON (((180.00000 -16.06713, 180.00000...</td>\n",
              "      <td>Fiji</td>\n",
              "      <td>FJI</td>\n",
              "      <td>2019</td>\n",
              "      <td>11.54</td>\n",
              "      <td>11.54</td>\n",
              "    </tr>\n",
              "    <tr>\n",
              "      <th>1</th>\n",
              "      <td>53950935</td>\n",
              "      <td>Africa</td>\n",
              "      <td>Tanzania</td>\n",
              "      <td>TZA</td>\n",
              "      <td>150600.0</td>\n",
              "      <td>POLYGON ((33.90371 -0.95000, 34.07262 -1.05982...</td>\n",
              "      <td>Tanzania</td>\n",
              "      <td>TZA</td>\n",
              "      <td>2019</td>\n",
              "      <td>12.58</td>\n",
              "      <td>12.58</td>\n",
              "    </tr>\n",
              "    <tr>\n",
              "      <th>2</th>\n",
              "      <td>35623680</td>\n",
              "      <td>North America</td>\n",
              "      <td>Canada</td>\n",
              "      <td>CAN</td>\n",
              "      <td>1674000.0</td>\n",
              "      <td>MULTIPOLYGON (((-122.84000 49.00000, -122.9742...</td>\n",
              "      <td>Canada</td>\n",
              "      <td>CAN</td>\n",
              "      <td>2019</td>\n",
              "      <td>14.95</td>\n",
              "      <td>14.95</td>\n",
              "    </tr>\n",
              "    <tr>\n",
              "      <th>3</th>\n",
              "      <td>18556698</td>\n",
              "      <td>Asia</td>\n",
              "      <td>Kazakhstan</td>\n",
              "      <td>KAZ</td>\n",
              "      <td>460700.0</td>\n",
              "      <td>POLYGON ((87.35997 49.21498, 86.59878 48.54918...</td>\n",
              "      <td>Kazakhstan</td>\n",
              "      <td>KAZ</td>\n",
              "      <td>2019</td>\n",
              "      <td>10.61</td>\n",
              "      <td>10.61</td>\n",
              "    </tr>\n",
              "    <tr>\n",
              "      <th>4</th>\n",
              "      <td>29748859</td>\n",
              "      <td>Asia</td>\n",
              "      <td>Uzbekistan</td>\n",
              "      <td>UZB</td>\n",
              "      <td>202300.0</td>\n",
              "      <td>POLYGON ((55.96819 41.30864, 55.92892 44.99586...</td>\n",
              "      <td>Uzbekistan</td>\n",
              "      <td>UZB</td>\n",
              "      <td>2019</td>\n",
              "      <td>10.56</td>\n",
              "      <td>10.56</td>\n",
              "    </tr>\n",
              "  </tbody>\n",
              "</table>\n",
              "</div>\n",
              "      <button class=\"colab-df-convert\" onclick=\"convertToInteractive('df-5f4c343f-d89e-4789-b151-74ec3a4be087')\"\n",
              "              title=\"Convert this dataframe to an interactive table.\"\n",
              "              style=\"display:none;\">\n",
              "        \n",
              "  <svg xmlns=\"http://www.w3.org/2000/svg\" height=\"24px\"viewBox=\"0 0 24 24\"\n",
              "       width=\"24px\">\n",
              "    <path d=\"M0 0h24v24H0V0z\" fill=\"none\"/>\n",
              "    <path d=\"M18.56 5.44l.94 2.06.94-2.06 2.06-.94-2.06-.94-.94-2.06-.94 2.06-2.06.94zm-11 1L8.5 8.5l.94-2.06 2.06-.94-2.06-.94L8.5 2.5l-.94 2.06-2.06.94zm10 10l.94 2.06.94-2.06 2.06-.94-2.06-.94-.94-2.06-.94 2.06-2.06.94z\"/><path d=\"M17.41 7.96l-1.37-1.37c-.4-.4-.92-.59-1.43-.59-.52 0-1.04.2-1.43.59L10.3 9.45l-7.72 7.72c-.78.78-.78 2.05 0 2.83L4 21.41c.39.39.9.59 1.41.59.51 0 1.02-.2 1.41-.59l7.78-7.78 2.81-2.81c.8-.78.8-2.07 0-2.86zM5.41 20L4 18.59l7.72-7.72 1.47 1.35L5.41 20z\"/>\n",
              "  </svg>\n",
              "      </button>\n",
              "      \n",
              "  <style>\n",
              "    .colab-df-container {\n",
              "      display:flex;\n",
              "      flex-wrap:wrap;\n",
              "      gap: 12px;\n",
              "    }\n",
              "\n",
              "    .colab-df-convert {\n",
              "      background-color: #E8F0FE;\n",
              "      border: none;\n",
              "      border-radius: 50%;\n",
              "      cursor: pointer;\n",
              "      display: none;\n",
              "      fill: #1967D2;\n",
              "      height: 32px;\n",
              "      padding: 0 0 0 0;\n",
              "      width: 32px;\n",
              "    }\n",
              "\n",
              "    .colab-df-convert:hover {\n",
              "      background-color: #E2EBFA;\n",
              "      box-shadow: 0px 1px 2px rgba(60, 64, 67, 0.3), 0px 1px 3px 1px rgba(60, 64, 67, 0.15);\n",
              "      fill: #174EA6;\n",
              "    }\n",
              "\n",
              "    [theme=dark] .colab-df-convert {\n",
              "      background-color: #3B4455;\n",
              "      fill: #D2E3FC;\n",
              "    }\n",
              "\n",
              "    [theme=dark] .colab-df-convert:hover {\n",
              "      background-color: #434B5C;\n",
              "      box-shadow: 0px 1px 3px 1px rgba(0, 0, 0, 0.15);\n",
              "      filter: drop-shadow(0px 1px 2px rgba(0, 0, 0, 0.3));\n",
              "      fill: #FFFFFF;\n",
              "    }\n",
              "  </style>\n",
              "\n",
              "      <script>\n",
              "        const buttonEl =\n",
              "          document.querySelector('#df-5f4c343f-d89e-4789-b151-74ec3a4be087 button.colab-df-convert');\n",
              "        buttonEl.style.display =\n",
              "          google.colab.kernel.accessAllowed ? 'block' : 'none';\n",
              "\n",
              "        async function convertToInteractive(key) {\n",
              "          const element = document.querySelector('#df-5f4c343f-d89e-4789-b151-74ec3a4be087');\n",
              "          const dataTable =\n",
              "            await google.colab.kernel.invokeFunction('convertToInteractive',\n",
              "                                                     [key], {});\n",
              "          if (!dataTable) return;\n",
              "\n",
              "          const docLinkHtml = 'Like what you see? Visit the ' +\n",
              "            '<a target=\"_blank\" href=https://colab.research.google.com/notebooks/data_table.ipynb>data table notebook</a>'\n",
              "            + ' to learn more about interactive tables.';\n",
              "          element.innerHTML = '';\n",
              "          dataTable['output_type'] = 'display_data';\n",
              "          await google.colab.output.renderOutput(dataTable, element);\n",
              "          const docLink = document.createElement('div');\n",
              "          docLink.innerHTML = docLinkHtml;\n",
              "          element.appendChild(docLink);\n",
              "        }\n",
              "      </script>\n",
              "    </div>\n",
              "  </div>\n",
              "  "
            ]
          },
          "metadata": {},
          "execution_count": 24
        }
      ]
    },
    {
      "cell_type": "code",
      "source": [
        "fig, ax = plt.subplots(1, 1)\n",
        "merged.plot(column='pct', ax=ax, legend=True)"
      ],
      "metadata": {
        "colab": {
          "base_uri": "https://localhost:8080/",
          "height": 266
        },
        "id": "tZ66Y2oRXdvD",
        "outputId": "f433600b-8034-48dc-917a-49a42b9228f8"
      },
      "execution_count": 26,
      "outputs": [
        {
          "output_type": "execute_result",
          "data": {
            "text/plain": [
              "<matplotlib.axes._subplots.AxesSubplot at 0x7fea3d827f50>"
            ]
          },
          "metadata": {},
          "execution_count": 26
        },
        {
          "output_type": "display_data",
          "data": {
            "text/plain": [
              "<Figure size 432x288 with 2 Axes>"
            ],
            "image/png": "[encoded data removed]"
          },
          "metadata": {
            "needs_background": "light"
          }
        }
      ]
    },
    {
      "cell_type": "code",
      "source": [
        "# What's wrong with this picture?  \n",
        "\n",
        "# Some countries are missing.  DRC, USA, Ivory Coast"
      ],
      "metadata": {
        "id": "B71B-ZAchOAY"
      },
      "execution_count": null,
      "outputs": []
    },
    {
      "cell_type": "code",
      "source": [
        "world.name.to_csv(\"World-countries.csv\")"
      ],
      "metadata": {
        "id": "gSy0KdzFX1Bl"
      },
      "execution_count": 31,
      "outputs": []
    },
    {
      "cell_type": "code",
      "source": [
        "files.download(\"World-countries.csv\")"
      ],
      "metadata": {
        "colab": {
          "base_uri": "https://localhost:8080/",
          "height": 17
        },
        "id": "IO34rJL1YLia",
        "outputId": "2833ec1c-5d3d-42ce-9b37-a72e245ee69d"
      },
      "execution_count": 33,
      "outputs": [
        {
          "output_type": "display_data",
          "data": {
            "text/plain": [
              "<IPython.core.display.Javascript object>"
            ],
            "application/javascript": [
              "\n",
              "    async function download(id, filename, size) {\n",
              "      if (!google.colab.kernel.accessAllowed) {\n",
              "        return;\n",
              "      }\n",
              "      const div = document.createElement('div');\n",
              "      const label = document.createElement('label');\n",
              "      label.textContent = `Downloading \"${filename}\": `;\n",
              "      div.appendChild(label);\n",
              "      const progress = document.createElement('progress');\n",
              "      progress.max = size;\n",
              "      div.appendChild(progress);\n",
              "      document.body.appendChild(div);\n",
              "\n",
              "      const buffers = [];\n",
              "      let downloaded = 0;\n",
              "\n",
              "      const channel = await google.colab.kernel.comms.open(id);\n",
              "      // Send a message to notify the kernel that we're ready.\n",
              "      channel.send({})\n",
              "\n",
              "      for await (const message of channel.messages) {\n",
              "        // Send a message to notify the kernel that we're ready.\n",
              "        channel.send({})\n",
              "        if (message.buffers) {\n",
              "          for (const buffer of message.buffers) {\n",
              "            buffers.push(buffer);\n",
              "            downloaded += buffer.byteLength;\n",
              "            progress.value = downloaded;\n",
              "          }\n",
              "        }\n",
              "      }\n",
              "      const blob = new Blob(buffers, {type: 'application/binary'});\n",
              "      const a = document.createElement('a');\n",
              "      a.href = window.URL.createObjectURL(blob);\n",
              "      a.download = filename;\n",
              "      div.appendChild(a);\n",
              "      a.click();\n",
              "      div.remove();\n",
              "    }\n",
              "  "
            ]
          },
          "metadata": {}
        },
        {
          "output_type": "display_data",
          "data": {
            "text/plain": [
              "<IPython.core.display.Javascript object>"
            ],
            "application/javascript": [
              "download(\"download_5e28ab34-5fa7-4731-b70f-b23f032bf9e0\", \"World-countries.csv\", 2215)"
            ]
          },
          "metadata": {}
        }
      ]
    },
    {
      "cell_type": "code",
      "source": [
        "allmerged = world.merge(mentalh.query(\"Year == 2019\"), left_on = \"name\", right_on=\"Entity\", how=\"outer\" )"
      ],
      "metadata": {
        "id": "Giz9IPACZEyS"
      },
      "execution_count": 35,
      "outputs": []
    },
    {
      "cell_type": "code",
      "source": [
        "allmerged.head(1)"
      ],
      "metadata": {
        "colab": {
          "base_uri": "https://localhost:8080/",
          "height": 301
        },
        "id": "gkxBgWCeZpQj",
        "outputId": "9a59eeb2-3eb6-482f-de67-79efc8e51672"
      },
      "execution_count": 36,
      "outputs": [
        {
          "output_type": "execute_result",
          "data": {
            "text/plain": [
              "    pop_est continent  name iso_a3  gdp_md_est  \\\n",
              "0  920938.0   Oceania  Fiji    FJI      8374.0   \n",
              "\n",
              "                                            geometry Entity Code    Year  \\\n",
              "0  MULTIPOLYGON (((180.00000 -16.06713, 180.00000...   Fiji  FJI  2019.0   \n",
              "\n",
              "   Prevalence - Mental disorders - Sex: Both - Age: Age-standardized (Percent)  \\\n",
              "0                                              11.54                             \n",
              "\n",
              "     pct  \n",
              "0  11.54  "
            ],
            "text/html": [
              "\n",
              "  <div id=\"df-58213bf7-d9cb-45aa-a0c0-3ac5bd43b5aa\">\n",
              "    <div class=\"colab-df-container\">\n",
              "      <div>\n",
              "<style scoped>\n",
              "    .dataframe tbody tr th:only-of-type {\n",
              "        vertical-align: middle;\n",
              "    }\n",
              "\n",
              "    .dataframe tbody tr th {\n",
              "        vertical-align: top;\n",
              "    }\n",
              "\n",
              "    .dataframe thead th {\n",
              "        text-align: right;\n",
              "    }\n",
              "</style>\n",
              "<table border=\"1\" class=\"dataframe\">\n",
              "  <thead>\n",
              "    <tr style=\"text-align: right;\">\n",
              "      <th></th>\n",
              "      <th>pop_est</th>\n",
              "      <th>continent</th>\n",
              "      <th>name</th>\n",
              "      <th>iso_a3</th>\n",
              "      <th>gdp_md_est</th>\n",
              "      <th>geometry</th>\n",
              "      <th>Entity</th>\n",
              "      <th>Code</th>\n",
              "      <th>Year</th>\n",
              "      <th>Prevalence - Mental disorders - Sex: Both - Age: Age-standardized (Percent)</th>\n",
              "      <th>pct</th>\n",
              "    </tr>\n",
              "  </thead>\n",
              "  <tbody>\n",
              "    <tr>\n",
              "      <th>0</th>\n",
              "      <td>920938.0</td>\n",
              "      <td>Oceania</td>\n",
              "      <td>Fiji</td>\n",
              "      <td>FJI</td>\n",
              "      <td>8374.0</td>\n",
              "      <td>MULTIPOLYGON (((180.00000 -16.06713, 180.00000...</td>\n",
              "      <td>Fiji</td>\n",
              "      <td>FJI</td>\n",
              "      <td>2019.0</td>\n",
              "      <td>11.54</td>\n",
              "      <td>11.54</td>\n",
              "    </tr>\n",
              "  </tbody>\n",
              "</table>\n",
              "</div>\n",
              "      <button class=\"colab-df-convert\" onclick=\"convertToInteractive('df-58213bf7-d9cb-45aa-a0c0-3ac5bd43b5aa')\"\n",
              "              title=\"Convert this dataframe to an interactive table.\"\n",
              "              style=\"display:none;\">\n",
              "        \n",
              "  <svg xmlns=\"http://www.w3.org/2000/svg\" height=\"24px\"viewBox=\"0 0 24 24\"\n",
              "       width=\"24px\">\n",
              "    <path d=\"M0 0h24v24H0V0z\" fill=\"none\"/>\n",
              "    <path d=\"M18.56 5.44l.94 2.06.94-2.06 2.06-.94-2.06-.94-.94-2.06-.94 2.06-2.06.94zm-11 1L8.5 8.5l.94-2.06 2.06-.94-2.06-.94L8.5 2.5l-.94 2.06-2.06.94zm10 10l.94 2.06.94-2.06 2.06-.94-2.06-.94-.94-2.06-.94 2.06-2.06.94z\"/><path d=\"M17.41 7.96l-1.37-1.37c-.4-.4-.92-.59-1.43-.59-.52 0-1.04.2-1.43.59L10.3 9.45l-7.72 7.72c-.78.78-.78 2.05 0 2.83L4 21.41c.39.39.9.59 1.41.59.51 0 1.02-.2 1.41-.59l7.78-7.78 2.81-2.81c.8-.78.8-2.07 0-2.86zM5.41 20L4 18.59l7.72-7.72 1.47 1.35L5.41 20z\"/>\n",
              "  </svg>\n",
              "      </button>\n",
              "      \n",
              "  <style>\n",
              "    .colab-df-container {\n",
              "      display:flex;\n",
              "      flex-wrap:wrap;\n",
              "      gap: 12px;\n",
              "    }\n",
              "\n",
              "    .colab-df-convert {\n",
              "      background-color: #E8F0FE;\n",
              "      border: none;\n",
              "      border-radius: 50%;\n",
              "      cursor: pointer;\n",
              "      display: none;\n",
              "      fill: #1967D2;\n",
              "      height: 32px;\n",
              "      padding: 0 0 0 0;\n",
              "      width: 32px;\n",
              "    }\n",
              "\n",
              "    .colab-df-convert:hover {\n",
              "      background-color: #E2EBFA;\n",
              "      box-shadow: 0px 1px 2px rgba(60, 64, 67, 0.3), 0px 1px 3px 1px rgba(60, 64, 67, 0.15);\n",
              "      fill: #174EA6;\n",
              "    }\n",
              "\n",
              "    [theme=dark] .colab-df-convert {\n",
              "      background-color: #3B4455;\n",
              "      fill: #D2E3FC;\n",
              "    }\n",
              "\n",
              "    [theme=dark] .colab-df-convert:hover {\n",
              "      background-color: #434B5C;\n",
              "      box-shadow: 0px 1px 3px 1px rgba(0, 0, 0, 0.15);\n",
              "      filter: drop-shadow(0px 1px 2px rgba(0, 0, 0, 0.3));\n",
              "      fill: #FFFFFF;\n",
              "    }\n",
              "  </style>\n",
              "\n",
              "      <script>\n",
              "        const buttonEl =\n",
              "          document.querySelector('#df-58213bf7-d9cb-45aa-a0c0-3ac5bd43b5aa button.colab-df-convert');\n",
              "        buttonEl.style.display =\n",
              "          google.colab.kernel.accessAllowed ? 'block' : 'none';\n",
              "\n",
              "        async function convertToInteractive(key) {\n",
              "          const element = document.querySelector('#df-58213bf7-d9cb-45aa-a0c0-3ac5bd43b5aa');\n",
              "          const dataTable =\n",
              "            await google.colab.kernel.invokeFunction('convertToInteractive',\n",
              "                                                     [key], {});\n",
              "          if (!dataTable) return;\n",
              "\n",
              "          const docLinkHtml = 'Like what you see? Visit the ' +\n",
              "            '<a target=\"_blank\" href=https://colab.research.google.com/notebooks/data_table.ipynb>data table notebook</a>'\n",
              "            + ' to learn more about interactive tables.';\n",
              "          element.innerHTML = '';\n",
              "          dataTable['output_type'] = 'display_data';\n",
              "          await google.colab.output.renderOutput(dataTable, element);\n",
              "          const docLink = document.createElement('div');\n",
              "          docLink.innerHTML = docLinkHtml;\n",
              "          element.appendChild(docLink);\n",
              "        }\n",
              "      </script>\n",
              "    </div>\n",
              "  </div>\n",
              "  "
            ]
          },
          "metadata": {},
          "execution_count": 36
        }
      ]
    },
    {
      "cell_type": "code",
      "source": [
        "mergefail = allmerged[[\"name\", \"Entity\"]]"
      ],
      "metadata": {
        "id": "wjKN5_YwZwZ9"
      },
      "execution_count": 37,
      "outputs": []
    },
    {
      "cell_type": "code",
      "source": [
        "mergefail.to_csv(\"mergefail.csv\")"
      ],
      "metadata": {
        "id": "9ngIadNIZr_V"
      },
      "execution_count": 38,
      "outputs": []
    },
    {
      "cell_type": "code",
      "source": [
        "files.download(\"mergefail.csv\")"
      ],
      "metadata": {
        "colab": {
          "base_uri": "https://localhost:8080/",
          "height": 17
        },
        "id": "qw-kXsf3Z2cB",
        "outputId": "11d1e40e-5e8f-4ba1-bb1c-c7611b935825"
      },
      "execution_count": 39,
      "outputs": [
        {
          "output_type": "display_data",
          "data": {
            "text/plain": [
              "<IPython.core.display.Javascript object>"
            ],
            "application/javascript": [
              "\n",
              "    async function download(id, filename, size) {\n",
              "      if (!google.colab.kernel.accessAllowed) {\n",
              "        return;\n",
              "      }\n",
              "      const div = document.createElement('div');\n",
              "      const label = document.createElement('label');\n",
              "      label.textContent = `Downloading \"${filename}\": `;\n",
              "      div.appendChild(label);\n",
              "      const progress = document.createElement('progress');\n",
              "      progress.max = size;\n",
              "      div.appendChild(progress);\n",
              "      document.body.appendChild(div);\n",
              "\n",
              "      const buffers = [];\n",
              "      let downloaded = 0;\n",
              "\n",
              "      const channel = await google.colab.kernel.comms.open(id);\n",
              "      // Send a message to notify the kernel that we're ready.\n",
              "      channel.send({})\n",
              "\n",
              "      for await (const message of channel.messages) {\n",
              "        // Send a message to notify the kernel that we're ready.\n",
              "        channel.send({})\n",
              "        if (message.buffers) {\n",
              "          for (const buffer of message.buffers) {\n",
              "            buffers.push(buffer);\n",
              "            downloaded += buffer.byteLength;\n",
              "            progress.value = downloaded;\n",
              "          }\n",
              "        }\n",
              "      }\n",
              "      const blob = new Blob(buffers, {type: 'application/binary'});\n",
              "      const a = document.createElement('a');\n",
              "      a.href = window.URL.createObjectURL(blob);\n",
              "      a.download = filename;\n",
              "      div.appendChild(a);\n",
              "      a.click();\n",
              "      div.remove();\n",
              "    }\n",
              "  "
            ]
          },
          "metadata": {}
        },
        {
          "output_type": "display_data",
          "data": {
            "text/plain": [
              "<IPython.core.display.Javascript object>"
            ],
            "application/javascript": [
              "download(\"download_a4d84cfa-9a69-4b42-862a-d9793b0983a0\", \"mergefail.csv\", 5043)"
            ]
          },
          "metadata": {}
        }
      ]
    },
    {
      "cell_type": "code",
      "source": [
        "# Interlude outside of the notebook : I will use a spreadsheet to sort\n",
        "# and try to align these left-country names and right-country names\n",
        "# and put the result in DATA.\n",
        "# fixme.csv should have two columns, one with world.name values and one\n",
        "# with corresponding mentalh.Entity country names"
      ],
      "metadata": {
        "id": "J_nfYtSvhe3t"
      },
      "execution_count": null,
      "outputs": []
    },
    {
      "cell_type": "code",
      "source": [
        "files.upload()"
      ],
      "metadata": {
        "colab": {
          "base_uri": "https://localhost:8080/",
          "height": 131
        },
        "id": "K4EyGrwBZ4AD",
        "outputId": "5d515557-8f19-4471-c9f1-674b31ed6d1f"
      },
      "execution_count": 44,
      "outputs": [
        {
          "output_type": "display_data",
          "data": {
            "text/plain": [
              "<IPython.core.display.HTML object>"
            ],
            "text/html": [
              "\n",
              "     <input type=\"file\" id=\"files-1e1c8943-44c2-4f08-aa84-aa9542c67530\" name=\"files[]\" multiple disabled\n",
              "        style=\"border:none\" />\n",
              "     <output id=\"result-1e1c8943-44c2-4f08-aa84-aa9542c67530\">\n",
              "      Upload widget is only available when the cell has been executed in the\n",
              "      current browser session. Please rerun this cell to enable.\n",
              "      </output>\n",
              "      <script>// Copyright 2017 Google LLC\n",
              "//\n",
              "// Licensed under the Apache License, Version 2.0 (the \"License\");\n",
              "// you may not use this file except in compliance with the License.\n",
              "// You may obtain a copy of the License at\n",
              "//\n",
              "//      http://www.apache.org/licenses/LICENSE-2.0\n",
              "//\n",
              "// Unless required by applicable law or agreed to in writing, software\n",
              "// distributed under the License is distributed on an \"AS IS\" BASIS,\n",
              "// WITHOUT WARRANTIES OR CONDITIONS OF ANY KIND, either express or implied.\n",
              "// See the License for the specific language governing permissions and\n",
              "// limitations under the License.\n",
              "\n",
              "/**\n",
              " * @fileoverview Helpers for google.colab Python module.\n",
              " */\n",
              "(function(scope) {\n",
              "function span(text, styleAttributes = {}) {\n",
              "  const element = document.createElement('span');\n",
              "  element.textContent = text;\n",
              "  for (const key of Object.keys(styleAttributes)) {\n",
              "    element.style[key] = styleAttributes[key];\n",
              "  }\n",
              "  return element;\n",
              "}\n",
              "\n",
              "// Max number of bytes which will be uploaded at a time.\n",
              "const MAX_PAYLOAD_SIZE = 100 * 1024;\n",
              "\n",
              "function _uploadFiles(inputId, outputId) {\n",
              "  const steps = uploadFilesStep(inputId, outputId);\n",
              "  const outputElement = document.getElementById(outputId);\n",
              "  // Cache steps on the outputElement to make it available for the next call\n",
              "  // to uploadFilesContinue from Python.\n",
              "  outputElement.steps = steps;\n",
              "\n",
              "  return _uploadFilesContinue(outputId);\n",
              "}\n",
              "\n",
              "// This is roughly an async generator (not supported in the browser yet),\n",
              "// where there are multiple asynchronous steps and the Python side is going\n",
              "// to poll for completion of each step.\n",
              "// This uses a Promise to block the python side on completion of each step,\n",
              "// then passes the result of the previous step as the input to the next step.\n",
              "function _uploadFilesContinue(outputId) {\n",
              "  const outputElement = document.getElementById(outputId);\n",
              "  const steps = outputElement.steps;\n",
              "\n",
              "  const next = steps.next(outputElement.lastPromiseValue);\n",
              "  return Promise.resolve(next.value.promise).then((value) => {\n",
              "    // Cache the last promise value to make it available to the next\n",
              "    // step of the generator.\n",
              "    outputElement.lastPromiseValue = value;\n",
              "    return next.value.response;\n",
              "  });\n",
              "}\n",
              "\n",
              "/**\n",
              " * Generator function which is called between each async step of the upload\n",
              " * process.\n",
              " * @param {string} inputId Element ID of the input file picker element.\n",
              " * @param {string} outputId Element ID of the output display.\n",
              " * @return {!Iterable<!Object>} Iterable of next steps.\n",
              " */\n",
              "function* uploadFilesStep(inputId, outputId) {\n",
              "  const inputElement = document.getElementById(inputId);\n",
              "  inputElement.disabled = false;\n",
              "\n",
              "  const outputElement = document.getElementById(outputId);\n",
              "  outputElement.innerHTML = '';\n",
              "\n",
              "  const pickedPromise = new Promise((resolve) => {\n",
              "    inputElement.addEventListener('change', (e) => {\n",
              "      resolve(e.target.files);\n",
              "    });\n",
              "  });\n",
              "\n",
              "  const cancel = document.createElement('button');\n",
              "  inputElement.parentElement.appendChild(cancel);\n",
              "  cancel.textContent = 'Cancel upload';\n",
              "  const cancelPromise = new Promise((resolve) => {\n",
              "    cancel.onclick = () => {\n",
              "      resolve(null);\n",
              "    };\n",
              "  });\n",
              "\n",
              "  // Wait for the user to pick the files.\n",
              "  const files = yield {\n",
              "    promise: Promise.race([pickedPromise, cancelPromise]),\n",
              "    response: {\n",
              "      action: 'starting',\n",
              "    }\n",
              "  };\n",
              "\n",
              "  cancel.remove();\n",
              "\n",
              "  // Disable the input element since further picks are not allowed.\n",
              "  inputElement.disabled = true;\n",
              "\n",
              "  if (!files) {\n",
              "    return {\n",
              "      response: {\n",
              "        action: 'complete',\n",
              "      }\n",
              "    };\n",
              "  }\n",
              "\n",
              "  for (const file of files) {\n",
              "    const li = document.createElement('li');\n",
              "    li.append(span(file.name, {fontWeight: 'bold'}));\n",
              "    li.append(span(\n",
              "        `(${file.type || 'n/a'}) - ${file.size} bytes, ` +\n",
              "        `last modified: ${\n",
              "            file.lastModifiedDate ? file.lastModifiedDate.toLocaleDateString() :\n",
              "                                    'n/a'} - `));\n",
              "    const percent = span('0% done');\n",
              "    li.appendChild(percent);\n",
              "\n",
              "    outputElement.appendChild(li);\n",
              "\n",
              "    const fileDataPromise = new Promise((resolve) => {\n",
              "      const reader = new FileReader();\n",
              "      reader.onload = (e) => {\n",
              "        resolve(e.target.result);\n",
              "      };\n",
              "      reader.readAsArrayBuffer(file);\n",
              "    });\n",
              "    // Wait for the data to be ready.\n",
              "    let fileData = yield {\n",
              "      promise: fileDataPromise,\n",
              "      response: {\n",
              "        action: 'continue',\n",
              "      }\n",
              "    };\n",
              "\n",
              "    // Use a chunked sending to avoid message size limits. See b/62115660.\n",
              "    let position = 0;\n",
              "    do {\n",
              "      const length = Math.min(fileData.byteLength - position, MAX_PAYLOAD_SIZE);\n",
              "      const chunk = new Uint8Array(fileData, position, length);\n",
              "      position += length;\n",
              "\n",
              "      const base64 = btoa(String.fromCharCode.apply(null, chunk));\n",
              "      yield {\n",
              "        response: {\n",
              "          action: 'append',\n",
              "          file: file.name,\n",
              "          data: base64,\n",
              "        },\n",
              "      };\n",
              "\n",
              "      let percentDone = fileData.byteLength === 0 ?\n",
              "          100 :\n",
              "          Math.round((position / fileData.byteLength) * 100);\n",
              "      percent.textContent = `${percentDone}% done`;\n",
              "\n",
              "    } while (position < fileData.byteLength);\n",
              "  }\n",
              "\n",
              "  // All done.\n",
              "  yield {\n",
              "    response: {\n",
              "      action: 'complete',\n",
              "    }\n",
              "  };\n",
              "}\n",
              "\n",
              "scope.google = scope.google || {};\n",
              "scope.google.colab = scope.google.colab || {};\n",
              "scope.google.colab._files = {\n",
              "  _uploadFiles,\n",
              "  _uploadFilesContinue,\n",
              "};\n",
              "})(self);\n",
              "</script> "
            ]
          },
          "metadata": {}
        },
        {
          "output_type": "stream",
          "name": "stdout",
          "text": [
            "Saving fixme.csv to fixme (1).csv\n"
          ]
        },
        {
          "output_type": "execute_result",
          "data": {
            "text/plain": [
              "{'fixme.csv': b'Bosnia and Herz.\\tBosnia and Herzegovina\\nCentral African Rep.\\tCentral African Republic\\nDem. Rep. Congo\\tDemocratic Republic of Congo\\nDominican Rep.\\tDominican Republic\\neSwatini\\tEswatini\\nUnited States of America\\tUnited States\\n'}"
            ]
          },
          "metadata": {},
          "execution_count": 44
        }
      ]
    },
    {
      "cell_type": "code",
      "source": [
        "h = {}\n",
        "for line in open(\"fixme.csv\").readlines():\n",
        "    fields = line.strip().split(\"\\t\")\n",
        "    print(fields[0], fields[1])"
      ],
      "metadata": {
        "colab": {
          "base_uri": "https://localhost:8080/",
          "height": 317
        },
        "id": "uTmZo7cJbRS9",
        "outputId": "7d5797e2-abd5-416d-9a23-4f10b42e3e30"
      },
      "execution_count": 46,
      "outputs": [
        {
          "output_type": "stream",
          "name": "stdout",
          "text": [
            "Bosnia and Herz. Bosnia and Herzegovina\n",
            "Central African Rep. Central African Republic\n",
            "Dem. Rep. Congo Democratic Republic of Congo\n",
            "Dominican Rep. Dominican Republic\n",
            "eSwatini Eswatini\n",
            "United States of America United States\n"
          ]
        },
        {
          "output_type": "error",
          "ename": "IndexError",
          "evalue": "ignored",
          "traceback": [
            "\u001b[0;31m---------------------------------------------------------------------------\u001b[0m",
            "\u001b[0;31mIndexError\u001b[0m                                Traceback (most recent call last)",
            "\u001b[0;32m<ipython-input-46-863a9c0e5e6f>\u001b[0m in \u001b[0;36m<module>\u001b[0;34m\u001b[0m\n\u001b[1;32m      2\u001b[0m \u001b[0;32mfor\u001b[0m \u001b[0mline\u001b[0m \u001b[0;32min\u001b[0m \u001b[0mopen\u001b[0m\u001b[0;34m(\u001b[0m\u001b[0;34m\"fixme.csv\"\u001b[0m\u001b[0;34m)\u001b[0m\u001b[0;34m.\u001b[0m\u001b[0mreadlines\u001b[0m\u001b[0;34m(\u001b[0m\u001b[0;34m)\u001b[0m\u001b[0;34m:\u001b[0m\u001b[0;34m\u001b[0m\u001b[0;34m\u001b[0m\u001b[0m\n\u001b[1;32m      3\u001b[0m     \u001b[0mfields\u001b[0m \u001b[0;34m=\u001b[0m \u001b[0mline\u001b[0m\u001b[0;34m.\u001b[0m\u001b[0mstrip\u001b[0m\u001b[0;34m(\u001b[0m\u001b[0;34m)\u001b[0m\u001b[0;34m.\u001b[0m\u001b[0msplit\u001b[0m\u001b[0;34m(\u001b[0m\u001b[0;34m\"\\t\"\u001b[0m\u001b[0;34m)\u001b[0m\u001b[0;34m\u001b[0m\u001b[0;34m\u001b[0m\u001b[0m\n\u001b[0;32m----> 4\u001b[0;31m     \u001b[0mprint\u001b[0m\u001b[0;34m(\u001b[0m\u001b[0mfields\u001b[0m\u001b[0;34m[\u001b[0m\u001b[0;36m0\u001b[0m\u001b[0;34m]\u001b[0m\u001b[0;34m,\u001b[0m \u001b[0mfields\u001b[0m\u001b[0;34m[\u001b[0m\u001b[0;36m1\u001b[0m\u001b[0;34m]\u001b[0m\u001b[0;34m)\u001b[0m\u001b[0;34m\u001b[0m\u001b[0;34m\u001b[0m\u001b[0m\n\u001b[0m",
            "\u001b[0;31mIndexError\u001b[0m: list index out of range"
          ]
        }
      ]
    },
    {
      "cell_type": "code",
      "source": [
        "h = {}\n",
        "for line in open(\"fixme.csv\").readlines():\n",
        "    fields = line.strip().split(\"\\t\")\n",
        "    try:\n",
        "      h[fields[0]] = fields[1]\n",
        "    except IndexError:\n",
        "      pass"
      ],
      "metadata": {
        "id": "ANrgEpRWbfJh"
      },
      "execution_count": 47,
      "outputs": []
    },
    {
      "cell_type": "code",
      "source": [
        "h"
      ],
      "metadata": {
        "colab": {
          "base_uri": "https://localhost:8080/"
        },
        "id": "zqdkRS58b3kC",
        "outputId": "a73f3f2f-7408-44a7-a35c-56e7cf931279"
      },
      "execution_count": 48,
      "outputs": [
        {
          "output_type": "execute_result",
          "data": {
            "text/plain": [
              "{'Bosnia and Herz.': 'Bosnia and Herzegovina',\n",
              " 'Central African Rep.': 'Central African Republic',\n",
              " 'Dem. Rep. Congo': 'Democratic Republic of Congo',\n",
              " 'Dominican Rep.': 'Dominican Republic',\n",
              " 'eSwatini': 'Eswatini',\n",
              " 'United States of America': 'United States'}"
            ]
          },
          "metadata": {},
          "execution_count": 48
        }
      ]
    },
    {
      "cell_type": "code",
      "source": [
        "# Change coordinate system?? \n",
        "world = world.to_crs(\"EPSG:3395\")  # This is supposed to be Mercator\n",
        "ax = world.plot()"
      ],
      "metadata": {
        "colab": {
          "base_uri": "https://localhost:8080/",
          "height": 289
        },
        "id": "CSJRxCELb39L",
        "outputId": "1f85d81a-094e-4bc0-e95e-fb80d7a73526"
      },
      "execution_count": 49,
      "outputs": [
        {
          "output_type": "display_data",
          "data": {
            "text/plain": [
              "<Figure size 432x288 with 1 Axes>"
            ],
            "image/png": "[encoded data removed]"
          },
          "metadata": {
            "needs_background": "light"
          }
        }
      ]
    },
    {
      "cell_type": "code",
      "source": [],
      "metadata": {
        "id": "U_a-xRd-cR9K"
      },
      "execution_count": null,
      "outputs": []
    }
  ]
}