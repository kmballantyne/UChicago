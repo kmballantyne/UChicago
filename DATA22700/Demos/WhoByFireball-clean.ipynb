{
 "cells": [
  {
   "cell_type": "code",
   "execution_count": null,
   "id": "fca4d022-da1f-4afd-9a34-fd436452116b",
   "metadata": {},
   "outputs": [],
   "source": [
    "import pandas as pd\n",
    "import numpy as np\n",
    "import matplotlib.pyplot as plt"
   ]
  },
  {
   "cell_type": "code",
   "execution_count": null,
   "id": "34fb05b4-c298-4987-99cb-d8edd82c9b17",
   "metadata": {},
   "outputs": [],
   "source": [
    "# Hints on fireball, example pressure-wind speed scatterplot in altiar \n",
    "\n",
    "fireball = pd.read_csv(\"cneos_fireball_data.csv\")"
   ]
  },
  {
   "cell_type": "code",
   "execution_count": null,
   "id": "2b8a9fbf-ad7e-4825-a09b-010b416389e2",
   "metadata": {},
   "outputs": [],
   "source": [
    "f = fireball  # I don't like typing eight-letter words if no one is watching"
   ]
  },
  {
   "cell_type": "code",
   "execution_count": null,
   "id": "910117ac-7ff8-4a78-8112-eccd2028bffe",
   "metadata": {},
   "outputs": [],
   "source": [
    "f[\"time\"] = pd.to_datetime(f[\"Peak Brightness Date/Time (UT)\"])\n",
    "f[\"lat\"] = f[\"Latitude (deg.)\"]\n",
    "f[\"lon\"] = f[\"Longitude (deg.)\"]"
   ]
  },
  {
   "cell_type": "code",
   "execution_count": null,
   "id": "acae1fb7-211b-4d34-ae32-ed4f2ac91e69",
   "metadata": {},
   "outputs": [],
   "source": [
    "plt.hist(f.time, bins=900)"
   ]
  },
  {
   "cell_type": "code",
   "execution_count": null,
   "id": "2f39d1ee-7451-4079-b3f6-60121194f1b0",
   "metadata": {},
   "outputs": [],
   "source": [
    "# How wide are these bins?   ~34 years into 900 bins \n",
    "h[900][1][1] - h[900][1][0]"
   ]
  },
  {
   "cell_type": "code",
   "execution_count": null,
   "id": "87df88ed-0d20-4411-b138-7dcca621ea02",
   "metadata": {},
   "outputs": [],
   "source": [
    "# is 14 days.  So this plots fireballs [big enough for GEOS] to detect per fortnight."
   ]
  },
  {
   "cell_type": "code",
   "execution_count": null,
   "id": "0232aa84-b086-4cf9-86d0-086e1e58dc6b",
   "metadata": {},
   "outputs": [],
   "source": [
    "# Histograms are nice. What about cumulative plots?\n",
    "\n",
    "plt.plot(np.arange(len(f)), f.time.sort_values())\n",
    "plt.xlabel(\"Order rank (1st, 2nd...)\")\n",
    "plt.ylabel(\"time\")"
   ]
  },
  {
   "cell_type": "code",
   "execution_count": null,
   "id": "526d87ce-ed67-431e-b603-81ddae5b2e6a",
   "metadata": {},
   "outputs": [],
   "source": [
    "h={}\n",
    "hoh = {}\n",
    "h[900] = plt.hist(f.time, bins=900)"
   ]
  },
  {
   "cell_type": "code",
   "execution_count": null,
   "id": "0cce8f33-8509-4f03-91cc-454a2cf34782",
   "metadata": {},
   "outputs": [],
   "source": [
    "h[900][0].value_counts()"
   ]
  },
  {
   "cell_type": "code",
   "execution_count": null,
   "id": "eb5abb0f-13c1-4777-bd94-42cfd7e80972",
   "metadata": {},
   "outputs": [],
   "source": [
    "# According to stackoverflow, the numpy equivalent of pd.value_counts() is\n",
    "# https://stackoverflow.com/questions/70887293/equivalent-of-value-counts-of-pandas-in-numpy\n",
    "unique, counts = np.unique(h[900][0], return_counts=True)\n",
    "unique, counts\n",
    "hoh[900] = (unique, counts)"
   ]
  },
  {
   "cell_type": "code",
   "execution_count": null,
   "id": "af15cdff-f47e-4590-97de-54284f3c85eb",
   "metadata": {},
   "outputs": [],
   "source": [
    "plt.bar(unique, counts)\n",
    "plt.xlabel(\"Number of events in bin (n=900 bins)\")\n",
    "plt.ylabel(\"Number of bins\")\n",
    "plt.title(\"The histogram of the histogram\")"
   ]
  },
  {
   "cell_type": "code",
   "execution_count": null,
   "id": "4f046c46-1620-42e9-8112-48b85e83d967",
   "metadata": {},
   "outputs": [],
   "source": [
    "h[100] = plt.hist(f.time, bins=100)\n",
    "hoh[100]= np.unique(h[100][0], return_counts=True)\n",
    "h[50] = plt.hist(f.time, bins=50)\n",
    "hoh[50]= np.unique(h[50][0], return_counts=True)\n",
    "plt.figure()\n",
    "h[300] = plt.hist(f.time, bins=300)\n",
    "hoh[300]= np.unique(h[300][0], return_counts=True)\n"
   ]
  },
  {
   "cell_type": "code",
   "execution_count": null,
   "id": "21552b9f-c6e0-4b6e-bce8-080a4710db0f",
   "metadata": {},
   "outputs": [],
   "source": [
    "plt.bar(hoh[300][0], hoh[300][1])\n",
    "plt.xlabel(\"Number of events in bin (n=300 bins)\")\n",
    "plt.ylabel(\"Number of bins\")\n",
    "plt.title(\"The histogram of the histogram\")"
   ]
  },
  {
   "cell_type": "code",
   "execution_count": null,
   "id": "07f51cd7-a9f4-46fa-a2c5-f444331e5929",
   "metadata": {},
   "outputs": [],
   "source": [
    "len(f), len(f) / 300"
   ]
  },
  {
   "cell_type": "code",
   "execution_count": null,
   "id": "3ea7c7fd-6396-42eb-a052-e9ad8b396ecb",
   "metadata": {},
   "outputs": [],
   "source": []
  },
  {
   "cell_type": "code",
   "execution_count": null,
   "id": "4c93abaf-3ce4-47e2-ae58-a7fa1a4eecc2",
   "metadata": {},
   "outputs": [],
   "source": [
    "import scipy.stats\n",
    "x = np.arange(0, 11); y = scipy.stats.poisson.pmf(x, 2.47333)"
   ]
  },
  {
   "cell_type": "code",
   "execution_count": null,
   "id": "5273bff8-5396-4f12-ab7a-21da24a179f0",
   "metadata": {},
   "outputs": [],
   "source": [
    "plt.bar(hoh[300][0], hoh[300][1])\n",
    "plt.xlabel(\"Number of events in bin (n=300 bins)\")\n",
    "plt.ylabel(\"Number of bins\")\n",
    "plt.title(\"The histogram of the histogram\")\n",
    "plt.plot(x,y*300* (1-y[0]), 'o', color=\"red\")"
   ]
  },
  {
   "cell_type": "code",
   "execution_count": null,
   "id": "8afef033-f904-4620-a35f-0f7397a7a42d",
   "metadata": {},
   "outputs": [],
   "source": [
    "plt.bar(hoh[100][0], hoh[100][1])\n",
    "plt.xlabel(\"Number of events in bin (n=100 bins)\")\n",
    "plt.ylabel(\"Number of bins\")\n",
    "plt.title(\"The histogram of the histogram\")"
   ]
  },
  {
   "cell_type": "code",
   "execution_count": null,
   "id": "42fa3680-47f4-4475-b388-a0a6f9a9e388",
   "metadata": {},
   "outputs": [],
   "source": [
    "# The spike at zero gives me pause.  A constant rate would give rise\n",
    "# to a Poisson distribution here; a rate that fluctuates downward \n",
    "# and sometimes is roughly constant and other times is really small\n",
    "# would do this.  I believe this spike at zero is real in the sense\n",
    "# that it tells us something about the distribution that can't be\n",
    "# calculated from the averages."
   ]
  },
  {
   "cell_type": "code",
   "execution_count": null,
   "id": "92adc497-48e8-4b7b-aa81-e0939d62a157",
   "metadata": {},
   "outputs": [],
   "source": [
    "f.tail()"
   ]
  },
  {
   "cell_type": "code",
   "execution_count": null,
   "id": "7734cc21-361d-4273-909f-54129616a61e",
   "metadata": {},
   "outputs": [],
   "source": [
    "f.drop(range(928,931+1)).tail()"
   ]
  },
  {
   "cell_type": "code",
   "execution_count": null,
   "id": "ed08f04b-5db3-4db8-b9c7-632373db1f67",
   "metadata": {},
   "outputs": [],
   "source": [
    "f=f.drop(range(928,931+1))"
   ]
  },
  {
   "cell_type": "code",
   "execution_count": null,
   "id": "9dd879bd-354c-4280-8760-1036883a56e6",
   "metadata": {},
   "outputs": [],
   "source": [
    "h={}\n",
    "hoh = {}\n",
    "h[100] = plt.hist(f.time, bins=100)"
   ]
  },
  {
   "cell_type": "code",
   "execution_count": null,
   "id": "9057351b-31b7-4f9b-96a3-5759d72bb00c",
   "metadata": {},
   "outputs": [],
   "source": [
    "hoh[100] = np.unique(h[100][0], return_counts=True)\n"
   ]
  },
  {
   "cell_type": "code",
   "execution_count": null,
   "id": "c3faff5b-375b-4f6b-b69c-0f9477822240",
   "metadata": {},
   "outputs": [],
   "source": [
    "plt.bar(hoh[100][0], hoh[100][1])\n",
    "plt.xlabel(\"Number of events in bin (n=100 bins)\")\n",
    "plt.ylabel(\"Number of bins\")\n",
    "plt.title(\"The histogram of the histogram\")"
   ]
  },
  {
   "cell_type": "code",
   "execution_count": null,
   "id": "5c63bb2d-6bf4-4bb8-a387-33465a9df5a0",
   "metadata": {},
   "outputs": [],
   "source": [
    "f[\"Lat\"] = np.float(f.lat[:-1]) * (1- 2* (f.lat[-1:] == \"S\" )) "
   ]
  },
  {
   "cell_type": "code",
   "execution_count": null,
   "id": "e9f273d2-6ea9-45ea-855d-6c694fc81ddb",
   "metadata": {},
   "outputs": [],
   "source": [
    "f.lat.apply(lambda x: x[:-1])"
   ]
  },
  {
   "cell_type": "code",
   "execution_count": null,
   "id": "c24e1883-f21a-4675-84d1-e0a11a2b3bbb",
   "metadata": {},
   "outputs": [],
   "source": [
    "f = f[f.lat.notnull()]\n",
    "f[\"Lat\"] = np.float(f.lat[:-1]) * (1- 2* (f.lat[-1:] == \"S\" )) "
   ]
  },
  {
   "cell_type": "code",
   "execution_count": null,
   "id": "54197e3b-cf7c-45fa-8ffd-48279ac4c95c",
   "metadata": {},
   "outputs": [],
   "source": [
    "len(f)"
   ]
  },
  {
   "cell_type": "code",
   "execution_count": null,
   "id": "9346bef0-431f-4a83-9764-7d41e91b99b2",
   "metadata": {},
   "outputs": [],
   "source": [
    "f[\"Lat\"] = (f.lat.apply(lambda x: float(x[:-1]) ) * \n",
    "            f.lat.apply(lambda y: 1-2*(y[-1:] == \"S\")))"
   ]
  },
  {
   "cell_type": "code",
   "execution_count": null,
   "id": "5c749dd8-a422-4d0e-8e31-bd5605aaba20",
   "metadata": {},
   "outputs": [],
   "source": [
    "plt.hist(f.Lat)"
   ]
  },
  {
   "cell_type": "code",
   "execution_count": null,
   "id": "533359bb-201a-45ce-a806-9ddb61efc35b",
   "metadata": {},
   "outputs": [],
   "source": [
    "plt.hist(f.Lat, bins=60)"
   ]
  },
  {
   "cell_type": "code",
   "execution_count": null,
   "id": "f2f88408-231c-4a7a-81c6-7839598a20d4",
   "metadata": {},
   "outputs": [],
   "source": [
    "plt.hist(f.Lat, bins=160)"
   ]
  },
  {
   "cell_type": "code",
   "execution_count": null,
   "id": "70ab8e85-75f9-44d6-8331-953c252808bc",
   "metadata": {},
   "outputs": [],
   "source": [
    "plt.plot(np.arange(len(f.Lat)), f.Lat.sort_values())"
   ]
  },
  {
   "cell_type": "code",
   "execution_count": null,
   "id": "dec94d52-be5b-4c5f-b371-b5a83ab9a72c",
   "metadata": {},
   "outputs": [],
   "source": [
    "plt.plot(np.arange(len(f.Lat)), np.sin(np.radians(f.Lat.sort_values())))"
   ]
  },
  {
   "cell_type": "code",
   "execution_count": null,
   "id": "c7bb0572-afa1-476c-9858-edb92b2af801",
   "metadata": {},
   "outputs": [],
   "source": [
    "h = plt.hist(np.sin(np.radians(f.Lat)), bins=30)"
   ]
  },
  {
   "cell_type": "code",
   "execution_count": null,
   "id": "bf8bd34b-93ed-4cb0-a042-f21e5aefcbb8",
   "metadata": {},
   "outputs": [],
   "source": [
    "h = plt.hist(np.sin(np.radians(f.Lat)), bins=200)"
   ]
  },
  {
   "cell_type": "code",
   "execution_count": null,
   "id": "eb6ca76d-6d9b-47a9-ab5c-eaa4e863aeb7",
   "metadata": {},
   "outputs": [],
   "source": [
    "hoh = np.unique(h[0], return_counts=True) "
   ]
  },
  {
   "cell_type": "code",
   "execution_count": null,
   "id": "5c430ad0-09b3-4422-a42e-9144d3633bd3",
   "metadata": {},
   "outputs": [],
   "source": [
    "plt.bar(hoh[0], hoh[1])"
   ]
  },
  {
   "cell_type": "code",
   "execution_count": null,
   "id": "47e222be-176e-47d4-b4a7-420e13dedc41",
   "metadata": {},
   "outputs": [],
   "source": [
    "s = pd.read_csv(\"https://vincentarelbundock.github.io/Rdatasets/csv/dplyr/storms.csv\")\n",
    "s.head()\n"
   ]
  },
  {
   "cell_type": "code",
   "execution_count": null,
   "id": "eab06cef-5a8c-4b24-b588-fdc5c80b4634",
   "metadata": {},
   "outputs": [],
   "source": [
    "iota = s.query(\"name == 'Iota' & year == 2020\")\n",
    "iota.head()"
   ]
  },
  {
   "cell_type": "code",
   "execution_count": null,
   "id": "6e2372f8-8832-4a5f-86a7-ef72982bf538",
   "metadata": {},
   "outputs": [],
   "source": [
    "s.groupby([\"status\", \"category\"]).name.count()"
   ]
  },
  {
   "cell_type": "code",
   "execution_count": null,
   "id": "7abbc62a-98ae-4b80-bfa8-1782ca21d0a0",
   "metadata": {},
   "outputs": [],
   "source": [
    "import altair as alt"
   ]
  },
  {
   "cell_type": "code",
   "execution_count": null,
   "id": "947581b7-2652-4cc5-a0a9-c1fbfdc30f1a",
   "metadata": {},
   "outputs": [],
   "source": [
    "alt.Chart(iota).mark_point().encode(\n",
    "    alt.X('pressure:Q',        scale=alt.Scale(zero=False)),\n",
    "    y='wind:Q',\n",
    "    color='status:N',\n",
    "    size='category:O'\n",
    ")"
   ]
  },
  {
   "cell_type": "code",
   "execution_count": null,
   "id": "f004d2a9-65c6-4b5a-94f8-82831b76231c",
   "metadata": {},
   "outputs": [],
   "source": [
    "alt.Chart(iota).mark_point().encode(\n",
    "    alt.X('pressure:Q',        scale=alt.Scale(zero=False)),\n",
    "    y='wind:Q',\n",
    "    color='status:N',\n",
    "    size='category:O'\n",
    ")"
   ]
  },
  {
   "cell_type": "code",
   "execution_count": null,
   "id": "771862fc-f194-4849-9f42-8d5c9e172627",
   "metadata": {},
   "outputs": [],
   "source": [
    "lookup = { -1: \"tropical depression\", \n",
    "          0: \"tropical storm\", \n",
    "          1: \"Category 1 hurricane\",\n",
    "          2: \"Category 2 hurricane\",\n",
    "          3: \"Category 3 hurricane\", \n",
    "          4: \"Category 4 hurricane\", \n",
    "          5: \"Category 5 hurricane\" }\n",
    "iota[\"prettycat\"] = iota.category.apply(lambda x: lookup[x])"
   ]
  },
  {
   "cell_type": "code",
   "execution_count": null,
   "id": "157676c9-e5e9-46a1-a721-03ba674b37d5",
   "metadata": {},
   "outputs": [],
   "source": [
    "iota[[\"status\", \"category\", \"prettycat\"]]"
   ]
  },
  {
   "cell_type": "code",
   "execution_count": null,
   "id": "6f06380a-2b3b-4146-949e-ae0c9252ddc1",
   "metadata": {},
   "outputs": [],
   "source": [
    "alt.Chart(iota).mark_point().encode(\n",
    "    alt.X('pressure:Q',        scale=alt.Scale(zero=False)),\n",
    "    y='wind:Q',\n",
    "    color='prettycat:N',\n",
    ")"
   ]
  },
  {
   "cell_type": "code",
   "execution_count": null,
   "id": "8260831e-d0d1-4f7f-9d7e-679f79e2aba2",
   "metadata": {},
   "outputs": [],
   "source": [
    "# bigger markers.. mark_point(size= , filled=True) \n",
    "alt.Chart(iota).mark_point(size=100, filled=True).encode(\n",
    "    alt.X('pressure:Q',        scale=alt.Scale(zero=False)),\n",
    "    y='wind:Q',\n",
    "    color='prettycat:N',\n",
    ")"
   ]
  },
  {
   "cell_type": "code",
   "execution_count": null,
   "id": "bbd47bce-7a23-468b-80b7-4b9b0af5033b",
   "metadata": {},
   "outputs": [],
   "source": [
    "# And I can fine-tune the scale within alt.X  with scale=alt.Scale(domain=(5, 20))\n",
    "# bigger markers.. mark_point(size= , filled=True) \n",
    "alt.Chart(iota, title=\"Hurricane Iota (2020)\").mark_point(size=150, filled=True, ).encode(\n",
    "    alt.X('pressure:Q',        \n",
    "          scale=alt.Scale(domain= (900, 1020)), \n",
    "          title=\"Pressure (mbar)\"\n",
    "         ),\n",
    "    alt.Y('wind:Q',\n",
    "          title=\"Max. sustained wind speed (mph)\"),\n",
    "    alt.Color('prettycat:N',legend=alt.Legend(title=\"Safir-Simpson category\") )\n",
    "\n",
    ") "
   ]
  },
  {
   "cell_type": "code",
   "execution_count": null,
   "id": "f2c351dd-a422-4cbf-bfa5-d73386c8edb1",
   "metadata": {},
   "outputs": [],
   "source": [
    "# And I can fine-tune the scale within alt.X  with scale=alt.Scale(domain=(5, 20))\n",
    "# bigger markers.. mark_point(size= , filled=True) \n",
    "alt.Chart(iota, title=\"Hurricane Iota (2020)\").mark_point(size=150, filled=True, ).encode(\n",
    "    alt.X('pressure:Q',        \n",
    "          scale=alt.Scale(domain= (900, 1020)), \n",
    "          title=\"Pressure (mbar)\"\n",
    "         ),\n",
    "    alt.Y('wind:Q',\n",
    "          title=\"Max. sustained wind speed (mph)\"),\n",
    "    alt.Color('prettycat:N',legend=alt.Legend(title=\"Safir-Simpson category\")),\n",
    "             alt.Size(\"tropicalstorm_force_diameter:Q\")\n",
    "\n",
    ") "
   ]
  },
  {
   "cell_type": "code",
   "execution_count": null,
   "id": "b3e0cc11-6575-4d29-a9e9-c8e960b51cde",
   "metadata": {},
   "outputs": [],
   "source": [
    "# scale=alt.Scale(range=[100, 500] ) $ to be added to alt.Size"
   ]
  },
  {
   "cell_type": "code",
   "execution_count": null,
   "id": "6fbb6c0f-4a01-42a7-b45c-37b50110f726",
   "metadata": {},
   "outputs": [],
   "source": [
    "alt.Chart(iota, title=\"Hurricane Iota (2020)\").mark_point(size=150, filled=True, ).encode(\n",
    "    alt.X('pressure:Q',        \n",
    "          scale=alt.Scale(domain= (900, 1020)), \n",
    "          title=\"Pressure (mbar)\"\n",
    "         ),\n",
    "    alt.Y('wind:Q',\n",
    "          title=\"Max. sustained wind speed (mph)\"),\n",
    "    alt.Color('prettycat:N',legend=alt.Legend(title=\"Safir-Simpson category\")),\n",
    "             alt.Size(\"tropicalstorm_force_diameter:Q\", \n",
    "                      scale=alt.Scale(range=[-200, 500] ))\n",
    "\n",
    ")   # unsuccessful .. I dont' know how much we can fine-tune some of the channels."
   ]
  },
  {
   "cell_type": "code",
   "execution_count": null,
   "id": "7a38c4c2-beaf-443f-a630-41ca83696fde",
   "metadata": {},
   "outputs": [],
   "source": []
  }
 ],
 "metadata": {
  "kernelspec": {
   "display_name": "Python 3 (ipykernel)",
   "language": "python",
   "name": "python3"
  },
  "language_info": {
   "codemirror_mode": {
    "name": "ipython",
    "version": 3
   },
   "file_extension": ".py",
   "mimetype": "text/x-python",
   "name": "python",
   "nbconvert_exporter": "python",
   "pygments_lexer": "ipython3",
   "version": "3.9.12"
  }
 },
 "nbformat": 4,
 "nbformat_minor": 5
}
