{
 "cells": [
  {
   "cell_type": "markdown",
   "metadata": {},
   "source": [
    "## Lab 5: SQL\n",
    "\n",
    "In this lab, we'll explore using SQL with pandas. "
   ]
  },
  {
   "cell_type": "code",
   "execution_count": 1,
   "metadata": {},
   "outputs": [],
   "source": [
    "import sqlalchemy\n",
    "import pandas as pd\n",
    "\n",
    "engine = sqlalchemy.create_engine(\"sqlite:///lab05.sqlite\")\n",
    "connection = engine.connect()"
   ]
  },
  {
   "cell_type": "markdown",
   "metadata": {},
   "source": [
    "## Rapidgram\n",
    "\n",
    "The date: February, 2020. All of the students at UChicago are obsessed with the hot new social networking app, Rapidgram, where users can share text and image posts. You've been hired as Rapidgram's very first Data Scientist, in charge of analyzing their petabyte-scale user data, in order to sell it to credit card companies (I mean, they had to monetize somehow). But before you get into that, you need to learn more about their database schema.\n",
    "\n",
    "The next few cells will generate a snapshot of their data. It will be saved locally as the file `lab05.sqlite`. \n",
    "\n",
    "First, we create empty tables to store the data."
   ]
  },
  {
   "cell_type": "code",
   "execution_count": 2,
   "metadata": {},
   "outputs": [],
   "source": [
    "sql_expr = \"\"\"\n",
    "DROP TABLE IF EXISTS users;\n",
    "\"\"\"\n",
    "result = engine.execute(sql_expr)\n",
    "\n",
    "sql_expr = \"\"\"\n",
    "DROP TABLE IF EXISTS follows;\n",
    "\"\"\"\n",
    "result = engine.execute(sql_expr)\n",
    "\n",
    "sql_expr = \"\"\"\n",
    "CREATE TABLE users (\n",
    "    USERID   INT            NOT NULL,                 \n",
    "    NAME     VARCHAR (256)  NOT NULL,                 \n",
    "    YEAR     FLOAT          NOT NULL,\n",
    "    PRIMARY KEY (USERID)\n",
    ");\n",
    "\"\"\"\n",
    "result = engine.execute(sql_expr)\n",
    "\n",
    "sql_expr = \"\"\"\n",
    "CREATE TABLE follows (\n",
    "    USERID   INT            NOT NULL, \n",
    "    FOLLOWID INT            NOT NULL,\n",
    "    PRIMARY KEY (USERID, FOLLOWID)\n",
    ");\n",
    "\"\"\"\n",
    "result = engine.execute(sql_expr)"
   ]
  },
  {
   "cell_type": "markdown",
   "metadata": {},
   "source": [
    "Next, we insert some users into the `users` table. If you haven't seen the `str.format()` method before, take a look at the [docs](https://docs.python.org/3.4/library/stdtypes.html#str.format):"
   ]
  },
  {
   "cell_type": "code",
   "execution_count": 3,
   "metadata": {},
   "outputs": [],
   "source": [
    "count = 0\n",
    "users = [\"Ian\", \"Daniel\", \"Sarah\", \"Kelly\", \"Sam\", \"Alison\", \"Henry\", \"Joey\", \"Mark\", \"Joyce\", \"Natalie\", \"John\"]\n",
    "years = [1, 3, 4, 3, 4, 2, 5, 2, 1, 3, 4, 2]\n",
    "\n",
    "for username, year in zip(users, years):\n",
    "    count += 1\n",
    "    sql_expr = \"\"\"\n",
    "    INSERT INTO users \n",
    "    VALUES ({}, '{}', {});\n",
    "    \"\"\".format(count, username, year)\n",
    "    engine.execute(sql_expr)"
   ]
  },
  {
   "cell_type": "markdown",
   "metadata": {},
   "source": [
    "Let's see what the table looks like:"
   ]
  },
  {
   "cell_type": "code",
   "execution_count": null,
   "metadata": {},
   "outputs": [],
   "source": [
    "sql_expr =\"\"\"\n",
    "SELECT *\n",
    "FROM users\n",
    "\"\"\"\n",
    "pd.read_sql(sql_expr, engine)"
   ]
  },
  {
   "cell_type": "markdown",
   "metadata": {},
   "source": [
    "Now, we'll generate some data to keep track of who follows who."
   ]
  },
  {
   "cell_type": "code",
   "execution_count": 4,
   "metadata": {},
   "outputs": [],
   "source": [
    "follows =  [0, 1, 1, 1, 0, 0, 1, 0, 0, 0, 1, 1, 1, 1, 0, 0, 1, 0, 0, 1, \n",
    "            0, 0, 1, 1, 0, 1, 0, 1, 1, 0, 1, 0, 0, 1, 0, 1, 1, 0, 0, 1, \n",
    "            0, 1, 0, 0, 0, 0, 1, 1, 0, 1, 0, 0, 1, 1, 0, 1, 0, 1, 1, 1, \n",
    "            1, 0, 0, 1, 1, 0, 0, 0, 0, 0, 1, 1, 0, 1, 1, 1, 0, 1, 0, 1, \n",
    "            0, 0, 1, 1, 1, 1, 0, 1, 1, 0, 1, 0, 1, 0, 0, 1, 0, 1, 1, 0,\n",
    "            0, 1, 1, 1, 1, 0, 1, 0, 0, 0, 1, 1, 1, 1, 0, 0, 1, 1, 0, 1,\n",
    "            1, 0, 1, 0, 1, 1, 0, 0, 1, 1, 0, 0, 1, 1, 1, 1, 0, 1, 1, 0,\n",
    "            1, 1, 0, 1]\n",
    "\n",
    "for i in range(12):\n",
    "    for j in range(12):\n",
    "        if i != j and follows[i + j*12]:\n",
    "            sql_expr = \"\"\"\n",
    "            INSERT INTO follows \n",
    "            VALUES ({}, {});\n",
    "            \"\"\".format(i+1, j+1)\n",
    "            engine.execute(sql_expr)"
   ]
  },
  {
   "cell_type": "markdown",
   "metadata": {},
   "source": [
    "Let's look at this data now:"
   ]
  },
  {
   "cell_type": "code",
   "execution_count": 5,
   "metadata": {},
   "outputs": [
    {
     "data": {
      "text/html": [
       "<div>\n",
       "<style scoped>\n",
       "    .dataframe tbody tr th:only-of-type {\n",
       "        vertical-align: middle;\n",
       "    }\n",
       "\n",
       "    .dataframe tbody tr th {\n",
       "        vertical-align: top;\n",
       "    }\n",
       "\n",
       "    .dataframe thead th {\n",
       "        text-align: right;\n",
       "    }\n",
       "</style>\n",
       "<table border=\"1\" class=\"dataframe\">\n",
       "  <thead>\n",
       "    <tr style=\"text-align: right;\">\n",
       "      <th></th>\n",
       "      <th>USERID</th>\n",
       "      <th>FOLLOWID</th>\n",
       "    </tr>\n",
       "  </thead>\n",
       "  <tbody>\n",
       "    <tr>\n",
       "      <th>0</th>\n",
       "      <td>1</td>\n",
       "      <td>2</td>\n",
       "    </tr>\n",
       "    <tr>\n",
       "      <th>1</th>\n",
       "      <td>1</td>\n",
       "      <td>4</td>\n",
       "    </tr>\n",
       "    <tr>\n",
       "      <th>2</th>\n",
       "      <td>1</td>\n",
       "      <td>6</td>\n",
       "    </tr>\n",
       "    <tr>\n",
       "      <th>3</th>\n",
       "      <td>1</td>\n",
       "      <td>8</td>\n",
       "    </tr>\n",
       "    <tr>\n",
       "      <th>4</th>\n",
       "      <td>1</td>\n",
       "      <td>11</td>\n",
       "    </tr>\n",
       "  </tbody>\n",
       "</table>\n",
       "</div>"
      ],
      "text/plain": [
       "   USERID  FOLLOWID\n",
       "0       1         2\n",
       "1       1         4\n",
       "2       1         6\n",
       "3       1         8\n",
       "4       1        11"
      ]
     },
     "execution_count": 5,
     "metadata": {},
     "output_type": "execute_result"
    }
   ],
   "source": [
    "sql_expr =\"\"\"\n",
    "SELECT *\n",
    "FROM follows\n",
    "\"\"\"\n",
    "pd.read_sql(sql_expr, engine).head()"
   ]
  },
  {
   "cell_type": "markdown",
   "metadata": {},
   "source": [
    "Great! We have our databases all setup. If it isn't clear, the USERID from the `users` table allows you to figure out who follows who using the `follows` table. For example, the first row of the `follows` table (USERID=1, FOLLOWID=2) tells us that Daniel follows Ian."
   ]
  },
  {
   "cell_type": "markdown",
   "metadata": {},
   "source": [
    "#### Question 1: Joey's Followers\n",
    "\n",
    "Write a SQL query to determine how many people follow Joey."
   ]
  },
  {
   "cell_type": "code",
   "execution_count": null,
   "metadata": {},
   "outputs": [],
   "source": [
    "q1 = \"\"\"\n",
    "...\n",
    "\"\"\"\n",
    "\n",
    "pd.read_sql(q1, engine)"
   ]
  },
  {
   "cell_type": "markdown",
   "metadata": {},
   "source": [
    "<details><summary><button>Click here to reveal the answer!</button></summary>\n",
    "q1 = \"\"\" \n",
    "SELECT COUNT(*) FROM follows, users \n",
    "    WHERE users.name=\"Joey\" \n",
    "    AND (users.userid=follows.followid)\n",
    "\"\"\"\n",
    "</details>"
   ]
  },
  {
   "cell_type": "markdown",
   "metadata": {},
   "source": [
    "#### Question 2: I Ain't no Followback Girl\n",
    "\n",
    "How many people does Joey follow?"
   ]
  },
  {
   "cell_type": "code",
   "execution_count": null,
   "metadata": {},
   "outputs": [],
   "source": [
    "q2 = \"\"\"\n",
    "...\n",
    "\"\"\"\n",
    "pd.read_sql(q2, engine)"
   ]
  },
  {
   "cell_type": "markdown",
   "metadata": {},
   "source": [
    "<details><summary><button>Click here to reveal the answer!</button></summary>\n",
    "q2 = \"\"\" \n",
    "SELECT COUNT(*) FROM follows, users\n",
    "    WHERE users.name=\"Joey\"\n",
    "    AND (users.userid=follows.userid)\n",
    "\"\"\"\n",
    "</details>"
   ]
  },
  {
   "cell_type": "markdown",
   "metadata": {},
   "source": [
    "#### Question 3: Know your Audience\n",
    "What are the names of Joey's followers?"
   ]
  },
  {
   "cell_type": "code",
   "execution_count": null,
   "metadata": {},
   "outputs": [],
   "source": [
    "q3 = \"\"\"\n",
    "...\n",
    "\"\"\"\n",
    "pd.read_sql(q3, engine)"
   ]
  },
  {
   "cell_type": "markdown",
   "metadata": {},
   "source": [
    "<details><summary><button>Click here to reveal the answer!</button></summary>\n",
    "q3 = \"\"\"\n",
    "SELECT u1.name\n",
    "    FROM follows, users as u1, users as u2\n",
    "    WHERE follows.userid=u1.userid\n",
    "    AND follows.followid=u2.userid\n",
    "    AND u2.name=\"Joey\"\n",
    "\"\"\"\n",
    "</details>"
   ]
  },
  {
   "cell_type": "markdown",
   "metadata": {},
   "source": [
    "#### Question 4: Popularity Contest\n",
    "\n",
    "How many followers does each user have? You'll need to use `GROUP BY` to solve this. List only the top 5 users by number of followers."
   ]
  },
  {
   "cell_type": "code",
   "execution_count": null,
   "metadata": {},
   "outputs": [],
   "source": [
    "q4 = \"\"\"\n",
    "...\n",
    "\"\"\"\n",
    "pd.read_sql(q4, engine)"
   ]
  },
  {
   "cell_type": "markdown",
   "metadata": {},
   "source": [
    "<details><summary><button>Click here to reveal the answer!</button></summary>\n",
    "q4 = \"\"\"\n",
    "SELECT name, COUNT(*) as friends\n",
    "    FROM follows, users\n",
    "    WHERE follows.followid=users.userid\n",
    "    GROUP BY name\n",
    "    ORDER BY friends DESC\n",
    "    LIMIT 5\n",
    "\"\"\"\n",
    "</details>"
   ]
  },
  {
   "cell_type": "markdown",
   "metadata": {},
   "source": [
    "#### Question 5: Randomness\n",
    "\n",
    "Rapidgram wants to get a random sample of their userbase. Specifically, they want to look at *exactly* one-third of the follow-relations in their data. A Rapidgram engineer suggests the following SQL query:"
   ]
  },
  {
   "cell_type": "code",
   "execution_count": null,
   "metadata": {},
   "outputs": [],
   "source": [
    "q5a = \"\"\"\n",
    "SELECT u1.name as follower, u2.name as followee\n",
    "    FROM follows, users as u1, users as u2\n",
    "    WHERE follows.userid=u1.userid\n",
    "    AND follows.followid=u2.userid\n",
    "    AND RANDOM() < 0.33\n",
    "\"\"\""
   ]
  },
  {
   "cell_type": "markdown",
   "metadata": {},
   "source": [
    "Do you think this query will work as intended? Why or why not? Try designing a better query below:"
   ]
  },
  {
   "cell_type": "code",
   "execution_count": null,
   "metadata": {},
   "outputs": [],
   "source": [
    "q5b = \"\"\"\n",
    "...\n",
    "\"\"\"\n",
    "pd.read_sql(q5b, engine)"
   ]
  },
  {
   "cell_type": "markdown",
   "metadata": {},
   "source": [
    "<details><summary><button>Click here to reveal the answer!</button></summary>\n",
    "q5b = \"\"\"\n",
    "SELECT u1.name as follower, u2.name as followee\n",
    "    FROM follows, users as u1, users as u2\n",
    "    WHERE follows.userid=u1.userid\n",
    "    AND follows.followid=u2.userid\n",
    "    ORDER BY RANDOM() LIMIT 72*1/3\n",
    "\"\"\"\n",
    "</details>"
   ]
  },
  {
   "cell_type": "markdown",
   "metadata": {},
   "source": [
    "#### Question 6: Older and Wiser (challenge)\n",
    "List every person who has been at Berkeley longer - that is, their `year` is greater - than their average follower."
   ]
  },
  {
   "cell_type": "code",
   "execution_count": null,
   "metadata": {},
   "outputs": [],
   "source": [
    "q6 = \"\"\"\n",
    "SELECT name FROM (\n",
    "    SELECT ...\n",
    ")\n",
    "WHERE year > avg_follower_years\n",
    "\"\"\"\n",
    "pd.read_sql(q6, engine)"
   ]
  },
  {
   "cell_type": "markdown",
   "metadata": {
    "collapsed": true
   },
   "source": [
    "<details><summary><button>Click here to reveal the answer!</button></summary>\n",
    "q6 = \"\"\"\n",
    "SELECT name FROM \n",
    "    (SELECT u1.name, u1.year, AVG(u2.year) as avg_follower_years\n",
    "        FROM follows, users as u1, users as u2\n",
    "        WHERE follows.userid=u1.userid\n",
    "        AND follows.followid=u2.userid\n",
    "        GROUP BY u1.name)\n",
    "    WHERE year > avg_follower_years\n",
    "\"\"\"\n",
    "</details>"
   ]
  },
  {
   "cell_type": "markdown",
   "metadata": {
    "collapsed": true
   },
   "source": [
    "## Lab 5 Done!\n",
    "\n",
    "The materials for this lab have been sourced from [Data 100 at UC Berkeley](http://www.ds100.org/)"
   ]
  },
  {
   "cell_type": "code",
   "execution_count": null,
   "metadata": {},
   "outputs": [],
   "source": []
  }
 ],
 "metadata": {
  "kernelspec": {
   "display_name": "Python 3",
   "language": "python",
   "name": "python3"
  },
  "language_info": {
   "codemirror_mode": {
    "name": "ipython",
    "version": 3
   },
   "file_extension": ".py",
   "mimetype": "text/x-python",
   "name": "python",
   "nbconvert_exporter": "python",
   "pygments_lexer": "ipython3",
   "version": "3.6.5"
  }
 },
 "nbformat": 4,
 "nbformat_minor": 1
}
