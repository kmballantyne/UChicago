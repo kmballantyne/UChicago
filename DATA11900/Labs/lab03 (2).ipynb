{
 "cells": [
  {
   "cell_type": "markdown",
   "metadata": {},
   "source": [
    "# Lab 3: Inference for Regression\n",
    "\n",
    "In this lab, we explore a dataset that contains information about mothers and their child's birth weight. We are intersted in how these variables are related, and whether or not we can trust our regression lines."
   ]
  },
  {
   "cell_type": "code",
   "execution_count": 4,
   "metadata": {},
   "outputs": [],
   "source": [
    "# Run this cell, but please don't change it.\n",
    "\n",
    "# These lines import the numpy and pandas modules\n",
    "import numpy as np\n",
    "import pandas as pd\n",
    "from scipy.optimize import minimize\n",
    "\n",
    "# These lines do some fancy plotting magic.\n",
    "import matplotlib\n",
    "%matplotlib inline\n",
    "import matplotlib.pyplot as plt\n",
    "plt.style.use('fivethirtyeight')\n",
    "import warnings\n",
    "warnings.simplefilter('ignore', FutureWarning)\n",
    "from matplotlib import patches\n",
    "from ipywidgets import interact, interactive, fixed\n",
    "import ipywidgets as widgets"
   ]
  },
  {
   "cell_type": "markdown",
   "metadata": {},
   "source": [
    "First, load the data and look at a few rows."
   ]
  },
  {
   "cell_type": "code",
   "execution_count": 6,
   "metadata": {},
   "outputs": [
    {
     "data": {
      "text/html": [
       "<div>\n",
       "<style scoped>\n",
       "    .dataframe tbody tr th:only-of-type {\n",
       "        vertical-align: middle;\n",
       "    }\n",
       "\n",
       "    .dataframe tbody tr th {\n",
       "        vertical-align: top;\n",
       "    }\n",
       "\n",
       "    .dataframe thead th {\n",
       "        text-align: right;\n",
       "    }\n",
       "</style>\n",
       "<table border=\"1\" class=\"dataframe\">\n",
       "  <thead>\n",
       "    <tr style=\"text-align: right;\">\n",
       "      <th></th>\n",
       "      <th>Birth Weight</th>\n",
       "      <th>Gestational Days</th>\n",
       "      <th>Maternal Age</th>\n",
       "      <th>Maternal Height</th>\n",
       "      <th>Maternal Pregnancy Weight</th>\n",
       "      <th>Maternal Smoker</th>\n",
       "    </tr>\n",
       "  </thead>\n",
       "  <tbody>\n",
       "    <tr>\n",
       "      <th>0</th>\n",
       "      <td>120</td>\n",
       "      <td>284</td>\n",
       "      <td>27</td>\n",
       "      <td>62</td>\n",
       "      <td>100</td>\n",
       "      <td>False</td>\n",
       "    </tr>\n",
       "    <tr>\n",
       "      <th>1</th>\n",
       "      <td>113</td>\n",
       "      <td>282</td>\n",
       "      <td>33</td>\n",
       "      <td>64</td>\n",
       "      <td>135</td>\n",
       "      <td>False</td>\n",
       "    </tr>\n",
       "    <tr>\n",
       "      <th>2</th>\n",
       "      <td>128</td>\n",
       "      <td>279</td>\n",
       "      <td>28</td>\n",
       "      <td>64</td>\n",
       "      <td>115</td>\n",
       "      <td>True</td>\n",
       "    </tr>\n",
       "    <tr>\n",
       "      <th>3</th>\n",
       "      <td>108</td>\n",
       "      <td>282</td>\n",
       "      <td>23</td>\n",
       "      <td>67</td>\n",
       "      <td>125</td>\n",
       "      <td>True</td>\n",
       "    </tr>\n",
       "    <tr>\n",
       "      <th>4</th>\n",
       "      <td>136</td>\n",
       "      <td>286</td>\n",
       "      <td>25</td>\n",
       "      <td>62</td>\n",
       "      <td>93</td>\n",
       "      <td>False</td>\n",
       "    </tr>\n",
       "  </tbody>\n",
       "</table>\n",
       "</div>"
      ],
      "text/plain": [
       "   Birth Weight  Gestational Days  Maternal Age  Maternal Height  \\\n",
       "0           120               284            27               62   \n",
       "1           113               282            33               64   \n",
       "2           128               279            28               64   \n",
       "3           108               282            23               67   \n",
       "4           136               286            25               62   \n",
       "\n",
       "   Maternal Pregnancy Weight  Maternal Smoker  \n",
       "0                        100            False  \n",
       "1                        135            False  \n",
       "2                        115             True  \n",
       "3                        125             True  \n",
       "4                         93            False  "
      ]
     },
     "execution_count": 6,
     "metadata": {},
     "output_type": "execute_result"
    }
   ],
   "source": [
    "baby = pd.read_csv('baby.csv')\n",
    "baby.head()"
   ]
  },
  {
   "cell_type": "markdown",
   "metadata": {},
   "source": [
    "### 1. Could the True Slope Be 0? ###\n",
    "\n",
    "Suppose we believe that our data follow the regression model, and we fit the regression line to estimate the true line. If the regression line isn’t perfectly flat, as is almost invariably the case, we will be observing some linear association in the scatter plot.\n",
    "\n",
    "But what if that observation is spurious? In other words, what if the true line was flat – that is, there was no linear relation between the two variables – and the association that we observed was just due to randomness in generating the points that form our sample?\n",
    "\n",
    "Here is a simulation that illustrates why this question arises. We will call the function ``draw_and_compare``, which takes in a true slope, intercept, and sample size, and generates data based on a normally distributed error. That is, given a true slope $m$ and intercept $b$, we generate random samples $\\epsilon \\sim N(0, \\sigma)$ and generate data of the form\n",
    "$$y = mx + b + \\epsilon$$\n",
    "\n",
    "Remember that the arguments to the function draw_and_compare are the slope and the intercept of the true line, and the number of points to be generated."
   ]
  },
  {
   "cell_type": "code",
   "execution_count": null,
   "metadata": {},
   "outputs": [],
   "source": [
    "# just run this cell\n",
    "def standard_units(any_numbers):\n",
    "    \"Convert any array of numbers to standard units.\"\n",
    "    return (any_numbers - np.mean(any_numbers))/np.std(any_numbers)  \n",
    "\n",
    "def correlation(t, x, y):\n",
    "    return np.mean(standard_units(t[x])*standard_units(t[y]))\n",
    "\n",
    "def slope(table, x, y):\n",
    "    r = correlation(table, x, y)\n",
    "    return r * np.std(table[y])/np.std(table[x])\n",
    "\n",
    "def intercept(table, x, y):\n",
    "    a = slope(table, x, y)\n",
    "    return np.mean(table[y]) - a * np.mean(table[x])\n",
    "\n",
    "def fit(table, x, y):\n",
    "    a = slope(table, x, y)\n",
    "    b = intercept(table, x, y)\n",
    "    return a * table[x] + b\n",
    "\n",
    "def scatter_fit(table, x, y):\n",
    "    plt.scatter(table[x], table[y], s=20)\n",
    "    plt.plot(table[x], fit(table, x, y), lw=2, color='gold')\n",
    "    plt.xlabel(x)\n",
    "    plt.ylabel(y)\n",
    "    \n",
    "def draw_and_compare(true_slope, true_int, sample_size):\n",
    "    x = np.random.normal(50, 5, sample_size)\n",
    "    xlims = np.array([np.min(x), np.max(x)])\n",
    "    eps = np.random.normal(0, 6, sample_size)\n",
    "    y = (true_slope*x + true_int) + eps\n",
    "    tyche = pd.DataFrame(\n",
    "        data = np.vstack([ x,y]).T, \n",
    "        columns = [\"x\", \"y\"]\n",
    "    )\n",
    "    \n",
    "    plt.figure(figsize=(6, 16))\n",
    "    plt.subplot(4, 1, 1)\n",
    "    plt.scatter(tyche['x'], tyche['y'], s=20)\n",
    "    plt.plot(xlims, true_slope*xlims + true_int, lw=2, color='green')\n",
    "    plt.title('True Line, and Points Created')\n",
    "\n",
    "    plt.subplot(4, 1, 2)\n",
    "    plt.scatter(tyche['x'],tyche['y'], s=20)\n",
    "    plt.title('What We Get to See')\n",
    "\n",
    "    plt.subplot(4, 1, 3)\n",
    "    scatter_fit(tyche, 'x', 'y')\n",
    "    plt.xlabel(\"\")\n",
    "    plt.ylabel(\"\")\n",
    "    plt.title('Regression Line: Estimate of True Line')\n",
    "\n",
    "    plt.subplot(4, 1, 4)\n",
    "    scatter_fit(tyche, 'x', 'y')\n",
    "    plt.ylabel(\"\")\n",
    "    xlims = np.array([np.min(tyche['x']), np.max(tyche['x'])])\n",
    "    plt.plot(xlims, true_slope*xlims + true_int, lw=2, color='green')\n",
    "    plt.title(\"Regression Line and True Line\")"
   ]
  },
  {
   "cell_type": "markdown",
   "metadata": {},
   "source": [
    "#### Question 1\n",
    "\n",
    "Call this function a few different times, setting the true_slope to be zero. What do you observe?"
   ]
  },
  {
   "cell_type": "code",
   "execution_count": null,
   "metadata": {},
   "outputs": [],
   "source": [
    "..."
   ]
  },
  {
   "cell_type": "markdown",
   "metadata": {},
   "source": [
    "You will notice that while the slope of the true line is 0, the slope of the regression line is typically not 0. The regression line sometimes slopes upwards, and sometimes downwards, each time giving us a false impression that the two variables are correlated.\n",
    "\n",
    "To decide whether or not the slope that we are seeing is real, we would like to test the following hypotheses:\n",
    "\n",
    "**Null Hypothesis.** The slope of the true line is 0. \n",
    "\n",
    "**Alternative Hypothesis.** The slope of the true line is not 0. \n",
    "\n",
    "To do this, we can construct a 95% confidence interval for the true slope, and then all we have to do is see whether the interval contains 0. \n",
    "\n",
    "If it doesn't, then we can reject the null hypothesis (with the 5% cutoff for the P-value). \n",
    "\n",
    "If the confidence interval for the true slope does contain 0, then we don't have enough evidence to reject the null hypothesis. Perhaps the slope that we are seeing is spurious."
   ]
  },
  {
   "cell_type": "markdown",
   "metadata": {},
   "source": [
    "Let's use this method in an example. Suppose we try to estimate the birth weight of the baby based on the mother's age. \n",
    "\n",
    "#### Question 2\n",
    "\n",
    "Make a scatterplot of the birth weight vs. the mother's age and plot the least squares line on top. We've given you the code to find the slope and intercept of the least squares fit below."
   ]
  },
  {
   "cell_type": "code",
   "execution_count": 3,
   "metadata": {},
   "outputs": [
    {
     "data": {
      "text/plain": [
       "Ellipsis"
      ]
     },
     "execution_count": 3,
     "metadata": {},
     "output_type": "execute_result"
    }
   ],
   "source": [
    "def standard_units(any_numbers):\n",
    "    \"Convert any array of numbers to standard units.\"\n",
    "    return (any_numbers - np.mean(any_numbers))/np.std(any_numbers)  \n",
    "\n",
    "def correlation(df, x, y):\n",
    "    return np.mean(standard_units(df[x])*standard_units(df[y]))\n",
    "\n",
    "def slope(df, x, y):\n",
    "    r = correlation(df, x, y)\n",
    "    return r * np.std(df[y])/np.std(df[x])\n",
    "\n",
    "def intercept(df, x, y):\n",
    "    a = slope(df, x, y)\n",
    "    return np.mean(df[y]) - a * np.mean(df[x])\n",
    "\n",
    "\n",
    "# Plot here\n",
    "..."
   ]
  },
  {
   "cell_type": "markdown",
   "metadata": {},
   "source": [
    "<details><summary><button>Click here to reveal the answer!</button></summary>\n",
    "<pre>\n",
    "baby_slope = slope(baby, 'Maternal Height', 'Birth Weight')\n",
    "baby_intercept = intercept(baby, 'Maternal Height', 'Birth Weight')\n",
    "xlims = np.array([min(baby['Maternal Height']), max(baby['Maternal Height'])])\n",
    "baby.plot.scatter('Maternal Height', 'Birth Weight')\n",
    "plt.plot(xlims, xlims*baby_slope + baby_intercept, color='gold')\n",
    "</pre>\n",
    "</details>"
   ]
  },
  {
   "cell_type": "code",
   "execution_count": null,
   "metadata": {},
   "outputs": [],
   "source": [
    "intercept(baby, )"
   ]
  },
  {
   "cell_type": "markdown",
   "metadata": {},
   "source": [
    "We notice that the the regression line looks like it is positive. However, does this reflect the fact that the true line has a positive slope? To answer this question, let us see if we can estimate the true slope. We certainly have one estimate of it: the slope of our regression line. But had the scatter plot come out differently, the regression line would have been different and might have had a different slope. How do we figure out how different the slope might have been? \n",
    "\n",
    "We need another sample of points, so that we can draw the regression line through the new scatter plot and find its slope. But from where will get another sample?\n",
    "\n",
    "You have guessed it – we will *bootstrap our original sample*. That will give us a bootstrapped scatter plot, through which we can draw a regression line."
   ]
  },
  {
   "cell_type": "markdown",
   "metadata": {},
   "source": [
    "### Bootstrapping the Scatter Plot ###\n",
    "We can simulate new samples by random sampling with replacement from the original sample, as many times as the original sample size. Each of these new samples will give us a scatter plot. We will call that a *bootstrapped scatter plot*, and for short, we will call the entire process *bootstrapping the scatter plot*.\n",
    "\n",
    "\n",
    "#### Question 3\n",
    "Plot 4 different scatterplots of bootstrapped samples of the original dataset. These samples should be the same size as the original dataset, and you should sample with replacement. The pandas function `df.sample()` will be helpful here. What do you notice about these plots compared with the original?"
   ]
  },
  {
   "cell_type": "code",
   "execution_count": null,
   "metadata": {},
   "outputs": [],
   "source": [
    "..."
   ]
  },
  {
   "cell_type": "markdown",
   "metadata": {},
   "source": [
    "<details><summary><button>Click here to reveal the answer!</button></summary>\n",
    "<pre>\n",
    "for i in range(5):\n",
    "    rep = baby.sample(baby.shape[0], replace=True)\n",
    "    rep.plot.scatter('Maternal Age', 'Birth Weight')\n",
    "    \n",
    "The scatterplots are a bit sparser than the original because they are sampling with replacement.\n",
    "</pre>\n",
    "</details>\n"
   ]
  },
  {
   "cell_type": "markdown",
   "metadata": {},
   "source": [
    "#### Question 4\n",
    "\n",
    "To create a confidence interval for the true slope, we can bootstrap the scatter plot a large number of times, and draw a regression line through each bootstrapped plot. Each of those lines has a slope. We can simply collect all the slopes and draw their empirical histogram.\n",
    "\n",
    "Please create a histogram of 5000 bootstrapped slopes."
   ]
  },
  {
   "cell_type": "code",
   "execution_count": null,
   "metadata": {},
   "outputs": [],
   "source": [
    "slopes = []\n",
    "for i in range(5000):\n",
    "    bootstrap_sample = ...\n",
    "    ..."
   ]
  },
  {
   "cell_type": "markdown",
   "metadata": {},
   "source": [
    "<details><summary><button>Click here to reveal the answer!</button></summary>\n",
    "<pre>\n",
    "slopes = []\n",
    "for i in range(5000):\n",
    "    bootstrap_sample = baby.sample(baby.shape[0], replace=True)\n",
    "    bslope = slope(bootstrap_sample, 'Maternal Age', 'Birth Weight')\n",
    "    slopes.append(bslope)\n",
    "plt.hist(slopes)\n",
    "</pre>\n",
    "</details>\n",
    "\n",
    "\n"
   ]
  },
  {
   "cell_type": "markdown",
   "metadata": {},
   "source": [
    "#### Question 5\n",
    "\n",
    "Construct an approximate 95% confidence interval for the slope of the true line, using the bootstrap percentile method. The confidence interval should extend from the 2.5th percentile to the 97.5th percentile of the 5000 bootstrapped slopes. What does this interval tell us about the true slope?"
   ]
  },
  {
   "cell_type": "code",
   "execution_count": null,
   "metadata": {},
   "outputs": [],
   "source": [
    "left = ...\n",
    "right = ..."
   ]
  },
  {
   "cell_type": "markdown",
   "metadata": {},
   "source": [
    "<details><summary><button>Click here to reveal the answer!</button></summary>\n",
    "<pre>\n",
    "left = percentile(2.5, slopes)\n",
    "right = percentile(97.5, slopes)\n",
    "\n",
    "The 95% confidence interval contains 0 - thus we don't have reason to suspect the true slope is nonzero\n",
    "</pre>\n",
    "</details>\n",
    "\n",
    "\n"
   ]
  },
  {
   "cell_type": "markdown",
   "metadata": {},
   "source": [
    "Because the interval contains 0, we cannot reject the null hypothesis that the slope of the true linear relation between maternal age and baby's birth weight is 0. Based on this analysis, it would be unwise to predict birth weight based on the regression model with maternal age as the predictor.\n",
    "\n",
    "\n",
    "### 2. Prediction Intervals ###\n",
    "One of the primary uses of regression is to make predictions for a new individual who was not part of our original sample but is similar to the sampled individuals. In the language of the model, we want to estimate $y$ for a new value of $x$.\n",
    "\n",
    "Our estimate is the height of the true line at $x$. Of course, we don't know the true line. What we have as a substitute is the regression line through our sample of points.\n",
    "\n",
    "The **fitted value** at a given value of $x$ is the regression estimate of $y$ based on that value of $x$. In other words, the fitted value at a given value of $x$ is the height of the regression line at that $x$.\n",
    "\n",
    "Suppose we try to predict a baby's birth weight based on the number of gestational days. The function ``fitted_value()`` (below) will compute a fitted value for `given_x` given the data. \n",
    "\n",
    "#### Question 1\n",
    "Make a scatterplot of the baby's birth weight vs the number of gestational days, add the fitted line (as you did in the first question), and add a vertical line from the axis to the fitted value of `given_x = 300`."
   ]
  },
  {
   "cell_type": "code",
   "execution_count": null,
   "metadata": {},
   "outputs": [],
   "source": [
    "def fitted_value(df, x, y, given_x):\n",
    "    a = slope(df, x, y)\n",
    "    b = intercept(df, x, y)\n",
    "    return a * given_x  + b\n",
    "\n",
    "# plot here\n",
    "... # reuse code from before to plot the scatterplot with the new predictor\n",
    "fit_300 = ... # call the fitted_value function to get the prediction for x = 300\n",
    "plt.plot([300,300], [0, fit_300], color='red', lw=2)"
   ]
  },
  {
   "cell_type": "markdown",
   "metadata": {},
   "source": [
    "<details><summary><button>Click here to reveal the answer!</button></summary>\n",
    "<pre>\n",
    "baby_slope = slope(baby, 'Gestational Days', 'Birth Weight')\n",
    "baby_intercept = intercept(baby, 'Gestational Days', 'Birth Weight')\n",
    "xlims = np.array([min(baby['Gestational Days']), max(baby['Gestational Days'])])\n",
    "baby.plot.scatter('Gestational Days', 'Birth Weight')\n",
    "plt.plot(xlims, xlims*baby_slope + baby_intercept, color='gold')\n",
    "fit_300 = fitted_value(baby, 'Gestational Days', 'Birth Weight', 300)\n",
    "plt.plot([300,300], [0, fit_300], color='red', lw=2)\n",
    "</pre>\n",
    "</details>"
   ]
  },
  {
   "cell_type": "markdown",
   "metadata": {},
   "source": [
    "The fitted value at 300 gestational days is about 129.2 ounces. In other words, for a pregnancy that has a duration of 300 gestational days, our estimate for the baby's weight is about 129.2 ounces.\n",
    "\n",
    "### The Variability of the Prediction ###\n",
    "\n",
    "We have developed a method making one prediction of a new baby's birth weight based on the number of gestational days, using the data in our sample. But as data scientists, we know that the sample might have been different. Had the sample been different, the regression line would have been different too, and so would our prediction. To see how good our prediction is, we must get a sense of how variable the prediction can be.\n",
    "\n",
    "To do this, we must generate new samples. We can do that by bootstrapping the scatter plot as in the previous section. We will then fit the regression line to the scatter plot in each replication, and make a prediction based on each line. \n",
    "\n",
    "#### Question 2\n",
    "\n",
    "Complete the code to bootstrap the sample 10 different times and use the provided code to plot the 10 different fitted lines and their prediction for birth weight at 300 days."
   ]
  },
  {
   "cell_type": "code",
   "execution_count": null,
   "metadata": {},
   "outputs": [],
   "source": [
    "x = 300\n",
    "\n",
    "lines = []\n",
    "for i in range(10):\n",
    "    bootstrap_sample = ...\n",
    "    a = ... #slope\n",
    "    b = ... #intercept\n",
    "    lines.append([a, b])\n",
    "\n",
    "    \n",
    "# this code will plot (no need to change)\n",
    "lines = pd.DataFrame(lines, columns=['slope', 'intercept'])\n",
    "lines['prediction at x='+str(x)] = lines['slope']*x + lines['intercept']\n",
    "\n",
    "xlims = np.array([291, 309])\n",
    "left = xlims[0]*lines['slope'] + lines['intercept']\n",
    "right = xlims[1]*lines['slope'] + lines['intercept']\n",
    "fit_x = x*lines['slope'] + lines['intercept']\n",
    "\n",
    "for i in range(10):\n",
    "    plt.plot(xlims, np.array([left[i], right[i]]), lw=1)\n",
    "    plt.scatter(x, fit_x[i], s=30)"
   ]
  },
  {
   "cell_type": "markdown",
   "metadata": {},
   "source": [
    "<details><summary><button>Click here to reveal the answer!</button></summary>\n",
    "<pre>\n",
    "x = 300\n",
    "\n",
    "lines = []\n",
    "for i in range(10):\n",
    "    rep = baby.sample(baby.shape[0], replace=True)\n",
    "    a = slope(rep, 'Gestational Days', 'Birth Weight')\n",
    "    b = intercept(rep, 'Gestational Days', 'Birth Weight')\n",
    "    lines.append([a, b])\n",
    "</pre>\n",
    "</details>\n",
    "\n"
   ]
  },
  {
   "cell_type": "markdown",
   "metadata": {},
   "source": [
    "The predictions vary from one line to the next. How do we determine how confident we are in the prediction?\n",
    "\n",
    "### Bootstrap Prediction Interval ###\n",
    "\n",
    "If we increase the number of repetitions of the resampling process, we can generate an empirical histogram of the predictions. This will allow us to create an interval of predictions, using the same percentile method that we used create a bootstrap confidence interval for the slope.\n",
    "\n",
    "Let us define a function called ``bootstrap_prediction`` to do this. The function takes five arguments:\n",
    "- the name of the table\n",
    "- the column labels of the predictor and response variables, in that order\n",
    "- the value of $x$ at which to make the prediction\n",
    "- the desired number of bootstrap repetitions\n",
    "\n",
    "In each repetition, the function bootstraps the original scatter plot and finds the predicted value of $y$ based on the specified value of $x$. Specifically, it calls the function `fitted_value` that we defined earlier in this section to find the fitted value at the specified $x$.\n",
    "\n",
    "Finally, it draws the empirical histogram of all the predicted values, and prints the interval consisting of the \"middle 95%\" of the predicted values. It also prints the predicted value based on the regression line through the original scatter plot.\n",
    "\n",
    "#### Question 3\n",
    "Complete the code below and run it to create a prediction interval for `new_x = 300` with 5000 repetitions."
   ]
  },
  {
   "cell_type": "code",
   "execution_count": null,
   "metadata": {},
   "outputs": [],
   "source": [
    "def bootstrap_prediction(df, x, y, new_x, repetitions):\n",
    "    \n",
    "    # For each repetition:\n",
    "    # Bootstrap the scatter; \n",
    "    # get the regression prediction at new_x; \n",
    "    # augment the predictions list\n",
    "    predictions = []\n",
    "    n = df.shape[0]\n",
    "    for i in np.arange(repetitions):\n",
    "        bootstrap_sample = ...\n",
    "        bootstrap_prediction = ...\n",
    "        predictions.append(bootstrap_prediction)\n",
    "        \n",
    "    # Find the ends of the approximate 95% prediction interval\n",
    "    left = ...\n",
    "    right = ...\n",
    "    \n",
    "    # Prediction based on original sample\n",
    "    original = fitted_value(table, x, y, new_x)\n",
    "    \n",
    "    # Display results\n",
    "    plt.hist(predictions)\n",
    "    plots.xlabel('predictions at x='+str(new_x))\n",
    "    plt.plot([left, right], [0,0], color='yellow', lw=8);\n",
    "    print('Height of regression line at x='+str(new_x)+':', original)\n",
    "    print('Approximate 95%-confidence interval:')\n",
    "    print(left, right)"
   ]
  },
  {
   "cell_type": "markdown",
   "metadata": {},
   "source": [
    "<details><summary><button>Click here to reveal the answer!</button></summary>\n",
    "<pre>\n",
    "def bootstrap_prediction(df, x, y, new_x, repetitions):\n",
    "    \n",
    "    # For each repetition:\n",
    "    # Bootstrap the scatter; \n",
    "    # get the regression prediction at new_x; \n",
    "    # augment the predictions list\n",
    "    predictions = []\n",
    "    n = df.shape[0]\n",
    "    for i in np.arange(repetitions):\n",
    "        bootstrap_sample = df.sample(n, replace=True)\n",
    "        bootstrap_prediction = fitted_value(bootstrap_sample, x, y, new_x)\n",
    "        predictions.append(bootstrap_prediction)\n",
    "        \n",
    "    # Find the ends of the approximate 95% prediction interval\n",
    "    left = percentile(2.5, predictions)\n",
    "    right = percentile(97.5, predictions)\n",
    "    \n",
    "    # Prediction based on original sample\n",
    "    original = fitted_value(df, x, y, new_x)\n",
    "    \n",
    "    # Display results\n",
    "    plt.hist(predictions)\n",
    "    plt.xlabel('predictions at x='+str(new_x))\n",
    "    plt.plot([left, right], [0,0], color='yellow', lw=8);\n",
    "    print('Height of regression line at x='+str(new_x)+':', original)\n",
    "    print('Approximate 95%-confidence interval:')\n",
    "    print(left, right)\n",
    "    \n",
    "bootstrap_prediction(baby, 'Gestational Days', 'Birth Weight', 300, 5000)\n",
    "</pre>\n",
    "</details>"
   ]
  },
  {
   "cell_type": "markdown",
   "metadata": {},
   "source": [
    "### The Effect of Changing the Value of the Predictor ###\n",
    "\n",
    "\n",
    "#### Question 4\n",
    "Create a prediction interval for `new_x = 285`. How is this interval different? Why is this?"
   ]
  },
  {
   "cell_type": "code",
   "execution_count": null,
   "metadata": {},
   "outputs": [],
   "source": [
    "..."
   ]
  },
  {
   "cell_type": "markdown",
   "metadata": {},
   "source": [
    "<details><summary><button>Click here to reveal the answer!</button></summary>\n",
    "<pre>\n",
    "The prediction interval is narrower. This is because 285 is nearer to the center of the distribution than 300 is. Typically, the regression lines based on the bootstrap samples are closer to each other near the center of the distribution of the predictor variable. Therefore all of the predicted values are closer together as well. This explains the narrower width of the prediction interval.\n",
    "</pre>\n",
    "</details>"
   ]
  },
  {
   "cell_type": "markdown",
   "metadata": {},
   "source": [
    "### Words of caution ###\n",
    "\n",
    "All of the predictions and tests that we have performed in this chapter assume that the regression model holds. Specifically, the methods assume that the scatter plot resembles points generated by starting with points that are on a straight line and then pushing them off the line by adding random normal noise.\n",
    "\n",
    "If the scatter plot does not look like that, then perhaps the model does not hold for the data. If the model does not hold, then calculations that assume the model to be true are not valid.\n",
    "\n",
    "Therefore, we must first decide whether the regression model holds for our data, before we start making predictions based on the model or testing hypotheses about parameters of the model. A simple way is to do what we did in this section, which is to draw the scatter diagram of the two variables and see whether it looks roughly linear and evenly spread out around a line. We should also run the diagnostics we developed in the previous section using the residual plot."
   ]
  },
  {
   "cell_type": "markdown",
   "metadata": {},
   "source": [
    "### 3. Multiple Linear Regression ###\n",
    "\n",
    "Now, suppose we are interested in predicting the birth weight based on both the age of the mother and the number of gestational days. To do this, we use multiple linear regression. In this exercise we will use a function we write ourselves to estimate the coefficients, and then compare with estimates from scikit-learn.\n",
    "\n",
    "#### Question 1\n",
    "Fill in the code to finish your own function to minimize the least squares objective for multiple linear regression with 2 predictors."
   ]
  },
  {
   "cell_type": "code",
   "execution_count": null,
   "metadata": {},
   "outputs": [],
   "source": [
    "def mlr2(df, X_cols, y_col):\n",
    "    # df is the input dataframe\n",
    "    # X_cols is a list of strings that contains the names of the two columns being used as predictors\n",
    "    \n",
    "    # define the response\n",
    "    y = df[y_col]\n",
    "    def rss(b0,b1,b2):\n",
    "        estimate = ... #Fill this in!\n",
    "        return (np.mean((y - estimate) ** 2))\n",
    "\n",
    "    # the estimated values of the parameters\n",
    "    return(minimize(rss,method=\"CG\"))\n"
   ]
  },
  {
   "cell_type": "markdown",
   "metadata": {},
   "source": [
    "<details><summary><button>Click here to reveal the answer!</button></summary>\n",
    "<pre>\n",
    "estimate = b0+b1\\*df[X_cols[0]] + b2\\*df[X_cols[1]]\n",
    "</pre>\n",
    "</details>"
   ]
  },
  {
   "cell_type": "markdown",
   "metadata": {},
   "source": [
    "#### Question 2\n",
    "\n",
    "Use this function to find the intercept and both coefficients for the multiple linear regression described above."
   ]
  },
  {
   "cell_type": "code",
   "execution_count": null,
   "metadata": {},
   "outputs": [],
   "source": [
    "..."
   ]
  },
  {
   "cell_type": "markdown",
   "metadata": {},
   "source": [
    "<details><summary><button>Click here to reveal the answer!</button></summary>\n",
    "<pre>\n",
    "code: mlr2(baby, ['Maternal Age', 'Gestational Days'], 'Birth Weight') \n",
    "intercept=-15.78; coefficient for age=.154, coefficient for gestational days=.47\n",
    "</pre>\n",
    "</details>"
   ]
  },
  {
   "cell_type": "markdown",
   "metadata": {},
   "source": [
    "#### Question 3\n",
    "\n",
    "Now, run the following cell to use the scikit-learn LinearRegression to compute the same values. Are they the same? Discuss."
   ]
  },
  {
   "cell_type": "code",
   "execution_count": null,
   "metadata": {},
   "outputs": [],
   "source": [
    "from sklearn.linear_model import LinearRegression\n",
    "\n",
    "lm = LinearRegression()\n",
    "lm.fit(baby[['Maternal Age', 'Gestational Days']], baby['Birth Weight'])\n",
    "\n",
    "print('intercept:', lm.intercept_)\n",
    "print('coefficients:', lm.coef_)"
   ]
  },
  {
   "cell_type": "code",
   "execution_count": null,
   "metadata": {},
   "outputs": [],
   "source": []
  }
 ],
 "metadata": {
  "anaconda-cloud": {},
  "kernelspec": {
   "display_name": "Python 3",
   "language": "python",
   "name": "python3"
  },
  "language_info": {
   "codemirror_mode": {
    "name": "ipython",
    "version": 3
   },
   "file_extension": ".py",
   "mimetype": "text/x-python",
   "name": "python",
   "nbconvert_exporter": "python",
   "pygments_lexer": "ipython3",
   "version": "3.8.5"
  }
 },
 "nbformat": 4,
 "nbformat_minor": 4
}
