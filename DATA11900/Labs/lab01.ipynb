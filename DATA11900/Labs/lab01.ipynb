{
 "cells": [
  {
   "cell_type": "markdown",
   "metadata": {},
   "source": [
    "# Lab 1: Pandas Refresher\n",
    "\n",
    "Welcome to lab 1! Most of you were in DATA 118 and are familiar with `pandas`, but this lab will serve as a refresher of some of the basics. Reminder that a great thing about `pandas` is that it is *heavily* documented online - most issues you may come across are easily googleable. Feel free to use your resources wisely in this course! [This](https://pandas.pydata.org/Pandas_Cheat_Sheet.pdf) is also useful.\n",
    "\n",
    "First, import libraries by running the cell below."
   ]
  },
  {
   "cell_type": "code",
   "execution_count": 1,
   "metadata": {},
   "outputs": [],
   "source": [
    "import numpy as np\n",
    "import pandas as pd"
   ]
  },
  {
   "cell_type": "markdown",
   "metadata": {},
   "source": [
    "The file `imdb.csv` contains a table of information about the 250 highest-rated movies on IMDb. The following cell will load this file and store it in a dataframe called `imdb`. Then, we use the `.head()` operation to display the first 5 rows."
   ]
  },
  {
   "cell_type": "code",
   "execution_count": 2,
   "metadata": {},
   "outputs": [
    {
     "data": {
      "text/html": [
       "<div>\n",
       "<style scoped>\n",
       "    .dataframe tbody tr th:only-of-type {\n",
       "        vertical-align: middle;\n",
       "    }\n",
       "\n",
       "    .dataframe tbody tr th {\n",
       "        vertical-align: top;\n",
       "    }\n",
       "\n",
       "    .dataframe thead th {\n",
       "        text-align: right;\n",
       "    }\n",
       "</style>\n",
       "<table border=\"1\" class=\"dataframe\">\n",
       "  <thead>\n",
       "    <tr style=\"text-align: right;\">\n",
       "      <th></th>\n",
       "      <th>Votes</th>\n",
       "      <th>Rating</th>\n",
       "      <th>Title</th>\n",
       "      <th>Year</th>\n",
       "      <th>Decade</th>\n",
       "    </tr>\n",
       "  </thead>\n",
       "  <tbody>\n",
       "    <tr>\n",
       "      <th>0</th>\n",
       "      <td>88355</td>\n",
       "      <td>8.4</td>\n",
       "      <td>M</td>\n",
       "      <td>1931</td>\n",
       "      <td>1930</td>\n",
       "    </tr>\n",
       "    <tr>\n",
       "      <th>1</th>\n",
       "      <td>132823</td>\n",
       "      <td>8.3</td>\n",
       "      <td>Singin' in the Rain</td>\n",
       "      <td>1952</td>\n",
       "      <td>1950</td>\n",
       "    </tr>\n",
       "    <tr>\n",
       "      <th>2</th>\n",
       "      <td>74178</td>\n",
       "      <td>8.3</td>\n",
       "      <td>All About Eve</td>\n",
       "      <td>1950</td>\n",
       "      <td>1950</td>\n",
       "    </tr>\n",
       "    <tr>\n",
       "      <th>3</th>\n",
       "      <td>635139</td>\n",
       "      <td>8.6</td>\n",
       "      <td>Léon</td>\n",
       "      <td>1994</td>\n",
       "      <td>1990</td>\n",
       "    </tr>\n",
       "    <tr>\n",
       "      <th>4</th>\n",
       "      <td>145514</td>\n",
       "      <td>8.2</td>\n",
       "      <td>The Elephant Man</td>\n",
       "      <td>1980</td>\n",
       "      <td>1980</td>\n",
       "    </tr>\n",
       "  </tbody>\n",
       "</table>\n",
       "</div>"
      ],
      "text/plain": [
       "    Votes  Rating                Title  Year  Decade\n",
       "0   88355     8.4                    M  1931    1930\n",
       "1  132823     8.3  Singin' in the Rain  1952    1950\n",
       "2   74178     8.3        All About Eve  1950    1950\n",
       "3  635139     8.6                 Léon  1994    1990\n",
       "4  145514     8.2     The Elephant Man  1980    1980"
      ]
     },
     "execution_count": 2,
     "metadata": {},
     "output_type": "execute_result"
    }
   ],
   "source": [
    "imdb = pd.read_csv('imdb.csv')\n",
    "imdb.head()"
   ]
  },
  {
   "cell_type": "markdown",
   "metadata": {},
   "source": [
    "## 1. Analyzing datasets\n",
    "\n",
    "With just a few pandas methods, we can answer some interesting questions about the IMDb dataset.\n",
    "\n",
    "If we want just the ratings of the movies, there are two ways to select a column in pandas (interact with the cell below to confirm that they are the same). \n",
    "\n",
    "This syntax does not work if your column name has a space in it or if your column has the same name as a pandas method, like \"mean\" or \"plot.\"\n"
   ]
  },
  {
   "cell_type": "code",
   "execution_count": 3,
   "metadata": {},
   "outputs": [
    {
     "data": {
      "text/plain": [
       "0      8.4\n",
       "1      8.3\n",
       "2      8.3\n",
       "3      8.6\n",
       "4      8.2\n",
       "      ... \n",
       "245    8.7\n",
       "246    8.1\n",
       "247    8.2\n",
       "248    8.1\n",
       "249    8.3\n",
       "Name: Rating, Length: 250, dtype: float64"
      ]
     },
     "execution_count": 3,
     "metadata": {},
     "output_type": "execute_result"
    }
   ],
   "source": [
    "imdb[\"Rating\"]\n",
    "imdb.Rating"
   ]
  },
  {
   "cell_type": "markdown",
   "metadata": {},
   "source": [
    "The object returned is a pandas Series - this is a specific pandas object. You can turn it into a list or a numpy array as follows and then use opereations you know on those objects."
   ]
  },
  {
   "cell_type": "code",
   "execution_count": 4,
   "metadata": {},
   "outputs": [],
   "source": [
    "rating_list = list(imdb.Rating)\n",
    "rating_array = imdb.Rating.values"
   ]
  },
  {
   "cell_type": "markdown",
   "metadata": {},
   "source": [
    "Alternatively, there are many operations you can apply directly to a pandas series (or entire dataframe) to summarize the data - check the \"Summarize Data\" section of the cheat sheet for more details. The following code finds the sum of all the \"Votes\" in the imbd dataframe:"
   ]
  },
  {
   "cell_type": "code",
   "execution_count": 5,
   "metadata": {},
   "outputs": [
    {
     "data": {
      "text/plain": [
       "86266786"
      ]
     },
     "execution_count": 5,
     "metadata": {},
     "output_type": "execute_result"
    }
   ],
   "source": [
    "imdb.Votes.sum()"
   ]
  },
  {
   "cell_type": "markdown",
   "metadata": {},
   "source": [
    "**Question 1.1.** Find the rating of the highest-rated movie in the dataset. You can either apply an operation directly to the dataframe, or convert the Ratings column to an array to use a function on that."
   ]
  },
  {
   "cell_type": "code",
   "execution_count": null,
   "metadata": {},
   "outputs": [],
   "source": [
    "highest_rating = ...\n",
    "highest_rating"
   ]
  },
  {
   "cell_type": "markdown",
   "metadata": {},
   "source": [
    "<details><summary><button>Click here to reveal the answer!</button></summary>\n",
    "<p>\n",
    "The corret answer is 9.2, and one possible way to get it is imdb.Rating.max().\n",
    "</p>\n",
    "</details>"
   ]
  },
  {
   "cell_type": "markdown",
   "metadata": {},
   "source": [
    "That's not very useful, though. You'd probably want to know the *name* of the movie whose rating you found!  To do that, we can sort the entire table by rating, which ensures that the ratings and titles will stay together."
   ]
  },
  {
   "cell_type": "code",
   "execution_count": null,
   "metadata": {},
   "outputs": [],
   "source": [
    "imdb.sort_values(\"Rating\")"
   ]
  },
  {
   "cell_type": "markdown",
   "metadata": {},
   "source": [
    "Well, that actually doesn't help much, either -- we sorted the movies from lowest -> highest ratings.  To look at the highest-rated movies, sort in reverse order:"
   ]
  },
  {
   "cell_type": "code",
   "execution_count": null,
   "metadata": {},
   "outputs": [],
   "source": [
    "imdb.sort_values(\"Rating\", ascending=False)"
   ]
  },
  {
   "cell_type": "markdown",
   "metadata": {},
   "source": [
    "(The `ascending=False` bit is called an *optional argument*. It has a default value of `True`, so when you explicitly tell the function `ascending=False`, then the function will sort in descending order.)\n",
    "\n",
    "So there are actually 2 highest-rated movies in the dataset: *The Shawshank Redemption* and *The Godfather*.\n",
    "\n",
    "Some details about sorting dataframes:\n",
    "\n",
    "1. The first argument to `sort_values` is the name of a column to sort by.\n",
    "2. If the column has strings in it, `sort_values` will sort alphabetically; if the column has numbers, it will sort numerically.\n",
    "3. The value of `imdb.sort_values(\"Rating\")` is a *copy of `imdb`*; the `imdb` table doesn't get modified. For example, if we called `imdb.sort_values(\"Rating\")`, then running `imdb` by itself would still return the unsorted table.\n",
    "4. Rows always stick together when a table is sorted.  It wouldn't make sense to sort just one column and leave the other columns alone.  For example, in this case, if we sorted just the \"Rating\" column, the movies would all end up with the wrong ratings.\n",
    "\n",
    "**Question 1.2.** Create a version of `imdb` that's sorted chronologically, with the earliest movies first.  Call it `imdb_by_year`."
   ]
  },
  {
   "cell_type": "code",
   "execution_count": null,
   "metadata": {},
   "outputs": [],
   "source": [
    "imdb_by_year = ...\n",
    "imdb_by_year"
   ]
  },
  {
   "cell_type": "markdown",
   "metadata": {},
   "source": [
    "<details><summary><button>Click here to reveal the answer!</button></summary>\n",
    "<p>\n",
    "The code is `imdb.sort_values(\"Year\")\n",
    "</p>\n",
    "</details>"
   ]
  },
  {
   "cell_type": "markdown",
   "metadata": {},
   "source": [
    "**Question 1.3.** What's the title of the earliest movie in the dataset?  You could just look this up from the output of the previous cell.  Instead, write Python code to find out.\n",
    "\n",
    "*Hint:* Starting with `imdb_by_year`, extract the Title column to get an array, then use `iloc` to access the first item; refer to the cheat sheet for help."
   ]
  },
  {
   "cell_type": "code",
   "execution_count": null,
   "metadata": {},
   "outputs": [],
   "source": [
    "earliest_movie_title = ...\n",
    "earliest_movie_title"
   ]
  },
  {
   "cell_type": "markdown",
   "metadata": {},
   "source": [
    "<details><summary><button>Click here to reveal the answer!</button></summary>\n",
    "<p>\n",
    "The code is `imdb_by_year[\"Title\"].iloc[0].\n",
    "</p>\n",
    "</details>"
   ]
  },
  {
   "cell_type": "markdown",
   "metadata": {},
   "source": [
    "## 2. Finding pieces of a dataset\n",
    "Suppose you're interested in movies from the 1940s.  Sorting the table by year doesn't help you, because the 1940s are in the middle of the dataset.\n",
    "\n",
    "Instead, we need to index into the table. In pandas, you do this through the argument \n",
    "`.loc[row,col]`. The `row` argument allows you to filter the rows you want to select (in this case, we are interested in rows where the decade is 1940), and the `col` argument allows you to select certain columns (you can do this either by index or by name). If you only include one argument to `.loc[]`, it will filter the rows and select all columns. \n",
    "\n",
    "The following retrieves all rows where the decade is 1940. You can use any logical conditional you want in the row selection argument."
   ]
  },
  {
   "cell_type": "code",
   "execution_count": null,
   "metadata": {},
   "outputs": [],
   "source": [
    "forties = imdb.loc[imdb.Decade == 1940]\n",
    "forties"
   ]
  },
  {
   "cell_type": "markdown",
   "metadata": {},
   "source": [
    "**Question 2.1.** Compute the average rating of movies from the 1940s."
   ]
  },
  {
   "cell_type": "code",
   "execution_count": null,
   "metadata": {},
   "outputs": [],
   "source": [
    "average_rating_in_forties = ...\n",
    "average_rating_in_forties"
   ]
  },
  {
   "cell_type": "markdown",
   "metadata": {},
   "source": [
    "<details><summary><button>Click here to reveal the answer!</button></summary>\n",
    "<p>\n",
    "The answer is appx. 8.26 and one possible way to get it is \n",
    "`forties.Rating.mean()`\n",
    "</p>\n",
    "</details>"
   ]
  },
  {
   "cell_type": "markdown",
   "metadata": {},
   "source": [
    "**Question 2.2.** Find all the movies with a rating higher than 8.5.  Put their data in a table called `really_highly_rated`."
   ]
  },
  {
   "cell_type": "code",
   "execution_count": null,
   "metadata": {},
   "outputs": [],
   "source": [
    "really_highly_rated = ...\n",
    "really_highly_rated"
   ]
  },
  {
   "cell_type": "markdown",
   "metadata": {},
   "source": [
    "<details><summary><button>Click here to reveal the answer!</button></summary>\n",
    "<p>\n",
    "The code is `imdb.loc[imdb.Rating>8.5]`\n",
    "</p>\n",
    "</details>"
   ]
  },
  {
   "cell_type": "markdown",
   "metadata": {},
   "source": [
    "**Question 2.3.** Find the average rating for movies released in the 20th century and the average rating for movies released in the 21st century for the movies in `imdb`.\n",
    "\n",
    "*Hint*: Think of the steps you need to do (take the average, find the ratings, find movies released in 20th/21st centuries), and try to put them in an order that makes sense."
   ]
  },
  {
   "cell_type": "code",
   "execution_count": null,
   "metadata": {},
   "outputs": [],
   "source": [
    "average_20th_century_rating = ...\n",
    "average_21st_century_rating = ...\n",
    "print(\"Average 20th century rating:\", average_20th_century_rating)\n",
    "print(\"Average 21st century rating:\", average_21st_century_rating)"
   ]
  },
  {
   "cell_type": "markdown",
   "metadata": {},
   "source": [
    "<details><summary><button>Click here to reveal the answer!</button></summary>\n",
    "<p>\n",
    "Possible code is `imdb.loc[imdb.Decade<2000].Rating.mean()` and `imdb.loc[imdb.Decade>=2000].Rating.mean()`\n",
    "</p>\n",
    "</details>"
   ]
  },
  {
   "cell_type": "markdown",
   "metadata": {},
   "source": [
    "The property `shape` tells you how many (rows, columns) are in a table.  (A \"property\" is just a method that doesn't need to be called by adding parentheses.) This returns a tuple object; to just get the number of rows, you need to access the first element of the tuple."
   ]
  },
  {
   "cell_type": "code",
   "execution_count": null,
   "metadata": {},
   "outputs": [],
   "source": [
    "num_movies_in_dataset = imdb.shape[0]\n",
    "num_movies_in_dataset"
   ]
  },
  {
   "cell_type": "markdown",
   "metadata": {},
   "source": [
    "**Question 2.4.** Use `shape` (and arithmetic) to find the *proportion* of movies in the dataset that were released in the 20th century, and the proportion from the 21st century.\n",
    "\n",
    "*Hint:* The *proportion* of movies released in the 20th century is the *number* of movies released in the 20th century, divided by the *total number* of movies."
   ]
  },
  {
   "cell_type": "code",
   "execution_count": null,
   "metadata": {},
   "outputs": [],
   "source": [
    "proportion_in_20th_century = ...\n",
    "proportion_in_21st_century = ...\n",
    "print(\"Proportion in 20th century:\", proportion_in_20th_century)\n",
    "print(\"Proportion in 21st century:\", proportion_in_21st_century)"
   ]
  },
  {
   "cell_type": "markdown",
   "metadata": {},
   "source": [
    "<details><summary><button>Click here to reveal the answer!</button></summary>\n",
    "<p>\n",
    "The code is `imdb.loc[imdb.Decade<2000].shape[0]/num_movies_in_dataset` and `imdb.loc[imdb.Decade>=2000].shape[0]/num_movies_in_dataset`.\n",
    "</p>\n",
    "</details>"
   ]
  },
  {
   "cell_type": "markdown",
   "metadata": {},
   "source": [
    "**Question 2.5.** Here's a challenge: Find the number of movies that came out in *even* years.\n",
    "\n",
    "*Hint:* The operator `%` computes the remainder when dividing by a number.  So `5 % 2` is 1 and `6 % 2` is 0.  A number is even if the remainder is 0 when you divide by 2."
   ]
  },
  {
   "cell_type": "code",
   "execution_count": null,
   "metadata": {
    "for_assignment_type": "student"
   },
   "outputs": [],
   "source": [
    "num_even_year_movies = ...\n",
    "num_even_year_movies"
   ]
  },
  {
   "cell_type": "markdown",
   "metadata": {},
   "source": [
    "<details><summary><button>Click here to reveal the answer!</button></summary>\n",
    "<p>\n",
    "The correct answer is 127, `imdb.loc[imdb.Year%2==0]`.shape[0]`\n",
    "</p>\n",
    "</details>"
   ]
  },
  {
   "cell_type": "markdown",
   "metadata": {},
   "source": [
    "## 3. Other stuff\n",
    "\n",
    "Let's say we want to add a new column to our dataframe that scales the rating column by 10. The syntax to do this is as follows:"
   ]
  },
  {
   "cell_type": "code",
   "execution_count": null,
   "metadata": {},
   "outputs": [],
   "source": [
    "imdb['scaled_rating'] = imdb.Rating*10\n",
    "imdb.head()"
   ]
  },
  {
   "cell_type": "markdown",
   "metadata": {},
   "source": [
    "Notice that this operation actually changes the underlying dataframe. Also notice that applying * to the Rating series performed the operation element-wise. In general, you create a new column in a table by defining the name of the column in brackets after the dataframe and then setting that equal to an object that is the same length as the dataframe (it could also be a list or an array). \n",
    "\n",
    "**Question 3.1.**\n",
    "\n",
    "Add a column to `imdb` called `votes_per_million` that computes the number of votes each movie receieved per million voters."
   ]
  },
  {
   "cell_type": "code",
   "execution_count": null,
   "metadata": {},
   "outputs": [],
   "source": [
    "imdb['votes_per_million'] = ...\n",
    "imdb.head()"
   ]
  },
  {
   "cell_type": "markdown",
   "metadata": {},
   "source": [
    "<details><summary><button>Click here to reveal the answer!</button></summary>\n",
    "<p>\n",
    "`imdb['votes_per_million'] = imdb.Votes/1000000`\n",
    "</p>\n",
    "</details>"
   ]
  },
  {
   "cell_type": "markdown",
   "metadata": {},
   "source": [
    "It is also often useful to change the shape of the data or group by certain elements of the data to get more insight. For example, we might want to know the number of movies released in a given decade. A handy operation that gives you the count of the number of rows with each unique value of a variable is `value_counts`, and is used as follows:"
   ]
  },
  {
   "cell_type": "code",
   "execution_count": 6,
   "metadata": {},
   "outputs": [
    {
     "data": {
      "text/plain": [
       "2000    50\n",
       "1990    42\n",
       "1980    31\n",
       "1950    30\n",
       "2010    29\n",
       "1960    22\n",
       "1970    21\n",
       "1940    14\n",
       "1930     7\n",
       "1920     4\n",
       "Name: Decade, dtype: int64"
      ]
     },
     "execution_count": 6,
     "metadata": {},
     "output_type": "execute_result"
    }
   ],
   "source": [
    "imdb.Decade.value_counts()"
   ]
  },
  {
   "cell_type": "markdown",
   "metadata": {},
   "source": [
    "You can achieve the same result using the `groupby` operation - see if you can use the cheat sheet (or Google) to figure out how to do this!\n",
    "\n",
    "**Question 3.2.**\n",
    "Use `groupby` to find the number of moves per decade and make sure it matches what `value_counts` gave you. You may notice that your first guess returns multiple columns with the same values - think about why and see if you can select just the first one."
   ]
  },
  {
   "cell_type": "code",
   "execution_count": null,
   "metadata": {},
   "outputs": [],
   "source": []
  },
  {
   "cell_type": "markdown",
   "metadata": {},
   "source": [
    "<details><summary><button>Click here to reveal the answer!</button></summary>\n",
    "<p>\n",
    "`imdb.groupby('Decade').count()['Votes']`\n",
    "</p>\n",
    "</details>"
   ]
  },
  {
   "cell_type": "markdown",
   "metadata": {},
   "source": [
    "Now, feel free to explore more of the operations on the cheat sheet! It is a pretty concise resource and you should know how to do everything on it. Feel free to ask your TA questions if you don't understand something."
   ]
  },
  {
   "cell_type": "code",
   "execution_count": null,
   "metadata": {},
   "outputs": [],
   "source": [
    "..."
   ]
  },
  {
   "cell_type": "markdown",
   "metadata": {},
   "source": [
    "All done!"
   ]
  }
 ],
 "metadata": {
  "anaconda-cloud": {},
  "kernelspec": {
   "display_name": "Python 3",
   "language": "python",
   "name": "python3"
  },
  "language_info": {
   "codemirror_mode": {
    "name": "ipython",
    "version": 3
   },
   "file_extension": ".py",
   "mimetype": "text/x-python",
   "name": "python",
   "nbconvert_exporter": "python",
   "pygments_lexer": "ipython3",
   "version": "3.8.5"
  }
 },
 "nbformat": 4,
 "nbformat_minor": 4
}
