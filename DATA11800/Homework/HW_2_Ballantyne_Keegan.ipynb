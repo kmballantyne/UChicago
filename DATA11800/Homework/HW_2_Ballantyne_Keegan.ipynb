{
 "cells": [
  {
   "cell_type": "markdown",
   "metadata": {},
   "source": [
    "# Homework 2: Arrays and Data Frames (50 points)\n",
    "\n",
    "Please complete this notebook by filling in the cells provided. The solved homework should be uploaded to Canvas (with cells evaulated)."
   ]
  },
  {
   "cell_type": "markdown",
   "metadata": {},
   "source": [
    "**Reading**: Data8 textbook chapters [4](https://inferentialthinking.com/chapters/04/Data_Types.html)(Data Types), and [5](https://inferentialthinking.com/chapters/05/Sequences.html)(Sequences) .\n",
    "\n",
    "**Deadline**: This assignment is due on Tuesday, January 25 at 9:00am. Late work will not be accepted unless you have made special arrangements with the instructor.\n",
    "\n",
    "Directly sharing answers is not okay, but discussing problems with the course staff or with other students is encouraged.\n",
    "\n",
    "You should start early so that you have time to get help if you're stuck.\n"
   ]
  },
  {
   "cell_type": "code",
   "execution_count": 1,
   "metadata": {},
   "outputs": [],
   "source": [
    "# Don't change this cell; just run it. \n",
    "\n",
    "import numpy as np\n",
    "import pandas as pd\n",
    "import statistics as stat\n",
    "\n",
    "%matplotlib inline\n",
    "import matplotlib.pyplot as plt\n",
    "plt.style.use('fivethirtyeight')\n",
    "import warnings\n",
    "warnings.simplefilter('ignore', FutureWarning)"
   ]
  },
  {
   "cell_type": "markdown",
   "metadata": {},
   "source": [
    "## 1. Water level of Lake Michigan (13 points)\n",
    "\n",
    "This exercise will look at the level of Lake Michigan.  From (https://tidesandcurrents.noaa.gov/) we can query for\n",
    "lake level data at the Calumet weather station \n",
    "https://tidesandcurrents.noaa.gov/waterlevels.html?id=9087044&units=standard&bdate=19920108&edate=20220109&timezone=LST/LDT&datum=IGLD&interval=m&action=\n",
    "    "
   ]
  },
  {
   "cell_type": "code",
   "execution_count": 2,
   "metadata": {},
   "outputs": [
    {
     "data": {
      "text/html": [
       "<div>\n",
       "<style scoped>\n",
       "    .dataframe tbody tr th:only-of-type {\n",
       "        vertical-align: middle;\n",
       "    }\n",
       "\n",
       "    .dataframe tbody tr th {\n",
       "        vertical-align: top;\n",
       "    }\n",
       "\n",
       "    .dataframe thead th {\n",
       "        text-align: right;\n",
       "    }\n",
       "</style>\n",
       "<table border=\"1\" class=\"dataframe\">\n",
       "  <thead>\n",
       "    <tr style=\"text-align: right;\">\n",
       "      <th></th>\n",
       "      <th>Date</th>\n",
       "      <th>Time (LST/LDT)</th>\n",
       "      <th>Highest</th>\n",
       "      <th>MHHW (ft)</th>\n",
       "      <th>MHW (ft)</th>\n",
       "      <th>MSL (ft)</th>\n",
       "      <th>MTL (ft)</th>\n",
       "      <th>MLW (ft)</th>\n",
       "      <th>MLLW (ft)</th>\n",
       "      <th>Lowest (ft)</th>\n",
       "      <th>Inf</th>\n",
       "    </tr>\n",
       "  </thead>\n",
       "  <tbody>\n",
       "    <tr>\n",
       "      <th>0</th>\n",
       "      <td>1992/01/01</td>\n",
       "      <td>00:00</td>\n",
       "      <td>579.954</td>\n",
       "      <td>NaN</td>\n",
       "      <td>NaN</td>\n",
       "      <td>578.671</td>\n",
       "      <td>NaN</td>\n",
       "      <td>NaN</td>\n",
       "      <td>NaN</td>\n",
       "      <td>577.336</td>\n",
       "      <td>0</td>\n",
       "    </tr>\n",
       "    <tr>\n",
       "      <th>1</th>\n",
       "      <td>1992/02/01</td>\n",
       "      <td>00:00</td>\n",
       "      <td>579.865</td>\n",
       "      <td>NaN</td>\n",
       "      <td>NaN</td>\n",
       "      <td>578.727</td>\n",
       "      <td>NaN</td>\n",
       "      <td>NaN</td>\n",
       "      <td>NaN</td>\n",
       "      <td>577.703</td>\n",
       "      <td>0</td>\n",
       "    </tr>\n",
       "    <tr>\n",
       "      <th>2</th>\n",
       "      <td>1992/03/01</td>\n",
       "      <td>00:00</td>\n",
       "      <td>580.994</td>\n",
       "      <td>NaN</td>\n",
       "      <td>NaN</td>\n",
       "      <td>578.920</td>\n",
       "      <td>NaN</td>\n",
       "      <td>NaN</td>\n",
       "      <td>NaN</td>\n",
       "      <td>577.986</td>\n",
       "      <td>0</td>\n",
       "    </tr>\n",
       "    <tr>\n",
       "      <th>3</th>\n",
       "      <td>1992/04/01</td>\n",
       "      <td>00:00</td>\n",
       "      <td>580.046</td>\n",
       "      <td>NaN</td>\n",
       "      <td>NaN</td>\n",
       "      <td>579.041</td>\n",
       "      <td>NaN</td>\n",
       "      <td>NaN</td>\n",
       "      <td>NaN</td>\n",
       "      <td>578.186</td>\n",
       "      <td>0</td>\n",
       "    </tr>\n",
       "    <tr>\n",
       "      <th>4</th>\n",
       "      <td>1992/05/01</td>\n",
       "      <td>00:00</td>\n",
       "      <td>579.984</td>\n",
       "      <td>NaN</td>\n",
       "      <td>NaN</td>\n",
       "      <td>579.304</td>\n",
       "      <td>NaN</td>\n",
       "      <td>NaN</td>\n",
       "      <td>NaN</td>\n",
       "      <td>578.786</td>\n",
       "      <td>0</td>\n",
       "    </tr>\n",
       "  </tbody>\n",
       "</table>\n",
       "</div>"
      ],
      "text/plain": [
       "         Date Time (LST/LDT)  Highest  MHHW (ft)  MHW (ft)  MSL (ft)  \\\n",
       "0  1992/01/01          00:00  579.954        NaN       NaN   578.671   \n",
       "1  1992/02/01          00:00  579.865        NaN       NaN   578.727   \n",
       "2  1992/03/01          00:00  580.994        NaN       NaN   578.920   \n",
       "3  1992/04/01          00:00  580.046        NaN       NaN   579.041   \n",
       "4  1992/05/01          00:00  579.984        NaN       NaN   579.304   \n",
       "\n",
       "   MTL (ft)  MLW (ft)  MLLW (ft)  Lowest (ft)  Inf  \n",
       "0       NaN       NaN        NaN      577.336    0  \n",
       "1       NaN       NaN        NaN      577.703    0  \n",
       "2       NaN       NaN        NaN      577.986    0  \n",
       "3       NaN       NaN        NaN      578.186    0  \n",
       "4       NaN       NaN        NaN      578.786    0  "
      ]
     },
     "execution_count": 2,
     "metadata": {},
     "output_type": "execute_result"
    }
   ],
   "source": [
    "# just run this cell; this loads the datafile and displays the first 5 rows\n",
    "lakelevel_df=pd.read_csv(\"LAKELEVEL_30years.csv\")\n",
    "lakelevel_df.head()"
   ]
  },
  {
   "cell_type": "code",
   "execution_count": 3,
   "metadata": {},
   "outputs": [
    {
     "data": {
      "text/plain": [
       "(array([176.3789208, 176.3959896, 176.454816 , 176.4916968, 176.5718592,\n",
       "        176.566068 , 176.5764312, 176.5514376, 176.5026696, 176.4871248,\n",
       "        176.5627152, 176.5060224, 176.5700304, 176.56302  , 176.5581432,\n",
       "        176.694084 , 176.7330984, 176.8379496, 176.9040912, 176.8839744,\n",
       "        176.8169184, 176.729136 , 176.6858544, 176.6288568, 176.60112  ,\n",
       "        176.5959384, 176.6120928, 176.652936 , 176.716944 , 176.758092 ,\n",
       "        176.8199664, 176.812956 , 176.7769896, 176.6889024, 176.617884 ,\n",
       "        176.5910616, 176.5349784, 176.5011456, 176.5060224, 176.5459512,\n",
       "        176.6200176, 176.68494  , 176.6221512, 176.6639088, 176.5749072,\n",
       "        176.42586  , 176.438052 , 176.3981232, 176.393856 , 176.4118392,\n",
       "        176.4566448, 176.5133376, 176.640744 , 176.8041168, 176.8559328,\n",
       "        176.8608096, 176.8760496, 176.8001544, 176.7724176, 176.7742464,\n",
       "        176.7821712, 176.8352064, 176.9138448, 176.9595648, 177.094896 ,\n",
       "        177.1625616, 177.215292 , 177.206148 , 177.1540272, 177.0153432,\n",
       "        176.9016528, 176.800764 , 176.7724176, 176.787048 , 176.8178328,\n",
       "        176.953164 , 176.9626128, 176.918112 , 176.896776 , 176.811432 ,\n",
       "        176.6825016, 176.5627152, 176.4109248, 176.3097312, 176.2984536,\n",
       "        176.2868712, 176.285652 , 176.3438688, 176.3240568, 176.367948 ,\n",
       "        176.3865408, 176.3978184, 176.2621824, 176.1396528, 176.028096 ,\n",
       "        175.9601256, 175.9354368, 175.8936792, 175.9464096, 175.9951776,\n",
       "        176.0415072, 176.1116112, 176.1801912, 176.1612936, 176.1128304,\n",
       "        176.011332 , 175.8897168, 175.8336336, 175.7702352, 175.7869992,\n",
       "        175.8479592, 175.8912408, 176.0131608, 176.0972856, 176.099724 ,\n",
       "        176.0695488, 176.0668056, 176.0152944, 176.04486  , 176.0210856,\n",
       "        175.9714032, 175.96104  , 176.0284008, 176.0945424, 176.2405416,\n",
       "        176.3316768, 176.3639856, 176.329848 , 176.2570008, 176.1710472,\n",
       "        176.0412024, 175.893984 , 175.8260136, 175.8095544, 175.790352 ,\n",
       "        175.9384848, 176.0034072, 176.0466888, 176.0622336, 176.0817408,\n",
       "        175.9360464, 175.8912408, 175.8973368, 175.9113576, 175.9113576,\n",
       "        175.8696   , 175.9415328, 176.0497368, 176.1875064, 176.35728  ,\n",
       "        176.4310416, 176.369472 , 176.3042448, 176.1695232, 176.130204 ,\n",
       "        176.0933232, 176.1414816, 176.1512352, 176.1744   , 176.2350552,\n",
       "        176.249076 , 176.2463328, 176.2478568, 176.2060992, 176.1076488,\n",
       "        176.0527848, 175.925988 , 175.8860592, 175.9311696, 175.9540296,\n",
       "        175.9872528, 176.087532 , 176.1451392, 176.1939072, 176.1539784,\n",
       "        176.186592 , 176.1116112, 176.0076744, 175.9988352, 175.9680504,\n",
       "        175.9948728, 175.9558584, 175.996092 , 176.0957616, 176.1363   ,\n",
       "        176.1231936, 176.0945424, 176.0552232, 175.9607352, 175.9055664,\n",
       "        175.7699304, 175.7037888, 175.6922064, 175.81626  , 175.863504 ,\n",
       "        175.9957872, 176.11344  , 176.191164 , 176.2600488, 176.2874808,\n",
       "        176.249076 , 176.1405672, 176.028096 , 175.9726224, 176.041812 ,\n",
       "        176.072292 , 176.1786672, 176.2941864, 176.3889792, 176.4916968,\n",
       "        176.4676176, 176.44872  , 176.444148 , 176.3530128, 176.3219232,\n",
       "        176.2585248, 176.20488  , 176.2143288, 176.2021368, 176.1939072,\n",
       "        176.2103664, 176.2634016, 176.2762032, 176.2484664, 176.168304 ,\n",
       "        176.1009432, 175.9784136, 175.9269024, 175.8653328, 175.8348528,\n",
       "        175.9217208, 176.0064552, 176.2146336, 176.2798608, 176.2957104,\n",
       "        176.2880904, 176.2289592, 176.1655608, 176.1000288, 176.049432 ,\n",
       "        176.0137704, 175.9997496, 176.0543088, 176.1122208, 176.127156 ,\n",
       "        176.1061248, 176.1018576, 176.009808 , 175.8888024, 175.7793792,\n",
       "        175.7016552, 175.688244 , 175.5593136, 175.6861104, 175.7220768,\n",
       "        175.8220512, 176.0424216, 176.137824 , 176.1512352, 176.1140496,\n",
       "        176.1055152, 176.0338872, 175.9936536, 176.012856 , 175.9589064,\n",
       "        175.9881672, 176.0314488, 176.1518448, 176.3447832, 176.4636552,\n",
       "        176.5069368, 176.56302  , 176.5654584, 176.6111784, 176.5489992,\n",
       "        176.572164 , 176.5291872, 176.5852704, 176.5267488, 176.611788 ,\n",
       "        176.6587272, 176.7727224, 176.7849144, 176.742852 , 176.7483384,\n",
       "        176.6523264, 176.5444272, 176.5852704, 176.588928 , 176.625504 ,\n",
       "        176.6928648, 176.8854984, 176.9001288, 176.912016 , 176.8751352,\n",
       "        176.8550184, 176.8278912, 176.7510816, 176.6108736, 176.4660936,\n",
       "        176.50206  , 176.5090704, 176.6139216, 176.7669312, 176.8900704,\n",
       "        176.9208552, 177.0531384, 177.0601488, 176.998884 , 176.8958616,\n",
       "        176.8611144, 176.8111272, 176.76114  , 176.7830856, 176.876964 ,\n",
       "        176.8940328, 177.0010176, 177.0799608, 177.0540528, 176.9970552,\n",
       "        177.0220488, 176.9488968, 176.918112 , 176.8940328, 176.8720872,\n",
       "        176.8879368, 176.9159784, 177.0540528, 177.2728992, 177.3990864,\n",
       "        177.4259088, 177.3789696, 177.3149616, 177.3390408, 177.289968 ,\n",
       "        177.2850912, 177.3049032, 177.2908824, 177.2908824, 177.3771408,\n",
       "        177.472848 , 177.5118624, 177.510948 , 177.4859544, 177.3820176,\n",
       "        177.296064 , 177.1948704, 177.1781064, 177.1339104, 177.0589296,\n",
       "        177.014124 , 177.0260112, 177.0269256, 176.98212  , 177.0900192,\n",
       "        177.0680736, 176.9979696, 176.9879112, 176.7910104]),\n",
       " 0      1992/01/01\n",
       " 1      1992/02/01\n",
       " 2      1992/03/01\n",
       " 3      1992/04/01\n",
       " 4      1992/05/01\n",
       "           ...    \n",
       " 354    2021/07/01\n",
       " 355    2021/08/01\n",
       " 356    2021/09/01\n",
       " 357    2021/10/01\n",
       " 358    2021/11/01\n",
       " Name: Date, Length: 359, dtype: object)"
      ]
     },
     "execution_count": 3,
     "metadata": {},
     "output_type": "execute_result"
    }
   ],
   "source": [
    "# The API I got this from gives me seven columns of garbage. \n",
    "# and just run this one too, this pulls out the mean water level column into \n",
    "# a numpy array with only one column, and converts to meters above sea level.\n",
    "\n",
    "lakelevels = lakelevel_df[\"MSL (ft)\"].values * 0.3048\n",
    "dates = lakelevel_df[\"Date\"]\n",
    "lakelevels, dates"
   ]
  },
  {
   "cell_type": "markdown",
   "metadata": {},
   "source": [
    "**Question 1.** Find the highest, lowest, and mean water level over the 30-year period sampled from `lakelevels`."
   ]
  },
  {
   "cell_type": "code",
   "execution_count": 4,
   "metadata": {},
   "outputs": [
    {
     "name": "stdout",
     "output_type": "stream",
     "text": [
      "Lake Michigan's level was between 175.5593136 and 177.5118624 and had a mean water level of 176.4370212835656 beween 01/01/1992 and 01/11/2021\n"
     ]
    }
   ],
   "source": [
    "high_water = lakelevels.max()\n",
    "low_water = lakelevels.min()\n",
    "mean_water = sum(lakelevels)/len(lakelevels)\n",
    "start_date = \"01/01/1992\"\n",
    "end_date = \"01/11/2021\"\n",
    "print(\"Lake Michigan's level was between\", low_water, \"and\", \n",
    "      high_water, \"and had a mean water level of\", mean_water,\n",
    "      \"beween\", start_date, \"and\", end_date)"
   ]
  },
  {
   "cell_type": "code",
   "execution_count": 5,
   "metadata": {},
   "outputs": [
    {
     "data": {
      "text/plain": [
       "Text(0, 0.5, 'Lake level (m above msl)')"
      ]
     },
     "execution_count": 5,
     "metadata": {},
     "output_type": "execute_result"
    },
    {
     "data": {
      "image/png": "[encoded data removed]",
      "text/plain": [
       "<Figure size 432x288 with 1 Axes>"
      ]
     },
     "metadata": {},
     "output_type": "display_data"
    }
   ],
   "source": [
    "# We better look at this.\n",
    "plt.plot(lakelevels)\n",
    "plt.xlabel(\"months since Jan 1992\")\n",
    "plt.ylabel(\"Lake level (m above msl)\")  "
   ]
  },
  {
   "cell_type": "markdown",
   "metadata": {},
   "source": [
    "**Question 2.** Find the largest one-month increase and one-month decrease in lake level."
   ]
  },
  {
   "cell_type": "code",
   "execution_count": 6,
   "metadata": {},
   "outputs": [
    {
     "name": "stdout",
     "output_type": "stream",
     "text": [
      "0.22037039999997887\n",
      "-0.19690080000000876\n"
     ]
    }
   ],
   "source": [
    "one_month_max = np.max(np.diff(lakelevels[::1]))\n",
    "print(one_month_max)\n",
    "one_month_min = np.min(np.diff(lakelevels[::1]))\n",
    "print(one_month_min)"
   ]
  },
  {
   "cell_type": "markdown",
   "metadata": {},
   "source": [
    "**Question 3.** There is nothing special about one month increases, but there is a wet and a dry season in the Great Lakes Basin.  Calculate all of the 6-month differences between water level (the difference between water level now and 6 months ago) and find the largest and smallest of them. "
   ]
  },
  {
   "cell_type": "code",
   "execution_count": 7,
   "metadata": {},
   "outputs": [
    {
     "name": "stdout",
     "output_type": "stream",
     "text": [
      "[ 0  1  2  3  4  5  6  7  8  9 10 11 12 13 14 15 16 17 18 19 20 21 22 23\n",
      " 24 25 26 27 28 29]\n",
      "[24 25 26 27 28 29  0  1  2  3  4  5  6  7  8  9 10 11 12 13 14 15 16 17\n",
      " 18 19 20 21 22 23]\n"
     ]
    }
   ],
   "source": [
    "# ** Hint:  np.roll(n) will shift all the values back by n positions.\n",
    "test = np.arange(0,30)\n",
    "testold = np.roll(test, 6)\n",
    "print(test)\n",
    "print(testold)\n",
    "# We will want to remember not to pay attention to the first 6 numbers, \n",
    "# since they lack legitimate values for 6 months prior."
   ]
  },
  {
   "cell_type": "code",
   "execution_count": 8,
   "metadata": {},
   "outputs": [
    {
     "name": "stdout",
     "output_type": "stream",
     "text": [
      "0.5919216000000063\n",
      "-0.5983224000000007\n"
     ]
    }
   ],
   "source": [
    "moved_lakelevels = np.roll(lakelevels, 6)\n",
    "moved_lakelevels = np.diff(lakelevels[::6])\n",
    "moved_lakelevels\n",
    "waterhigh = np.max(moved_lakelevels)\n",
    "waterlow = np.min(moved_lakelevels)\n",
    "print(waterhigh)\n",
    "print(waterlow)"
   ]
  },
  {
   "cell_type": "code",
   "execution_count": 9,
   "metadata": {},
   "outputs": [
    {
     "name": "stdout",
     "output_type": "stream",
     "text": [
      "(array([42]),)\n",
      "(array([13]),)\n"
     ]
    }
   ],
   "source": [
    "print(np.where(moved_lakelevels == waterhigh))\n",
    "print(np.where(moved_lakelevels == waterlow))"
   ]
  },
  {
   "cell_type": "markdown",
   "metadata": {},
   "source": [
    "**Question 4.** Find the pair of dates for the largest 6-month \n",
    "increase and largest 6-month decrease in lake level.\n",
    "\n"
   ]
  },
  {
   "cell_type": "code",
   "execution_count": 10,
   "metadata": {},
   "outputs": [
    {
     "name": "stdout",
     "output_type": "stream",
     "text": [
      "1995/07/01 1993/02/01\n"
     ]
    }
   ],
   "source": [
    "print( dates[42], dates[13])"
   ]
  },
  {
   "cell_type": "code",
   "execution_count": 11,
   "metadata": {},
   "outputs": [
    {
     "name": "stdout",
     "output_type": "stream",
     "text": [
      "The highest lake level was 0.5919216000000063 in 1995/07/01\n",
      "The lowest lake level was -0.5983224000000007 in 1993/02/01\n"
     ]
    }
   ],
   "source": [
    "highest_water = waterhigh\n",
    "highest_date = dates[42]\n",
    "\n",
    "print(\"The highest lake level was\", highest_water, \"in\", highest_date)\n",
    "\n",
    "lowest_water = waterlow\n",
    "lowest_date = dates[13]\n",
    "\n",
    "print(\"The lowest lake level was\", lowest_water, \"in\", lowest_date)\n"
   ]
  },
  {
   "cell_type": "markdown",
   "metadata": {},
   "source": [
    "**Hint** you will need `np.where()`  which returns the indexes of elements of a Boolean matrix which are True, e.g. "
   ]
  },
  {
   "cell_type": "code",
   "execution_count": 12,
   "metadata": {},
   "outputs": [
    {
     "name": "stdout",
     "output_type": "stream",
     "text": [
      "(array([330, 340, 341, 342, 343]),)\n"
     ]
    }
   ],
   "source": [
    "#  Does anyone remember the unusually high water summer 2019?\n",
    "print(np.where(lakelevels > 177.4))\n"
   ]
  },
  {
   "cell_type": "code",
   "execution_count": 13,
   "metadata": {},
   "outputs": [
    {
     "name": "stdout",
     "output_type": "stream",
     "text": [
      "2019/07/01 2020/05/01 2020/06/01 2020/07/01 2020/08/01\n"
     ]
    }
   ],
   "source": [
    "print( dates[330], dates[340], dates[341], dates[342], dates[343])\n"
   ]
  },
  {
   "cell_type": "code",
   "execution_count": 14,
   "metadata": {},
   "outputs": [],
   "source": [
    "# note since the dates are *strings* in a *list* I can't easily \n",
    "# do math on them or, for instance, plot them."
   ]
  },
  {
   "cell_type": "markdown",
   "metadata": {},
   "source": [
    "**Question 5.** The lake level changes slowly.  Last month's measurement may be a good approximation of this month's.  Find the variance of the lake level measurements.  Compare against the variance of the\n",
    "month-to-month differences in lake level measurements and the six-month differences in lake level measurements.  "
   ]
  },
  {
   "cell_type": "code",
   "execution_count": 15,
   "metadata": {},
   "outputs": [
    {
     "name": "stdout",
     "output_type": "stream",
     "text": [
      "0.18894160813060293\n",
      "0.005390452487706913\n",
      "0.11357729912687942\n"
     ]
    }
   ],
   "source": [
    "lake_level_variance = stat.variance(lakelevels)\n",
    "lake_level_1modiff_var = stat.variance(np.diff(lakelevels[::1]))\n",
    "lake_level_6modiff_var = stat.variance(moved_lakelevels)\n",
    "print(lake_level_variance)\n",
    "print(lake_level_1modiff_var)\n",
    "print(lake_level_6modiff_var)"
   ]
  },
  {
   "cell_type": "markdown",
   "metadata": {},
   "source": [
    "## 2. COVID in Cook County (13 points)\n",
    "\n",
    "This exercise will look at some coronavirus statistics compiled by the [Illinois Department of Public Health](https://idph.illinois.gov/DPHPublicInformation/api/COVIDExport/GetSnapshotHistorical?format=csv). We downloaded the data on January 18. Running the cell below will show you the first 10 rows of the data table (data frame)."
   ]
  },
  {
   "cell_type": "code",
   "execution_count": 16,
   "metadata": {},
   "outputs": [
    {
     "name": "stdout",
     "output_type": "stream",
     "text": [
      "Dataset has 69992 rows\n"
     ]
    },
    {
     "data": {
      "text/html": [
       "<div>\n",
       "<style scoped>\n",
       "    .dataframe tbody tr th:only-of-type {\n",
       "        vertical-align: middle;\n",
       "    }\n",
       "\n",
       "    .dataframe tbody tr th {\n",
       "        vertical-align: top;\n",
       "    }\n",
       "\n",
       "    .dataframe thead th {\n",
       "        text-align: right;\n",
       "    }\n",
       "</style>\n",
       "<table border=\"1\" class=\"dataframe\">\n",
       "  <thead>\n",
       "    <tr style=\"text-align: right;\">\n",
       "      <th></th>\n",
       "      <th>CountyName</th>\n",
       "      <th>CumulativeCases</th>\n",
       "      <th>CasesChange</th>\n",
       "      <th>TotalTested</th>\n",
       "      <th>TotalTestedChange</th>\n",
       "      <th>Deaths</th>\n",
       "      <th>DeathsChange</th>\n",
       "      <th>ReportDate</th>\n",
       "    </tr>\n",
       "  </thead>\n",
       "  <tbody>\n",
       "    <tr>\n",
       "      <th>0</th>\n",
       "      <td>Adams</td>\n",
       "      <td>0</td>\n",
       "      <td>0</td>\n",
       "      <td>0</td>\n",
       "      <td>0</td>\n",
       "      <td>0</td>\n",
       "      <td>0</td>\n",
       "      <td>3/17/2020 12:00:00 AM</td>\n",
       "    </tr>\n",
       "    <tr>\n",
       "      <th>1</th>\n",
       "      <td>Alexander</td>\n",
       "      <td>0</td>\n",
       "      <td>0</td>\n",
       "      <td>0</td>\n",
       "      <td>0</td>\n",
       "      <td>0</td>\n",
       "      <td>0</td>\n",
       "      <td>3/17/2020 12:00:00 AM</td>\n",
       "    </tr>\n",
       "    <tr>\n",
       "      <th>2</th>\n",
       "      <td>Bond</td>\n",
       "      <td>0</td>\n",
       "      <td>0</td>\n",
       "      <td>0</td>\n",
       "      <td>0</td>\n",
       "      <td>0</td>\n",
       "      <td>0</td>\n",
       "      <td>3/17/2020 12:00:00 AM</td>\n",
       "    </tr>\n",
       "    <tr>\n",
       "      <th>3</th>\n",
       "      <td>Boone</td>\n",
       "      <td>0</td>\n",
       "      <td>0</td>\n",
       "      <td>0</td>\n",
       "      <td>0</td>\n",
       "      <td>0</td>\n",
       "      <td>0</td>\n",
       "      <td>3/17/2020 12:00:00 AM</td>\n",
       "    </tr>\n",
       "    <tr>\n",
       "      <th>4</th>\n",
       "      <td>Brown</td>\n",
       "      <td>0</td>\n",
       "      <td>0</td>\n",
       "      <td>0</td>\n",
       "      <td>0</td>\n",
       "      <td>0</td>\n",
       "      <td>0</td>\n",
       "      <td>3/17/2020 12:00:00 AM</td>\n",
       "    </tr>\n",
       "    <tr>\n",
       "      <th>5</th>\n",
       "      <td>Bureau</td>\n",
       "      <td>0</td>\n",
       "      <td>0</td>\n",
       "      <td>0</td>\n",
       "      <td>0</td>\n",
       "      <td>0</td>\n",
       "      <td>0</td>\n",
       "      <td>3/17/2020 12:00:00 AM</td>\n",
       "    </tr>\n",
       "    <tr>\n",
       "      <th>6</th>\n",
       "      <td>Calhoun</td>\n",
       "      <td>0</td>\n",
       "      <td>0</td>\n",
       "      <td>0</td>\n",
       "      <td>0</td>\n",
       "      <td>0</td>\n",
       "      <td>0</td>\n",
       "      <td>3/17/2020 12:00:00 AM</td>\n",
       "    </tr>\n",
       "    <tr>\n",
       "      <th>7</th>\n",
       "      <td>Carroll</td>\n",
       "      <td>0</td>\n",
       "      <td>0</td>\n",
       "      <td>0</td>\n",
       "      <td>0</td>\n",
       "      <td>0</td>\n",
       "      <td>0</td>\n",
       "      <td>3/17/2020 12:00:00 AM</td>\n",
       "    </tr>\n",
       "    <tr>\n",
       "      <th>8</th>\n",
       "      <td>Cass</td>\n",
       "      <td>0</td>\n",
       "      <td>0</td>\n",
       "      <td>0</td>\n",
       "      <td>0</td>\n",
       "      <td>0</td>\n",
       "      <td>0</td>\n",
       "      <td>3/17/2020 12:00:00 AM</td>\n",
       "    </tr>\n",
       "    <tr>\n",
       "      <th>9</th>\n",
       "      <td>Champaign</td>\n",
       "      <td>1</td>\n",
       "      <td>1</td>\n",
       "      <td>0</td>\n",
       "      <td>0</td>\n",
       "      <td>0</td>\n",
       "      <td>0</td>\n",
       "      <td>3/17/2020 12:00:00 AM</td>\n",
       "    </tr>\n",
       "  </tbody>\n",
       "</table>\n",
       "</div>"
      ],
      "text/plain": [
       "  CountyName  CumulativeCases  CasesChange  TotalTested  TotalTestedChange  \\\n",
       "0      Adams                0            0            0                  0   \n",
       "1  Alexander                0            0            0                  0   \n",
       "2       Bond                0            0            0                  0   \n",
       "3      Boone                0            0            0                  0   \n",
       "4      Brown                0            0            0                  0   \n",
       "5     Bureau                0            0            0                  0   \n",
       "6    Calhoun                0            0            0                  0   \n",
       "7    Carroll                0            0            0                  0   \n",
       "8       Cass                0            0            0                  0   \n",
       "9  Champaign                1            1            0                  0   \n",
       "\n",
       "   Deaths  DeathsChange             ReportDate  \n",
       "0       0             0  3/17/2020 12:00:00 AM  \n",
       "1       0             0  3/17/2020 12:00:00 AM  \n",
       "2       0             0  3/17/2020 12:00:00 AM  \n",
       "3       0             0  3/17/2020 12:00:00 AM  \n",
       "4       0             0  3/17/2020 12:00:00 AM  \n",
       "5       0             0  3/17/2020 12:00:00 AM  \n",
       "6       0             0  3/17/2020 12:00:00 AM  \n",
       "7       0             0  3/17/2020 12:00:00 AM  \n",
       "8       0             0  3/17/2020 12:00:00 AM  \n",
       "9       0             0  3/17/2020 12:00:00 AM  "
      ]
     },
     "execution_count": 16,
     "metadata": {},
     "output_type": "execute_result"
    }
   ],
   "source": [
    "# just run this cell without modifying it\n",
    "covid_df=pd.read_csv(\"IDPHExport20220118050537274.csv\", skiprows=1)\n",
    "print(\"Dataset has\", len(covid_df), \"rows\")\n",
    "covid_df.head(10)"
   ]
  },
  {
   "cell_type": "code",
   "execution_count": 17,
   "metadata": {},
   "outputs": [
    {
     "data": {
      "text/plain": [
       "Index(['CountyName', 'CumulativeCases', 'CasesChange', 'TotalTested',\n",
       "       'TotalTestedChange', 'Deaths', 'DeathsChange', 'ReportDate'],\n",
       "      dtype='object')"
      ]
     },
     "execution_count": 17,
     "metadata": {},
     "output_type": "execute_result"
    }
   ],
   "source": [
    "covid_df.columns"
   ]
  },
  {
   "cell_type": "code",
   "execution_count": 18,
   "metadata": {},
   "outputs": [],
   "source": [
    "# I read in 70000 rows, which is 102 counties * 680 days.  The\n",
    "# first 10 lines are counties that don't have cases because it's \n",
    "# March of 2020 and no one knows that they have cases, so let us \n",
    "# look at the last 10 rows:"
   ]
  },
  {
   "cell_type": "code",
   "execution_count": 19,
   "metadata": {},
   "outputs": [
    {
     "data": {
      "text/html": [
       "<div>\n",
       "<style scoped>\n",
       "    .dataframe tbody tr th:only-of-type {\n",
       "        vertical-align: middle;\n",
       "    }\n",
       "\n",
       "    .dataframe tbody tr th {\n",
       "        vertical-align: top;\n",
       "    }\n",
       "\n",
       "    .dataframe thead th {\n",
       "        text-align: right;\n",
       "    }\n",
       "</style>\n",
       "<table border=\"1\" class=\"dataframe\">\n",
       "  <thead>\n",
       "    <tr style=\"text-align: right;\">\n",
       "      <th></th>\n",
       "      <th>CountyName</th>\n",
       "      <th>CumulativeCases</th>\n",
       "      <th>CasesChange</th>\n",
       "      <th>TotalTested</th>\n",
       "      <th>TotalTestedChange</th>\n",
       "      <th>Deaths</th>\n",
       "      <th>DeathsChange</th>\n",
       "      <th>ReportDate</th>\n",
       "    </tr>\n",
       "  </thead>\n",
       "  <tbody>\n",
       "    <tr>\n",
       "      <th>69987</th>\n",
       "      <td>Whiteside</td>\n",
       "      <td>13011</td>\n",
       "      <td>60</td>\n",
       "      <td>158671</td>\n",
       "      <td>321</td>\n",
       "      <td>205</td>\n",
       "      <td>1</td>\n",
       "      <td>1/18/2022 12:00:00 AM</td>\n",
       "    </tr>\n",
       "    <tr>\n",
       "      <th>69988</th>\n",
       "      <td>Will</td>\n",
       "      <td>146379</td>\n",
       "      <td>904</td>\n",
       "      <td>2051892</td>\n",
       "      <td>8422</td>\n",
       "      <td>1318</td>\n",
       "      <td>0</td>\n",
       "      <td>1/18/2022 12:00:00 AM</td>\n",
       "    </tr>\n",
       "    <tr>\n",
       "      <th>69989</th>\n",
       "      <td>Williamson</td>\n",
       "      <td>17949</td>\n",
       "      <td>291</td>\n",
       "      <td>221739</td>\n",
       "      <td>956</td>\n",
       "      <td>215</td>\n",
       "      <td>1</td>\n",
       "      <td>1/18/2022 12:00:00 AM</td>\n",
       "    </tr>\n",
       "    <tr>\n",
       "      <th>69990</th>\n",
       "      <td>Winnebago</td>\n",
       "      <td>67114</td>\n",
       "      <td>440</td>\n",
       "      <td>838604</td>\n",
       "      <td>2778</td>\n",
       "      <td>711</td>\n",
       "      <td>1</td>\n",
       "      <td>1/18/2022 12:00:00 AM</td>\n",
       "    </tr>\n",
       "    <tr>\n",
       "      <th>69991</th>\n",
       "      <td>Woodford</td>\n",
       "      <td>9039</td>\n",
       "      <td>63</td>\n",
       "      <td>134254</td>\n",
       "      <td>351</td>\n",
       "      <td>99</td>\n",
       "      <td>0</td>\n",
       "      <td>1/18/2022 12:00:00 AM</td>\n",
       "    </tr>\n",
       "  </tbody>\n",
       "</table>\n",
       "</div>"
      ],
      "text/plain": [
       "       CountyName  CumulativeCases  CasesChange  TotalTested  \\\n",
       "69987   Whiteside            13011           60       158671   \n",
       "69988        Will           146379          904      2051892   \n",
       "69989  Williamson            17949          291       221739   \n",
       "69990   Winnebago            67114          440       838604   \n",
       "69991    Woodford             9039           63       134254   \n",
       "\n",
       "       TotalTestedChange  Deaths  DeathsChange             ReportDate  \n",
       "69987                321     205             1  1/18/2022 12:00:00 AM  \n",
       "69988               8422    1318             0  1/18/2022 12:00:00 AM  \n",
       "69989                956     215             1  1/18/2022 12:00:00 AM  \n",
       "69990               2778     711             1  1/18/2022 12:00:00 AM  \n",
       "69991                351      99             0  1/18/2022 12:00:00 AM  "
      ]
     },
     "execution_count": 19,
     "metadata": {},
     "output_type": "execute_result"
    }
   ],
   "source": [
    "covid_df.tail()"
   ]
  },
  {
   "cell_type": "code",
   "execution_count": 20,
   "metadata": {},
   "outputs": [],
   "source": [
    "# This index is not going to be very useful for me.. integers 0 through 69991\n",
    "# This replace the default integer indexes with timestamp indexes, which will make it \n",
    "# so that plotting functions handle dates in a reasonable way.\n",
    "covid_df.index = pd.to_datetime(covid_df.ReportDate)"
   ]
  },
  {
   "cell_type": "code",
   "execution_count": 21,
   "metadata": {},
   "outputs": [
    {
     "data": {
      "text/plain": [
       "[<matplotlib.lines.Line2D at 0x7f442c0ba0d0>]"
      ]
     },
     "execution_count": 21,
     "metadata": {},
     "output_type": "execute_result"
    },
    {
     "data": {
      "image/png": "[encoded data removed]",
      "text/plain": [
       "<Figure size 432x288 with 1 Axes>"
      ]
     },
     "metadata": {},
     "output_type": "display_data"
    }
   ],
   "source": [
    "# And now I can do reasonable things like extract only cook county cumulative cases\n",
    "cumulative_cases_cook = covid_df.iloc[np.where(covid_df.CountyName == \"Cook\")].CumulativeCases\n",
    "plt.plot(cumulative_cases_cook)"
   ]
  },
  {
   "cell_type": "code",
   "execution_count": 22,
   "metadata": {},
   "outputs": [
    {
     "data": {
      "text/plain": [
       "[<matplotlib.lines.Line2D at 0x7f442c09cfd0>]"
      ]
     },
     "execution_count": 22,
     "metadata": {},
     "output_type": "execute_result"
    },
    {
     "data": {
      "image/png": "[encoded data removed]",
      "text/plain": [
       "<Figure size 432x288 with 1 Axes>"
      ]
     },
     "metadata": {},
     "output_type": "display_data"
    }
   ],
   "source": [
    "# And deaths\n",
    "cumulative_deaths_cook = covid_df.iloc[np.where(covid_df.CountyName == \"Cook\")].Deaths\n",
    "plt.plot(cumulative_deaths_cook)"
   ]
  },
  {
   "cell_type": "code",
   "execution_count": 23,
   "metadata": {},
   "outputs": [],
   "source": [
    "# Take just a moment to consider these numbers, 500,000 cases, 6,000 deaths, \n",
    "# over the span of two years, in a county of 5 million population. "
   ]
  },
  {
   "cell_type": "markdown",
   "metadata": {},
   "source": [
    "\n",
    "**Question 6.** The first line below assigns `positive_cases` to an array of integers corresponding to the daily number of positive cases in Cook County over the length of the data series. Assign the variables `high`, and `average` so that the `print` statement is correct.\n",
    "plt.plot(positive_cases)"
   ]
  },
  {
   "cell_type": "code",
   "execution_count": 24,
   "metadata": {},
   "outputs": [
    {
     "data": {
      "text/plain": [
       "[<matplotlib.lines.Line2D at 0x7f4427ca0ca0>]"
      ]
     },
     "execution_count": 24,
     "metadata": {},
     "output_type": "execute_result"
    },
    {
     "data": {
      "image/png": "[encoded data removed]",
      "text/plain": [
       "<Figure size 432x288 with 1 Axes>"
      ]
     },
     "metadata": {},
     "output_type": "display_data"
    }
   ],
   "source": [
    "# assign this to a numpy array for now:\n",
    "positive_cases_cook = covid_df.iloc[np.where(covid_df.CountyName == \"Cook\")].CasesChange\n",
    "plt.plot(positive_cases_cook)"
   ]
  },
  {
   "cell_type": "code",
   "execution_count": 26,
   "metadata": {},
   "outputs": [
    {
     "name": "stdout",
     "output_type": "stream",
     "text": [
      "Number of daily new positive cases in Cook County ranged from -262 to 9379 and was 748.0995542347697 on average.\n"
     ]
    }
   ],
   "source": [
    "low = np.min(positive_cases_cook)\n",
    "high = np.max(positive_cases_cook)\n",
    "average = np.mean(positive_cases_cook)\n",
    "\n",
    "print(\"Number of daily new positive cases in Cook County ranged from\", low, \"to\", high, \"and was\", average, \"on average.\")"
   ]
  },
  {
   "cell_type": "markdown",
   "metadata": {},
   "source": [
    "**Question 7.** Find the day with the largest number of deaths in Cook County in the timeseries; identify the day and the number of deaths."
   ]
  },
  {
   "cell_type": "code",
   "execution_count": 35,
   "metadata": {},
   "outputs": [
    {
     "name": "stdout",
     "output_type": "stream",
     "text": [
      "6049\n",
      "           CountyName  CumulativeCases  CasesChange  TotalTested  \\\n",
      "ReportDate                                                         \n",
      "2022-01-18       Cook           503471         2912      8827464   \n",
      "\n",
      "            TotalTestedChange  Deaths  DeathsChange             ReportDate  \n",
      "ReportDate                                                                  \n",
      "2022-01-18              31496    6049            13  1/18/2022 12:00:00 AM  \n",
      "The largest number of deaths in Cook County was 6,049 deaths on 1/18/2022\n"
     ]
    }
   ],
   "source": [
    "print(np.max(cumulative_deaths_cook))\n",
    "print(covid_df.iloc[np.where(covid_df.Deaths == np.max(cumulative_deaths_cook))])\n",
    "print(\"The largest number of deaths in Cook County was 6,049 deaths on 1/18/2022\")"
   ]
  },
  {
   "cell_type": "markdown",
   "metadata": {},
   "source": [
    "**Question 8.** Find the day with the largest number of cases in Cook County in the timeseries; identify the day and the number of cases."
   ]
  },
  {
   "cell_type": "code",
   "execution_count": 36,
   "metadata": {},
   "outputs": [
    {
     "name": "stdout",
     "output_type": "stream",
     "text": [
      "503471\n",
      "           CountyName  CumulativeCases  CasesChange  TotalTested  \\\n",
      "ReportDate                                                         \n",
      "2022-01-18       Cook           503471         2912      8827464   \n",
      "\n",
      "            TotalTestedChange  Deaths  DeathsChange             ReportDate  \n",
      "ReportDate                                                                  \n",
      "2022-01-18              31496    6049            13  1/18/2022 12:00:00 AM  \n",
      "The largest number of cases in Cook County was 503,471 cases on 1/18/2022\n"
     ]
    }
   ],
   "source": [
    "print(np.max(cumulative_cases_cook))\n",
    "print(covid_df.iloc[np.where(covid_df.CumulativeCases == np.max(cumulative_cases_cook))])\n",
    "print(\"The largest number of cases in Cook County was 503,471 cases on 1/18/2022\")"
   ]
  },
  {
   "cell_type": "markdown",
   "metadata": {},
   "source": [
    "There is a day-of-the-week modulation in the death rates and case counts that contributes variation to the reported numbers.  One way to mitigate this source of variation is to take rolling averages over multiples of 7 days.  Rolling averages are easy to calculate from cumulative statistics; they are differences between day n's cumulative statistic and that of day n-14, say, for two-week averages."
   ]
  },
  {
   "cell_type": "markdown",
   "metadata": {},
   "source": [
    "**Question 9.**  Calculate the two week rolling average case counts and death rates for Cook County.  \n",
    " Find the highest two-week average case rate and the highest two-week-average death rate.\n",
    " **Note:** You want to assgn a date to the two-week rolling averages.  Which date makes the most sense?"
   ]
  },
  {
   "cell_type": "code",
   "execution_count": 92,
   "metadata": {},
   "outputs": [
    {
     "name": "stdout",
     "output_type": "stream",
     "text": [
      "The highest 2-week average deaths were  Ellipsis deaths per day on Ellipsis\n",
      "The highest 2-week average case counts were  Ellipsis  cases per day on Ellipsis\n"
     ]
    }
   ],
   "source": [
    "...\n",
    "worst_avg_deaths = ...\n",
    "worst_avg_deaths_date = ...\n",
    "worst_avg_cases = ...\n",
    "worst_avg_cases_date = ...\n",
    "print(\"The highest 2-week average deaths were \", worst_avg_deaths, \"deaths per day on\", worst_avg_deaths_date)\n",
    "print(\"The highest 2-week average case counts were \", worst_avg_cases, \" cases per day on\", worst_avg_cases_date)"
   ]
  },
  {
   "cell_type": "markdown",
   "metadata": {},
   "source": [
    "## 3. Goodbooks book list (12 points)\n",
    "This question uses the 10k book dataset https://github.com/zygmuntz/goodbooks-10k/.  There are ~20 million books in Amazon's catalog, so this is a small sample of the space of books available. \n",
    "\n",
    "This dataset, scraped from the goodbooks website, includes 10,000 books and 60 million ratings.\n",
    "\n",
    "The table of books can be found here: 'https://github.com/zygmuntz/goodbooks-10k/blob/master/books.csv?raw=true'\n"
   ]
  },
  {
   "cell_type": "code",
   "execution_count": 37,
   "metadata": {},
   "outputs": [
    {
     "data": {
      "text/html": [
       "<div>\n",
       "<style scoped>\n",
       "    .dataframe tbody tr th:only-of-type {\n",
       "        vertical-align: middle;\n",
       "    }\n",
       "\n",
       "    .dataframe tbody tr th {\n",
       "        vertical-align: top;\n",
       "    }\n",
       "\n",
       "    .dataframe thead th {\n",
       "        text-align: right;\n",
       "    }\n",
       "</style>\n",
       "<table border=\"1\" class=\"dataframe\">\n",
       "  <thead>\n",
       "    <tr style=\"text-align: right;\">\n",
       "      <th></th>\n",
       "      <th>book_id</th>\n",
       "      <th>goodreads_book_id</th>\n",
       "      <th>best_book_id</th>\n",
       "      <th>work_id</th>\n",
       "      <th>books_count</th>\n",
       "      <th>isbn</th>\n",
       "      <th>isbn13</th>\n",
       "      <th>authors</th>\n",
       "      <th>original_publication_year</th>\n",
       "      <th>original_title</th>\n",
       "      <th>...</th>\n",
       "      <th>ratings_count</th>\n",
       "      <th>work_ratings_count</th>\n",
       "      <th>work_text_reviews_count</th>\n",
       "      <th>ratings_1</th>\n",
       "      <th>ratings_2</th>\n",
       "      <th>ratings_3</th>\n",
       "      <th>ratings_4</th>\n",
       "      <th>ratings_5</th>\n",
       "      <th>image_url</th>\n",
       "      <th>small_image_url</th>\n",
       "    </tr>\n",
       "  </thead>\n",
       "  <tbody>\n",
       "    <tr>\n",
       "      <th>0</th>\n",
       "      <td>1</td>\n",
       "      <td>2767052</td>\n",
       "      <td>2767052</td>\n",
       "      <td>2792775</td>\n",
       "      <td>272</td>\n",
       "      <td>439023483</td>\n",
       "      <td>9.780439e+12</td>\n",
       "      <td>Suzanne Collins</td>\n",
       "      <td>2008.0</td>\n",
       "      <td>The Hunger Games</td>\n",
       "      <td>...</td>\n",
       "      <td>4780653</td>\n",
       "      <td>4942365</td>\n",
       "      <td>155254</td>\n",
       "      <td>66715</td>\n",
       "      <td>127936</td>\n",
       "      <td>560092</td>\n",
       "      <td>1481305</td>\n",
       "      <td>2706317</td>\n",
       "      <td>https://images.gr-assets.com/books/1447303603m...</td>\n",
       "      <td>https://images.gr-assets.com/books/1447303603s...</td>\n",
       "    </tr>\n",
       "    <tr>\n",
       "      <th>1</th>\n",
       "      <td>2</td>\n",
       "      <td>3</td>\n",
       "      <td>3</td>\n",
       "      <td>4640799</td>\n",
       "      <td>491</td>\n",
       "      <td>439554934</td>\n",
       "      <td>9.780440e+12</td>\n",
       "      <td>J.K. Rowling, Mary GrandPré</td>\n",
       "      <td>1997.0</td>\n",
       "      <td>Harry Potter and the Philosopher's Stone</td>\n",
       "      <td>...</td>\n",
       "      <td>4602479</td>\n",
       "      <td>4800065</td>\n",
       "      <td>75867</td>\n",
       "      <td>75504</td>\n",
       "      <td>101676</td>\n",
       "      <td>455024</td>\n",
       "      <td>1156318</td>\n",
       "      <td>3011543</td>\n",
       "      <td>https://images.gr-assets.com/books/1474154022m...</td>\n",
       "      <td>https://images.gr-assets.com/books/1474154022s...</td>\n",
       "    </tr>\n",
       "    <tr>\n",
       "      <th>2</th>\n",
       "      <td>3</td>\n",
       "      <td>41865</td>\n",
       "      <td>41865</td>\n",
       "      <td>3212258</td>\n",
       "      <td>226</td>\n",
       "      <td>316015849</td>\n",
       "      <td>9.780316e+12</td>\n",
       "      <td>Stephenie Meyer</td>\n",
       "      <td>2005.0</td>\n",
       "      <td>Twilight</td>\n",
       "      <td>...</td>\n",
       "      <td>3866839</td>\n",
       "      <td>3916824</td>\n",
       "      <td>95009</td>\n",
       "      <td>456191</td>\n",
       "      <td>436802</td>\n",
       "      <td>793319</td>\n",
       "      <td>875073</td>\n",
       "      <td>1355439</td>\n",
       "      <td>https://images.gr-assets.com/books/1361039443m...</td>\n",
       "      <td>https://images.gr-assets.com/books/1361039443s...</td>\n",
       "    </tr>\n",
       "    <tr>\n",
       "      <th>3</th>\n",
       "      <td>4</td>\n",
       "      <td>2657</td>\n",
       "      <td>2657</td>\n",
       "      <td>3275794</td>\n",
       "      <td>487</td>\n",
       "      <td>61120081</td>\n",
       "      <td>9.780061e+12</td>\n",
       "      <td>Harper Lee</td>\n",
       "      <td>1960.0</td>\n",
       "      <td>To Kill a Mockingbird</td>\n",
       "      <td>...</td>\n",
       "      <td>3198671</td>\n",
       "      <td>3340896</td>\n",
       "      <td>72586</td>\n",
       "      <td>60427</td>\n",
       "      <td>117415</td>\n",
       "      <td>446835</td>\n",
       "      <td>1001952</td>\n",
       "      <td>1714267</td>\n",
       "      <td>https://images.gr-assets.com/books/1361975680m...</td>\n",
       "      <td>https://images.gr-assets.com/books/1361975680s...</td>\n",
       "    </tr>\n",
       "    <tr>\n",
       "      <th>4</th>\n",
       "      <td>5</td>\n",
       "      <td>4671</td>\n",
       "      <td>4671</td>\n",
       "      <td>245494</td>\n",
       "      <td>1356</td>\n",
       "      <td>743273567</td>\n",
       "      <td>9.780743e+12</td>\n",
       "      <td>F. Scott Fitzgerald</td>\n",
       "      <td>1925.0</td>\n",
       "      <td>The Great Gatsby</td>\n",
       "      <td>...</td>\n",
       "      <td>2683664</td>\n",
       "      <td>2773745</td>\n",
       "      <td>51992</td>\n",
       "      <td>86236</td>\n",
       "      <td>197621</td>\n",
       "      <td>606158</td>\n",
       "      <td>936012</td>\n",
       "      <td>947718</td>\n",
       "      <td>https://images.gr-assets.com/books/1490528560m...</td>\n",
       "      <td>https://images.gr-assets.com/books/1490528560s...</td>\n",
       "    </tr>\n",
       "  </tbody>\n",
       "</table>\n",
       "<p>5 rows × 23 columns</p>\n",
       "</div>"
      ],
      "text/plain": [
       "   book_id  goodreads_book_id  best_book_id  work_id  books_count       isbn  \\\n",
       "0        1            2767052       2767052  2792775          272  439023483   \n",
       "1        2                  3             3  4640799          491  439554934   \n",
       "2        3              41865         41865  3212258          226  316015849   \n",
       "3        4               2657          2657  3275794          487   61120081   \n",
       "4        5               4671          4671   245494         1356  743273567   \n",
       "\n",
       "         isbn13                      authors  original_publication_year  \\\n",
       "0  9.780439e+12              Suzanne Collins                     2008.0   \n",
       "1  9.780440e+12  J.K. Rowling, Mary GrandPré                     1997.0   \n",
       "2  9.780316e+12              Stephenie Meyer                     2005.0   \n",
       "3  9.780061e+12                   Harper Lee                     1960.0   \n",
       "4  9.780743e+12          F. Scott Fitzgerald                     1925.0   \n",
       "\n",
       "                             original_title  ... ratings_count  \\\n",
       "0                          The Hunger Games  ...       4780653   \n",
       "1  Harry Potter and the Philosopher's Stone  ...       4602479   \n",
       "2                                  Twilight  ...       3866839   \n",
       "3                     To Kill a Mockingbird  ...       3198671   \n",
       "4                          The Great Gatsby  ...       2683664   \n",
       "\n",
       "  work_ratings_count  work_text_reviews_count  ratings_1  ratings_2  \\\n",
       "0            4942365                   155254      66715     127936   \n",
       "1            4800065                    75867      75504     101676   \n",
       "2            3916824                    95009     456191     436802   \n",
       "3            3340896                    72586      60427     117415   \n",
       "4            2773745                    51992      86236     197621   \n",
       "\n",
       "   ratings_3  ratings_4  ratings_5  \\\n",
       "0     560092    1481305    2706317   \n",
       "1     455024    1156318    3011543   \n",
       "2     793319     875073    1355439   \n",
       "3     446835    1001952    1714267   \n",
       "4     606158     936012     947718   \n",
       "\n",
       "                                           image_url  \\\n",
       "0  https://images.gr-assets.com/books/1447303603m...   \n",
       "1  https://images.gr-assets.com/books/1474154022m...   \n",
       "2  https://images.gr-assets.com/books/1361039443m...   \n",
       "3  https://images.gr-assets.com/books/1361975680m...   \n",
       "4  https://images.gr-assets.com/books/1490528560m...   \n",
       "\n",
       "                                     small_image_url  \n",
       "0  https://images.gr-assets.com/books/1447303603s...  \n",
       "1  https://images.gr-assets.com/books/1474154022s...  \n",
       "2  https://images.gr-assets.com/books/1361039443s...  \n",
       "3  https://images.gr-assets.com/books/1361975680s...  \n",
       "4  https://images.gr-assets.com/books/1490528560s...  \n",
       "\n",
       "[5 rows x 23 columns]"
      ]
     },
     "execution_count": 37,
     "metadata": {},
     "output_type": "execute_result"
    }
   ],
   "source": [
    "books = pd.read_csv(\"books.csv\")\n",
    "books.head()"
   ]
  },
  {
   "cell_type": "code",
   "execution_count": 38,
   "metadata": {},
   "outputs": [
    {
     "data": {
      "text/plain": [
       "Index(['book_id', 'goodreads_book_id', 'best_book_id', 'work_id',\n",
       "       'books_count', 'isbn', 'isbn13', 'authors', 'original_publication_year',\n",
       "       'original_title', 'title', 'language_code', 'average_rating',\n",
       "       'ratings_count', 'work_ratings_count', 'work_text_reviews_count',\n",
       "       'ratings_1', 'ratings_2', 'ratings_3', 'ratings_4', 'ratings_5',\n",
       "       'image_url', 'small_image_url'],\n",
       "      dtype='object')"
      ]
     },
     "execution_count": 38,
     "metadata": {},
     "output_type": "execute_result"
    }
   ],
   "source": [
    "# Since not all these columns fit on the screen, we should at least look at their names\n",
    "books.columns"
   ]
  },
  {
   "cell_type": "code",
   "execution_count": 39,
   "metadata": {},
   "outputs": [
    {
     "data": {
      "text/plain": [
       "book_id                                                                      1\n",
       "goodreads_book_id                                                      2767052\n",
       "best_book_id                                                           2767052\n",
       "work_id                                                                2792775\n",
       "books_count                                                                272\n",
       "isbn                                                                 439023483\n",
       "isbn13                                                         9780439023480.0\n",
       "authors                                                        Suzanne Collins\n",
       "original_publication_year                                               2008.0\n",
       "original_title                                                The Hunger Games\n",
       "title                                  The Hunger Games (The Hunger Games, #1)\n",
       "language_code                                                              eng\n",
       "average_rating                                                            4.34\n",
       "ratings_count                                                          4780653\n",
       "work_ratings_count                                                     4942365\n",
       "work_text_reviews_count                                                 155254\n",
       "ratings_1                                                                66715\n",
       "ratings_2                                                               127936\n",
       "ratings_3                                                               560092\n",
       "ratings_4                                                              1481305\n",
       "ratings_5                                                              2706317\n",
       "image_url                    https://images.gr-assets.com/books/1447303603m...\n",
       "small_image_url              https://images.gr-assets.com/books/1447303603s...\n",
       "Name: 0, dtype: object"
      ]
     },
     "execution_count": 39,
     "metadata": {},
     "output_type": "execute_result"
    }
   ],
   "source": [
    "# or the first row\n",
    "books.iloc[0]"
   ]
  },
  {
   "cell_type": "code",
   "execution_count": 40,
   "metadata": {},
   "outputs": [
    {
     "data": {
      "text/html": [
       "<div>\n",
       "<style scoped>\n",
       "    .dataframe tbody tr th:only-of-type {\n",
       "        vertical-align: middle;\n",
       "    }\n",
       "\n",
       "    .dataframe tbody tr th {\n",
       "        vertical-align: top;\n",
       "    }\n",
       "\n",
       "    .dataframe thead th {\n",
       "        text-align: right;\n",
       "    }\n",
       "</style>\n",
       "<table border=\"1\" class=\"dataframe\">\n",
       "  <thead>\n",
       "    <tr style=\"text-align: right;\">\n",
       "      <th></th>\n",
       "      <th>book_id</th>\n",
       "      <th>goodreads_book_id</th>\n",
       "      <th>best_book_id</th>\n",
       "      <th>work_id</th>\n",
       "      <th>books_count</th>\n",
       "      <th>isbn</th>\n",
       "      <th>isbn13</th>\n",
       "      <th>authors</th>\n",
       "      <th>original_publication_year</th>\n",
       "      <th>original_title</th>\n",
       "      <th>...</th>\n",
       "      <th>ratings_count</th>\n",
       "      <th>work_ratings_count</th>\n",
       "      <th>work_text_reviews_count</th>\n",
       "      <th>ratings_1</th>\n",
       "      <th>ratings_2</th>\n",
       "      <th>ratings_3</th>\n",
       "      <th>ratings_4</th>\n",
       "      <th>ratings_5</th>\n",
       "      <th>image_url</th>\n",
       "      <th>small_image_url</th>\n",
       "    </tr>\n",
       "  </thead>\n",
       "  <tbody>\n",
       "    <tr>\n",
       "      <th>2075</th>\n",
       "      <td>2076</td>\n",
       "      <td>19351</td>\n",
       "      <td>19351</td>\n",
       "      <td>3802528</td>\n",
       "      <td>266</td>\n",
       "      <td>141026286</td>\n",
       "      <td>9.780141e+12</td>\n",
       "      <td>Anonymous, N.K. Sandars</td>\n",
       "      <td>-1750.0</td>\n",
       "      <td>Shūtur eli sharrī</td>\n",
       "      <td>...</td>\n",
       "      <td>44345</td>\n",
       "      <td>55856</td>\n",
       "      <td>2247</td>\n",
       "      <td>1551</td>\n",
       "      <td>5850</td>\n",
       "      <td>17627</td>\n",
       "      <td>17485</td>\n",
       "      <td>13343</td>\n",
       "      <td>https://s.gr-assets.com/assets/nophoto/book/11...</td>\n",
       "      <td>https://s.gr-assets.com/assets/nophoto/book/50...</td>\n",
       "    </tr>\n",
       "    <tr>\n",
       "      <th>2141</th>\n",
       "      <td>2142</td>\n",
       "      <td>1375</td>\n",
       "      <td>1375</td>\n",
       "      <td>1474309</td>\n",
       "      <td>255</td>\n",
       "      <td>147712556</td>\n",
       "      <td>9.780148e+12</td>\n",
       "      <td>Homer, Robert Fagles, Bernard Knox</td>\n",
       "      <td>-762.0</td>\n",
       "      <td>Ἰλιάς ; Ὀδύσσεια</td>\n",
       "      <td>...</td>\n",
       "      <td>47825</td>\n",
       "      <td>51098</td>\n",
       "      <td>537</td>\n",
       "      <td>916</td>\n",
       "      <td>2608</td>\n",
       "      <td>10439</td>\n",
       "      <td>17404</td>\n",
       "      <td>19731</td>\n",
       "      <td>https://s.gr-assets.com/assets/nophoto/book/11...</td>\n",
       "      <td>https://s.gr-assets.com/assets/nophoto/book/50...</td>\n",
       "    </tr>\n",
       "    <tr>\n",
       "      <th>340</th>\n",
       "      <td>341</td>\n",
       "      <td>1371</td>\n",
       "      <td>1371</td>\n",
       "      <td>3293141</td>\n",
       "      <td>1726</td>\n",
       "      <td>140275363</td>\n",
       "      <td>9.780140e+12</td>\n",
       "      <td>Homer, Robert Fagles, Frédéric Mugler, Bernard...</td>\n",
       "      <td>-750.0</td>\n",
       "      <td>Ἰλιάς</td>\n",
       "      <td>...</td>\n",
       "      <td>241088</td>\n",
       "      <td>273565</td>\n",
       "      <td>4763</td>\n",
       "      <td>7701</td>\n",
       "      <td>20845</td>\n",
       "      <td>68844</td>\n",
       "      <td>89384</td>\n",
       "      <td>86791</td>\n",
       "      <td>https://s.gr-assets.com/assets/nophoto/book/11...</td>\n",
       "      <td>https://s.gr-assets.com/assets/nophoto/book/50...</td>\n",
       "    </tr>\n",
       "    <tr>\n",
       "      <th>6165</th>\n",
       "      <td>6166</td>\n",
       "      <td>534289</td>\n",
       "      <td>534289</td>\n",
       "      <td>521797</td>\n",
       "      <td>140</td>\n",
       "      <td>069109750X</td>\n",
       "      <td>9.780691e+12</td>\n",
       "      <td>Anonymous, Richard Wilhelm, Cary F. Baynes, C....</td>\n",
       "      <td>-750.0</td>\n",
       "      <td>易 [Yì]</td>\n",
       "      <td>...</td>\n",
       "      <td>12781</td>\n",
       "      <td>14700</td>\n",
       "      <td>275</td>\n",
       "      <td>178</td>\n",
       "      <td>599</td>\n",
       "      <td>2649</td>\n",
       "      <td>4230</td>\n",
       "      <td>7044</td>\n",
       "      <td>https://images.gr-assets.com/books/1406503668m...</td>\n",
       "      <td>https://images.gr-assets.com/books/1406503668s...</td>\n",
       "    </tr>\n",
       "    <tr>\n",
       "      <th>78</th>\n",
       "      <td>79</td>\n",
       "      <td>1381</td>\n",
       "      <td>1381</td>\n",
       "      <td>3356006</td>\n",
       "      <td>1703</td>\n",
       "      <td>143039954</td>\n",
       "      <td>9.780143e+12</td>\n",
       "      <td>Homer, Robert Fagles, E.V. Rieu, Frédéric Mugl...</td>\n",
       "      <td>-720.0</td>\n",
       "      <td>Ὀδύσσεια</td>\n",
       "      <td>...</td>\n",
       "      <td>670326</td>\n",
       "      <td>710757</td>\n",
       "      <td>8101</td>\n",
       "      <td>29703</td>\n",
       "      <td>65629</td>\n",
       "      <td>183082</td>\n",
       "      <td>224120</td>\n",
       "      <td>208223</td>\n",
       "      <td>https://images.gr-assets.com/books/1390173285m...</td>\n",
       "      <td>https://images.gr-assets.com/books/1390173285s...</td>\n",
       "    </tr>\n",
       "  </tbody>\n",
       "</table>\n",
       "<p>5 rows × 23 columns</p>\n",
       "</div>"
      ],
      "text/plain": [
       "      book_id  goodreads_book_id  best_book_id  work_id  books_count  \\\n",
       "2075     2076              19351         19351  3802528          266   \n",
       "2141     2142               1375          1375  1474309          255   \n",
       "340       341               1371          1371  3293141         1726   \n",
       "6165     6166             534289        534289   521797          140   \n",
       "78         79               1381          1381  3356006         1703   \n",
       "\n",
       "            isbn        isbn13  \\\n",
       "2075   141026286  9.780141e+12   \n",
       "2141   147712556  9.780148e+12   \n",
       "340    140275363  9.780140e+12   \n",
       "6165  069109750X  9.780691e+12   \n",
       "78     143039954  9.780143e+12   \n",
       "\n",
       "                                                authors  \\\n",
       "2075                            Anonymous, N.K. Sandars   \n",
       "2141                 Homer, Robert Fagles, Bernard Knox   \n",
       "340   Homer, Robert Fagles, Frédéric Mugler, Bernard...   \n",
       "6165  Anonymous, Richard Wilhelm, Cary F. Baynes, C....   \n",
       "78    Homer, Robert Fagles, E.V. Rieu, Frédéric Mugl...   \n",
       "\n",
       "      original_publication_year     original_title  ... ratings_count  \\\n",
       "2075                    -1750.0  Shūtur eli sharrī  ...         44345   \n",
       "2141                     -762.0   Ἰλιάς ; Ὀδύσσεια  ...         47825   \n",
       "340                      -750.0              Ἰλιάς  ...        241088   \n",
       "6165                     -750.0             易 [Yì]  ...         12781   \n",
       "78                       -720.0           Ὀδύσσεια  ...        670326   \n",
       "\n",
       "     work_ratings_count  work_text_reviews_count  ratings_1  ratings_2  \\\n",
       "2075              55856                     2247       1551       5850   \n",
       "2141              51098                      537        916       2608   \n",
       "340              273565                     4763       7701      20845   \n",
       "6165              14700                      275        178        599   \n",
       "78               710757                     8101      29703      65629   \n",
       "\n",
       "      ratings_3  ratings_4  ratings_5  \\\n",
       "2075      17627      17485      13343   \n",
       "2141      10439      17404      19731   \n",
       "340       68844      89384      86791   \n",
       "6165       2649       4230       7044   \n",
       "78       183082     224120     208223   \n",
       "\n",
       "                                              image_url  \\\n",
       "2075  https://s.gr-assets.com/assets/nophoto/book/11...   \n",
       "2141  https://s.gr-assets.com/assets/nophoto/book/11...   \n",
       "340   https://s.gr-assets.com/assets/nophoto/book/11...   \n",
       "6165  https://images.gr-assets.com/books/1406503668m...   \n",
       "78    https://images.gr-assets.com/books/1390173285m...   \n",
       "\n",
       "                                        small_image_url  \n",
       "2075  https://s.gr-assets.com/assets/nophoto/book/50...  \n",
       "2141  https://s.gr-assets.com/assets/nophoto/book/50...  \n",
       "340   https://s.gr-assets.com/assets/nophoto/book/50...  \n",
       "6165  https://images.gr-assets.com/books/1406503668s...  \n",
       "78    https://images.gr-assets.com/books/1390173285s...  \n",
       "\n",
       "[5 rows x 23 columns]"
      ]
     },
     "execution_count": 40,
     "metadata": {},
     "output_type": "execute_result"
    }
   ],
   "source": [
    "# With mild curiosity, let us look at the oldest books in the table: \n",
    "books.sort_values(\"original_publication_year\").head()"
   ]
  },
  {
   "cell_type": "markdown",
   "metadata": {},
   "source": [
    "And while we're here, we should look at the data types. \n",
    "* ISBN's are in scientific notation, which is not the best way to present 13-digit numbers but probably won't cause us problems.  \n",
    "* The Title and author fields have non-Latin characters; Ὀδύσσεια and 易 [Yì] are among the titles.  Latin letters and basic punctuation are encoded in ASCII; everything else is encoded in Unicode.  In python 3, we can put unicode in strings and not worry too much.  Sometimes the encoding and decoding of unicode will require the attention of the data scientist, but most of the time it does not. https://docs.python.org/3/howto/unicode.html\n",
    "* There is missing data; missing orig_publication_years are represented by \"NaN,\" the symbol for not-a-number (ironically, stored as a special number) "
   ]
  },
  {
   "cell_type": "markdown",
   "metadata": {},
   "source": [
    "**Question 10.**  Show a nice-looking table of the 20 books with the highest average ratings, showing a handful of human-readable fields that fit on the screen without horizontal scrolling.\n"
   ]
  },
  {
   "cell_type": "code",
   "execution_count": 44,
   "metadata": {},
   "outputs": [
    {
     "data": {
      "text/html": [
       "<div>\n",
       "<style scoped>\n",
       "    .dataframe tbody tr th:only-of-type {\n",
       "        vertical-align: middle;\n",
       "    }\n",
       "\n",
       "    .dataframe tbody tr th {\n",
       "        vertical-align: top;\n",
       "    }\n",
       "\n",
       "    .dataframe thead th {\n",
       "        text-align: right;\n",
       "    }\n",
       "</style>\n",
       "<table border=\"1\" class=\"dataframe\">\n",
       "  <thead>\n",
       "    <tr style=\"text-align: right;\">\n",
       "      <th></th>\n",
       "      <th>authors</th>\n",
       "      <th>original_publication_year</th>\n",
       "      <th>original_title</th>\n",
       "      <th>average_rating</th>\n",
       "      <th>ratings_count</th>\n",
       "      <th>isbn</th>\n",
       "    </tr>\n",
       "  </thead>\n",
       "  <tbody>\n",
       "    <tr>\n",
       "      <th>3627</th>\n",
       "      <td>Bill Watterson</td>\n",
       "      <td>2005.0</td>\n",
       "      <td>The Complete Calvin and Hobbes</td>\n",
       "      <td>4.82</td>\n",
       "      <td>28900</td>\n",
       "      <td>740748475</td>\n",
       "    </tr>\n",
       "    <tr>\n",
       "      <th>861</th>\n",
       "      <td>Brandon Sanderson</td>\n",
       "      <td>2014.0</td>\n",
       "      <td>Words of Radiance</td>\n",
       "      <td>4.77</td>\n",
       "      <td>73572</td>\n",
       "      <td>765326361</td>\n",
       "    </tr>\n",
       "    <tr>\n",
       "      <th>3274</th>\n",
       "      <td>J.K. Rowling, Mary GrandPré</td>\n",
       "      <td>2003.0</td>\n",
       "      <td>NaN</td>\n",
       "      <td>4.77</td>\n",
       "      <td>33220</td>\n",
       "      <td>439682584</td>\n",
       "    </tr>\n",
       "    <tr>\n",
       "      <th>7946</th>\n",
       "      <td>Anonymous, Lane T. Dennis, Wayne A. Grudem</td>\n",
       "      <td>2002.0</td>\n",
       "      <td>NaN</td>\n",
       "      <td>4.76</td>\n",
       "      <td>8953</td>\n",
       "      <td>1433502410</td>\n",
       "    </tr>\n",
       "    <tr>\n",
       "      <th>8853</th>\n",
       "      <td>Francine Rivers</td>\n",
       "      <td>1993.0</td>\n",
       "      <td>Mark of the Lion Trilogy</td>\n",
       "      <td>4.76</td>\n",
       "      <td>9081</td>\n",
       "      <td>842339523</td>\n",
       "    </tr>\n",
       "    <tr>\n",
       "      <th>4482</th>\n",
       "      <td>Bill Watterson</td>\n",
       "      <td>1996.0</td>\n",
       "      <td>It's a Magical World: A Calvin and Hobbes Coll...</td>\n",
       "      <td>4.75</td>\n",
       "      <td>22351</td>\n",
       "      <td>836221362</td>\n",
       "    </tr>\n",
       "    <tr>\n",
       "      <th>421</th>\n",
       "      <td>J.K. Rowling</td>\n",
       "      <td>1998.0</td>\n",
       "      <td>Complete Harry Potter Boxed Set</td>\n",
       "      <td>4.74</td>\n",
       "      <td>190050</td>\n",
       "      <td>545044251</td>\n",
       "    </tr>\n",
       "    <tr>\n",
       "      <th>6360</th>\n",
       "      <td>Bill Watterson</td>\n",
       "      <td>1996.0</td>\n",
       "      <td>There's Treasure Everywhere: A Calvin and Hobb...</td>\n",
       "      <td>4.74</td>\n",
       "      <td>16766</td>\n",
       "      <td>836213122</td>\n",
       "    </tr>\n",
       "    <tr>\n",
       "      <th>3752</th>\n",
       "      <td>J.K. Rowling</td>\n",
       "      <td>2005.0</td>\n",
       "      <td>Harry Potter Collection (Harry Potter, #1-6)</td>\n",
       "      <td>4.73</td>\n",
       "      <td>24618</td>\n",
       "      <td>439827604</td>\n",
       "    </tr>\n",
       "    <tr>\n",
       "      <th>6589</th>\n",
       "      <td>Bill Watterson</td>\n",
       "      <td>1990.0</td>\n",
       "      <td>The Authoritative Calvin and Hobbes</td>\n",
       "      <td>4.73</td>\n",
       "      <td>16087</td>\n",
       "      <td>751507954</td>\n",
       "    </tr>\n",
       "    <tr>\n",
       "      <th>6919</th>\n",
       "      <td>Bill Watterson</td>\n",
       "      <td>1992.0</td>\n",
       "      <td>The Indispensable Calvin and Hobbes: A Calvin ...</td>\n",
       "      <td>4.73</td>\n",
       "      <td>14597</td>\n",
       "      <td>751500283</td>\n",
       "    </tr>\n",
       "    <tr>\n",
       "      <th>1307</th>\n",
       "      <td>Sarah J. Maas</td>\n",
       "      <td>2016.0</td>\n",
       "      <td>A Court of Mist and Fury</td>\n",
       "      <td>4.72</td>\n",
       "      <td>108384</td>\n",
       "      <td>NaN</td>\n",
       "    </tr>\n",
       "    <tr>\n",
       "      <th>9565</th>\n",
       "      <td>Bill Watterson</td>\n",
       "      <td>1992.0</td>\n",
       "      <td>Attack of the Deranged Mutant Killer Monster S...</td>\n",
       "      <td>4.72</td>\n",
       "      <td>9713</td>\n",
       "      <td>1417642165</td>\n",
       "    </tr>\n",
       "    <tr>\n",
       "      <th>7253</th>\n",
       "      <td>Bill Watterson</td>\n",
       "      <td>1994.0</td>\n",
       "      <td>Homicidal Psycho Jungle Cat: A Calvin and Hobb...</td>\n",
       "      <td>4.71</td>\n",
       "      <td>14113</td>\n",
       "      <td>836217691</td>\n",
       "    </tr>\n",
       "    <tr>\n",
       "      <th>8977</th>\n",
       "      <td>Bill Watterson</td>\n",
       "      <td>1991.0</td>\n",
       "      <td>The Revenge of the Baby-Sat: A Calvin and Hobb...</td>\n",
       "      <td>4.71</td>\n",
       "      <td>11503</td>\n",
       "      <td>1417642122</td>\n",
       "    </tr>\n",
       "    <tr>\n",
       "      <th>9075</th>\n",
       "      <td>The Church of Jesus Christ of Latter-day Saints</td>\n",
       "      <td>2004.0</td>\n",
       "      <td>Preach My Gospel (A Guide to Missionary Service)</td>\n",
       "      <td>4.71</td>\n",
       "      <td>9891</td>\n",
       "      <td>402366174</td>\n",
       "    </tr>\n",
       "    <tr>\n",
       "      <th>5206</th>\n",
       "      <td>Bill Watterson</td>\n",
       "      <td>1993.0</td>\n",
       "      <td>The Days Are Just Packed: A Calvin and Hobbes ...</td>\n",
       "      <td>4.68</td>\n",
       "      <td>19143</td>\n",
       "      <td>836217357</td>\n",
       "    </tr>\n",
       "    <tr>\n",
       "      <th>5918</th>\n",
       "      <td>Anonymous, Ronald A. Beers, Ronald A. Beers</td>\n",
       "      <td>1992.0</td>\n",
       "      <td>NaN</td>\n",
       "      <td>4.67</td>\n",
       "      <td>13614</td>\n",
       "      <td>310919797</td>\n",
       "    </tr>\n",
       "    <tr>\n",
       "      <th>9140</th>\n",
       "      <td>Brandon Sanderson</td>\n",
       "      <td>2011.0</td>\n",
       "      <td>The Way of Kings, Part 1</td>\n",
       "      <td>4.67</td>\n",
       "      <td>9792</td>\n",
       "      <td>575097361</td>\n",
       "    </tr>\n",
       "    <tr>\n",
       "      <th>2100</th>\n",
       "      <td>J.K. Rowling, Mary GrandPré</td>\n",
       "      <td>1999.0</td>\n",
       "      <td>Harry Potter Boxed Set Books 1-4</td>\n",
       "      <td>4.66</td>\n",
       "      <td>43929</td>\n",
       "      <td>439249546</td>\n",
       "    </tr>\n",
       "  </tbody>\n",
       "</table>\n",
       "</div>"
      ],
      "text/plain": [
       "                                              authors  \\\n",
       "3627                                   Bill Watterson   \n",
       "861                                 Brandon Sanderson   \n",
       "3274                      J.K. Rowling, Mary GrandPré   \n",
       "7946       Anonymous, Lane T. Dennis, Wayne A. Grudem   \n",
       "8853                                  Francine Rivers   \n",
       "4482                                   Bill Watterson   \n",
       "421                                      J.K. Rowling   \n",
       "6360                                   Bill Watterson   \n",
       "3752                                     J.K. Rowling   \n",
       "6589                                   Bill Watterson   \n",
       "6919                                   Bill Watterson   \n",
       "1307                                    Sarah J. Maas   \n",
       "9565                                   Bill Watterson   \n",
       "7253                                   Bill Watterson   \n",
       "8977                                   Bill Watterson   \n",
       "9075  The Church of Jesus Christ of Latter-day Saints   \n",
       "5206                                   Bill Watterson   \n",
       "5918      Anonymous, Ronald A. Beers, Ronald A. Beers   \n",
       "9140                                Brandon Sanderson   \n",
       "2100                      J.K. Rowling, Mary GrandPré   \n",
       "\n",
       "      original_publication_year  \\\n",
       "3627                     2005.0   \n",
       "861                      2014.0   \n",
       "3274                     2003.0   \n",
       "7946                     2002.0   \n",
       "8853                     1993.0   \n",
       "4482                     1996.0   \n",
       "421                      1998.0   \n",
       "6360                     1996.0   \n",
       "3752                     2005.0   \n",
       "6589                     1990.0   \n",
       "6919                     1992.0   \n",
       "1307                     2016.0   \n",
       "9565                     1992.0   \n",
       "7253                     1994.0   \n",
       "8977                     1991.0   \n",
       "9075                     2004.0   \n",
       "5206                     1993.0   \n",
       "5918                     1992.0   \n",
       "9140                     2011.0   \n",
       "2100                     1999.0   \n",
       "\n",
       "                                         original_title  average_rating  \\\n",
       "3627                     The Complete Calvin and Hobbes            4.82   \n",
       "861                                   Words of Radiance            4.77   \n",
       "3274                                                NaN            4.77   \n",
       "7946                                                NaN            4.76   \n",
       "8853                           Mark of the Lion Trilogy            4.76   \n",
       "4482  It's a Magical World: A Calvin and Hobbes Coll...            4.75   \n",
       "421                     Complete Harry Potter Boxed Set            4.74   \n",
       "6360  There's Treasure Everywhere: A Calvin and Hobb...            4.74   \n",
       "3752       Harry Potter Collection (Harry Potter, #1-6)            4.73   \n",
       "6589                The Authoritative Calvin and Hobbes            4.73   \n",
       "6919  The Indispensable Calvin and Hobbes: A Calvin ...            4.73   \n",
       "1307                           A Court of Mist and Fury            4.72   \n",
       "9565  Attack of the Deranged Mutant Killer Monster S...            4.72   \n",
       "7253  Homicidal Psycho Jungle Cat: A Calvin and Hobb...            4.71   \n",
       "8977  The Revenge of the Baby-Sat: A Calvin and Hobb...            4.71   \n",
       "9075   Preach My Gospel (A Guide to Missionary Service)            4.71   \n",
       "5206  The Days Are Just Packed: A Calvin and Hobbes ...            4.68   \n",
       "5918                                                NaN            4.67   \n",
       "9140                           The Way of Kings, Part 1            4.67   \n",
       "2100                   Harry Potter Boxed Set Books 1-4            4.66   \n",
       "\n",
       "      ratings_count        isbn  \n",
       "3627          28900   740748475  \n",
       "861           73572   765326361  \n",
       "3274          33220   439682584  \n",
       "7946           8953  1433502410  \n",
       "8853           9081   842339523  \n",
       "4482          22351   836221362  \n",
       "421          190050   545044251  \n",
       "6360          16766   836213122  \n",
       "3752          24618   439827604  \n",
       "6589          16087   751507954  \n",
       "6919          14597   751500283  \n",
       "1307         108384         NaN  \n",
       "9565           9713  1417642165  \n",
       "7253          14113   836217691  \n",
       "8977          11503  1417642122  \n",
       "9075           9891   402366174  \n",
       "5206          19143   836217357  \n",
       "5918          13614   310919797  \n",
       "9140           9792   575097361  \n",
       "2100          43929   439249546  "
      ]
     },
     "execution_count": 44,
     "metadata": {},
     "output_type": "execute_result"
    }
   ],
   "source": [
    "highratings = books.nlargest(20, \"average_rating\")\n",
    "highratings[[\"authors\", \"original_publication_year\", \"original_title\", \"average_rating\", \"ratings_count\", \"isbn\"]]"
   ]
  },
  {
   "cell_type": "markdown",
   "metadata": {},
   "source": [
    "**Question 11.** Find the number of books in this table with at least 100, 1000, 10000, 100000, and 1M reviews.  Not for credit: is there anything about these numbers that strikes you as peculiar?"
   ]
  },
  {
   "cell_type": "code",
   "execution_count": 48,
   "metadata": {},
   "outputs": [
    {
     "name": "stdout",
     "output_type": "stream",
     "text": [
      "9841\n",
      "6327\n",
      "497\n",
      "4\n",
      "0\n"
     ]
    }
   ],
   "source": [
    "print(len(np.where(books[\"work_text_reviews_count\"] > 100)[0]))\n",
    "print(len(np.where(books[\"work_text_reviews_count\"] > 1000)[0]))\n",
    "print(len(np.where(books[\"work_text_reviews_count\"] > 10000)[0]))\n",
    "print(len(np.where(books[\"work_text_reviews_count\"] > 100000)[0]))\n",
    "print(len(np.where(books[\"work_text_reviews_count\"] > 1000000)[0]))"
   ]
  },
  {
   "cell_type": "markdown",
   "metadata": {},
   "source": [
    "**Question 12.** Show a list of the 15 most recently published books in the dataset.  How many were originally published each year between 2010 and 2020?   Not for credit, but why do you imagine there are comparatively few books from 2016?"
   ]
  },
  {
   "cell_type": "code",
   "execution_count": null,
   "metadata": {},
   "outputs": [],
   "source": []
  },
  {
   "cell_type": "markdown",
   "metadata": {},
   "source": [
    "## 3. Data frames (12 points)\n",
    "\n",
    "A subset of the table from https://en.wikipedia.org/wiki/Great_lakes is below:\n",
    "\n",
    "| Lake Name | Elevation (m) | Surface area (km$^2$) | latitude (deg) | Average depth (m) |\n",
    "| --- | :-: | :-: | :-: | :-: |\n",
    "| Erie | 174 | 25700 |  42.1  | 19 | \n",
    "| Huron | 176 | 60000 |  45.0 | 59 | \n",
    "| Michigan | 176 | 58000 | 43.4 | 85 | \n",
    "| Ontario | 75 | 19000 |  43.6 | 86 | \n",
    "| Superior | 183 | 82000 |  47.7 | 147 | \n",
    "\n",
    "We would like to caluclate the total amount of water impounded by the five lakes in this table. "
   ]
  },
  {
   "cell_type": "markdown",
   "metadata": {},
   "source": [
    "**Question 13.** Put the name, surface area, and depth fields into a pandas dataframe called `lakes`.  You will need to choose some column names.  You can choose anything, but if your column names are valid python variable names, you can access columns as attributes of a data frame `lakes.area` in addition to using square brackets `lakes[\"area\"]`.   "
   ]
  },
  {
   "cell_type": "code",
   "execution_count": 56,
   "metadata": {},
   "outputs": [
    {
     "data": {
      "text/html": [
       "<div>\n",
       "<style scoped>\n",
       "    .dataframe tbody tr th:only-of-type {\n",
       "        vertical-align: middle;\n",
       "    }\n",
       "\n",
       "    .dataframe tbody tr th {\n",
       "        vertical-align: top;\n",
       "    }\n",
       "\n",
       "    .dataframe thead th {\n",
       "        text-align: right;\n",
       "    }\n",
       "</style>\n",
       "<table border=\"1\" class=\"dataframe\">\n",
       "  <thead>\n",
       "    <tr style=\"text-align: right;\">\n",
       "      <th></th>\n",
       "      <th>name</th>\n",
       "      <th>SA</th>\n",
       "      <th>avgdepth</th>\n",
       "    </tr>\n",
       "  </thead>\n",
       "  <tbody>\n",
       "    <tr>\n",
       "      <th>0</th>\n",
       "      <td>Erie</td>\n",
       "      <td>25700</td>\n",
       "      <td>19</td>\n",
       "    </tr>\n",
       "    <tr>\n",
       "      <th>1</th>\n",
       "      <td>Huron</td>\n",
       "      <td>60000</td>\n",
       "      <td>59</td>\n",
       "    </tr>\n",
       "    <tr>\n",
       "      <th>2</th>\n",
       "      <td>Michigan</td>\n",
       "      <td>58000</td>\n",
       "      <td>85</td>\n",
       "    </tr>\n",
       "    <tr>\n",
       "      <th>3</th>\n",
       "      <td>Ontario</td>\n",
       "      <td>19000</td>\n",
       "      <td>86</td>\n",
       "    </tr>\n",
       "    <tr>\n",
       "      <th>4</th>\n",
       "      <td>Superior</td>\n",
       "      <td>82000</td>\n",
       "      <td>147</td>\n",
       "    </tr>\n",
       "  </tbody>\n",
       "</table>\n",
       "</div>"
      ],
      "text/plain": [
       "       name     SA  avgdepth\n",
       "0      Erie  25700        19\n",
       "1     Huron  60000        59\n",
       "2  Michigan  58000        85\n",
       "3   Ontario  19000        86\n",
       "4  Superior  82000       147"
      ]
     },
     "execution_count": 56,
     "metadata": {},
     "output_type": "execute_result"
    }
   ],
   "source": [
    "lakes = {\"name\":[\"Erie\",\"Huron\",\"Michigan\",\"Ontario\",\"Superior\"], \"SA\":[25700,60000,58000,19000,82000], \"avgdepth\":[19,59,85,86,147]}\n",
    "lakes_df = pd.DataFrame(data=lakes, index=[0,1,2,3,4])\n",
    "lakes_df"
   ]
  },
  {
   "cell_type": "markdown",
   "metadata": {},
   "source": [
    "**Question 14.** Find the total surface area (in km$^2$) of the lakes."
   ]
  },
  {
   "cell_type": "code",
   "execution_count": 57,
   "metadata": {},
   "outputs": [
    {
     "name": "stdout",
     "output_type": "stream",
     "text": [
      "244700\n"
     ]
    }
   ],
   "source": [
    "total_surface_area = sum(lakes[\"SA\"])\n",
    "print(total_surface_area)"
   ]
  },
  {
   "cell_type": "markdown",
   "metadata": {},
   "source": [
    "**Question 15.** \n",
    "Add a column to the dataframe containing the volume (in km$^3$) of each lake and find the total volume of water impounded the five lakes together. "
   ]
  },
  {
   "cell_type": "code",
   "execution_count": 63,
   "metadata": {},
   "outputs": [
    {
     "name": "stdout",
     "output_type": "stream",
     "text": [
      "22646300\n"
     ]
    }
   ],
   "source": [
    "lakes[\"vol\"] = [488300, 3540000, 4930000, 1634000, 12054000]\n",
    "total_volume = sum(lakes[\"vol\"]) \n",
    "print(total_volume)"
   ]
  },
  {
   "cell_type": "markdown",
   "metadata": {},
   "source": [
    "**Question 16.** Find the fraction of the total water accounted for in our table in each of the lakes, that is, divide each lake's volume by the total volume in all five lakes.  How much of the water in the Great Lakes is in Lake Erie?\n"
   ]
  },
  {
   "cell_type": "code",
   "execution_count": 69,
   "metadata": {},
   "outputs": [
    {
     "name": "stdout",
     "output_type": "stream",
     "text": [
      "[0.02156202 0.15631693 0.21769561 0.07215307 0.53227238]\n",
      "Lake Erie has 2.156 percent of the water.\n"
     ]
    }
   ],
   "source": [
    "lake_water_fraction = np.array([488300, 3540000, 4930000, 1634000, 12054000]) / total_volume\n",
    "print(lake_water_fraction)\n",
    "print(\"Lake Erie has\", round((lake_water_fraction[0]*100),3), \"percent of the water.\")"
   ]
  },
  {
   "cell_type": "markdown",
   "metadata": {},
   "source": []
  }
 ],
 "metadata": {
  "kernelspec": {
   "display_name": "Python 3",
   "language": "python",
   "name": "python3"
  },
  "language_info": {
   "codemirror_mode": {
    "name": "ipython",
    "version": 3
   },
   "file_extension": ".py",
   "mimetype": "text/x-python",
   "name": "python",
   "nbconvert_exporter": "python",
   "pygments_lexer": "ipython3",
   "version": "3.8.8"
  }
 },
 "nbformat": 4,
 "nbformat_minor": 4
}
