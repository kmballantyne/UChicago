{
 "cells": [
  {
   "cell_type": "markdown",
   "metadata": {},
   "source": [
    "# Data/CS/Stat 118  Winter 2022\n",
    "# Homework 5: Sampling, games, and data cleaning (50 points)\n",
    "\n",
    "Please complete this notebook by filling in the cells provided. Before you begin, execute the following cell to load the needed functions. Each time you start your server, you will need to execute this cell again to load them. \n",
    "\n",
    "Homework 5 is due on Tuesday, February 15 at 9:00am. Late work will not be accepted.  "
   ]
  },
  {
   "cell_type": "code",
   "execution_count": null,
   "metadata": {},
   "outputs": [],
   "source": [
    "# Don't change this cell; just run it. \n",
    "import numpy as np\n",
    "import pandas as pd\n",
    "import warnings\n",
    "warnings.simplefilter('ignore', FutureWarning)\n",
    "\n",
    "import matplotlib\n",
    "%matplotlib inline\n",
    "import matplotlib.pyplot as plt\n",
    "plt.style.use('fivethirtyeight')\n"
   ]
  },
  {
   "cell_type": "markdown",
   "metadata": {},
   "source": [
    "## 1. Roulette (12 points)\n",
    "\n",
    "Suppose you are a casino owner, and your casino runs a [roulette](https://en.wikipedia.org/wiki/Roulette) with 38 pockets: 18 red, 18 black and 2 green (we ignore the numbers that identify the pockets in this exercise).  If a customer bets $\\$$10 on color red, and ball lands in a red pocket, the customer wins $\\$$10 from the casino,  if it comes up anything else, the bet is lost (similarly, for black).\n",
    "\n",
    "**Question 1.** Assuming no one is cheating and the roulette is fair, if a customer plays twice, what is the chance they make money?"
   ]
  },
  {
   "cell_type": "code",
   "execution_count": null,
   "metadata": {},
   "outputs": [],
   "source": [
    "# this question asks you to provide a number directly\n",
    "p_winning_after_two_spins = ..."
   ]
  },
  {
   "cell_type": "markdown",
   "metadata": {},
   "source": [
    "A certain customer plays the roulette 40 times, always betting on red or black, and wins 25 of the bets.  You suspect that the customer is cheating!  That is, you think that their chance of winning is higher than the normal chance of winning.\n",
    "\n",
    "You decide to test your hunch using the outcomes of the 40 games you observed.\n",
    "\n",
    "**Question 2.** Write a function called `simulate`.  It should take as argument the number of games/spins.  It should return the number of wins in those games simulated under the assumption that the result of each game is sampled from a fair roulette and the bet is on red or black."
   ]
  },
  {
   "cell_type": "code",
   "execution_count": null,
   "metadata": {},
   "outputs": [],
   "source": [
    "..."
   ]
  },
  {
   "cell_type": "markdown",
   "metadata": {},
   "source": [
    "**Question 3.**  Using a 6,000 trial simulation, generate a histogram of the empirical distribution of the number of wins in 40 games.  Estimate the probablility our player will come out ahead from this sample.  **Hint:** given the payouts above, what is the break-even point?"
   ]
  },
  {
   "cell_type": "code",
   "execution_count": null,
   "metadata": {},
   "outputs": [],
   "source": [
    "..."
   ]
  },
  {
   "cell_type": "markdown",
   "metadata": {},
   "source": [
    "## 2.  Mastermind (15 points)\n",
    "\n",
    "There is a little plastic board game with six colors called Mastermind, after a pen-and-paper game called cows and bulls.  It is very much like Wordle but with plastic pegs instead of letters.\n",
    "\n",
    "There are pegs of six colors (which we can represent by numbers 0-5),  and four of these pegs are chosen by one player and hidden behind a small screen.  These \"hidden\" pegs constitute the \"secret.\"\n",
    "\n",
    "The player who cannot see the secret makes guesses by making guesses of four colors, and gets feedback in the form of two numbers: one number for the number of pegs of the correct color in the correct place, and one number for the number of pegs of the correct color but in the wrong place.\n",
    "\n",
    "\n"
   ]
  },
  {
   "cell_type": "markdown",
   "metadata": {},
   "source": [
    "**Question 4**\n",
    "Modify the partially completed function below to score a guess in the game mastermind.  \n",
    "Your function should input two lists of four numbers, and should return a tuple of two numbers, the first is the number of exact matches, the second is the number of matches in the wrong position. \n",
    "\n",
    "This function is missing the code to count the exact matches, but should already count the right-color-wrong-position matches."
   ]
  },
  {
   "cell_type": "code",
   "execution_count": null,
   "metadata": {},
   "outputs": [],
   "source": [
    "def score_mastermind(a, b):\n",
    "    '''This function takes two lists of numbers a and b and \n",
    "    returns the number of same-color-same-position and \n",
    "    number of same-color-wrong-position pairs.'''\n",
    "    blackpegs = 0\n",
    "    whitepegs = 0\n",
    "    a=list(a)  # convert to list so that we can edit the values in subroutine\n",
    "    b=list(b)\n",
    "    # loop through all distinct pairs, count each \n",
    "    for j in range(0,len(a)):\n",
    "        for k in range(len(b)):\n",
    "            if j != k:\n",
    " #               print(j,k, a[j],b[k], a,b)  # uncomment this line to see what is happening\n",
    "                if a[j] == b[k] and a[j] != b[j] and a[j] != \"x\":\n",
    "                    whitepegs = whitepegs + 1\n",
    "                    # if we find a match for a[i] and b[k] flag it as used\n",
    "                    a[j] = \"x\"\n",
    "                    b[k] = \"x\"\n",
    "    return (blackpegs, whitepegs)"
   ]
  },
  {
   "cell_type": "code",
   "execution_count": null,
   "metadata": {},
   "outputs": [],
   "source": [
    "score_mastermind( [ 0,1,2,3], [1,0,4,5])"
   ]
  },
  {
   "cell_type": "code",
   "execution_count": null,
   "metadata": {},
   "outputs": [],
   "source": []
  },
  {
   "cell_type": "code",
   "execution_count": null,
   "metadata": {},
   "outputs": [],
   "source": [
    "# Here are four pairs of inputs to test your code.\n",
    "(score_mastermind( [ 0,1,2,3], [0,1,2,4]),\n",
    " score_mastermind( [ 0,1,2,3], [0,2,0,0]),\n",
    " score_mastermind( [ 0,1,2,0], [3,4,3,4]),\n",
    " score_mastermind( [ 0,0,0,2], [2,2,2,0]) )"
   ]
  },
  {
   "cell_type": "code",
   "execution_count": null,
   "metadata": {},
   "outputs": [],
   "source": []
  },
  {
   "cell_type": "code",
   "execution_count": null,
   "metadata": {},
   "outputs": [],
   "source": [
    "(score_mastermind( [ 0,1,2,3], [0,1,2,4]),\n",
    " score_mastermind( [ 0,1,2,3], [0,2,0,0]),\n",
    " score_mastermind( [ 0,1,2,0], [3,4,3,4]),\n",
    " score_mastermind( [ 0,0,0,2], [2,2,2,0]) )"
   ]
  },
  {
   "cell_type": "code",
   "execution_count": null,
   "metadata": {},
   "outputs": [],
   "source": [
    "# Since we know the right answer for these test inputs (called fixtures)\n",
    "# we can write tests that return True when your code works.  You should\n",
    "# be able to run this cell and get (True, True, True, True)\n",
    "(score_mastermind( [ 0,1,2,3], [0,1,2,4]) == (3,0),\n",
    " score_mastermind( [ 0,1,2,3], [0,2,0,0]) == (1,1),\n",
    " score_mastermind( [ 0,1,2,0], [3,4,3,4]) == (0,0),\n",
    " score_mastermind( [ 0,0,0,2], [2,2,2,0]) == (0,2) )\n"
   ]
  },
  {
   "cell_type": "code",
   "execution_count": null,
   "metadata": {},
   "outputs": [],
   "source": [
    "from itertools import product\n",
    "# itertools.product will generate all 6**4 combinations for us\n",
    "universe = list(product([0,1,2,3,4,5],repeat=4))"
   ]
  },
  {
   "cell_type": "code",
   "execution_count": null,
   "metadata": {},
   "outputs": [],
   "source": [
    "for u in universe[0:12]:\n",
    "    print (u)\n",
    "print(len(universe), 6**4)"
   ]
  },
  {
   "cell_type": "markdown",
   "metadata": {},
   "source": [
    "**Question 5**\n",
    "Write the following function."
   ]
  },
  {
   "cell_type": "code",
   "execution_count": null,
   "metadata": {},
   "outputs": [],
   "source": [
    "# The following function tests a list of all possible answers\n",
    "# against the secret, returning an as many True/False values as \n",
    "# elements in universe.\n",
    "def check_everything(universe, guess, answer):\n",
    "    results = ...\n",
    "    return(results)\n",
    "\n"
   ]
  },
  {
   "cell_type": "code",
   "execution_count": null,
   "metadata": {},
   "outputs": [],
   "source": [
    "np.sum(check_everything(universe, [2,3,4,2], (0,1)))\n"
   ]
  },
  {
   "cell_type": "code",
   "execution_count": null,
   "metadata": {},
   "outputs": [],
   "source": [
    "# This test should return True\n",
    "np.sum(check_everything(universe, [2,3,4,2], (0,1))) == 616"
   ]
  },
  {
   "cell_type": "markdown",
   "metadata": {},
   "source": [
    "**Question 6**\n",
    "If you guess [2,3,4,5] and get no matches (none in the right position, none of the right color), how many possible solutions remain?  If you assume all the possibilities are equally likely, what is the entropy of the distribution of possible secrets?\n"
   ]
  },
  {
   "cell_type": "code",
   "execution_count": null,
   "metadata": {},
   "outputs": [],
   "source": []
  },
  {
   "cell_type": "code",
   "execution_count": null,
   "metadata": {},
   "outputs": [],
   "source": []
  },
  {
   "cell_type": "code",
   "execution_count": null,
   "metadata": {},
   "outputs": [],
   "source": []
  },
  {
   "cell_type": "markdown",
   "metadata": {},
   "source": [
    "## Chicago Salary database"
   ]
  },
  {
   "cell_type": "code",
   "execution_count": null,
   "metadata": {},
   "outputs": [],
   "source": [
    "# Here is a dataset from the Chicago Open Data portal.  It's a list of\n",
    "# all the employees in a payroll database at the City \n",
    "# of Chicago from August 2021.\n",
    "\n",
    "salaries = pd.read_csv('Current_Employee_Names__Salaries__and_Position_Titles_20210819_Chicago.csv')\n",
    "print(salaries.shape)\n",
    "salaries.head(5)"
   ]
  },
  {
   "cell_type": "code",
   "execution_count": null,
   "metadata": {},
   "outputs": [],
   "source": [
    "salaries.columns\n"
   ]
  },
  {
   "cell_type": "code",
   "execution_count": null,
   "metadata": {},
   "outputs": [],
   "source": [
    "# let us get only the salaried rows:\n",
    "salaried = salaries.query(\"'Salary or Hourly' == 'Salary'\")"
   ]
  },
  {
   "cell_type": "code",
   "execution_count": null,
   "metadata": {},
   "outputs": [],
   "source": [
    "# Spaces in the column names.. how to handle that?\n",
    "# https://stackoverflow.com/questions/50697536/pandas-query-function-not-working-with-spaces-in-column-names \n",
    "# Use \"backticks\" around the problematic column name.\n",
    "salaried = salaries.query(\"`Salary or Hourly` == 'Salary'\")"
   ]
  },
  {
   "cell_type": "code",
   "execution_count": null,
   "metadata": {},
   "outputs": [],
   "source": [
    "salaried.shape, salaries.shape"
   ]
  },
  {
   "cell_type": "code",
   "execution_count": null,
   "metadata": {},
   "outputs": [],
   "source": [
    "salaried[\"Annual Salary\"].mean(), salaried[\"Annual Salary\"].median()"
   ]
  },
  {
   "cell_type": "code",
   "execution_count": null,
   "metadata": {},
   "outputs": [],
   "source": []
  },
  {
   "cell_type": "markdown",
   "metadata": {},
   "source": [
    "We have a list of 24,000 employees, their departments, job titles, and annual salaries.\n",
    "\n",
    "**Question 8**. Find the mean, median, and standard deviation of the \"Annual Salary\" field for salaried employees.\n",
    "\n"
   ]
  },
  {
   "cell_type": "code",
   "execution_count": null,
   "metadata": {},
   "outputs": [],
   "source": []
  },
  {
   "cell_type": "markdown",
   "metadata": {},
   "source": [
    "*Write your answer here, replacing this text.*"
   ]
  },
  {
   "cell_type": "markdown",
   "metadata": {},
   "source": [
    "**Question 9.** Draw 1000 random samples of 100 employees, and report the mean and standard deviation of the mean salary of these samples.  What fraction of the total (salary) is this (uncertainty in the mean of the sample)?"
   ]
  },
  {
   "cell_type": "code",
   "execution_count": null,
   "metadata": {},
   "outputs": [],
   "source": []
  },
  {
   "cell_type": "markdown",
   "metadata": {},
   "source": [
    "**Question 10.** What size sample do you need to get a standard deviation of your samples about the mean of 1% of average salary, $931?  You can use math or computing, just get within 10% of the right answer."
   ]
  },
  {
   "cell_type": "code",
   "execution_count": null,
   "metadata": {},
   "outputs": [],
   "source": []
  },
  {
   "cell_type": "markdown",
   "metadata": {},
   "source": [
    "## 3. Causes of Death by Year (23 points)\n"
   ]
  },
  {
   "cell_type": "markdown",
   "metadata": {},
   "source": [
    "We'll be looking at a dataset from the California Department of Public Health that records the cause of death, as recorded on a death certificate, for everyone who died in California from 1999 to 2013.  The data is in the file `causes_of_death.csv.zip`. Each row records the number of deaths by a specific cause in one year in one ZIP code.\n",
    "\n",
    "To make the file smaller, we've compressed it; run the next cell to unzip and load it."
   ]
  },
  {
   "cell_type": "code",
   "execution_count": null,
   "metadata": {},
   "outputs": [],
   "source": [
    "!unzip -o causes_of_death.csv.zip\n",
    "causes = pd.read_csv('causes_of_death.csv')\n",
    "causes.head()"
   ]
  },
  {
   "cell_type": "markdown",
   "metadata": {},
   "source": [
    "**Question 11** Create a dataframe with two columns, one for Cause of Death and the other contaning a count of the total number of deaths in the dataset due to that cause.  Call the dataframe `cause_count`.\n",
    "\n",
    "*Hint 1:* If all of your causes have the exact same count, then you probably have done something wrong.\n",
    "\n",
    "*Hint 2:* You may need to use reset_index() to get a column named \"Cause of Death\" rather than it being the index."
   ]
  },
  {
   "cell_type": "code",
   "execution_count": null,
   "metadata": {},
   "outputs": [],
   "source": [
    "#replace the ...\n",
    "print(len(causes))\n",
    "cause_count = causes.groupby(\"Cause of Death\").Count.sum()\n",
    "cause_count"
   ]
  },
  {
   "cell_type": "code",
   "execution_count": null,
   "metadata": {},
   "outputs": [],
   "source": []
  },
  {
   "cell_type": "markdown",
   "metadata": {},
   "source": [
    "The causes of death in the data are abbreviated.  We've provided a file called `abbreviations.csv` to decode the abbreviations."
   ]
  },
  {
   "cell_type": "code",
   "execution_count": null,
   "metadata": {},
   "outputs": [],
   "source": [
    "abbreviations = pd.read_csv('abbreviations.csv')\n",
    "abbreviations"
   ]
  },
  {
   "cell_type": "markdown",
   "metadata": {},
   "source": [
    "**Question 12.** Use the `abbreviations` dataframe to create a dataframe called `full_cause_count` that has the same two columns as `cause_count`, but that has the cause abreviations replaced by their full names.  To get full credit, the two columns should appear in the same order and have the same names as in the original `cause_count` dataframe. "
   ]
  },
  {
   "cell_type": "code",
   "execution_count": null,
   "metadata": {},
   "outputs": [],
   "source": [
    "#You may need a few lines of code to do this in addition to replacing the ...\n",
    "full_cause_count = ...\n",
    "full_cause_count"
   ]
  },
  {
   "cell_type": "markdown",
   "metadata": {},
   "source": [
    "**Question 13.** Several of the causes in the abbreviations dataframe do not appear in `full_cause_count`.   Which ones are missing and why don't they appear in `full_cause_count` (even with, say, some sort of default value or `NaN` for `Count sum`)?"
   ]
  },
  {
   "cell_type": "markdown",
   "metadata": {},
   "source": [
    "*Write your answer here, replacing this text.*"
   ]
  },
  {
   "cell_type": "code",
   "execution_count": null,
   "metadata": {
    "deletable": false,
    "export_pdf": true,
    "manual_problem_id": "causes_of_death_5"
   },
   "outputs": [],
   "source": []
  },
  {
   "cell_type": "markdown",
   "metadata": {
    "deletable": false,
    "export_pdf": true,
    "manual_problem_id": "causes_of_death_3"
   },
   "source": []
  }
 ],
 "metadata": {
  "kernelspec": {
   "display_name": "Python 3",
   "language": "python",
   "name": "python3"
  },
  "language_info": {
   "codemirror_mode": {
    "name": "ipython",
    "version": 3
   },
   "file_extension": ".py",
   "mimetype": "text/x-python",
   "name": "python",
   "nbconvert_exporter": "python",
   "pygments_lexer": "ipython3",
   "version": "3.8.5"
  }
 },
 "nbformat": 4,
 "nbformat_minor": 4
}
