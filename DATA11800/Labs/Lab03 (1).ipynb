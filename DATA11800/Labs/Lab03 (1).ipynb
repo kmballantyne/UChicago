{
 "cells": [
  {
   "cell_type": "markdown",
   "metadata": {},
   "source": [
    "# Data Visualization"
   ]
  },
  {
   "cell_type": "markdown",
   "metadata": {},
   "source": [
    "Welcome to lab 3! This week, we'll learn how to do some basic data visualizations using both the `pandas` library and the standard Python plotting library, Matplotlib. [Here](https://matplotlib.org/gallery/index.html) is a useful gallery of some nice Matplotlib visualizations with the accompanying code. It might be useful to refer to the gallery to make some nice plots for your midterm project!\n",
    "\n",
    "First, set up the imports by running the cell below."
   ]
  },
  {
   "cell_type": "code",
   "execution_count": null,
   "metadata": {},
   "outputs": [],
   "source": [
    "import numpy as np\n",
    "import pandas as pd\n",
    "\n",
    "# These lines set up graphing capabilities.\n",
    "import matplotlib.pyplot as plt\n",
    "plt.style.use('fivethirtyeight')\n",
    "plt.rcParams.update({'font.size': 12})\n",
    "import warnings\n",
    "warnings.simplefilter('ignore', FutureWarning)"
   ]
  },
  {
   "cell_type": "markdown",
   "metadata": {},
   "source": [
    "## 1. Movies and Matplotlib\n",
    "Matplotlib is the \"grandfather\" library of data visualization with Python. It was created by John Hunter. He created it to try to replicate MatLab's (another programming language) plotting capabilities in Python. So if you happen to be familiar with matlab, matplotlib will feel natural to you. [This tutorial](https://matplotlib.org/tutorials/introductory/pyplot.html) provides a nice general overview of the main functionality.\n",
    "\n",
    "Some of the major Pros of Matplotlib are:\n",
    "\n",
    "* Generally easy to get started for simple plots\n",
    "* Support for custom labels and texts\n",
    "* Great control of every element in a figure\n",
    "* High-quality output in many formats\n",
    "* Very customizable in general\n",
    "\n",
    "Matplotlib allows you to create reproducible figures programmatically. Let's learn how to use it! Before continuing this lecture, I encourage you just to explore the official Matplotlib web page: http://matplotlib.org/\n"
   ]
  },
  {
   "cell_type": "markdown",
   "metadata": {},
   "source": [
    "**NOTE**: If you are using an older version of jupyter, you need to run a \"magic\" command to see the plots inline with the notebook. Users of jupyter notebook 1.0 and above, don't need to run the cell below. **If you are using our JupyterHub environment, you don't need this magic command.**"
   ]
  },
  {
   "cell_type": "code",
   "execution_count": null,
   "metadata": {},
   "outputs": [],
   "source": [
    "# Check your Jupyter Notebook version\n",
    "!jupyter --version"
   ]
  },
  {
   "cell_type": "code",
   "execution_count": null,
   "metadata": {},
   "outputs": [],
   "source": [
    "import matplotlib\n",
    "%matplotlib inline"
   ]
  },
  {
   "cell_type": "markdown",
   "metadata": {},
   "source": [
    "#### Matplotlib basics\n",
    "Notice the import statement for Matplotlib is `import matplotlib.pyplot as plt`. Pyplot is the main functionality we use with data in Python, so you'll see `plt.some_function()` throughout Matplotlib code.\n",
    "\n",
    "There are a few basic components to a `matplotlib` plot:\n",
    "- **Figure**: The \"canvas\" which contains one or more plots. Most commonly, you might set the size of the Figure using `plt.figure(figsize=(width, height)`.\n",
    "\n",
    "- **Axes**: This is what we generally think of as a plot (bad naming). Each Axes has a title, an x-label and a y-label. You can easily set these using `plt.title('a title')`, `plt.xlabel('an x label')`, and `plt.ylabel('a y label')`.\n",
    "\n",
    "- **Axis**: This refers to what we typically think of as an axis; you can set the limits of the plot using the Axis.\n",
    "\n",
    "Run the cell below for a very basic plot in Matplotlib demostrating some functionality. The `plt.plot()` function takes in either lists or arrays. "
   ]
  },
  {
   "cell_type": "code",
   "execution_count": null,
   "metadata": {},
   "outputs": [],
   "source": [
    "plt.figure(figsize=(10,5))\n",
    "plt.plot([1,2,3], [1,4,9])\n",
    "plt.xlabel('x-axis')\n",
    "plt.ylabel('y-axis')\n",
    "plt.title('Good Plot')"
   ]
  },
  {
   "cell_type": "markdown",
   "metadata": {},
   "source": [
    "**NOTE**: If you try running .py scripts in an IDE like PyCharm or VSCode Text Editor. You will not see the plots in a notebook, instead if you are using another editor, you'll use: `plt.show()` at the end of all your plotting commands to have the figure pop up in another window."
   ]
  },
  {
   "cell_type": "markdown",
   "metadata": {},
   "source": [
    "The movies_by_year dataset in the textbook has information about movie sales in recent years. We will explore some basic visualizations with the `pandas` library as well as Matplotlib on this dataset. Let's start by loading the data:"
   ]
  },
  {
   "cell_type": "code",
   "execution_count": null,
   "metadata": {},
   "outputs": [],
   "source": [
    "df_movies_by_year = pd.read_csv(\"movies_by_year.csv\")\n",
    "df_movies_by_year.head(10)"
   ]
  },
  {
   "cell_type": "markdown",
   "metadata": {},
   "source": [
    "**Question 1.** Make a histogram of the number of movies per year using pandas' default `hist()` function"
   ]
  },
  {
   "cell_type": "code",
   "execution_count": null,
   "metadata": {},
   "outputs": [],
   "source": [
    "..."
   ]
  },
  {
   "cell_type": "markdown",
   "metadata": {},
   "source": [
    "<details><summary><button>Click here to reveal the answer!</button></summary>\n",
    "<p>\n",
    "df_movies_by_year['Number of Movies'].hist()\n",
    "</p>\n",
    "</details>"
   ]
  },
  {
   "cell_type": "markdown",
   "metadata": {},
   "source": [
    "Read the [pandas.DataFrame.hist document](https://pandas.pydata.org/docs/reference/api/pandas.DataFrame.hist.html) and you will see many parameters to be set. One is that you can change the number of bins presented in your histogram, you can play with that and find a number of bins that look good to you. Also, you will see in the document that this `hist` function actually calls `matplotlib.pyplot.hist()`. In the next question, we will use the function by ourselves.\n"
   ]
  },
  {
   "cell_type": "markdown",
   "metadata": {},
   "source": [
    "**Question 2.** Use `Matplotlib` to recreate the histogram from Question 1 with axis labels and a title that make sense. Try to find the appropriate way to do this yourself (google is extremely helpful for this kind of stuff). We'll get you started by creating an array from the `Number of Movies` column."
   ]
  },
  {
   "cell_type": "code",
   "execution_count": null,
   "metadata": {},
   "outputs": [],
   "source": [
    "..."
   ]
  },
  {
   "cell_type": "markdown",
   "metadata": {},
   "source": [
    "<details><summary><button>Click here to reveal the answer!</button></summary>   \n",
    "<p>\n",
    "num_movies = df_movies_by_year['Number of Movies']\n",
    "plt.hist(num_movies)\n",
    "plt.xlabel('Number of movies')\n",
    "plt.ylabel('Number of years')\n",
    "plt.title('Histogram of number of movies by year')\n",
    "</p>\n",
    "</details>"
   ]
  },
  {
   "cell_type": "markdown",
   "metadata": {},
   "source": [
    "Matplotlib is the base of all plots in Python, so the Pandas library actually uses Matplotlib to do its plotting. This means that when you create a visualizations directly from a `pandas` DataFrame, you can actually use Matplotlib commands within the same Jupyter cell and it will update your original figure, like this:"
   ]
  },
  {
   "cell_type": "code",
   "execution_count": null,
   "metadata": {},
   "outputs": [],
   "source": [
    "df_movies_by_year['Number of Movies'].hist(bins=20)\n",
    "plt.title('Another histogram')\n",
    "plt.ylabel('Number of years')"
   ]
  },
  {
   "cell_type": "markdown",
   "metadata": {},
   "source": [
    "Another nice functionality of Matplotlib is the ability to display multiple plots in the same figure. In the following code, the subplot call specifies (`nrows`, `ncols`, `index`) where `index` ranges from 1 to `nrows*ncols`. The commas in the subplot call are optional if `nrows*ncols<=9`. So `subplot(211)` is identical to `subplot(2, 1, 1)`. The above information can also be obtained from the [matplotlib.pyplot.subplot document](https://matplotlib.org/stable/api/_as_gen/matplotlib.pyplot.subplot.html).\n",
    "\n",
    "You can create an arbitrary number of subplots and axes. If you want to place an axes manually, i.e., not on a rectangular grid, use axes, which allows you to specify the location as `axes([left, bottom, width, height])` where all values are in fractional (0 to 1) coordinates. See Axes Demo for an example of placing axes manually and Basic Subplot Demo for an example with lots of subplots.\n",
    "\n",
    "You can create multiple figures by using multiple figure calls with an increasing figure number. Of course, each figure can contain as many axes and subplots as your heart desires:"
   ]
  },
  {
   "cell_type": "code",
   "execution_count": null,
   "metadata": {},
   "outputs": [],
   "source": [
    "plt.figure(figsize=(10,5))\n",
    "\n",
    "plt.subplot(1,2,1)\n",
    "plt.plot([1,2,3,4], [1,4,9,16], \"go\")\n",
    "plt.title(\"first\")\n",
    "\n",
    "plt.subplot(1,2,2)\n",
    "plt.plot([1,2,3,4], [1,8,27,64], \"r^\")\n",
    "plt.title(\"second\")\n",
    "\n",
    "plt.suptitle(\"2 plots\")"
   ]
  },
  {
   "cell_type": "markdown",
   "metadata": {},
   "source": [
    "Note that, for every `x, y` pair of arguments, there is an optional third argument which is the format string that indicates the color and line type of the plot. The letters and symbols of the format string are from **MATLAB**, and you concatenate a color string with a line style string. The default format string is 'b-', which is a solid blue line. In the plot above, the \"go\" argument is telling the first plot to use \"green circles\", and \"r^\" is telling the second plot to use \"red triangles\"."
   ]
  },
  {
   "cell_type": "markdown",
   "metadata": {},
   "source": [
    "**Question 3.** Suppose we hypothesize that the number of movies by year has a similar distribution to the total amount of money that year. Create side-by-side histograms to investigate this hypothesis."
   ]
  },
  {
   "cell_type": "code",
   "execution_count": null,
   "metadata": {},
   "outputs": [],
   "source": [
    "num_movies = df_movies_by_year['Number of Movies']\n",
    "total_gross = df_movies_by_year['Total Gross']\n",
    "..."
   ]
  },
  {
   "cell_type": "markdown",
   "metadata": {},
   "source": [
    "<details><summary><button>Click here to reveal the answer!</button></summary>   \n",
    "<p>\n",
    "plt.subplot(1,2,1)<br>\n",
    "plt.hist(num_movies)<br>\n",
    "plt.title(\"Number of Movies\")<br>\n",
    "\n",
    "plt.subplot(1,2,2)<br>\n",
    "plt.hist(total_gross)<br>\n",
    "plt.title(\"Total Gross\")<br>\n",
    "\n",
    "plt.suptitle(\"Comparison of # and $\")<br>\n",
    "</p>\n",
    "</details>"
   ]
  },
  {
   "cell_type": "markdown",
   "metadata": {},
   "source": [
    "Hmm, this doesn't look very compelling. Maybe there's a better plot to compare these distributions.\n",
    "\n",
    "**Question 4.** Create a scatterplot comparing `Number of Movies` and `Total Gross` using **Matplotlib** method. Why is this a useful visualization?\n",
    "\n"
   ]
  },
  {
   "cell_type": "code",
   "execution_count": null,
   "metadata": {},
   "outputs": [],
   "source": [
    "..."
   ]
  },
  {
   "cell_type": "markdown",
   "metadata": {},
   "source": [
    "<details><summary><button>Click here to reveal the answer!</button></summary>   \n",
    "<p>    \n",
    "plt.scatter(num_movies, total_gross)\n",
    "    </p>\n",
    "</details>"
   ]
  },
  {
   "cell_type": "markdown",
   "metadata": {},
   "source": [
    "**Question 5.** Finally, when we have data with a temporal component, it is typically useful to look at trends over time using a line plot. Make line plots showing `Total Gross` across the years using Matplotlib methods. You'll need to extract the `Year` column as an array for the Matplotlib approach, so we'll do that for you."
   ]
  },
  {
   "cell_type": "code",
   "execution_count": null,
   "metadata": {},
   "outputs": [],
   "source": [
    "year = df_movies_by_year['Year']\n",
    "..."
   ]
  },
  {
   "cell_type": "markdown",
   "metadata": {},
   "source": [
    "<details><summary><button>Click here to reveal the answer!</button></summary>   \n",
    "<p>\n",
    "plt.plot(year, total_gross)\n",
    "    \n",
    "plt.xlabel('Year')\n",
    "    \n",
    "plt.ylabel('Total Gross')\n",
    "\n",
    "    </p>\n",
    "</details>"
   ]
  },
  {
   "cell_type": "markdown",
   "metadata": {},
   "source": [
    "## 2. Population layers\n",
    "\n",
    "The file below contains \"Annual Estimates of the Resident Population by Single Year of Age and Sex for the United States.\" Notice that `pandas.read_csv()` can read data directly from a URL. We are only going to investigate population trends for 2010 and 2014; the code below makes the appropriate table. \n",
    "\n",
    "The SEX column contains numeric codes: 0 stands for the total, 1 for male, and 2 for female. "
   ]
  },
  {
   "cell_type": "code",
   "execution_count": null,
   "metadata": {},
   "outputs": [],
   "source": [
    "# Read the full Census table\n",
    "census_url = 'http://www2.census.gov/programs-surveys/popest/datasets/2010-2015/national/asrh/nc-est2015-agesex-res.csv'\n",
    "df_full_census = pd.read_csv(census_url)\n",
    "\n",
    "# Select columns from the full table and relabel some of them\n",
    "df_partial_census = df_full_census[['SEX', 'AGE', 'POPESTIMATE2010', 'POPESTIMATE2014']]\n",
    "us_pop = df_partial_census.rename(columns={'POPESTIMATE2010': '2010', 'POPESTIMATE2014': '2014'})\n",
    "\n",
    "# Filter out AGE==999 (this represents the overall total)\n",
    "us_pop = us_pop[us_pop['AGE']!=999]"
   ]
  },
  {
   "cell_type": "markdown",
   "metadata": {},
   "source": [
    "To make it easier to compare population trends, it's sometimes nice to overlay plots on the same figure.\n",
    "\n",
    "First, let's try to plot the total population by age for both 2010 and 2014 on the same plot. Since we want to do this for total population, we only want to include rows where `SEX = 0`, as follows:"
   ]
  },
  {
   "cell_type": "code",
   "execution_count": null,
   "metadata": {},
   "outputs": [],
   "source": [
    "us_pop_total = us_pop[us_pop['SEX']==0] "
   ]
  },
  {
   "cell_type": "markdown",
   "metadata": {},
   "source": [
    "We'll also extract the columns as arrays so we can us Matplotlib:"
   ]
  },
  {
   "cell_type": "code",
   "execution_count": null,
   "metadata": {},
   "outputs": [],
   "source": [
    "age = us_pop_total['AGE']\n",
    "pop_2010 = us_pop_total['2010']\n",
    "pop_2014 = us_pop_total['2014']"
   ]
  },
  {
   "cell_type": "markdown",
   "metadata": {},
   "source": [
    "**Question 1.** In the following cell, create 2 separate age-vs-population line plots directly from the `us_pop_total` Table showing the 2010 and the 2014 populations."
   ]
  },
  {
   "cell_type": "code",
   "execution_count": null,
   "metadata": {},
   "outputs": [],
   "source": [
    "..."
   ]
  },
  {
   "cell_type": "markdown",
   "metadata": {},
   "source": [
    "<details><summary><button>Click here to reveal the answer!</button></summary>\n",
    "<p>\n",
    "plt.subplot(1,2,1)\n",
    "plt.plot(age, pop_2010, 'r-')\n",
    "\n",
    "plt.subplot(1,2,2)\n",
    "plt.plot(age, pop_2014, 'b-')\n",
    "\n",
    "</p>\n",
    "</details>"
   ]
  },
  {
   "cell_type": "markdown",
   "metadata": {},
   "source": [
    "**Question 3.** Try to create an overlaid line plot showing the 2010 population by year with separate lines for male (SEX=1) and female (SEX=2). You will need to create new arrays from the subtables where (SEX=1) and (SEX=2)\". You should also add a legend to the plot; to do this, you add a \"label\" attribute to the plot, and then call a command to display the label, as follows:\n",
    "\n",
    "```\n",
    "plt.plot(x,y,label='hello')\n",
    "plt.legend()\n",
    "```"
   ]
  },
  {
   "cell_type": "code",
   "execution_count": null,
   "metadata": {},
   "outputs": [],
   "source": [
    "..."
   ]
  },
  {
   "cell_type": "markdown",
   "metadata": {},
   "source": [
    "<details><summary><button>Click here to reveal the answer!</button></summary>\n",
    "<p>\n",
    "pop_2010_male = us_pop[us_pop['SEX']==1]['2010']\n",
    "pop_2010_female = us_pop[us_pop['SEX']==2]['2010']\n",
    "# need the age array to be the same size as the population arrays, so just take age from female<br>\n",
    "age = us_pop[us_pop['SEX']==2]['AGE']\n",
    "\n",
    "plt.plot(age, pop_2010_male, label='Male')\n",
    "plt.plot(age, pop_2010_female, label='Female')\n",
    "plt.legend()\n",
    "</details>\n",
    "\n"
   ]
  },
  {
   "cell_type": "markdown",
   "metadata": {},
   "source": [
    "Finally, let's make a layered bar chart. These are good to use for categorical data, like sex. The following code groups the Table by sex and adds up the total population across all ages:"
   ]
  },
  {
   "cell_type": "code",
   "execution_count": null,
   "metadata": {},
   "outputs": [],
   "source": [
    "pop_total = us_pop[['SEX', '2010', '2014']].groupby('SEX').sum()\n",
    "pop_total = pop_total.reset_index()"
   ]
  },
  {
   "cell_type": "code",
   "execution_count": null,
   "metadata": {},
   "outputs": [],
   "source": [
    "pop_total.columns"
   ]
  },
  {
   "cell_type": "markdown",
   "metadata": {},
   "source": [
    "Here's a way to overlap bar charts in Matplotlib. You have to specify the width of the bars, and then actually shift them over that same width so they show up appropriately. Kinda cumbersome!"
   ]
  },
  {
   "cell_type": "code",
   "execution_count": null,
   "metadata": {},
   "outputs": [],
   "source": [
    "plt.bar(pop_total['SEX'], pop_total['2010'], width=1/3)\n",
    "plt.bar(pop_total['SEX'] + 1/3, pop_total['2014'], width=1/3)\n",
    "plt.xlabel('Sex')\n",
    "plt.ylabel('Population')"
   ]
  },
  {
   "cell_type": "markdown",
   "metadata": {},
   "source": [
    "# (Bonus) 3. Matplotlib Styling\n",
    "Congratulations! You have now grasped some basic Matplotlib functions. However, some of you may think the figures are not beautiful enough to be put into some conference papers, and wonder if there are ways to styling the figures in Matplotlib.\n",
    "\n",
    "In this section, we will introduce some styling method using generated data. It is encouraged to use the skills you learned in this section to beautify or customize the figures in previous sections or design some by yourself."
   ]
  },
  {
   "cell_type": "code",
   "execution_count": null,
   "metadata": {},
   "outputs": [],
   "source": [
    "# The data\n",
    "x = np.arange(0,10)\n",
    "y = 2 * x"
   ]
  },
  {
   "cell_type": "markdown",
   "metadata": {},
   "source": [
    "As stated at the beginning, **Axes** is what we generally think of as a plot. Inside a figure, there can be multiple plots, or more formally, multiple axes. We will use the axes here instead of just using plt to have some more advanced control over the figures."
   ]
  },
  {
   "cell_type": "code",
   "execution_count": null,
   "metadata": {},
   "outputs": [],
   "source": [
    "fig = plt.figure()\n",
    "\n",
    "ax = fig.add_axes([0,0,1,1])\n",
    "\n",
    "ax.plot(x, x**2, label=\"x**2\")\n",
    "ax.plot(x, x**3, label=\"x**3\")\n",
    "ax.legend()"
   ]
  },
  {
   "cell_type": "markdown",
   "metadata": {},
   "source": [
    "## Legend location\n",
    "The **legend** function takes an optional keyword argument **loc** that can be used to specify where in the figure the legend is to be drawn. The allowed values of **loc** are numerical codes for the various places the legend can be drawn. See the [documentation page](https://matplotlib.org/stable/tutorials/intermediate/legend_guide.html#legend-location) for details. Some of the most common **loc** values are:"
   ]
  },
  {
   "cell_type": "code",
   "execution_count": null,
   "metadata": {},
   "outputs": [],
   "source": [
    "# Lots of options....\n",
    "\n",
    "ax.legend(loc='upper right') # upper right corner\n",
    "ax.legend(loc='upper left') # upper left corner\n",
    "ax.legend(loc='lower left') # lower left corner\n",
    "ax.legend(loc='lower center') # lower center\n",
    "ax.legend(loc='lower right') # lower right corner\n",
    "\n",
    "# .. many more options are available\n",
    "\n",
    "# Most common to choose\n",
    "# ax.legend(loc=0) # let matplotlib decide the optimal location\n",
    "fig"
   ]
  },
  {
   "cell_type": "markdown",
   "metadata": {},
   "source": [
    "## Color\n",
    "Previously, we just use 'b-', 'g-' and some simplified MATLAB-like syntax to specify the color and line styles. In fact, we have far more colors available (all RGB colors can be chosen by using the hex code)."
   ]
  },
  {
   "cell_type": "code",
   "execution_count": null,
   "metadata": {},
   "outputs": [],
   "source": [
    "fig, ax = plt.subplots()\n",
    "\n",
    "ax.plot(x, x+1, color=\"blue\", alpha=0.5) # half-transparant\n",
    "ax.plot(x, x+2, color=\"#8B008B\")        # RGB hex code\n",
    "ax.plot(x, x+3, color=\"#FF8C00\")        # RGB hex code "
   ]
  },
  {
   "cell_type": "markdown",
   "metadata": {},
   "source": [
    "## Line Width\n",
    "To change the line width, we can use the `linewidth` or `lw` keyword argument."
   ]
  },
  {
   "cell_type": "code",
   "execution_count": null,
   "metadata": {},
   "outputs": [],
   "source": [
    "fig, ax = plt.subplots(figsize=(12,6))\n",
    "\n",
    "# Use linewidth or lw\n",
    "ax.plot(x, x-1, color=\"red\", linewidth=0.25)\n",
    "ax.plot(x, x-2, color=\"red\", lw=0.50)\n",
    "ax.plot(x, x-3, color=\"red\", lw=1)\n",
    "ax.plot(x, x-4, color=\"red\", lw=10)"
   ]
  },
  {
   "cell_type": "markdown",
   "metadata": {},
   "source": [
    "## Line Styles\n",
    "There are many linestyles to choose from, here are some examples."
   ]
  },
  {
   "cell_type": "code",
   "execution_count": null,
   "metadata": {},
   "outputs": [],
   "source": [
    "# possible linestype options ‘--‘, ‘–’, ‘-.’, ‘:’, ‘steps’\n",
    "fig, ax = plt.subplots(figsize=(12,6))\n",
    "\n",
    "ax.plot(x, x-1, color=\"green\", lw=3, linestyle='-') # solid\n",
    "ax.plot(x, x-2, color=\"green\", lw=3, ls='-.') # dash and dot\n",
    "ax.plot(x, x-3, color=\"green\", lw=3, ls=':') # dots\n",
    "ax.plot(x, x-4, color=\"green\", lw=3, ls='--') # dashes"
   ]
  },
  {
   "cell_type": "markdown",
   "metadata": {},
   "source": [
    "## Markers Styles\n",
    "\n",
    "Huge list of marker types can be found here: https://matplotlib.org/3.2.2/api/markers_api.html\n",
    "\n",
    "Some examples are shown below for you to know what is possible with marker's styles"
   ]
  },
  {
   "cell_type": "code",
   "execution_count": null,
   "metadata": {},
   "outputs": [],
   "source": [
    "fig, ax = plt.subplots(figsize=(12,6))\n",
    "\n",
    "# Use marker for string code\n",
    "# Use markersize or ms for size\n",
    "\n",
    "ax.plot(x, x-1,marker='+',markersize=20)\n",
    "ax.plot(x, x-2,marker='o',ms=20) #ms can be used for markersize\n",
    "ax.plot(x, x-3,marker='s',ms=20,lw=0) # make linewidth zero to see only markers\n",
    "ax.plot(x, x-4,marker='1',ms=20)"
   ]
  },
  {
   "cell_type": "markdown",
   "metadata": {},
   "source": [
    "## (Bonus) 4. Advanced Matplotlib Commands\n",
    "We cover some advanced features of Matplotlib which you might not use as often. However, having them in your mind will help you imagine some cool visualization effect that you can achieve with Matplotlib."
   ]
  },
  {
   "cell_type": "markdown",
   "metadata": {},
   "source": [
    "## Logarithmic scale\n",
    "It is possible to set a logarithmic scale for one or both axes. This functionality is in fact only one application of a more general transformation system in Matplotlib. The axes' scales are set separately using `set_xscale` and `set_yscale` methods which accept one parameter (with the value \"log\" in this case):"
   ]
  },
  {
   "cell_type": "code",
   "execution_count": null,
   "metadata": {},
   "outputs": [],
   "source": [
    "fig, axes = plt.subplots(1, 2, figsize=(10,4))\n",
    "      \n",
    "axes[0].plot(x, x**2, x, np.exp(x))\n",
    "axes[0].set_title(\"Normal scale\")\n",
    "\n",
    "axes[1].plot(x, x**2, x, np.exp(x))\n",
    "axes[1].set_yscale(\"log\")\n",
    "axes[1].set_title(\"Logarithmic scale (y)\");"
   ]
  },
  {
   "cell_type": "markdown",
   "metadata": {},
   "source": [
    "## Placement of ticks and custom tick labels\n",
    "We can explicitly determine where we want the axis ticks with `set_xticks` and `set_yticks`, which both take a list of values for where on the axis the ticks are to be placed. We can also use the `set_xticklabels` and `set_yticklabels` methods to provide a list of custom text labels for each tick location:"
   ]
  },
  {
   "cell_type": "code",
   "execution_count": null,
   "metadata": {},
   "outputs": [],
   "source": [
    "plt.style.use('default')\n",
    "fig, ax = plt.subplots(figsize=(9, 4))\n",
    "\n",
    "x= np.arange(0,6)\n",
    "ax.plot(x, x**2, x, x**3, lw=2)\n",
    "\n",
    "ax.set_xticks([1, 2, 3, 4, 5])\n",
    "ax.set_xticklabels([r'$\\alpha$', r'$\\beta$', r'$\\gamma$', r'$\\delta$', r'$\\epsilon$'], fontsize=18)\n",
    "\n",
    "yticks = [0, 50, 100, 150]\n",
    "ax.set_yticks(yticks)\n",
    "ax.set_yticklabels([\"$%.1f$\" % y for y in yticks], fontsize=18); # use LaTeX formatted labels"
   ]
  },
  {
   "cell_type": "markdown",
   "metadata": {},
   "source": [
    "## Axis Grid\n",
    "We can add grid in the figures. Also, we can customize the styles of the grid. "
   ]
  },
  {
   "cell_type": "code",
   "execution_count": null,
   "metadata": {},
   "outputs": [],
   "source": [
    "fig, axes = plt.subplots(1, 2, figsize=(10,3))\n",
    "\n",
    "# default grid appearance\n",
    "axes[0].plot(x, x**2, x, x**3, lw=2)\n",
    "axes[0].grid(True)\n",
    "\n",
    "# custom grid appearance\n",
    "axes[1].plot(x, x**2, x, x**3, lw=2)\n",
    "axes[1].grid(color='b', alpha=0.5, linestyle='dashed', linewidth=0.5)"
   ]
  },
  {
   "cell_type": "markdown",
   "metadata": {},
   "source": [
    "## Twin Axes\n",
    "Sometimes it is useful to have dual x or y axes in a figure; for example, when plotting curves with different units together. Matplotlib supports this with the `twinx` and `twiny` functions:"
   ]
  },
  {
   "cell_type": "code",
   "execution_count": null,
   "metadata": {},
   "outputs": [],
   "source": [
    "fig, ax1 = plt.subplots()\n",
    "\n",
    "ax1.plot(x, x**2, lw=2, color=\"blue\")\n",
    "ax1.set_ylabel(r\"area $(m^2)$\", fontsize=18, color=\"blue\")\n",
    "for label in ax1.get_yticklabels():\n",
    "    label.set_color(\"blue\")\n",
    "    \n",
    "ax2 = ax1.twinx()\n",
    "ax2.plot(x, x**3, lw=2, color=\"red\")\n",
    "ax2.set_ylabel(r\"volume $(m^3)$\", fontsize=18, color=\"red\")\n",
    "for label in ax2.get_yticklabels():\n",
    "    label.set_color(\"red\")"
   ]
  },
  {
   "cell_type": "markdown",
   "metadata": {},
   "source": [
    "## Axes where x and y is zero\n",
    "Until now, we've seen plots all in a rectangle. But back in high school and middle school, we've seen many plots where the coordinate origin is not at the edge but in the middle. Let's just look at an example."
   ]
  },
  {
   "cell_type": "code",
   "execution_count": null,
   "metadata": {},
   "outputs": [],
   "source": [
    "fig, ax = plt.subplots()\n",
    "\n",
    "ax.spines['right'].set_color('none')\n",
    "ax.spines['top'].set_color('none')\n",
    "\n",
    "ax.xaxis.set_ticks_position('bottom')\n",
    "ax.spines['bottom'].set_position(('data',0)) # set position of x spine to x=0\n",
    "\n",
    "ax.yaxis.set_ticks_position('left')\n",
    "ax.spines['left'].set_position(('data',0))   # set position of y spine to y=0\n",
    "\n",
    "xx = np.linspace(-0.75, 1., 100)\n",
    "ax.plot(xx, xx**3);"
   ]
  },
  {
   "cell_type": "markdown",
   "metadata": {},
   "source": [
    "## Figures inside figures\n",
    "\n",
    "Manually adding axes using `add_axes` is useful for adding insets to figures"
   ]
  },
  {
   "cell_type": "code",
   "execution_count": null,
   "metadata": {},
   "outputs": [],
   "source": [
    "fig, ax = plt.subplots()\n",
    "\n",
    "ax.plot(xx, xx**2, xx, xx**3)\n",
    "fig.tight_layout()\n",
    "\n",
    "# inset\n",
    "inset_ax = fig.add_axes([0.2, 0.55, 0.35, 0.35]) # X, Y, width, height\n",
    "\n",
    "inset_ax.plot(xx, xx**2, xx, xx**3)\n",
    "inset_ax.set_title('zoom near origin')\n",
    "\n",
    "# set axis range\n",
    "inset_ax.set_xlim(-.2, .2)\n",
    "inset_ax.set_ylim(-.005, .01)\n",
    "\n",
    "# set axis tick locations\n",
    "inset_ax.set_yticks([0, 0.005, 0.01])\n",
    "inset_ax.set_xticks([-0.1,0,.1]);"
   ]
  },
  {
   "cell_type": "markdown",
   "metadata": {},
   "source": [
    "That's it for lab 3! There are SO many ways to informatively visualize your data - we encourage you to read tutorials and look through Matplotlib galleries to learn more!"
   ]
  }
 ],
 "metadata": {
  "anaconda-cloud": {},
  "kernelspec": {
   "display_name": "Python 3",
   "language": "python",
   "name": "python3"
  },
  "language_info": {
   "codemirror_mode": {
    "name": "ipython",
    "version": 3
   },
   "file_extension": ".py",
   "mimetype": "text/x-python",
   "name": "python",
   "nbconvert_exporter": "python",
   "pygments_lexer": "ipython3",
   "version": "3.8.8"
  }
 },
 "nbformat": 4,
 "nbformat_minor": 1
}
