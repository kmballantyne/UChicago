{
 "cells": [
  {
   "cell_type": "markdown",
   "metadata": {},
   "source": [
    "## Lab 9: Simpson's Paradox, Multiple Testing and Review ##"
   ]
  },
  {
   "cell_type": "markdown",
   "metadata": {},
   "source": [
    "In today's lab, we're doing a few things. First, we'll practice using two-way tables to investigate a surprising phenomenon. Next, we'll run through an example of multiple testing to see why it is important. Finally, as a review for the final, we'll walk through a basic simulation example. \n",
    "\n",
    "As usual, **run the cell below** to prepare the lab."
   ]
  },
  {
   "cell_type": "code",
   "execution_count": null,
   "metadata": {},
   "outputs": [],
   "source": [
    "# Run this cell to set up the notebook, but please don't change it.\n",
    "\n",
    "# These lines import the Numpy and Datascience modules.\n",
    "import numpy as np\n",
    "import pandas as pd\n",
    "\n",
    "# These lines do some fancy plotting magic.\n",
    "import matplotlib\n",
    "%matplotlib inline\n",
    "import matplotlib.pyplot as plt\n",
    "plt.style.use('fivethirtyeight')\n",
    "import warnings\n",
    "warnings.simplefilter('ignore', FutureWarning)"
   ]
  },
  {
   "cell_type": "markdown",
   "metadata": {},
   "source": [
    "## 1. Simpson's Paradox ##\n",
    "\n",
    "Suppose we've collected data on patients from 2 different hospitals, hospital A and hospital B. For each patient, we know whether or not they were in good or bad condition when the arrived, and we know whether or not they survived. Run the following cell to load and see the data."
   ]
  },
  {
   "cell_type": "code",
   "execution_count": null,
   "metadata": {},
   "outputs": [],
   "source": [
    "hospitals = pd.read_csv('hospital_survival.csv')\n",
    "hospitals"
   ]
  },
  {
   "cell_type": "markdown",
   "metadata": {},
   "source": [
    "#### Question 1.1 ####\n",
    "\n",
    "Make a two-way table that classifies hypothetical hospital patients by to the hospital that treated them and whether they survived or died (hint: you can add an [`aggfunc`](https://pandas.pydata.org/docs/reference/api/pandas.pivot_table.html) argument to a pivot table to do this quickly)"
   ]
  },
  {
   "cell_type": "code",
   "execution_count": null,
   "metadata": {
    "deletable": false
   },
   "outputs": [],
   "source": [
    "..."
   ]
  },
  {
   "cell_type": "markdown",
   "metadata": {},
   "source": [
    "<details><summary><button>Click here to reveal the answer!</button></summary>\n",
    "<pre>\n",
    "hospitals.pivot_table(index='status', columns='hospital', aggfunc='count')\n",
    "</pre>\n",
    "</details>"
   ]
  },
  {
   "cell_type": "markdown",
   "metadata": {},
   "source": [
    "#### Question 1.2 ####\n",
    "\n",
    "Based on this table, which of the 2 hospitals have a higher survival rate?"
   ]
  },
  {
   "cell_type": "markdown",
   "metadata": {},
   "source": [
    "<details><summary><button>Click here to reveal the answer!</button></summary>\n",
    "<pre>\n",
    "Hospital B - 80.8 survival rate vs. 78.9 at hospital A\n",
    "</pre>\n",
    "</details>"
   ]
  },
  {
   "cell_type": "markdown",
   "metadata": {},
   "source": [
    "#### Question 1.3 ####\n",
    "\n",
    "Now, make a three-way table that further separates patients by their condition. A three-way table is just like a two-way table, except now we are cutting the data along three dimensions instead of two. (hint: the pivot function can do this easily by passing a list of the values you want along the columns instead of a single column. The function is expecting an extra column to aggregate over, so we are adding a dummy column for you)"
   ]
  },
  {
   "cell_type": "code",
   "execution_count": null,
   "metadata": {},
   "outputs": [],
   "source": [
    "hospitals['total'] = 1\n",
    "hospitals.pivot_table(...)\n"
   ]
  },
  {
   "cell_type": "markdown",
   "metadata": {},
   "source": [
    "<details><summary><button>Click here to reveal the answer!</button></summary>\n",
    "<pre>\n",
    "hospitals.pivot_table(index='status', columns=['hospital', 'condition'], aggfunc='count')\n",
    "</pre>\n",
    "</details>"
   ]
  },
  {
   "cell_type": "markdown",
   "metadata": {},
   "source": [
    "#### Question 1.4 #### \n",
    "\n",
    "Now what do you observe? Does hospital B have a better survival rate for either condition? Why does it have a better survival rate overall?"
   ]
  },
  {
   "cell_type": "code",
   "execution_count": null,
   "metadata": {
    "deletable": false
   },
   "outputs": [],
   "source": [
    "# put your computations here"
   ]
  },
  {
   "cell_type": "markdown",
   "metadata": {},
   "source": [
    "<details><summary><button>Click here to reveal the answer!</button></summary>\n",
    "<pre>\n",
    "Should find that hospital B has worse survival rates for both categories of patients, but has a higher rate overall because it has more patients in good condition.\n",
    "</pre>\n",
    "</details>"
   ]
  },
  {
   "cell_type": "markdown",
   "metadata": {},
   "source": [
    "This phenomenon is known as Simpson's paradox, which is a phenomenon in probability and statistics in which a trend appears in several different groups of data but disappears or reverses when these groups are combined. See [wikipedia](https://en.wikipedia.org/wiki/Simpson%27s_paradox) for more information.\n",
    "\n",
    "\n",
    "## 2. Multiple Testing ##\n",
    "\n",
    "Suppose we're studying 10,000 different fad diets, and we are interested in whether or not they are effective. For each of these fad diets, we can compute a p-value comparing the average weight loss between a treatment group and a control group, where we are testing the hypothesis that the treatment group loses more weight than the control group. \n",
    "\n",
    "We don't actually have this data, but we are going to run a simulation that guarantees that none of these 'diets' are effective - we are going to load a small sample of bodyweight data, randomly choose the control and the treatment groups, and use a two-sided t-test to compute a p-value testing the hypothesis that the samples are the same. Since the procedure is just randomly choosing samples, none of the differences between the weights should actually be significant. This implies that the null hypothesis is true for all diets. \n",
    "\n",
    "Run the following code - it produces an array of the 10,000 p-values described above."
   ]
  },
  {
   "cell_type": "code",
   "execution_count": null,
   "metadata": {
    "deletable": false
   },
   "outputs": [],
   "source": [
    "from scipy import stats\n",
    "# if you don't have this library, run `pip install scipy` in your terminal\n",
    "\n",
    "np.random.seed(420)\n",
    "population = pd.read_csv('bodyweight.csv')['Bodyweight']\n",
    "alpha = 0.05\n",
    "N = 12\n",
    "m = 10000\n",
    "pvals = []\n",
    "for i in range(m):\n",
    "    control = np.random.choice(population, N)\n",
    "    treatment = np.random.choice(population, N)\n",
    "    t, pval = stats.ttest_ind(treatment,control)\n",
    "    pvals = np.append(pvals, pval)"
   ]
  },
  {
   "cell_type": "markdown",
   "metadata": {
    "deletable": false
   },
   "source": [
    "#### Question 2.1 ####\n",
    "Make a histogram of the simulated p-values. What do you observe?"
   ]
  },
  {
   "cell_type": "code",
   "execution_count": null,
   "metadata": {
    "deletable": false
   },
   "outputs": [],
   "source": [
    "..."
   ]
  },
  {
   "cell_type": "markdown",
   "metadata": {
    "deletable": false
   },
   "source": [
    "<details><summary><button>Click here to reveal the answer!</button></summary>\n",
    "\n",
    "The distribution of the p-values should be nearly uniform\n",
    "\n",
    "</details>"
   ]
  },
  {
   "cell_type": "markdown",
   "metadata": {},
   "source": [
    "#### Question 2.2 ####\n",
    "Suppose we reject any hypothesis with a p-value less than .05. How many of the hypotheses in our simulation would we reject?"
   ]
  },
  {
   "cell_type": "code",
   "execution_count": null,
   "metadata": {
    "deletable": false,
    "for_assignment_type": "student"
   },
   "outputs": [],
   "source": [
    "..."
   ]
  },
  {
   "cell_type": "markdown",
   "metadata": {
    "deletable": false
   },
   "source": [
    "<details><summary><button>Click here to reveal the answer!</button></summary>\n",
    "One example of how to do this is below, you can implement the function with any any\n",
    "<pre>\n",
    "sum(pvals<.05) = 512\n",
    "</pre>\n",
    "</details>"
   ]
  },
  {
   "cell_type": "markdown",
   "metadata": {
    "deletable": false
   },
   "source": [
    "#### Question 2.3 ####\n",
    "What are some potential issues if we were to incorrectly reject this many hypotheses?"
   ]
  },
  {
   "cell_type": "code",
   "execution_count": null,
   "metadata": {},
   "outputs": [],
   "source": [
    "..."
   ]
  },
  {
   "cell_type": "markdown",
   "metadata": {},
   "source": [
    "## Review - Number of Heads in 100 Tosses ##\n",
    "\n",
    "It is natural to expect that in 100 tosses of a coin, there will be 50 heads, give or take a few.\n",
    "\n",
    "But how many is “a few”? What’s the chance of getting exactly 50 heads? Questions like these matter in data science not only because they are about interesting aspects of randomness, but also because they can be used in analyzing experiments where assignments to treatment and control groups are decided by the toss of a coin.\n",
    "\n",
    "In this example we will simulate the number of heads in 100 tosses of a coin. The histogram of our results will give us some insight into how many heads are likely.\n",
    "\n",
    "Let’s get started on the simulation, following the steps above.\n",
    "\n",
    "\n",
    "#### Question 3.1 ####\n",
    "Create a \"coin\" object that we can use to simulate."
   ]
  },
  {
   "cell_type": "code",
   "execution_count": null,
   "metadata": {
    "deletable": false
   },
   "outputs": [],
   "source": [
    "coin = ...\n"
   ]
  },
  {
   "cell_type": "markdown",
   "metadata": {},
   "source": [
    "<details><summary><button>Click here to reveal the answer!</button></summary>\n",
    "    \n",
    "coin = ['Heads', 'Tails']\n",
    "\n",
    "</details>"
   ]
  },
  {
   "cell_type": "markdown",
   "metadata": {},
   "source": [
    "#### Question 3.2 ####\n",
    "\n",
    "Simulate 100 tosses of the coin, assuming it is fair, and count the number of heads in the result"
   ]
  },
  {
   "cell_type": "code",
   "execution_count": null,
   "metadata": {},
   "outputs": [],
   "source": [
    "outcome = ...\n",
    "num_heads = ..."
   ]
  },
  {
   "cell_type": "markdown",
   "metadata": {},
   "source": [
    "<details><summary><button>Click here to reveal the answer!</button></summary>\n",
    "    \n",
    "outcome = np.random.choice(coin, 100)\n",
    "\n",
    "num_heads = np.count_nonzero(ten_tosses == 'Heads')\n",
    "\n",
    "</details>"
   ]
  },
  {
   "cell_type": "markdown",
   "metadata": {},
   "source": [
    "#### Question 3.3 ####\n",
    "\n",
    "We now want to simulate flipping a coin 100 times to estimate the number of heads that appear in the long run. How many repetitions we want is up to us. The more we use, the more reliable our simulations will be, but the longer it will take to run the code. Python is pretty fast at tossing coins. Let’s go for 10,000 repetitions. That means we are going to do the following 10,000 times:\n",
    "\n",
    " - Toss a coin 100 times and count the number of heads.\n",
    "\n",
    "That’s a lot of tossing! It’s good that we have Python to do it for us.\n",
    "\n",
    "Complete the following code to run the full simulation."
   ]
  },
  {
   "cell_type": "code",
   "execution_count": null,
   "metadata": {},
   "outputs": [],
   "source": [
    "# An empty array to collect the simulated values\n",
    "heads = []\n",
    "\n",
    "# Repetitions sequence\n",
    "num_repetitions = 10000\n",
    "repetitions_sequence = ...\n",
    "\n",
    "# for loop\n",
    "for i in repetitions_sequence:\n",
    "    \n",
    "    # simulate one value\n",
    "    outcomes = ...\n",
    "    num_heads = ...\n",
    "    \n",
    "    # augment the collection array with the simulated value\n",
    "    heads = ... "
   ]
  },
  {
   "cell_type": "markdown",
   "metadata": {},
   "source": [
    "<details><summary><button>Click here to reveal the answer!</button></summary>\n",
    "\n",
    "heads = []\n",
    "\n",
    "num_repetitions = 10000\n",
    "repetitions_sequence = np.arange(num_repetitions)\n",
    "\n",
    "for i in repetitions_sequence:\n",
    "    \n",
    "    # simulate one value\n",
    "    outcomes = np.random.choice(coin, 100)\n",
    "    num_heads = np.count_nonzero(outcomes == 'Heads')\n",
    "    \n",
    "    # augment the collection array with the simulated value\n",
    "    heads = np.append(heads, num_heads)  \n",
    "</details>"
   ]
  },
  {
   "cell_type": "markdown",
   "metadata": {},
   "source": [
    "#### Question 3.4 ####\n",
    "\n",
    "We now want to analyze the results. Create a table with a row for each repetition containing the repetition number and the number of heads found in that run of the simulation. Then, make a histogram of the results and comment."
   ]
  },
  {
   "cell_type": "code",
   "execution_count": null,
   "metadata": {},
   "outputs": [],
   "source": [
    "simulation_results = ..."
   ]
  },
  {
   "cell_type": "markdown",
   "metadata": {},
   "source": [
    "<details><summary><button>Click here to reveal the answer!</button></summary>\n",
    "\n",
    "simulation_results = pd.DataFrame({\n",
    "    'Repetition': np.arange(1, num_repetitions + 1),\n",
    "    'Number of Heads': heads\n",
    "  }\n",
    ")\n",
    "\n",
    "simulation_results.hist('Number of Heads', bins = np.arange(30.5, 69.6, 1))\n",
    "\n",
    "</details>\n"
   ]
  },
  {
   "cell_type": "markdown",
   "metadata": {},
   "source": [
    "Great job! :D You're finished with lab 9!\n",
    "\n",
    "**Acknowledgement**: The materials for this lab are based on the [data8](http://data8.org/) course at UC Berkeley and [this book](http://genomicsclass.github.io/book/pages/multiple_testing.html) for the multiple testing example."
   ]
  },
  {
   "cell_type": "code",
   "execution_count": null,
   "metadata": {},
   "outputs": [],
   "source": []
  }
 ],
 "metadata": {
  "anaconda-cloud": {},
  "kernelspec": {
   "display_name": "Python 3",
   "language": "python",
   "name": "python3"
  },
  "language_info": {
   "codemirror_mode": {
    "name": "ipython",
    "version": 3
   },
   "file_extension": ".py",
   "mimetype": "text/x-python",
   "name": "python",
   "nbconvert_exporter": "python",
   "pygments_lexer": "ipython3",
   "version": "3.7.7"
  }
 },
 "nbformat": 4,
 "nbformat_minor": 1
}
