{
 "cells": [
  {
   "cell_type": "markdown",
   "metadata": {},
   "source": [
    "# Challenge 3: Sequence alignment\n",
    "\n",
    "## BIOS 26211 winter 2023\n",
    "\n",
    "## Your Name"
   ]
  },
  {
   "cell_type": "code",
   "execution_count": 1,
   "metadata": {},
   "outputs": [],
   "source": [
    "import matplotlib.pyplot as plt\n",
    "import numpy as np"
   ]
  },
  {
   "cell_type": "markdown",
   "metadata": {},
   "source": [
    "## Part 1. Global alignment using the Needleman-Wunsch algorithm\n",
    "\n",
    "Follow the pseudocode in the link here https://en.wikipedia.org/wiki/Needleman%E2%80%93Wunsch_algorithm to implement the N-W algorithm. There are two separate parts of the algorithm: 1) filling the alignment matrix with scores and traceback directions, and 2) tracing back the alignment starting from the last two characters and printing out the result. You will implement those in two separate functions and test them before using them to align real protein sequences. \n",
    "\n",
    "### 1.1 N-W alignment scoring matrix\n",
    "\n",
    "First, write a function to caclulate the alignment scores and traceback matrix. Data structures you will need: 1) scoring matrix and 2) the traceback matrix, in which every cell contains an indication of which of the three options (insert, delete, match) resulted in the score for that cell. Remember that the matrices need an extra row and column to accommodate gaps before the first letter in either sequence. \n",
    "\n",
    "* Inputs: the two sequences (as strings/vectors of characters) and the gap penalty. \n",
    "* Use binary scoring: +1 for a match and 0 for a mismatch, plus the provided gap penalty.\n",
    "* Initialize the scoring matrix with gap penalties on the first row and the first column\n",
    "* Loop over all the rows (length of sequence 1):\n",
    "    * Loop over all the columns (length of sequence 2):\n",
    "        * Calculate the three scores for the current cell from the three options: matching the letters (diagonal move), gap in sequence 1 (vertical move), or gap in sequence 2 (horizontal move)\n",
    "        * Choose the maximum score and assign it to the current cell of the scoring matrix\n",
    "        * Assign the indicator for which of the options was best to the current cell of the traceback matrix\n",
    "* Output: the traceback matrix and the optimal alignment score. \n",
    "\n",
    "To test the function, calculate the alignment for two sequences given below.  Set the gap penalty of zero (gaps and mismatches are free, maximize matches!) and print out the resulting traceback matrix to check that it looks reasonable. The correct optimal alignment score is 4. Then set the gap penalty to 1, report the effect on the alignment matrix and the score, and print out the traceback matrix to check that it looks reasonable. The correct optimal alignment score is 2."
   ]
  },
  {
   "cell_type": "code",
   "execution_count": 4,
   "metadata": {},
   "outputs": [],
   "source": [
    "seq1 = 'HANGAR'\n",
    "seq2 = 'CHANGE'"
   ]
  },
  {
   "cell_type": "markdown",
   "metadata": {},
   "source": [
    "### 1.2 Global alignment traceback\n",
    "\n",
    "Implement the second half of the N-W algorithm. \n",
    "\n",
    "* Inputs: the traceback matrix (with characters or numbers representing the optimal choice made in every cell) and the two sequences. \n",
    "* Do: starting from the southeast corner of the traceback matrix (the cell in the last row and last column), record the optimal choice by either matching the two letters (diagonal move), matching a letter in sequence 1 with a gap, or matching a letter in sequence 2 with a gap. \n",
    "* Record this into a two-row character matrix, with the first row containing the first sequence with gaps indicated by dashes '-' and the second row containing the second sequence with gaps indicated by dashes '-'\n",
    "* Count the number of identical matches \n",
    "* Return the character matrix indicating alignment and the number of identical matches\n",
    "\n",
    "Test the function using the same two pairs of test sequences, with gap penalty of 0 and then 1. The correct alignment with gap penalty both 0 and 1 should contain 4 exact matches and look like this:\n",
    "\n",
    "-HANGAR  \n",
    "CHANGE-\n",
    "\n",
    "OR\n",
    "\n",
    "-HANGAR  \n",
    "CHANG-E\n",
    "\n",
    "\n",
    "The correct alignment with gap penalty 2 or higher should contain no exact matches and look like this:\n",
    "\n",
    "HANGAR  \n",
    "CHANGE"
   ]
  },
  {
   "cell_type": "code",
   "execution_count": null,
   "metadata": {},
   "outputs": [],
   "source": []
  },
  {
   "cell_type": "markdown",
   "metadata": {},
   "source": [
    "## Part 2: Local alignment using the Smith-Waterman algorithm\n",
    "\n",
    "See the pseudocode and demonstration of the algorithm here: https://en.wikipedia.org/wiki/Smith%E2%80%93Waterman_algorithm \n",
    "\n",
    "### 2.1 S-W scoring matrix\n",
    "\n",
    "Write a function to calculate the scoring matrix following the Smith-Waterman algorithm, which can be done by modifying the N-W function; *use the score of 2 for a match and -1 for mismatch*\n",
    "\n",
    "* Input: two sequences and the gap penalty\n",
    "* Calculate: initialize the same two matrices and then go through each cell using a double for loop, assigning the maximum of the three options in the Needleman-Wunsch algorithm with 2 for an exact match, -1 for a mismatch, a variable gap penalty for an insertion, plus the fourth option of 0 (so a negative number is never assigned)\n",
    "* Output: the traceback matrix and the scoring matrix (since the traceback starts at the maximum value in the scoring matrix.\n",
    "\n",
    "To test the function, align the short sequence 'QVDRLITGRL' with the sequences found in \"Cov_spike_sequences.txt\", loaded below into string variables Cov1, Cov2, and Cov3. They are sequences of three homologous S (spike) proteins from three different human coronaviruses: SARS-CoV-2, HCov-229E, and HCov-OC43, respectively. The test sequence comes from one of them, so report which one has the perfect match."
   ]
  },
  {
   "cell_type": "code",
   "execution_count": 3,
   "metadata": {},
   "outputs": [],
   "source": [
    "test_seq = 'QVDRLITGRL'\n",
    "Cov1, Cov2, Cov3 = np.genfromtxt(\"data/Cov_spike_sequences.txt\", dtype=str, delimiter = None)"
   ]
  },
  {
   "cell_type": "markdown",
   "metadata": {},
   "source": [
    "### 2.2. Local alignment traceback\n",
    "\n",
    "Write a function to output the alignment based the Smith-Waterman traceback matrix (or the scoring matrix); this requires only a minor modification of the N-W traceback function from part 1.2.\n",
    "\n",
    "* Input: scoring matrix, traceback matrix, two sequences\n",
    "* Do: the same traceback as in part 1.2, starting at the cell with the maximum score and continuing until reaching the score of zero.  \n",
    "* Output: local alignment in the same format as in part 1.2 \n",
    "\n",
    "To test the function, align the test sequence 'QVDRLITGRL' with the sequences of three different S (spike) proteins from three different human coronaviruses found in \"Cov_spike_sequences.txt\", loaded below into string variables Cov1, Cov2, and Cov3. The test sequence comes from one of them, so it should be a perfect match."
   ]
  },
  {
   "cell_type": "code",
   "execution_count": null,
   "metadata": {},
   "outputs": [],
   "source": []
  },
  {
   "cell_type": "markdown",
   "metadata": {},
   "source": [
    "Your answers here"
   ]
  },
  {
   "cell_type": "markdown",
   "metadata": {},
   "source": [
    "## Part 3: Alignment of coronavirus spike sequences\n",
    "\n",
    "Now you can use your functions to run alignments on actual sequences. \n",
    "In the script below, three sequences are read from the file \"Cov_spike_sequences.txt\" and assigned to string variables Cov1, Cov2, and Cov3. They are sequences of three homologous S (spike) proteins from three different human coronaviruses: SARS-CoV-2, HCov-229E, and HCov-OC43, respectively. \n",
    "\n",
    "\n",
    "Go to BLAST http://blast.ncbi.nlm.nih.gov/Blast.cgi select protein BLAST, click align 2 or more sequences, and align all three pairs of the three spike protein sequences, using the following accession numbers: YP_009724390.1 QNT54756.1 YP_009555241.1 (corresponding to Cov1, Cov2, Cov3, respectively). Note that the server uses a *local* alignment algorithm, and may find multiple regions of alignment within the sequences and exclude low-similarity regions. In the results, click on Alignment tab and record the number and fraction of identities in each aligned region. \n",
    "\n",
    "\n",
    "### 3.1 Global alignmet\n",
    "\n",
    "Using your Needleman-Wunsch functions, align all three possible pairs of sequences using gap penalties of 0, 1, 2, 3 and report the number of idenitical letters in each one. Compare the number of identical matches returned by the BLAST server (in all the aligned regions) and the ones obtained by your own code; which gap penalty agrees best with NCBI? "
   ]
  },
  {
   "cell_type": "code",
   "execution_count": null,
   "metadata": {},
   "outputs": [],
   "source": []
  },
  {
   "cell_type": "markdown",
   "metadata": {},
   "source": [
    "Answers here"
   ]
  },
  {
   "cell_type": "markdown",
   "metadata": {},
   "source": [
    "### 3.2 Local alignment\n",
    "\n",
    "Use your Smith-Waterman functions to find the best local alignment of the three sequences Cov1, Cov2, and Cov3 with each other in all three paired combinations with three different gap penalties: 1, 2, and 3 (keep the match score at 2 and the mismatch penalty at -1).\n",
    "\n",
    "Compare your results with the results returned by aligning the three sequences using the NCBI BLAST server, in terms of both the length of aligned regions and the number (or fraciton) of identities. Report which of the gap penalty values return results that are closest the BLAST-generated alignments."
   ]
  },
  {
   "cell_type": "code",
   "execution_count": null,
   "metadata": {},
   "outputs": [],
   "source": []
  },
  {
   "cell_type": "markdown",
   "metadata": {},
   "source": [
    "Answers here"
   ]
  }
 ],
 "metadata": {
  "kernelspec": {
   "display_name": "Python 3 (ipykernel)",
   "language": "python",
   "name": "python3"
  },
  "language_info": {
   "codemirror_mode": {
    "name": "ipython",
    "version": 3
   },
   "file_extension": ".py",
   "mimetype": "text/x-python",
   "name": "python",
   "nbconvert_exporter": "python",
   "pygments_lexer": "ipython3",
   "version": "3.9.12"
  }
 },
 "nbformat": 4,
 "nbformat_minor": 4
}
